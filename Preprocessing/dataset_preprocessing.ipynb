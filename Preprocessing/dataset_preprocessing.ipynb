{
 "cells": [
  {
   "cell_type": "markdown",
   "id": "3c65feee",
   "metadata": {},
   "source": [
    "# Preprocessing of Review Texts for Transformer-Based Keyword Extraction"
   ]
  },
  {
   "cell_type": "markdown",
   "id": "bb9e72c8",
   "metadata": {},
   "source": [
    "This section focuses on applying essential **text preprocessing** to a collection of movie review datasets located in the `Reviews_By_Movie` folder. Each file in the folder is a `.pkl` dataset containing raw user reviews for a specific movie, including:\n",
    "\n",
    "- The 9 *Star Wars* episodes: `SW_Episode1.pkl` to `SW_Episode9.pkl`  \n",
    "- Other films: `HarryPotter.pkl`, `IndianaJones.pkl`, `LaLaLand.pkl`, `Parasite.pkl`, `GoodBadUgly.pkl`, `Oppenheimer.pkl`  \n",
    "\n",
    "For each dataset, a new column called `Preprocessed_Review` will be created, containing the **cleaned and normalized version** of the original review text.\n",
    "\n",
    "### Context: Transformer-based Keyword Extraction\n",
    "\n",
    "Since these reviews will be later processed by a Transformer-based keyword extraction model (specifically **KeyBERT** with the `all-MiniLM-L6-v2` embedding backend), the preprocessing is deliberately **minimal but targeted**.\n",
    "\n",
    "Transformers internally handle many aspects like tokenization, subword modeling, casing, and truncation. Therefore, the goal of this preprocessing is not to reshape the text dramatically, but to improve its quality and consistency, especially for keyword selection.\n",
    "\n",
    "### Preprocessing Steps\n",
    "\n",
    "\n",
    "#### 1. **Punctuation Spacing Normalization**\n",
    "Ensures punctuation marks (e.g., `.`, `!`, `?`) are followed by a space **only if** the next character is a word character.\n",
    "\n",
    "- `\"hello.great\"` → `\"hello. great\"`\n",
    "- Preserves numbers: `$300,000.00` remains unchanged.\n",
    "\n",
    "#### 2. **Typo Correction**\n",
    "Typo correction is handled using the `autocorrect` library, with an enhanced strategy to deal with common limitations of naive spell-checking.  \n",
    "Special attention is paid to **letter repetitions**, which often occur in user-generated reviews (e.g., `\"loooong\"`, `\"baaad\"`, `\"amazzing\"`).\n",
    "\n",
    "**How it works:**\n",
    "- **Valid English words** (based on frequency in the `wordfreq` lexicon) are left unchanged.\n",
    "- **Whitespace is normalized** to collapse multiple spaces.\n",
    "- **Capitalized words** not at the beginning of a sentence are assumed to be **proper nouns** and left untouched.\n",
    "- Words with **3+ repeated letters** are reduced to 2, then to 1 if necessary, checking at each step for validity.\n",
    "- If still unrecognized, the word is passed to `autocorrect` as a last resort.\n",
    "\n",
    "This avoids common pitfalls such as:\n",
    "- `\"good\"` being miscorrected to `\"god\"`\n",
    "- `\"baad\"` corrected to `\"band\"` instead of `\"bad\"`\n",
    "- `\"stunnnning\"` → `\"stunning\"` (correctly fixed)\n",
    "\n",
    "#### 3. **Nonsense and Empty Review Removal**\n",
    "Short or unintelligible reviews (e.g., only numbers, emojis, or symbols) are removed using a character ratio heuristic.  \n",
    "This helps eliminate non-informative inputs from downstream analysis.\n",
    "\n",
    "### Why **Lemmatization Is Not Applied**\n",
    "\n",
    "Although lemmatization (e.g., `running` → `run`) is common in traditional NLP pipelines, it is **intentionally omitted** here.\n",
    "\n",
    "#### BERT does not need it:\n",
    "Transformer models like BERT are pre-trained on raw, natural text and already handle semantic normalization via **subword tokenization**. Lemmatization can **break expected token patterns**.  \n",
    "For instance:\n",
    "  - `\"was\"` → `\"be\"`  \n",
    "  - `\"actors\"` → `\"actor\"`  \n",
    "\n",
    "These changes may reduce model performance in embedding generation.\n",
    "\n",
    "#### KeyBERT prefers natural text:\n",
    "KeyBERT uses **BERT embeddings directly**, and performs best with text that reflects how humans write. Lemmatization can distort the input and degrade semantic richness.\n",
    "\n",
    "> **Note**: Stop word removal is **not performed here**, as it is handled by the **KeyBERT extensions** during keyword scoring.  \n",
    "> This keeps the preprocessing flexible and model-agnostic.\n"
   ]
  },
  {
   "cell_type": "markdown",
   "id": "c234e166",
   "metadata": {},
   "source": [
    "## Setup: Installing and Importing Required Libraries"
   ]
  },
  {
   "cell_type": "code",
   "execution_count": 8,
   "id": "603feec8",
   "metadata": {},
   "outputs": [
    {
     "name": "stdout",
     "output_type": "stream",
     "text": [
      "pandas is already installed.\n",
      "spacy is already installed.\n",
      "autocorrect is already installed.\n",
      "wordfreq is already installed.\n",
      "tqdm is already installed.\n"
     ]
    }
   ],
   "source": [
    "import subprocess\n",
    "import sys\n",
    "\n",
    "# List of required packages\n",
    "required_packages = [\n",
    "    \"pandas\",                         \n",
    "    \"spacy\",           \n",
    "    \"autocorrect\",\n",
    "    \"wordfreq\",\n",
    "    \"tqdm\"\n",
    "]\n",
    "\n",
    "def install_package(package):\n",
    "    \"\"\"Installs a package using pip if it's not already installed.\"\"\"\n",
    "    try:\n",
    "        __import__(package)\n",
    "        print(f\"{package} is already installed.\")\n",
    "    except ImportError:\n",
    "        print(f\"Installing {package}...\")\n",
    "        subprocess.check_call([sys.executable, \"-m\", \"pip\", \"install\", package])\n",
    "\n",
    "# Check and install missing packages\n",
    "for package in required_packages:\n",
    "    install_package(package)\n"
   ]
  },
  {
   "cell_type": "code",
   "execution_count": 9,
   "id": "55fd368c",
   "metadata": {},
   "outputs": [],
   "source": [
    "# Standard imports for preprocessing\n",
    "import pandas as pd\n",
    "\n",
    "# Text processing\n",
    "import re\n",
    "from autocorrect import Speller\n",
    "from wordfreq import zipf_frequency # type: ignore\n",
    "\n",
    "# spaCy for NLP tasks\n",
    "import spacy\n",
    "\n",
    "# Load the English language model in spaCy (download if not present)\n",
    "try:\n",
    "    nlp = spacy.load(\"en_core_web_sm\")\n",
    "except OSError:\n",
    "    print(\"Downloading 'en_core_web_sm' model...\")\n",
    "    subprocess.check_call([sys.executable, \"-m\", \"spacy\", \"download\", \"en_core_web_sm\"])\n",
    "    nlp = spacy.load(\"en_core_web_sm\")\n",
    "\n",
    "# tqdm for progress bars\n",
    "from tqdm import tqdm\n",
    "\n",
    "# os library for file operations\n",
    "import os"
   ]
  },
  {
   "cell_type": "markdown",
   "id": "c5398d12",
   "metadata": {},
   "source": [
    "### Importing the Custom Preprocessor\n",
    "\n",
    "This cell imports the `Preprocessor` class from the custom `preprocessing.py` module.  \n",
    "The class encapsulates all the text cleaning operations required to prepare review texts before passing them to a Transformer-based model.  \n",
    "It provides methods for typo correction, punctuation normalization and filtering of nonsensical content, and will be applied to each review in the dataset."
   ]
  },
  {
   "cell_type": "code",
   "execution_count": 10,
   "id": "104a6a44",
   "metadata": {},
   "outputs": [],
   "source": [
    "from preprocessing import Preprocessor  # Custom preprocessor module"
   ]
  },
  {
   "cell_type": "markdown",
   "id": "5f76c310",
   "metadata": {},
   "source": [
    "## Batch Preprocessing of Movie Review Datasets\n",
    "\n",
    "In this step, we apply the custom `Preprocessor` class to all movie review datasets stored in the `Review_By_Movie` folder.  \n",
    "Each `.pkl` file corresponds to a different movie and contains a column named `Review` with raw user reviews.\n",
    "\n",
    "For each dataset, the following operations are performed:\n",
    "\n",
    "- The reviews are preprocessed using the `Preprocessor.preprocess_review()` pipeline, which includes:\n",
    "  - Typo correction with repetition reduction and intelligent spell-checking\n",
    "  - Punctuation spacing normalization to ensure clean token boundaries\n",
    "  - Nonsense or empty review filtering, based on character composition\n",
    "\n",
    "- The cleaned review is stored in a new column called `Preprocessed_Review`.\n",
    "\n",
    "- Any rows where preprocessing failed (e.g., unintelligible or empty reviews) are removed.\n",
    "\n",
    "- The updated dataset is saved back to disk, overwriting the original file.\n",
    "\n",
    "- A summary is printed showing the number of reviews before and after preprocessing. Optionally, the discarded reviews can be inspected for transparency.\n",
    "\n",
    ">Note: Lemmatization is not applied, since the downstream model (KeyBERT) is based on Transformer embeddings, which already handle word normalization internally. Lemmatization may reduce semantic richness and interfere with subword tokenization."
   ]
  },
  {
   "cell_type": "code",
   "execution_count": null,
   "id": "c3fcd9ca",
   "metadata": {},
   "outputs": [
    {
     "name": "stderr",
     "output_type": "stream",
     "text": [
      "Processing GoodBadUgly.pkl: 100%|██████████| 1430/1430 [06:11<00:00,  3.85it/s]\n"
     ]
    },
    {
     "name": "stdout",
     "output_type": "stream",
     "text": [
      "\n",
      "--- Removed reviews from GoodBadUgly.pkl ---\n",
      "[Review ID: 40764] Exelent ........\n",
      "...\n",
      "....\n",
      "....\n",
      ".....\n",
      "......\n",
      "......\n",
      "\n",
      "GoodBadUgly.pkl: 1430 → 1429 valid reviews after preprocessing\n",
      "\n"
     ]
    },
    {
     "name": "stderr",
     "output_type": "stream",
     "text": [
      "Processing Parasite.pkl: 100%|██████████| 3702/3702 [10:23<00:00,  5.94it/s] \n"
     ]
    },
    {
     "name": "stdout",
     "output_type": "stream",
     "text": [
      "Parasite.pkl: 3702 → 3702 valid reviews after preprocessing\n",
      "\n"
     ]
    },
    {
     "name": "stderr",
     "output_type": "stream",
     "text": [
      "Processing SW_Episode2.pkl: 100%|██████████| 3880/3880 [18:52<00:00,  3.43it/s]  \n"
     ]
    },
    {
     "name": "stdout",
     "output_type": "stream",
     "text": [
      "SW_Episode2.pkl: 3880 → 3880 valid reviews after preprocessing\n",
      "\n"
     ]
    },
    {
     "name": "stderr",
     "output_type": "stream",
     "text": [
      "Processing SW_Episode3.pkl: 100%|██████████| 3876/3876 [18:42<00:00,  3.45it/s] \n"
     ]
    },
    {
     "name": "stdout",
     "output_type": "stream",
     "text": [
      "\n",
      "--- Removed reviews from SW_Episode3.pkl ---\n",
      "[Review ID: 15381] Unbearably dry writing with poor acting delivery can't match the magic of the originals. CGI shines.Screenplay...................................... 2 / 10 Acting............................................... 3 Cinematography/VFX............................ 10 Sound............................................... 10 Editing................................................ 3 Music....................................................... 8 Timeless Utility................................... 4 Total.................................................... 40 / 70 ~= 5.7 (rounded to 6) Verdict................................................. Enjoyable for some fans of the series.\n",
      "\n",
      "SW_Episode3.pkl: 3876 → 3875 valid reviews after preprocessing\n",
      "\n"
     ]
    },
    {
     "name": "stderr",
     "output_type": "stream",
     "text": [
      "Processing Oppenheimer.pkl: 100%|██████████| 4375/4375 [23:38<00:00,  3.08it/s]  \n"
     ]
    },
    {
     "name": "stdout",
     "output_type": "stream",
     "text": [
      "\n",
      "--- Removed reviews from Oppenheimer.pkl ---\n",
      "[Review ID: 45716] I really liked Oppenheimer. But! I was kinda disappointed by the atomic bomb scene because i thought it would be more impressive! He should have actually made it more like a real nuke, that's what i think.... . . . . . . . . . . .. . .. . . . . . . . . . . . . . . . . . . . . . .. . .. . .. . .. . . .. . . . . . .. .. . . . . . . . .. . . . . .. . . . . . . . . . . . . . . . . . .. . . . .. .. . . .. . . .. . .. .. . . . . . .. . .. . . . . . . . .. . .. .. . . . .. . . . . . . .. . . . .. . . . . . . . .. . . . . . . . . . . .. .. . .. . . . .. .. .. . . . . . .. . . . . . . . . . . . . . . ..\n",
      "\n",
      "Oppenheimer.pkl: 4375 → 4374 valid reviews after preprocessing\n",
      "\n"
     ]
    },
    {
     "name": "stderr",
     "output_type": "stream",
     "text": [
      "Processing SW_Episode1.pkl: 100%|██████████| 4094/4094 [18:54<00:00,  3.61it/s] \n"
     ]
    },
    {
     "name": "stdout",
     "output_type": "stream",
     "text": [
      "SW_Episode1.pkl: 4094 → 4094 valid reviews after preprocessing\n",
      "\n"
     ]
    },
    {
     "name": "stderr",
     "output_type": "stream",
     "text": [
      "Processing IndianaJones.pkl: 100%|██████████| 1197/1197 [05:04<00:00,  3.94it/s]\n"
     ]
    },
    {
     "name": "stdout",
     "output_type": "stream",
     "text": [
      "IndianaJones.pkl: 1197 → 1197 valid reviews after preprocessing\n",
      "\n"
     ]
    },
    {
     "name": "stderr",
     "output_type": "stream",
     "text": [
      "Processing SW_Episode4.pkl: 100%|██████████| 2158/2158 [08:14<00:00,  4.37it/s]\n"
     ]
    },
    {
     "name": "stdout",
     "output_type": "stream",
     "text": [
      "\n",
      "--- Removed reviews from SW_Episode4.pkl ---\n",
      "[Review ID: 2140] The Wild West and samurai in space. Williams' score, Lucas' direction, and a phenomenal cast captivate.Screenplay...................................... 10 / 10 Acting...............................................9 Cinematography............................... 10 Sound................................................... 9 Editing................................................ 8 Score...................................................... 10 Timeless Utility................................... 9 Total.................................................... 65 / 70 ~= 9.3 (rounded to 9) Verdict................................................. Canonical.\n",
      "\n",
      "SW_Episode4.pkl: 2158 → 2157 valid reviews after preprocessing\n",
      "\n"
     ]
    },
    {
     "name": "stderr",
     "output_type": "stream",
     "text": [
      "Processing SW_Episode5.pkl: 100%|██████████| 1507/1507 [05:23<00:00,  4.66it/s]\n"
     ]
    },
    {
     "name": "stdout",
     "output_type": "stream",
     "text": [
      "\n",
      "--- Removed reviews from SW_Episode5.pkl ---\n",
      "[Review ID: 2351] Romance among the stars. Hope lost and miraculously scavenged. One of the biggest plot twists ever.Screenplay...................................... 10 / 10 Acting............................................... 9 Cinematography................................ 10 Sound................................................. 10 Editing................................................ 10 Score.................................................... 10 Timeless Utility................................... 10 Total.................................................... 69 / 70 ~= 9.9 (which I rounded to 10) Verdict................................................. Timeless Masterpiece.\n",
      "\n",
      "[Review ID: 2520] Star wars...............................................................................\n",
      "\n",
      "SW_Episode5.pkl: 1507 → 1505 valid reviews after preprocessing\n",
      "\n"
     ]
    },
    {
     "name": "stderr",
     "output_type": "stream",
     "text": [
      "Processing SW_Episode7.pkl: 100%|██████████| 4860/4860 [26:52<00:00,  3.01it/s]  \n"
     ]
    },
    {
     "name": "stdout",
     "output_type": "stream",
     "text": [
      "SW_Episode7.pkl: 4860 → 4860 valid reviews after preprocessing\n",
      "\n"
     ]
    },
    {
     "name": "stderr",
     "output_type": "stream",
     "text": [
      "Processing SW_Episode6.pkl: 100%|██████████| 1017/1017 [04:38<00:00,  3.65it/s]\n"
     ]
    },
    {
     "name": "stdout",
     "output_type": "stream",
     "text": [
      "\n",
      "--- Removed reviews from SW_Episode6.pkl ---\n",
      "[Review ID: 4351] Fun finale to the Original Trilogy with quirkiness the other two movies lack. Cast gels well.Screenplay...................................... 7 / 10 Acting............................................... 8 Cinematography................................ 8 Sound................................................. 9 Editing................................................ 6 Music.................................................... 10 Timeless Utility................................... 7 Total.................................................... 55 / 70 ~= 7.9 (rounded to 8) Verdict................................................. Recommended.\n",
      "\n",
      "SW_Episode6.pkl: 1017 → 1016 valid reviews after preprocessing\n",
      "\n"
     ]
    },
    {
     "name": "stderr",
     "output_type": "stream",
     "text": [
      "Processing LaLaLand.pkl: 100%|██████████| 2369/2369 [09:05<00:00,  4.34it/s]\n"
     ]
    },
    {
     "name": "stdout",
     "output_type": "stream",
     "text": [
      "\n",
      "--- Removed reviews from LaLaLand.pkl ---\n",
      "[Review ID: 48466] Such a Great film!!!!!!!!!!!!!!!!!!!!!!!!!!!!!!!!!!!!\n",
      "\n",
      "[Review ID: 48947] A perfect blend of music, sights, sounds, and brilliant performances.\n",
      "What more could anyone ask for?Screenplay...................................... 10 / 10 Acting............................................... 10 Cinematography............................... 10 Sound................................................... 10 Editing................................................ 10 Score.................................................... 10 Timeless Utility................................. 10\n",
      "Total.................................................... 70 / 70 = 10\n",
      "Verdict................................................. Masterpiece\n",
      "\n",
      "LaLaLand.pkl: 2369 → 2367 valid reviews after preprocessing\n",
      "\n"
     ]
    },
    {
     "name": "stderr",
     "output_type": "stream",
     "text": [
      "Processing HarryPotter.pkl: 100%|██████████| 2059/2059 [08:00<00:00,  4.29it/s]\n"
     ]
    },
    {
     "name": "stdout",
     "output_type": "stream",
     "text": [
      "\n",
      "--- Removed reviews from HarryPotter.pkl ---\n",
      "[Review ID: 43169] 👌🏻👌🏻👌🏻👌🏻👌🏻👌🏻👌🏻👌🏻👌🏻👌🏻👌🏻👌🏻👌🏻👌🏻👌🏻👌🏻👌🏻👌🏻👌🏻👌🏻👌🏻\n",
      "\n",
      "HarryPotter.pkl: 2059 → 2058 valid reviews after preprocessing\n",
      "\n"
     ]
    },
    {
     "name": "stderr",
     "output_type": "stream",
     "text": [
      "Processing SW_Episode8.pkl: 100%|██████████| 6909/6909 [40:34<00:00,  2.84it/s]   \n"
     ]
    },
    {
     "name": "stdout",
     "output_type": "stream",
     "text": [
      "\n",
      "--- Removed reviews from SW_Episode8.pkl ---\n",
      "[Review ID: 22795] Worst piece of dumpster trash I've ever seen!!!!!!!!!!!!!!!!!!!!!!!!!!!!!!!!!!!!!!!!!!!!!!!!!!!!!!!!!!!!!!!!!!!!!!!!!!!!!!!!!!!!!!!!!!!!!!!!!!!!!!!!!!!!!!!!!!!\n",
      "\n",
      "[Review ID: 23910] You've lost the idea.. Very Shame...\n",
      ".................................................................................................................................................................................................................................................................................................................................................................................................\n",
      "\n",
      "[Review ID: 24725] Trash!!!!!!!!!!!!!!!!!!!!!!!!!!!!!!!!!!!!!!!!!!!!!!!!!!!!!!!!!!!!!!!!!!!!!!\n",
      "\n",
      "[Review ID: 25595] Bad movie__________________________________________________________________________________________________________________________________________________________________________________________________________________________________________________________________________________________________________________________________________________________________\n",
      "\n",
      "[Review ID: 26225] Trash!!!!!!!!!!!!!!!!!!!!!!!!!!!!!!!!!!!!!!!!!!!!!!!!!!!!!!!!!!!!!!!!!!!!!!!!!!!!!!!!!!!!!!!!!!!!!!!!!!!!!!!!!!!!\n",
      "\n",
      "SW_Episode8.pkl: 6909 → 6904 valid reviews after preprocessing\n",
      "\n"
     ]
    },
    {
     "name": "stderr",
     "output_type": "stream",
     "text": [
      "Processing SW_Episode9.pkl: 100%|██████████| 7891/7891 [21:13<00:00,  6.20it/s]  "
     ]
    },
    {
     "name": "stdout",
     "output_type": "stream",
     "text": [
      "SW_Episode9.pkl: 7891 → 7891 valid reviews after preprocessing\n",
      "\n"
     ]
    },
    {
     "name": "stderr",
     "output_type": "stream",
     "text": [
      "\n"
     ]
    }
   ],
   "source": [
    "# Folder path\n",
    "folder_path = \"../Dataset/Reviews_By_Movie\"\n",
    "\n",
    "# Initialize preprocessor\n",
    "pre = Preprocessor()\n",
    "\n",
    "# Process each .pkl file in the folder\n",
    "for filename in os.listdir(folder_path):\n",
    "    if filename.endswith(\".pkl\"):\n",
    "        file_path = os.path.join(folder_path, filename)\n",
    "\n",
    "        # Load dataset\n",
    "        df = pd.read_pickle(file_path)\n",
    "        original_count = len(df)\n",
    "\n",
    "        # Apply preprocessing\n",
    "        tqdm.pandas(desc=f\"Processing {filename}\")\n",
    "        df[\"Preprocessed_Review\"] = df[\"Review_Text\"].progress_apply(pre.preprocess_review)\n",
    "\n",
    "        # Identify and print removed rows\n",
    "        removed = df[df[\"Preprocessed_Review\"].isna()]\n",
    "        if not removed.empty:\n",
    "            print(f\"\\n--- Removed reviews from {filename} ---\")\n",
    "            for idx, row in removed.iterrows():\n",
    "                print(f\"[Review ID: {idx}] {row['Review_Text']}\\n\")\n",
    "\n",
    "        # Drop rows where preprocessing returned None\n",
    "        df.dropna(subset=[\"Preprocessed_Review\"], inplace=True)\n",
    "        new_count = len(df)\n",
    "\n",
    "        # Save back to disk (overwrite)\n",
    "        df.to_pickle(file_path)\n",
    "\n",
    "        # Summary\n",
    "        print(f\"{filename}: {original_count} → {new_count} valid reviews after preprocessing\\n\")"
   ]
  },
  {
   "cell_type": "code",
   "execution_count": 12,
   "id": "6c388478",
   "metadata": {},
   "outputs": [
    {
     "data": {
      "text/html": [
       "<div>\n",
       "<style scoped>\n",
       "    .dataframe tbody tr th:only-of-type {\n",
       "        vertical-align: middle;\n",
       "    }\n",
       "\n",
       "    .dataframe tbody tr th {\n",
       "        vertical-align: top;\n",
       "    }\n",
       "\n",
       "    .dataframe thead th {\n",
       "        text-align: right;\n",
       "    }\n",
       "</style>\n",
       "<table border=\"1\" class=\"dataframe\">\n",
       "  <thead>\n",
       "    <tr style=\"text-align: right;\">\n",
       "      <th></th>\n",
       "      <th>Review_ID</th>\n",
       "      <th>Movie_ID</th>\n",
       "      <th>Movie_Title</th>\n",
       "      <th>Rating</th>\n",
       "      <th>Review_Date</th>\n",
       "      <th>Review_Title</th>\n",
       "      <th>Review_Text</th>\n",
       "      <th>Helpful_Votes</th>\n",
       "      <th>Total_Votes</th>\n",
       "      <th>Preprocessed_Review</th>\n",
       "    </tr>\n",
       "  </thead>\n",
       "  <tbody>\n",
       "    <tr>\n",
       "      <th>39894</th>\n",
       "      <td>4931608</td>\n",
       "      <td>tt0060196</td>\n",
       "      <td>The Good, the Bad and the Ugly</td>\n",
       "      <td>9.0</td>\n",
       "      <td>13 June 2019</td>\n",
       "      <td>Good movie</td>\n",
       "      <td>If The Good The Bad and The Ugly was not 2hrs ...</td>\n",
       "      <td>0.0</td>\n",
       "      <td>1.0</td>\n",
       "      <td>If The Good The Bad and The Ugly was not 2hrs ...</td>\n",
       "    </tr>\n",
       "    <tr>\n",
       "      <th>39895</th>\n",
       "      <td>0092838</td>\n",
       "      <td>tt0060196</td>\n",
       "      <td>The Good, the Bad and the Ugly</td>\n",
       "      <td>NaN</td>\n",
       "      <td>23 April 2004</td>\n",
       "      <td>Clint, Lee, and Eli</td>\n",
       "      <td>In his third and final go around as the laconi...</td>\n",
       "      <td>2.0</td>\n",
       "      <td>3.0</td>\n",
       "      <td>In his third and final go around as the iconic...</td>\n",
       "    </tr>\n",
       "    <tr>\n",
       "      <th>39896</th>\n",
       "      <td>0092840</td>\n",
       "      <td>tt0060196</td>\n",
       "      <td>The Good, the Bad and the Ugly</td>\n",
       "      <td>NaN</td>\n",
       "      <td>28 April 2004</td>\n",
       "      <td>John Wayne and Gene Autrey can go lasso themse...</td>\n",
       "      <td>Clint Eastwood and Sergio Leone OWN the \"Ameri...</td>\n",
       "      <td>0.0</td>\n",
       "      <td>1.0</td>\n",
       "      <td>Clint Eastwood and Sergio Leone OWN the \"Ameri...</td>\n",
       "    </tr>\n",
       "    <tr>\n",
       "      <th>39897</th>\n",
       "      <td>2311851</td>\n",
       "      <td>tt0060196</td>\n",
       "      <td>The Good, the Bad and the Ugly</td>\n",
       "      <td>NaN</td>\n",
       "      <td>17 September 2010</td>\n",
       "      <td>Never seen so many men, wasted so badly</td>\n",
       "      <td>\"Nostalgia is a product of dissatisfaction and...</td>\n",
       "      <td>11.0</td>\n",
       "      <td>18.0</td>\n",
       "      <td>\"Nostalgia is a product of dissatisfaction and...</td>\n",
       "    </tr>\n",
       "    <tr>\n",
       "      <th>39898</th>\n",
       "      <td>0092820</td>\n",
       "      <td>tt0060196</td>\n",
       "      <td>The Good, the Bad and the Ugly</td>\n",
       "      <td>8.0</td>\n",
       "      <td>16 November 2003</td>\n",
       "      <td>A Classic Western Movie With an Unforgettable ...</td>\n",
       "      <td>Three bad guys  the chaser of rewards Joe (Cl...</td>\n",
       "      <td>10.0</td>\n",
       "      <td>19.0</td>\n",
       "      <td>Three bad guys the chaser of rewards Joe (Clin...</td>\n",
       "    </tr>\n",
       "    <tr>\n",
       "      <th>39899</th>\n",
       "      <td>0092672</td>\n",
       "      <td>tt0060196</td>\n",
       "      <td>The Good, the Bad and the Ugly</td>\n",
       "      <td>10.0</td>\n",
       "      <td>1 February 2000</td>\n",
       "      <td>The Greatest Film Ever</td>\n",
       "      <td>This is a virtually flawless film. Stylish and...</td>\n",
       "      <td>0.0</td>\n",
       "      <td>1.0</td>\n",
       "      <td>This is a virtually flawless film. Stylish and...</td>\n",
       "    </tr>\n",
       "    <tr>\n",
       "      <th>39900</th>\n",
       "      <td>2466802</td>\n",
       "      <td>tt0060196</td>\n",
       "      <td>The Good, the Bad and the Ugly</td>\n",
       "      <td>NaN</td>\n",
       "      <td>30 July 2011</td>\n",
       "      <td>The long, the unsynchronised and the improbable</td>\n",
       "      <td>Has 'The Good, The Bad And The Ugly' acquired ...</td>\n",
       "      <td>1.0</td>\n",
       "      <td>4.0</td>\n",
       "      <td>Has 'The Good, The Bad And The Ugly' acquired ...</td>\n",
       "    </tr>\n",
       "    <tr>\n",
       "      <th>39901</th>\n",
       "      <td>3501397</td>\n",
       "      <td>tt0060196</td>\n",
       "      <td>The Good, the Bad and the Ugly</td>\n",
       "      <td>9.0</td>\n",
       "      <td>9 July 2016</td>\n",
       "      <td>Masterful, immersive, and showing off all that...</td>\n",
       "      <td>This classic western Film by legendary directo...</td>\n",
       "      <td>0.0</td>\n",
       "      <td>4.0</td>\n",
       "      <td>This classic western Film by legendary directo...</td>\n",
       "    </tr>\n",
       "    <tr>\n",
       "      <th>39902</th>\n",
       "      <td>2041196</td>\n",
       "      <td>tt0060196</td>\n",
       "      <td>The Good, the Bad and the Ugly</td>\n",
       "      <td>10.0</td>\n",
       "      <td>22 March 2009</td>\n",
       "      <td>A classic western</td>\n",
       "      <td>This movie blew me away. It introduces the goo...</td>\n",
       "      <td>1.0</td>\n",
       "      <td>1.0</td>\n",
       "      <td>This movie blew me away. It introduces the goo...</td>\n",
       "    </tr>\n",
       "    <tr>\n",
       "      <th>39903</th>\n",
       "      <td>0092856</td>\n",
       "      <td>tt0060196</td>\n",
       "      <td>The Good, the Bad and the Ugly</td>\n",
       "      <td>9.0</td>\n",
       "      <td>19 July 2004</td>\n",
       "      <td>A revolutionary and exciting Spaghetti Western</td>\n",
       "      <td>This is a bemusing, violent and stylish Wester...</td>\n",
       "      <td>16.0</td>\n",
       "      <td>25.0</td>\n",
       "      <td>This is a refusing, violent and stylish Wester...</td>\n",
       "    </tr>\n",
       "  </tbody>\n",
       "</table>\n",
       "</div>"
      ],
      "text/plain": [
       "      Review_ID   Movie_ID                     Movie_Title  Rating  \\\n",
       "39894   4931608  tt0060196  The Good, the Bad and the Ugly     9.0   \n",
       "39895   0092838  tt0060196  The Good, the Bad and the Ugly     NaN   \n",
       "39896   0092840  tt0060196  The Good, the Bad and the Ugly     NaN   \n",
       "39897   2311851  tt0060196  The Good, the Bad and the Ugly     NaN   \n",
       "39898   0092820  tt0060196  The Good, the Bad and the Ugly     8.0   \n",
       "39899   0092672  tt0060196  The Good, the Bad and the Ugly    10.0   \n",
       "39900   2466802  tt0060196  The Good, the Bad and the Ugly     NaN   \n",
       "39901   3501397  tt0060196  The Good, the Bad and the Ugly     9.0   \n",
       "39902   2041196  tt0060196  The Good, the Bad and the Ugly    10.0   \n",
       "39903   0092856  tt0060196  The Good, the Bad and the Ugly     9.0   \n",
       "\n",
       "             Review_Date                                       Review_Title  \\\n",
       "39894       13 June 2019                                         Good movie   \n",
       "39895      23 April 2004                                Clint, Lee, and Eli   \n",
       "39896      28 April 2004  John Wayne and Gene Autrey can go lasso themse...   \n",
       "39897  17 September 2010            Never seen so many men, wasted so badly   \n",
       "39898   16 November 2003  A Classic Western Movie With an Unforgettable ...   \n",
       "39899    1 February 2000                             The Greatest Film Ever   \n",
       "39900       30 July 2011    The long, the unsynchronised and the improbable   \n",
       "39901        9 July 2016  Masterful, immersive, and showing off all that...   \n",
       "39902      22 March 2009                                  A classic western   \n",
       "39903       19 July 2004     A revolutionary and exciting Spaghetti Western   \n",
       "\n",
       "                                             Review_Text  Helpful_Votes  \\\n",
       "39894  If The Good The Bad and The Ugly was not 2hrs ...            0.0   \n",
       "39895  In his third and final go around as the laconi...            2.0   \n",
       "39896  Clint Eastwood and Sergio Leone OWN the \"Ameri...            0.0   \n",
       "39897  \"Nostalgia is a product of dissatisfaction and...           11.0   \n",
       "39898  Three bad guys  the chaser of rewards Joe (Cl...           10.0   \n",
       "39899  This is a virtually flawless film. Stylish and...            0.0   \n",
       "39900  Has 'The Good, The Bad And The Ugly' acquired ...            1.0   \n",
       "39901  This classic western Film by legendary directo...            0.0   \n",
       "39902  This movie blew me away. It introduces the goo...            1.0   \n",
       "39903  This is a bemusing, violent and stylish Wester...           16.0   \n",
       "\n",
       "       Total_Votes                                Preprocessed_Review  \n",
       "39894          1.0  If The Good The Bad and The Ugly was not 2hrs ...  \n",
       "39895          3.0  In his third and final go around as the iconic...  \n",
       "39896          1.0  Clint Eastwood and Sergio Leone OWN the \"Ameri...  \n",
       "39897         18.0  \"Nostalgia is a product of dissatisfaction and...  \n",
       "39898         19.0  Three bad guys the chaser of rewards Joe (Clin...  \n",
       "39899          1.0  This is a virtually flawless film. Stylish and...  \n",
       "39900          4.0  Has 'The Good, The Bad And The Ugly' acquired ...  \n",
       "39901          4.0  This classic western Film by legendary directo...  \n",
       "39902          1.0  This movie blew me away. It introduces the goo...  \n",
       "39903         25.0  This is a refusing, violent and stylish Wester...  "
      ]
     },
     "execution_count": 12,
     "metadata": {},
     "output_type": "execute_result"
    }
   ],
   "source": [
    "# load the fist 10 rows of the first file to verify\n",
    "first_file_path = os.path.join(folder_path, os.listdir(folder_path)[0])\n",
    "df_first = pd.read_pickle(first_file_path)\n",
    "df_first.head(10)"
   ]
  }
 ],
 "metadata": {
  "kernelspec": {
   "display_name": "Python 3",
   "language": "python",
   "name": "python3"
  },
  "language_info": {
   "codemirror_mode": {
    "name": "ipython",
    "version": 3
   },
   "file_extension": ".py",
   "mimetype": "text/x-python",
   "name": "python",
   "nbconvert_exporter": "python",
   "pygments_lexer": "ipython3",
   "version": "3.9.6"
  }
 },
 "nbformat": 4,
 "nbformat_minor": 5
}
