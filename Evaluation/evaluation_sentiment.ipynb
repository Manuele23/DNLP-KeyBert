{
 "cells": [
  {
   "cell_type": "markdown",
   "id": "557f6917",
   "metadata": {},
   "source": [
    "# Evaluation of KeyBERTSentimentAware"
   ]
  },
  {
   "cell_type": "markdown",
   "id": "a1e29d2e",
   "metadata": {},
   "source": []
  }
 ],
 "metadata": {
  "language_info": {
   "name": "python"
  }
 },
 "nbformat": 4,
 "nbformat_minor": 5
}
