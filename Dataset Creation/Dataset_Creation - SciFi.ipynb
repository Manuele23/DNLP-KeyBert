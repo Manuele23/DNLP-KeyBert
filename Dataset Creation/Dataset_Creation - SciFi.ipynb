{
 "cells": [
  {
   "cell_type": "markdown",
   "metadata": {},
   "source": [
    "# IMDb Data Processing and Analysis for Movie Keyword Modeling"
   ]
  },
  {
   "cell_type": "markdown",
   "metadata": {},
   "source": [
    "## Retrieve Review"
   ]
  },
  {
   "cell_type": "code",
   "execution_count": 1,
   "metadata": {},
   "outputs": [
    {
     "name": "stdout",
     "output_type": "stream",
     "text": [
      "Defaulting to user installation because normal site-packages is not writeable\n",
      "Requirement already satisfied: selenium in c:\\users\\aless\\appdata\\local\\packages\\pythonsoftwarefoundation.python.3.12_qbz5n2kfra8p0\\localcache\\local-packages\\python312\\site-packages (4.27.1)\n",
      "Requirement already satisfied: urllib3<3,>=1.26 in c:\\users\\aless\\appdata\\local\\packages\\pythonsoftwarefoundation.python.3.12_qbz5n2kfra8p0\\localcache\\local-packages\\python312\\site-packages (from urllib3[socks]<3,>=1.26->selenium) (2.2.3)\n",
      "Requirement already satisfied: trio~=0.17 in c:\\users\\aless\\appdata\\local\\packages\\pythonsoftwarefoundation.python.3.12_qbz5n2kfra8p0\\localcache\\local-packages\\python312\\site-packages (from selenium) (0.27.0)\n",
      "Requirement already satisfied: trio-websocket~=0.9 in c:\\users\\aless\\appdata\\local\\packages\\pythonsoftwarefoundation.python.3.12_qbz5n2kfra8p0\\localcache\\local-packages\\python312\\site-packages (from selenium) (0.11.1)\n",
      "Requirement already satisfied: certifi>=2021.10.8 in c:\\users\\aless\\appdata\\local\\packages\\pythonsoftwarefoundation.python.3.12_qbz5n2kfra8p0\\localcache\\local-packages\\python312\\site-packages (from selenium) (2024.8.30)\n",
      "Requirement already satisfied: typing_extensions~=4.9 in c:\\users\\aless\\appdata\\local\\packages\\pythonsoftwarefoundation.python.3.12_qbz5n2kfra8p0\\localcache\\local-packages\\python312\\site-packages (from selenium) (4.12.2)\n",
      "Requirement already satisfied: websocket-client~=1.8 in c:\\users\\aless\\appdata\\local\\packages\\pythonsoftwarefoundation.python.3.12_qbz5n2kfra8p0\\localcache\\local-packages\\python312\\site-packages (from selenium) (1.8.0)\n",
      "Requirement already satisfied: attrs>=23.2.0 in c:\\users\\aless\\appdata\\local\\packages\\pythonsoftwarefoundation.python.3.12_qbz5n2kfra8p0\\localcache\\local-packages\\python312\\site-packages (from trio~=0.17->selenium) (24.3.0)\n",
      "Requirement already satisfied: sortedcontainers in c:\\users\\aless\\appdata\\local\\packages\\pythonsoftwarefoundation.python.3.12_qbz5n2kfra8p0\\localcache\\local-packages\\python312\\site-packages (from trio~=0.17->selenium) (2.4.0)\n",
      "Requirement already satisfied: idna in c:\\users\\aless\\appdata\\local\\packages\\pythonsoftwarefoundation.python.3.12_qbz5n2kfra8p0\\localcache\\local-packages\\python312\\site-packages (from trio~=0.17->selenium) (3.10)\n",
      "Requirement already satisfied: outcome in c:\\users\\aless\\appdata\\local\\packages\\pythonsoftwarefoundation.python.3.12_qbz5n2kfra8p0\\localcache\\local-packages\\python312\\site-packages (from trio~=0.17->selenium) (1.3.0.post0)\n",
      "Requirement already satisfied: sniffio>=1.3.0 in c:\\users\\aless\\appdata\\local\\packages\\pythonsoftwarefoundation.python.3.12_qbz5n2kfra8p0\\localcache\\local-packages\\python312\\site-packages (from trio~=0.17->selenium) (1.3.1)\n",
      "Requirement already satisfied: cffi>=1.14 in c:\\users\\aless\\appdata\\local\\packages\\pythonsoftwarefoundation.python.3.12_qbz5n2kfra8p0\\localcache\\local-packages\\python312\\site-packages (from trio~=0.17->selenium) (1.17.1)\n",
      "Requirement already satisfied: wsproto>=0.14 in c:\\users\\aless\\appdata\\local\\packages\\pythonsoftwarefoundation.python.3.12_qbz5n2kfra8p0\\localcache\\local-packages\\python312\\site-packages (from trio-websocket~=0.9->selenium) (1.2.0)\n",
      "Requirement already satisfied: pysocks!=1.5.7,<2.0,>=1.5.6 in c:\\users\\aless\\appdata\\local\\packages\\pythonsoftwarefoundation.python.3.12_qbz5n2kfra8p0\\localcache\\local-packages\\python312\\site-packages (from urllib3[socks]<3,>=1.26->selenium) (1.7.1)\n",
      "Requirement already satisfied: pycparser in c:\\users\\aless\\appdata\\local\\packages\\pythonsoftwarefoundation.python.3.12_qbz5n2kfra8p0\\localcache\\local-packages\\python312\\site-packages (from cffi>=1.14->trio~=0.17->selenium) (2.22)\n",
      "Requirement already satisfied: h11<1,>=0.9.0 in c:\\users\\aless\\appdata\\local\\packages\\pythonsoftwarefoundation.python.3.12_qbz5n2kfra8p0\\localcache\\local-packages\\python312\\site-packages (from wsproto>=0.14->trio-websocket~=0.9->selenium) (0.14.0)\n",
      "Note: you may need to restart the kernel to use updated packages.\n"
     ]
    }
   ],
   "source": [
    "%pip install selenium"
   ]
  },
  {
   "cell_type": "code",
   "execution_count": 2,
   "metadata": {},
   "outputs": [],
   "source": [
    "from Retriever import Retriever"
   ]
  },
  {
   "cell_type": "code",
   "execution_count": 3,
   "metadata": {},
   "outputs": [
    {
     "name": "stdout",
     "output_type": "stream",
     "text": [
      "From the movie 0063934 were retrieved the following reviews:\n",
      "{'0941272', '3645997', '0951072', '3212417', '1526197', '0105665', '0105662', '1890405', '1560754', '0105669', '1440145', '1656497', '0105660', '0105663', '6996540', '0105667', '0105666', '0105668', '1234584', '1635615', '7615159', '1234894', '3547738', '1315542', '4169435', '0105661', '0974595', '0105659', '0105664', '1780338', '1093940', '0105658', '9507178'}\n"
     ]
    },
    {
     "name": "stderr",
     "output_type": "stream",
     "text": [
      "retrieving reviews: 100%|██████████| 33/33 [00:39<00:00,  1.19s/review]\n"
     ]
    },
    {
     "data": {
      "text/html": [
       "<div>\n",
       "<style scoped>\n",
       "    .dataframe tbody tr th:only-of-type {\n",
       "        vertical-align: middle;\n",
       "    }\n",
       "\n",
       "    .dataframe tbody tr th {\n",
       "        vertical-align: top;\n",
       "    }\n",
       "\n",
       "    .dataframe thead th {\n",
       "        text-align: right;\n",
       "    }\n",
       "</style>\n",
       "<table border=\"1\" class=\"dataframe\">\n",
       "  <thead>\n",
       "    <tr style=\"text-align: right;\">\n",
       "      <th></th>\n",
       "      <th>Review_ID</th>\n",
       "      <th>Movie_ID</th>\n",
       "      <th>Movie_Title</th>\n",
       "      <th>Rating</th>\n",
       "      <th>Review_Date</th>\n",
       "      <th>Review_Title</th>\n",
       "      <th>Review_Text</th>\n",
       "      <th>Helpful_Votes</th>\n",
       "      <th>Total_Votes</th>\n",
       "    </tr>\n",
       "  </thead>\n",
       "  <tbody>\n",
       "    <tr>\n",
       "      <th>0</th>\n",
       "      <td>0941272</td>\n",
       "      <td>tt0063934</td>\n",
       "      <td>Il fantastico mondo di Mr. Monroe</td>\n",
       "      <td>NaN</td>\n",
       "      <td>5 October 2004</td>\n",
       "      <td>unique, enjoyable but short lived sitcom</td>\n",
       "      <td>I agree with the other comments concerning thi...</td>\n",
       "      <td>9</td>\n",
       "      <td>9</td>\n",
       "    </tr>\n",
       "    <tr>\n",
       "      <th>1</th>\n",
       "      <td>3645997</td>\n",
       "      <td>tt0063934</td>\n",
       "      <td>Il fantastico mondo di Mr. Monroe</td>\n",
       "      <td>10.0</td>\n",
       "      <td>22 February 2017</td>\n",
       "      <td>My favorite show of all time!</td>\n",
       "      <td>I loved this show. we recorded every episode o...</td>\n",
       "      <td>5</td>\n",
       "      <td>5</td>\n",
       "    </tr>\n",
       "    <tr>\n",
       "      <th>2</th>\n",
       "      <td>0951072</td>\n",
       "      <td>tt0063934</td>\n",
       "      <td>Il fantastico mondo di Mr. Monroe</td>\n",
       "      <td>NaN</td>\n",
       "      <td>23 October 2004</td>\n",
       "      <td>The 60's of \"The Secret Life of Walter Mitty\"</td>\n",
       "      <td>I remember being thrilled to learn that \"My Wo...</td>\n",
       "      <td>20</td>\n",
       "      <td>20</td>\n",
       "    </tr>\n",
       "    <tr>\n",
       "      <th>3</th>\n",
       "      <td>3212417</td>\n",
       "      <td>tt0063934</td>\n",
       "      <td>Il fantastico mondo di Mr. Monroe</td>\n",
       "      <td>9.0</td>\n",
       "      <td>1 April 2015</td>\n",
       "      <td>Segments are available on YouTube!</td>\n",
       "      <td>I agree 100% with all the positive comments an...</td>\n",
       "      <td>4</td>\n",
       "      <td>4</td>\n",
       "    </tr>\n",
       "    <tr>\n",
       "      <th>4</th>\n",
       "      <td>1526197</td>\n",
       "      <td>tt0063934</td>\n",
       "      <td>Il fantastico mondo di Mr. Monroe</td>\n",
       "      <td>10.0</td>\n",
       "      <td>20 November 2006</td>\n",
       "      <td>One more of us...</td>\n",
       "      <td>Well, I've read all of the comments posted, an...</td>\n",
       "      <td>11</td>\n",
       "      <td>11</td>\n",
       "    </tr>\n",
       "    <tr>\n",
       "      <th>5</th>\n",
       "      <td>0105665</td>\n",
       "      <td>tt0063934</td>\n",
       "      <td>Il fantastico mondo di Mr. Monroe</td>\n",
       "      <td>NaN</td>\n",
       "      <td>19 August 2002</td>\n",
       "      <td>Fond Memory Of Clever, Witty Show</td>\n",
       "      <td>So glad to see that this show made such an imp...</td>\n",
       "      <td>22</td>\n",
       "      <td>24</td>\n",
       "    </tr>\n",
       "    <tr>\n",
       "      <th>6</th>\n",
       "      <td>0105662</td>\n",
       "      <td>tt0063934</td>\n",
       "      <td>Il fantastico mondo di Mr. Monroe</td>\n",
       "      <td>NaN</td>\n",
       "      <td>29 July 2000</td>\n",
       "      <td>A great show, and a plan of action.</td>\n",
       "      <td>Usually I don't put up comments when somebody ...</td>\n",
       "      <td>23</td>\n",
       "      <td>24</td>\n",
       "    </tr>\n",
       "    <tr>\n",
       "      <th>7</th>\n",
       "      <td>1890405</td>\n",
       "      <td>tt0063934</td>\n",
       "      <td>Il fantastico mondo di Mr. Monroe</td>\n",
       "      <td>10.0</td>\n",
       "      <td>11 June 2008</td>\n",
       "      <td>Apparently Amazon does read our reviews ...</td>\n",
       "      <td>My World and Welcome to it was a cult classic ...</td>\n",
       "      <td>10</td>\n",
       "      <td>11</td>\n",
       "    </tr>\n",
       "    <tr>\n",
       "      <th>8</th>\n",
       "      <td>1560754</td>\n",
       "      <td>tt0063934</td>\n",
       "      <td>Il fantastico mondo di Mr. Monroe</td>\n",
       "      <td>10.0</td>\n",
       "      <td>1 January 2007</td>\n",
       "      <td>Before it's time</td>\n",
       "      <td>I was 11 or 12 when it aired. I remember enjoy...</td>\n",
       "      <td>8</td>\n",
       "      <td>8</td>\n",
       "    </tr>\n",
       "    <tr>\n",
       "      <th>9</th>\n",
       "      <td>0105669</td>\n",
       "      <td>tt0063934</td>\n",
       "      <td>Il fantastico mondo di Mr. Monroe</td>\n",
       "      <td>NaN</td>\n",
       "      <td>1 June 2004</td>\n",
       "      <td>Wonderful show</td>\n",
       "      <td>I'm so excited that I have found something abo...</td>\n",
       "      <td>11</td>\n",
       "      <td>11</td>\n",
       "    </tr>\n",
       "    <tr>\n",
       "      <th>10</th>\n",
       "      <td>1440145</td>\n",
       "      <td>tt0063934</td>\n",
       "      <td>Il fantastico mondo di Mr. Monroe</td>\n",
       "      <td>9.0</td>\n",
       "      <td>5 August 2006</td>\n",
       "      <td>This show was great</td>\n",
       "      <td>Although I was six years old when this show ca...</td>\n",
       "      <td>9</td>\n",
       "      <td>9</td>\n",
       "    </tr>\n",
       "    <tr>\n",
       "      <th>11</th>\n",
       "      <td>1656497</td>\n",
       "      <td>tt0063934</td>\n",
       "      <td>Il fantastico mondo di Mr. Monroe</td>\n",
       "      <td>10.0</td>\n",
       "      <td>15 May 2007</td>\n",
       "      <td>Grandma Was More Than Intellectual</td>\n",
       "      <td>This series to me represents the talent of Wil...</td>\n",
       "      <td>13</td>\n",
       "      <td>13</td>\n",
       "    </tr>\n",
       "    <tr>\n",
       "      <th>12</th>\n",
       "      <td>0105660</td>\n",
       "      <td>tt0063934</td>\n",
       "      <td>Il fantastico mondo di Mr. Monroe</td>\n",
       "      <td>NaN</td>\n",
       "      <td>23 August 1999</td>\n",
       "      <td>Has stuck in my mind since childhood.</td>\n",
       "      <td>I looked up this show because I was watching a...</td>\n",
       "      <td>34</td>\n",
       "      <td>35</td>\n",
       "    </tr>\n",
       "    <tr>\n",
       "      <th>13</th>\n",
       "      <td>0105663</td>\n",
       "      <td>tt0063934</td>\n",
       "      <td>Il fantastico mondo di Mr. Monroe</td>\n",
       "      <td>10.0</td>\n",
       "      <td>5 May 2001</td>\n",
       "      <td>My favorite comedy show of all time</td>\n",
       "      <td>I was only 11 when this show appeared on TV, b...</td>\n",
       "      <td>11</td>\n",
       "      <td>14</td>\n",
       "    </tr>\n",
       "    <tr>\n",
       "      <th>14</th>\n",
       "      <td>6996540</td>\n",
       "      <td>tt0063934</td>\n",
       "      <td>Il fantastico mondo di Mr. Monroe</td>\n",
       "      <td>10.0</td>\n",
       "      <td>3 June 2021</td>\n",
       "      <td>This is the first TV show I ever remember watc...</td>\n",
       "      <td>Thank you for having this. I have been looking...</td>\n",
       "      <td>2</td>\n",
       "      <td>2</td>\n",
       "    </tr>\n",
       "    <tr>\n",
       "      <th>15</th>\n",
       "      <td>0105667</td>\n",
       "      <td>tt0063934</td>\n",
       "      <td>Il fantastico mondo di Mr. Monroe</td>\n",
       "      <td>NaN</td>\n",
       "      <td>14 January 2004</td>\n",
       "      <td>A remarkable series!</td>\n",
       "      <td>Shown on NBC in 1969-70 and and re-run on CBS ...</td>\n",
       "      <td>22</td>\n",
       "      <td>22</td>\n",
       "    </tr>\n",
       "    <tr>\n",
       "      <th>16</th>\n",
       "      <td>0105666</td>\n",
       "      <td>tt0063934</td>\n",
       "      <td>Il fantastico mondo di Mr. Monroe</td>\n",
       "      <td>NaN</td>\n",
       "      <td>5 November 2003</td>\n",
       "      <td>Wow, so glad others remember this delightful show</td>\n",
       "      <td>The scene where his wife falls apart has stuck...</td>\n",
       "      <td>9</td>\n",
       "      <td>9</td>\n",
       "    </tr>\n",
       "    <tr>\n",
       "      <th>17</th>\n",
       "      <td>0105668</td>\n",
       "      <td>tt0063934</td>\n",
       "      <td>Il fantastico mondo di Mr. Monroe</td>\n",
       "      <td>NaN</td>\n",
       "      <td>19 May 2004</td>\n",
       "      <td>great TV series</td>\n",
       "      <td>This series ran on UK's Channel 4 in its entir...</td>\n",
       "      <td>30</td>\n",
       "      <td>30</td>\n",
       "    </tr>\n",
       "    <tr>\n",
       "      <th>18</th>\n",
       "      <td>1234584</td>\n",
       "      <td>tt0063934</td>\n",
       "      <td>Il fantastico mondo di Mr. Monroe</td>\n",
       "      <td>NaN</td>\n",
       "      <td>9 December 2005</td>\n",
       "      <td>A Fitting Tribute to James Thurber and William...</td>\n",
       "      <td>For some reason certain shows never last long ...</td>\n",
       "      <td>38</td>\n",
       "      <td>38</td>\n",
       "    </tr>\n",
       "    <tr>\n",
       "      <th>19</th>\n",
       "      <td>1635615</td>\n",
       "      <td>tt0063934</td>\n",
       "      <td>Il fantastico mondo di Mr. Monroe</td>\n",
       "      <td>10.0</td>\n",
       "      <td>11 April 2007</td>\n",
       "      <td>My world, where are you?</td>\n",
       "      <td>After scrounging the Web for several years, fi...</td>\n",
       "      <td>12</td>\n",
       "      <td>12</td>\n",
       "    </tr>\n",
       "    <tr>\n",
       "      <th>20</th>\n",
       "      <td>7615159</td>\n",
       "      <td>tt0063934</td>\n",
       "      <td>Il fantastico mondo di Mr. Monroe</td>\n",
       "      <td>8.0</td>\n",
       "      <td>4 December 2021</td>\n",
       "      <td>cute, understated humor, loved it</td>\n",
       "      <td>I remember this show very well, though I was o...</td>\n",
       "      <td>2</td>\n",
       "      <td>2</td>\n",
       "    </tr>\n",
       "    <tr>\n",
       "      <th>21</th>\n",
       "      <td>1234894</td>\n",
       "      <td>tt0063934</td>\n",
       "      <td>Il fantastico mondo di Mr. Monroe</td>\n",
       "      <td>NaN</td>\n",
       "      <td>10 December 2005</td>\n",
       "      <td>This show was about Thurber</td>\n",
       "      <td>\"My World and Welcome to It\" was the title of ...</td>\n",
       "      <td>9</td>\n",
       "      <td>9</td>\n",
       "    </tr>\n",
       "    <tr>\n",
       "      <th>22</th>\n",
       "      <td>3547738</td>\n",
       "      <td>tt0063934</td>\n",
       "      <td>Il fantastico mondo di Mr. Monroe</td>\n",
       "      <td>10.0</td>\n",
       "      <td>20 September 2016</td>\n",
       "      <td>10/10 So good it can't ever be seen again</td>\n",
       "      <td>One of my earliest and happiest memories of te...</td>\n",
       "      <td>7</td>\n",
       "      <td>7</td>\n",
       "    </tr>\n",
       "    <tr>\n",
       "      <th>23</th>\n",
       "      <td>1315542</td>\n",
       "      <td>tt0063934</td>\n",
       "      <td>Il fantastico mondo di Mr. Monroe</td>\n",
       "      <td>NaN</td>\n",
       "      <td>14 March 2006</td>\n",
       "      <td>These 26 episodes should be on DVD NOW!</td>\n",
       "      <td>I remember this show as turning me on to James...</td>\n",
       "      <td>28</td>\n",
       "      <td>30</td>\n",
       "    </tr>\n",
       "    <tr>\n",
       "      <th>24</th>\n",
       "      <td>4169435</td>\n",
       "      <td>tt0063934</td>\n",
       "      <td>Il fantastico mondo di Mr. Monroe</td>\n",
       "      <td>8.0</td>\n",
       "      <td>18 May 2018</td>\n",
       "      <td>The Life of an Oft-Frustrated Magazine Cartoonist</td>\n",
       "      <td>\"My World and Welcome to It\" was created for t...</td>\n",
       "      <td>6</td>\n",
       "      <td>6</td>\n",
       "    </tr>\n",
       "    <tr>\n",
       "      <th>25</th>\n",
       "      <td>0105661</td>\n",
       "      <td>tt0063934</td>\n",
       "      <td>Il fantastico mondo di Mr. Monroe</td>\n",
       "      <td>NaN</td>\n",
       "      <td>27 October 1999</td>\n",
       "      <td>Maybe the best show ever chanced too soon--</td>\n",
       "      <td>This show was a pure joy from the first moment...</td>\n",
       "      <td>23</td>\n",
       "      <td>23</td>\n",
       "    </tr>\n",
       "    <tr>\n",
       "      <th>26</th>\n",
       "      <td>0974595</td>\n",
       "      <td>tt0063934</td>\n",
       "      <td>Il fantastico mondo di Mr. Monroe</td>\n",
       "      <td>NaN</td>\n",
       "      <td>8 December 2004</td>\n",
       "      <td>Happy Birthday James Thurber</td>\n",
       "      <td>Today is James Thurber's birthday.December 8.H...</td>\n",
       "      <td>6</td>\n",
       "      <td>8</td>\n",
       "    </tr>\n",
       "    <tr>\n",
       "      <th>27</th>\n",
       "      <td>0105659</td>\n",
       "      <td>tt0063934</td>\n",
       "      <td>Il fantastico mondo di Mr. Monroe</td>\n",
       "      <td>NaN</td>\n",
       "      <td>27 July 1999</td>\n",
       "      <td>One of the Best Things on Television</td>\n",
       "      <td>Re: the other comments, and ditto them. This w...</td>\n",
       "      <td>13</td>\n",
       "      <td>13</td>\n",
       "    </tr>\n",
       "    <tr>\n",
       "      <th>28</th>\n",
       "      <td>0105664</td>\n",
       "      <td>tt0063934</td>\n",
       "      <td>Il fantastico mondo di Mr. Monroe</td>\n",
       "      <td>NaN</td>\n",
       "      <td>26 March 2002</td>\n",
       "      <td>Interesting the things one remembers...</td>\n",
       "      <td>I, like Joe, was very young when this show was...</td>\n",
       "      <td>7</td>\n",
       "      <td>7</td>\n",
       "    </tr>\n",
       "    <tr>\n",
       "      <th>29</th>\n",
       "      <td>1780338</td>\n",
       "      <td>tt0063934</td>\n",
       "      <td>Il fantastico mondo di Mr. Monroe</td>\n",
       "      <td>10.0</td>\n",
       "      <td>14 December 2007</td>\n",
       "      <td>One of the very best comedies on TV ---- EVER</td>\n",
       "      <td>The average American is too friggin' stupid to...</td>\n",
       "      <td>5</td>\n",
       "      <td>9</td>\n",
       "    </tr>\n",
       "    <tr>\n",
       "      <th>30</th>\n",
       "      <td>1093940</td>\n",
       "      <td>tt0063934</td>\n",
       "      <td>Il fantastico mondo di Mr. Monroe</td>\n",
       "      <td>NaN</td>\n",
       "      <td>3 June 2005</td>\n",
       "      <td>This show</td>\n",
       "      <td>I was only 3 when I watched this according to ...</td>\n",
       "      <td>29</td>\n",
       "      <td>29</td>\n",
       "    </tr>\n",
       "    <tr>\n",
       "      <th>31</th>\n",
       "      <td>0105658</td>\n",
       "      <td>tt0063934</td>\n",
       "      <td>Il fantastico mondo di Mr. Monroe</td>\n",
       "      <td>NaN</td>\n",
       "      <td>24 June 1999</td>\n",
       "      <td>So far ahead of its time.</td>\n",
       "      <td>Echoing the sentiments expressed by Todd Leone...</td>\n",
       "      <td>12</td>\n",
       "      <td>12</td>\n",
       "    </tr>\n",
       "    <tr>\n",
       "      <th>32</th>\n",
       "      <td>9507178</td>\n",
       "      <td>tt0063934</td>\n",
       "      <td>Il fantastico mondo di Mr. Monroe</td>\n",
       "      <td>10.0</td>\n",
       "      <td>21 December 2023</td>\n",
       "      <td>Great Show!</td>\n",
       "      <td>I was 9, almost 10, when My World And Welcome ...</td>\n",
       "      <td>0</td>\n",
       "      <td>0</td>\n",
       "    </tr>\n",
       "  </tbody>\n",
       "</table>\n",
       "</div>"
      ],
      "text/plain": [
       "   Review_ID   Movie_ID                        Movie_Title  Rating  \\\n",
       "0    0941272  tt0063934  Il fantastico mondo di Mr. Monroe     NaN   \n",
       "1    3645997  tt0063934  Il fantastico mondo di Mr. Monroe    10.0   \n",
       "2    0951072  tt0063934  Il fantastico mondo di Mr. Monroe     NaN   \n",
       "3    3212417  tt0063934  Il fantastico mondo di Mr. Monroe     9.0   \n",
       "4    1526197  tt0063934  Il fantastico mondo di Mr. Monroe    10.0   \n",
       "5    0105665  tt0063934  Il fantastico mondo di Mr. Monroe     NaN   \n",
       "6    0105662  tt0063934  Il fantastico mondo di Mr. Monroe     NaN   \n",
       "7    1890405  tt0063934  Il fantastico mondo di Mr. Monroe    10.0   \n",
       "8    1560754  tt0063934  Il fantastico mondo di Mr. Monroe    10.0   \n",
       "9    0105669  tt0063934  Il fantastico mondo di Mr. Monroe     NaN   \n",
       "10   1440145  tt0063934  Il fantastico mondo di Mr. Monroe     9.0   \n",
       "11   1656497  tt0063934  Il fantastico mondo di Mr. Monroe    10.0   \n",
       "12   0105660  tt0063934  Il fantastico mondo di Mr. Monroe     NaN   \n",
       "13   0105663  tt0063934  Il fantastico mondo di Mr. Monroe    10.0   \n",
       "14   6996540  tt0063934  Il fantastico mondo di Mr. Monroe    10.0   \n",
       "15   0105667  tt0063934  Il fantastico mondo di Mr. Monroe     NaN   \n",
       "16   0105666  tt0063934  Il fantastico mondo di Mr. Monroe     NaN   \n",
       "17   0105668  tt0063934  Il fantastico mondo di Mr. Monroe     NaN   \n",
       "18   1234584  tt0063934  Il fantastico mondo di Mr. Monroe     NaN   \n",
       "19   1635615  tt0063934  Il fantastico mondo di Mr. Monroe    10.0   \n",
       "20   7615159  tt0063934  Il fantastico mondo di Mr. Monroe     8.0   \n",
       "21   1234894  tt0063934  Il fantastico mondo di Mr. Monroe     NaN   \n",
       "22   3547738  tt0063934  Il fantastico mondo di Mr. Monroe    10.0   \n",
       "23   1315542  tt0063934  Il fantastico mondo di Mr. Monroe     NaN   \n",
       "24   4169435  tt0063934  Il fantastico mondo di Mr. Monroe     8.0   \n",
       "25   0105661  tt0063934  Il fantastico mondo di Mr. Monroe     NaN   \n",
       "26   0974595  tt0063934  Il fantastico mondo di Mr. Monroe     NaN   \n",
       "27   0105659  tt0063934  Il fantastico mondo di Mr. Monroe     NaN   \n",
       "28   0105664  tt0063934  Il fantastico mondo di Mr. Monroe     NaN   \n",
       "29   1780338  tt0063934  Il fantastico mondo di Mr. Monroe    10.0   \n",
       "30   1093940  tt0063934  Il fantastico mondo di Mr. Monroe     NaN   \n",
       "31   0105658  tt0063934  Il fantastico mondo di Mr. Monroe     NaN   \n",
       "32   9507178  tt0063934  Il fantastico mondo di Mr. Monroe    10.0   \n",
       "\n",
       "          Review_Date                                       Review_Title  \\\n",
       "0      5 October 2004           unique, enjoyable but short lived sitcom   \n",
       "1    22 February 2017                      My favorite show of all time!   \n",
       "2     23 October 2004      The 60's of \"The Secret Life of Walter Mitty\"   \n",
       "3        1 April 2015                 Segments are available on YouTube!   \n",
       "4    20 November 2006                                  One more of us...   \n",
       "5      19 August 2002                  Fond Memory Of Clever, Witty Show   \n",
       "6        29 July 2000                A great show, and a plan of action.   \n",
       "7        11 June 2008        Apparently Amazon does read our reviews ...   \n",
       "8      1 January 2007                                   Before it's time   \n",
       "9         1 June 2004                                     Wonderful show   \n",
       "10      5 August 2006                                This show was great   \n",
       "11        15 May 2007                 Grandma Was More Than Intellectual   \n",
       "12     23 August 1999              Has stuck in my mind since childhood.   \n",
       "13         5 May 2001                My favorite comedy show of all time   \n",
       "14        3 June 2021  This is the first TV show I ever remember watc...   \n",
       "15    14 January 2004                               A remarkable series!   \n",
       "16    5 November 2003  Wow, so glad others remember this delightful show   \n",
       "17        19 May 2004                                    great TV series   \n",
       "18    9 December 2005  A Fitting Tribute to James Thurber and William...   \n",
       "19      11 April 2007                           My world, where are you?   \n",
       "20    4 December 2021                  cute, understated humor, loved it   \n",
       "21   10 December 2005                        This show was about Thurber   \n",
       "22  20 September 2016          10/10 So good it can't ever be seen again   \n",
       "23      14 March 2006            These 26 episodes should be on DVD NOW!   \n",
       "24        18 May 2018  The Life of an Oft-Frustrated Magazine Cartoonist   \n",
       "25    27 October 1999        Maybe the best show ever chanced too soon--   \n",
       "26    8 December 2004                       Happy Birthday James Thurber   \n",
       "27       27 July 1999               One of the Best Things on Television   \n",
       "28      26 March 2002            Interesting the things one remembers...   \n",
       "29   14 December 2007      One of the very best comedies on TV ---- EVER   \n",
       "30        3 June 2005                                          This show   \n",
       "31       24 June 1999                          So far ahead of its time.   \n",
       "32   21 December 2023                                        Great Show!   \n",
       "\n",
       "                                          Review_Text  Helpful_Votes  \\\n",
       "0   I agree with the other comments concerning thi...              9   \n",
       "1   I loved this show. we recorded every episode o...              5   \n",
       "2   I remember being thrilled to learn that \"My Wo...             20   \n",
       "3   I agree 100% with all the positive comments an...              4   \n",
       "4   Well, I've read all of the comments posted, an...             11   \n",
       "5   So glad to see that this show made such an imp...             22   \n",
       "6   Usually I don't put up comments when somebody ...             23   \n",
       "7   My World and Welcome to it was a cult classic ...             10   \n",
       "8   I was 11 or 12 when it aired. I remember enjoy...              8   \n",
       "9   I'm so excited that I have found something abo...             11   \n",
       "10  Although I was six years old when this show ca...              9   \n",
       "11  This series to me represents the talent of Wil...             13   \n",
       "12  I looked up this show because I was watching a...             34   \n",
       "13  I was only 11 when this show appeared on TV, b...             11   \n",
       "14  Thank you for having this. I have been looking...              2   \n",
       "15  Shown on NBC in 1969-70 and and re-run on CBS ...             22   \n",
       "16  The scene where his wife falls apart has stuck...              9   \n",
       "17  This series ran on UK's Channel 4 in its entir...             30   \n",
       "18  For some reason certain shows never last long ...             38   \n",
       "19  After scrounging the Web for several years, fi...             12   \n",
       "20  I remember this show very well, though I was o...              2   \n",
       "21  \"My World and Welcome to It\" was the title of ...              9   \n",
       "22  One of my earliest and happiest memories of te...              7   \n",
       "23  I remember this show as turning me on to James...             28   \n",
       "24  \"My World and Welcome to It\" was created for t...              6   \n",
       "25  This show was a pure joy from the first moment...             23   \n",
       "26  Today is James Thurber's birthday.December 8.H...              6   \n",
       "27  Re: the other comments, and ditto them. This w...             13   \n",
       "28  I, like Joe, was very young when this show was...              7   \n",
       "29  The average American is too friggin' stupid to...              5   \n",
       "30  I was only 3 when I watched this according to ...             29   \n",
       "31  Echoing the sentiments expressed by Todd Leone...             12   \n",
       "32  I was 9, almost 10, when My World And Welcome ...              0   \n",
       "\n",
       "    Total_Votes  \n",
       "0             9  \n",
       "1             5  \n",
       "2            20  \n",
       "3             4  \n",
       "4            11  \n",
       "5            24  \n",
       "6            24  \n",
       "7            11  \n",
       "8             8  \n",
       "9            11  \n",
       "10            9  \n",
       "11           13  \n",
       "12           35  \n",
       "13           14  \n",
       "14            2  \n",
       "15           22  \n",
       "16            9  \n",
       "17           30  \n",
       "18           38  \n",
       "19           12  \n",
       "20            2  \n",
       "21            9  \n",
       "22            7  \n",
       "23           30  \n",
       "24            6  \n",
       "25           23  \n",
       "26            8  \n",
       "27           13  \n",
       "28            7  \n",
       "29            9  \n",
       "30           29  \n",
       "31           12  \n",
       "32            0  "
      ]
     },
     "metadata": {},
     "output_type": "display_data"
    }
   ],
   "source": [
    "#retrieve the reviews linked to a movie using its id\n",
    "movie_id = '0063934'      #    0000001       0063934      13186482      0120338       other ids used to test\n",
    "\n",
    "retriever = Retriever()\n",
    "\n",
    "review_ids = retriever.get_reviews_ids_from_movie_id(movie_id)\n",
    "\n",
    "print('From the movie ' + str(movie_id) + ' were retrieved the following reviews:')\n",
    "print(review_ids)\n",
    "\n",
    "reviews_dataframe = retriever.get_reviews_dataframe_from_set_of_review_ids(review_ids)\n",
    "\n",
    "display(reviews_dataframe)"
   ]
  },
  {
   "cell_type": "markdown",
   "metadata": {},
   "source": [
    "## Downloading reviews from sci fi movies"
   ]
  },
  {
   "cell_type": "code",
   "execution_count": 3,
   "metadata": {},
   "outputs": [
    {
     "name": "stdout",
     "output_type": "stream",
     "text": [
      "Looking for the dataset in the main folder\n"
     ]
    },
    {
     "data": {
      "text/html": [
       "<div>\n",
       "<style scoped>\n",
       "    .dataframe tbody tr th:only-of-type {\n",
       "        vertical-align: middle;\n",
       "    }\n",
       "\n",
       "    .dataframe tbody tr th {\n",
       "        vertical-align: top;\n",
       "    }\n",
       "\n",
       "    .dataframe thead th {\n",
       "        text-align: right;\n",
       "    }\n",
       "</style>\n",
       "<table border=\"1\" class=\"dataframe\">\n",
       "  <thead>\n",
       "    <tr style=\"text-align: right;\">\n",
       "      <th></th>\n",
       "      <th>MovieID</th>\n",
       "      <th>Title</th>\n",
       "      <th>Year</th>\n",
       "      <th>Duration</th>\n",
       "      <th>Genres</th>\n",
       "      <th>Rating</th>\n",
       "      <th>NumVotes</th>\n",
       "    </tr>\n",
       "  </thead>\n",
       "  <tbody>\n",
       "    <tr>\n",
       "      <th>0</th>\n",
       "      <td>tt0000009</td>\n",
       "      <td>Miss Jerry</td>\n",
       "      <td>1894</td>\n",
       "      <td>45</td>\n",
       "      <td>Romance</td>\n",
       "      <td>5.4</td>\n",
       "      <td>217.0</td>\n",
       "    </tr>\n",
       "    <tr>\n",
       "      <th>1</th>\n",
       "      <td>tt0000147</td>\n",
       "      <td>The Corbett-Fitzsimmons Fight</td>\n",
       "      <td>1897</td>\n",
       "      <td>100</td>\n",
       "      <td>Documentary,News,Sport</td>\n",
       "      <td>5.2</td>\n",
       "      <td>547.0</td>\n",
       "    </tr>\n",
       "    <tr>\n",
       "      <th>3</th>\n",
       "      <td>tt0000574</td>\n",
       "      <td>The Story of the Kelly Gang</td>\n",
       "      <td>1906</td>\n",
       "      <td>70</td>\n",
       "      <td>Action,Adventure,Biography</td>\n",
       "      <td>6.0</td>\n",
       "      <td>963.0</td>\n",
       "    </tr>\n",
       "    <tr>\n",
       "      <th>4</th>\n",
       "      <td>tt0000591</td>\n",
       "      <td>The Prodigal Son</td>\n",
       "      <td>1907</td>\n",
       "      <td>90</td>\n",
       "      <td>Drama</td>\n",
       "      <td>5.6</td>\n",
       "      <td>30.0</td>\n",
       "    </tr>\n",
       "    <tr>\n",
       "      <th>5</th>\n",
       "      <td>tt0000615</td>\n",
       "      <td>Robbery Under Arms</td>\n",
       "      <td>1907</td>\n",
       "      <td>\\N</td>\n",
       "      <td>Drama</td>\n",
       "      <td>4.3</td>\n",
       "      <td>27.0</td>\n",
       "    </tr>\n",
       "  </tbody>\n",
       "</table>\n",
       "</div>"
      ],
      "text/plain": [
       "     MovieID                          Title  Year Duration  \\\n",
       "0  tt0000009                     Miss Jerry  1894       45   \n",
       "1  tt0000147  The Corbett-Fitzsimmons Fight  1897      100   \n",
       "3  tt0000574    The Story of the Kelly Gang  1906       70   \n",
       "4  tt0000591               The Prodigal Son  1907       90   \n",
       "5  tt0000615             Robbery Under Arms  1907       \\N   \n",
       "\n",
       "                       Genres  Rating  NumVotes  \n",
       "0                     Romance     5.4     217.0  \n",
       "1      Documentary,News,Sport     5.2     547.0  \n",
       "3  Action,Adventure,Biography     6.0     963.0  \n",
       "4                       Drama     5.6      30.0  \n",
       "5                       Drama     4.3      27.0  "
      ]
     },
     "metadata": {},
     "output_type": "display_data"
    },
    {
     "name": "stdout",
     "output_type": "stream",
     "text": [
      "Final_dataset has been loaded successfully.\n"
     ]
    }
   ],
   "source": [
    "import pickle\n",
    "\n",
    "try:\n",
    "    display(final_dataset.head())\n",
    "    print(\"Final_dataset has been loaded successfully.\")\n",
    "except:\n",
    "    print('Looking for the dataset in the main folder')\n",
    "    try:\n",
    "        # Load the final_dataset object from the file\n",
    "        with open('final_dataset.pkl', 'rb') as file:\n",
    "            final_dataset = pickle.load(file)\n",
    "        display(final_dataset.head())\n",
    "        print(\"Final_dataset has been loaded successfully.\")\n",
    "    except:\n",
    "        print('Final_dataset not found')\n",
    "\n",
    "\n"
   ]
  },
  {
   "cell_type": "markdown",
   "metadata": {},
   "source": [
    "Create a smaller dataset of movies associated with the sci fi genre only"
   ]
  },
  {
   "cell_type": "code",
   "execution_count": 4,
   "metadata": {},
   "outputs": [],
   "source": [
    "# create a smaller dataset associated with sci-fi genre only\n",
    "scifi_dataset = final_dataset[(final_dataset['Genres'] == 'Sci-Fi') & (final_dataset['NumVotes'] > 25)]\n"
   ]
  },
  {
   "cell_type": "markdown",
   "metadata": {},
   "source": [
    "Import the Retriever class"
   ]
  },
  {
   "cell_type": "code",
   "execution_count": 5,
   "metadata": {},
   "outputs": [],
   "source": [
    "from Retriever import Retriever\n",
    "retriever = Retriever()"
   ]
  },
  {
   "cell_type": "markdown",
   "metadata": {},
   "source": [
    "For each movie id in the sci fi dataset check if it has more than 25 reviews associated and retrieve their ids"
   ]
  },
  {
   "cell_type": "code",
   "execution_count": 84,
   "metadata": {},
   "outputs": [
    {
     "name": "stderr",
     "output_type": "stream",
     "text": [
      "looking for review ids:   0%|          | 0/623 [00:00<?, ?movie/s]"
     ]
    },
    {
     "name": "stdout",
     "output_type": "stream",
     "text": [
      "Less than 25 reviews available - skipped\n"
     ]
    },
    {
     "name": "stderr",
     "output_type": "stream",
     "text": [
      "looking for review ids:   0%|          | 1/623 [00:17<2:58:36, 17.23s/movie]"
     ]
    },
    {
     "name": "stdout",
     "output_type": "stream",
     "text": [
      "Less than 25 reviews available - skipped\n"
     ]
    },
    {
     "name": "stderr",
     "output_type": "stream",
     "text": [
      "looking for review ids:   0%|          | 2/623 [00:34<2:57:28, 17.15s/movie]"
     ]
    },
    {
     "name": "stdout",
     "output_type": "stream",
     "text": [
      "Less than 25 reviews available - skipped\n"
     ]
    },
    {
     "name": "stderr",
     "output_type": "stream",
     "text": [
      "looking for review ids:   0%|          | 3/623 [00:52<3:00:11, 17.44s/movie]"
     ]
    },
    {
     "name": "stdout",
     "output_type": "stream",
     "text": [
      "Less than 25 reviews available - skipped\n"
     ]
    },
    {
     "name": "stderr",
     "output_type": "stream",
     "text": [
      "looking for review ids:   1%|          | 4/623 [01:09<3:00:50, 17.53s/movie]"
     ]
    },
    {
     "name": "stdout",
     "output_type": "stream",
     "text": [
      "Less than 25 reviews available - skipped\n"
     ]
    },
    {
     "name": "stderr",
     "output_type": "stream",
     "text": [
      "looking for review ids:   1%|          | 5/623 [01:27<3:03:06, 17.78s/movie]"
     ]
    },
    {
     "name": "stdout",
     "output_type": "stream",
     "text": [
      "Less than 25 reviews available - skipped\n"
     ]
    },
    {
     "name": "stderr",
     "output_type": "stream",
     "text": [
      "looking for review ids:   1%|          | 6/623 [01:45<3:01:37, 17.66s/movie]"
     ]
    },
    {
     "name": "stdout",
     "output_type": "stream",
     "text": [
      "Less than 25 reviews available - skipped\n"
     ]
    },
    {
     "name": "stderr",
     "output_type": "stream",
     "text": [
      "looking for review ids:   1%|          | 7/623 [02:03<3:01:44, 17.70s/movie]"
     ]
    },
    {
     "name": "stdout",
     "output_type": "stream",
     "text": [
      "Less than 25 reviews available - skipped\n"
     ]
    },
    {
     "name": "stderr",
     "output_type": "stream",
     "text": [
      "looking for review ids:   1%|▏         | 8/623 [02:20<3:00:42, 17.63s/movie]"
     ]
    },
    {
     "name": "stdout",
     "output_type": "stream",
     "text": [
      "Less than 25 reviews available - skipped\n"
     ]
    },
    {
     "name": "stderr",
     "output_type": "stream",
     "text": [
      "looking for review ids:   1%|▏         | 9/623 [02:38<3:00:15, 17.61s/movie]"
     ]
    },
    {
     "name": "stdout",
     "output_type": "stream",
     "text": [
      "Less than 25 reviews available - skipped\n"
     ]
    },
    {
     "name": "stderr",
     "output_type": "stream",
     "text": [
      "looking for review ids:   2%|▏         | 10/623 [02:56<3:02:04, 17.82s/movie]"
     ]
    },
    {
     "name": "stdout",
     "output_type": "stream",
     "text": [
      "esecuzione interrotta tempo finito\n"
     ]
    },
    {
     "name": "stderr",
     "output_type": "stream",
     "text": [
      "looking for review ids:   3%|▎         | 17/623 [05:21<2:54:54, 17.32s/movie]"
     ]
    },
    {
     "name": "stdout",
     "output_type": "stream",
     "text": [
      "Less than 25 reviews available - skipped\n"
     ]
    },
    {
     "name": "stderr",
     "output_type": "stream",
     "text": [
      "looking for review ids:   3%|▎         | 19/623 [05:54<2:51:19, 17.02s/movie]"
     ]
    },
    {
     "name": "stdout",
     "output_type": "stream",
     "text": [
      "Less than 25 reviews available - skipped\n"
     ]
    },
    {
     "name": "stderr",
     "output_type": "stream",
     "text": [
      "looking for review ids:   3%|▎         | 20/623 [06:13<2:54:57, 17.41s/movie]"
     ]
    },
    {
     "name": "stdout",
     "output_type": "stream",
     "text": [
      "esecuzione interrotta tempo finito\n"
     ]
    },
    {
     "name": "stderr",
     "output_type": "stream",
     "text": [
      "looking for review ids:   4%|▎         | 22/623 [07:15<3:51:47, 23.14s/movie]"
     ]
    },
    {
     "name": "stdout",
     "output_type": "stream",
     "text": [
      "esecuzione interrotta tempo finito\n"
     ]
    },
    {
     "name": "stderr",
     "output_type": "stream",
     "text": [
      "looking for review ids:   4%|▍         | 24/623 [08:16<4:15:42, 25.61s/movie]"
     ]
    },
    {
     "name": "stdout",
     "output_type": "stream",
     "text": [
      "Less than 25 reviews available - skipped\n"
     ]
    },
    {
     "name": "stderr",
     "output_type": "stream",
     "text": [
      "looking for review ids:   4%|▍         | 27/623 [09:06<3:14:53, 19.62s/movie]"
     ]
    },
    {
     "name": "stdout",
     "output_type": "stream",
     "text": [
      "Less than 25 reviews available - skipped\n"
     ]
    },
    {
     "name": "stderr",
     "output_type": "stream",
     "text": [
      "looking for review ids:   4%|▍         | 28/623 [09:24<3:10:13, 19.18s/movie]"
     ]
    },
    {
     "name": "stdout",
     "output_type": "stream",
     "text": [
      "esecuzione interrotta tempo finito\n"
     ]
    },
    {
     "name": "stderr",
     "output_type": "stream",
     "text": [
      "looking for review ids:   5%|▍         | 30/623 [10:27<3:58:51, 24.17s/movie]"
     ]
    },
    {
     "name": "stdout",
     "output_type": "stream",
     "text": [
      "Less than 25 reviews available - skipped\n"
     ]
    },
    {
     "name": "stderr",
     "output_type": "stream",
     "text": [
      "looking for review ids:   5%|▍         | 31/623 [10:44<3:37:22, 22.03s/movie]"
     ]
    },
    {
     "name": "stdout",
     "output_type": "stream",
     "text": [
      "Less than 25 reviews available - skipped\n"
     ]
    },
    {
     "name": "stderr",
     "output_type": "stream",
     "text": [
      "looking for review ids:   5%|▌         | 32/623 [11:02<3:24:12, 20.73s/movie]"
     ]
    },
    {
     "name": "stdout",
     "output_type": "stream",
     "text": [
      "Less than 25 reviews available - skipped\n"
     ]
    },
    {
     "name": "stderr",
     "output_type": "stream",
     "text": [
      "looking for review ids:   5%|▌         | 33/623 [11:20<3:16:29, 19.98s/movie]"
     ]
    },
    {
     "name": "stdout",
     "output_type": "stream",
     "text": [
      "Less than 25 reviews available - skipped\n"
     ]
    },
    {
     "name": "stderr",
     "output_type": "stream",
     "text": [
      "looking for review ids:   5%|▌         | 34/623 [11:38<3:10:24, 19.40s/movie]"
     ]
    },
    {
     "name": "stdout",
     "output_type": "stream",
     "text": [
      "Less than 25 reviews available - skipped\n"
     ]
    },
    {
     "name": "stderr",
     "output_type": "stream",
     "text": [
      "looking for review ids:   6%|▌         | 36/623 [12:13<2:59:59, 18.40s/movie]"
     ]
    },
    {
     "name": "stdout",
     "output_type": "stream",
     "text": [
      "Less than 25 reviews available - skipped\n"
     ]
    },
    {
     "name": "stderr",
     "output_type": "stream",
     "text": [
      "looking for review ids:   6%|▌         | 37/623 [12:30<2:57:08, 18.14s/movie]"
     ]
    },
    {
     "name": "stdout",
     "output_type": "stream",
     "text": [
      "Less than 25 reviews available - skipped\n"
     ]
    },
    {
     "name": "stderr",
     "output_type": "stream",
     "text": [
      "looking for review ids:   6%|▌         | 38/623 [12:48<2:55:28, 18.00s/movie]"
     ]
    },
    {
     "name": "stdout",
     "output_type": "stream",
     "text": [
      "esecuzione interrotta tempo finito\n"
     ]
    },
    {
     "name": "stderr",
     "output_type": "stream",
     "text": [
      "looking for review ids:   6%|▋         | 39/623 [13:33<4:14:36, 26.16s/movie]"
     ]
    },
    {
     "name": "stdout",
     "output_type": "stream",
     "text": [
      "Less than 25 reviews available - skipped\n"
     ]
    },
    {
     "name": "stderr",
     "output_type": "stream",
     "text": [
      "looking for review ids:   6%|▋         | 40/623 [13:52<3:51:44, 23.85s/movie]"
     ]
    },
    {
     "name": "stdout",
     "output_type": "stream",
     "text": [
      "Less than 25 reviews available - skipped\n"
     ]
    },
    {
     "name": "stderr",
     "output_type": "stream",
     "text": [
      "looking for review ids:   7%|▋         | 42/623 [14:26<3:16:17, 20.27s/movie]"
     ]
    },
    {
     "name": "stdout",
     "output_type": "stream",
     "text": [
      "Less than 25 reviews available - skipped\n"
     ]
    },
    {
     "name": "stderr",
     "output_type": "stream",
     "text": [
      "looking for review ids:   7%|▋         | 46/623 [15:37<2:53:01, 17.99s/movie]"
     ]
    },
    {
     "name": "stdout",
     "output_type": "stream",
     "text": [
      "Less than 25 reviews available - skipped\n"
     ]
    },
    {
     "name": "stderr",
     "output_type": "stream",
     "text": [
      "looking for review ids:   8%|▊         | 47/623 [15:54<2:50:18, 17.74s/movie]"
     ]
    },
    {
     "name": "stdout",
     "output_type": "stream",
     "text": [
      "Less than 25 reviews available - skipped\n"
     ]
    },
    {
     "name": "stderr",
     "output_type": "stream",
     "text": [
      "looking for review ids:   8%|▊         | 48/623 [16:12<2:51:02, 17.85s/movie]"
     ]
    },
    {
     "name": "stdout",
     "output_type": "stream",
     "text": [
      "Less than 25 reviews available - skipped\n"
     ]
    },
    {
     "name": "stderr",
     "output_type": "stream",
     "text": [
      "looking for review ids:   8%|▊         | 49/623 [16:29<2:48:10, 17.58s/movie]"
     ]
    },
    {
     "name": "stdout",
     "output_type": "stream",
     "text": [
      "Less than 25 reviews available - skipped\n"
     ]
    },
    {
     "name": "stderr",
     "output_type": "stream",
     "text": [
      "looking for review ids:   8%|▊         | 50/623 [16:47<2:50:39, 17.87s/movie]"
     ]
    },
    {
     "name": "stdout",
     "output_type": "stream",
     "text": [
      "Less than 25 reviews available - skipped\n"
     ]
    },
    {
     "name": "stderr",
     "output_type": "stream",
     "text": [
      "looking for review ids:   8%|▊         | 51/623 [17:05<2:50:18, 17.86s/movie]"
     ]
    },
    {
     "name": "stdout",
     "output_type": "stream",
     "text": [
      "Less than 25 reviews available - skipped\n"
     ]
    },
    {
     "name": "stderr",
     "output_type": "stream",
     "text": [
      "looking for review ids:   9%|▊         | 53/623 [17:39<2:45:06, 17.38s/movie]"
     ]
    },
    {
     "name": "stdout",
     "output_type": "stream",
     "text": [
      "Less than 25 reviews available - skipped\n"
     ]
    },
    {
     "name": "stderr",
     "output_type": "stream",
     "text": [
      "looking for review ids:   9%|▊         | 54/623 [17:58<2:47:10, 17.63s/movie]"
     ]
    },
    {
     "name": "stdout",
     "output_type": "stream",
     "text": [
      "Less than 25 reviews available - skipped\n"
     ]
    },
    {
     "name": "stderr",
     "output_type": "stream",
     "text": [
      "looking for review ids:   9%|▉         | 55/623 [18:15<2:46:47, 17.62s/movie]"
     ]
    },
    {
     "name": "stdout",
     "output_type": "stream",
     "text": [
      "Less than 25 reviews available - skipped\n"
     ]
    },
    {
     "name": "stderr",
     "output_type": "stream",
     "text": [
      "looking for review ids:   9%|▉         | 56/623 [18:33<2:47:38, 17.74s/movie]"
     ]
    },
    {
     "name": "stdout",
     "output_type": "stream",
     "text": [
      "Less than 25 reviews available - skipped\n"
     ]
    },
    {
     "name": "stderr",
     "output_type": "stream",
     "text": [
      "looking for review ids:   9%|▉         | 58/623 [19:10<2:49:04, 17.95s/movie]"
     ]
    },
    {
     "name": "stdout",
     "output_type": "stream",
     "text": [
      "Less than 25 reviews available - skipped\n"
     ]
    },
    {
     "name": "stderr",
     "output_type": "stream",
     "text": [
      "looking for review ids:   9%|▉         | 59/623 [19:27<2:47:33, 17.83s/movie]"
     ]
    },
    {
     "name": "stdout",
     "output_type": "stream",
     "text": [
      "esecuzione interrotta tempo finito\n"
     ]
    },
    {
     "name": "stderr",
     "output_type": "stream",
     "text": [
      "looking for review ids:  10%|▉         | 60/623 [20:13<4:05:06, 26.12s/movie]"
     ]
    },
    {
     "name": "stdout",
     "output_type": "stream",
     "text": [
      "Less than 25 reviews available - skipped\n"
     ]
    },
    {
     "name": "stderr",
     "output_type": "stream",
     "text": [
      "looking for review ids:  10%|▉         | 61/623 [20:30<3:39:09, 23.40s/movie]"
     ]
    },
    {
     "name": "stdout",
     "output_type": "stream",
     "text": [
      "Less than 25 reviews available - skipped\n"
     ]
    },
    {
     "name": "stderr",
     "output_type": "stream",
     "text": [
      "looking for review ids:  10%|█         | 64/623 [21:20<2:56:32, 18.95s/movie]"
     ]
    },
    {
     "name": "stdout",
     "output_type": "stream",
     "text": [
      "Less than 25 reviews available - skipped\n"
     ]
    },
    {
     "name": "stderr",
     "output_type": "stream",
     "text": [
      "looking for review ids:  10%|█         | 65/623 [21:37<2:52:22, 18.54s/movie]"
     ]
    },
    {
     "name": "stdout",
     "output_type": "stream",
     "text": [
      "Less than 25 reviews available - skipped\n"
     ]
    },
    {
     "name": "stderr",
     "output_type": "stream",
     "text": [
      "looking for review ids:  11%|█         | 66/623 [21:55<2:50:48, 18.40s/movie]"
     ]
    },
    {
     "name": "stdout",
     "output_type": "stream",
     "text": [
      "esecuzione interrotta tempo finito\n"
     ]
    },
    {
     "name": "stderr",
     "output_type": "stream",
     "text": [
      "looking for review ids:  11%|█         | 67/623 [22:41<4:06:19, 26.58s/movie]"
     ]
    },
    {
     "name": "stdout",
     "output_type": "stream",
     "text": [
      "Less than 25 reviews available - skipped\n"
     ]
    },
    {
     "name": "stderr",
     "output_type": "stream",
     "text": [
      "looking for review ids:  11%|█         | 68/623 [22:59<3:40:29, 23.84s/movie]"
     ]
    },
    {
     "name": "stdout",
     "output_type": "stream",
     "text": [
      "Less than 25 reviews available - skipped\n"
     ]
    },
    {
     "name": "stderr",
     "output_type": "stream",
     "text": [
      "looking for review ids:  11%|█▏        | 71/623 [23:48<2:54:37, 18.98s/movie]"
     ]
    },
    {
     "name": "stdout",
     "output_type": "stream",
     "text": [
      "Less than 25 reviews available - skipped\n"
     ]
    },
    {
     "name": "stderr",
     "output_type": "stream",
     "text": [
      "looking for review ids:  12%|█▏        | 72/623 [24:06<2:50:51, 18.60s/movie]"
     ]
    },
    {
     "name": "stdout",
     "output_type": "stream",
     "text": [
      "Less than 25 reviews available - skipped\n"
     ]
    },
    {
     "name": "stderr",
     "output_type": "stream",
     "text": [
      "looking for review ids:  12%|█▏        | 73/623 [24:24<2:47:37, 18.29s/movie]"
     ]
    },
    {
     "name": "stdout",
     "output_type": "stream",
     "text": [
      "Less than 25 reviews available - skipped\n"
     ]
    },
    {
     "name": "stderr",
     "output_type": "stream",
     "text": [
      "looking for review ids:  12%|█▏        | 74/623 [24:41<2:44:32, 17.98s/movie]"
     ]
    },
    {
     "name": "stdout",
     "output_type": "stream",
     "text": [
      "Less than 25 reviews available - skipped\n"
     ]
    },
    {
     "name": "stderr",
     "output_type": "stream",
     "text": [
      "looking for review ids:  12%|█▏        | 75/623 [24:58<2:42:42, 17.81s/movie]"
     ]
    },
    {
     "name": "stdout",
     "output_type": "stream",
     "text": [
      "Less than 25 reviews available - skipped\n"
     ]
    },
    {
     "name": "stderr",
     "output_type": "stream",
     "text": [
      "looking for review ids:  12%|█▏        | 76/623 [25:16<2:41:37, 17.73s/movie]"
     ]
    },
    {
     "name": "stdout",
     "output_type": "stream",
     "text": [
      "Less than 25 reviews available - skipped\n"
     ]
    },
    {
     "name": "stderr",
     "output_type": "stream",
     "text": [
      "looking for review ids:  12%|█▏        | 77/623 [25:33<2:38:54, 17.46s/movie]"
     ]
    },
    {
     "name": "stdout",
     "output_type": "stream",
     "text": [
      "Less than 25 reviews available - skipped\n"
     ]
    },
    {
     "name": "stderr",
     "output_type": "stream",
     "text": [
      "looking for review ids:  13%|█▎        | 78/623 [25:50<2:38:49, 17.48s/movie]"
     ]
    },
    {
     "name": "stdout",
     "output_type": "stream",
     "text": [
      "Less than 25 reviews available - skipped\n"
     ]
    },
    {
     "name": "stderr",
     "output_type": "stream",
     "text": [
      "looking for review ids:  13%|█▎        | 79/623 [26:08<2:38:12, 17.45s/movie]"
     ]
    },
    {
     "name": "stdout",
     "output_type": "stream",
     "text": [
      "Less than 25 reviews available - skipped\n"
     ]
    },
    {
     "name": "stderr",
     "output_type": "stream",
     "text": [
      "looking for review ids:  13%|█▎        | 80/623 [26:25<2:37:51, 17.44s/movie]"
     ]
    },
    {
     "name": "stdout",
     "output_type": "stream",
     "text": [
      "Less than 25 reviews available - skipped\n"
     ]
    },
    {
     "name": "stderr",
     "output_type": "stream",
     "text": [
      "looking for review ids:  13%|█▎        | 81/623 [26:42<2:36:19, 17.31s/movie]"
     ]
    },
    {
     "name": "stdout",
     "output_type": "stream",
     "text": [
      "Less than 25 reviews available - skipped\n"
     ]
    },
    {
     "name": "stderr",
     "output_type": "stream",
     "text": [
      "looking for review ids:  13%|█▎        | 82/623 [26:59<2:35:36, 17.26s/movie]"
     ]
    },
    {
     "name": "stdout",
     "output_type": "stream",
     "text": [
      "Less than 25 reviews available - skipped\n"
     ]
    },
    {
     "name": "stderr",
     "output_type": "stream",
     "text": [
      "looking for review ids:  13%|█▎        | 83/623 [27:17<2:35:38, 17.29s/movie]"
     ]
    },
    {
     "name": "stdout",
     "output_type": "stream",
     "text": [
      "Less than 25 reviews available - skipped\n"
     ]
    },
    {
     "name": "stderr",
     "output_type": "stream",
     "text": [
      "looking for review ids:  13%|█▎        | 84/623 [27:34<2:35:02, 17.26s/movie]"
     ]
    },
    {
     "name": "stdout",
     "output_type": "stream",
     "text": [
      "Less than 25 reviews available - skipped\n"
     ]
    },
    {
     "name": "stderr",
     "output_type": "stream",
     "text": [
      "looking for review ids:  14%|█▎        | 85/623 [27:51<2:34:43, 17.26s/movie]"
     ]
    },
    {
     "name": "stdout",
     "output_type": "stream",
     "text": [
      "Less than 25 reviews available - skipped\n"
     ]
    },
    {
     "name": "stderr",
     "output_type": "stream",
     "text": [
      "looking for review ids:  14%|█▍        | 86/623 [28:08<2:32:47, 17.07s/movie]"
     ]
    },
    {
     "name": "stdout",
     "output_type": "stream",
     "text": [
      "Less than 25 reviews available - skipped\n"
     ]
    },
    {
     "name": "stderr",
     "output_type": "stream",
     "text": [
      "looking for review ids:  14%|█▍        | 87/623 [28:25<2:32:23, 17.06s/movie]"
     ]
    },
    {
     "name": "stdout",
     "output_type": "stream",
     "text": [
      "Less than 25 reviews available - skipped\n"
     ]
    },
    {
     "name": "stderr",
     "output_type": "stream",
     "text": [
      "looking for review ids:  14%|█▍        | 88/623 [28:42<2:32:42, 17.13s/movie]"
     ]
    },
    {
     "name": "stdout",
     "output_type": "stream",
     "text": [
      "Less than 25 reviews available - skipped\n"
     ]
    },
    {
     "name": "stderr",
     "output_type": "stream",
     "text": [
      "looking for review ids:  14%|█▍        | 89/623 [28:59<2:32:08, 17.09s/movie]"
     ]
    },
    {
     "name": "stdout",
     "output_type": "stream",
     "text": [
      "Less than 25 reviews available - skipped\n"
     ]
    },
    {
     "name": "stderr",
     "output_type": "stream",
     "text": [
      "looking for review ids:  14%|█▍        | 90/623 [29:16<2:31:13, 17.02s/movie]"
     ]
    },
    {
     "name": "stdout",
     "output_type": "stream",
     "text": [
      "Less than 25 reviews available - skipped\n"
     ]
    },
    {
     "name": "stderr",
     "output_type": "stream",
     "text": [
      "looking for review ids:  15%|█▍        | 91/623 [29:33<2:31:12, 17.05s/movie]"
     ]
    },
    {
     "name": "stdout",
     "output_type": "stream",
     "text": [
      "Less than 25 reviews available - skipped\n"
     ]
    },
    {
     "name": "stderr",
     "output_type": "stream",
     "text": [
      "looking for review ids:  15%|█▍        | 92/623 [29:51<2:32:47, 17.27s/movie]"
     ]
    },
    {
     "name": "stdout",
     "output_type": "stream",
     "text": [
      "Less than 25 reviews available - skipped\n"
     ]
    },
    {
     "name": "stderr",
     "output_type": "stream",
     "text": [
      "looking for review ids:  15%|█▌        | 95/623 [30:41<2:25:07, 16.49s/movie]"
     ]
    },
    {
     "name": "stdout",
     "output_type": "stream",
     "text": [
      "Less than 25 reviews available - skipped\n"
     ]
    },
    {
     "name": "stderr",
     "output_type": "stream",
     "text": [
      "looking for review ids:  15%|█▌        | 96/623 [30:59<2:28:32, 16.91s/movie]"
     ]
    },
    {
     "name": "stdout",
     "output_type": "stream",
     "text": [
      "Less than 25 reviews available - skipped\n"
     ]
    },
    {
     "name": "stderr",
     "output_type": "stream",
     "text": [
      "looking for review ids:  16%|█▌        | 97/623 [31:16<2:29:45, 17.08s/movie]"
     ]
    },
    {
     "name": "stdout",
     "output_type": "stream",
     "text": [
      "Less than 25 reviews available - skipped\n"
     ]
    },
    {
     "name": "stderr",
     "output_type": "stream",
     "text": [
      "looking for review ids:  16%|█▌        | 98/623 [31:34<2:31:12, 17.28s/movie]"
     ]
    },
    {
     "name": "stdout",
     "output_type": "stream",
     "text": [
      "Less than 25 reviews available - skipped\n"
     ]
    },
    {
     "name": "stderr",
     "output_type": "stream",
     "text": [
      "looking for review ids:  16%|█▌        | 100/623 [32:07<2:28:01, 16.98s/movie]"
     ]
    },
    {
     "name": "stdout",
     "output_type": "stream",
     "text": [
      "Less than 25 reviews available - skipped\n"
     ]
    },
    {
     "name": "stderr",
     "output_type": "stream",
     "text": [
      "looking for review ids:  16%|█▌        | 101/623 [32:25<2:29:20, 17.17s/movie]"
     ]
    },
    {
     "name": "stdout",
     "output_type": "stream",
     "text": [
      "Less than 25 reviews available - skipped\n"
     ]
    },
    {
     "name": "stderr",
     "output_type": "stream",
     "text": [
      "looking for review ids:  16%|█▋        | 102/623 [32:42<2:28:46, 17.13s/movie]"
     ]
    },
    {
     "name": "stdout",
     "output_type": "stream",
     "text": [
      "Less than 25 reviews available - skipped\n"
     ]
    },
    {
     "name": "stderr",
     "output_type": "stream",
     "text": [
      "looking for review ids:  17%|█▋        | 103/623 [33:00<2:29:29, 17.25s/movie]"
     ]
    },
    {
     "name": "stdout",
     "output_type": "stream",
     "text": [
      "Less than 25 reviews available - skipped\n"
     ]
    },
    {
     "name": "stderr",
     "output_type": "stream",
     "text": [
      "looking for review ids:  17%|█▋        | 104/623 [33:17<2:29:34, 17.29s/movie]"
     ]
    },
    {
     "name": "stdout",
     "output_type": "stream",
     "text": [
      "esecuzione interrotta tempo finito\n"
     ]
    },
    {
     "name": "stderr",
     "output_type": "stream",
     "text": [
      "looking for review ids:  17%|█▋        | 105/623 [34:03<3:43:28, 25.88s/movie]"
     ]
    },
    {
     "name": "stdout",
     "output_type": "stream",
     "text": [
      "Less than 25 reviews available - skipped\n"
     ]
    },
    {
     "name": "stderr",
     "output_type": "stream",
     "text": [
      "looking for review ids:  17%|█▋        | 106/623 [34:21<3:23:06, 23.57s/movie]"
     ]
    },
    {
     "name": "stdout",
     "output_type": "stream",
     "text": [
      "Less than 25 reviews available - skipped\n"
     ]
    },
    {
     "name": "stderr",
     "output_type": "stream",
     "text": [
      "looking for review ids:  17%|█▋        | 107/623 [34:39<3:07:11, 21.77s/movie]"
     ]
    },
    {
     "name": "stdout",
     "output_type": "stream",
     "text": [
      "Less than 25 reviews available - skipped\n"
     ]
    },
    {
     "name": "stderr",
     "output_type": "stream",
     "text": [
      "looking for review ids:  17%|█▋        | 108/623 [34:56<2:55:35, 20.46s/movie]"
     ]
    },
    {
     "name": "stdout",
     "output_type": "stream",
     "text": [
      "Less than 25 reviews available - skipped\n"
     ]
    },
    {
     "name": "stderr",
     "output_type": "stream",
     "text": [
      "looking for review ids:  17%|█▋        | 109/623 [35:15<2:52:25, 20.13s/movie]"
     ]
    },
    {
     "name": "stdout",
     "output_type": "stream",
     "text": [
      "Less than 25 reviews available - skipped\n"
     ]
    },
    {
     "name": "stderr",
     "output_type": "stream",
     "text": [
      "looking for review ids:  18%|█▊        | 110/623 [35:33<2:46:16, 19.45s/movie]"
     ]
    },
    {
     "name": "stdout",
     "output_type": "stream",
     "text": [
      "Less than 25 reviews available - skipped\n"
     ]
    },
    {
     "name": "stderr",
     "output_type": "stream",
     "text": [
      "looking for review ids:  18%|█▊        | 113/623 [36:22<2:25:12, 17.08s/movie]"
     ]
    },
    {
     "name": "stdout",
     "output_type": "stream",
     "text": [
      "Less than 25 reviews available - skipped\n"
     ]
    },
    {
     "name": "stderr",
     "output_type": "stream",
     "text": [
      "looking for review ids:  18%|█▊        | 115/623 [36:54<2:19:04, 16.43s/movie]"
     ]
    },
    {
     "name": "stdout",
     "output_type": "stream",
     "text": [
      "Less than 25 reviews available - skipped\n"
     ]
    },
    {
     "name": "stderr",
     "output_type": "stream",
     "text": [
      "looking for review ids:  19%|█▊        | 116/623 [37:11<2:21:40, 16.77s/movie]"
     ]
    },
    {
     "name": "stdout",
     "output_type": "stream",
     "text": [
      "Less than 25 reviews available - skipped\n"
     ]
    },
    {
     "name": "stderr",
     "output_type": "stream",
     "text": [
      "looking for review ids:  19%|█▉        | 118/623 [37:43<2:17:18, 16.31s/movie]"
     ]
    },
    {
     "name": "stdout",
     "output_type": "stream",
     "text": [
      "Less than 25 reviews available - skipped\n"
     ]
    },
    {
     "name": "stderr",
     "output_type": "stream",
     "text": [
      "looking for review ids:  19%|█▉        | 119/623 [38:01<2:19:49, 16.65s/movie]"
     ]
    },
    {
     "name": "stdout",
     "output_type": "stream",
     "text": [
      "Less than 25 reviews available - skipped\n"
     ]
    },
    {
     "name": "stderr",
     "output_type": "stream",
     "text": [
      "looking for review ids:  19%|█▉        | 121/623 [38:34<2:19:20, 16.65s/movie]"
     ]
    },
    {
     "name": "stdout",
     "output_type": "stream",
     "text": [
      "Less than 25 reviews available - skipped\n"
     ]
    },
    {
     "name": "stderr",
     "output_type": "stream",
     "text": [
      "looking for review ids:  20%|█▉        | 122/623 [38:52<2:22:01, 17.01s/movie]"
     ]
    },
    {
     "name": "stdout",
     "output_type": "stream",
     "text": [
      "Less than 25 reviews available - skipped\n"
     ]
    },
    {
     "name": "stderr",
     "output_type": "stream",
     "text": [
      "looking for review ids:  20%|█▉        | 123/623 [39:09<2:21:37, 16.99s/movie]"
     ]
    },
    {
     "name": "stdout",
     "output_type": "stream",
     "text": [
      "Less than 25 reviews available - skipped\n"
     ]
    },
    {
     "name": "stderr",
     "output_type": "stream",
     "text": [
      "looking for review ids:  20%|█▉        | 124/623 [39:27<2:22:21, 17.12s/movie]"
     ]
    },
    {
     "name": "stdout",
     "output_type": "stream",
     "text": [
      "Less than 25 reviews available - skipped\n"
     ]
    },
    {
     "name": "stderr",
     "output_type": "stream",
     "text": [
      "looking for review ids:  20%|██        | 125/623 [39:45<2:24:54, 17.46s/movie]"
     ]
    },
    {
     "name": "stdout",
     "output_type": "stream",
     "text": [
      "Less than 25 reviews available - skipped\n"
     ]
    },
    {
     "name": "stderr",
     "output_type": "stream",
     "text": [
      "looking for review ids:  20%|██        | 126/623 [40:04<2:28:18, 17.90s/movie]"
     ]
    },
    {
     "name": "stdout",
     "output_type": "stream",
     "text": [
      "Less than 25 reviews available - skipped\n"
     ]
    },
    {
     "name": "stderr",
     "output_type": "stream",
     "text": [
      "looking for review ids:  20%|██        | 127/623 [40:21<2:26:36, 17.73s/movie]"
     ]
    },
    {
     "name": "stdout",
     "output_type": "stream",
     "text": [
      "Less than 25 reviews available - skipped\n"
     ]
    },
    {
     "name": "stderr",
     "output_type": "stream",
     "text": [
      "looking for review ids:  21%|██        | 128/623 [40:39<2:25:43, 17.66s/movie]"
     ]
    },
    {
     "name": "stdout",
     "output_type": "stream",
     "text": [
      "esecuzione interrotta tempo finito\n"
     ]
    },
    {
     "name": "stderr",
     "output_type": "stream",
     "text": [
      "looking for review ids:  21%|██        | 129/623 [41:24<3:33:22, 25.92s/movie]"
     ]
    },
    {
     "name": "stdout",
     "output_type": "stream",
     "text": [
      "Less than 25 reviews available - skipped\n"
     ]
    },
    {
     "name": "stderr",
     "output_type": "stream",
     "text": [
      "looking for review ids:  21%|██        | 131/623 [41:57<2:51:46, 20.95s/movie]"
     ]
    },
    {
     "name": "stdout",
     "output_type": "stream",
     "text": [
      "Less than 25 reviews available - skipped\n"
     ]
    },
    {
     "name": "stderr",
     "output_type": "stream",
     "text": [
      "looking for review ids:  21%|██        | 132/623 [42:14<2:42:32, 19.86s/movie]"
     ]
    },
    {
     "name": "stdout",
     "output_type": "stream",
     "text": [
      "Less than 25 reviews available - skipped\n"
     ]
    },
    {
     "name": "stderr",
     "output_type": "stream",
     "text": [
      "looking for review ids:  21%|██▏       | 133/623 [42:32<2:37:10, 19.25s/movie]"
     ]
    },
    {
     "name": "stdout",
     "output_type": "stream",
     "text": [
      "Less than 25 reviews available - skipped\n"
     ]
    },
    {
     "name": "stderr",
     "output_type": "stream",
     "text": [
      "looking for review ids:  22%|██▏       | 134/623 [42:49<2:32:21, 18.69s/movie]"
     ]
    },
    {
     "name": "stdout",
     "output_type": "stream",
     "text": [
      "Less than 25 reviews available - skipped\n"
     ]
    },
    {
     "name": "stderr",
     "output_type": "stream",
     "text": [
      "looking for review ids:  22%|██▏       | 135/623 [43:06<2:27:08, 18.09s/movie]"
     ]
    },
    {
     "name": "stdout",
     "output_type": "stream",
     "text": [
      "Less than 25 reviews available - skipped\n"
     ]
    },
    {
     "name": "stderr",
     "output_type": "stream",
     "text": [
      "looking for review ids:  22%|██▏       | 136/623 [43:23<2:24:37, 17.82s/movie]"
     ]
    },
    {
     "name": "stdout",
     "output_type": "stream",
     "text": [
      "Less than 25 reviews available - skipped\n"
     ]
    },
    {
     "name": "stderr",
     "output_type": "stream",
     "text": [
      "looking for review ids:  22%|██▏       | 137/623 [43:40<2:23:27, 17.71s/movie]"
     ]
    },
    {
     "name": "stdout",
     "output_type": "stream",
     "text": [
      "Less than 25 reviews available - skipped\n"
     ]
    },
    {
     "name": "stderr",
     "output_type": "stream",
     "text": [
      "looking for review ids:  22%|██▏       | 138/623 [43:58<2:22:02, 17.57s/movie]"
     ]
    },
    {
     "name": "stdout",
     "output_type": "stream",
     "text": [
      "Less than 25 reviews available - skipped\n"
     ]
    },
    {
     "name": "stderr",
     "output_type": "stream",
     "text": [
      "looking for review ids:  22%|██▏       | 139/623 [44:15<2:20:21, 17.40s/movie]"
     ]
    },
    {
     "name": "stdout",
     "output_type": "stream",
     "text": [
      "Less than 25 reviews available - skipped\n"
     ]
    },
    {
     "name": "stderr",
     "output_type": "stream",
     "text": [
      "looking for review ids:  22%|██▏       | 140/623 [44:32<2:19:55, 17.38s/movie]"
     ]
    },
    {
     "name": "stdout",
     "output_type": "stream",
     "text": [
      "Less than 25 reviews available - skipped\n"
     ]
    },
    {
     "name": "stderr",
     "output_type": "stream",
     "text": [
      "looking for review ids:  23%|██▎       | 141/623 [44:49<2:19:25, 17.36s/movie]"
     ]
    },
    {
     "name": "stdout",
     "output_type": "stream",
     "text": [
      "Less than 25 reviews available - skipped\n"
     ]
    },
    {
     "name": "stderr",
     "output_type": "stream",
     "text": [
      "looking for review ids:  23%|██▎       | 142/623 [45:07<2:20:03, 17.47s/movie]"
     ]
    },
    {
     "name": "stdout",
     "output_type": "stream",
     "text": [
      "Less than 25 reviews available - skipped\n"
     ]
    },
    {
     "name": "stderr",
     "output_type": "stream",
     "text": [
      "looking for review ids:  23%|██▎       | 143/623 [45:25<2:21:18, 17.66s/movie]"
     ]
    },
    {
     "name": "stdout",
     "output_type": "stream",
     "text": [
      "Less than 25 reviews available - skipped\n"
     ]
    },
    {
     "name": "stderr",
     "output_type": "stream",
     "text": [
      "looking for review ids:  23%|██▎       | 144/623 [45:42<2:20:01, 17.54s/movie]"
     ]
    },
    {
     "name": "stdout",
     "output_type": "stream",
     "text": [
      "Less than 25 reviews available - skipped\n"
     ]
    },
    {
     "name": "stderr",
     "output_type": "stream",
     "text": [
      "looking for review ids:  23%|██▎       | 145/623 [45:59<2:18:20, 17.37s/movie]"
     ]
    },
    {
     "name": "stdout",
     "output_type": "stream",
     "text": [
      "Less than 25 reviews available - skipped\n"
     ]
    },
    {
     "name": "stderr",
     "output_type": "stream",
     "text": [
      "looking for review ids:  23%|██▎       | 146/623 [46:17<2:18:08, 17.38s/movie]"
     ]
    },
    {
     "name": "stdout",
     "output_type": "stream",
     "text": [
      "Less than 25 reviews available - skipped\n"
     ]
    },
    {
     "name": "stderr",
     "output_type": "stream",
     "text": [
      "looking for review ids:  24%|██▎       | 147/623 [46:34<2:17:47, 17.37s/movie]"
     ]
    },
    {
     "name": "stdout",
     "output_type": "stream",
     "text": [
      "Less than 25 reviews available - skipped\n"
     ]
    },
    {
     "name": "stderr",
     "output_type": "stream",
     "text": [
      "looking for review ids:  24%|██▍       | 148/623 [46:52<2:17:46, 17.40s/movie]"
     ]
    },
    {
     "name": "stdout",
     "output_type": "stream",
     "text": [
      "Less than 25 reviews available - skipped\n"
     ]
    },
    {
     "name": "stderr",
     "output_type": "stream",
     "text": [
      "looking for review ids:  24%|██▍       | 149/623 [47:09<2:17:19, 17.38s/movie]"
     ]
    },
    {
     "name": "stdout",
     "output_type": "stream",
     "text": [
      "Less than 25 reviews available - skipped\n"
     ]
    },
    {
     "name": "stderr",
     "output_type": "stream",
     "text": [
      "looking for review ids:  24%|██▍       | 150/623 [47:26<2:16:50, 17.36s/movie]"
     ]
    },
    {
     "name": "stdout",
     "output_type": "stream",
     "text": [
      "Less than 25 reviews available - skipped\n"
     ]
    },
    {
     "name": "stderr",
     "output_type": "stream",
     "text": [
      "looking for review ids:  24%|██▍       | 151/623 [47:44<2:17:46, 17.51s/movie]"
     ]
    },
    {
     "name": "stdout",
     "output_type": "stream",
     "text": [
      "Less than 25 reviews available - skipped\n"
     ]
    },
    {
     "name": "stderr",
     "output_type": "stream",
     "text": [
      "looking for review ids:  24%|██▍       | 152/623 [48:01<2:16:33, 17.40s/movie]"
     ]
    },
    {
     "name": "stdout",
     "output_type": "stream",
     "text": [
      "Less than 25 reviews available - skipped\n"
     ]
    },
    {
     "name": "stderr",
     "output_type": "stream",
     "text": [
      "looking for review ids:  25%|██▍       | 153/623 [48:18<2:15:26, 17.29s/movie]"
     ]
    },
    {
     "name": "stdout",
     "output_type": "stream",
     "text": [
      "Less than 25 reviews available - skipped\n"
     ]
    },
    {
     "name": "stderr",
     "output_type": "stream",
     "text": [
      "looking for review ids:  25%|██▍       | 154/623 [48:37<2:19:04, 17.79s/movie]"
     ]
    },
    {
     "name": "stdout",
     "output_type": "stream",
     "text": [
      "Less than 25 reviews available - skipped\n"
     ]
    },
    {
     "name": "stderr",
     "output_type": "stream",
     "text": [
      "looking for review ids:  25%|██▍       | 155/623 [48:54<2:17:11, 17.59s/movie]"
     ]
    },
    {
     "name": "stdout",
     "output_type": "stream",
     "text": [
      "Less than 25 reviews available - skipped\n"
     ]
    },
    {
     "name": "stderr",
     "output_type": "stream",
     "text": [
      "looking for review ids:  25%|██▌       | 156/623 [49:11<2:14:49, 17.32s/movie]"
     ]
    },
    {
     "name": "stdout",
     "output_type": "stream",
     "text": [
      "Less than 25 reviews available - skipped\n"
     ]
    },
    {
     "name": "stderr",
     "output_type": "stream",
     "text": [
      "looking for review ids:  25%|██▌       | 157/623 [49:30<2:18:07, 17.78s/movie]"
     ]
    },
    {
     "name": "stdout",
     "output_type": "stream",
     "text": [
      "Less than 25 reviews available - skipped\n"
     ]
    },
    {
     "name": "stderr",
     "output_type": "stream",
     "text": [
      "looking for review ids:  25%|██▌       | 158/623 [49:47<2:16:55, 17.67s/movie]"
     ]
    },
    {
     "name": "stdout",
     "output_type": "stream",
     "text": [
      "Less than 25 reviews available - skipped\n"
     ]
    },
    {
     "name": "stderr",
     "output_type": "stream",
     "text": [
      "looking for review ids:  26%|██▌       | 159/623 [50:05<2:16:02, 17.59s/movie]"
     ]
    },
    {
     "name": "stdout",
     "output_type": "stream",
     "text": [
      "Less than 25 reviews available - skipped\n"
     ]
    },
    {
     "name": "stderr",
     "output_type": "stream",
     "text": [
      "looking for review ids:  26%|██▌       | 160/623 [50:22<2:16:06, 17.64s/movie]"
     ]
    },
    {
     "name": "stdout",
     "output_type": "stream",
     "text": [
      "Less than 25 reviews available - skipped\n"
     ]
    },
    {
     "name": "stderr",
     "output_type": "stream",
     "text": [
      "looking for review ids:  26%|██▌       | 161/623 [50:40<2:15:22, 17.58s/movie]"
     ]
    },
    {
     "name": "stdout",
     "output_type": "stream",
     "text": [
      "Less than 25 reviews available - skipped\n"
     ]
    },
    {
     "name": "stderr",
     "output_type": "stream",
     "text": [
      "looking for review ids:  26%|██▌       | 162/623 [50:57<2:13:54, 17.43s/movie]"
     ]
    },
    {
     "name": "stdout",
     "output_type": "stream",
     "text": [
      "Less than 25 reviews available - skipped\n"
     ]
    },
    {
     "name": "stderr",
     "output_type": "stream",
     "text": [
      "looking for review ids:  26%|██▌       | 163/623 [51:14<2:13:41, 17.44s/movie]"
     ]
    },
    {
     "name": "stdout",
     "output_type": "stream",
     "text": [
      "Less than 25 reviews available - skipped\n"
     ]
    },
    {
     "name": "stderr",
     "output_type": "stream",
     "text": [
      "looking for review ids:  26%|██▋       | 164/623 [51:32<2:13:54, 17.50s/movie]"
     ]
    },
    {
     "name": "stdout",
     "output_type": "stream",
     "text": [
      "Less than 25 reviews available - skipped\n"
     ]
    },
    {
     "name": "stderr",
     "output_type": "stream",
     "text": [
      "looking for review ids:  26%|██▋       | 165/623 [51:49<2:12:13, 17.32s/movie]"
     ]
    },
    {
     "name": "stdout",
     "output_type": "stream",
     "text": [
      "Less than 25 reviews available - skipped\n"
     ]
    },
    {
     "name": "stderr",
     "output_type": "stream",
     "text": [
      "looking for review ids:  27%|██▋       | 166/623 [52:07<2:12:46, 17.43s/movie]"
     ]
    },
    {
     "name": "stdout",
     "output_type": "stream",
     "text": [
      "Less than 25 reviews available - skipped\n"
     ]
    },
    {
     "name": "stderr",
     "output_type": "stream",
     "text": [
      "looking for review ids:  27%|██▋       | 167/623 [52:24<2:12:02, 17.37s/movie]"
     ]
    },
    {
     "name": "stdout",
     "output_type": "stream",
     "text": [
      "Less than 25 reviews available - skipped\n"
     ]
    },
    {
     "name": "stderr",
     "output_type": "stream",
     "text": [
      "looking for review ids:  27%|██▋       | 168/623 [52:41<2:11:12, 17.30s/movie]"
     ]
    },
    {
     "name": "stdout",
     "output_type": "stream",
     "text": [
      "Less than 25 reviews available - skipped\n"
     ]
    },
    {
     "name": "stderr",
     "output_type": "stream",
     "text": [
      "looking for review ids:  27%|██▋       | 169/623 [52:58<2:10:10, 17.20s/movie]"
     ]
    },
    {
     "name": "stdout",
     "output_type": "stream",
     "text": [
      "Less than 25 reviews available - skipped\n"
     ]
    },
    {
     "name": "stderr",
     "output_type": "stream",
     "text": [
      "looking for review ids:  27%|██▋       | 170/623 [53:16<2:11:09, 17.37s/movie]"
     ]
    },
    {
     "name": "stdout",
     "output_type": "stream",
     "text": [
      "Less than 25 reviews available - skipped\n"
     ]
    },
    {
     "name": "stderr",
     "output_type": "stream",
     "text": [
      "looking for review ids:  27%|██▋       | 171/623 [53:34<2:11:48, 17.50s/movie]"
     ]
    },
    {
     "name": "stdout",
     "output_type": "stream",
     "text": [
      "Less than 25 reviews available - skipped\n"
     ]
    },
    {
     "name": "stderr",
     "output_type": "stream",
     "text": [
      "looking for review ids:  28%|██▊       | 173/623 [54:07<2:08:14, 17.10s/movie]"
     ]
    },
    {
     "name": "stdout",
     "output_type": "stream",
     "text": [
      "Less than 25 reviews available - skipped\n"
     ]
    },
    {
     "name": "stderr",
     "output_type": "stream",
     "text": [
      "looking for review ids:  28%|██▊       | 174/623 [54:25<2:08:27, 17.17s/movie]"
     ]
    },
    {
     "name": "stdout",
     "output_type": "stream",
     "text": [
      "Less than 25 reviews available - skipped\n"
     ]
    },
    {
     "name": "stderr",
     "output_type": "stream",
     "text": [
      "looking for review ids:  28%|██▊       | 175/623 [54:42<2:09:00, 17.28s/movie]"
     ]
    },
    {
     "name": "stdout",
     "output_type": "stream",
     "text": [
      "Less than 25 reviews available - skipped\n"
     ]
    },
    {
     "name": "stderr",
     "output_type": "stream",
     "text": [
      "looking for review ids:  28%|██▊       | 176/623 [55:00<2:09:17, 17.36s/movie]"
     ]
    },
    {
     "name": "stdout",
     "output_type": "stream",
     "text": [
      "Less than 25 reviews available - skipped\n"
     ]
    },
    {
     "name": "stderr",
     "output_type": "stream",
     "text": [
      "looking for review ids:  29%|██▊       | 178/623 [55:33<2:04:03, 16.73s/movie]"
     ]
    },
    {
     "name": "stdout",
     "output_type": "stream",
     "text": [
      "Less than 25 reviews available - skipped\n"
     ]
    },
    {
     "name": "stderr",
     "output_type": "stream",
     "text": [
      "looking for review ids:  29%|██▊       | 179/623 [55:50<2:05:02, 16.90s/movie]"
     ]
    },
    {
     "name": "stdout",
     "output_type": "stream",
     "text": [
      "Less than 25 reviews available - skipped\n"
     ]
    },
    {
     "name": "stderr",
     "output_type": "stream",
     "text": [
      "looking for review ids:  29%|██▉       | 180/623 [56:07<2:04:23, 16.85s/movie]"
     ]
    },
    {
     "name": "stdout",
     "output_type": "stream",
     "text": [
      "Less than 25 reviews available - skipped\n"
     ]
    },
    {
     "name": "stderr",
     "output_type": "stream",
     "text": [
      "looking for review ids:  29%|██▉       | 181/623 [56:24<2:04:55, 16.96s/movie]"
     ]
    },
    {
     "name": "stdout",
     "output_type": "stream",
     "text": [
      "Less than 25 reviews available - skipped\n"
     ]
    },
    {
     "name": "stderr",
     "output_type": "stream",
     "text": [
      "looking for review ids:  29%|██▉       | 182/623 [56:41<2:05:03, 17.01s/movie]"
     ]
    },
    {
     "name": "stdout",
     "output_type": "stream",
     "text": [
      "Less than 25 reviews available - skipped\n"
     ]
    },
    {
     "name": "stderr",
     "output_type": "stream",
     "text": [
      "looking for review ids:  29%|██▉       | 183/623 [56:58<2:04:24, 16.96s/movie]"
     ]
    },
    {
     "name": "stdout",
     "output_type": "stream",
     "text": [
      "Less than 25 reviews available - skipped\n"
     ]
    },
    {
     "name": "stderr",
     "output_type": "stream",
     "text": [
      "looking for review ids:  30%|██▉       | 184/623 [57:16<2:06:00, 17.22s/movie]"
     ]
    },
    {
     "name": "stdout",
     "output_type": "stream",
     "text": [
      "Less than 25 reviews available - skipped\n"
     ]
    },
    {
     "name": "stderr",
     "output_type": "stream",
     "text": [
      "looking for review ids:  30%|██▉       | 185/623 [57:33<2:05:58, 17.26s/movie]"
     ]
    },
    {
     "name": "stdout",
     "output_type": "stream",
     "text": [
      "Less than 25 reviews available - skipped\n"
     ]
    },
    {
     "name": "stderr",
     "output_type": "stream",
     "text": [
      "looking for review ids:  30%|██▉       | 186/623 [57:50<2:05:55, 17.29s/movie]"
     ]
    },
    {
     "name": "stdout",
     "output_type": "stream",
     "text": [
      "Less than 25 reviews available - skipped\n"
     ]
    },
    {
     "name": "stderr",
     "output_type": "stream",
     "text": [
      "looking for review ids:  30%|███       | 187/623 [58:07<2:04:42, 17.16s/movie]"
     ]
    },
    {
     "name": "stdout",
     "output_type": "stream",
     "text": [
      "Less than 25 reviews available - skipped\n"
     ]
    },
    {
     "name": "stderr",
     "output_type": "stream",
     "text": [
      "looking for review ids:  30%|███       | 188/623 [58:25<2:04:46, 17.21s/movie]"
     ]
    },
    {
     "name": "stdout",
     "output_type": "stream",
     "text": [
      "Less than 25 reviews available - skipped\n"
     ]
    },
    {
     "name": "stderr",
     "output_type": "stream",
     "text": [
      "looking for review ids:  30%|███       | 189/623 [58:41<2:03:59, 17.14s/movie]"
     ]
    },
    {
     "name": "stdout",
     "output_type": "stream",
     "text": [
      "Less than 25 reviews available - skipped\n"
     ]
    },
    {
     "name": "stderr",
     "output_type": "stream",
     "text": [
      "looking for review ids:  30%|███       | 190/623 [58:58<2:02:58, 17.04s/movie]"
     ]
    },
    {
     "name": "stdout",
     "output_type": "stream",
     "text": [
      "Less than 25 reviews available - skipped\n"
     ]
    },
    {
     "name": "stderr",
     "output_type": "stream",
     "text": [
      "looking for review ids:  31%|███       | 191/623 [59:16<2:03:38, 17.17s/movie]"
     ]
    },
    {
     "name": "stdout",
     "output_type": "stream",
     "text": [
      "Less than 25 reviews available - skipped\n"
     ]
    },
    {
     "name": "stderr",
     "output_type": "stream",
     "text": [
      "looking for review ids:  31%|███       | 192/623 [59:32<2:02:22, 17.04s/movie]"
     ]
    },
    {
     "name": "stdout",
     "output_type": "stream",
     "text": [
      "Less than 25 reviews available - skipped\n"
     ]
    },
    {
     "name": "stderr",
     "output_type": "stream",
     "text": [
      "looking for review ids:  31%|███       | 193/623 [59:50<2:02:31, 17.10s/movie]"
     ]
    },
    {
     "name": "stdout",
     "output_type": "stream",
     "text": [
      "Less than 25 reviews available - skipped\n"
     ]
    },
    {
     "name": "stderr",
     "output_type": "stream",
     "text": [
      "looking for review ids:  31%|███       | 194/623 [1:00:07<2:02:30, 17.13s/movie]"
     ]
    },
    {
     "name": "stdout",
     "output_type": "stream",
     "text": [
      "Less than 25 reviews available - skipped\n"
     ]
    },
    {
     "name": "stderr",
     "output_type": "stream",
     "text": [
      "looking for review ids:  31%|███▏      | 195/623 [1:00:24<2:02:00, 17.10s/movie]"
     ]
    },
    {
     "name": "stdout",
     "output_type": "stream",
     "text": [
      "Less than 25 reviews available - skipped\n"
     ]
    },
    {
     "name": "stderr",
     "output_type": "stream",
     "text": [
      "looking for review ids:  31%|███▏      | 196/623 [1:00:41<2:01:26, 17.06s/movie]"
     ]
    },
    {
     "name": "stdout",
     "output_type": "stream",
     "text": [
      "Less than 25 reviews available - skipped\n"
     ]
    },
    {
     "name": "stderr",
     "output_type": "stream",
     "text": [
      "looking for review ids:  32%|███▏      | 197/623 [1:00:58<2:00:47, 17.01s/movie]"
     ]
    },
    {
     "name": "stdout",
     "output_type": "stream",
     "text": [
      "Less than 25 reviews available - skipped\n"
     ]
    },
    {
     "name": "stderr",
     "output_type": "stream",
     "text": [
      "looking for review ids:  32%|███▏      | 198/623 [1:01:15<2:01:30, 17.15s/movie]"
     ]
    },
    {
     "name": "stdout",
     "output_type": "stream",
     "text": [
      "Less than 25 reviews available - skipped\n"
     ]
    },
    {
     "name": "stderr",
     "output_type": "stream",
     "text": [
      "looking for review ids:  32%|███▏      | 199/623 [1:01:33<2:01:44, 17.23s/movie]"
     ]
    },
    {
     "name": "stdout",
     "output_type": "stream",
     "text": [
      "Less than 25 reviews available - skipped\n"
     ]
    },
    {
     "name": "stderr",
     "output_type": "stream",
     "text": [
      "looking for review ids:  32%|███▏      | 200/623 [1:01:50<2:00:37, 17.11s/movie]"
     ]
    },
    {
     "name": "stdout",
     "output_type": "stream",
     "text": [
      "Less than 25 reviews available - skipped\n"
     ]
    },
    {
     "name": "stderr",
     "output_type": "stream",
     "text": [
      "looking for review ids:  32%|███▏      | 201/623 [1:02:07<2:02:02, 17.35s/movie]"
     ]
    },
    {
     "name": "stdout",
     "output_type": "stream",
     "text": [
      "Less than 25 reviews available - skipped\n"
     ]
    },
    {
     "name": "stderr",
     "output_type": "stream",
     "text": [
      "looking for review ids:  32%|███▏      | 202/623 [1:02:25<2:02:28, 17.45s/movie]"
     ]
    },
    {
     "name": "stdout",
     "output_type": "stream",
     "text": [
      "Less than 25 reviews available - skipped\n"
     ]
    },
    {
     "name": "stderr",
     "output_type": "stream",
     "text": [
      "looking for review ids:  33%|███▎      | 203/623 [1:02:42<2:00:45, 17.25s/movie]"
     ]
    },
    {
     "name": "stdout",
     "output_type": "stream",
     "text": [
      "Less than 25 reviews available - skipped\n"
     ]
    },
    {
     "name": "stderr",
     "output_type": "stream",
     "text": [
      "looking for review ids:  33%|███▎      | 204/623 [1:02:59<1:59:22, 17.09s/movie]"
     ]
    },
    {
     "name": "stdout",
     "output_type": "stream",
     "text": [
      "Less than 25 reviews available - skipped\n"
     ]
    },
    {
     "name": "stderr",
     "output_type": "stream",
     "text": [
      "looking for review ids:  33%|███▎      | 205/623 [1:03:16<1:59:48, 17.20s/movie]"
     ]
    },
    {
     "name": "stdout",
     "output_type": "stream",
     "text": [
      "Less than 25 reviews available - skipped\n"
     ]
    },
    {
     "name": "stderr",
     "output_type": "stream",
     "text": [
      "looking for review ids:  33%|███▎      | 206/623 [1:03:33<1:59:39, 17.22s/movie]"
     ]
    },
    {
     "name": "stdout",
     "output_type": "stream",
     "text": [
      "Less than 25 reviews available - skipped\n"
     ]
    },
    {
     "name": "stderr",
     "output_type": "stream",
     "text": [
      "looking for review ids:  33%|███▎      | 207/623 [1:03:51<1:59:20, 17.21s/movie]"
     ]
    },
    {
     "name": "stdout",
     "output_type": "stream",
     "text": [
      "Less than 25 reviews available - skipped\n"
     ]
    },
    {
     "name": "stderr",
     "output_type": "stream",
     "text": [
      "looking for review ids:  33%|███▎      | 208/623 [1:04:08<1:59:38, 17.30s/movie]"
     ]
    },
    {
     "name": "stdout",
     "output_type": "stream",
     "text": [
      "Less than 25 reviews available - skipped\n"
     ]
    },
    {
     "name": "stderr",
     "output_type": "stream",
     "text": [
      "looking for review ids:  34%|███▎      | 209/623 [1:04:26<2:00:02, 17.40s/movie]"
     ]
    },
    {
     "name": "stdout",
     "output_type": "stream",
     "text": [
      "Less than 25 reviews available - skipped\n"
     ]
    },
    {
     "name": "stderr",
     "output_type": "stream",
     "text": [
      "looking for review ids:  34%|███▎      | 210/623 [1:04:43<1:59:30, 17.36s/movie]"
     ]
    },
    {
     "name": "stdout",
     "output_type": "stream",
     "text": [
      "Less than 25 reviews available - skipped\n"
     ]
    },
    {
     "name": "stderr",
     "output_type": "stream",
     "text": [
      "looking for review ids:  34%|███▍      | 211/623 [1:05:00<1:58:27, 17.25s/movie]"
     ]
    },
    {
     "name": "stdout",
     "output_type": "stream",
     "text": [
      "Less than 25 reviews available - skipped\n"
     ]
    },
    {
     "name": "stderr",
     "output_type": "stream",
     "text": [
      "looking for review ids:  34%|███▍      | 212/623 [1:05:17<1:57:35, 17.17s/movie]"
     ]
    },
    {
     "name": "stdout",
     "output_type": "stream",
     "text": [
      "Less than 25 reviews available - skipped\n"
     ]
    },
    {
     "name": "stderr",
     "output_type": "stream",
     "text": [
      "looking for review ids:  34%|███▍      | 213/623 [1:05:34<1:56:36, 17.07s/movie]"
     ]
    },
    {
     "name": "stdout",
     "output_type": "stream",
     "text": [
      "Less than 25 reviews available - skipped\n"
     ]
    },
    {
     "name": "stderr",
     "output_type": "stream",
     "text": [
      "looking for review ids:  34%|███▍      | 214/623 [1:05:52<1:58:10, 17.34s/movie]"
     ]
    },
    {
     "name": "stdout",
     "output_type": "stream",
     "text": [
      "Less than 25 reviews available - skipped\n"
     ]
    },
    {
     "name": "stderr",
     "output_type": "stream",
     "text": [
      "looking for review ids:  35%|███▍      | 216/623 [1:06:26<1:56:08, 17.12s/movie]"
     ]
    },
    {
     "name": "stdout",
     "output_type": "stream",
     "text": [
      "Less than 25 reviews available - skipped\n"
     ]
    },
    {
     "name": "stderr",
     "output_type": "stream",
     "text": [
      "looking for review ids:  35%|███▍      | 217/623 [1:06:43<1:56:53, 17.27s/movie]"
     ]
    },
    {
     "name": "stdout",
     "output_type": "stream",
     "text": [
      "Less than 25 reviews available - skipped\n"
     ]
    },
    {
     "name": "stderr",
     "output_type": "stream",
     "text": [
      "looking for review ids:  35%|███▍      | 218/623 [1:07:00<1:55:57, 17.18s/movie]"
     ]
    },
    {
     "name": "stdout",
     "output_type": "stream",
     "text": [
      "Less than 25 reviews available - skipped\n"
     ]
    },
    {
     "name": "stderr",
     "output_type": "stream",
     "text": [
      "looking for review ids:  35%|███▌      | 219/623 [1:07:18<1:56:15, 17.27s/movie]"
     ]
    },
    {
     "name": "stdout",
     "output_type": "stream",
     "text": [
      "Less than 25 reviews available - skipped\n"
     ]
    },
    {
     "name": "stderr",
     "output_type": "stream",
     "text": [
      "looking for review ids:  35%|███▌      | 220/623 [1:07:35<1:55:37, 17.22s/movie]"
     ]
    },
    {
     "name": "stdout",
     "output_type": "stream",
     "text": [
      "Less than 25 reviews available - skipped\n"
     ]
    },
    {
     "name": "stderr",
     "output_type": "stream",
     "text": [
      "looking for review ids:  36%|███▌      | 222/623 [1:08:10<1:55:17, 17.25s/movie]"
     ]
    },
    {
     "name": "stdout",
     "output_type": "stream",
     "text": [
      "Less than 25 reviews available - skipped\n"
     ]
    },
    {
     "name": "stderr",
     "output_type": "stream",
     "text": [
      "looking for review ids:  36%|███▌      | 223/623 [1:08:27<1:54:50, 17.23s/movie]"
     ]
    },
    {
     "name": "stdout",
     "output_type": "stream",
     "text": [
      "Less than 25 reviews available - skipped\n"
     ]
    },
    {
     "name": "stderr",
     "output_type": "stream",
     "text": [
      "looking for review ids:  36%|███▌      | 224/623 [1:08:44<1:54:21, 17.20s/movie]"
     ]
    },
    {
     "name": "stdout",
     "output_type": "stream",
     "text": [
      "Less than 25 reviews available - skipped\n"
     ]
    },
    {
     "name": "stderr",
     "output_type": "stream",
     "text": [
      "looking for review ids:  36%|███▌      | 225/623 [1:09:01<1:54:31, 17.27s/movie]"
     ]
    },
    {
     "name": "stdout",
     "output_type": "stream",
     "text": [
      "Less than 25 reviews available - skipped\n"
     ]
    },
    {
     "name": "stderr",
     "output_type": "stream",
     "text": [
      "looking for review ids:  36%|███▋      | 226/623 [1:09:18<1:54:05, 17.24s/movie]"
     ]
    },
    {
     "name": "stdout",
     "output_type": "stream",
     "text": [
      "Less than 25 reviews available - skipped\n"
     ]
    },
    {
     "name": "stderr",
     "output_type": "stream",
     "text": [
      "looking for review ids:  36%|███▋      | 227/623 [1:09:35<1:53:04, 17.13s/movie]"
     ]
    },
    {
     "name": "stdout",
     "output_type": "stream",
     "text": [
      "Less than 25 reviews available - skipped\n"
     ]
    },
    {
     "name": "stderr",
     "output_type": "stream",
     "text": [
      "looking for review ids:  37%|███▋      | 228/623 [1:09:53<1:53:01, 17.17s/movie]"
     ]
    },
    {
     "name": "stdout",
     "output_type": "stream",
     "text": [
      "Less than 25 reviews available - skipped\n"
     ]
    },
    {
     "name": "stderr",
     "output_type": "stream",
     "text": [
      "looking for review ids:  37%|███▋      | 229/623 [1:10:08<1:50:03, 16.76s/movie]"
     ]
    },
    {
     "name": "stdout",
     "output_type": "stream",
     "text": [
      "Less than 25 reviews available - skipped\n"
     ]
    },
    {
     "name": "stderr",
     "output_type": "stream",
     "text": [
      "looking for review ids:  37%|███▋      | 230/623 [1:10:24<1:47:55, 16.48s/movie]"
     ]
    },
    {
     "name": "stdout",
     "output_type": "stream",
     "text": [
      "Less than 25 reviews available - skipped\n"
     ]
    },
    {
     "name": "stderr",
     "output_type": "stream",
     "text": [
      "looking for review ids:  37%|███▋      | 231/623 [1:10:40<1:46:27, 16.29s/movie]"
     ]
    },
    {
     "name": "stdout",
     "output_type": "stream",
     "text": [
      "Less than 25 reviews available - skipped\n"
     ]
    },
    {
     "name": "stderr",
     "output_type": "stream",
     "text": [
      "looking for review ids:  37%|███▋      | 232/623 [1:10:56<1:45:10, 16.14s/movie]"
     ]
    },
    {
     "name": "stdout",
     "output_type": "stream",
     "text": [
      "Less than 25 reviews available - skipped\n"
     ]
    },
    {
     "name": "stderr",
     "output_type": "stream",
     "text": [
      "looking for review ids:  37%|███▋      | 233/623 [1:11:12<1:44:13, 16.03s/movie]"
     ]
    },
    {
     "name": "stdout",
     "output_type": "stream",
     "text": [
      "Less than 25 reviews available - skipped\n"
     ]
    },
    {
     "name": "stderr",
     "output_type": "stream",
     "text": [
      "looking for review ids:  38%|███▊      | 234/623 [1:11:27<1:43:17, 15.93s/movie]"
     ]
    },
    {
     "name": "stdout",
     "output_type": "stream",
     "text": [
      "Less than 25 reviews available - skipped\n"
     ]
    },
    {
     "name": "stderr",
     "output_type": "stream",
     "text": [
      "looking for review ids:  38%|███▊      | 235/623 [1:11:43<1:41:57, 15.77s/movie]"
     ]
    },
    {
     "name": "stdout",
     "output_type": "stream",
     "text": [
      "Less than 25 reviews available - skipped\n"
     ]
    },
    {
     "name": "stderr",
     "output_type": "stream",
     "text": [
      "looking for review ids:  38%|███▊      | 236/623 [1:11:58<1:41:37, 15.76s/movie]"
     ]
    },
    {
     "name": "stdout",
     "output_type": "stream",
     "text": [
      "Less than 25 reviews available - skipped\n"
     ]
    },
    {
     "name": "stderr",
     "output_type": "stream",
     "text": [
      "looking for review ids:  38%|███▊      | 237/623 [1:12:14<1:41:26, 15.77s/movie]"
     ]
    },
    {
     "name": "stdout",
     "output_type": "stream",
     "text": [
      "Less than 25 reviews available - skipped\n"
     ]
    },
    {
     "name": "stderr",
     "output_type": "stream",
     "text": [
      "looking for review ids:  38%|███▊      | 238/623 [1:12:30<1:41:37, 15.84s/movie]"
     ]
    },
    {
     "name": "stdout",
     "output_type": "stream",
     "text": [
      "Less than 25 reviews available - skipped\n"
     ]
    },
    {
     "name": "stderr",
     "output_type": "stream",
     "text": [
      "looking for review ids:  38%|███▊      | 239/623 [1:12:46<1:41:20, 15.84s/movie]"
     ]
    },
    {
     "name": "stdout",
     "output_type": "stream",
     "text": [
      "Less than 25 reviews available - skipped\n"
     ]
    },
    {
     "name": "stderr",
     "output_type": "stream",
     "text": [
      "looking for review ids:  39%|███▊      | 240/623 [1:13:02<1:40:56, 15.81s/movie]"
     ]
    },
    {
     "name": "stdout",
     "output_type": "stream",
     "text": [
      "Less than 25 reviews available - skipped\n"
     ]
    },
    {
     "name": "stderr",
     "output_type": "stream",
     "text": [
      "looking for review ids:  39%|███▊      | 241/623 [1:13:18<1:40:50, 15.84s/movie]"
     ]
    },
    {
     "name": "stdout",
     "output_type": "stream",
     "text": [
      "Less than 25 reviews available - skipped\n"
     ]
    },
    {
     "name": "stderr",
     "output_type": "stream",
     "text": [
      "looking for review ids:  39%|███▉      | 243/623 [1:13:47<1:36:10, 15.18s/movie]"
     ]
    },
    {
     "name": "stdout",
     "output_type": "stream",
     "text": [
      "Less than 25 reviews available - skipped\n"
     ]
    },
    {
     "name": "stderr",
     "output_type": "stream",
     "text": [
      "looking for review ids:  39%|███▉      | 244/623 [1:14:03<1:37:19, 15.41s/movie]"
     ]
    },
    {
     "name": "stdout",
     "output_type": "stream",
     "text": [
      "Less than 25 reviews available - skipped\n"
     ]
    },
    {
     "name": "stderr",
     "output_type": "stream",
     "text": [
      "looking for review ids:  39%|███▉      | 245/623 [1:14:19<1:37:42, 15.51s/movie]"
     ]
    },
    {
     "name": "stdout",
     "output_type": "stream",
     "text": [
      "Less than 25 reviews available - skipped\n"
     ]
    },
    {
     "name": "stderr",
     "output_type": "stream",
     "text": [
      "looking for review ids:  39%|███▉      | 246/623 [1:14:35<1:37:44, 15.55s/movie]"
     ]
    },
    {
     "name": "stdout",
     "output_type": "stream",
     "text": [
      "Less than 25 reviews available - skipped\n"
     ]
    },
    {
     "name": "stderr",
     "output_type": "stream",
     "text": [
      "looking for review ids:  40%|███▉      | 247/623 [1:14:50<1:37:52, 15.62s/movie]"
     ]
    },
    {
     "name": "stdout",
     "output_type": "stream",
     "text": [
      "Less than 25 reviews available - skipped\n"
     ]
    },
    {
     "name": "stderr",
     "output_type": "stream",
     "text": [
      "looking for review ids:  40%|███▉      | 248/623 [1:15:06<1:37:51, 15.66s/movie]"
     ]
    },
    {
     "name": "stdout",
     "output_type": "stream",
     "text": [
      "Less than 25 reviews available - skipped\n"
     ]
    },
    {
     "name": "stderr",
     "output_type": "stream",
     "text": [
      "looking for review ids:  40%|███▉      | 249/623 [1:15:22<1:37:59, 15.72s/movie]"
     ]
    },
    {
     "name": "stdout",
     "output_type": "stream",
     "text": [
      "Less than 25 reviews available - skipped\n"
     ]
    },
    {
     "name": "stderr",
     "output_type": "stream",
     "text": [
      "looking for review ids:  40%|████      | 250/623 [1:15:38<1:37:39, 15.71s/movie]"
     ]
    },
    {
     "name": "stdout",
     "output_type": "stream",
     "text": [
      "Less than 25 reviews available - skipped\n"
     ]
    },
    {
     "name": "stderr",
     "output_type": "stream",
     "text": [
      "looking for review ids:  40%|████      | 251/623 [1:15:54<1:37:46, 15.77s/movie]"
     ]
    },
    {
     "name": "stdout",
     "output_type": "stream",
     "text": [
      "Less than 25 reviews available - skipped\n"
     ]
    },
    {
     "name": "stderr",
     "output_type": "stream",
     "text": [
      "looking for review ids:  40%|████      | 252/623 [1:16:09<1:36:54, 15.67s/movie]"
     ]
    },
    {
     "name": "stdout",
     "output_type": "stream",
     "text": [
      "Less than 25 reviews available - skipped\n"
     ]
    },
    {
     "name": "stderr",
     "output_type": "stream",
     "text": [
      "looking for review ids:  41%|████      | 253/623 [1:16:25<1:36:21, 15.63s/movie]"
     ]
    },
    {
     "name": "stdout",
     "output_type": "stream",
     "text": [
      "Less than 25 reviews available - skipped\n"
     ]
    },
    {
     "name": "stderr",
     "output_type": "stream",
     "text": [
      "looking for review ids:  41%|████      | 254/623 [1:16:40<1:36:08, 15.63s/movie]"
     ]
    },
    {
     "name": "stdout",
     "output_type": "stream",
     "text": [
      "Less than 25 reviews available - skipped\n"
     ]
    },
    {
     "name": "stderr",
     "output_type": "stream",
     "text": [
      "looking for review ids:  41%|████      | 255/623 [1:16:56<1:36:23, 15.72s/movie]"
     ]
    },
    {
     "name": "stdout",
     "output_type": "stream",
     "text": [
      "Less than 25 reviews available - skipped\n"
     ]
    },
    {
     "name": "stderr",
     "output_type": "stream",
     "text": [
      "looking for review ids:  41%|████      | 256/623 [1:17:12<1:36:24, 15.76s/movie]"
     ]
    },
    {
     "name": "stdout",
     "output_type": "stream",
     "text": [
      "Less than 25 reviews available - skipped\n"
     ]
    },
    {
     "name": "stderr",
     "output_type": "stream",
     "text": [
      "looking for review ids:  41%|████▏     | 257/623 [1:17:28<1:36:01, 15.74s/movie]"
     ]
    },
    {
     "name": "stdout",
     "output_type": "stream",
     "text": [
      "Less than 25 reviews available - skipped\n"
     ]
    },
    {
     "name": "stderr",
     "output_type": "stream",
     "text": [
      "looking for review ids:  41%|████▏     | 258/623 [1:17:44<1:36:12, 15.81s/movie]"
     ]
    },
    {
     "name": "stdout",
     "output_type": "stream",
     "text": [
      "Less than 25 reviews available - skipped\n"
     ]
    },
    {
     "name": "stderr",
     "output_type": "stream",
     "text": [
      "looking for review ids:  42%|████▏     | 259/623 [1:17:59<1:35:45, 15.78s/movie]"
     ]
    },
    {
     "name": "stdout",
     "output_type": "stream",
     "text": [
      "Less than 25 reviews available - skipped\n"
     ]
    },
    {
     "name": "stderr",
     "output_type": "stream",
     "text": [
      "looking for review ids:  42%|████▏     | 260/623 [1:18:15<1:35:23, 15.77s/movie]"
     ]
    },
    {
     "name": "stdout",
     "output_type": "stream",
     "text": [
      "Less than 25 reviews available - skipped\n"
     ]
    },
    {
     "name": "stderr",
     "output_type": "stream",
     "text": [
      "looking for review ids:  42%|████▏     | 261/623 [1:18:31<1:34:57, 15.74s/movie]"
     ]
    },
    {
     "name": "stdout",
     "output_type": "stream",
     "text": [
      "Less than 25 reviews available - skipped\n"
     ]
    },
    {
     "name": "stderr",
     "output_type": "stream",
     "text": [
      "looking for review ids:  42%|████▏     | 262/623 [1:18:46<1:34:18, 15.67s/movie]"
     ]
    },
    {
     "name": "stdout",
     "output_type": "stream",
     "text": [
      "Less than 25 reviews available - skipped\n"
     ]
    },
    {
     "name": "stderr",
     "output_type": "stream",
     "text": [
      "looking for review ids:  42%|████▏     | 263/623 [1:19:02<1:34:09, 15.69s/movie]"
     ]
    },
    {
     "name": "stdout",
     "output_type": "stream",
     "text": [
      "Less than 25 reviews available - skipped\n"
     ]
    },
    {
     "name": "stderr",
     "output_type": "stream",
     "text": [
      "looking for review ids:  42%|████▏     | 264/623 [1:19:18<1:33:34, 15.64s/movie]"
     ]
    },
    {
     "name": "stdout",
     "output_type": "stream",
     "text": [
      "Less than 25 reviews available - skipped\n"
     ]
    },
    {
     "name": "stderr",
     "output_type": "stream",
     "text": [
      "looking for review ids:  43%|████▎     | 265/623 [1:19:33<1:33:21, 15.65s/movie]"
     ]
    },
    {
     "name": "stdout",
     "output_type": "stream",
     "text": [
      "Less than 25 reviews available - skipped\n"
     ]
    },
    {
     "name": "stderr",
     "output_type": "stream",
     "text": [
      "looking for review ids:  43%|████▎     | 267/623 [1:20:03<1:29:14, 15.04s/movie]"
     ]
    },
    {
     "name": "stdout",
     "output_type": "stream",
     "text": [
      "Less than 25 reviews available - skipped\n"
     ]
    },
    {
     "name": "stderr",
     "output_type": "stream",
     "text": [
      "looking for review ids:  43%|████▎     | 268/623 [1:20:18<1:29:53, 15.19s/movie]"
     ]
    },
    {
     "name": "stdout",
     "output_type": "stream",
     "text": [
      "Less than 25 reviews available - skipped\n"
     ]
    },
    {
     "name": "stderr",
     "output_type": "stream",
     "text": [
      "looking for review ids:  43%|████▎     | 269/623 [1:20:34<1:30:53, 15.40s/movie]"
     ]
    },
    {
     "name": "stdout",
     "output_type": "stream",
     "text": [
      "Less than 25 reviews available - skipped\n"
     ]
    },
    {
     "name": "stderr",
     "output_type": "stream",
     "text": [
      "looking for review ids:  43%|████▎     | 270/623 [1:20:50<1:31:37, 15.57s/movie]"
     ]
    },
    {
     "name": "stdout",
     "output_type": "stream",
     "text": [
      "Less than 25 reviews available - skipped\n"
     ]
    },
    {
     "name": "stderr",
     "output_type": "stream",
     "text": [
      "looking for review ids:  43%|████▎     | 271/623 [1:21:06<1:31:48, 15.65s/movie]"
     ]
    },
    {
     "name": "stdout",
     "output_type": "stream",
     "text": [
      "Less than 25 reviews available - skipped\n"
     ]
    },
    {
     "name": "stderr",
     "output_type": "stream",
     "text": [
      "looking for review ids:  44%|████▎     | 272/623 [1:21:21<1:31:15, 15.60s/movie]"
     ]
    },
    {
     "name": "stdout",
     "output_type": "stream",
     "text": [
      "Less than 25 reviews available - skipped\n"
     ]
    },
    {
     "name": "stderr",
     "output_type": "stream",
     "text": [
      "looking for review ids:  44%|████▍     | 273/623 [1:21:37<1:31:34, 15.70s/movie]"
     ]
    },
    {
     "name": "stdout",
     "output_type": "stream",
     "text": [
      "Less than 25 reviews available - skipped\n"
     ]
    },
    {
     "name": "stderr",
     "output_type": "stream",
     "text": [
      "looking for review ids:  44%|████▍     | 274/623 [1:21:53<1:31:29, 15.73s/movie]"
     ]
    },
    {
     "name": "stdout",
     "output_type": "stream",
     "text": [
      "Less than 25 reviews available - skipped\n"
     ]
    },
    {
     "name": "stderr",
     "output_type": "stream",
     "text": [
      "looking for review ids:  44%|████▍     | 275/623 [1:22:09<1:31:13, 15.73s/movie]"
     ]
    },
    {
     "name": "stdout",
     "output_type": "stream",
     "text": [
      "Less than 25 reviews available - skipped\n"
     ]
    },
    {
     "name": "stderr",
     "output_type": "stream",
     "text": [
      "looking for review ids:  44%|████▍     | 276/623 [1:22:24<1:30:45, 15.69s/movie]"
     ]
    },
    {
     "name": "stdout",
     "output_type": "stream",
     "text": [
      "Less than 25 reviews available - skipped\n"
     ]
    },
    {
     "name": "stderr",
     "output_type": "stream",
     "text": [
      "looking for review ids:  44%|████▍     | 277/623 [1:22:40<1:30:13, 15.65s/movie]"
     ]
    },
    {
     "name": "stdout",
     "output_type": "stream",
     "text": [
      "Less than 25 reviews available - skipped\n"
     ]
    },
    {
     "name": "stderr",
     "output_type": "stream",
     "text": [
      "looking for review ids:  45%|████▍     | 278/623 [1:22:55<1:29:52, 15.63s/movie]"
     ]
    },
    {
     "name": "stdout",
     "output_type": "stream",
     "text": [
      "Less than 25 reviews available - skipped\n"
     ]
    },
    {
     "name": "stderr",
     "output_type": "stream",
     "text": [
      "looking for review ids:  45%|████▍     | 280/623 [1:23:25<1:25:37, 14.98s/movie]"
     ]
    },
    {
     "name": "stdout",
     "output_type": "stream",
     "text": [
      "Less than 25 reviews available - skipped\n"
     ]
    },
    {
     "name": "stderr",
     "output_type": "stream",
     "text": [
      "looking for review ids:  45%|████▌     | 281/623 [1:23:40<1:26:52, 15.24s/movie]"
     ]
    },
    {
     "name": "stdout",
     "output_type": "stream",
     "text": [
      "Less than 25 reviews available - skipped\n"
     ]
    },
    {
     "name": "stderr",
     "output_type": "stream",
     "text": [
      "looking for review ids:  45%|████▌     | 283/623 [1:24:13<1:30:10, 15.91s/movie]"
     ]
    },
    {
     "name": "stdout",
     "output_type": "stream",
     "text": [
      "Less than 25 reviews available - skipped\n"
     ]
    },
    {
     "name": "stderr",
     "output_type": "stream",
     "text": [
      "looking for review ids:  46%|████▌     | 284/623 [1:24:29<1:29:45, 15.89s/movie]"
     ]
    },
    {
     "name": "stdout",
     "output_type": "stream",
     "text": [
      "Less than 25 reviews available - skipped\n"
     ]
    },
    {
     "name": "stderr",
     "output_type": "stream",
     "text": [
      "looking for review ids:  46%|████▌     | 285/623 [1:24:45<1:29:14, 15.84s/movie]"
     ]
    },
    {
     "name": "stdout",
     "output_type": "stream",
     "text": [
      "Less than 25 reviews available - skipped\n"
     ]
    },
    {
     "name": "stderr",
     "output_type": "stream",
     "text": [
      "looking for review ids:  46%|████▌     | 286/623 [1:25:01<1:29:14, 15.89s/movie]"
     ]
    },
    {
     "name": "stdout",
     "output_type": "stream",
     "text": [
      "Less than 25 reviews available - skipped\n"
     ]
    },
    {
     "name": "stderr",
     "output_type": "stream",
     "text": [
      "looking for review ids:  46%|████▌     | 288/623 [1:25:30<1:24:32, 15.14s/movie]"
     ]
    },
    {
     "name": "stdout",
     "output_type": "stream",
     "text": [
      "Less than 25 reviews available - skipped\n"
     ]
    },
    {
     "name": "stderr",
     "output_type": "stream",
     "text": [
      "looking for review ids:  46%|████▋     | 289/623 [1:25:46<1:25:14, 15.31s/movie]"
     ]
    },
    {
     "name": "stdout",
     "output_type": "stream",
     "text": [
      "Less than 25 reviews available - skipped\n"
     ]
    },
    {
     "name": "stderr",
     "output_type": "stream",
     "text": [
      "looking for review ids:  47%|████▋     | 290/623 [1:26:02<1:26:07, 15.52s/movie]"
     ]
    },
    {
     "name": "stdout",
     "output_type": "stream",
     "text": [
      "Less than 25 reviews available - skipped\n"
     ]
    },
    {
     "name": "stderr",
     "output_type": "stream",
     "text": [
      "looking for review ids:  47%|████▋     | 291/623 [1:26:18<1:26:23, 15.61s/movie]"
     ]
    },
    {
     "name": "stdout",
     "output_type": "stream",
     "text": [
      "Less than 25 reviews available - skipped\n"
     ]
    },
    {
     "name": "stderr",
     "output_type": "stream",
     "text": [
      "looking for review ids:  47%|████▋     | 293/623 [1:26:47<1:22:06, 14.93s/movie]"
     ]
    },
    {
     "name": "stdout",
     "output_type": "stream",
     "text": [
      "Less than 25 reviews available - skipped\n"
     ]
    },
    {
     "name": "stderr",
     "output_type": "stream",
     "text": [
      "looking for review ids:  47%|████▋     | 294/623 [1:27:03<1:23:26, 15.22s/movie]"
     ]
    },
    {
     "name": "stdout",
     "output_type": "stream",
     "text": [
      "Less than 25 reviews available - skipped\n"
     ]
    },
    {
     "name": "stderr",
     "output_type": "stream",
     "text": [
      "looking for review ids:  47%|████▋     | 295/623 [1:27:18<1:24:01, 15.37s/movie]"
     ]
    },
    {
     "name": "stdout",
     "output_type": "stream",
     "text": [
      "Less than 25 reviews available - skipped\n"
     ]
    },
    {
     "name": "stderr",
     "output_type": "stream",
     "text": [
      "looking for review ids:  48%|████▊     | 297/623 [1:27:47<1:20:19, 14.78s/movie]"
     ]
    },
    {
     "name": "stdout",
     "output_type": "stream",
     "text": [
      "Less than 25 reviews available - skipped\n"
     ]
    },
    {
     "name": "stderr",
     "output_type": "stream",
     "text": [
      "looking for review ids:  48%|████▊     | 298/623 [1:28:03<1:21:38, 15.07s/movie]"
     ]
    },
    {
     "name": "stdout",
     "output_type": "stream",
     "text": [
      "Less than 25 reviews available - skipped\n"
     ]
    },
    {
     "name": "stderr",
     "output_type": "stream",
     "text": [
      "looking for review ids:  48%|████▊     | 299/623 [1:28:19<1:22:45, 15.33s/movie]"
     ]
    },
    {
     "name": "stdout",
     "output_type": "stream",
     "text": [
      "Less than 25 reviews available - skipped\n"
     ]
    },
    {
     "name": "stderr",
     "output_type": "stream",
     "text": [
      "looking for review ids:  48%|████▊     | 300/623 [1:28:35<1:23:06, 15.44s/movie]"
     ]
    },
    {
     "name": "stdout",
     "output_type": "stream",
     "text": [
      "Less than 25 reviews available - skipped\n"
     ]
    },
    {
     "name": "stderr",
     "output_type": "stream",
     "text": [
      "looking for review ids:  48%|████▊     | 302/623 [1:29:03<1:19:02, 14.77s/movie]"
     ]
    },
    {
     "name": "stdout",
     "output_type": "stream",
     "text": [
      "Less than 25 reviews available - skipped\n"
     ]
    },
    {
     "name": "stderr",
     "output_type": "stream",
     "text": [
      "looking for review ids:  49%|████▊     | 303/623 [1:29:19<1:20:14, 15.04s/movie]"
     ]
    },
    {
     "name": "stdout",
     "output_type": "stream",
     "text": [
      "Less than 25 reviews available - skipped\n"
     ]
    },
    {
     "name": "stderr",
     "output_type": "stream",
     "text": [
      "looking for review ids:  49%|████▉     | 304/623 [1:29:34<1:20:47, 15.20s/movie]"
     ]
    },
    {
     "name": "stdout",
     "output_type": "stream",
     "text": [
      "Less than 25 reviews available - skipped\n"
     ]
    },
    {
     "name": "stderr",
     "output_type": "stream",
     "text": [
      "looking for review ids:  49%|████▉     | 306/623 [1:30:09<1:26:03, 16.29s/movie]"
     ]
    },
    {
     "name": "stdout",
     "output_type": "stream",
     "text": [
      "Less than 25 reviews available - skipped\n"
     ]
    },
    {
     "name": "stderr",
     "output_type": "stream",
     "text": [
      "looking for review ids:  49%|████▉     | 307/623 [1:30:25<1:25:08, 16.17s/movie]"
     ]
    },
    {
     "name": "stdout",
     "output_type": "stream",
     "text": [
      "Less than 25 reviews available - skipped\n"
     ]
    },
    {
     "name": "stderr",
     "output_type": "stream",
     "text": [
      "looking for review ids:  49%|████▉     | 308/623 [1:30:40<1:23:58, 16.00s/movie]"
     ]
    },
    {
     "name": "stdout",
     "output_type": "stream",
     "text": [
      "Less than 25 reviews available - skipped\n"
     ]
    },
    {
     "name": "stderr",
     "output_type": "stream",
     "text": [
      "looking for review ids:  50%|████▉     | 309/623 [1:30:56<1:23:30, 15.96s/movie]"
     ]
    },
    {
     "name": "stdout",
     "output_type": "stream",
     "text": [
      "Less than 25 reviews available - skipped\n"
     ]
    },
    {
     "name": "stderr",
     "output_type": "stream",
     "text": [
      "looking for review ids:  50%|████▉     | 310/623 [1:31:12<1:23:05, 15.93s/movie]"
     ]
    },
    {
     "name": "stdout",
     "output_type": "stream",
     "text": [
      "Less than 25 reviews available - skipped\n"
     ]
    },
    {
     "name": "stderr",
     "output_type": "stream",
     "text": [
      "looking for review ids:  50%|████▉     | 311/623 [1:31:27<1:22:07, 15.79s/movie]"
     ]
    },
    {
     "name": "stdout",
     "output_type": "stream",
     "text": [
      "Less than 25 reviews available - skipped\n"
     ]
    },
    {
     "name": "stderr",
     "output_type": "stream",
     "text": [
      "looking for review ids:  50%|█████     | 312/623 [1:31:43<1:22:09, 15.85s/movie]"
     ]
    },
    {
     "name": "stdout",
     "output_type": "stream",
     "text": [
      "Less than 25 reviews available - skipped\n"
     ]
    },
    {
     "name": "stderr",
     "output_type": "stream",
     "text": [
      "looking for review ids:  50%|█████     | 313/623 [1:31:59<1:21:42, 15.81s/movie]"
     ]
    },
    {
     "name": "stdout",
     "output_type": "stream",
     "text": [
      "Less than 25 reviews available - skipped\n"
     ]
    },
    {
     "name": "stderr",
     "output_type": "stream",
     "text": [
      "looking for review ids:  50%|█████     | 314/623 [1:32:15<1:21:12, 15.77s/movie]"
     ]
    },
    {
     "name": "stdout",
     "output_type": "stream",
     "text": [
      "Less than 25 reviews available - skipped\n"
     ]
    },
    {
     "name": "stderr",
     "output_type": "stream",
     "text": [
      "looking for review ids:  51%|█████     | 316/623 [1:32:44<1:17:25, 15.13s/movie]"
     ]
    },
    {
     "name": "stdout",
     "output_type": "stream",
     "text": [
      "Less than 25 reviews available - skipped\n"
     ]
    },
    {
     "name": "stderr",
     "output_type": "stream",
     "text": [
      "looking for review ids:  51%|█████     | 317/623 [1:33:00<1:17:55, 15.28s/movie]"
     ]
    },
    {
     "name": "stdout",
     "output_type": "stream",
     "text": [
      "Less than 25 reviews available - skipped\n"
     ]
    },
    {
     "name": "stderr",
     "output_type": "stream",
     "text": [
      "looking for review ids:  51%|█████     | 318/623 [1:33:16<1:18:40, 15.48s/movie]"
     ]
    },
    {
     "name": "stdout",
     "output_type": "stream",
     "text": [
      "Less than 25 reviews available - skipped\n"
     ]
    },
    {
     "name": "stderr",
     "output_type": "stream",
     "text": [
      "looking for review ids:  51%|█████     | 319/623 [1:33:31<1:18:30, 15.49s/movie]"
     ]
    },
    {
     "name": "stdout",
     "output_type": "stream",
     "text": [
      "Less than 25 reviews available - skipped\n"
     ]
    },
    {
     "name": "stderr",
     "output_type": "stream",
     "text": [
      "looking for review ids:  51%|█████▏    | 320/623 [1:33:47<1:18:28, 15.54s/movie]"
     ]
    },
    {
     "name": "stdout",
     "output_type": "stream",
     "text": [
      "Less than 25 reviews available - skipped\n"
     ]
    },
    {
     "name": "stderr",
     "output_type": "stream",
     "text": [
      "looking for review ids:  52%|█████▏    | 321/623 [1:34:02<1:18:21, 15.57s/movie]"
     ]
    },
    {
     "name": "stdout",
     "output_type": "stream",
     "text": [
      "Less than 25 reviews available - skipped\n"
     ]
    },
    {
     "name": "stderr",
     "output_type": "stream",
     "text": [
      "looking for review ids:  52%|█████▏    | 322/623 [1:34:18<1:18:36, 15.67s/movie]"
     ]
    },
    {
     "name": "stdout",
     "output_type": "stream",
     "text": [
      "Less than 25 reviews available - skipped\n"
     ]
    },
    {
     "name": "stderr",
     "output_type": "stream",
     "text": [
      "looking for review ids:  52%|█████▏    | 323/623 [1:34:35<1:19:07, 15.82s/movie]"
     ]
    },
    {
     "name": "stdout",
     "output_type": "stream",
     "text": [
      "Less than 25 reviews available - skipped\n"
     ]
    },
    {
     "name": "stderr",
     "output_type": "stream",
     "text": [
      "looking for review ids:  52%|█████▏    | 324/623 [1:34:50<1:18:32, 15.76s/movie]"
     ]
    },
    {
     "name": "stdout",
     "output_type": "stream",
     "text": [
      "Less than 25 reviews available - skipped\n"
     ]
    },
    {
     "name": "stderr",
     "output_type": "stream",
     "text": [
      "looking for review ids:  52%|█████▏    | 325/623 [1:35:06<1:18:05, 15.72s/movie]"
     ]
    },
    {
     "name": "stdout",
     "output_type": "stream",
     "text": [
      "Less than 25 reviews available - skipped\n"
     ]
    },
    {
     "name": "stderr",
     "output_type": "stream",
     "text": [
      "looking for review ids:  52%|█████▏    | 326/623 [1:35:22<1:18:02, 15.76s/movie]"
     ]
    },
    {
     "name": "stdout",
     "output_type": "stream",
     "text": [
      "Less than 25 reviews available - skipped\n"
     ]
    },
    {
     "name": "stderr",
     "output_type": "stream",
     "text": [
      "looking for review ids:  52%|█████▏    | 327/623 [1:35:37<1:17:47, 15.77s/movie]"
     ]
    },
    {
     "name": "stdout",
     "output_type": "stream",
     "text": [
      "Less than 25 reviews available - skipped\n"
     ]
    },
    {
     "name": "stderr",
     "output_type": "stream",
     "text": [
      "looking for review ids:  53%|█████▎    | 328/623 [1:35:53<1:17:21, 15.73s/movie]"
     ]
    },
    {
     "name": "stdout",
     "output_type": "stream",
     "text": [
      "Less than 25 reviews available - skipped\n"
     ]
    },
    {
     "name": "stderr",
     "output_type": "stream",
     "text": [
      "looking for review ids:  53%|█████▎    | 329/623 [1:36:09<1:17:01, 15.72s/movie]"
     ]
    },
    {
     "name": "stdout",
     "output_type": "stream",
     "text": [
      "Less than 25 reviews available - skipped\n"
     ]
    },
    {
     "name": "stderr",
     "output_type": "stream",
     "text": [
      "looking for review ids:  53%|█████▎    | 330/623 [1:36:25<1:17:08, 15.80s/movie]"
     ]
    },
    {
     "name": "stdout",
     "output_type": "stream",
     "text": [
      "Less than 25 reviews available - skipped\n"
     ]
    },
    {
     "name": "stderr",
     "output_type": "stream",
     "text": [
      "looking for review ids:  53%|█████▎    | 331/623 [1:36:41<1:16:57, 15.81s/movie]"
     ]
    },
    {
     "name": "stdout",
     "output_type": "stream",
     "text": [
      "Less than 25 reviews available - skipped\n"
     ]
    },
    {
     "name": "stderr",
     "output_type": "stream",
     "text": [
      "looking for review ids:  53%|█████▎    | 332/623 [1:36:56<1:16:18, 15.73s/movie]"
     ]
    },
    {
     "name": "stdout",
     "output_type": "stream",
     "text": [
      "Less than 25 reviews available - skipped\n"
     ]
    },
    {
     "name": "stderr",
     "output_type": "stream",
     "text": [
      "looking for review ids:  54%|█████▎    | 334/623 [1:37:25<1:12:13, 15.00s/movie]"
     ]
    },
    {
     "name": "stdout",
     "output_type": "stream",
     "text": [
      "Less than 25 reviews available - skipped\n"
     ]
    },
    {
     "name": "stderr",
     "output_type": "stream",
     "text": [
      "looking for review ids:  54%|█████▍    | 336/623 [1:37:55<1:10:57, 14.84s/movie]"
     ]
    },
    {
     "name": "stdout",
     "output_type": "stream",
     "text": [
      "Less than 25 reviews available - skipped\n"
     ]
    },
    {
     "name": "stderr",
     "output_type": "stream",
     "text": [
      "looking for review ids:  54%|█████▍    | 337/623 [1:38:11<1:12:11, 15.15s/movie]"
     ]
    },
    {
     "name": "stdout",
     "output_type": "stream",
     "text": [
      "Less than 25 reviews available - skipped\n"
     ]
    },
    {
     "name": "stderr",
     "output_type": "stream",
     "text": [
      "looking for review ids:  54%|█████▍    | 338/623 [1:38:26<1:12:47, 15.33s/movie]"
     ]
    },
    {
     "name": "stdout",
     "output_type": "stream",
     "text": [
      "Less than 25 reviews available - skipped\n"
     ]
    },
    {
     "name": "stderr",
     "output_type": "stream",
     "text": [
      "looking for review ids:  54%|█████▍    | 339/623 [1:38:42<1:13:21, 15.50s/movie]"
     ]
    },
    {
     "name": "stdout",
     "output_type": "stream",
     "text": [
      "Less than 25 reviews available - skipped\n"
     ]
    },
    {
     "name": "stderr",
     "output_type": "stream",
     "text": [
      "looking for review ids:  55%|█████▍    | 340/623 [1:38:58<1:13:17, 15.54s/movie]"
     ]
    },
    {
     "name": "stdout",
     "output_type": "stream",
     "text": [
      "Less than 25 reviews available - skipped\n"
     ]
    },
    {
     "name": "stderr",
     "output_type": "stream",
     "text": [
      "looking for review ids:  55%|█████▍    | 341/623 [1:39:13<1:12:56, 15.52s/movie]"
     ]
    },
    {
     "name": "stdout",
     "output_type": "stream",
     "text": [
      "Less than 25 reviews available - skipped\n"
     ]
    },
    {
     "name": "stderr",
     "output_type": "stream",
     "text": [
      "looking for review ids:  55%|█████▍    | 342/623 [1:39:29<1:12:54, 15.57s/movie]"
     ]
    },
    {
     "name": "stdout",
     "output_type": "stream",
     "text": [
      "Less than 25 reviews available - skipped\n"
     ]
    },
    {
     "name": "stderr",
     "output_type": "stream",
     "text": [
      "looking for review ids:  55%|█████▌    | 343/623 [1:39:45<1:12:54, 15.62s/movie]"
     ]
    },
    {
     "name": "stdout",
     "output_type": "stream",
     "text": [
      "Less than 25 reviews available - skipped\n"
     ]
    },
    {
     "name": "stderr",
     "output_type": "stream",
     "text": [
      "looking for review ids:  55%|█████▌    | 344/623 [1:40:01<1:12:51, 15.67s/movie]"
     ]
    },
    {
     "name": "stdout",
     "output_type": "stream",
     "text": [
      "Less than 25 reviews available - skipped\n"
     ]
    },
    {
     "name": "stderr",
     "output_type": "stream",
     "text": [
      "looking for review ids:  55%|█████▌    | 345/623 [1:40:16<1:12:42, 15.69s/movie]"
     ]
    },
    {
     "name": "stdout",
     "output_type": "stream",
     "text": [
      "Less than 25 reviews available - skipped\n"
     ]
    },
    {
     "name": "stderr",
     "output_type": "stream",
     "text": [
      "looking for review ids:  56%|█████▌    | 346/623 [1:40:32<1:12:17, 15.66s/movie]"
     ]
    },
    {
     "name": "stdout",
     "output_type": "stream",
     "text": [
      "Less than 25 reviews available - skipped\n"
     ]
    },
    {
     "name": "stderr",
     "output_type": "stream",
     "text": [
      "looking for review ids:  56%|█████▌    | 347/623 [1:40:48<1:12:24, 15.74s/movie]"
     ]
    },
    {
     "name": "stdout",
     "output_type": "stream",
     "text": [
      "Less than 25 reviews available - skipped\n"
     ]
    },
    {
     "name": "stderr",
     "output_type": "stream",
     "text": [
      "looking for review ids:  56%|█████▌    | 348/623 [1:41:04<1:12:07, 15.74s/movie]"
     ]
    },
    {
     "name": "stdout",
     "output_type": "stream",
     "text": [
      "Less than 25 reviews available - skipped\n"
     ]
    },
    {
     "name": "stderr",
     "output_type": "stream",
     "text": [
      "looking for review ids:  56%|█████▌    | 349/623 [1:41:20<1:12:06, 15.79s/movie]"
     ]
    },
    {
     "name": "stdout",
     "output_type": "stream",
     "text": [
      "Less than 25 reviews available - skipped\n"
     ]
    },
    {
     "name": "stderr",
     "output_type": "stream",
     "text": [
      "looking for review ids:  56%|█████▌    | 350/623 [1:41:35<1:11:38, 15.74s/movie]"
     ]
    },
    {
     "name": "stdout",
     "output_type": "stream",
     "text": [
      "Less than 25 reviews available - skipped\n"
     ]
    },
    {
     "name": "stderr",
     "output_type": "stream",
     "text": [
      "looking for review ids:  56%|█████▋    | 351/623 [1:41:51<1:11:31, 15.78s/movie]"
     ]
    },
    {
     "name": "stdout",
     "output_type": "stream",
     "text": [
      "Less than 25 reviews available - skipped\n"
     ]
    },
    {
     "name": "stderr",
     "output_type": "stream",
     "text": [
      "looking for review ids:  57%|█████▋    | 352/623 [1:42:07<1:11:38, 15.86s/movie]"
     ]
    },
    {
     "name": "stdout",
     "output_type": "stream",
     "text": [
      "Less than 25 reviews available - skipped\n"
     ]
    },
    {
     "name": "stderr",
     "output_type": "stream",
     "text": [
      "looking for review ids:  57%|█████▋    | 353/623 [1:42:23<1:11:02, 15.79s/movie]"
     ]
    },
    {
     "name": "stdout",
     "output_type": "stream",
     "text": [
      "Less than 25 reviews available - skipped\n"
     ]
    },
    {
     "name": "stderr",
     "output_type": "stream",
     "text": [
      "looking for review ids:  57%|█████▋    | 355/623 [1:42:52<1:07:01, 15.00s/movie]"
     ]
    },
    {
     "name": "stdout",
     "output_type": "stream",
     "text": [
      "Less than 25 reviews available - skipped\n"
     ]
    },
    {
     "name": "stderr",
     "output_type": "stream",
     "text": [
      "looking for review ids:  57%|█████▋    | 356/623 [1:43:08<1:07:57, 15.27s/movie]"
     ]
    },
    {
     "name": "stdout",
     "output_type": "stream",
     "text": [
      "Less than 25 reviews available - skipped\n"
     ]
    },
    {
     "name": "stderr",
     "output_type": "stream",
     "text": [
      "looking for review ids:  57%|█████▋    | 358/623 [1:43:37<1:05:16, 14.78s/movie]"
     ]
    },
    {
     "name": "stdout",
     "output_type": "stream",
     "text": [
      "Less than 25 reviews available - skipped\n"
     ]
    },
    {
     "name": "stderr",
     "output_type": "stream",
     "text": [
      "looking for review ids:  58%|█████▊    | 359/623 [1:43:52<1:06:06, 15.02s/movie]"
     ]
    },
    {
     "name": "stdout",
     "output_type": "stream",
     "text": [
      "Less than 25 reviews available - skipped\n"
     ]
    },
    {
     "name": "stderr",
     "output_type": "stream",
     "text": [
      "looking for review ids:  58%|█████▊    | 360/623 [1:44:08<1:06:48, 15.24s/movie]"
     ]
    },
    {
     "name": "stdout",
     "output_type": "stream",
     "text": [
      "Less than 25 reviews available - skipped\n"
     ]
    },
    {
     "name": "stderr",
     "output_type": "stream",
     "text": [
      "looking for review ids:  58%|█████▊    | 361/623 [1:44:24<1:07:07, 15.37s/movie]"
     ]
    },
    {
     "name": "stdout",
     "output_type": "stream",
     "text": [
      "Less than 25 reviews available - skipped\n"
     ]
    },
    {
     "name": "stderr",
     "output_type": "stream",
     "text": [
      "looking for review ids:  58%|█████▊    | 362/623 [1:44:39<1:07:04, 15.42s/movie]"
     ]
    },
    {
     "name": "stdout",
     "output_type": "stream",
     "text": [
      "Less than 25 reviews available - skipped\n"
     ]
    },
    {
     "name": "stderr",
     "output_type": "stream",
     "text": [
      "looking for review ids:  58%|█████▊    | 363/623 [1:44:55<1:07:14, 15.52s/movie]"
     ]
    },
    {
     "name": "stdout",
     "output_type": "stream",
     "text": [
      "Less than 25 reviews available - skipped\n"
     ]
    },
    {
     "name": "stderr",
     "output_type": "stream",
     "text": [
      "looking for review ids:  58%|█████▊    | 364/623 [1:45:11<1:07:31, 15.64s/movie]"
     ]
    },
    {
     "name": "stdout",
     "output_type": "stream",
     "text": [
      "Less than 25 reviews available - skipped\n"
     ]
    },
    {
     "name": "stderr",
     "output_type": "stream",
     "text": [
      "looking for review ids:  59%|█████▊    | 365/623 [1:45:27<1:07:34, 15.71s/movie]"
     ]
    },
    {
     "name": "stdout",
     "output_type": "stream",
     "text": [
      "Less than 25 reviews available - skipped\n"
     ]
    },
    {
     "name": "stderr",
     "output_type": "stream",
     "text": [
      "looking for review ids:  59%|█████▊    | 366/623 [1:45:43<1:07:30, 15.76s/movie]"
     ]
    },
    {
     "name": "stdout",
     "output_type": "stream",
     "text": [
      "Less than 25 reviews available - skipped\n"
     ]
    },
    {
     "name": "stderr",
     "output_type": "stream",
     "text": [
      "looking for review ids:  59%|█████▉    | 367/623 [1:45:59<1:07:33, 15.84s/movie]"
     ]
    },
    {
     "name": "stdout",
     "output_type": "stream",
     "text": [
      "Less than 25 reviews available - skipped\n"
     ]
    },
    {
     "name": "stderr",
     "output_type": "stream",
     "text": [
      "looking for review ids:  59%|█████▉    | 368/623 [1:46:15<1:07:18, 15.84s/movie]"
     ]
    },
    {
     "name": "stdout",
     "output_type": "stream",
     "text": [
      "Less than 25 reviews available - skipped\n"
     ]
    },
    {
     "name": "stderr",
     "output_type": "stream",
     "text": [
      "looking for review ids:  59%|█████▉    | 369/623 [1:46:30<1:07:06, 15.85s/movie]"
     ]
    },
    {
     "name": "stdout",
     "output_type": "stream",
     "text": [
      "Less than 25 reviews available - skipped\n"
     ]
    },
    {
     "name": "stderr",
     "output_type": "stream",
     "text": [
      "looking for review ids:  59%|█████▉    | 370/623 [1:46:46<1:06:16, 15.72s/movie]"
     ]
    },
    {
     "name": "stdout",
     "output_type": "stream",
     "text": [
      "Less than 25 reviews available - skipped\n"
     ]
    },
    {
     "name": "stderr",
     "output_type": "stream",
     "text": [
      "looking for review ids:  60%|█████▉    | 371/623 [1:47:02<1:06:57, 15.94s/movie]"
     ]
    },
    {
     "name": "stdout",
     "output_type": "stream",
     "text": [
      "Less than 25 reviews available - skipped\n"
     ]
    },
    {
     "name": "stderr",
     "output_type": "stream",
     "text": [
      "looking for review ids:  60%|█████▉    | 372/623 [1:47:18<1:06:18, 15.85s/movie]"
     ]
    },
    {
     "name": "stdout",
     "output_type": "stream",
     "text": [
      "Less than 25 reviews available - skipped\n"
     ]
    },
    {
     "name": "stderr",
     "output_type": "stream",
     "text": [
      "looking for review ids:  60%|█████▉    | 373/623 [1:47:34<1:06:05, 15.86s/movie]"
     ]
    },
    {
     "name": "stdout",
     "output_type": "stream",
     "text": [
      "Less than 25 reviews available - skipped\n"
     ]
    },
    {
     "name": "stderr",
     "output_type": "stream",
     "text": [
      "looking for review ids:  60%|██████    | 374/623 [1:47:50<1:05:48, 15.86s/movie]"
     ]
    },
    {
     "name": "stdout",
     "output_type": "stream",
     "text": [
      "Less than 25 reviews available - skipped\n"
     ]
    },
    {
     "name": "stderr",
     "output_type": "stream",
     "text": [
      "looking for review ids:  60%|██████    | 375/623 [1:48:06<1:05:41, 15.89s/movie]"
     ]
    },
    {
     "name": "stdout",
     "output_type": "stream",
     "text": [
      "Less than 25 reviews available - skipped\n"
     ]
    },
    {
     "name": "stderr",
     "output_type": "stream",
     "text": [
      "looking for review ids:  60%|██████    | 376/623 [1:48:21<1:05:19, 15.87s/movie]"
     ]
    },
    {
     "name": "stdout",
     "output_type": "stream",
     "text": [
      "Less than 25 reviews available - skipped\n"
     ]
    },
    {
     "name": "stderr",
     "output_type": "stream",
     "text": [
      "looking for review ids:  61%|██████    | 378/623 [1:48:50<1:01:24, 15.04s/movie]"
     ]
    },
    {
     "name": "stdout",
     "output_type": "stream",
     "text": [
      "Less than 25 reviews available - skipped\n"
     ]
    },
    {
     "name": "stderr",
     "output_type": "stream",
     "text": [
      "looking for review ids:  61%|██████    | 379/623 [1:49:06<1:02:10, 15.29s/movie]"
     ]
    },
    {
     "name": "stdout",
     "output_type": "stream",
     "text": [
      "Less than 25 reviews available - skipped\n"
     ]
    },
    {
     "name": "stderr",
     "output_type": "stream",
     "text": [
      "looking for review ids:  61%|██████    | 380/623 [1:49:22<1:02:10, 15.35s/movie]"
     ]
    },
    {
     "name": "stdout",
     "output_type": "stream",
     "text": [
      "Less than 25 reviews available - skipped\n"
     ]
    },
    {
     "name": "stderr",
     "output_type": "stream",
     "text": [
      "looking for review ids:  61%|██████    | 381/623 [1:49:38<1:02:33, 15.51s/movie]"
     ]
    },
    {
     "name": "stdout",
     "output_type": "stream",
     "text": [
      "Less than 25 reviews available - skipped\n"
     ]
    },
    {
     "name": "stderr",
     "output_type": "stream",
     "text": [
      "looking for review ids:  61%|██████▏   | 382/623 [1:49:53<1:02:30, 15.56s/movie]"
     ]
    },
    {
     "name": "stdout",
     "output_type": "stream",
     "text": [
      "Less than 25 reviews available - skipped\n"
     ]
    },
    {
     "name": "stderr",
     "output_type": "stream",
     "text": [
      "looking for review ids:  61%|██████▏   | 383/623 [1:50:09<1:02:28, 15.62s/movie]"
     ]
    },
    {
     "name": "stdout",
     "output_type": "stream",
     "text": [
      "Less than 25 reviews available - skipped\n"
     ]
    },
    {
     "name": "stderr",
     "output_type": "stream",
     "text": [
      "looking for review ids:  62%|██████▏   | 384/623 [1:50:25<1:02:17, 15.64s/movie]"
     ]
    },
    {
     "name": "stdout",
     "output_type": "stream",
     "text": [
      "Less than 25 reviews available - skipped\n"
     ]
    },
    {
     "name": "stderr",
     "output_type": "stream",
     "text": [
      "looking for review ids:  62%|██████▏   | 385/623 [1:50:41<1:02:31, 15.76s/movie]"
     ]
    },
    {
     "name": "stdout",
     "output_type": "stream",
     "text": [
      "Less than 25 reviews available - skipped\n"
     ]
    },
    {
     "name": "stderr",
     "output_type": "stream",
     "text": [
      "looking for review ids:  62%|██████▏   | 386/623 [1:50:57<1:02:13, 15.75s/movie]"
     ]
    },
    {
     "name": "stdout",
     "output_type": "stream",
     "text": [
      "Less than 25 reviews available - skipped\n"
     ]
    },
    {
     "name": "stderr",
     "output_type": "stream",
     "text": [
      "looking for review ids:  62%|██████▏   | 388/623 [1:51:26<58:58, 15.06s/movie]  "
     ]
    },
    {
     "name": "stdout",
     "output_type": "stream",
     "text": [
      "Less than 25 reviews available - skipped\n"
     ]
    },
    {
     "name": "stderr",
     "output_type": "stream",
     "text": [
      "looking for review ids:  62%|██████▏   | 389/623 [1:51:42<59:31, 15.26s/movie]"
     ]
    },
    {
     "name": "stdout",
     "output_type": "stream",
     "text": [
      "Less than 25 reviews available - skipped\n"
     ]
    },
    {
     "name": "stderr",
     "output_type": "stream",
     "text": [
      "looking for review ids:  63%|██████▎   | 390/623 [1:51:57<59:32, 15.33s/movie]"
     ]
    },
    {
     "name": "stdout",
     "output_type": "stream",
     "text": [
      "Less than 25 reviews available - skipped\n"
     ]
    },
    {
     "name": "stderr",
     "output_type": "stream",
     "text": [
      "looking for review ids:  63%|██████▎   | 391/623 [1:52:13<59:39, 15.43s/movie]"
     ]
    },
    {
     "name": "stdout",
     "output_type": "stream",
     "text": [
      "Less than 25 reviews available - skipped\n"
     ]
    },
    {
     "name": "stderr",
     "output_type": "stream",
     "text": [
      "looking for review ids:  63%|██████▎   | 392/623 [1:52:29<59:57, 15.57s/movie]"
     ]
    },
    {
     "name": "stdout",
     "output_type": "stream",
     "text": [
      "Less than 25 reviews available - skipped\n"
     ]
    },
    {
     "name": "stderr",
     "output_type": "stream",
     "text": [
      "looking for review ids:  63%|██████▎   | 393/623 [1:52:44<1:00:03, 15.67s/movie]"
     ]
    },
    {
     "name": "stdout",
     "output_type": "stream",
     "text": [
      "Less than 25 reviews available - skipped\n"
     ]
    },
    {
     "name": "stderr",
     "output_type": "stream",
     "text": [
      "looking for review ids:  63%|██████▎   | 394/623 [1:53:00<59:40, 15.64s/movie]  "
     ]
    },
    {
     "name": "stdout",
     "output_type": "stream",
     "text": [
      "Less than 25 reviews available - skipped\n"
     ]
    },
    {
     "name": "stderr",
     "output_type": "stream",
     "text": [
      "looking for review ids:  63%|██████▎   | 395/623 [1:53:16<59:36, 15.68s/movie]"
     ]
    },
    {
     "name": "stdout",
     "output_type": "stream",
     "text": [
      "Less than 25 reviews available - skipped\n"
     ]
    },
    {
     "name": "stderr",
     "output_type": "stream",
     "text": [
      "looking for review ids:  64%|██████▎   | 396/623 [1:53:32<59:34, 15.75s/movie]"
     ]
    },
    {
     "name": "stdout",
     "output_type": "stream",
     "text": [
      "Less than 25 reviews available - skipped\n"
     ]
    },
    {
     "name": "stderr",
     "output_type": "stream",
     "text": [
      "looking for review ids:  64%|██████▎   | 397/623 [1:53:48<59:20, 15.75s/movie]"
     ]
    },
    {
     "name": "stdout",
     "output_type": "stream",
     "text": [
      "Less than 25 reviews available - skipped\n"
     ]
    },
    {
     "name": "stderr",
     "output_type": "stream",
     "text": [
      "looking for review ids:  64%|██████▍   | 398/623 [1:54:03<58:49, 15.69s/movie]"
     ]
    },
    {
     "name": "stdout",
     "output_type": "stream",
     "text": [
      "Less than 25 reviews available - skipped\n"
     ]
    },
    {
     "name": "stderr",
     "output_type": "stream",
     "text": [
      "looking for review ids:  64%|██████▍   | 399/623 [1:54:18<58:17, 15.62s/movie]"
     ]
    },
    {
     "name": "stdout",
     "output_type": "stream",
     "text": [
      "Less than 25 reviews available - skipped\n"
     ]
    },
    {
     "name": "stderr",
     "output_type": "stream",
     "text": [
      "looking for review ids:  64%|██████▍   | 400/623 [1:54:34<58:26, 15.72s/movie]"
     ]
    },
    {
     "name": "stdout",
     "output_type": "stream",
     "text": [
      "Less than 25 reviews available - skipped\n"
     ]
    },
    {
     "name": "stderr",
     "output_type": "stream",
     "text": [
      "looking for review ids:  64%|██████▍   | 401/623 [1:54:50<58:04, 15.70s/movie]"
     ]
    },
    {
     "name": "stdout",
     "output_type": "stream",
     "text": [
      "Less than 25 reviews available - skipped\n"
     ]
    },
    {
     "name": "stderr",
     "output_type": "stream",
     "text": [
      "looking for review ids:  65%|██████▍   | 402/623 [1:55:06<58:08, 15.79s/movie]"
     ]
    },
    {
     "name": "stdout",
     "output_type": "stream",
     "text": [
      "Less than 25 reviews available - skipped\n"
     ]
    },
    {
     "name": "stderr",
     "output_type": "stream",
     "text": [
      "looking for review ids:  65%|██████▍   | 403/623 [1:55:22<57:45, 15.75s/movie]"
     ]
    },
    {
     "name": "stdout",
     "output_type": "stream",
     "text": [
      "Less than 25 reviews available - skipped\n"
     ]
    },
    {
     "name": "stderr",
     "output_type": "stream",
     "text": [
      "looking for review ids:  65%|██████▍   | 404/623 [1:55:37<57:16, 15.69s/movie]"
     ]
    },
    {
     "name": "stdout",
     "output_type": "stream",
     "text": [
      "Less than 25 reviews available - skipped\n"
     ]
    },
    {
     "name": "stderr",
     "output_type": "stream",
     "text": [
      "looking for review ids:  65%|██████▌   | 405/623 [1:55:53<57:02, 15.70s/movie]"
     ]
    },
    {
     "name": "stdout",
     "output_type": "stream",
     "text": [
      "Less than 25 reviews available - skipped\n"
     ]
    },
    {
     "name": "stderr",
     "output_type": "stream",
     "text": [
      "looking for review ids:  65%|██████▌   | 406/623 [1:56:09<56:50, 15.72s/movie]"
     ]
    },
    {
     "name": "stdout",
     "output_type": "stream",
     "text": [
      "Less than 25 reviews available - skipped\n"
     ]
    },
    {
     "name": "stderr",
     "output_type": "stream",
     "text": [
      "looking for review ids:  65%|██████▌   | 407/623 [1:56:25<56:42, 15.75s/movie]"
     ]
    },
    {
     "name": "stdout",
     "output_type": "stream",
     "text": [
      "Less than 25 reviews available - skipped\n"
     ]
    },
    {
     "name": "stderr",
     "output_type": "stream",
     "text": [
      "looking for review ids:  65%|██████▌   | 408/623 [1:56:40<56:32, 15.78s/movie]"
     ]
    },
    {
     "name": "stdout",
     "output_type": "stream",
     "text": [
      "Less than 25 reviews available - skipped\n"
     ]
    },
    {
     "name": "stderr",
     "output_type": "stream",
     "text": [
      "looking for review ids:  66%|██████▌   | 409/623 [1:56:56<55:59, 15.70s/movie]"
     ]
    },
    {
     "name": "stdout",
     "output_type": "stream",
     "text": [
      "Less than 25 reviews available - skipped\n"
     ]
    },
    {
     "name": "stderr",
     "output_type": "stream",
     "text": [
      "looking for review ids:  66%|██████▌   | 410/623 [1:57:12<55:56, 15.76s/movie]"
     ]
    },
    {
     "name": "stdout",
     "output_type": "stream",
     "text": [
      "Less than 25 reviews available - skipped\n"
     ]
    },
    {
     "name": "stderr",
     "output_type": "stream",
     "text": [
      "looking for review ids:  66%|██████▌   | 411/623 [1:57:28<55:57, 15.84s/movie]"
     ]
    },
    {
     "name": "stdout",
     "output_type": "stream",
     "text": [
      "Less than 25 reviews available - skipped\n"
     ]
    },
    {
     "name": "stderr",
     "output_type": "stream",
     "text": [
      "looking for review ids:  66%|██████▌   | 412/623 [1:57:44<55:29, 15.78s/movie]"
     ]
    },
    {
     "name": "stdout",
     "output_type": "stream",
     "text": [
      "Less than 25 reviews available - skipped\n"
     ]
    },
    {
     "name": "stderr",
     "output_type": "stream",
     "text": [
      "looking for review ids:  66%|██████▋   | 413/623 [1:57:59<55:15, 15.79s/movie]"
     ]
    },
    {
     "name": "stdout",
     "output_type": "stream",
     "text": [
      "Less than 25 reviews available - skipped\n"
     ]
    },
    {
     "name": "stderr",
     "output_type": "stream",
     "text": [
      "looking for review ids:  66%|██████▋   | 414/623 [1:58:15<55:02, 15.80s/movie]"
     ]
    },
    {
     "name": "stdout",
     "output_type": "stream",
     "text": [
      "Less than 25 reviews available - skipped\n"
     ]
    },
    {
     "name": "stderr",
     "output_type": "stream",
     "text": [
      "looking for review ids:  67%|██████▋   | 415/623 [1:58:31<54:46, 15.80s/movie]"
     ]
    },
    {
     "name": "stdout",
     "output_type": "stream",
     "text": [
      "Less than 25 reviews available - skipped\n"
     ]
    },
    {
     "name": "stderr",
     "output_type": "stream",
     "text": [
      "looking for review ids:  67%|██████▋   | 417/623 [1:59:02<53:40, 15.63s/movie]"
     ]
    },
    {
     "name": "stdout",
     "output_type": "stream",
     "text": [
      "Less than 25 reviews available - skipped\n"
     ]
    },
    {
     "name": "stderr",
     "output_type": "stream",
     "text": [
      "looking for review ids:  67%|██████▋   | 418/623 [1:59:18<53:40, 15.71s/movie]"
     ]
    },
    {
     "name": "stdout",
     "output_type": "stream",
     "text": [
      "Less than 25 reviews available - skipped\n"
     ]
    },
    {
     "name": "stderr",
     "output_type": "stream",
     "text": [
      "looking for review ids:  67%|██████▋   | 419/623 [1:59:34<53:17, 15.68s/movie]"
     ]
    },
    {
     "name": "stdout",
     "output_type": "stream",
     "text": [
      "Less than 25 reviews available - skipped\n"
     ]
    },
    {
     "name": "stderr",
     "output_type": "stream",
     "text": [
      "looking for review ids:  67%|██████▋   | 420/623 [1:59:49<53:03, 15.68s/movie]"
     ]
    },
    {
     "name": "stdout",
     "output_type": "stream",
     "text": [
      "Less than 25 reviews available - skipped\n"
     ]
    },
    {
     "name": "stderr",
     "output_type": "stream",
     "text": [
      "looking for review ids:  68%|██████▊   | 421/623 [2:00:05<52:58, 15.74s/movie]"
     ]
    },
    {
     "name": "stdout",
     "output_type": "stream",
     "text": [
      "Less than 25 reviews available - skipped\n"
     ]
    },
    {
     "name": "stderr",
     "output_type": "stream",
     "text": [
      "looking for review ids:  68%|██████▊   | 422/623 [2:00:21<52:48, 15.77s/movie]"
     ]
    },
    {
     "name": "stdout",
     "output_type": "stream",
     "text": [
      "Less than 25 reviews available - skipped\n"
     ]
    },
    {
     "name": "stderr",
     "output_type": "stream",
     "text": [
      "looking for review ids:  68%|██████▊   | 423/623 [2:00:37<52:40, 15.80s/movie]"
     ]
    },
    {
     "name": "stdout",
     "output_type": "stream",
     "text": [
      "Less than 25 reviews available - skipped\n"
     ]
    },
    {
     "name": "stderr",
     "output_type": "stream",
     "text": [
      "looking for review ids:  68%|██████▊   | 424/623 [2:00:53<52:29, 15.83s/movie]"
     ]
    },
    {
     "name": "stdout",
     "output_type": "stream",
     "text": [
      "Less than 25 reviews available - skipped\n"
     ]
    },
    {
     "name": "stderr",
     "output_type": "stream",
     "text": [
      "looking for review ids:  68%|██████▊   | 425/623 [2:01:08<51:56, 15.74s/movie]"
     ]
    },
    {
     "name": "stdout",
     "output_type": "stream",
     "text": [
      "Less than 25 reviews available - skipped\n"
     ]
    },
    {
     "name": "stderr",
     "output_type": "stream",
     "text": [
      "looking for review ids:  68%|██████▊   | 426/623 [2:01:24<51:41, 15.74s/movie]"
     ]
    },
    {
     "name": "stdout",
     "output_type": "stream",
     "text": [
      "Less than 25 reviews available - skipped\n"
     ]
    },
    {
     "name": "stderr",
     "output_type": "stream",
     "text": [
      "looking for review ids:  69%|██████▊   | 427/623 [2:01:40<51:24, 15.74s/movie]"
     ]
    },
    {
     "name": "stdout",
     "output_type": "stream",
     "text": [
      "Less than 25 reviews available - skipped\n"
     ]
    },
    {
     "name": "stderr",
     "output_type": "stream",
     "text": [
      "looking for review ids:  69%|██████▊   | 428/623 [2:01:56<51:06, 15.73s/movie]"
     ]
    },
    {
     "name": "stdout",
     "output_type": "stream",
     "text": [
      "Less than 25 reviews available - skipped\n"
     ]
    },
    {
     "name": "stderr",
     "output_type": "stream",
     "text": [
      "looking for review ids:  69%|██████▉   | 429/623 [2:02:11<50:53, 15.74s/movie]"
     ]
    },
    {
     "name": "stdout",
     "output_type": "stream",
     "text": [
      "Less than 25 reviews available - skipped\n"
     ]
    },
    {
     "name": "stderr",
     "output_type": "stream",
     "text": [
      "looking for review ids:  69%|██████▉   | 430/623 [2:02:27<50:34, 15.72s/movie]"
     ]
    },
    {
     "name": "stdout",
     "output_type": "stream",
     "text": [
      "Less than 25 reviews available - skipped\n"
     ]
    },
    {
     "name": "stderr",
     "output_type": "stream",
     "text": [
      "looking for review ids:  69%|██████▉   | 431/623 [2:02:43<50:17, 15.72s/movie]"
     ]
    },
    {
     "name": "stdout",
     "output_type": "stream",
     "text": [
      "Less than 25 reviews available - skipped\n"
     ]
    },
    {
     "name": "stderr",
     "output_type": "stream",
     "text": [
      "looking for review ids:  69%|██████▉   | 432/623 [2:02:58<49:59, 15.70s/movie]"
     ]
    },
    {
     "name": "stdout",
     "output_type": "stream",
     "text": [
      "Less than 25 reviews available - skipped\n"
     ]
    },
    {
     "name": "stderr",
     "output_type": "stream",
     "text": [
      "looking for review ids:  70%|██████▉   | 434/623 [2:03:28<47:21, 15.03s/movie]"
     ]
    },
    {
     "name": "stdout",
     "output_type": "stream",
     "text": [
      "Less than 25 reviews available - skipped\n"
     ]
    },
    {
     "name": "stderr",
     "output_type": "stream",
     "text": [
      "looking for review ids:  70%|██████▉   | 435/623 [2:03:44<48:00, 15.32s/movie]"
     ]
    },
    {
     "name": "stdout",
     "output_type": "stream",
     "text": [
      "Less than 25 reviews available - skipped\n"
     ]
    },
    {
     "name": "stderr",
     "output_type": "stream",
     "text": [
      "looking for review ids:  70%|██████▉   | 436/623 [2:03:59<48:16, 15.49s/movie]"
     ]
    },
    {
     "name": "stdout",
     "output_type": "stream",
     "text": [
      "Less than 25 reviews available - skipped\n"
     ]
    },
    {
     "name": "stderr",
     "output_type": "stream",
     "text": [
      "looking for review ids:  70%|███████   | 437/623 [2:04:15<48:16, 15.57s/movie]"
     ]
    },
    {
     "name": "stdout",
     "output_type": "stream",
     "text": [
      "Less than 25 reviews available - skipped\n"
     ]
    },
    {
     "name": "stderr",
     "output_type": "stream",
     "text": [
      "looking for review ids:  70%|███████   | 438/623 [2:04:31<47:54, 15.54s/movie]"
     ]
    },
    {
     "name": "stdout",
     "output_type": "stream",
     "text": [
      "Less than 25 reviews available - skipped\n"
     ]
    },
    {
     "name": "stderr",
     "output_type": "stream",
     "text": [
      "looking for review ids:  70%|███████   | 439/623 [2:04:46<47:44, 15.57s/movie]"
     ]
    },
    {
     "name": "stdout",
     "output_type": "stream",
     "text": [
      "Less than 25 reviews available - skipped\n"
     ]
    },
    {
     "name": "stderr",
     "output_type": "stream",
     "text": [
      "looking for review ids:  71%|███████   | 440/623 [2:05:02<47:32, 15.59s/movie]"
     ]
    },
    {
     "name": "stdout",
     "output_type": "stream",
     "text": [
      "Less than 25 reviews available - skipped\n"
     ]
    },
    {
     "name": "stderr",
     "output_type": "stream",
     "text": [
      "looking for review ids:  71%|███████   | 441/623 [2:05:18<47:27, 15.65s/movie]"
     ]
    },
    {
     "name": "stdout",
     "output_type": "stream",
     "text": [
      "Less than 25 reviews available - skipped\n"
     ]
    },
    {
     "name": "stderr",
     "output_type": "stream",
     "text": [
      "looking for review ids:  71%|███████   | 442/623 [2:05:34<47:32, 15.76s/movie]"
     ]
    },
    {
     "name": "stdout",
     "output_type": "stream",
     "text": [
      "Less than 25 reviews available - skipped\n"
     ]
    },
    {
     "name": "stderr",
     "output_type": "stream",
     "text": [
      "looking for review ids:  71%|███████   | 443/623 [2:05:49<47:17, 15.76s/movie]"
     ]
    },
    {
     "name": "stdout",
     "output_type": "stream",
     "text": [
      "Less than 25 reviews available - skipped\n"
     ]
    },
    {
     "name": "stderr",
     "output_type": "stream",
     "text": [
      "looking for review ids:  71%|███████▏  | 444/623 [2:06:05<47:01, 15.76s/movie]"
     ]
    },
    {
     "name": "stdout",
     "output_type": "stream",
     "text": [
      "Less than 25 reviews available - skipped\n"
     ]
    },
    {
     "name": "stderr",
     "output_type": "stream",
     "text": [
      "looking for review ids:  71%|███████▏  | 445/623 [2:06:21<46:35, 15.70s/movie]"
     ]
    },
    {
     "name": "stdout",
     "output_type": "stream",
     "text": [
      "Less than 25 reviews available - skipped\n"
     ]
    },
    {
     "name": "stderr",
     "output_type": "stream",
     "text": [
      "looking for review ids:  72%|███████▏  | 446/623 [2:06:37<46:39, 15.82s/movie]"
     ]
    },
    {
     "name": "stdout",
     "output_type": "stream",
     "text": [
      "Less than 25 reviews available - skipped\n"
     ]
    },
    {
     "name": "stderr",
     "output_type": "stream",
     "text": [
      "looking for review ids:  72%|███████▏  | 447/623 [2:06:52<46:12, 15.75s/movie]"
     ]
    },
    {
     "name": "stdout",
     "output_type": "stream",
     "text": [
      "Less than 25 reviews available - skipped\n"
     ]
    },
    {
     "name": "stderr",
     "output_type": "stream",
     "text": [
      "looking for review ids:  72%|███████▏  | 448/623 [2:07:08<45:44, 15.68s/movie]"
     ]
    },
    {
     "name": "stdout",
     "output_type": "stream",
     "text": [
      "Less than 25 reviews available - skipped\n"
     ]
    },
    {
     "name": "stderr",
     "output_type": "stream",
     "text": [
      "looking for review ids:  72%|███████▏  | 449/623 [2:07:23<45:16, 15.61s/movie]"
     ]
    },
    {
     "name": "stdout",
     "output_type": "stream",
     "text": [
      "Less than 25 reviews available - skipped\n"
     ]
    },
    {
     "name": "stderr",
     "output_type": "stream",
     "text": [
      "looking for review ids:  72%|███████▏  | 450/623 [2:07:39<45:21, 15.73s/movie]"
     ]
    },
    {
     "name": "stdout",
     "output_type": "stream",
     "text": [
      "Less than 25 reviews available - skipped\n"
     ]
    },
    {
     "name": "stderr",
     "output_type": "stream",
     "text": [
      "looking for review ids:  72%|███████▏  | 451/623 [2:07:55<45:04, 15.73s/movie]"
     ]
    },
    {
     "name": "stdout",
     "output_type": "stream",
     "text": [
      "Less than 25 reviews available - skipped\n"
     ]
    },
    {
     "name": "stderr",
     "output_type": "stream",
     "text": [
      "looking for review ids:  73%|███████▎  | 452/623 [2:08:11<44:52, 15.74s/movie]"
     ]
    },
    {
     "name": "stdout",
     "output_type": "stream",
     "text": [
      "Less than 25 reviews available - skipped\n"
     ]
    },
    {
     "name": "stderr",
     "output_type": "stream",
     "text": [
      "looking for review ids:  73%|███████▎  | 453/623 [2:08:27<44:34, 15.73s/movie]"
     ]
    },
    {
     "name": "stdout",
     "output_type": "stream",
     "text": [
      "Less than 25 reviews available - skipped\n"
     ]
    },
    {
     "name": "stderr",
     "output_type": "stream",
     "text": [
      "looking for review ids:  73%|███████▎  | 454/623 [2:08:43<44:40, 15.86s/movie]"
     ]
    },
    {
     "name": "stdout",
     "output_type": "stream",
     "text": [
      "Less than 25 reviews available - skipped\n"
     ]
    },
    {
     "name": "stderr",
     "output_type": "stream",
     "text": [
      "looking for review ids:  73%|███████▎  | 455/623 [2:08:58<44:15, 15.81s/movie]"
     ]
    },
    {
     "name": "stdout",
     "output_type": "stream",
     "text": [
      "Less than 25 reviews available - skipped\n"
     ]
    },
    {
     "name": "stderr",
     "output_type": "stream",
     "text": [
      "looking for review ids:  73%|███████▎  | 456/623 [2:09:14<44:01, 15.82s/movie]"
     ]
    },
    {
     "name": "stdout",
     "output_type": "stream",
     "text": [
      "Less than 25 reviews available - skipped\n"
     ]
    },
    {
     "name": "stderr",
     "output_type": "stream",
     "text": [
      "looking for review ids:  73%|███████▎  | 457/623 [2:09:30<43:28, 15.72s/movie]"
     ]
    },
    {
     "name": "stdout",
     "output_type": "stream",
     "text": [
      "Less than 25 reviews available - skipped\n"
     ]
    },
    {
     "name": "stderr",
     "output_type": "stream",
     "text": [
      "looking for review ids:  74%|███████▎  | 458/623 [2:09:46<43:21, 15.77s/movie]"
     ]
    },
    {
     "name": "stdout",
     "output_type": "stream",
     "text": [
      "Less than 25 reviews available - skipped\n"
     ]
    },
    {
     "name": "stderr",
     "output_type": "stream",
     "text": [
      "looking for review ids:  74%|███████▎  | 459/623 [2:10:01<43:05, 15.77s/movie]"
     ]
    },
    {
     "name": "stdout",
     "output_type": "stream",
     "text": [
      "esecuzione interrotta tempo finito\n"
     ]
    },
    {
     "name": "stderr",
     "output_type": "stream",
     "text": [
      "looking for review ids:  74%|███████▍  | 460/623 [2:10:44<1:04:33, 23.76s/movie]"
     ]
    },
    {
     "name": "stdout",
     "output_type": "stream",
     "text": [
      "Less than 25 reviews available - skipped\n"
     ]
    },
    {
     "name": "stderr",
     "output_type": "stream",
     "text": [
      "looking for review ids:  74%|███████▍  | 461/623 [2:11:00<57:37, 21.34s/movie]  "
     ]
    },
    {
     "name": "stdout",
     "output_type": "stream",
     "text": [
      "Less than 25 reviews available - skipped\n"
     ]
    },
    {
     "name": "stderr",
     "output_type": "stream",
     "text": [
      "looking for review ids:  74%|███████▍  | 462/623 [2:11:15<52:42, 19.65s/movie]"
     ]
    },
    {
     "name": "stdout",
     "output_type": "stream",
     "text": [
      "Less than 25 reviews available - skipped\n"
     ]
    },
    {
     "name": "stderr",
     "output_type": "stream",
     "text": [
      "looking for review ids:  74%|███████▍  | 463/623 [2:11:31<49:20, 18.51s/movie]"
     ]
    },
    {
     "name": "stdout",
     "output_type": "stream",
     "text": [
      "Less than 25 reviews available - skipped\n"
     ]
    },
    {
     "name": "stderr",
     "output_type": "stream",
     "text": [
      "looking for review ids:  74%|███████▍  | 464/623 [2:11:47<46:53, 17.70s/movie]"
     ]
    },
    {
     "name": "stdout",
     "output_type": "stream",
     "text": [
      "Less than 25 reviews available - skipped\n"
     ]
    },
    {
     "name": "stderr",
     "output_type": "stream",
     "text": [
      "looking for review ids:  75%|███████▍  | 465/623 [2:12:03<45:02, 17.10s/movie]"
     ]
    },
    {
     "name": "stdout",
     "output_type": "stream",
     "text": [
      "Less than 25 reviews available - skipped\n"
     ]
    },
    {
     "name": "stderr",
     "output_type": "stream",
     "text": [
      "looking for review ids:  75%|███████▍  | 466/623 [2:12:18<43:34, 16.65s/movie]"
     ]
    },
    {
     "name": "stdout",
     "output_type": "stream",
     "text": [
      "Less than 25 reviews available - skipped\n"
     ]
    },
    {
     "name": "stderr",
     "output_type": "stream",
     "text": [
      "looking for review ids:  75%|███████▍  | 467/623 [2:12:34<42:37, 16.40s/movie]"
     ]
    },
    {
     "name": "stdout",
     "output_type": "stream",
     "text": [
      "Less than 25 reviews available - skipped\n"
     ]
    },
    {
     "name": "stderr",
     "output_type": "stream",
     "text": [
      "looking for review ids:  75%|███████▌  | 468/623 [2:12:50<41:59, 16.25s/movie]"
     ]
    },
    {
     "name": "stdout",
     "output_type": "stream",
     "text": [
      "Less than 25 reviews available - skipped\n"
     ]
    },
    {
     "name": "stderr",
     "output_type": "stream",
     "text": [
      "looking for review ids:  75%|███████▌  | 469/623 [2:13:06<41:26, 16.15s/movie]"
     ]
    },
    {
     "name": "stdout",
     "output_type": "stream",
     "text": [
      "Less than 25 reviews available - skipped\n"
     ]
    },
    {
     "name": "stderr",
     "output_type": "stream",
     "text": [
      "looking for review ids:  75%|███████▌  | 470/623 [2:13:22<40:48, 16.00s/movie]"
     ]
    },
    {
     "name": "stdout",
     "output_type": "stream",
     "text": [
      "Less than 25 reviews available - skipped\n"
     ]
    },
    {
     "name": "stderr",
     "output_type": "stream",
     "text": [
      "looking for review ids:  76%|███████▌  | 471/623 [2:13:37<40:10, 15.86s/movie]"
     ]
    },
    {
     "name": "stdout",
     "output_type": "stream",
     "text": [
      "Less than 25 reviews available - skipped\n"
     ]
    },
    {
     "name": "stderr",
     "output_type": "stream",
     "text": [
      "looking for review ids:  76%|███████▌  | 472/623 [2:13:53<39:42, 15.78s/movie]"
     ]
    },
    {
     "name": "stdout",
     "output_type": "stream",
     "text": [
      "Less than 25 reviews available - skipped\n"
     ]
    },
    {
     "name": "stderr",
     "output_type": "stream",
     "text": [
      "looking for review ids:  76%|███████▌  | 473/623 [2:14:08<39:29, 15.80s/movie]"
     ]
    },
    {
     "name": "stdout",
     "output_type": "stream",
     "text": [
      "Less than 25 reviews available - skipped\n"
     ]
    },
    {
     "name": "stderr",
     "output_type": "stream",
     "text": [
      "looking for review ids:  76%|███████▌  | 474/623 [2:14:24<38:57, 15.69s/movie]"
     ]
    },
    {
     "name": "stdout",
     "output_type": "stream",
     "text": [
      "Less than 25 reviews available - skipped\n"
     ]
    },
    {
     "name": "stderr",
     "output_type": "stream",
     "text": [
      "looking for review ids:  76%|███████▌  | 475/623 [2:14:40<38:50, 15.75s/movie]"
     ]
    },
    {
     "name": "stdout",
     "output_type": "stream",
     "text": [
      "Less than 25 reviews available - skipped\n"
     ]
    },
    {
     "name": "stderr",
     "output_type": "stream",
     "text": [
      "looking for review ids:  77%|███████▋  | 477/623 [2:15:09<36:26, 14.97s/movie]"
     ]
    },
    {
     "name": "stdout",
     "output_type": "stream",
     "text": [
      "Less than 25 reviews available - skipped\n"
     ]
    },
    {
     "name": "stderr",
     "output_type": "stream",
     "text": [
      "looking for review ids:  77%|███████▋  | 478/623 [2:15:25<36:46, 15.22s/movie]"
     ]
    },
    {
     "name": "stdout",
     "output_type": "stream",
     "text": [
      "Less than 25 reviews available - skipped\n"
     ]
    },
    {
     "name": "stderr",
     "output_type": "stream",
     "text": [
      "looking for review ids:  77%|███████▋  | 479/623 [2:15:40<36:55, 15.38s/movie]"
     ]
    },
    {
     "name": "stdout",
     "output_type": "stream",
     "text": [
      "Less than 25 reviews available - skipped\n"
     ]
    },
    {
     "name": "stderr",
     "output_type": "stream",
     "text": [
      "looking for review ids:  77%|███████▋  | 480/623 [2:15:56<36:56, 15.50s/movie]"
     ]
    },
    {
     "name": "stdout",
     "output_type": "stream",
     "text": [
      "Less than 25 reviews available - skipped\n"
     ]
    },
    {
     "name": "stderr",
     "output_type": "stream",
     "text": [
      "looking for review ids:  77%|███████▋  | 482/623 [2:16:25<34:46, 14.80s/movie]"
     ]
    },
    {
     "name": "stdout",
     "output_type": "stream",
     "text": [
      "Less than 25 reviews available - skipped\n"
     ]
    },
    {
     "name": "stderr",
     "output_type": "stream",
     "text": [
      "looking for review ids:  78%|███████▊  | 483/623 [2:16:40<35:02, 15.02s/movie]"
     ]
    },
    {
     "name": "stdout",
     "output_type": "stream",
     "text": [
      "Less than 25 reviews available - skipped\n"
     ]
    },
    {
     "name": "stderr",
     "output_type": "stream",
     "text": [
      "looking for review ids:  78%|███████▊  | 484/623 [2:16:56<35:13, 15.20s/movie]"
     ]
    },
    {
     "name": "stdout",
     "output_type": "stream",
     "text": [
      "Less than 25 reviews available - skipped\n"
     ]
    },
    {
     "name": "stderr",
     "output_type": "stream",
     "text": [
      "looking for review ids:  78%|███████▊  | 485/623 [2:17:12<35:19, 15.36s/movie]"
     ]
    },
    {
     "name": "stdout",
     "output_type": "stream",
     "text": [
      "Less than 25 reviews available - skipped\n"
     ]
    },
    {
     "name": "stderr",
     "output_type": "stream",
     "text": [
      "looking for review ids:  78%|███████▊  | 486/623 [2:17:27<35:18, 15.46s/movie]"
     ]
    },
    {
     "name": "stdout",
     "output_type": "stream",
     "text": [
      "Less than 25 reviews available - skipped\n"
     ]
    },
    {
     "name": "stderr",
     "output_type": "stream",
     "text": [
      "looking for review ids:  78%|███████▊  | 487/623 [2:17:43<35:06, 15.49s/movie]"
     ]
    },
    {
     "name": "stdout",
     "output_type": "stream",
     "text": [
      "Less than 25 reviews available - skipped\n"
     ]
    },
    {
     "name": "stderr",
     "output_type": "stream",
     "text": [
      "looking for review ids:  78%|███████▊  | 488/623 [2:17:59<34:59, 15.55s/movie]"
     ]
    },
    {
     "name": "stdout",
     "output_type": "stream",
     "text": [
      "Less than 25 reviews available - skipped\n"
     ]
    },
    {
     "name": "stderr",
     "output_type": "stream",
     "text": [
      "looking for review ids:  78%|███████▊  | 489/623 [2:18:14<34:47, 15.58s/movie]"
     ]
    },
    {
     "name": "stdout",
     "output_type": "stream",
     "text": [
      "Less than 25 reviews available - skipped\n"
     ]
    },
    {
     "name": "stderr",
     "output_type": "stream",
     "text": [
      "looking for review ids:  79%|███████▊  | 490/623 [2:18:30<34:39, 15.64s/movie]"
     ]
    },
    {
     "name": "stdout",
     "output_type": "stream",
     "text": [
      "Less than 25 reviews available - skipped\n"
     ]
    },
    {
     "name": "stderr",
     "output_type": "stream",
     "text": [
      "looking for review ids:  79%|███████▉  | 491/623 [2:18:46<34:35, 15.72s/movie]"
     ]
    },
    {
     "name": "stdout",
     "output_type": "stream",
     "text": [
      "Less than 25 reviews available - skipped\n"
     ]
    },
    {
     "name": "stderr",
     "output_type": "stream",
     "text": [
      "looking for review ids:  79%|███████▉  | 492/623 [2:19:02<34:16, 15.70s/movie]"
     ]
    },
    {
     "name": "stdout",
     "output_type": "stream",
     "text": [
      "Less than 25 reviews available - skipped\n"
     ]
    },
    {
     "name": "stderr",
     "output_type": "stream",
     "text": [
      "looking for review ids:  79%|███████▉  | 493/623 [2:19:18<34:14, 15.80s/movie]"
     ]
    },
    {
     "name": "stdout",
     "output_type": "stream",
     "text": [
      "Less than 25 reviews available - skipped\n"
     ]
    },
    {
     "name": "stderr",
     "output_type": "stream",
     "text": [
      "looking for review ids:  79%|███████▉  | 494/623 [2:19:34<33:59, 15.81s/movie]"
     ]
    },
    {
     "name": "stdout",
     "output_type": "stream",
     "text": [
      "Less than 25 reviews available - skipped\n"
     ]
    },
    {
     "name": "stderr",
     "output_type": "stream",
     "text": [
      "looking for review ids:  79%|███████▉  | 495/623 [2:19:49<33:45, 15.83s/movie]"
     ]
    },
    {
     "name": "stdout",
     "output_type": "stream",
     "text": [
      "Less than 25 reviews available - skipped\n"
     ]
    },
    {
     "name": "stderr",
     "output_type": "stream",
     "text": [
      "looking for review ids:  80%|███████▉  | 496/623 [2:20:05<33:19, 15.74s/movie]"
     ]
    },
    {
     "name": "stdout",
     "output_type": "stream",
     "text": [
      "Less than 25 reviews available - skipped\n"
     ]
    },
    {
     "name": "stderr",
     "output_type": "stream",
     "text": [
      "looking for review ids:  80%|███████▉  | 497/623 [2:20:21<32:59, 15.71s/movie]"
     ]
    },
    {
     "name": "stdout",
     "output_type": "stream",
     "text": [
      "Less than 25 reviews available - skipped\n"
     ]
    },
    {
     "name": "stderr",
     "output_type": "stream",
     "text": [
      "looking for review ids:  80%|███████▉  | 498/623 [2:20:37<32:52, 15.78s/movie]"
     ]
    },
    {
     "name": "stdout",
     "output_type": "stream",
     "text": [
      "Less than 25 reviews available - skipped\n"
     ]
    },
    {
     "name": "stderr",
     "output_type": "stream",
     "text": [
      "looking for review ids:  80%|████████  | 499/623 [2:20:52<32:32, 15.75s/movie]"
     ]
    },
    {
     "name": "stdout",
     "output_type": "stream",
     "text": [
      "Less than 25 reviews available - skipped\n"
     ]
    },
    {
     "name": "stderr",
     "output_type": "stream",
     "text": [
      "looking for review ids:  80%|████████  | 500/623 [2:21:08<32:16, 15.74s/movie]"
     ]
    },
    {
     "name": "stdout",
     "output_type": "stream",
     "text": [
      "Less than 25 reviews available - skipped\n"
     ]
    },
    {
     "name": "stderr",
     "output_type": "stream",
     "text": [
      "looking for review ids:  80%|████████  | 501/623 [2:21:24<31:55, 15.70s/movie]"
     ]
    },
    {
     "name": "stdout",
     "output_type": "stream",
     "text": [
      "Less than 25 reviews available - skipped\n"
     ]
    },
    {
     "name": "stderr",
     "output_type": "stream",
     "text": [
      "looking for review ids:  81%|████████  | 502/623 [2:21:39<31:47, 15.76s/movie]"
     ]
    },
    {
     "name": "stdout",
     "output_type": "stream",
     "text": [
      "Less than 25 reviews available - skipped\n"
     ]
    },
    {
     "name": "stderr",
     "output_type": "stream",
     "text": [
      "looking for review ids:  81%|████████  | 503/623 [2:21:55<31:37, 15.81s/movie]"
     ]
    },
    {
     "name": "stdout",
     "output_type": "stream",
     "text": [
      "Less than 25 reviews available - skipped\n"
     ]
    },
    {
     "name": "stderr",
     "output_type": "stream",
     "text": [
      "looking for review ids:  81%|████████  | 504/623 [2:22:11<31:24, 15.84s/movie]"
     ]
    },
    {
     "name": "stdout",
     "output_type": "stream",
     "text": [
      "Less than 25 reviews available - skipped\n"
     ]
    },
    {
     "name": "stderr",
     "output_type": "stream",
     "text": [
      "looking for review ids:  81%|████████  | 506/623 [2:22:41<29:36, 15.19s/movie]"
     ]
    },
    {
     "name": "stdout",
     "output_type": "stream",
     "text": [
      "Less than 25 reviews available - skipped\n"
     ]
    },
    {
     "name": "stderr",
     "output_type": "stream",
     "text": [
      "looking for review ids:  82%|████████▏ | 508/623 [2:23:11<29:07, 15.19s/movie]"
     ]
    },
    {
     "name": "stdout",
     "output_type": "stream",
     "text": [
      "Less than 25 reviews available - skipped\n"
     ]
    },
    {
     "name": "stderr",
     "output_type": "stream",
     "text": [
      "looking for review ids:  82%|████████▏ | 509/623 [2:23:27<29:21, 15.45s/movie]"
     ]
    },
    {
     "name": "stdout",
     "output_type": "stream",
     "text": [
      "Less than 25 reviews available - skipped\n"
     ]
    },
    {
     "name": "stderr",
     "output_type": "stream",
     "text": [
      "looking for review ids:  82%|████████▏ | 510/623 [2:23:43<29:21, 15.59s/movie]"
     ]
    },
    {
     "name": "stdout",
     "output_type": "stream",
     "text": [
      "Less than 25 reviews available - skipped\n"
     ]
    },
    {
     "name": "stderr",
     "output_type": "stream",
     "text": [
      "looking for review ids:  82%|████████▏ | 511/623 [2:23:59<29:12, 15.65s/movie]"
     ]
    },
    {
     "name": "stdout",
     "output_type": "stream",
     "text": [
      "Less than 25 reviews available - skipped\n"
     ]
    },
    {
     "name": "stderr",
     "output_type": "stream",
     "text": [
      "looking for review ids:  82%|████████▏ | 512/623 [2:24:15<29:01, 15.69s/movie]"
     ]
    },
    {
     "name": "stdout",
     "output_type": "stream",
     "text": [
      "Less than 25 reviews available - skipped\n"
     ]
    },
    {
     "name": "stderr",
     "output_type": "stream",
     "text": [
      "looking for review ids:  83%|████████▎ | 514/623 [2:24:44<27:20, 15.05s/movie]"
     ]
    },
    {
     "name": "stdout",
     "output_type": "stream",
     "text": [
      "Less than 25 reviews available - skipped\n"
     ]
    },
    {
     "name": "stderr",
     "output_type": "stream",
     "text": [
      "looking for review ids:  83%|████████▎ | 515/623 [2:25:00<27:25, 15.24s/movie]"
     ]
    },
    {
     "name": "stdout",
     "output_type": "stream",
     "text": [
      "Less than 25 reviews available - skipped\n"
     ]
    },
    {
     "name": "stderr",
     "output_type": "stream",
     "text": [
      "looking for review ids:  83%|████████▎ | 516/623 [2:25:15<27:16, 15.29s/movie]"
     ]
    },
    {
     "name": "stdout",
     "output_type": "stream",
     "text": [
      "Less than 25 reviews available - skipped\n"
     ]
    },
    {
     "name": "stderr",
     "output_type": "stream",
     "text": [
      "looking for review ids:  83%|████████▎ | 517/623 [2:25:31<27:08, 15.36s/movie]"
     ]
    },
    {
     "name": "stdout",
     "output_type": "stream",
     "text": [
      "Less than 25 reviews available - skipped\n"
     ]
    },
    {
     "name": "stderr",
     "output_type": "stream",
     "text": [
      "looking for review ids:  83%|████████▎ | 518/623 [2:25:47<27:05, 15.48s/movie]"
     ]
    },
    {
     "name": "stdout",
     "output_type": "stream",
     "text": [
      "Less than 25 reviews available - skipped\n"
     ]
    },
    {
     "name": "stderr",
     "output_type": "stream",
     "text": [
      "looking for review ids:  83%|████████▎ | 519/623 [2:26:03<27:08, 15.66s/movie]"
     ]
    },
    {
     "name": "stdout",
     "output_type": "stream",
     "text": [
      "Less than 25 reviews available - skipped\n"
     ]
    },
    {
     "name": "stderr",
     "output_type": "stream",
     "text": [
      "looking for review ids:  83%|████████▎ | 520/623 [2:26:18<26:51, 15.64s/movie]"
     ]
    },
    {
     "name": "stdout",
     "output_type": "stream",
     "text": [
      "Less than 25 reviews available - skipped\n"
     ]
    },
    {
     "name": "stderr",
     "output_type": "stream",
     "text": [
      "looking for review ids:  84%|████████▎ | 521/623 [2:26:34<26:27, 15.56s/movie]"
     ]
    },
    {
     "name": "stdout",
     "output_type": "stream",
     "text": [
      "Less than 25 reviews available - skipped\n"
     ]
    },
    {
     "name": "stderr",
     "output_type": "stream",
     "text": [
      "looking for review ids:  84%|████████▍ | 523/623 [2:27:03<24:50, 14.90s/movie]"
     ]
    },
    {
     "name": "stdout",
     "output_type": "stream",
     "text": [
      "Less than 25 reviews available - skipped\n"
     ]
    },
    {
     "name": "stderr",
     "output_type": "stream",
     "text": [
      "looking for review ids:  84%|████████▍ | 524/623 [2:27:18<24:50, 15.06s/movie]"
     ]
    },
    {
     "name": "stdout",
     "output_type": "stream",
     "text": [
      "Less than 25 reviews available - skipped\n"
     ]
    },
    {
     "name": "stderr",
     "output_type": "stream",
     "text": [
      "looking for review ids:  84%|████████▍ | 525/623 [2:27:34<24:51, 15.22s/movie]"
     ]
    },
    {
     "name": "stdout",
     "output_type": "stream",
     "text": [
      "Less than 25 reviews available - skipped\n"
     ]
    },
    {
     "name": "stderr",
     "output_type": "stream",
     "text": [
      "looking for review ids:  84%|████████▍ | 526/623 [2:27:49<24:50, 15.37s/movie]"
     ]
    },
    {
     "name": "stdout",
     "output_type": "stream",
     "text": [
      "Less than 25 reviews available - skipped\n"
     ]
    },
    {
     "name": "stderr",
     "output_type": "stream",
     "text": [
      "looking for review ids:  85%|████████▍ | 528/623 [2:28:18<23:28, 14.83s/movie]"
     ]
    },
    {
     "name": "stdout",
     "output_type": "stream",
     "text": [
      "Less than 25 reviews available - skipped\n"
     ]
    },
    {
     "name": "stderr",
     "output_type": "stream",
     "text": [
      "looking for review ids:  85%|████████▌ | 530/623 [2:28:48<22:42, 14.65s/movie]"
     ]
    },
    {
     "name": "stdout",
     "output_type": "stream",
     "text": [
      "Less than 25 reviews available - skipped\n"
     ]
    },
    {
     "name": "stderr",
     "output_type": "stream",
     "text": [
      "looking for review ids:  85%|████████▌ | 531/623 [2:29:03<22:54, 14.94s/movie]"
     ]
    },
    {
     "name": "stdout",
     "output_type": "stream",
     "text": [
      "Less than 25 reviews available - skipped\n"
     ]
    },
    {
     "name": "stderr",
     "output_type": "stream",
     "text": [
      "looking for review ids:  85%|████████▌ | 532/623 [2:29:19<22:55, 15.12s/movie]"
     ]
    },
    {
     "name": "stdout",
     "output_type": "stream",
     "text": [
      "Less than 25 reviews available - skipped\n"
     ]
    },
    {
     "name": "stderr",
     "output_type": "stream",
     "text": [
      "looking for review ids:  86%|████████▌ | 533/623 [2:29:35<23:00, 15.34s/movie]"
     ]
    },
    {
     "name": "stdout",
     "output_type": "stream",
     "text": [
      "Less than 25 reviews available - skipped\n"
     ]
    },
    {
     "name": "stderr",
     "output_type": "stream",
     "text": [
      "looking for review ids:  86%|████████▌ | 534/623 [2:29:51<22:55, 15.45s/movie]"
     ]
    },
    {
     "name": "stdout",
     "output_type": "stream",
     "text": [
      "Less than 25 reviews available - skipped\n"
     ]
    },
    {
     "name": "stderr",
     "output_type": "stream",
     "text": [
      "looking for review ids:  86%|████████▌ | 535/623 [2:30:06<22:45, 15.51s/movie]"
     ]
    },
    {
     "name": "stdout",
     "output_type": "stream",
     "text": [
      "Less than 25 reviews available - skipped\n"
     ]
    },
    {
     "name": "stderr",
     "output_type": "stream",
     "text": [
      "looking for review ids:  86%|████████▌ | 536/623 [2:30:22<22:40, 15.64s/movie]"
     ]
    },
    {
     "name": "stdout",
     "output_type": "stream",
     "text": [
      "Less than 25 reviews available - skipped\n"
     ]
    },
    {
     "name": "stderr",
     "output_type": "stream",
     "text": [
      "looking for review ids:  86%|████████▌ | 537/623 [2:30:38<22:24, 15.63s/movie]"
     ]
    },
    {
     "name": "stdout",
     "output_type": "stream",
     "text": [
      "Less than 25 reviews available - skipped\n"
     ]
    },
    {
     "name": "stderr",
     "output_type": "stream",
     "text": [
      "looking for review ids:  86%|████████▋ | 538/623 [2:30:54<22:15, 15.71s/movie]"
     ]
    },
    {
     "name": "stdout",
     "output_type": "stream",
     "text": [
      "Less than 25 reviews available - skipped\n"
     ]
    },
    {
     "name": "stderr",
     "output_type": "stream",
     "text": [
      "looking for review ids:  87%|████████▋ | 539/623 [2:31:09<21:58, 15.69s/movie]"
     ]
    },
    {
     "name": "stdout",
     "output_type": "stream",
     "text": [
      "Less than 25 reviews available - skipped\n"
     ]
    },
    {
     "name": "stderr",
     "output_type": "stream",
     "text": [
      "looking for review ids:  87%|████████▋ | 540/623 [2:31:25<21:44, 15.72s/movie]"
     ]
    },
    {
     "name": "stdout",
     "output_type": "stream",
     "text": [
      "Less than 25 reviews available - skipped\n"
     ]
    },
    {
     "name": "stderr",
     "output_type": "stream",
     "text": [
      "looking for review ids:  87%|████████▋ | 541/623 [2:31:41<21:32, 15.76s/movie]"
     ]
    },
    {
     "name": "stdout",
     "output_type": "stream",
     "text": [
      "Less than 25 reviews available - skipped\n"
     ]
    },
    {
     "name": "stderr",
     "output_type": "stream",
     "text": [
      "looking for review ids:  87%|████████▋ | 542/623 [2:31:57<21:15, 15.74s/movie]"
     ]
    },
    {
     "name": "stdout",
     "output_type": "stream",
     "text": [
      "Less than 25 reviews available - skipped\n"
     ]
    },
    {
     "name": "stderr",
     "output_type": "stream",
     "text": [
      "looking for review ids:  87%|████████▋ | 543/623 [2:32:12<21:02, 15.78s/movie]"
     ]
    },
    {
     "name": "stdout",
     "output_type": "stream",
     "text": [
      "Less than 25 reviews available - skipped\n"
     ]
    },
    {
     "name": "stderr",
     "output_type": "stream",
     "text": [
      "looking for review ids:  87%|████████▋ | 544/623 [2:32:28<20:44, 15.76s/movie]"
     ]
    },
    {
     "name": "stdout",
     "output_type": "stream",
     "text": [
      "Less than 25 reviews available - skipped\n"
     ]
    },
    {
     "name": "stderr",
     "output_type": "stream",
     "text": [
      "looking for review ids:  87%|████████▋ | 545/623 [2:32:44<20:28, 15.74s/movie]"
     ]
    },
    {
     "name": "stdout",
     "output_type": "stream",
     "text": [
      "Less than 25 reviews available - skipped\n"
     ]
    },
    {
     "name": "stderr",
     "output_type": "stream",
     "text": [
      "looking for review ids:  88%|████████▊ | 546/623 [2:33:00<20:15, 15.79s/movie]"
     ]
    },
    {
     "name": "stdout",
     "output_type": "stream",
     "text": [
      "Less than 25 reviews available - skipped\n"
     ]
    },
    {
     "name": "stderr",
     "output_type": "stream",
     "text": [
      "looking for review ids:  88%|████████▊ | 548/623 [2:33:29<18:54, 15.12s/movie]"
     ]
    },
    {
     "name": "stdout",
     "output_type": "stream",
     "text": [
      "Less than 25 reviews available - skipped\n"
     ]
    },
    {
     "name": "stderr",
     "output_type": "stream",
     "text": [
      "looking for review ids:  88%|████████▊ | 549/623 [2:33:45<18:48, 15.25s/movie]"
     ]
    },
    {
     "name": "stdout",
     "output_type": "stream",
     "text": [
      "Less than 25 reviews available - skipped\n"
     ]
    },
    {
     "name": "stderr",
     "output_type": "stream",
     "text": [
      "looking for review ids:  88%|████████▊ | 551/623 [2:34:15<18:13, 15.19s/movie]"
     ]
    },
    {
     "name": "stdout",
     "output_type": "stream",
     "text": [
      "Less than 25 reviews available - skipped\n"
     ]
    },
    {
     "name": "stderr",
     "output_type": "stream",
     "text": [
      "looking for review ids:  89%|████████▊ | 552/623 [2:34:31<18:13, 15.40s/movie]"
     ]
    },
    {
     "name": "stdout",
     "output_type": "stream",
     "text": [
      "Less than 25 reviews available - skipped\n"
     ]
    },
    {
     "name": "stderr",
     "output_type": "stream",
     "text": [
      "looking for review ids:  89%|████████▉ | 553/623 [2:34:47<18:07, 15.54s/movie]"
     ]
    },
    {
     "name": "stdout",
     "output_type": "stream",
     "text": [
      "Less than 25 reviews available - skipped\n"
     ]
    },
    {
     "name": "stderr",
     "output_type": "stream",
     "text": [
      "looking for review ids:  89%|████████▉ | 554/623 [2:35:03<17:59, 15.64s/movie]"
     ]
    },
    {
     "name": "stdout",
     "output_type": "stream",
     "text": [
      "Less than 25 reviews available - skipped\n"
     ]
    },
    {
     "name": "stderr",
     "output_type": "stream",
     "text": [
      "looking for review ids:  89%|████████▉ | 556/623 [2:35:32<16:49, 15.06s/movie]"
     ]
    },
    {
     "name": "stdout",
     "output_type": "stream",
     "text": [
      "Less than 25 reviews available - skipped\n"
     ]
    },
    {
     "name": "stderr",
     "output_type": "stream",
     "text": [
      "looking for review ids:  89%|████████▉ | 557/623 [2:35:48<16:42, 15.18s/movie]"
     ]
    },
    {
     "name": "stdout",
     "output_type": "stream",
     "text": [
      "Less than 25 reviews available - skipped\n"
     ]
    },
    {
     "name": "stderr",
     "output_type": "stream",
     "text": [
      "looking for review ids:  90%|████████▉ | 558/623 [2:36:04<16:40, 15.39s/movie]"
     ]
    },
    {
     "name": "stdout",
     "output_type": "stream",
     "text": [
      "Less than 25 reviews available - skipped\n"
     ]
    },
    {
     "name": "stderr",
     "output_type": "stream",
     "text": [
      "looking for review ids:  90%|████████▉ | 560/623 [2:36:34<15:58, 15.21s/movie]"
     ]
    },
    {
     "name": "stdout",
     "output_type": "stream",
     "text": [
      "Less than 25 reviews available - skipped\n"
     ]
    },
    {
     "name": "stderr",
     "output_type": "stream",
     "text": [
      "looking for review ids:  90%|█████████ | 561/623 [2:36:49<15:47, 15.29s/movie]"
     ]
    },
    {
     "name": "stdout",
     "output_type": "stream",
     "text": [
      "Less than 25 reviews available - skipped\n"
     ]
    },
    {
     "name": "stderr",
     "output_type": "stream",
     "text": [
      "looking for review ids:  90%|█████████ | 562/623 [2:37:05<15:41, 15.43s/movie]"
     ]
    },
    {
     "name": "stdout",
     "output_type": "stream",
     "text": [
      "Less than 25 reviews available - skipped\n"
     ]
    },
    {
     "name": "stderr",
     "output_type": "stream",
     "text": [
      "looking for review ids:  91%|█████████ | 564/623 [2:37:34<14:35, 14.84s/movie]"
     ]
    },
    {
     "name": "stdout",
     "output_type": "stream",
     "text": [
      "Less than 25 reviews available - skipped\n"
     ]
    },
    {
     "name": "stderr",
     "output_type": "stream",
     "text": [
      "looking for review ids:  91%|█████████ | 565/623 [2:37:50<14:33, 15.06s/movie]"
     ]
    },
    {
     "name": "stdout",
     "output_type": "stream",
     "text": [
      "Less than 25 reviews available - skipped\n"
     ]
    },
    {
     "name": "stderr",
     "output_type": "stream",
     "text": [
      "looking for review ids:  91%|█████████ | 566/623 [2:38:06<14:33, 15.32s/movie]"
     ]
    },
    {
     "name": "stdout",
     "output_type": "stream",
     "text": [
      "Less than 25 reviews available - skipped\n"
     ]
    },
    {
     "name": "stderr",
     "output_type": "stream",
     "text": [
      "looking for review ids:  91%|█████████ | 567/623 [2:38:21<14:19, 15.35s/movie]"
     ]
    },
    {
     "name": "stdout",
     "output_type": "stream",
     "text": [
      "Less than 25 reviews available - skipped\n"
     ]
    },
    {
     "name": "stderr",
     "output_type": "stream",
     "text": [
      "looking for review ids:  91%|█████████ | 568/623 [2:38:37<14:10, 15.46s/movie]"
     ]
    },
    {
     "name": "stdout",
     "output_type": "stream",
     "text": [
      "Less than 25 reviews available - skipped\n"
     ]
    },
    {
     "name": "stderr",
     "output_type": "stream",
     "text": [
      "looking for review ids:  91%|█████████▏| 569/623 [2:38:53<14:00, 15.57s/movie]"
     ]
    },
    {
     "name": "stdout",
     "output_type": "stream",
     "text": [
      "Less than 25 reviews available - skipped\n"
     ]
    },
    {
     "name": "stderr",
     "output_type": "stream",
     "text": [
      "looking for review ids:  91%|█████████▏| 570/623 [2:39:08<13:44, 15.57s/movie]"
     ]
    },
    {
     "name": "stdout",
     "output_type": "stream",
     "text": [
      "Less than 25 reviews available - skipped\n"
     ]
    },
    {
     "name": "stderr",
     "output_type": "stream",
     "text": [
      "looking for review ids:  92%|█████████▏| 571/623 [2:39:24<13:33, 15.65s/movie]"
     ]
    },
    {
     "name": "stdout",
     "output_type": "stream",
     "text": [
      "Less than 25 reviews available - skipped\n"
     ]
    },
    {
     "name": "stderr",
     "output_type": "stream",
     "text": [
      "looking for review ids:  92%|█████████▏| 572/623 [2:39:40<13:20, 15.71s/movie]"
     ]
    },
    {
     "name": "stdout",
     "output_type": "stream",
     "text": [
      "Less than 25 reviews available - skipped\n"
     ]
    },
    {
     "name": "stderr",
     "output_type": "stream",
     "text": [
      "looking for review ids:  92%|█████████▏| 573/623 [2:39:56<13:06, 15.72s/movie]"
     ]
    },
    {
     "name": "stdout",
     "output_type": "stream",
     "text": [
      "Less than 25 reviews available - skipped\n"
     ]
    },
    {
     "name": "stderr",
     "output_type": "stream",
     "text": [
      "looking for review ids:  92%|█████████▏| 574/623 [2:40:11<12:52, 15.76s/movie]"
     ]
    },
    {
     "name": "stdout",
     "output_type": "stream",
     "text": [
      "Less than 25 reviews available - skipped\n"
     ]
    },
    {
     "name": "stderr",
     "output_type": "stream",
     "text": [
      "looking for review ids:  92%|█████████▏| 575/623 [2:40:27<12:33, 15.69s/movie]"
     ]
    },
    {
     "name": "stdout",
     "output_type": "stream",
     "text": [
      "Less than 25 reviews available - skipped\n"
     ]
    },
    {
     "name": "stderr",
     "output_type": "stream",
     "text": [
      "looking for review ids:  93%|█████████▎| 577/623 [2:40:56<11:24, 14.88s/movie]"
     ]
    },
    {
     "name": "stdout",
     "output_type": "stream",
     "text": [
      "Less than 25 reviews available - skipped\n"
     ]
    },
    {
     "name": "stderr",
     "output_type": "stream",
     "text": [
      "looking for review ids:  93%|█████████▎| 578/623 [2:41:11<11:21, 15.15s/movie]"
     ]
    },
    {
     "name": "stdout",
     "output_type": "stream",
     "text": [
      "Less than 25 reviews available - skipped\n"
     ]
    },
    {
     "name": "stderr",
     "output_type": "stream",
     "text": [
      "looking for review ids:  93%|█████████▎| 579/623 [2:41:27<11:10, 15.25s/movie]"
     ]
    },
    {
     "name": "stdout",
     "output_type": "stream",
     "text": [
      "Less than 25 reviews available - skipped\n"
     ]
    },
    {
     "name": "stderr",
     "output_type": "stream",
     "text": [
      "looking for review ids:  93%|█████████▎| 580/623 [2:41:43<11:03, 15.43s/movie]"
     ]
    },
    {
     "name": "stdout",
     "output_type": "stream",
     "text": [
      "Less than 25 reviews available - skipped\n"
     ]
    },
    {
     "name": "stderr",
     "output_type": "stream",
     "text": [
      "looking for review ids:  93%|█████████▎| 582/623 [2:42:11<10:05, 14.77s/movie]"
     ]
    },
    {
     "name": "stdout",
     "output_type": "stream",
     "text": [
      "Less than 25 reviews available - skipped\n"
     ]
    },
    {
     "name": "stderr",
     "output_type": "stream",
     "text": [
      "looking for review ids:  94%|█████████▎| 583/623 [2:42:27<10:02, 15.06s/movie]"
     ]
    },
    {
     "name": "stdout",
     "output_type": "stream",
     "text": [
      "Less than 25 reviews available - skipped\n"
     ]
    },
    {
     "name": "stderr",
     "output_type": "stream",
     "text": [
      "looking for review ids:  94%|█████████▎| 584/623 [2:42:43<09:54, 15.23s/movie]"
     ]
    },
    {
     "name": "stdout",
     "output_type": "stream",
     "text": [
      "Less than 25 reviews available - skipped\n"
     ]
    },
    {
     "name": "stderr",
     "output_type": "stream",
     "text": [
      "looking for review ids:  94%|█████████▍| 585/623 [2:42:59<09:45, 15.42s/movie]"
     ]
    },
    {
     "name": "stdout",
     "output_type": "stream",
     "text": [
      "Less than 25 reviews available - skipped\n"
     ]
    },
    {
     "name": "stderr",
     "output_type": "stream",
     "text": [
      "looking for review ids:  94%|█████████▍| 586/623 [2:43:14<09:33, 15.51s/movie]"
     ]
    },
    {
     "name": "stdout",
     "output_type": "stream",
     "text": [
      "Less than 25 reviews available - skipped\n"
     ]
    },
    {
     "name": "stderr",
     "output_type": "stream",
     "text": [
      "looking for review ids:  94%|█████████▍| 587/623 [2:43:30<09:17, 15.48s/movie]"
     ]
    },
    {
     "name": "stdout",
     "output_type": "stream",
     "text": [
      "esecuzione interrotta tempo finito\n"
     ]
    },
    {
     "name": "stderr",
     "output_type": "stream",
     "text": [
      "looking for review ids:  94%|█████████▍| 588/623 [2:44:13<13:47, 23.65s/movie]"
     ]
    },
    {
     "name": "stdout",
     "output_type": "stream",
     "text": [
      "Less than 25 reviews available - skipped\n"
     ]
    },
    {
     "name": "stderr",
     "output_type": "stream",
     "text": [
      "looking for review ids:  95%|█████████▍| 589/623 [2:44:28<12:03, 21.27s/movie]"
     ]
    },
    {
     "name": "stdout",
     "output_type": "stream",
     "text": [
      "Less than 25 reviews available - skipped\n"
     ]
    },
    {
     "name": "stderr",
     "output_type": "stream",
     "text": [
      "looking for review ids:  95%|█████████▍| 590/623 [2:44:44<10:44, 19.53s/movie]"
     ]
    },
    {
     "name": "stdout",
     "output_type": "stream",
     "text": [
      "Less than 25 reviews available - skipped\n"
     ]
    },
    {
     "name": "stderr",
     "output_type": "stream",
     "text": [
      "looking for review ids:  95%|█████████▍| 591/623 [2:45:00<09:50, 18.47s/movie]"
     ]
    },
    {
     "name": "stdout",
     "output_type": "stream",
     "text": [
      "Less than 25 reviews available - skipped\n"
     ]
    },
    {
     "name": "stderr",
     "output_type": "stream",
     "text": [
      "looking for review ids:  95%|█████████▌| 594/623 [2:45:43<07:35, 15.72s/movie]"
     ]
    },
    {
     "name": "stdout",
     "output_type": "stream",
     "text": [
      "Less than 25 reviews available - skipped\n"
     ]
    },
    {
     "name": "stderr",
     "output_type": "stream",
     "text": [
      "looking for review ids:  96%|█████████▌| 596/623 [2:46:12<06:44, 14.99s/movie]"
     ]
    },
    {
     "name": "stdout",
     "output_type": "stream",
     "text": [
      "Less than 25 reviews available - skipped\n"
     ]
    },
    {
     "name": "stderr",
     "output_type": "stream",
     "text": [
      "looking for review ids:  96%|█████████▌| 597/623 [2:46:28<06:33, 15.13s/movie]"
     ]
    },
    {
     "name": "stdout",
     "output_type": "stream",
     "text": [
      "Less than 25 reviews available - skipped\n"
     ]
    },
    {
     "name": "stderr",
     "output_type": "stream",
     "text": [
      "looking for review ids:  96%|█████████▌| 598/623 [2:46:43<06:22, 15.30s/movie]"
     ]
    },
    {
     "name": "stdout",
     "output_type": "stream",
     "text": [
      "Less than 25 reviews available - skipped\n"
     ]
    },
    {
     "name": "stderr",
     "output_type": "stream",
     "text": [
      "looking for review ids:  96%|█████████▌| 599/623 [2:46:59<06:08, 15.36s/movie]"
     ]
    },
    {
     "name": "stdout",
     "output_type": "stream",
     "text": [
      "Less than 25 reviews available - skipped\n"
     ]
    },
    {
     "name": "stderr",
     "output_type": "stream",
     "text": [
      "looking for review ids:  96%|█████████▋| 600/623 [2:47:15<05:57, 15.52s/movie]"
     ]
    },
    {
     "name": "stdout",
     "output_type": "stream",
     "text": [
      "Less than 25 reviews available - skipped\n"
     ]
    },
    {
     "name": "stderr",
     "output_type": "stream",
     "text": [
      "looking for review ids:  96%|█████████▋| 601/623 [2:47:30<05:42, 15.59s/movie]"
     ]
    },
    {
     "name": "stdout",
     "output_type": "stream",
     "text": [
      "Less than 25 reviews available - skipped\n"
     ]
    },
    {
     "name": "stderr",
     "output_type": "stream",
     "text": [
      "looking for review ids:  97%|█████████▋| 602/623 [2:47:46<05:29, 15.70s/movie]"
     ]
    },
    {
     "name": "stdout",
     "output_type": "stream",
     "text": [
      "Less than 25 reviews available - skipped\n"
     ]
    },
    {
     "name": "stderr",
     "output_type": "stream",
     "text": [
      "looking for review ids:  97%|█████████▋| 603/623 [2:48:03<05:17, 15.88s/movie]"
     ]
    },
    {
     "name": "stdout",
     "output_type": "stream",
     "text": [
      "Less than 25 reviews available - skipped\n"
     ]
    },
    {
     "name": "stderr",
     "output_type": "stream",
     "text": [
      "looking for review ids:  97%|█████████▋| 604/623 [2:48:18<04:59, 15.76s/movie]"
     ]
    },
    {
     "name": "stdout",
     "output_type": "stream",
     "text": [
      "Less than 25 reviews available - skipped\n"
     ]
    },
    {
     "name": "stderr",
     "output_type": "stream",
     "text": [
      "looking for review ids:  97%|█████████▋| 605/623 [2:48:34<04:44, 15.79s/movie]"
     ]
    },
    {
     "name": "stdout",
     "output_type": "stream",
     "text": [
      "Less than 25 reviews available - skipped\n"
     ]
    },
    {
     "name": "stderr",
     "output_type": "stream",
     "text": [
      "looking for review ids:  97%|█████████▋| 606/623 [2:48:50<04:27, 15.73s/movie]"
     ]
    },
    {
     "name": "stdout",
     "output_type": "stream",
     "text": [
      "Less than 25 reviews available - skipped\n"
     ]
    },
    {
     "name": "stderr",
     "output_type": "stream",
     "text": [
      "looking for review ids:  97%|█████████▋| 607/623 [2:49:06<04:12, 15.78s/movie]"
     ]
    },
    {
     "name": "stdout",
     "output_type": "stream",
     "text": [
      "Less than 25 reviews available - skipped\n"
     ]
    },
    {
     "name": "stderr",
     "output_type": "stream",
     "text": [
      "looking for review ids:  98%|█████████▊| 608/623 [2:49:21<03:55, 15.73s/movie]"
     ]
    },
    {
     "name": "stdout",
     "output_type": "stream",
     "text": [
      "Less than 25 reviews available - skipped\n"
     ]
    },
    {
     "name": "stderr",
     "output_type": "stream",
     "text": [
      "looking for review ids:  98%|█████████▊| 609/623 [2:49:37<03:40, 15.77s/movie]"
     ]
    },
    {
     "name": "stdout",
     "output_type": "stream",
     "text": [
      "Less than 25 reviews available - skipped\n"
     ]
    },
    {
     "name": "stderr",
     "output_type": "stream",
     "text": [
      "looking for review ids:  98%|█████████▊| 610/623 [2:49:53<03:25, 15.79s/movie]"
     ]
    },
    {
     "name": "stdout",
     "output_type": "stream",
     "text": [
      "Less than 25 reviews available - skipped\n"
     ]
    },
    {
     "name": "stderr",
     "output_type": "stream",
     "text": [
      "looking for review ids:  98%|█████████▊| 611/623 [2:50:09<03:09, 15.80s/movie]"
     ]
    },
    {
     "name": "stdout",
     "output_type": "stream",
     "text": [
      "Less than 25 reviews available - skipped\n"
     ]
    },
    {
     "name": "stderr",
     "output_type": "stream",
     "text": [
      "looking for review ids:  98%|█████████▊| 612/623 [2:50:24<02:53, 15.80s/movie]"
     ]
    },
    {
     "name": "stdout",
     "output_type": "stream",
     "text": [
      "Less than 25 reviews available - skipped\n"
     ]
    },
    {
     "name": "stderr",
     "output_type": "stream",
     "text": [
      "looking for review ids:  98%|█████████▊| 613/623 [2:50:40<02:38, 15.86s/movie]"
     ]
    },
    {
     "name": "stdout",
     "output_type": "stream",
     "text": [
      "esecuzione interrotta tempo finito\n"
     ]
    },
    {
     "name": "stderr",
     "output_type": "stream",
     "text": [
      "looking for review ids:  99%|█████████▊| 614/623 [2:51:24<03:36, 24.04s/movie]"
     ]
    },
    {
     "name": "stdout",
     "output_type": "stream",
     "text": [
      "Less than 25 reviews available - skipped\n"
     ]
    },
    {
     "name": "stderr",
     "output_type": "stream",
     "text": [
      "looking for review ids:  99%|█████████▊| 615/623 [2:51:39<02:52, 21.59s/movie]"
     ]
    },
    {
     "name": "stdout",
     "output_type": "stream",
     "text": [
      "Less than 25 reviews available - skipped\n"
     ]
    },
    {
     "name": "stderr",
     "output_type": "stream",
     "text": [
      "looking for review ids:  99%|█████████▉| 616/623 [2:51:55<02:18, 19.82s/movie]"
     ]
    },
    {
     "name": "stdout",
     "output_type": "stream",
     "text": [
      "Less than 25 reviews available - skipped\n"
     ]
    },
    {
     "name": "stderr",
     "output_type": "stream",
     "text": [
      "looking for review ids:  99%|█████████▉| 617/623 [2:52:11<01:51, 18.66s/movie]"
     ]
    },
    {
     "name": "stdout",
     "output_type": "stream",
     "text": [
      "Less than 25 reviews available - skipped\n"
     ]
    },
    {
     "name": "stderr",
     "output_type": "stream",
     "text": [
      "looking for review ids:  99%|█████████▉| 618/623 [2:52:27<01:28, 17.79s/movie]"
     ]
    },
    {
     "name": "stdout",
     "output_type": "stream",
     "text": [
      "Less than 25 reviews available - skipped\n"
     ]
    },
    {
     "name": "stderr",
     "output_type": "stream",
     "text": [
      "looking for review ids: 100%|█████████▉| 621/623 [2:53:12<00:31, 15.90s/movie]"
     ]
    },
    {
     "name": "stdout",
     "output_type": "stream",
     "text": [
      "Less than 25 reviews available - skipped\n"
     ]
    },
    {
     "name": "stderr",
     "output_type": "stream",
     "text": [
      "looking for review ids: 100%|█████████▉| 622/623 [2:53:28<00:16, 16.08s/movie]"
     ]
    },
    {
     "name": "stdout",
     "output_type": "stream",
     "text": [
      "Less than 25 reviews available - skipped\n"
     ]
    },
    {
     "name": "stderr",
     "output_type": "stream",
     "text": [
      "looking for review ids: 100%|██████████| 623/623 [2:53:44<00:00, 16.73s/movie]\n"
     ]
    }
   ],
   "source": [
    "from tqdm import tqdm\n",
    "\n",
    "# filter for movie ids\n",
    "scifi_only_movieids = list(scifi_dataset['MovieID'])\n",
    "# remove the double t at hte beginning of the string\n",
    "scifi_only_movieIDS = [s[2:] for s in scifi_only_movieids] \n",
    "\n",
    "# create a set for discarded movie ids and a dictionary for valid ones\n",
    "discarded_scifi_ids = set()\n",
    "valid_scifi_review_ids = dict()\n",
    "\n",
    "for scifi_ID in tqdm(scifi_only_movieIDS, desc='looking for review ids', unit='movie'):\n",
    "    temp = retriever.get_reviews_ids_from_movie_id(scifi_ID)\n",
    "    if(not temp):   #if it is none\n",
    "        discarded_scifi_ids.add(scifi_ID)\n",
    "    else:           #if it is NOT none\n",
    "        valid_scifi_review_ids[scifi_ID] = temp"
   ]
  },
  {
   "cell_type": "markdown",
   "metadata": {},
   "source": [
    "Create a final sci fi database with only selected movies"
   ]
  },
  {
   "cell_type": "code",
   "execution_count": 8,
   "metadata": {},
   "outputs": [],
   "source": [
    "check_scifi_ids = ['tt' + movie_id for movie_id in valid_scifi_review_ids.keys()]\n",
    "\n",
    "final_scifi_movies_dataset = scifi_dataset[scifi_dataset['MovieID'].isin(check_scifi_ids)]"
   ]
  },
  {
   "cell_type": "markdown",
   "metadata": {},
   "source": [
    "Save everything for later use"
   ]
  },
  {
   "cell_type": "code",
   "execution_count": 69,
   "metadata": {},
   "outputs": [
    {
     "name": "stdout",
     "output_type": "stream",
     "text": [
      "Data stored in: C:/Users/aless/Desktop//DNLP_Project/scifi_stuff.pkl\n"
     ]
    }
   ],
   "source": [
    "import pickle\n",
    "\n",
    "# File path\n",
    "file_path = \"C:/Users/aless/Desktop//DNLP_Project/scifi_stuff.pkl\"\n",
    "\n",
    "# Save data\n",
    "with open(file_path, \"wb\") as file:\n",
    "    pickle.dump((discarded_scifi_ids, valid_scifi_review_ids, final_scifi_movies_dataset), file)\n",
    "\n",
    "print(f\"Data stored in: {file_path}\")"
   ]
  },
  {
   "cell_type": "markdown",
   "metadata": {},
   "source": [
    "If necessary, import data back into the workflow (useful to skip any calculation from the previous tabs)"
   ]
  },
  {
   "cell_type": "code",
   "execution_count": 7,
   "metadata": {},
   "outputs": [
    {
     "name": "stdout",
     "output_type": "stream",
     "text": [
      "Data uploaded!\n",
      "discarded_scifi_ids: {'4957538', '2321666', '28544143', '0113106', '1966387', '5868168', '0457490', '1164089', '0245378', '0293442', '0206754', '0077281', '3768032', '3985982', '8806520', '12844798', '18036574', '13869368', '3451968', '2898834', '31511371', '0831289', '0155593', '2140113', '0082733', '0810990', '0165970', '0091405', '26669396', '4779842', '16979798', '0103120', '8571404', '1260577', '3084128', '1869577', '0126237', '15100676', '1707385', '0433441', '0117734', '0211692', '0059880', '8550848', '0098981', '3918056', '31433823', '0410836', '0230046', '7728220', '1089677', '5167168', '4441030', '13011526', '12788862', '13877410', '4065010', '27589686', '9896768', '0128755', '5752476', '14774692', '0059101', '0086077', '28107927', '1437274', '24020350', '9600960', '11851882', '1764179', '0139371', '13085876', '4370800', '1759731', '0133235', '3036250', '2536776', '0119423', '2536780', '29402418', '5613786', '7979258', '0117710', '0201528', '3625220', '11307158', '33014966', '12044330', '11689278', '2602256', '0025084', '0230634', '3916196', '9281138', '0348129', '1326190', '6538566', '0097293', '1340694', '0055197', '7260038', '0062964', '19433106', '2217790', '3562286', '13778898', '0342711', '1376247', '8210516', '0098488', '5872888', '12327734', '5024672', '3626436', '5696110', '1637674', '2385522', '1037124', '1948581', '9357432', '1815582', '0365570', '6684976', '23149568', '27430508', '6803782', '8421156', '0120145', '4244628', '2057997', '2903902', '8740780', '6079330', '0062704', '1326736', '5494840', '0077514', '0216316', '1893365', '2363475', '2992096', '0074671', '0082223', '13156334', '6945500', '0388730', '7952850', '2375639', '25434542', '2243336', '6687948', '2452800', '0114125', '7007846', '28681652', '1016024', '0142739', '0183979', '0122064', '9600274', '0175016', '0230961', '1468336', '10110872', '0462600', '10681580', '0217135', '0293182', '30323304', '3116476', '3602588', '32810248', '0025244', '0018996', '5069098', '0118003', '7090136', '0166560', '0146422', '1349646', '0356179', '0120554', '0430155', '8999494', '18722864', '0110972', '1909333', '1432157', '2197905', '1764584', '12262690', '0172346', '19810888', '1964416', '0074637', '0097846', '12556212', '1521236', '3567806', '0208676', '0218157', '0132662', '0392155', '1272492', '0373195', '12832900', '0797014', '0044477', '5672890', '1398999', '3661410', '0435370', '13297874', '0831272', '1212024', '0323629', '13033662', '13049968', '2313778', '1090695', '2577662', '0397679', '0128273', '0221527', '1978514', '0380368', '0104525', '0389549', '0162315', '5083736', '0449590', '10380766', '0250612', '1144578', '0229523', '1753567', '7019968', '10334636', '0096994', '0108236', '30579910', '13682668', '2727050', '2826126', '3186552', '0070402', '1337585', '1815938', '9201634', '0238008', '1424839', '0997483', '1337467', '15909030', '7374964', '0112318', '4444446', '0096308', '21602900', '2411516', '4566780', '14099892', '0020635', '0011336', '0228303', '32991468', '0064914', '1244755', '19842126', '6875006', '29532128', '0015214', '0990422', '11786386', '0108228', '28434918', '12593646', '0149428', '8551054', '32600358', '15553152', '0312378', '0263976', '4221190', '4119500', '7399170', '0228690', '3794346', '0388349', '7974036', '0955292', '0089745', '14440038', '3393060', '0224759', '6270596', '3615814', '29667898', '0376114', '17592600', '0119538', '14251154', '1447943', '7024716', '0182686', '11353248', '30956144', '4388964', '20318356', '21435890', '7685962', '5509978', '0056365', '1754711', '0080806', '27368415', '0164187', '33095172', '0110851', '1098210', '4080666', '0177159', '0076002', '3533396', '1481522', '0190941', '5336798', '0130503', '1379636', '8390370', '0057626', '0060396', '0436283', '28636876', '1084952', '0314105', '0141294', '4028068', '7233012', '0059035', '28416245', '0059744', '1773617', '0861777', '1238772', '15434994', '14029064', '1836918', '12683224', '5282572', '27450445', '0162845', '0093446', '0970187', '0155815', '0930044', '7690718', '1068949', '0094050', '7345918', '2928840', '14751706', '1396235', '5787230', '0244860', '4263880', '0194640', '0033501', '0818909', '2272998', '12820150', '1043719', '0307376', '3152486', '0203285', '0130089', '14593608', '9672824', '1593655', '0183934', '0209514', '4572202', '1051915', '1493881', '10273384', '0057301', '0230540', '1549061', '17720974', '32270451', '1670229', '0251394', '7289838', '13968482', '28208443', '1964806', '0460870', '0051935', '15076688', '6291000', '0189014', '5121424', '1347295', '18375590', '9287936', '10718508', '0991186', '0477909', '0053470', '0207434', '0078370', '0109114', '3327426', '2233720', '0441164', '3971092', '2626660', '0764239', '0071667', '8526168', '6245274', '0832353', '1629716', '0056637', '0263329', '0143748', '3983360', '12843288', '0384351', '23149674', '0112500', '0120080', '1092050', '13584338', '8413040', '16344906', '0261242', '9531080', '25285504', '5705972', '2983922', '9722688', '0189383', '0075881', '4734102', '8594948', '1853701', '0040434', '3279918', '0085472', '28479949', '26935729', '0063311', '14039986', '10055058', '21987308', '1193624', '10545298', '12774526', '6355698', '7717204', '0065036', '0284227', '0950753', '1027874', '0127302', '0252612', '2353755', '0452262', '7478398', '3498078', '3495174', '7651078', '1361306', '0131593', '5812442', '11828692', '8912134', '0087552', '0133145', '2511058', '0459443', '10066808', '18295622', '0107644', '6553406', '11018262', '18351128', '0189169', '0066379', '0156005', '1732160', '15108880', '0298960', '2207614', '3351348', '4788944', '0118214', '31262765', '7008412', '8470668', '0312364', '30971158', '0110247', '0471367', '6714252', '7205866', '0026818', '31584416', '3726006', '17374278', '6413760', '0207175', '11557850', '0259213', '13839382', '1230538', '3984432', '7931422', '5081702', '9826820', '6022174', '0052160', '0391502', '5631422', '13357462', '0416958', '0202695', '0129082', '14378330', '5447962', '13237402', '0265273', '5344150', '0089493', '1558258', '4333578', '10508082', '0057701', '4897296', '0393733', '4906456', '0090068', '0297743', '1373138'}\n",
      "valid_scifi_review_ids: {'0046213': {'9958904', '3433093', '7294962', '4182974', '9777141', '2952739', '1525320', '1917986', '2561483', '1805188', '7233619', '3045942', '3479089', '2413712', '8364472', '1748032', '9564053', '2604253', '1050615', '3598293', '1003583', '3013020', '5048948', '0049985', '3222303', '3554388', '1892798', '3401619', '3730346', '2253477', '1851399', '0049984', '5221040', '8717977', '0049982', '1985184', '6673065', '1412999', '5592827', '9576697', '6557139', '4145529', '5612946', '2669516'}, '0046977': {'2057317', '0051866', '0051855', '1426893', '0051853', '7305418', '7119105', '0051863', '0051854', '0051846', '10165891', '4509366', '3302191', '5102842', '8686580', '4767091', '3462150', '3878332', '2695655', '6882642', '9194229', '0051849', '7218219', '1183613', '0051851', '6936011', '0051865', '1651316', '3483981', '5510232', '0051859', '4926877', '0051850', '4074031', '9786683', '3439682', '5467681', '0051861', '3002827', '1666058', '0051864', '0051862', '4887752', '4802983', '0051860', '0051856', '9450384', '9756707', '7401675', '0051848', '0051858', '0051845', '1439613', '9443474', '1164303', '7305402', '6581305', '1533572', '5560452', '1230074', '0051847', '3471330', '3354445', '4984896', '0051857', '1572687', '2562679', '0051852', '5845735', '7657409', '8637682', '1296669', '3396984', '6522448', '6661567', '3105001'}, '0047529': {'3285325', '8687533', '0053596', '6052380', '6824816', '4588973', '4890326', '8908691', '3606324', '8666917', '8210831', '8253781', '2121155', '3276317', '2036157', '7222936', '4737257', '7844363', '9572539', '8053566', '2283740', '4992381', '8492946', '9549268', '3602253', '4788910', '4089962', '3770276', '7660911', '7362146', '5467144', '5995963', '0053599', '9610132', '9779753', '8052055', '5064353', '0053597', '1984502', '8663220', '9627834', '1565499', '3390629', '5614616'}, '0047947': {'0968889', '2096870', '1073076', '2964964', '2454273', '0054532', '2939580', '0054533', '4965435', '0979557', '0954302', '1056366', '6432155', '0054538', '2286709', '0054550', '9701470', '8970634', '2492211', '2095943', '0054535', '1441343', '1875298', '3058853', '4232436', '0054551', '0054543', '0054545', '0054546', '9063377', '0054540', '0054549', '0054541', '1704165', '0054542', '1136801', '4242249', '1441651', '0054537', '2090190', '0054548', '2099993', '1281630', '3123532', '4609772', '0054547', '1968224', '0054539', '9600862', '2196366', '9705422', '2551874', '8205670', '5196455', '2200244', '8908181', '1095045', '4799014', '5169608', '0054544', '0054534', '0054536'}, '0048964': {'4113057', '4798610', '4737453', '9503670', '5075946', '0057029', '7737635', '4961137', '1523051', '2812600', '5941374', '6284271', '9680668', '6356651', '6425633', '1288150', '9360470', '6160922', '2312021', '2768996', '5966664', '1030925', '2811886', '3255657', '0057028', '7705995', '9071821', '6134332', '6097747'}, '0050085': {'1816675', '2091791', '2811678', '9775212', '0060188', '0060186', '8798171', '3310388', '5747257', '1198678', '6908435', '5869367', '8665403', '7324968', '4808481', '0060183', '1563377', '3386175', '3523811', '4912193', '2121326', '4809121', '0060184', '1563601', '1560059', '0060189', '4516815', '8862794', '1553878', '2045934', '8646129', '1561379', '1410209', '2077016', '1560205', '9293947', '0060182', '8968262', '3300433', '0060187', '3270165', '1566158', '1570802', '1560105', '1556360', '3789182', '9908927', '3521761', '8602195', '5712864', '5589833', '2441110', '5579960', '0060185', '5635653', '2045965', '7327403', '8329389', '2311015', '8009881', '3810739'}, '0050767': {'0062053', '3813395', '1238268', '3284528', '10039928', '2329818', '3868993', '2892864', '2870127', '8705705', '8686582', '4589197', '3680411', '4535261', '2876910', '8997287', '2870344', '2953600', '5099149', '2996423', '9265839', '3294457', '8784891', '3310885', '5800866', '3799079', '3576031', '8870061', '1130392', '3291419', '2870083'}, '0051951': {'2328303', '1836824', '9052368', '3258781', '2689948', '0065027', '1837870', '2161214', '3703825', '8192155', '2243049', '6283214', '0065026', '5363996', '1563577', '5657433', '7127745', '1893941', '1082397', '3437212', '2069213', '2775702', '1118387', '3449307', '8090427', '3657904', '10143087', '2665803', '9030252', '10101485', '2064671', '3851886', '4877977', '2302057', '1577987', '1274300', '8667685', '0065028', '2539898', '6075468'}, '0052227': {'0065842', '2722956', '2207303', '2380323', '0065843', '1382004', '1388098', '2630232', '7142820', '1225954', '1908089', '3429679', '0065847', '5104708', '2966393', '2030930', '2934150', '2342207', '1268253', '0065835', '2745787', '1481959', '0065840', '9260252', '1677664', '2549641', '2670562', '4085441', '2597412', '0065841', '2394990', '1640253', '2776933', '2633460', '6146071'}, '0052286': {'4760772', '0065931', '2491899', '2209001', '9778778', '0065929', '7256288', '4564641', '2916245', '1267473', '1830619', '3693678', '1780025', '1005155', '1054244', '1194318', '2470243', '9004421', '6900293', '0065930', '3694481', '1799085', '0065928', '1470286', '8136663', '0065927', '1644288', '5241689', '0065933', '1540156', '4845134', '0065934'}, '0053250': {'0069151', '1281167', '2224435', '3676599', '2185143', '6952060', '1483585', '0069162', '8146974', '1951097', '1618050', '4836296', '8824852', '7757843', '4304022', '1594019', '5534474', '2377806', '10222567', '8614106', '1301375', '8780145', '7091966', '1083730', '6900318', '4598385', '2185638', '0069157', '1092362', '3402835', '7228345', '0069155', '5968356', '1447146', '1895857', '5487981', '9451616', '5436969', '7593513', '2539510', '3519182', '0069165', '2760188', '1829046', '3622055', '0069159', '1852470', '10230228', '1668606', '2172830', '0069154', '2128378', '2920405', '0069160', '6770183', '1265058', '3336761', '2987954', '7512042', '0069158', '1017276', '0069161', '1353679', '0069150', '0069164', '1289062', '1498155', '3523772', '1747913', '10117689', '3595886', '2269234', '1408112', '5075569', '3658585', '7342043', '1540881', '1944852', '0069153', '3838159', '2535213', '2658888', '9602152', '1261730', '1100435', '0069163', '1352467'}, '0053388': {'4951008', '9536639', '2561230', '10019554', '4348160', '4583740', '2440594', '0069687', '9379093', '2140222', '9769821', '0069688', '3007485', '0069691', '7721694', '2162968', '2130520', '6951806', '3600802', '0069686', '8203039', '3014447', '0069690', '4370169', '0069689', '1639366', '1333857', '2309169', '2642954', '4897317', '10246613', '2432700', '0069685', '2190922', '9657978', '3316267', '4073396', '8370645', '1227905', '9373124'}, '0054330': {'1390105', '2124927', '3295241', '1163587', '9368927', '4761512', '1369006', '4246459', '1959125', '7832395', '3601025', '2541705', '0072587', '2654956', '7840406', '4850000', '8822247', '2217183', '1683517', '3676587', '3608416', '10222562', '1794618', '1671938', '1178948', '2309037', '2107797', '0072589', '7198058', '1350466', '9391304', '0072584', '4210953', '3028804', '7639022', '4093195', '3693393', '4508259', '2113812', '2713591', '8526102', '0072585', '7703237', '1583704', '4942437', '3787833', '1102619', '0072586', '1643274', '1408659'}, '0054415': {'1866299', '3021709', '5020572', '2119018', '1767907', '7988228', '2099264', '3369759', '3206881', '8231052', '2845368', '1112089', '2099199', '0962246', '0073000', '5345950', '5016024', '5015621', '0073006', '3265183', '2104362', '9576684', '3450492', '9641544', '1071270', '8775263', '8285155', '8549868', '0073002', '2099145', '9645682', '4580904', '10145601', '8673610', '5000222', '2099020', '2361590', '5015511', '3388897', '3297095', '0073001', '0073005', '3311936', '2099027', '8349137', '0073004', '5759978', '5026215', '0073003', '6663795', '8813127', '4586651', '1730839'}, '0055872': {'0971108', '0076740', '7191084', '1963244', '1937174', '10197382', '5779868', '6219308', '0076737', '2354413', '6101421', '2781457', '9444812', '6293559', '7352441', '3107085', '1381446', '0076743', '9646490', '7788316', '6600026', '2278906', '1417073', '2243534', '7690740', '3503394', '0076736', '2028493', '2875134', '5322265', '3129683', '4803947', '1166648', '2091790', '1403351', '2725555', '8802100', '2229535', '0076742', '7184789', '3311114', '2027587', '7184264', '2178152', '2228908', '0076741', '9784777', '0076739', '3138326', '6789360', '7423450', '0076735', '5654239', '2024016', '0076745', '3653026', '4120755', '5503376', '9862395', '0076738', '1862834', '6121896', '2108781', '3384842', '5825738', '2514599', '10103537', '3153285', '1046684', '5429441', '4490971', '1451589', '8202970', '2258626', '0076744'}, '0055893': {'7445574', '3587435', '5405361', '3765205', '6612858', '1152763', '7255811', '2732310', '9897380', '1404030', '3693370', '1153381', '3743678', '1235023', '6615361', '8125924', '3262139', '8070853', '8183173', '4930425', '3521565', '9398569', '4128770', '3348586', '2573792', '3047457', '4403028', '1152868', '4224229', '2665353', '0076772', '3158049', '2666772', '0076774', '0076773', '2661729', '9278448', '1324114', '3687949', '3053918', '1153384', '0076771', '6395057', '4192153', '7022313', '7446160', '2587159', '1299601', '2717652', '1152747', '3061644', '3582556', '3365962', '0076775', '5822430', '9013196', '1594900', '9737352', '9576459', '1188121', '0076770', '1417854', '3233925'}, '0058659': {'0087371', '6291377', '8317082', '9585143', '4925283', '3262601', '0087376', '1351718', '2853316', '1964140', '5240900', '2964584', '8880154', '3724323', '0087377', '2667557', '8844487', '0087375', '9960153', '0087369', '4827004', '2827867', '0948291', '9899759', '7689372', '3732915', '9767589', '5817957', '3714249', '3749103', '3789208', '4748907', '0087374', '7735252', '1086175', '2984853', '9052063', '1129726', '3130404', '4564692', '2032223', '1576735', '9718122', '3686919', '6101315', '1012430', '3540239', '2976221', '9827950', '2734783', '8822765', '2326248', '8656674', '8857818', '8350475', '5252040', '1656464', '9730860', '2902983', '1101227', '8662008', '0087373', '2356638', '1343758', '1925059', '1505899', '6094445', '3640578', '2312281', '9467692', '3395995', '2116144', '0952639', '7186086', '7070239', '8318206', '4060082', '5622909', '6860978', '0087370'}, '0059588': {'1575730', '6453407', '8632389', '0090482', '2781439', '2225643', '2725525', '1689570', '1430326', '6163858', '7633911', '1964949', '0090481', '0090483', '3642574', '3794988', '1575978', '1419350', '2875129', '4360812', '7503176', '4068479', '8122263', '6138616', '2286346', '7665400', '3589152'}, '0059914': {'0091613', '1100012', '0091610', '3427195', '1804660', '3549696', '1196780', '0091616', '2184715', '1745294', '0091612', '6124293', '2868042', '7808906', '6457883', '1098921', '1805179', '1746703', '6142138', '8601323', '2818219', '7578418', '2236456', '0091614', '0091611', '0091608', '3591484', '4238903', '2594079', '10170187', '1211710', '4711903', '3764224', '1200138', '6124441', '0091609', '4251559', '6199832', '1808120', '4720830'}, '0061592': {'9717254', '3040566', '1509699', '4808675', '9773254', '2698974', '1616383', '5524414', '1896244', '0097315', '1480609', '1973620', '8379461', '2584232', '4297863', '2676739', '1600420', '8866404', '9516953', '3513866', '2973574', '1548396', '1485206', '2260487', '3119116', '9888333', '5179749', '6524429', '2314263', '1966793', '7028354', '3299852', '2483381', '5118838', '0097317', '5858357', '2728759', '1606103', '0097316', '1723901', '3308930', '1000196', '3452288', '1749383', '2105978', '6621121', '2469203', '2530426', '5034384', '7358308', '2046928', '7677935', '1517846', '1468226', '2689899'}, '0061850': {'0098439', '1858226', '8189261', '5596811', '9784674', '1470756', '2739781', '1592663', '1025000', '0098440', '10220143', '0098438', '9393671', '6142582', '4602571', '1165075', '4246739', '8699936', '9748044', '1463494', '8100723', '9521683', '1247617', '0098442', '9099425', '2115380', '0098437', '1322059', '1127540', '2827766', '8636240', '9995307', '2466955', '1533350', '4122945', '6169940', '1538128', '0098441', '2382020', '0098435', '2359463', '2324335', '4614602', '0098443', '5823813', '0098436', '6147744', '1809120', '2032230', '1471771', '1017493'}, '0071647': {'2706652', '4602567', '2098376', '1346973', '1802360', '4185999', '0136133', '1111272', '2471201', '8147749', '1930265', '7350678', '1984232', '1755786', '0136134', '4346401', '1305096', '1059134', '5214658', '9264603', '2318874', '1735587', '0136126', '1422559', '1896513', '0136127', '2295273', '4838146', '2065838', '2485941', '9432579', '0136131', '3454799', '3865627', '2717827', '0136128', '0136130', '1185888', '9915856', '2112057', '0136125', '0136129', '2428428', '3122554', '9172255', '8038218', '2940290', '3840015', '0136132'}, '0075909': {'0152603', '3664045', '0152579', '8911310', '2552879', '3848225', '4417592', '1350105', '2751995', '1154719', '1141410', '1409796', '0953821', '0152581', '0152593', '0152580', '0152592', '1904326', '9401161', '3199721', '1138971', '3545376', '3079081', '1842012', '4171503', '0152577', '9321485', '9894493', '0152578', '2954711', '3151564', '2743593', '0152588', '2730819', '0152594', '1330084', '8910459', '5261058', '7263724', '2623571', '1121997', '1269121', '0152587', '0152586', '6062033', '0152597', '1783040', '2014303', '1246506', '4422702', '2512001', '4046189', '1182826', '1892096', '0152589', '6113616', '2414567', '9017954', '1351752', '2395823', '4276637', '2253574', '3480239', '0152598', '1197841', '0152602', '1471377', '7905695', '1264701', '0152585', '0152584', '0152596', '3730243', '8592810', '2376788', '2283475', '3129792', '6895159', '7739651', '0152601', '2862118', '0152590', '7486676', '1626162', '0152595', '4141320', '0152591', '4713303', '0152582', '0152599', '9379054', '1884838', '8586916', '5621137', '0152600', '3865245', '4740900', '0152576', '3415964', '1960476', '2489376', '4199845', '7593473', '1571240', '3555895'}, '0076760': {'0156379', '8154312', '4969655', '2779624', '0156380', '0156382', '9040453', '1187236', '0156381', '3188362', '4985921', '1185632', '4050918', '3380607', '1411293', '3279274', '10057447', '4733919', '3613286', '3630995', '1511917', '7071442', '0947449', '8023595', '0156374', '5873844', '1261468', '0156377', '0156383', '1561658', '0156375', '1967402', '0156384'}, '0077877': {'1436801', '3295878', '6004700', '2801355', '1685274', '2283535', '3489173', '2657907', '2039057', '1731374', '3164453', '2224428', '1520813', '0162188', '1808041', '2676370', '2149572', '2208835', '1575170', '0162189', '2871108', '2707769', '2906731', '2009783', '4899385', '1373637'}, '0078317': {'4912452', '1971232', '3630588', '10007094', '7886087', '1900767', '4496594', '5983356', '7150496', '8338552', '2233419', '2471612', '2245333', '0163516', '1640652', '2462812', '1541634', '1639270', '5337904', '1060896', '1017643', '6068958', '3452256', '6585054', '5273024', '3297720', '8028782'}, '0080836': {'6397346', '9469642', '3499113', '0176791', '2385822', '5468483', '7463303', '0176781', '3685964', '9104848', '0176792', '2797081', '4193997', '2857149', '0176786', '0176779', '4259776', '1328092', '6123855', '9373947', '9980375', '5478929', '2106930', '0176782', '0176783', '0176790', '1159593', '1023035', '6746060', '5685920', '2084029', '7869536', '3467318', '0176788', '2743663', '0176789', '1047051', '2586600', '7222957', '2373115', '9370614', '9106251', '9975286', '6759614', '1076277', '1587139', '4266361', '1960008', '8082036', '1270820', '2677595', '1302081', '9221728', '0176784', '5908522', '2409749', '6457190', '4624373', '6407788', '8696733', '2419712'}, '0083557': {'1565055', '8656271', '2276663', '1149440', '5025157', '10189896', '3767385', '7845304', '0190888', '0190897', '0190891', '0190895', '0190890', '7390762', '1253770', '9365621', '0190889', '0190896', '2540542', '0190898', '1851155', '2486106', '2768671', '1936748', '8399625', '6201725', '2179091', '0190886', '6501702', '2086266', '1113107', '9682732', '0190892', '2627746', '0190885', '0190887', '2762629', '0190899', '7781243', '0190893', '0998287', '0190894'}, '0085426': {'7963324', '1387390', '0200642', '5999189', '0200650', '1952234', '0200643', '0200646', '3068045', '0200638', '0200640', '4071986', '0200649', '0200644', '2390557', '1596424', '1529568', '6731675', '1706715', '1313147', '2771699', '1820739', '7025714', '1432856', '2365223', '0200637', '0200645', '0200641', '3270982', '0200647', '1602842', '1154143', '0200639', '2931540', '2454885', '4835648', '0200648', '1162008', '2121498', '0200636'}, '0115506': {'3162551', '2141230', '1478519', '3121217', '3455848', '1580967', '10002154', '2742788', '3334088', '2534061', '0377771', '2124943', '2660546', '1011213', '5279812', '0377773', '4519170', '8155630', '2469075', '1611942', '1729362', '1893215', '9920042', '3296748', '1168921', '1712513', '9613535', '9863543', '8657638', '5983780', '3549306', '0377770', '0377772', '2056430', '2080246'}, '0119243': {'0419233', '9194372', '6094389', '0419239', '2120003', '0419228', '3698557', '0419238', '1097167', '1563966', '0419243', '1052194', '0968400', '0419242', '0419230', '0419229', '0419240', '0419235', '1648074', '0419232', '0419231', '0419234', '0419227', '8653798', '0419236', '0419241'}, '0122111': {'0487437', '2310970', '4939509', '0487440', '0487443', '2744876', '3112723', '8703860', '2609260', '1921068', '2892778', '2507959', '8460656', '0487433', '3406607', '2363534', '4381832', '0487436', '9729963', '9565651', '1236887', '3446508', '5150654', '10089187', '0487434', '9048632', '0487432', '4771600', '2986532', '0487438', '2264798', '2759270', '9461024', '0487442', '1714869', '9765591', '1629929'}, '0131624': {'2990380', '1828577', '2275684', '1544106', '1901972', '3530850', '3456375', '1897058', '2782888', '1457534', '1489040', '2486391', '5740502', '8307073', '4947297', '5964553', '0506127', '1344879', '2883348', '1876680', '3585027', '1550971', '9015741', '2179688', '3471076', '1639759', '1554935', '2971515', '8651546', '1599013', '5983314', '2311232', '3548526', '7291920'}, '0145529': {'2741431', '0539746', '0539745', '1062033', '0539749', '0539764', '0539742', '5165329', '0539788', '0539778', '1121675', '1346627', '0539772', '0539770', '0539763', '2721329', '0539762', '5136728', '0539736', '0539769', '0539760', '0539758', '0539750', '0539756', '0539747', '1396096', '3644410', '1103634', '0539743', '1061201', '0539775', '0539741', '0539792', '0539733', '0539737', '1246379', '0539768', '9390000', '3298510', '0539731', '0539759', '0539771', '0539761', '0539776', '3464228', '6901384', '0539738', '0539753', '1088235', '1769331', '0539784', '1103635', '0539728', '0955579', '0539786', '1178209', '1110654', '0539752', '1743903', '5011671', '0539783', '0539791', '1260215', '2850733', '1749248', '0539726', '0539727', '0539790', '0539766', '0539779', '0539735', '0539777', '1972521', '1790715', '0539787', '0539744', '0539729', '2498275', '0539789', '0539765', '0539757', '0539767', '0539785', '0539773', '0539751', '0539748', '0539739', '5910414', '0539734', '0539732'}, '0238463': {'0710980', '4853403', '0710970', '1342595', '0710972', '0710977', '0710982', '0710976', '0710978', '1964189', '0710981', '1613883', '4953655', '1730291', '3081592', '1027013', '0710968', '0710971', '0710983', '0710969', '1092858', '0710975', '1185344', '0710973', '0710966', '0996403', '0710979', '0990560', '0710967', '1526209', '2525155', '1074427', '2881461'}, '0443693': {'1868935', '9948632', '1573699', '1887152', '1516684', '1916304', '2431186', '1655320', '1916345', '1333053', '1601478', '1580713', '1180113', '1436165', '1783483', '1630688', '2779960', '1280172', '2369816', '8800080', '3324168', '1171426', '4896440', '1616985', '1969467', '1412604', '1616306', '1714276', '6976229', '1984358', '2095434', '2076733', '1594226', '1177178', '8678733', '1816434', '4263744', '1526341', '2623586', '1714482', '1811933', '1608365', '2621458', '2010267', '4752670', '1171458', '1536733', '2507004', '1549982', '1571829', '1291768', '1943055', '1628007', '1758422', '1990330', '1427033', '1219651'}, '0460975': {'1593342', '1787280', '2347573', '7029135', '2064176', '1601450', '1362202', '1600376', '1474195', '1513446', '1964131', '1592047', '1590866', '1784802', '7215539', '4106584', '1605210', '3522985', '1597683', '7846073', '1362131', '1361310', '1685303', '1589352', '1831838', '3798847', '1366401', '3259334', '1366756', '1559176', '1464945', '9070461', '1480904', '1608375', '1464017', '9551144', '1741170', '1590616', '1511179', '1592118', '1356964', '1680914', '1351397', '5037973', '1805271', '9572410', '1619354', '1577750', '6172925', '1368631', '1594650', '1533583', '1533157', '4162201', '9213353', '6610608', '1538708', '1985121', '3332385', '1824401', '2209718', '1674258', '7109710', '1466947', '1601508', '1593712', '1985812', '2009608', '1403178', '1467227', '1987247', '1524999', '1589726', '1592625', '1614432'}, '10069166': {'7222093', '7210371', '10172230', '7225543', '7196770', '7555390', '7197783', '8220916', '7348136', '7335011', '8488958', '7195969', '8879415', '7195268', '7551960', '7196500', '7210357', '9436026', '7201194', '7217331', '7199195', '7300524', '7195339', '7195516', '7215820', '7431141', '8456694', '7194558', '7233069', '7193952', '7262564', '7221286', '7195682', '7209907', '7198925', '7238032', '7229908', '9342375', '7221757', '7336623', '7217413'}, '11518196': {'5443203', '5449506', '5484709', '6759373', '5444718', '5699497', '5445344', '6597137', '5767210', '5457447', '6297359', '5767021', '6472992', '5447628', '5457042', '5465034', '7787232', '5446762', '6458709', '7438669', '5450016', '5448596', '5482020', '5941136', '6350254', '9329472', '6310247', '5477128', '5446077', '5567144', '5455759', '5660328', '5543306', '5446844', '5596750', '9772919', '5444644', '7151603', '5597833', '5444896', '8267208', '9245252', '5442881', '5459984', '5609012', '7383073', '5445417', '7524700', '7005582', '5449389', '7518012', '5443222', '5454405'}, '12345076': {'8021665', '7906336', '7917321', '7909046', '8016563', '7912851', '8006437', '7912431', '7982950', '7915259', '8393211', '7933517', '9433081', '8021262', '9586552', '8340311', '8010434', '8423013', '8954534', '7962951', '7911374', '8016510', '7910040', '7917185', '8015955', '9699743', '9699799'}, '12483708': {'6737646', '7164890', '7872524', '8444081', '6742263', '10171244', '9042538', '7020444', '6809183', '8997197', '8662115', '6781761', '9558908', '7426350', '7699527', '7261552', '10070960', '7289327', '7251969', '7947383', '6809314', '8064338', '9630006', '6798921', '6967027', '6750790', '6738324', '7718583', '7332568', '7245594', '6735380', '6792814', '6732733', '8879949', '9323384', '6777667', '6741173', '6762334', '7206159', '8331429', '6751394', '7453675', '6749501', '7252641', '6735119', '6733599', '7336649', '6733527', '6745484', '9767411', '6751343', '6738281', '6733606', '6748178', '7388713', '6734344', '7139529', '8976373', '6737096', '10147369', '6736591', '7012518', '6740121', '8969983', '6739078', '7445219', '6734859', '6753173', '9069786', '7403180', '7256176', '7429904', '6849904', '9590410', '6736043', '6787766', '6748479', '6834183', '6745716', '6784842', '7027785', '6762871', '7651779', '7443464', '6860107', '7099994', '6733247', '6840545', '6792093', '6750540', '6733999', '6810477', '9560128', '6750426', '6736407', '8980045', '10246913', '6987395', '9122647', '6733734', '7252428', '7693586', '6733397', '7064882', '6751851', '6737490', '7287196', '6755327', '7191651', '7444657', '9523344', '7321292', '7916211', '9013017', '6824116', '6762245', '6882531', '6754367', '6880119', '6735066', '6736452', '6760207', '7436673', '8018058', '8410443', '7288239', '6776723', '6734111', '6741666', '7282081', '8621227', '6752529', '7166163', '7541577', '6793986', '6759303', '6834254', '6783656', '7588230', '6752324', '7119438', '6734416', '9296096', '10071247', '7252394', '7375877', '6736134', '7092773', '8963227', '6734578', '6769255', '6758514', '6790448', '6734626', '7439420', '7075064', '9344284', '9590148', '6732782', '7712346', '6745872', '7633250', '6883163', '6753956', '6817117', '6830022', '6737992', '6853528', '6767615', '6735663', '9698528', '10079914', '9150008', '7177025', '7716116'}, '12698678': {'9415387', '9157027', '9948443', '9195709', '9197549', '9240533', '9464718', '9110292', '9112207', '9166518', '9383538', '9532010', '9336851', '9102712', '9166977', '9335937', '9101023', '9156150', '9346624', '9172272', '9108909', '9252898', '9248235', '9161681', '9251268', '9101046', '9832163'}, '12820524': {'8951784', '8359248', '7276904', '10173902', '10063598', '8023031', '7976784', '8984613', '7375487', '9164115', '10078176', '9098699', '7149058', '7488720', '9173547', '7192098', '7240836', '7491474', '9205413', '7209037', '8980962', '7728614', '7997389', '7270485', '7877410', '6131027', '7876868', '7547903', '8548663', '8298432', '8016175', '10174214', '7064535', '8210470', '7703641', '7092197', '8456151', '9049017', '7235995', '6842503', '7564340', '10017268', '9044446', '7181698', '7156840', '5968420', '8454196', '8247149', '7073108', '7224672', '7078609', '7077167', '7491437', '9075059', '8138320', '9296966', '8295722', '7822912', '10121539', '8656224', '7226061', '8553843', '8813832', '7773565', '9665755'}, '12973010': {'7894658', '7860526', '7937123', '7895293', '7889833', '7868773', '8053205', '7889953', '7867256', '7892616', '10197571', '8478420', '7895527', '7894185', '7982856', '7891337', '7890729', '8689220', '8136057', '7889541', '7898221', '7861523', '7866341', '7894028', '8621461', '8084586', '10197542', '7866527'}, '13105958': {'9024966', '9032372', '8975130', '9031120', '8975149', '9025578', '8975169', '9031129', '9354607', '9031144', '8975072', '8975362', '8975088', '8975289', '8975394', '8975270', '9024984', '9423182', '8975370', '8975237', '8975082', '8975159', '9032378', '9029579', '9025473', '9031182', '9025510', '9025487', '9024949', '9029553', '8975211', '9024960', '8975302', '9369848', '9948267', '9420261', '8975318', '9383433', '9032352', '9031164', '8975200', '9032395', '8975385', '9032492', '8975413', '8975092', '8975186', '9032368', '8975227', '8975277', '8975244', '9024940', '9393906', '9029567', '8975140', '9419671', '9025502', '9030029'}, '13265876': {'7611758', '7571529', '7755108', '7624274', '7581289', '7634058', '8361676', '9077767', '7614708', '7540133', '7545055', '8052214', '7540431', '7721879', '8408162', '8208657', '8390526', '8995783', '7539385', '7577256', '7577360', '7590827', '7569362', '7577226', '8474818', '7558667', '8832857', '7547249', '7549214', '8491639', '7555205', '7539677', '8473259', '8002075', '8413780', '7621935', '7684118', '9559370', '7584737', '7543196', '7593997', '7725643', '7541197', '9560476', '7543259', '9261245', '7766545', '7543784', '7611925', '7555674', '7557594', '9076820', '7550633', '8996749', '7900391', '7574728', '7804579', '7592229', '9386698', '7584818', '7544357', '7619851', '8639096', '7543515', '8472031', '7538831', '7575326', '8494503', '7728671', '9415498', '7596159', '7872909', '7557232', '7599629', '7626858', '7541681', '7561069', '7545186', '8031058', '7546991', '7620263', '9137346', '10231635', '7538684', '7588652', '7552171', '8071344', '9428635', '7588011', '7543566', '7726261', '7554038', '7595361', '7837553', '7554181', '7695702', '7546545', '7555155', '7742085', '7733970', '7560125', '7595349', '8088490', '7606911', '7735584', '8303334', '7861387', '9242344', '8782131', '7643341', '7571559', '7539399', '7595961', '7543632', '8078324', '7696252', '7548147', '8213152', '9012688', '7596871', '7734277', '7606509', '7542731', '8472399', '7641301', '7567586', '7540447', '7575942', '7545346', '7555761', '7773177', '7549162', '7544627', '7546585', '7550515', '7754678', '7547118', '7615443', '7593367', '7906497', '7975752', '7584373', '7810793', '7552128', '7622594', '7551608', '7690466', '7551645', '7703067', '7543841', '7569994', '7588071', '7540756', '7706318', '7963949', '7565494', '7557184', '7553915', '7572161', '7988301', '7548705', '7861670', '7739049', '8442284', '8184731', '7566864', '7713618', '7545807', '7539742', '7545790', '7550917', '7558374', '7578485', '9031590', '8810983', '7588549', '7630045', '7542100', '7636680', '7579166', '7593895', '7619448', '7614851', '7561642', '7589013', '7538290', '8011470', '8349519', '7546664', '8648189', '7566738', '9656411', '7576244', '7539592', '8451992', '7577166', '7542283', '8949693', '7543110', '7550643', '7559243', '8004763', '7627593', '7628434', '7732926', '7571883', '7774978', '7847711', '7566082', '7651226', '8491290', '9255286', '7555012', '8177405', '7538802', '7570141', '7544669', '7560108'}, '1360833': {'2229217', '2242829', '2151005', '2147817', '2439941', '2151341', '2248876', '2152592', '2293925', '2705710', '2153593', '2459777', '2310373', '2244820', '2592620', '2244188', '2162976', '2589801', '2148325', '2154138', '2408164', '2324911', '2232480', '2235754', '2233263', '2235574', '2263189', '2241650', '2181168', '3200588', '2374297', '2252730', '2452282', '2234189', '2227350', '2445122', '2273656', '2665384', '2228818', '2158012', '2220994', '2148329', '2228804', '2231704', '2184572', '2244175'}, '14257552': {'7734593', '8493033', '7732490', '7384835', '7740298', '9202872', '7733024', '7730881', '7732207', '7374203', '10177575', '7733666', '10075523', '7773339', '9685853', '7738492', '7458038', '7751354', '7751498', '7793527', '7744637', '9656448', '9641110', '9711814', '7734248', '8706866'}, '14356188': {'6821828', '6823203', '6837253', '6837461', '6819526', '6835195', '6835201', '6823160', '6835164', '6823261', '6835275', '6818851', '6835774', '6819325', '6823369', '6823104', '6823901', '6823185', '6823159', '6826314', '6835200', '6835166', '6832579', '6823119', '6835189', '6825262', '6831496', '6832632', '6823382', '6823192', '6835263', '6824759', '6823204', '6835161', '6823087', '6835672', '6831898', '6823392', '6835208', '6831920', '6832518', '6823761', '6823222', '6835932', '6823209', '6823624', '6835446', '6823211', '6835356', '6823148', '6835171', '6823346', '6823492', '6823173', '6823341', '6819405', '6831939', '6835389', '6835480', '6819417', '6832018', '6823218', '6835346', '6823098', '6823138', '6823114', '6823774', '6836936'}, '1584943': {'3076618', '3783169', '3080503', '3077219', '2826483', '6332149', '3087922', '4212798', '3120644', '3077894', '3755205', '2826388', '9707410', '2848615', '8153379', '3077217', '5178277', '3199344', '8177031', '3167236', '2836460', '5371442', '3076423', '4467985', '2838085', '2826235', '2740850', '4040468', '3670110', '3079215', '2829281', '3084660', '3110130', '3077019', '2936612', '5315491', '3083309', '3405062', '6045508'}, '16231344': {'9713997', '9924186', '9815243', '10104815', '9920550', '10037160', '9810982', '9706909', '10120800', '9708472', '9926468', '10109692', '9810748', '10246570', '9724532', '10023259', '9726865', '9836707', '10016431', '9826669', '9913251', '9904353', '9807085', '9903721', '9745163', '9705744', '9858301', '9886232', '10050822', '9903576'}, '1822394': {'5001082', '2901124', '2889978', '4105033', '5740906', '2891758', '7796703', '2890711', '4405952', '5819786', '4237184', '5239904', '4714482', '7457914', '5175943', '5755652', '2890350', '2889385', '2904192', '6279644', '5122247', '2956472', '8057919', '4025472', '2966327', '7335450', '3008869', '4405973', '2893139', '3227951', '2897418', '5256936', '2889845', '4092636', '8120739', '8084936', '8819645'}, '1910498': {'2618760', '2570953', '2475340', '2535926', '2803530', '2844552', '2533530', '2529892', '2539299', '4040429', '2811932', '2699471', '2898624', '2538983', '4771699', '5050755', '2956161', '2751440', '2629890', '2559848', '2778194', '2675327', '2536521', '2665457', '2568643', '2752228', '3215942', '2996166', '2922771', '2770805', '7312090', '9743861', '2727320', '2720735'}, '23875550': {'10207973', '10205133', '10210066', '10204011', '10206476', '10208824', '10205724', '10207346', '10204419', '10210032', '10219015', '10218121', '10208507', '10219767', '10208218', '10205816', '10209816', '10221331', '10220463', '10214033', '10204190', '10204067', '10206730', '10210572', '10221068', '10203290', '10231868', '10203518', '10220623', '10254351', '10203205', '10210463', '10212622', '10207916', '10208795', '10207424', '10213158', '10203931', '10217332', '10208689', '10232471', '10206328', '10203828', '10216613', '10225840', '10215899', '10205903', '10203102', '10209688', '10214164', '10203201', '10223327', '10203453', '10252598', '10203289', '10209603', '10206372', '10212731', '10203470', '10206752', '10209332', '10205935', '10208525', '10208729', '10203331', '10212008', '10207681', '10203598', '10206349', '10210120', '10208320', '10213884', '10226270', '10205781', '10236807', '10203173', '10205843', '10208970', '10215164', '10203756', '10212446', '10212405', '10204911', '10203487', '10205563', '10218676', '10207360', '10212477', '10205432', '10204510', '10206493'}, '27438366': {'10014504', '10078886', '10123157', '9974990', '9952494', '10058008', '9922391', '9973548', '9907133', '9954960', '9991390', '10045516', '9887636', '10031831', '9924852', '10044699', '10066196', '9893936', '10098898', '10063844', '9919639', '10041271', '9902006', '10115689', '9909231', '10053993', '9884679', '10173444', '10191657', '9936188', '10003925', '10053765', '10121189', '9993221', '9973780', '10222329', '9886874', '10020669', '10168848', '10044374', '10039379', '9931394', '9976256', '9991206', '9926942', '10051918', '9942139', '10121668', '10078991'}, '3113498': {'6926150', '6904023', '7856352', '6914722', '9582225', '8020781', '8083597', '7429489', '7479168', '7735020', '7377840', '6904152', '7546319', '7386098', '7271393', '7384564', '10021649', '7780007', '7572202', '6931059', '6905327', '7290873', '7437350', '7722155', '8153547', '7671914', '7521946', '6907628', '6942157', '7319462', '6969729', '7744933', '7575518', '8008732', '7368242', '7305824', '7864892', '6907340', '7168120', '7764895', '7519784', '6906466', '7454111', '7568226', '4065129', '9290900', '8130088', '7353143', '7702282', '7750562', '6984381', '7774040', '7751066', '7377594', '7761463', '8043571', '8774533', '10113307', '8289518', '7348976', '7264060'}, '3377798': {'4770190', '3017599', '3030061', '2997873', '2990969', '3026569', '3044011', '3028422', '3026638', '3017607', '3048396', '3005180', '3018134', '3043027', '2995182', '3029638', '3017117', '3027712', '3018239', '3044013', '3020178', '3605688', '3548298', '3037846', '3043036', '3021915', '3018402', '3043039', '3051079', '3223194', '3853743', '3044023', '2996934', '3017615', '3043051', '3010084'}, '3530690': {'4439429', '6300479', '3164577', '10096070', '3191911', '3131782', '5036292', '10174472', '3702462', '5239305', '6047903', '6905533', '4484583', '8794975', '3170809', '3347992', '3193564', '3129388', '5698823', '3359090', '9348641', '3262793', '4343872', '10226649', '3157174', '3259706', '3296842'}, '4261326': {'4389659', '4031712', '3769489', '4095140', '5734622', '5306853', '3710785', '6100614', '4252361', '4148684', '3750145', '3807345', '6246366', '3745839', '4081327', '5300923', '4085139', '4209318', '4174943', '9169772', '4104807', '6372837', '3849684', '4571919', '5477348', '4298409', '4355983', '4037251', '3709028', '3745646', '3733473', '4130203', '7558955', '3707378', '4133867', '4062758', '4084284', '4086117', '4129657', '4107094', '6963168', '7745892', '4113734', '4089174', '4085697', '5094812', '5492540'}, '4290974': {'5877079', '5805230', '6562382', '4137129', '3862886', '3696139', '5881556', '3802520', '3706639', '3775935', '3796794', '3667276', '4021421', '3777670', '3736776', '5850016', '4067884', '6032832', '8964914', '4744673', '3779881', '3741195', '4505493', '4889564', '3760897', '3779188', '3683194', '3666369', '3736774', '3776844', '6407645', '3733517', '3782527', '4573024', '3792890', '7563521', '3736767', '5954260', '4356749', '4131844', '3780711', '6691241', '4203376', '4335219', '4509092', '5384068', '4082191', '3778069', '3826098', '3774070', '3759278', '4456177', '3711737', '4310105', '4287187', '3795423', '3772331', '3669403', '4341981', '3702236', '6392965', '4081180', '3772301', '3785358', '6046629', '3704465', '3773297', '3786643', '3816664', '3667496', '8707428', '3776793', '3833118', '7800983', '3773869', '4139644', '3796081', '4362044', '4009709', '4571994', '3775496', '9374926', '3666819', '4388469', '4115049', '3779499', '3790556'}, '4469518': {'4142614', '4567431', '4142414', '4302706', '4567594', '4231584', '6511107', '4564972', '4792433', '5031805', '5259447', '4551619', '4881563', '4543257', '4558406', '5637037', '4631640', '4239101', '4562571', '4564894', '4145024', '4983407', '4553551', '4620382', '5636026', '4558841', '4570069', '4153130', '4469161', '6604118', '4321937', '4212578', '4180987', '4311834', '4556076', '4542996', '4562168', '5145364', '4306922', '4494368', '4665421', '4623655'}, '5011848': {'4818460', '4843957', '4228506', '4239598', '4228693', '4281078', '4240350', '4117223', '4211169', '4425383', '4241413', '4229856', '4229794', '4228357', '4294712', '4228483', '4228673', '5102010', '4242218', '4228436', '4658078', '5724912', '4227790', '4228608', '4229823', '4225785', '3833870', '4238635', '4231881', '4124739', '4228926', '4249382', '4221435', '4226415', '4227772', '4228712', '4228697', '4228649', '4226338', '4229791', '4228690', '4233844'}, '5087564': {'6247761', '5385197', '5304250', '5336641', '5041182', '5077309', '10054465', '5865659', '5279034', '8645776', '5261614', '4751782', '5137230', '5316155', '5108856', '4973323', '9145665', '4817641', '5317054', '4799565', '5261281', '5001320', '5634598', '4994652', '5543304', '5243365', '5728298'}, '5131914': {'3442326', '4059507', '3447991', '3561517', '3561583', '4637352', '3542363', '3540719', '3442321', '3442331', '3611188', '3564432', '3444438', '3496580', '3814512', '3562057', '4044223', '3844021', '3589758', '3569741', '3564657', '3444488', '3762576', '3623521', '3732164', '3562119', '3446129'}, '6017594': {'4136672', '6122399', '3598747', '4221439', '6447830', '5801956', '6023614', '6236549', '5737699', '3576995', '3727483', '5236597', '3577120', '4138574', '4235209', '4641762', '4213999', '5159053', '6698257', '4882162', '3575470', '4275973', '6721372', '3786065', '4143546', '3602815', '4677548', '4702019', '4139587', '4221487', '4143036', '4952223', '6190612', '3602642', '5886409', '3581049', '6167747', '5199909', '3574069', '5702657', '5967915', '4267717', '4238944', '6018065', '4367109', '4935468', '4135769', '5446919', '4145083'}, '6179746': {'4066010', '4068278', '4068021', '4168016', '4484329', '4428690', '4128542', '4125667', '4065892', '4962388', '4112949', '4206664', '4061249', '5596953', '4205573', '4062898', '4091929', '4115144', '5598204', '4190484', '4519524', '4064528', '4069328', '8442989', '4063990', '4063585', '4064342', '4066319', '4088261', '4067566', '4064556', '4077776', '4063921', '4337595', '4346104', '4427973', '4076179', '4061098', '4632953', '4063244', '4073899', '4239730', '7627428', '4229801', '4063401', '4069058', '8227122', '4223903', '9459469', '4063748', '4064005', '4611691', '5912121', '4104802', '4074121', '4064308', '5690085', '4065161', '4128605', '4282419', '4351148', '4434197', '4202776', '5458014', '4082146', '4065552', '5401129', '4063110', '4772128', '4556390', '4066027', '4205649', '4338652', '4062986', '4061191', '4075732', '4062924', '4099173', '7731995', '4065033', '4922942', '6470866', '4475177', '4365325', '4065716', '4088488', '4067494', '6881614', '6277220', '4136670', '4249232', '4402907', '8537764', '4170348', '4674636', '8214375', '5881020', '6505311'}, '6409856': {'5904800', '5477419', '5888169', '5477627', '5484725', '5509377', '9369262', '5494346', '6414155', '5476101', '5476851', '5527479', '6780673', '5528080', '5786950', '5483985', '5476404', '5482814', '5475784', '5475929', '5475847', '5476769', '7043315', '5475955', '5476104', '5857200', '5475945', '5476116', '5493770', '5877327', '7294169', '5477666', '5475962', '6660907', '5480269', '5480310', '5477740', '5749145', '5501526', '6102560', '7047370', '5481577', '8925017', '5476046', '5968809', '5540809', '5491881'}, '6628322': {'7744559', '5299683', '10235782', '5136939', '6235890', '5218239', '6185451', '5056937', '5124318', '5134207', '5131102', '6548602', '5217904', '5147577', '6431321', '5088598', '5121411', '5351136', '5170137', '5125054', '5746836', '5766435', '5216231', '5063248', '5138194', '5679887', '5136913', '5125308', '8539064', '5446662', '7160741', '5467784', '7281762', '5094077', '5589387', '5126255', '5106907', '5122455', '5924538', '5056106', '5125904', '5090143', '5172943', '5152475', '7036062', '5060752', '5124267', '5131973', '5145056', '5090094', '5124346', '5122420', '5091547', '5126490', '5650960', '5138638', '5696036', '5120879', '5115259', '5379909', '5316714', '5119062', '5137197', '7747914', '5124414', '5167224', '5130167', '5152826', '6081956', '5129051', '5122542', '5055480', '5055176', '5477457', '5126369', '9158885', '5150994', '5136933'}, '6802040': {'6628922', '6694127', '6632857', '6758379', '6659992', '6634423', '6647299', '6744239', '7938081', '6735273', '6734420', '7695417', '6633660', '6681820', '6632579', '6671904', '6633435', '7023398', '6742565', '6881686', '6752743', '6633589', '6616522', '6650729', '6760351', '6794008', '6633384', '6632979', '6741677', '6632553', '6633872', '6767594', '6757602'}, '7314630': {'5499478', '8494387', '7628766', '5461142', '5423518', '5718871', '5460209', '7759534', '5462791', '5458579', '5719959', '6083360', '5468968', '10097067', '5462486', '5467940', '5462378', '5652135', '5554393', '5473474', '5517928', '5458725', '5475019', '5463887', '5460465', '5521389', '6376791', '7770829', '5560282', '5553876', '5724933', '5837358', '5579518'}, '7498092': {'5241518', '5268247', '5262947', '5287311', '5239035', '6520388', '4901844', '8910834', '5278245', '5272202', '5240638', '5553580', '5240340', '5370371', '5698007', '5256750', '10240514', '5281469', '5241595', '5304962', '5275287', '8544154', '5240551', '5631137', '5271544', '5292826', '5272359', '6567727', '5348214', '8170957', '5749477', '5272333', '5275850', '5324336', '5282654', '9771880'}, '7740204': {'6724637', '6844819', '10120995', '6718556', '7718755', '7216297', '6723721', '6716581', '6734901', '9145451', '8974602', '6717924', '7841133', '7384345', '6723038', '9020932', '6756619', '6720757', '9424790', '6717847', '7497361', '7312801', '6754551', '7187351', '6753236', '6864614', '7576355', '6747084', '6729691', '7069389', '6718323', '6717327', '6787171', '6729007', '6724124'}, '8041916': {'6252429', '4640134', '4566333', '4590637', '4508816', '5135712', '4495662', '4491905', '5500351', '4528111', '6403139', '5649654', '5483626', '4551359', '7020690', '4497163', '4718092', '4915447', '4497659', '4491617', '4627816', '4494313', '5360895', '9807290', '4504659', '6203272', '4513500', '4524586', '4568083', '7245264', '4660380', '4553102', '4503777', '4494384', '4492276', '9902483', '4493171', '4493603', '5177796', '5887403', '4572329', '4758030', '4532745', '4549257', '5371265', '5122346', '6911429', '4534752', '4822791', '5359590', '4537088', '4499192', '4975818'}, '8064418': {'6809039', '6287253', '5643623', '6092131', '5626039', '5630942', '5633926', '5911369', '8530382', '5623597', '6336605', '6193254', '6125001', '5759833', '5620111', '5620437', '5620104', '6090237', '9743649', '6577113', '5680679', '5624528', '5630467', '6718886', '5621881', '5639139', '5630064', '7788266', '6661378', '5620839', '5433745', '6372537', '5621135', '5435817', '6072114', '6097322', '6109092', '6597462', '5626688', '5643393', '6131109', '6113641', '5628100', '5654886', '6521850', '5627000', '5632336', '5620244', '5620482', '5864767', '5628106', '5620692', '5901074', '6958423', '5620125', '5624529', '5623223', '5620554', '5624822', '5625825', '5659886', '5634203', '6370979', '5680904', '5631408', '6714666', '5630745', '6114801', '5646874', '5994918', '5433461', '7623768', '5759359', '5651354', '5625046', '5620797', '5620863', '5661235', '5621289', '6995623', '5626671', '6995694', '6210344', '5620109', '5626440', '8628072', '6287522', '5969514', '5635140', '5708494', '5626303', '5623270', '5701182', '5620982', '6614988'}, '8305690': {'4388547', '8346421', '4581116', '4609121', '6019833', '9208289', '9004418', '5504451', '4617096', '4371340', '5959576', '6975002', '4372518', '4607394', '6114156', '5507001', '4402333', '7802379', '6140823', '4374435', '5431729', '5438489', '4754455', '4371709', '4691107', '5546125', '4637769', '4399770'}, '9465600': {'5595319', '5277636', '5277157', '5276413', '5273995', '8476201', '5567197', '5280417', '5647951', '5273016', '5612700', '9164110', '5663427', '6739273', '5589448', '6318023', '5621060', '5578248', '6177414', '6838524', '5812571', '6543510', '9188766', '6199737', '5395336', '5828349', '7236418', '5281148', '5609465', '5571764', '5605348', '6137293', '5274752', '5576183', '5584987', '5276145', '5273593', '7204862', '6513617', '9336730', '9342042', '6538733', '5281697', '9970571', '5698429', '6523722', '6138638', '7081430', '7473241', '5655934', '5324435', '5599932', '6161720', '7803671', '5611821', '7361929', '5565312', '6137680', '5411252', '5919887', '5572775', '5580822', '8809973', '6144129', '6441477', '7871800', '8349646', '9644949', '6436869', '5562980', '5607133', '5842419', '5578457', '5300882', '5879188', '5566727', '7281408', '5686879', '5596568', '6336267', '5277438', '5277395', '5564848', '6521311', '5577345', '6148448', '7857250', '6197959', '6181812', '9484102', '6044541', '5457059', '7015365', '5628139', '6160325', '5284162', '5607479', '5647628', '6171772', '5275639', '7220780', '6051769', '5570620', '5577931', '5634634', '5790353', '6037615', '8053495', '6143982', '5529527', '5580718', '5886595', '5319668', '6377794', '5278767', '5838129', '9473217', '5318298', '8268277', '5561091', '9180123', '5486860', '9808729', '6143841', '6975682', '6331620', '8052864', '5343245', '5900447', '6202184', '5416296', '5309496', '5308677', '5810076', '6187976', '5581414', '5560510', '8299687', '6030426', '5686843', '6139383', '6244856', '6211594', '5551400', '6433351', '8773519', '6286217', '5278310', '7188978', '6235411', '6496616', '5570344', '5611593', '5895277', '8446014', '6715273', '5299671', '5273075', '5276597', '5632447', '6108880', '6183824', '6538577', '5568273', '5527930', '9189935', '7904947', '5575280', '5281240', '7727496', '5860337', '6595393', '9251485', '5587097', '7078721', '6204228', '5571979', '5433771', '5691440', '5571378', '5563255', '6532333', '5284266', '5924822', '7140094', '7770262', '5573208', '5977912', '5655752', '5566016', '5572039', '5565559', '7695027', '6304342', '5292410', '6155936', '5613497', '5275839', '5322367', '5279470', '9188082', '8641509', '6140009', '5274994', '5293861', '6674379', '6183429', '5276281', '5278321', '5415471', '5326455', '5275495', '5744608', '5563197', '9460989', '7722324', '5385931'}, '9753990': {'7931746', '8177014', '6088191', '6263146', '7705709', '6209553', '6167541', '6537155', '6104457', '6086041', '6106520', '7921620', '7907776', '6082333', '6088638', '6085549', '6092670', '6097206', '6089892', '8041803', '6276866', '6087827', '8523464', '6113756', '6118823', '6083382', '8160943', '6101429', '6138920', '6140126', '7954853', '6080557', '7339646', '8196241', '8866671'}, '9812258': {'5987532', '5986557', '6180273', '6281561', '6130181', '7886420', '6132069', '6557596', '6029880', '6021744', '5983186', '5998936', '6161388', '5983167', '5997895', '6340795', '5983208', '6007857', '7365656', '8529205', '6576551', '6008762', '5988383', '6647439', '8252819', '6023346', '6004656', '5994043', '5982124', '6064971', '6243718', '5982834'}}\n",
      "Final Scifi Movies Dataset            MovieID                        Title  Year Duration         Genres  \\\n",
      "32884    tt0046213            Project Moon Base  1953       63         Sci-Fi   \n",
      "33454    tt0046977  Fire Maidens of Outer Space  1956       73         Sci-Fi   \n",
      "33926    tt0047529                 The Venusian  1954       75         Sci-Fi   \n",
      "34214    tt0047947            Conquest of Space  1955       81         Sci-Fi   \n",
      "35019    tt0048964               The Atomic Man  1955       76         Sci-Fi   \n",
      "...            ...                          ...   ...      ...            ...   \n",
      "673427   tt8305690             Alien Expedition  2018       93         Sci-Fi   \n",
      "695203   tt9465600                         3022  2019       91         Sci-Fi   \n",
      "700030   tt9753990     Star Trek First Frontier  2020       85         Sci-Fi   \n",
      "701041   tt9812258                        G-Loc  2020       92         Sci-Fi   \n",
      "435425  tt23875550                           UI  2024      135  Action,Sci-Fi   \n",
      "\n",
      "        Rating  NumVotes  \n",
      "32884      3.4    1432.0  \n",
      "33454      2.5    2031.0  \n",
      "33926      5.4     932.0  \n",
      "34214      5.6    1847.0  \n",
      "35019      5.6     472.0  \n",
      "...        ...       ...  \n",
      "673427     2.7     632.0  \n",
      "695203     4.5    6092.0  \n",
      "700030     5.7     282.0  \n",
      "701041     4.5    1828.0  \n",
      "435425     7.7    5038.0  \n",
      "\n",
      "[78 rows x 7 columns]\n"
     ]
    }
   ],
   "source": [
    "import pickle\n",
    "\n",
    "# File path\n",
    "file_path = \"C:/Users/aless/Desktop/DNLP_Project/scifi_stuff.pkl\"\n",
    "\n",
    "# Upload data\n",
    "with open(file_path, \"rb\") as file:\n",
    "    discarded_scifi_ids, valid_scifi_review_ids, final_scifi_movies_dataset = pickle.load(file)\n",
    "\n",
    "print(\"Data uploaded!\")\n",
    "print(\"discarded_scifi_ids:\", discarded_scifi_ids)\n",
    "print(\"valid_scifi_review_ids:\", valid_scifi_review_ids)\n",
    "print(\"Final Scifi Movies Dataset\", final_scifi_movies_dataset)\n"
   ]
  },
  {
   "cell_type": "markdown",
   "metadata": {},
   "source": [
    "Retrieve all selected reviews and store them in a dataframe"
   ]
  },
  {
   "cell_type": "code",
   "execution_count": 9,
   "metadata": {},
   "outputs": [
    {
     "name": "stdout",
     "output_type": "stream",
     "text": [
      "Movie id:0046213\n"
     ]
    },
    {
     "name": "stderr",
     "output_type": "stream",
     "text": [
      "retrieving reviews: 100%|██████████| 44/44 [00:50<00:00,  1.16s/review]\n"
     ]
    },
    {
     "name": "stdout",
     "output_type": "stream",
     "text": [
      "Movie id:0046977\n"
     ]
    },
    {
     "name": "stderr",
     "output_type": "stream",
     "text": [
      "retrieving reviews: 100%|██████████| 76/76 [01:28<00:00,  1.17s/review]\n"
     ]
    },
    {
     "name": "stdout",
     "output_type": "stream",
     "text": [
      "Movie id:0047529\n"
     ]
    },
    {
     "name": "stderr",
     "output_type": "stream",
     "text": [
      "retrieving reviews: 100%|██████████| 44/44 [00:50<00:00,  1.16s/review]\n"
     ]
    },
    {
     "name": "stdout",
     "output_type": "stream",
     "text": [
      "Movie id:0047947\n"
     ]
    },
    {
     "name": "stderr",
     "output_type": "stream",
     "text": [
      "retrieving reviews: 100%|██████████| 62/62 [01:11<00:00,  1.16s/review]\n"
     ]
    },
    {
     "name": "stdout",
     "output_type": "stream",
     "text": [
      "Movie id:0048964\n"
     ]
    },
    {
     "name": "stderr",
     "output_type": "stream",
     "text": [
      "retrieving reviews: 100%|██████████| 29/29 [00:33<00:00,  1.15s/review]\n"
     ]
    },
    {
     "name": "stdout",
     "output_type": "stream",
     "text": [
      "Movie id:0050085\n"
     ]
    },
    {
     "name": "stderr",
     "output_type": "stream",
     "text": [
      "retrieving reviews: 100%|██████████| 61/61 [01:06<00:00,  1.08s/review]\n"
     ]
    },
    {
     "name": "stdout",
     "output_type": "stream",
     "text": [
      "Movie id:0050767\n"
     ]
    },
    {
     "name": "stderr",
     "output_type": "stream",
     "text": [
      "retrieving reviews: 100%|██████████| 31/31 [00:34<00:00,  1.11s/review]\n"
     ]
    },
    {
     "name": "stdout",
     "output_type": "stream",
     "text": [
      "Movie id:0051951\n"
     ]
    },
    {
     "name": "stderr",
     "output_type": "stream",
     "text": [
      "retrieving reviews: 100%|██████████| 40/40 [00:44<00:00,  1.10s/review]\n"
     ]
    },
    {
     "name": "stdout",
     "output_type": "stream",
     "text": [
      "Movie id:0052227\n"
     ]
    },
    {
     "name": "stderr",
     "output_type": "stream",
     "text": [
      "retrieving reviews: 100%|██████████| 35/35 [00:38<00:00,  1.10s/review]\n"
     ]
    },
    {
     "name": "stdout",
     "output_type": "stream",
     "text": [
      "Movie id:0052286\n"
     ]
    },
    {
     "name": "stderr",
     "output_type": "stream",
     "text": [
      "retrieving reviews: 100%|██████████| 32/32 [00:34<00:00,  1.09s/review]\n"
     ]
    },
    {
     "name": "stdout",
     "output_type": "stream",
     "text": [
      "Movie id:0053250\n"
     ]
    },
    {
     "name": "stderr",
     "output_type": "stream",
     "text": [
      "retrieving reviews: 100%|██████████| 87/87 [01:35<00:00,  1.10s/review]\n"
     ]
    },
    {
     "name": "stdout",
     "output_type": "stream",
     "text": [
      "Movie id:0053388\n"
     ]
    },
    {
     "name": "stderr",
     "output_type": "stream",
     "text": [
      "retrieving reviews: 100%|██████████| 40/40 [00:42<00:00,  1.07s/review]\n"
     ]
    },
    {
     "name": "stdout",
     "output_type": "stream",
     "text": [
      "Movie id:0054330\n"
     ]
    },
    {
     "name": "stderr",
     "output_type": "stream",
     "text": [
      "retrieving reviews: 100%|██████████| 50/50 [00:54<00:00,  1.09s/review]\n"
     ]
    },
    {
     "name": "stdout",
     "output_type": "stream",
     "text": [
      "Movie id:0054415\n"
     ]
    },
    {
     "name": "stderr",
     "output_type": "stream",
     "text": [
      "retrieving reviews: 100%|██████████| 53/53 [00:58<00:00,  1.11s/review]\n"
     ]
    },
    {
     "name": "stdout",
     "output_type": "stream",
     "text": [
      "Movie id:0055872\n"
     ]
    },
    {
     "name": "stderr",
     "output_type": "stream",
     "text": [
      "retrieving reviews: 100%|██████████| 75/75 [01:21<00:00,  1.08s/review]\n"
     ]
    },
    {
     "name": "stdout",
     "output_type": "stream",
     "text": [
      "Movie id:0055893\n"
     ]
    },
    {
     "name": "stderr",
     "output_type": "stream",
     "text": [
      "retrieving reviews: 100%|██████████| 63/63 [01:07<00:00,  1.08s/review]\n"
     ]
    },
    {
     "name": "stdout",
     "output_type": "stream",
     "text": [
      "Movie id:0058659\n"
     ]
    },
    {
     "name": "stderr",
     "output_type": "stream",
     "text": [
      "retrieving reviews: 100%|██████████| 80/80 [01:25<00:00,  1.06s/review]\n"
     ]
    },
    {
     "name": "stdout",
     "output_type": "stream",
     "text": [
      "Movie id:0059588\n"
     ]
    },
    {
     "name": "stderr",
     "output_type": "stream",
     "text": [
      "retrieving reviews: 100%|██████████| 27/27 [00:29<00:00,  1.10s/review]\n"
     ]
    },
    {
     "name": "stdout",
     "output_type": "stream",
     "text": [
      "Movie id:0059914\n"
     ]
    },
    {
     "name": "stderr",
     "output_type": "stream",
     "text": [
      "retrieving reviews: 100%|██████████| 40/40 [00:43<00:00,  1.09s/review]\n"
     ]
    },
    {
     "name": "stdout",
     "output_type": "stream",
     "text": [
      "Movie id:0061592\n"
     ]
    },
    {
     "name": "stderr",
     "output_type": "stream",
     "text": [
      "retrieving reviews: 100%|██████████| 55/55 [01:00<00:00,  1.11s/review]\n"
     ]
    },
    {
     "name": "stdout",
     "output_type": "stream",
     "text": [
      "Movie id:0061850\n"
     ]
    },
    {
     "name": "stderr",
     "output_type": "stream",
     "text": [
      "retrieving reviews: 100%|██████████| 51/51 [00:54<00:00,  1.08s/review]\n"
     ]
    },
    {
     "name": "stdout",
     "output_type": "stream",
     "text": [
      "Movie id:0071647\n"
     ]
    },
    {
     "name": "stderr",
     "output_type": "stream",
     "text": [
      "retrieving reviews: 100%|██████████| 49/49 [00:53<00:00,  1.09s/review]\n"
     ]
    },
    {
     "name": "stdout",
     "output_type": "stream",
     "text": [
      "Movie id:0075909\n"
     ]
    },
    {
     "name": "stderr",
     "output_type": "stream",
     "text": [
      "retrieving reviews: 100%|██████████| 105/105 [01:55<00:00,  1.10s/review]\n"
     ]
    },
    {
     "name": "stdout",
     "output_type": "stream",
     "text": [
      "Movie id:0076760\n"
     ]
    },
    {
     "name": "stderr",
     "output_type": "stream",
     "text": [
      "retrieving reviews: 100%|██████████| 33/33 [00:35<00:00,  1.09s/review]\n"
     ]
    },
    {
     "name": "stdout",
     "output_type": "stream",
     "text": [
      "Movie id:0077877\n"
     ]
    },
    {
     "name": "stderr",
     "output_type": "stream",
     "text": [
      "retrieving reviews: 100%|██████████| 26/26 [00:28<00:00,  1.09s/review]\n"
     ]
    },
    {
     "name": "stdout",
     "output_type": "stream",
     "text": [
      "Movie id:0078317\n"
     ]
    },
    {
     "name": "stderr",
     "output_type": "stream",
     "text": [
      "retrieving reviews: 100%|██████████| 27/27 [00:29<00:00,  1.08s/review]\n"
     ]
    },
    {
     "name": "stdout",
     "output_type": "stream",
     "text": [
      "Movie id:0080836\n"
     ]
    },
    {
     "name": "stderr",
     "output_type": "stream",
     "text": [
      "retrieving reviews: 100%|██████████| 61/61 [01:08<00:00,  1.12s/review]\n"
     ]
    },
    {
     "name": "stdout",
     "output_type": "stream",
     "text": [
      "Movie id:0083557\n"
     ]
    },
    {
     "name": "stderr",
     "output_type": "stream",
     "text": [
      "retrieving reviews: 100%|██████████| 42/42 [00:45<00:00,  1.09s/review]\n"
     ]
    },
    {
     "name": "stdout",
     "output_type": "stream",
     "text": [
      "Movie id:0085426\n"
     ]
    },
    {
     "name": "stderr",
     "output_type": "stream",
     "text": [
      "retrieving reviews: 100%|██████████| 40/40 [00:43<00:00,  1.08s/review]\n"
     ]
    },
    {
     "name": "stdout",
     "output_type": "stream",
     "text": [
      "Movie id:0115506\n"
     ]
    },
    {
     "name": "stderr",
     "output_type": "stream",
     "text": [
      "retrieving reviews: 100%|██████████| 35/35 [00:37<00:00,  1.08s/review]\n"
     ]
    },
    {
     "name": "stdout",
     "output_type": "stream",
     "text": [
      "Movie id:0119243\n"
     ]
    },
    {
     "name": "stderr",
     "output_type": "stream",
     "text": [
      "retrieving reviews: 100%|██████████| 26/26 [00:28<00:00,  1.10s/review]\n"
     ]
    },
    {
     "name": "stdout",
     "output_type": "stream",
     "text": [
      "Movie id:0122111\n"
     ]
    },
    {
     "name": "stderr",
     "output_type": "stream",
     "text": [
      "retrieving reviews: 100%|██████████| 37/37 [00:40<00:00,  1.10s/review]\n"
     ]
    },
    {
     "name": "stdout",
     "output_type": "stream",
     "text": [
      "Movie id:0131624\n"
     ]
    },
    {
     "name": "stderr",
     "output_type": "stream",
     "text": [
      "retrieving reviews: 100%|██████████| 34/34 [00:37<00:00,  1.10s/review]\n"
     ]
    },
    {
     "name": "stdout",
     "output_type": "stream",
     "text": [
      "Movie id:0145529\n"
     ]
    },
    {
     "name": "stderr",
     "output_type": "stream",
     "text": [
      "retrieving reviews: 100%|██████████| 90/90 [01:37<00:00,  1.08s/review]\n"
     ]
    },
    {
     "name": "stdout",
     "output_type": "stream",
     "text": [
      "Movie id:0238463\n"
     ]
    },
    {
     "name": "stderr",
     "output_type": "stream",
     "text": [
      "retrieving reviews: 100%|██████████| 33/33 [00:40<00:00,  1.24s/review]\n"
     ]
    },
    {
     "name": "stdout",
     "output_type": "stream",
     "text": [
      "Movie id:0443693\n"
     ]
    },
    {
     "name": "stderr",
     "output_type": "stream",
     "text": [
      "retrieving reviews: 100%|██████████| 57/57 [01:02<00:00,  1.10s/review]\n"
     ]
    },
    {
     "name": "stdout",
     "output_type": "stream",
     "text": [
      "Movie id:0460975\n"
     ]
    },
    {
     "name": "stderr",
     "output_type": "stream",
     "text": [
      "retrieving reviews: 100%|██████████| 75/75 [01:23<00:00,  1.11s/review]\n"
     ]
    },
    {
     "name": "stdout",
     "output_type": "stream",
     "text": [
      "Movie id:10069166\n"
     ]
    },
    {
     "name": "stderr",
     "output_type": "stream",
     "text": [
      "retrieving reviews: 100%|██████████| 41/41 [00:44<00:00,  1.09s/review]\n"
     ]
    },
    {
     "name": "stdout",
     "output_type": "stream",
     "text": [
      "Movie id:11518196\n"
     ]
    },
    {
     "name": "stderr",
     "output_type": "stream",
     "text": [
      "retrieving reviews: 100%|██████████| 53/53 [01:00<00:00,  1.14s/review]\n"
     ]
    },
    {
     "name": "stdout",
     "output_type": "stream",
     "text": [
      "Movie id:12345076\n"
     ]
    },
    {
     "name": "stderr",
     "output_type": "stream",
     "text": [
      "retrieving reviews: 100%|██████████| 27/27 [00:30<00:00,  1.12s/review]\n"
     ]
    },
    {
     "name": "stdout",
     "output_type": "stream",
     "text": [
      "Movie id:12483708\n"
     ]
    },
    {
     "name": "stderr",
     "output_type": "stream",
     "text": [
      "retrieving reviews: 100%|██████████| 175/175 [03:16<00:00,  1.12s/review]\n"
     ]
    },
    {
     "name": "stdout",
     "output_type": "stream",
     "text": [
      "Movie id:12698678\n"
     ]
    },
    {
     "name": "stderr",
     "output_type": "stream",
     "text": [
      "retrieving reviews: 100%|██████████| 27/27 [00:30<00:00,  1.11s/review]\n"
     ]
    },
    {
     "name": "stdout",
     "output_type": "stream",
     "text": [
      "Movie id:12820524\n"
     ]
    },
    {
     "name": "stderr",
     "output_type": "stream",
     "text": [
      "retrieving reviews: 100%|██████████| 65/65 [01:12<00:00,  1.11s/review]\n"
     ]
    },
    {
     "name": "stdout",
     "output_type": "stream",
     "text": [
      "Movie id:12973010\n"
     ]
    },
    {
     "name": "stderr",
     "output_type": "stream",
     "text": [
      "retrieving reviews: 100%|██████████| 28/28 [00:29<00:00,  1.05s/review]\n"
     ]
    },
    {
     "name": "stdout",
     "output_type": "stream",
     "text": [
      "Movie id:13105958\n"
     ]
    },
    {
     "name": "stderr",
     "output_type": "stream",
     "text": [
      "retrieving reviews: 100%|██████████| 58/58 [01:01<00:00,  1.06s/review]\n"
     ]
    },
    {
     "name": "stdout",
     "output_type": "stream",
     "text": [
      "Movie id:13265876\n"
     ]
    },
    {
     "name": "stderr",
     "output_type": "stream",
     "text": [
      "retrieving reviews: 100%|██████████| 218/218 [03:54<00:00,  1.08s/review]\n"
     ]
    },
    {
     "name": "stdout",
     "output_type": "stream",
     "text": [
      "Movie id:1360833\n"
     ]
    },
    {
     "name": "stderr",
     "output_type": "stream",
     "text": [
      "retrieving reviews: 100%|██████████| 46/46 [00:48<00:00,  1.05s/review]\n"
     ]
    },
    {
     "name": "stdout",
     "output_type": "stream",
     "text": [
      "Movie id:14257552\n"
     ]
    },
    {
     "name": "stderr",
     "output_type": "stream",
     "text": [
      "retrieving reviews: 100%|██████████| 26/26 [00:28<00:00,  1.08s/review]\n"
     ]
    },
    {
     "name": "stdout",
     "output_type": "stream",
     "text": [
      "Movie id:14356188\n"
     ]
    },
    {
     "name": "stderr",
     "output_type": "stream",
     "text": [
      "retrieving reviews: 100%|██████████| 68/68 [01:13<00:00,  1.09s/review]\n"
     ]
    },
    {
     "name": "stdout",
     "output_type": "stream",
     "text": [
      "Movie id:1584943\n"
     ]
    },
    {
     "name": "stderr",
     "output_type": "stream",
     "text": [
      "retrieving reviews: 100%|██████████| 39/39 [00:41<00:00,  1.06s/review]\n"
     ]
    },
    {
     "name": "stdout",
     "output_type": "stream",
     "text": [
      "Movie id:16231344\n"
     ]
    },
    {
     "name": "stderr",
     "output_type": "stream",
     "text": [
      "retrieving reviews: 100%|██████████| 30/30 [00:31<00:00,  1.05s/review]\n"
     ]
    },
    {
     "name": "stdout",
     "output_type": "stream",
     "text": [
      "Movie id:1822394\n"
     ]
    },
    {
     "name": "stderr",
     "output_type": "stream",
     "text": [
      "retrieving reviews: 100%|██████████| 37/37 [00:39<00:00,  1.08s/review]\n"
     ]
    },
    {
     "name": "stdout",
     "output_type": "stream",
     "text": [
      "Movie id:1910498\n"
     ]
    },
    {
     "name": "stderr",
     "output_type": "stream",
     "text": [
      "retrieving reviews: 100%|██████████| 34/34 [00:36<00:00,  1.08s/review]\n"
     ]
    },
    {
     "name": "stdout",
     "output_type": "stream",
     "text": [
      "Movie id:23875550\n"
     ]
    },
    {
     "name": "stderr",
     "output_type": "stream",
     "text": [
      "retrieving reviews: 100%|██████████| 91/91 [01:37<00:00,  1.07s/review]\n"
     ]
    },
    {
     "name": "stdout",
     "output_type": "stream",
     "text": [
      "Movie id:27438366\n"
     ]
    },
    {
     "name": "stderr",
     "output_type": "stream",
     "text": [
      "retrieving reviews: 100%|██████████| 49/49 [00:52<00:00,  1.07s/review]\n"
     ]
    },
    {
     "name": "stdout",
     "output_type": "stream",
     "text": [
      "Movie id:3113498\n"
     ]
    },
    {
     "name": "stderr",
     "output_type": "stream",
     "text": [
      "retrieving reviews: 100%|██████████| 61/61 [01:05<00:00,  1.08s/review]\n"
     ]
    },
    {
     "name": "stdout",
     "output_type": "stream",
     "text": [
      "Movie id:3377798\n"
     ]
    },
    {
     "name": "stderr",
     "output_type": "stream",
     "text": [
      "retrieving reviews: 100%|██████████| 36/36 [00:38<00:00,  1.07s/review]\n"
     ]
    },
    {
     "name": "stdout",
     "output_type": "stream",
     "text": [
      "Movie id:3530690\n"
     ]
    },
    {
     "name": "stderr",
     "output_type": "stream",
     "text": [
      "retrieving reviews: 100%|██████████| 27/27 [00:29<00:00,  1.08s/review]\n"
     ]
    },
    {
     "name": "stdout",
     "output_type": "stream",
     "text": [
      "Movie id:4261326\n"
     ]
    },
    {
     "name": "stderr",
     "output_type": "stream",
     "text": [
      "retrieving reviews: 100%|██████████| 47/47 [00:53<00:00,  1.13s/review]\n"
     ]
    },
    {
     "name": "stdout",
     "output_type": "stream",
     "text": [
      "Movie id:4290974\n"
     ]
    },
    {
     "name": "stderr",
     "output_type": "stream",
     "text": [
      "retrieving reviews: 100%|██████████| 87/87 [01:32<00:00,  1.06s/review]\n"
     ]
    },
    {
     "name": "stdout",
     "output_type": "stream",
     "text": [
      "Movie id:4469518\n"
     ]
    },
    {
     "name": "stderr",
     "output_type": "stream",
     "text": [
      "retrieving reviews: 100%|██████████| 42/42 [00:44<00:00,  1.05s/review]\n"
     ]
    },
    {
     "name": "stdout",
     "output_type": "stream",
     "text": [
      "Movie id:5011848\n"
     ]
    },
    {
     "name": "stderr",
     "output_type": "stream",
     "text": [
      "retrieving reviews: 100%|██████████| 42/42 [00:45<00:00,  1.09s/review]\n"
     ]
    },
    {
     "name": "stdout",
     "output_type": "stream",
     "text": [
      "Movie id:5087564\n"
     ]
    },
    {
     "name": "stderr",
     "output_type": "stream",
     "text": [
      "retrieving reviews: 100%|██████████| 27/27 [00:28<00:00,  1.07s/review]\n"
     ]
    },
    {
     "name": "stdout",
     "output_type": "stream",
     "text": [
      "Movie id:5131914\n"
     ]
    },
    {
     "name": "stderr",
     "output_type": "stream",
     "text": [
      "retrieving reviews: 100%|██████████| 27/27 [00:29<00:00,  1.09s/review]\n"
     ]
    },
    {
     "name": "stdout",
     "output_type": "stream",
     "text": [
      "Movie id:6017594\n"
     ]
    },
    {
     "name": "stderr",
     "output_type": "stream",
     "text": [
      "retrieving reviews: 100%|██████████| 49/49 [00:51<00:00,  1.06s/review]\n"
     ]
    },
    {
     "name": "stdout",
     "output_type": "stream",
     "text": [
      "Movie id:6179746\n"
     ]
    },
    {
     "name": "stderr",
     "output_type": "stream",
     "text": [
      "retrieving reviews: 100%|██████████| 98/98 [01:44<00:00,  1.06s/review]\n"
     ]
    },
    {
     "name": "stdout",
     "output_type": "stream",
     "text": [
      "Movie id:6409856\n"
     ]
    },
    {
     "name": "stderr",
     "output_type": "stream",
     "text": [
      "retrieving reviews: 100%|██████████| 47/47 [00:51<00:00,  1.09s/review]\n"
     ]
    },
    {
     "name": "stdout",
     "output_type": "stream",
     "text": [
      "Movie id:6628322\n"
     ]
    },
    {
     "name": "stderr",
     "output_type": "stream",
     "text": [
      "retrieving reviews: 100%|██████████| 78/78 [01:24<00:00,  1.09s/review]\n"
     ]
    },
    {
     "name": "stdout",
     "output_type": "stream",
     "text": [
      "Movie id:6802040\n"
     ]
    },
    {
     "name": "stderr",
     "output_type": "stream",
     "text": [
      "retrieving reviews: 100%|██████████| 33/33 [00:36<00:00,  1.10s/review]\n"
     ]
    },
    {
     "name": "stdout",
     "output_type": "stream",
     "text": [
      "Movie id:7314630\n"
     ]
    },
    {
     "name": "stderr",
     "output_type": "stream",
     "text": [
      "retrieving reviews: 100%|██████████| 33/33 [00:36<00:00,  1.11s/review]\n"
     ]
    },
    {
     "name": "stdout",
     "output_type": "stream",
     "text": [
      "Movie id:7498092\n"
     ]
    },
    {
     "name": "stderr",
     "output_type": "stream",
     "text": [
      "retrieving reviews: 100%|██████████| 36/36 [00:38<00:00,  1.07s/review]\n"
     ]
    },
    {
     "name": "stdout",
     "output_type": "stream",
     "text": [
      "Movie id:7740204\n"
     ]
    },
    {
     "name": "stderr",
     "output_type": "stream",
     "text": [
      "retrieving reviews: 100%|██████████| 35/35 [00:41<00:00,  1.20s/review]\n"
     ]
    },
    {
     "name": "stdout",
     "output_type": "stream",
     "text": [
      "Movie id:8041916\n"
     ]
    },
    {
     "name": "stderr",
     "output_type": "stream",
     "text": [
      "retrieving reviews: 100%|██████████| 53/53 [01:02<00:00,  1.17s/review]\n"
     ]
    },
    {
     "name": "stdout",
     "output_type": "stream",
     "text": [
      "Movie id:8064418\n"
     ]
    },
    {
     "name": "stderr",
     "output_type": "stream",
     "text": [
      "retrieving reviews: 100%|██████████| 95/95 [01:51<00:00,  1.17s/review]\n"
     ]
    },
    {
     "name": "stdout",
     "output_type": "stream",
     "text": [
      "Movie id:8305690\n"
     ]
    },
    {
     "name": "stderr",
     "output_type": "stream",
     "text": [
      "retrieving reviews: 100%|██████████| 28/28 [00:32<00:00,  1.16s/review]\n"
     ]
    },
    {
     "name": "stdout",
     "output_type": "stream",
     "text": [
      "Movie id:9465600\n"
     ]
    },
    {
     "name": "stderr",
     "output_type": "stream",
     "text": [
      "retrieving reviews: 100%|██████████| 217/217 [04:14<00:00,  1.17s/review]\n"
     ]
    },
    {
     "name": "stdout",
     "output_type": "stream",
     "text": [
      "Movie id:9753990\n"
     ]
    },
    {
     "name": "stderr",
     "output_type": "stream",
     "text": [
      "retrieving reviews: 100%|██████████| 35/35 [00:42<00:00,  1.22s/review]\n"
     ]
    },
    {
     "name": "stdout",
     "output_type": "stream",
     "text": [
      "Movie id:9812258\n"
     ]
    },
    {
     "name": "stderr",
     "output_type": "stream",
     "text": [
      "retrieving reviews: 100%|██████████| 32/32 [00:37<00:00,  1.16s/review]"
     ]
    },
    {
     "name": "stdout",
     "output_type": "stream",
     "text": [
      "   Review_ID   Movie_ID        Movie_Title  Rating       Review_Date  \\\n",
      "0    9958904  tt0046213  Project Moon Base    10.0    17 August 2024   \n",
      "1    3433093  tt0046213  Project Moon Base     NaN     17 March 2016   \n",
      "2    7294962  tt0046213  Project Moon Base     8.0  1 September 2021   \n",
      "3    4182974  tt0046213  Project Moon Base     2.0       29 May 2018   \n",
      "4    9777141  tt0046213  Project Moon Base     6.0        7 May 2024   \n",
      "..       ...        ...                ...     ...               ...   \n",
      "27   5994043  tt9812258              G-Loc     3.0    14 August 2020   \n",
      "28   5982124  tt9812258              G-Loc     7.0    11 August 2020   \n",
      "29   6064971  tt9812258              G-Loc     3.0  5 September 2020   \n",
      "30   6243718  tt9812258              G-Loc     1.0   7 November 2020   \n",
      "31   5982834  tt9812258              G-Loc     4.0    11 August 2020   \n",
      "\n",
      "                                         Review_Title  \\\n",
      "0   Donna Martell is 110° in the shade on earth or...   \n",
      "1   Large dose of 50's Sci-Fi with their Charming ...   \n",
      "2   HIGHLY UNDERRATED...ROBERT HEINLEIN INFLUENCE ...   \n",
      "3   If this looked that bad on my small screen, I ...   \n",
      "4                       PROJECT MOON-PIE IN YOUR EYE!   \n",
      "..                                                ...   \n",
      "27  why? why does the stick man hologram have a fa...   \n",
      "28                              Good story Low budget   \n",
      "29                                           Horrible   \n",
      "30             Felt like it was a bad 70s UK TV Movie   \n",
      "31                                       Budget SC FI   \n",
      "\n",
      "                                          Review_Text  Helpful_Votes  \\\n",
      "0   Donna Martell is 110° in the shade on earth or...              2   \n",
      "1   *Spoiler/plot- Project Moon Base, 1953. Among ...              2   \n",
      "2   When Viewed Today this Surprising Movie Unsurp...              5   \n",
      "3   I got to see this in a double bill with \"Desti...              1   \n",
      "4   Ahhhh the wonderful 1950 SCI FI films.! Yes th...              1   \n",
      "..                                                ...            ...   \n",
      "27  ..... does not bode well for the remaining hou...              8   \n",
      "28  The script is solid, the CGI decent, acting is...             20   \n",
      "29  Was looking for a good space movie...the first...              6   \n",
      "30  I got bored. I had to fast forward to the end,...              3   \n",
      "31  Fair acting, Cheap sets. Could have been a dec...             11   \n",
      "\n",
      "    Total_Votes  \n",
      "0             3  \n",
      "1             4  \n",
      "2             5  \n",
      "3             6  \n",
      "4             2  \n",
      "..          ...  \n",
      "27           21  \n",
      "28           24  \n",
      "29           14  \n",
      "30           10  \n",
      "31           18  \n",
      "\n",
      "[4222 rows x 9 columns]\n"
     ]
    },
    {
     "name": "stderr",
     "output_type": "stream",
     "text": [
      "\n"
     ]
    }
   ],
   "source": [
    "import pandas as pd\n",
    "\n",
    "# Start with an empty DataFrame\n",
    "scifi_reviews_df = pd.DataFrame()\n",
    "\n",
    "\n",
    "# Iteratively add each smaller DataFrame\n",
    "for movieid, reviewids in valid_scifi_review_ids.items():\n",
    "    print('Movie id:' + movieid)\n",
    "    temp_df = retriever.get_reviews_dataframe_from_set_of_review_ids(reviewids)\n",
    "    scifi_reviews_df = pd.concat([scifi_reviews_df,temp_df], ignore_index=False)\n",
    "\n",
    "print(scifi_reviews_df)\n"
   ]
  },
  {
   "cell_type": "markdown",
   "metadata": {},
   "source": [
    "Save sci fi reviews dataframe for later use"
   ]
  },
  {
   "cell_type": "code",
   "execution_count": 10,
   "metadata": {},
   "outputs": [
    {
     "name": "stdout",
     "output_type": "stream",
     "text": [
      "Data stored in: C:/Users/aless/Desktop/DNLP_Project/scifi_reviews_df.pkl\n"
     ]
    }
   ],
   "source": [
    "import pickle\n",
    "\n",
    "# File path\n",
    "file_path = \"C:/Users/aless/Desktop/DNLP_Project/scifi_reviews_df.pkl\"\n",
    "\n",
    "# Save data\n",
    "with open(file_path, \"wb\") as file:\n",
    "    pickle.dump((scifi_reviews_df), file)\n",
    "\n",
    "print(f\"Data stored in: {file_path}\")\n"
   ]
  },
  {
   "cell_type": "markdown",
   "metadata": {},
   "source": [
    "Retrieve sci fi reviews dataset from a file"
   ]
  },
  {
   "cell_type": "code",
   "execution_count": 11,
   "metadata": {},
   "outputs": [
    {
     "name": "stdout",
     "output_type": "stream",
     "text": [
      "Loaded dataset:    Review_ID   Movie_ID        Movie_Title  Rating       Review_Date  \\\n",
      "0    9958904  tt0046213  Project Moon Base    10.0    17 August 2024   \n",
      "1    3433093  tt0046213  Project Moon Base     NaN     17 March 2016   \n",
      "2    7294962  tt0046213  Project Moon Base     8.0  1 September 2021   \n",
      "3    4182974  tt0046213  Project Moon Base     2.0       29 May 2018   \n",
      "4    9777141  tt0046213  Project Moon Base     6.0        7 May 2024   \n",
      "..       ...        ...                ...     ...               ...   \n",
      "27   5994043  tt9812258              G-Loc     3.0    14 August 2020   \n",
      "28   5982124  tt9812258              G-Loc     7.0    11 August 2020   \n",
      "29   6064971  tt9812258              G-Loc     3.0  5 September 2020   \n",
      "30   6243718  tt9812258              G-Loc     1.0   7 November 2020   \n",
      "31   5982834  tt9812258              G-Loc     4.0    11 August 2020   \n",
      "\n",
      "                                         Review_Title  \\\n",
      "0   Donna Martell is 110° in the shade on earth or...   \n",
      "1   Large dose of 50's Sci-Fi with their Charming ...   \n",
      "2   HIGHLY UNDERRATED...ROBERT HEINLEIN INFLUENCE ...   \n",
      "3   If this looked that bad on my small screen, I ...   \n",
      "4                       PROJECT MOON-PIE IN YOUR EYE!   \n",
      "..                                                ...   \n",
      "27  why? why does the stick man hologram have a fa...   \n",
      "28                              Good story Low budget   \n",
      "29                                           Horrible   \n",
      "30             Felt like it was a bad 70s UK TV Movie   \n",
      "31                                       Budget SC FI   \n",
      "\n",
      "                                          Review_Text  Helpful_Votes  \\\n",
      "0   Donna Martell is 110° in the shade on earth or...              2   \n",
      "1   *Spoiler/plot- Project Moon Base, 1953. Among ...              2   \n",
      "2   When Viewed Today this Surprising Movie Unsurp...              5   \n",
      "3   I got to see this in a double bill with \"Desti...              1   \n",
      "4   Ahhhh the wonderful 1950 SCI FI films.! Yes th...              1   \n",
      "..                                                ...            ...   \n",
      "27  ..... does not bode well for the remaining hou...              8   \n",
      "28  The script is solid, the CGI decent, acting is...             20   \n",
      "29  Was looking for a good space movie...the first...              6   \n",
      "30  I got bored. I had to fast forward to the end,...              3   \n",
      "31  Fair acting, Cheap sets. Could have been a dec...             11   \n",
      "\n",
      "    Total_Votes  \n",
      "0             3  \n",
      "1             4  \n",
      "2             5  \n",
      "3             6  \n",
      "4             2  \n",
      "..          ...  \n",
      "27           21  \n",
      "28           24  \n",
      "29           14  \n",
      "30           10  \n",
      "31           18  \n",
      "\n",
      "[4222 rows x 9 columns]\n"
     ]
    }
   ],
   "source": [
    "import pickle\n",
    "\n",
    "# File path\n",
    "file_path = \"C:/Users/aless/Desktop/DNLP_Project/scifi_reviews_df.pkl\"\n",
    "\n",
    "with open(file_path, 'rb') as file:\n",
    "    scifi_reviews_df = pickle.load(file)\n",
    "\n",
    "print(\"Loaded dataset:\", scifi_reviews_df)"
   ]
  },
  {
   "cell_type": "markdown",
   "metadata": {},
   "source": [
    "Quick snippet to access a specific review from its ID "
   ]
  },
  {
   "cell_type": "code",
   "execution_count": 12,
   "metadata": {},
   "outputs": [
    {
     "name": "stdout",
     "output_type": "stream",
     "text": [
      "I got bored. I had to fast forward to the end, just to see what happens.\n",
      "I can forgive low budgets, but I cannot forgive poor writing.\n",
      "First, the handheld AI stickman, was grating, who would create an AI with attitude? If Alexa behaved like that it would be in the bin. But I suppose it is edgy and exciting....(sarcasm)\n",
      "Second, The 30 minutes I watched consisted of meeting a sole survivor woman on a spaceship, whose only role was to be angry and fight badly. I didn't have enough information to care about her character. As with many badly written scripts this could have been handled with some basic dialogue.. \"Why are you on my spaceship?\"... not \"oh, i'm going to fight you now for no reason...\"\n",
      "At no point did any of the characters behave like normal adults, more like spoiled children who have just finished acting school.\n",
      "The drawn out fight scenes had no impact and felt like I was watching an episode on Space 1999. Ie not convincing\n",
      "Even after forwarding to the last 5 minutes, the finale did not make me care to go back and watch the rest.\n",
      "I had to purge this from my memory by writing a review followed by watching a sci-fi movie with a good script.\n"
     ]
    }
   ],
   "source": [
    "# To access a specific review use the Review_ID in combination with the loc method\n",
    "\n",
    "specific_text = scifi_reviews_df.loc[scifi_reviews_df['Review_ID'] == '6243718', 'Review_Text'].values[0]\n",
    "print(specific_text)"
   ]
  }
 ],
 "metadata": {
  "kernelspec": {
   "display_name": "Python 3",
   "language": "python",
   "name": "python3"
  },
  "language_info": {
   "codemirror_mode": {
    "name": "ipython",
    "version": 3
   },
   "file_extension": ".py",
   "mimetype": "text/x-python",
   "name": "python",
   "nbconvert_exporter": "python",
   "pygments_lexer": "ipython3",
   "version": "3.12.8"
  }
 },
 "nbformat": 4,
 "nbformat_minor": 2
}
