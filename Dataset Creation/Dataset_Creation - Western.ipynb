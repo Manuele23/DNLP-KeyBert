{
 "cells": [
  {
   "cell_type": "markdown",
   "metadata": {},
   "source": [
    "# IMDb Data Processing and Analysis for Movie Keyword Modeling"
   ]
  },
  {
   "cell_type": "markdown",
   "metadata": {},
   "source": [
    "## Retrieve Reviews"
   ]
  },
  {
   "cell_type": "code",
   "execution_count": 1,
   "metadata": {},
   "outputs": [
    {
     "name": "stdout",
     "output_type": "stream",
     "text": [
      "Defaulting to user installation because normal site-packages is not writeable\n",
      "Requirement already satisfied: selenium in c:\\users\\aless\\appdata\\local\\packages\\pythonsoftwarefoundation.python.3.12_qbz5n2kfra8p0\\localcache\\local-packages\\python312\\site-packages (4.27.1)\n",
      "Requirement already satisfied: urllib3<3,>=1.26 in c:\\users\\aless\\appdata\\local\\packages\\pythonsoftwarefoundation.python.3.12_qbz5n2kfra8p0\\localcache\\local-packages\\python312\\site-packages (from urllib3[socks]<3,>=1.26->selenium) (2.2.3)\n",
      "Requirement already satisfied: trio~=0.17 in c:\\users\\aless\\appdata\\local\\packages\\pythonsoftwarefoundation.python.3.12_qbz5n2kfra8p0\\localcache\\local-packages\\python312\\site-packages (from selenium) (0.27.0)\n",
      "Requirement already satisfied: trio-websocket~=0.9 in c:\\users\\aless\\appdata\\local\\packages\\pythonsoftwarefoundation.python.3.12_qbz5n2kfra8p0\\localcache\\local-packages\\python312\\site-packages (from selenium) (0.11.1)\n",
      "Requirement already satisfied: certifi>=2021.10.8 in c:\\users\\aless\\appdata\\local\\packages\\pythonsoftwarefoundation.python.3.12_qbz5n2kfra8p0\\localcache\\local-packages\\python312\\site-packages (from selenium) (2024.8.30)\n",
      "Requirement already satisfied: typing_extensions~=4.9 in c:\\users\\aless\\appdata\\local\\packages\\pythonsoftwarefoundation.python.3.12_qbz5n2kfra8p0\\localcache\\local-packages\\python312\\site-packages (from selenium) (4.12.2)\n",
      "Requirement already satisfied: websocket-client~=1.8 in c:\\users\\aless\\appdata\\local\\packages\\pythonsoftwarefoundation.python.3.12_qbz5n2kfra8p0\\localcache\\local-packages\\python312\\site-packages (from selenium) (1.8.0)\n",
      "Requirement already satisfied: attrs>=23.2.0 in c:\\users\\aless\\appdata\\local\\packages\\pythonsoftwarefoundation.python.3.12_qbz5n2kfra8p0\\localcache\\local-packages\\python312\\site-packages (from trio~=0.17->selenium) (24.3.0)\n",
      "Requirement already satisfied: sortedcontainers in c:\\users\\aless\\appdata\\local\\packages\\pythonsoftwarefoundation.python.3.12_qbz5n2kfra8p0\\localcache\\local-packages\\python312\\site-packages (from trio~=0.17->selenium) (2.4.0)\n",
      "Requirement already satisfied: idna in c:\\users\\aless\\appdata\\local\\packages\\pythonsoftwarefoundation.python.3.12_qbz5n2kfra8p0\\localcache\\local-packages\\python312\\site-packages (from trio~=0.17->selenium) (3.10)\n",
      "Requirement already satisfied: outcome in c:\\users\\aless\\appdata\\local\\packages\\pythonsoftwarefoundation.python.3.12_qbz5n2kfra8p0\\localcache\\local-packages\\python312\\site-packages (from trio~=0.17->selenium) (1.3.0.post0)\n",
      "Requirement already satisfied: sniffio>=1.3.0 in c:\\users\\aless\\appdata\\local\\packages\\pythonsoftwarefoundation.python.3.12_qbz5n2kfra8p0\\localcache\\local-packages\\python312\\site-packages (from trio~=0.17->selenium) (1.3.1)\n",
      "Requirement already satisfied: cffi>=1.14 in c:\\users\\aless\\appdata\\local\\packages\\pythonsoftwarefoundation.python.3.12_qbz5n2kfra8p0\\localcache\\local-packages\\python312\\site-packages (from trio~=0.17->selenium) (1.17.1)\n",
      "Requirement already satisfied: wsproto>=0.14 in c:\\users\\aless\\appdata\\local\\packages\\pythonsoftwarefoundation.python.3.12_qbz5n2kfra8p0\\localcache\\local-packages\\python312\\site-packages (from trio-websocket~=0.9->selenium) (1.2.0)\n",
      "Requirement already satisfied: pysocks!=1.5.7,<2.0,>=1.5.6 in c:\\users\\aless\\appdata\\local\\packages\\pythonsoftwarefoundation.python.3.12_qbz5n2kfra8p0\\localcache\\local-packages\\python312\\site-packages (from urllib3[socks]<3,>=1.26->selenium) (1.7.1)\n",
      "Requirement already satisfied: pycparser in c:\\users\\aless\\appdata\\local\\packages\\pythonsoftwarefoundation.python.3.12_qbz5n2kfra8p0\\localcache\\local-packages\\python312\\site-packages (from cffi>=1.14->trio~=0.17->selenium) (2.22)\n",
      "Requirement already satisfied: h11<1,>=0.9.0 in c:\\users\\aless\\appdata\\local\\packages\\pythonsoftwarefoundation.python.3.12_qbz5n2kfra8p0\\localcache\\local-packages\\python312\\site-packages (from wsproto>=0.14->trio-websocket~=0.9->selenium) (0.14.0)\n",
      "Note: you may need to restart the kernel to use updated packages.\n"
     ]
    }
   ],
   "source": [
    "%pip install selenium"
   ]
  },
  {
   "cell_type": "code",
   "execution_count": 6,
   "metadata": {},
   "outputs": [],
   "source": [
    "from Retriever import Retriever\n"
   ]
  },
  {
   "cell_type": "code",
   "execution_count": 8,
   "metadata": {},
   "outputs": [
    {
     "name": "stdout",
     "output_type": "stream",
     "text": [
      "From the movie 0063934 were retrieved the following reviews:\n",
      "{'9507178', '0105667', '3645997', '1440145', '4169435', '1234584', '1635615', '0105669', '0105666', '0105665', '0105658', '3547738', '1560754', '0105662', '7615159', '0941272', '0105664', '0105659', '1093940', '0105661', '1890405', '0105663', '1780338', '0974595', '1526197', '1234894', '0105668', '0105660', '1656497', '6996540', '3212417', '0951072', '1315542'}\n"
     ]
    },
    {
     "name": "stderr",
     "output_type": "stream",
     "text": [
      "retrieving reviews: 100%|██████████| 33/33 [00:40<00:00,  1.22s/review]\n"
     ]
    },
    {
     "data": {
      "text/html": [
       "<div>\n",
       "<style scoped>\n",
       "    .dataframe tbody tr th:only-of-type {\n",
       "        vertical-align: middle;\n",
       "    }\n",
       "\n",
       "    .dataframe tbody tr th {\n",
       "        vertical-align: top;\n",
       "    }\n",
       "\n",
       "    .dataframe thead th {\n",
       "        text-align: right;\n",
       "    }\n",
       "</style>\n",
       "<table border=\"1\" class=\"dataframe\">\n",
       "  <thead>\n",
       "    <tr style=\"text-align: right;\">\n",
       "      <th></th>\n",
       "      <th>Review_ID</th>\n",
       "      <th>Movie_ID</th>\n",
       "      <th>Movie_Title</th>\n",
       "      <th>Rating</th>\n",
       "      <th>Review_Date</th>\n",
       "      <th>Review_Title</th>\n",
       "      <th>Review_Text</th>\n",
       "      <th>Helpful_Votes</th>\n",
       "      <th>Total_Votes</th>\n",
       "    </tr>\n",
       "  </thead>\n",
       "  <tbody>\n",
       "    <tr>\n",
       "      <th>0</th>\n",
       "      <td>9507178</td>\n",
       "      <td>tt0063934</td>\n",
       "      <td>Il fantastico mondo di Mr. Monroe</td>\n",
       "      <td>10.0</td>\n",
       "      <td>21 December 2023</td>\n",
       "      <td>Great Show!</td>\n",
       "      <td>I was 9, almost 10, when My World And Welcome ...</td>\n",
       "      <td>0</td>\n",
       "      <td>0</td>\n",
       "    </tr>\n",
       "    <tr>\n",
       "      <th>1</th>\n",
       "      <td>0105667</td>\n",
       "      <td>tt0063934</td>\n",
       "      <td>Il fantastico mondo di Mr. Monroe</td>\n",
       "      <td>NaN</td>\n",
       "      <td>14 January 2004</td>\n",
       "      <td>A remarkable series!</td>\n",
       "      <td>Shown on NBC in 1969-70 and and re-run on CBS ...</td>\n",
       "      <td>22</td>\n",
       "      <td>22</td>\n",
       "    </tr>\n",
       "    <tr>\n",
       "      <th>2</th>\n",
       "      <td>3645997</td>\n",
       "      <td>tt0063934</td>\n",
       "      <td>Il fantastico mondo di Mr. Monroe</td>\n",
       "      <td>10.0</td>\n",
       "      <td>22 February 2017</td>\n",
       "      <td>My favorite show of all time!</td>\n",
       "      <td>I loved this show. we recorded every episode o...</td>\n",
       "      <td>5</td>\n",
       "      <td>5</td>\n",
       "    </tr>\n",
       "    <tr>\n",
       "      <th>3</th>\n",
       "      <td>1440145</td>\n",
       "      <td>tt0063934</td>\n",
       "      <td>Il fantastico mondo di Mr. Monroe</td>\n",
       "      <td>9.0</td>\n",
       "      <td>5 August 2006</td>\n",
       "      <td>This show was great</td>\n",
       "      <td>Although I was six years old when this show ca...</td>\n",
       "      <td>9</td>\n",
       "      <td>9</td>\n",
       "    </tr>\n",
       "    <tr>\n",
       "      <th>4</th>\n",
       "      <td>4169435</td>\n",
       "      <td>tt0063934</td>\n",
       "      <td>Il fantastico mondo di Mr. Monroe</td>\n",
       "      <td>8.0</td>\n",
       "      <td>18 May 2018</td>\n",
       "      <td>The Life of an Oft-Frustrated Magazine Cartoonist</td>\n",
       "      <td>\"My World and Welcome to It\" was created for t...</td>\n",
       "      <td>6</td>\n",
       "      <td>6</td>\n",
       "    </tr>\n",
       "    <tr>\n",
       "      <th>5</th>\n",
       "      <td>1234584</td>\n",
       "      <td>tt0063934</td>\n",
       "      <td>Il fantastico mondo di Mr. Monroe</td>\n",
       "      <td>NaN</td>\n",
       "      <td>9 December 2005</td>\n",
       "      <td>A Fitting Tribute to James Thurber and William...</td>\n",
       "      <td>For some reason certain shows never last long ...</td>\n",
       "      <td>38</td>\n",
       "      <td>38</td>\n",
       "    </tr>\n",
       "    <tr>\n",
       "      <th>6</th>\n",
       "      <td>1635615</td>\n",
       "      <td>tt0063934</td>\n",
       "      <td>Il fantastico mondo di Mr. Monroe</td>\n",
       "      <td>10.0</td>\n",
       "      <td>11 April 2007</td>\n",
       "      <td>My world, where are you?</td>\n",
       "      <td>After scrounging the Web for several years, fi...</td>\n",
       "      <td>12</td>\n",
       "      <td>12</td>\n",
       "    </tr>\n",
       "    <tr>\n",
       "      <th>7</th>\n",
       "      <td>0105669</td>\n",
       "      <td>tt0063934</td>\n",
       "      <td>Il fantastico mondo di Mr. Monroe</td>\n",
       "      <td>NaN</td>\n",
       "      <td>1 June 2004</td>\n",
       "      <td>Wonderful show</td>\n",
       "      <td>I'm so excited that I have found something abo...</td>\n",
       "      <td>11</td>\n",
       "      <td>11</td>\n",
       "    </tr>\n",
       "    <tr>\n",
       "      <th>8</th>\n",
       "      <td>0105666</td>\n",
       "      <td>tt0063934</td>\n",
       "      <td>Il fantastico mondo di Mr. Monroe</td>\n",
       "      <td>NaN</td>\n",
       "      <td>5 November 2003</td>\n",
       "      <td>Wow, so glad others remember this delightful show</td>\n",
       "      <td>The scene where his wife falls apart has stuck...</td>\n",
       "      <td>9</td>\n",
       "      <td>9</td>\n",
       "    </tr>\n",
       "    <tr>\n",
       "      <th>9</th>\n",
       "      <td>0105665</td>\n",
       "      <td>tt0063934</td>\n",
       "      <td>Il fantastico mondo di Mr. Monroe</td>\n",
       "      <td>NaN</td>\n",
       "      <td>19 August 2002</td>\n",
       "      <td>Fond Memory Of Clever, Witty Show</td>\n",
       "      <td>So glad to see that this show made such an imp...</td>\n",
       "      <td>22</td>\n",
       "      <td>24</td>\n",
       "    </tr>\n",
       "    <tr>\n",
       "      <th>10</th>\n",
       "      <td>0105658</td>\n",
       "      <td>tt0063934</td>\n",
       "      <td>Il fantastico mondo di Mr. Monroe</td>\n",
       "      <td>NaN</td>\n",
       "      <td>24 June 1999</td>\n",
       "      <td>So far ahead of its time.</td>\n",
       "      <td>Echoing the sentiments expressed by Todd Leone...</td>\n",
       "      <td>12</td>\n",
       "      <td>12</td>\n",
       "    </tr>\n",
       "    <tr>\n",
       "      <th>11</th>\n",
       "      <td>3547738</td>\n",
       "      <td>tt0063934</td>\n",
       "      <td>Il fantastico mondo di Mr. Monroe</td>\n",
       "      <td>10.0</td>\n",
       "      <td>20 September 2016</td>\n",
       "      <td>10/10 So good it can't ever be seen again</td>\n",
       "      <td>One of my earliest and happiest memories of te...</td>\n",
       "      <td>7</td>\n",
       "      <td>7</td>\n",
       "    </tr>\n",
       "    <tr>\n",
       "      <th>12</th>\n",
       "      <td>1560754</td>\n",
       "      <td>tt0063934</td>\n",
       "      <td>Il fantastico mondo di Mr. Monroe</td>\n",
       "      <td>10.0</td>\n",
       "      <td>1 January 2007</td>\n",
       "      <td>Before it's time</td>\n",
       "      <td>I was 11 or 12 when it aired. I remember enjoy...</td>\n",
       "      <td>8</td>\n",
       "      <td>8</td>\n",
       "    </tr>\n",
       "    <tr>\n",
       "      <th>13</th>\n",
       "      <td>0105662</td>\n",
       "      <td>tt0063934</td>\n",
       "      <td>Il fantastico mondo di Mr. Monroe</td>\n",
       "      <td>NaN</td>\n",
       "      <td>29 July 2000</td>\n",
       "      <td>A great show, and a plan of action.</td>\n",
       "      <td>Usually I don't put up comments when somebody ...</td>\n",
       "      <td>23</td>\n",
       "      <td>24</td>\n",
       "    </tr>\n",
       "    <tr>\n",
       "      <th>14</th>\n",
       "      <td>7615159</td>\n",
       "      <td>tt0063934</td>\n",
       "      <td>Il fantastico mondo di Mr. Monroe</td>\n",
       "      <td>8.0</td>\n",
       "      <td>4 December 2021</td>\n",
       "      <td>cute, understated humor, loved it</td>\n",
       "      <td>I remember this show very well, though I was o...</td>\n",
       "      <td>2</td>\n",
       "      <td>2</td>\n",
       "    </tr>\n",
       "    <tr>\n",
       "      <th>15</th>\n",
       "      <td>0941272</td>\n",
       "      <td>tt0063934</td>\n",
       "      <td>Il fantastico mondo di Mr. Monroe</td>\n",
       "      <td>NaN</td>\n",
       "      <td>5 October 2004</td>\n",
       "      <td>unique, enjoyable but short lived sitcom</td>\n",
       "      <td>I agree with the other comments concerning thi...</td>\n",
       "      <td>9</td>\n",
       "      <td>9</td>\n",
       "    </tr>\n",
       "    <tr>\n",
       "      <th>16</th>\n",
       "      <td>0105664</td>\n",
       "      <td>tt0063934</td>\n",
       "      <td>Il fantastico mondo di Mr. Monroe</td>\n",
       "      <td>NaN</td>\n",
       "      <td>26 March 2002</td>\n",
       "      <td>Interesting the things one remembers...</td>\n",
       "      <td>I, like Joe, was very young when this show was...</td>\n",
       "      <td>7</td>\n",
       "      <td>7</td>\n",
       "    </tr>\n",
       "    <tr>\n",
       "      <th>17</th>\n",
       "      <td>0105659</td>\n",
       "      <td>tt0063934</td>\n",
       "      <td>Il fantastico mondo di Mr. Monroe</td>\n",
       "      <td>NaN</td>\n",
       "      <td>27 July 1999</td>\n",
       "      <td>One of the Best Things on Television</td>\n",
       "      <td>Re: the other comments, and ditto them. This w...</td>\n",
       "      <td>13</td>\n",
       "      <td>13</td>\n",
       "    </tr>\n",
       "    <tr>\n",
       "      <th>18</th>\n",
       "      <td>1093940</td>\n",
       "      <td>tt0063934</td>\n",
       "      <td>Il fantastico mondo di Mr. Monroe</td>\n",
       "      <td>NaN</td>\n",
       "      <td>3 June 2005</td>\n",
       "      <td>This show</td>\n",
       "      <td>I was only 3 when I watched this according to ...</td>\n",
       "      <td>29</td>\n",
       "      <td>29</td>\n",
       "    </tr>\n",
       "    <tr>\n",
       "      <th>19</th>\n",
       "      <td>0105661</td>\n",
       "      <td>tt0063934</td>\n",
       "      <td>Il fantastico mondo di Mr. Monroe</td>\n",
       "      <td>NaN</td>\n",
       "      <td>27 October 1999</td>\n",
       "      <td>Maybe the best show ever chanced too soon--</td>\n",
       "      <td>This show was a pure joy from the first moment...</td>\n",
       "      <td>23</td>\n",
       "      <td>23</td>\n",
       "    </tr>\n",
       "    <tr>\n",
       "      <th>20</th>\n",
       "      <td>1890405</td>\n",
       "      <td>tt0063934</td>\n",
       "      <td>Il fantastico mondo di Mr. Monroe</td>\n",
       "      <td>10.0</td>\n",
       "      <td>11 June 2008</td>\n",
       "      <td>Apparently Amazon does read our reviews ...</td>\n",
       "      <td>My World and Welcome to it was a cult classic ...</td>\n",
       "      <td>10</td>\n",
       "      <td>11</td>\n",
       "    </tr>\n",
       "    <tr>\n",
       "      <th>21</th>\n",
       "      <td>0105663</td>\n",
       "      <td>tt0063934</td>\n",
       "      <td>Il fantastico mondo di Mr. Monroe</td>\n",
       "      <td>10.0</td>\n",
       "      <td>5 May 2001</td>\n",
       "      <td>My favorite comedy show of all time</td>\n",
       "      <td>I was only 11 when this show appeared on TV, b...</td>\n",
       "      <td>11</td>\n",
       "      <td>14</td>\n",
       "    </tr>\n",
       "    <tr>\n",
       "      <th>22</th>\n",
       "      <td>1780338</td>\n",
       "      <td>tt0063934</td>\n",
       "      <td>Il fantastico mondo di Mr. Monroe</td>\n",
       "      <td>10.0</td>\n",
       "      <td>14 December 2007</td>\n",
       "      <td>One of the very best comedies on TV ---- EVER</td>\n",
       "      <td>The average American is too friggin' stupid to...</td>\n",
       "      <td>5</td>\n",
       "      <td>9</td>\n",
       "    </tr>\n",
       "    <tr>\n",
       "      <th>23</th>\n",
       "      <td>0974595</td>\n",
       "      <td>tt0063934</td>\n",
       "      <td>Il fantastico mondo di Mr. Monroe</td>\n",
       "      <td>NaN</td>\n",
       "      <td>8 December 2004</td>\n",
       "      <td>Happy Birthday James Thurber</td>\n",
       "      <td>Today is James Thurber's birthday.December 8.H...</td>\n",
       "      <td>6</td>\n",
       "      <td>8</td>\n",
       "    </tr>\n",
       "    <tr>\n",
       "      <th>24</th>\n",
       "      <td>1526197</td>\n",
       "      <td>tt0063934</td>\n",
       "      <td>Il fantastico mondo di Mr. Monroe</td>\n",
       "      <td>10.0</td>\n",
       "      <td>20 November 2006</td>\n",
       "      <td>One more of us...</td>\n",
       "      <td>Well, I've read all of the comments posted, an...</td>\n",
       "      <td>11</td>\n",
       "      <td>11</td>\n",
       "    </tr>\n",
       "    <tr>\n",
       "      <th>25</th>\n",
       "      <td>1234894</td>\n",
       "      <td>tt0063934</td>\n",
       "      <td>Il fantastico mondo di Mr. Monroe</td>\n",
       "      <td>NaN</td>\n",
       "      <td>10 December 2005</td>\n",
       "      <td>This show was about Thurber</td>\n",
       "      <td>\"My World and Welcome to It\" was the title of ...</td>\n",
       "      <td>9</td>\n",
       "      <td>9</td>\n",
       "    </tr>\n",
       "    <tr>\n",
       "      <th>26</th>\n",
       "      <td>0105668</td>\n",
       "      <td>tt0063934</td>\n",
       "      <td>Il fantastico mondo di Mr. Monroe</td>\n",
       "      <td>NaN</td>\n",
       "      <td>19 May 2004</td>\n",
       "      <td>great TV series</td>\n",
       "      <td>This series ran on UK's Channel 4 in its entir...</td>\n",
       "      <td>30</td>\n",
       "      <td>30</td>\n",
       "    </tr>\n",
       "    <tr>\n",
       "      <th>27</th>\n",
       "      <td>0105660</td>\n",
       "      <td>tt0063934</td>\n",
       "      <td>Il fantastico mondo di Mr. Monroe</td>\n",
       "      <td>NaN</td>\n",
       "      <td>23 August 1999</td>\n",
       "      <td>Has stuck in my mind since childhood.</td>\n",
       "      <td>I looked up this show because I was watching a...</td>\n",
       "      <td>34</td>\n",
       "      <td>35</td>\n",
       "    </tr>\n",
       "    <tr>\n",
       "      <th>28</th>\n",
       "      <td>1656497</td>\n",
       "      <td>tt0063934</td>\n",
       "      <td>Il fantastico mondo di Mr. Monroe</td>\n",
       "      <td>10.0</td>\n",
       "      <td>15 May 2007</td>\n",
       "      <td>Grandma Was More Than Intellectual</td>\n",
       "      <td>This series to me represents the talent of Wil...</td>\n",
       "      <td>13</td>\n",
       "      <td>13</td>\n",
       "    </tr>\n",
       "    <tr>\n",
       "      <th>29</th>\n",
       "      <td>6996540</td>\n",
       "      <td>tt0063934</td>\n",
       "      <td>Il fantastico mondo di Mr. Monroe</td>\n",
       "      <td>10.0</td>\n",
       "      <td>3 June 2021</td>\n",
       "      <td>This is the first TV show I ever remember watc...</td>\n",
       "      <td>Thank you for having this. I have been looking...</td>\n",
       "      <td>2</td>\n",
       "      <td>2</td>\n",
       "    </tr>\n",
       "    <tr>\n",
       "      <th>30</th>\n",
       "      <td>3212417</td>\n",
       "      <td>tt0063934</td>\n",
       "      <td>Il fantastico mondo di Mr. Monroe</td>\n",
       "      <td>9.0</td>\n",
       "      <td>1 April 2015</td>\n",
       "      <td>Segments are available on YouTube!</td>\n",
       "      <td>I agree 100% with all the positive comments an...</td>\n",
       "      <td>4</td>\n",
       "      <td>4</td>\n",
       "    </tr>\n",
       "    <tr>\n",
       "      <th>31</th>\n",
       "      <td>0951072</td>\n",
       "      <td>tt0063934</td>\n",
       "      <td>Il fantastico mondo di Mr. Monroe</td>\n",
       "      <td>NaN</td>\n",
       "      <td>23 October 2004</td>\n",
       "      <td>The 60's of \"The Secret Life of Walter Mitty\"</td>\n",
       "      <td>I remember being thrilled to learn that \"My Wo...</td>\n",
       "      <td>20</td>\n",
       "      <td>20</td>\n",
       "    </tr>\n",
       "    <tr>\n",
       "      <th>32</th>\n",
       "      <td>1315542</td>\n",
       "      <td>tt0063934</td>\n",
       "      <td>Il fantastico mondo di Mr. Monroe</td>\n",
       "      <td>NaN</td>\n",
       "      <td>14 March 2006</td>\n",
       "      <td>These 26 episodes should be on DVD NOW!</td>\n",
       "      <td>I remember this show as turning me on to James...</td>\n",
       "      <td>28</td>\n",
       "      <td>30</td>\n",
       "    </tr>\n",
       "  </tbody>\n",
       "</table>\n",
       "</div>"
      ],
      "text/plain": [
       "   Review_ID   Movie_ID                        Movie_Title  Rating  \\\n",
       "0    9507178  tt0063934  Il fantastico mondo di Mr. Monroe    10.0   \n",
       "1    0105667  tt0063934  Il fantastico mondo di Mr. Monroe     NaN   \n",
       "2    3645997  tt0063934  Il fantastico mondo di Mr. Monroe    10.0   \n",
       "3    1440145  tt0063934  Il fantastico mondo di Mr. Monroe     9.0   \n",
       "4    4169435  tt0063934  Il fantastico mondo di Mr. Monroe     8.0   \n",
       "5    1234584  tt0063934  Il fantastico mondo di Mr. Monroe     NaN   \n",
       "6    1635615  tt0063934  Il fantastico mondo di Mr. Monroe    10.0   \n",
       "7    0105669  tt0063934  Il fantastico mondo di Mr. Monroe     NaN   \n",
       "8    0105666  tt0063934  Il fantastico mondo di Mr. Monroe     NaN   \n",
       "9    0105665  tt0063934  Il fantastico mondo di Mr. Monroe     NaN   \n",
       "10   0105658  tt0063934  Il fantastico mondo di Mr. Monroe     NaN   \n",
       "11   3547738  tt0063934  Il fantastico mondo di Mr. Monroe    10.0   \n",
       "12   1560754  tt0063934  Il fantastico mondo di Mr. Monroe    10.0   \n",
       "13   0105662  tt0063934  Il fantastico mondo di Mr. Monroe     NaN   \n",
       "14   7615159  tt0063934  Il fantastico mondo di Mr. Monroe     8.0   \n",
       "15   0941272  tt0063934  Il fantastico mondo di Mr. Monroe     NaN   \n",
       "16   0105664  tt0063934  Il fantastico mondo di Mr. Monroe     NaN   \n",
       "17   0105659  tt0063934  Il fantastico mondo di Mr. Monroe     NaN   \n",
       "18   1093940  tt0063934  Il fantastico mondo di Mr. Monroe     NaN   \n",
       "19   0105661  tt0063934  Il fantastico mondo di Mr. Monroe     NaN   \n",
       "20   1890405  tt0063934  Il fantastico mondo di Mr. Monroe    10.0   \n",
       "21   0105663  tt0063934  Il fantastico mondo di Mr. Monroe    10.0   \n",
       "22   1780338  tt0063934  Il fantastico mondo di Mr. Monroe    10.0   \n",
       "23   0974595  tt0063934  Il fantastico mondo di Mr. Monroe     NaN   \n",
       "24   1526197  tt0063934  Il fantastico mondo di Mr. Monroe    10.0   \n",
       "25   1234894  tt0063934  Il fantastico mondo di Mr. Monroe     NaN   \n",
       "26   0105668  tt0063934  Il fantastico mondo di Mr. Monroe     NaN   \n",
       "27   0105660  tt0063934  Il fantastico mondo di Mr. Monroe     NaN   \n",
       "28   1656497  tt0063934  Il fantastico mondo di Mr. Monroe    10.0   \n",
       "29   6996540  tt0063934  Il fantastico mondo di Mr. Monroe    10.0   \n",
       "30   3212417  tt0063934  Il fantastico mondo di Mr. Monroe     9.0   \n",
       "31   0951072  tt0063934  Il fantastico mondo di Mr. Monroe     NaN   \n",
       "32   1315542  tt0063934  Il fantastico mondo di Mr. Monroe     NaN   \n",
       "\n",
       "          Review_Date                                       Review_Title  \\\n",
       "0    21 December 2023                                        Great Show!   \n",
       "1     14 January 2004                               A remarkable series!   \n",
       "2    22 February 2017                      My favorite show of all time!   \n",
       "3       5 August 2006                                This show was great   \n",
       "4         18 May 2018  The Life of an Oft-Frustrated Magazine Cartoonist   \n",
       "5     9 December 2005  A Fitting Tribute to James Thurber and William...   \n",
       "6       11 April 2007                           My world, where are you?   \n",
       "7         1 June 2004                                     Wonderful show   \n",
       "8     5 November 2003  Wow, so glad others remember this delightful show   \n",
       "9      19 August 2002                  Fond Memory Of Clever, Witty Show   \n",
       "10       24 June 1999                          So far ahead of its time.   \n",
       "11  20 September 2016          10/10 So good it can't ever be seen again   \n",
       "12     1 January 2007                                   Before it's time   \n",
       "13       29 July 2000                A great show, and a plan of action.   \n",
       "14    4 December 2021                  cute, understated humor, loved it   \n",
       "15     5 October 2004           unique, enjoyable but short lived sitcom   \n",
       "16      26 March 2002            Interesting the things one remembers...   \n",
       "17       27 July 1999               One of the Best Things on Television   \n",
       "18        3 June 2005                                          This show   \n",
       "19    27 October 1999        Maybe the best show ever chanced too soon--   \n",
       "20       11 June 2008        Apparently Amazon does read our reviews ...   \n",
       "21         5 May 2001                My favorite comedy show of all time   \n",
       "22   14 December 2007      One of the very best comedies on TV ---- EVER   \n",
       "23    8 December 2004                       Happy Birthday James Thurber   \n",
       "24   20 November 2006                                  One more of us...   \n",
       "25   10 December 2005                        This show was about Thurber   \n",
       "26        19 May 2004                                    great TV series   \n",
       "27     23 August 1999              Has stuck in my mind since childhood.   \n",
       "28        15 May 2007                 Grandma Was More Than Intellectual   \n",
       "29        3 June 2021  This is the first TV show I ever remember watc...   \n",
       "30       1 April 2015                 Segments are available on YouTube!   \n",
       "31    23 October 2004      The 60's of \"The Secret Life of Walter Mitty\"   \n",
       "32      14 March 2006            These 26 episodes should be on DVD NOW!   \n",
       "\n",
       "                                          Review_Text  Helpful_Votes  \\\n",
       "0   I was 9, almost 10, when My World And Welcome ...              0   \n",
       "1   Shown on NBC in 1969-70 and and re-run on CBS ...             22   \n",
       "2   I loved this show. we recorded every episode o...              5   \n",
       "3   Although I was six years old when this show ca...              9   \n",
       "4   \"My World and Welcome to It\" was created for t...              6   \n",
       "5   For some reason certain shows never last long ...             38   \n",
       "6   After scrounging the Web for several years, fi...             12   \n",
       "7   I'm so excited that I have found something abo...             11   \n",
       "8   The scene where his wife falls apart has stuck...              9   \n",
       "9   So glad to see that this show made such an imp...             22   \n",
       "10  Echoing the sentiments expressed by Todd Leone...             12   \n",
       "11  One of my earliest and happiest memories of te...              7   \n",
       "12  I was 11 or 12 when it aired. I remember enjoy...              8   \n",
       "13  Usually I don't put up comments when somebody ...             23   \n",
       "14  I remember this show very well, though I was o...              2   \n",
       "15  I agree with the other comments concerning thi...              9   \n",
       "16  I, like Joe, was very young when this show was...              7   \n",
       "17  Re: the other comments, and ditto them. This w...             13   \n",
       "18  I was only 3 when I watched this according to ...             29   \n",
       "19  This show was a pure joy from the first moment...             23   \n",
       "20  My World and Welcome to it was a cult classic ...             10   \n",
       "21  I was only 11 when this show appeared on TV, b...             11   \n",
       "22  The average American is too friggin' stupid to...              5   \n",
       "23  Today is James Thurber's birthday.December 8.H...              6   \n",
       "24  Well, I've read all of the comments posted, an...             11   \n",
       "25  \"My World and Welcome to It\" was the title of ...              9   \n",
       "26  This series ran on UK's Channel 4 in its entir...             30   \n",
       "27  I looked up this show because I was watching a...             34   \n",
       "28  This series to me represents the talent of Wil...             13   \n",
       "29  Thank you for having this. I have been looking...              2   \n",
       "30  I agree 100% with all the positive comments an...              4   \n",
       "31  I remember being thrilled to learn that \"My Wo...             20   \n",
       "32  I remember this show as turning me on to James...             28   \n",
       "\n",
       "    Total_Votes  \n",
       "0             0  \n",
       "1            22  \n",
       "2             5  \n",
       "3             9  \n",
       "4             6  \n",
       "5            38  \n",
       "6            12  \n",
       "7            11  \n",
       "8             9  \n",
       "9            24  \n",
       "10           12  \n",
       "11            7  \n",
       "12            8  \n",
       "13           24  \n",
       "14            2  \n",
       "15            9  \n",
       "16            7  \n",
       "17           13  \n",
       "18           29  \n",
       "19           23  \n",
       "20           11  \n",
       "21           14  \n",
       "22            9  \n",
       "23            8  \n",
       "24           11  \n",
       "25            9  \n",
       "26           30  \n",
       "27           35  \n",
       "28           13  \n",
       "29            2  \n",
       "30            4  \n",
       "31           20  \n",
       "32           30  "
      ]
     },
     "metadata": {},
     "output_type": "display_data"
    }
   ],
   "source": [
    "#retrieve the reviews linked to a movie using its id\n",
    "movie_id = '0063934'      #    0000001       0063934      13186482      0120338       other ids used to test\n",
    "\n",
    "retriever = Retriever()\n",
    "\n",
    "review_ids = retriever.get_reviews_ids_from_movie_id(movie_id)\n",
    "\n",
    "print('From the movie ' + str(movie_id) + ' were retrieved the following reviews:')\n",
    "print(review_ids)\n",
    "\n",
    "reviews_dataframe = retriever.get_reviews_dataframe_from_set_of_review_ids(review_ids)\n",
    "\n",
    "display(reviews_dataframe)"
   ]
  },
  {
   "cell_type": "markdown",
   "metadata": {},
   "source": [
    "## Downloading reviews from western films "
   ]
  },
  {
   "cell_type": "markdown",
   "metadata": {},
   "source": [
    "Looking for the general dataset (final_dataset)"
   ]
  },
  {
   "cell_type": "code",
   "execution_count": 17,
   "metadata": {},
   "outputs": [
    {
     "name": "stdout",
     "output_type": "stream",
     "text": [
      "Looking for the dataset in the main folder\n"
     ]
    },
    {
     "data": {
      "text/html": [
       "<div>\n",
       "<style scoped>\n",
       "    .dataframe tbody tr th:only-of-type {\n",
       "        vertical-align: middle;\n",
       "    }\n",
       "\n",
       "    .dataframe tbody tr th {\n",
       "        vertical-align: top;\n",
       "    }\n",
       "\n",
       "    .dataframe thead th {\n",
       "        text-align: right;\n",
       "    }\n",
       "</style>\n",
       "<table border=\"1\" class=\"dataframe\">\n",
       "  <thead>\n",
       "    <tr style=\"text-align: right;\">\n",
       "      <th></th>\n",
       "      <th>MovieID</th>\n",
       "      <th>Title</th>\n",
       "      <th>Year</th>\n",
       "      <th>Duration</th>\n",
       "      <th>Genres</th>\n",
       "      <th>Rating</th>\n",
       "      <th>NumVotes</th>\n",
       "    </tr>\n",
       "  </thead>\n",
       "  <tbody>\n",
       "    <tr>\n",
       "      <th>0</th>\n",
       "      <td>tt0000009</td>\n",
       "      <td>Miss Jerry</td>\n",
       "      <td>1894</td>\n",
       "      <td>45</td>\n",
       "      <td>Romance</td>\n",
       "      <td>5.4</td>\n",
       "      <td>217.0</td>\n",
       "    </tr>\n",
       "    <tr>\n",
       "      <th>1</th>\n",
       "      <td>tt0000147</td>\n",
       "      <td>The Corbett-Fitzsimmons Fight</td>\n",
       "      <td>1897</td>\n",
       "      <td>100</td>\n",
       "      <td>Documentary,News,Sport</td>\n",
       "      <td>5.2</td>\n",
       "      <td>547.0</td>\n",
       "    </tr>\n",
       "    <tr>\n",
       "      <th>3</th>\n",
       "      <td>tt0000574</td>\n",
       "      <td>The Story of the Kelly Gang</td>\n",
       "      <td>1906</td>\n",
       "      <td>70</td>\n",
       "      <td>Action,Adventure,Biography</td>\n",
       "      <td>6.0</td>\n",
       "      <td>963.0</td>\n",
       "    </tr>\n",
       "    <tr>\n",
       "      <th>4</th>\n",
       "      <td>tt0000591</td>\n",
       "      <td>The Prodigal Son</td>\n",
       "      <td>1907</td>\n",
       "      <td>90</td>\n",
       "      <td>Drama</td>\n",
       "      <td>5.6</td>\n",
       "      <td>30.0</td>\n",
       "    </tr>\n",
       "    <tr>\n",
       "      <th>5</th>\n",
       "      <td>tt0000615</td>\n",
       "      <td>Robbery Under Arms</td>\n",
       "      <td>1907</td>\n",
       "      <td>\\N</td>\n",
       "      <td>Drama</td>\n",
       "      <td>4.3</td>\n",
       "      <td>27.0</td>\n",
       "    </tr>\n",
       "  </tbody>\n",
       "</table>\n",
       "</div>"
      ],
      "text/plain": [
       "     MovieID                          Title  Year Duration  \\\n",
       "0  tt0000009                     Miss Jerry  1894       45   \n",
       "1  tt0000147  The Corbett-Fitzsimmons Fight  1897      100   \n",
       "3  tt0000574    The Story of the Kelly Gang  1906       70   \n",
       "4  tt0000591               The Prodigal Son  1907       90   \n",
       "5  tt0000615             Robbery Under Arms  1907       \\N   \n",
       "\n",
       "                       Genres  Rating  NumVotes  \n",
       "0                     Romance     5.4     217.0  \n",
       "1      Documentary,News,Sport     5.2     547.0  \n",
       "3  Action,Adventure,Biography     6.0     963.0  \n",
       "4                       Drama     5.6      30.0  \n",
       "5                       Drama     4.3      27.0  "
      ]
     },
     "metadata": {},
     "output_type": "display_data"
    },
    {
     "name": "stdout",
     "output_type": "stream",
     "text": [
      "Final_dataset has been loaded successfully.\n"
     ]
    }
   ],
   "source": [
    "import pickle\n",
    "\n",
    "try:\n",
    "    display(final_dataset.head())\n",
    "    print(\"Final_dataset has been loaded successfully.\")\n",
    "except:\n",
    "    print('Looking for the dataset in the main folder')\n",
    "    try:\n",
    "        # Load the final_dataset object from the file\n",
    "        with open('final_dataset.pkl', 'rb') as file:\n",
    "            final_dataset = pickle.load(file)\n",
    "        display(final_dataset.head())\n",
    "        print(\"Final_dataset has been loaded successfully.\")\n",
    "    except:\n",
    "        print('Final_dataset not found')\n",
    "\n",
    "\n"
   ]
  },
  {
   "cell_type": "markdown",
   "metadata": {},
   "source": [
    "Create a smaller dataset of movies associated with the western genre only"
   ]
  },
  {
   "cell_type": "code",
   "execution_count": 9,
   "metadata": {},
   "outputs": [],
   "source": [
    "# create a smaller dataset of movies associated with the western genre only and more than 25 votes\n",
    "western_dataset = final_dataset[(final_dataset['Genres'] == 'Western') & (final_dataset['NumVotes'] > 25)]"
   ]
  },
  {
   "cell_type": "markdown",
   "metadata": {},
   "source": [
    "Import the Retriever class"
   ]
  },
  {
   "cell_type": "code",
   "execution_count": 18,
   "metadata": {},
   "outputs": [],
   "source": [
    "from Retriever import Retriever\n",
    "retriever = Retriever()"
   ]
  },
  {
   "cell_type": "markdown",
   "metadata": {},
   "source": [
    "For each movie id in the western dataset check if it has more than 25 reviews associated and retrieve their ids"
   ]
  },
  {
   "cell_type": "code",
   "execution_count": 18,
   "metadata": {},
   "outputs": [
    {
     "name": "stderr",
     "output_type": "stream",
     "text": [
      "looking for review ids:   0%|          | 0/2020 [00:00<?, ?movie/s]"
     ]
    },
    {
     "name": "stdout",
     "output_type": "stream",
     "text": [
      "Less than 25 reviews available - skipped\n"
     ]
    },
    {
     "name": "stderr",
     "output_type": "stream",
     "text": [
      "looking for review ids:   0%|          | 1/2020 [00:13<7:31:12, 13.41s/movie]"
     ]
    },
    {
     "name": "stdout",
     "output_type": "stream",
     "text": [
      "Less than 25 reviews available - skipped\n"
     ]
    },
    {
     "name": "stderr",
     "output_type": "stream",
     "text": [
      "looking for review ids:   0%|          | 2/2020 [00:32<9:16:04, 16.53s/movie]"
     ]
    },
    {
     "name": "stdout",
     "output_type": "stream",
     "text": [
      "Less than 25 reviews available - skipped\n"
     ]
    },
    {
     "name": "stderr",
     "output_type": "stream",
     "text": [
      "looking for review ids:   0%|          | 3/2020 [00:49<9:24:50, 16.80s/movie]"
     ]
    },
    {
     "name": "stdout",
     "output_type": "stream",
     "text": [
      "Less than 25 reviews available - skipped\n"
     ]
    },
    {
     "name": "stderr",
     "output_type": "stream",
     "text": [
      "looking for review ids:   0%|          | 4/2020 [01:06<9:32:46, 17.05s/movie]"
     ]
    },
    {
     "name": "stdout",
     "output_type": "stream",
     "text": [
      "Less than 25 reviews available - skipped\n"
     ]
    },
    {
     "name": "stderr",
     "output_type": "stream",
     "text": [
      "looking for review ids:   0%|          | 5/2020 [01:24<9:40:44, 17.29s/movie]"
     ]
    },
    {
     "name": "stdout",
     "output_type": "stream",
     "text": [
      "Less than 25 reviews available - skipped\n"
     ]
    },
    {
     "name": "stderr",
     "output_type": "stream",
     "text": [
      "looking for review ids:   0%|          | 6/2020 [01:41<9:36:34, 17.18s/movie]"
     ]
    },
    {
     "name": "stdout",
     "output_type": "stream",
     "text": [
      "Less than 25 reviews available - skipped\n"
     ]
    },
    {
     "name": "stderr",
     "output_type": "stream",
     "text": [
      "looking for review ids:   0%|          | 7/2020 [01:58<9:31:24, 17.03s/movie]"
     ]
    },
    {
     "name": "stdout",
     "output_type": "stream",
     "text": [
      "Less than 25 reviews available - skipped\n"
     ]
    },
    {
     "name": "stderr",
     "output_type": "stream",
     "text": [
      "looking for review ids:   0%|          | 8/2020 [02:15<9:31:25, 17.04s/movie]"
     ]
    },
    {
     "name": "stdout",
     "output_type": "stream",
     "text": [
      "Less than 25 reviews available - skipped\n"
     ]
    },
    {
     "name": "stderr",
     "output_type": "stream",
     "text": [
      "looking for review ids:   0%|          | 9/2020 [02:33<9:46:55, 17.51s/movie]"
     ]
    },
    {
     "name": "stdout",
     "output_type": "stream",
     "text": [
      "Less than 25 reviews available - skipped\n"
     ]
    },
    {
     "name": "stderr",
     "output_type": "stream",
     "text": [
      "looking for review ids:   1%|          | 11/2020 [03:07<9:33:59, 17.14s/movie]"
     ]
    },
    {
     "name": "stdout",
     "output_type": "stream",
     "text": [
      "Less than 25 reviews available - skipped\n"
     ]
    },
    {
     "name": "stderr",
     "output_type": "stream",
     "text": [
      "looking for review ids:   1%|          | 12/2020 [03:25<9:37:01, 17.24s/movie]"
     ]
    },
    {
     "name": "stdout",
     "output_type": "stream",
     "text": [
      "Less than 25 reviews available - skipped\n"
     ]
    },
    {
     "name": "stderr",
     "output_type": "stream",
     "text": [
      "looking for review ids:   1%|          | 13/2020 [03:42<9:36:54, 17.25s/movie]"
     ]
    },
    {
     "name": "stdout",
     "output_type": "stream",
     "text": [
      "Less than 25 reviews available - skipped\n"
     ]
    },
    {
     "name": "stderr",
     "output_type": "stream",
     "text": [
      "looking for review ids:   1%|          | 14/2020 [03:59<9:39:02, 17.32s/movie]"
     ]
    },
    {
     "name": "stdout",
     "output_type": "stream",
     "text": [
      "Less than 25 reviews available - skipped\n"
     ]
    },
    {
     "name": "stderr",
     "output_type": "stream",
     "text": [
      "looking for review ids:   1%|          | 15/2020 [04:17<9:43:24, 17.46s/movie]"
     ]
    },
    {
     "name": "stdout",
     "output_type": "stream",
     "text": [
      "Less than 25 reviews available - skipped\n"
     ]
    },
    {
     "name": "stderr",
     "output_type": "stream",
     "text": [
      "looking for review ids:   1%|          | 16/2020 [04:35<9:50:53, 17.69s/movie]"
     ]
    },
    {
     "name": "stdout",
     "output_type": "stream",
     "text": [
      "Less than 25 reviews available - skipped\n"
     ]
    },
    {
     "name": "stderr",
     "output_type": "stream",
     "text": [
      "looking for review ids:   1%|          | 17/2020 [04:53<9:48:10, 17.62s/movie]"
     ]
    },
    {
     "name": "stdout",
     "output_type": "stream",
     "text": [
      "Less than 25 reviews available - skipped\n"
     ]
    },
    {
     "name": "stderr",
     "output_type": "stream",
     "text": [
      "looking for review ids:   1%|          | 18/2020 [05:10<9:45:46, 17.56s/movie]"
     ]
    },
    {
     "name": "stdout",
     "output_type": "stream",
     "text": [
      "Less than 25 reviews available - skipped\n"
     ]
    },
    {
     "name": "stderr",
     "output_type": "stream",
     "text": [
      "looking for review ids:   1%|          | 19/2020 [05:28<9:46:01, 17.57s/movie]"
     ]
    },
    {
     "name": "stdout",
     "output_type": "stream",
     "text": [
      "Less than 25 reviews available - skipped\n"
     ]
    },
    {
     "name": "stderr",
     "output_type": "stream",
     "text": [
      "looking for review ids:   1%|          | 20/2020 [05:46<9:48:13, 17.65s/movie]"
     ]
    },
    {
     "name": "stdout",
     "output_type": "stream",
     "text": [
      "Less than 25 reviews available - skipped\n"
     ]
    },
    {
     "name": "stderr",
     "output_type": "stream",
     "text": [
      "looking for review ids:   1%|          | 21/2020 [06:03<9:44:15, 17.54s/movie]"
     ]
    },
    {
     "name": "stdout",
     "output_type": "stream",
     "text": [
      "Less than 25 reviews available - skipped\n"
     ]
    },
    {
     "name": "stderr",
     "output_type": "stream",
     "text": [
      "looking for review ids:   1%|          | 22/2020 [06:21<9:51:44, 17.77s/movie]"
     ]
    },
    {
     "name": "stdout",
     "output_type": "stream",
     "text": [
      "Less than 25 reviews available - skipped\n"
     ]
    },
    {
     "name": "stderr",
     "output_type": "stream",
     "text": [
      "looking for review ids:   1%|          | 23/2020 [06:39<9:48:25, 17.68s/movie]"
     ]
    },
    {
     "name": "stdout",
     "output_type": "stream",
     "text": [
      "Less than 25 reviews available - skipped\n"
     ]
    },
    {
     "name": "stderr",
     "output_type": "stream",
     "text": [
      "looking for review ids:   1%|          | 24/2020 [06:56<9:42:58, 17.52s/movie]"
     ]
    },
    {
     "name": "stdout",
     "output_type": "stream",
     "text": [
      "Less than 25 reviews available - skipped\n"
     ]
    },
    {
     "name": "stderr",
     "output_type": "stream",
     "text": [
      "looking for review ids:   1%|          | 25/2020 [07:13<9:43:16, 17.54s/movie]"
     ]
    },
    {
     "name": "stdout",
     "output_type": "stream",
     "text": [
      "Less than 25 reviews available - skipped\n"
     ]
    },
    {
     "name": "stderr",
     "output_type": "stream",
     "text": [
      "looking for review ids:   1%|▏         | 26/2020 [07:31<9:42:42, 17.53s/movie]"
     ]
    },
    {
     "name": "stdout",
     "output_type": "stream",
     "text": [
      "Less than 25 reviews available - skipped\n"
     ]
    },
    {
     "name": "stderr",
     "output_type": "stream",
     "text": [
      "looking for review ids:   1%|▏         | 27/2020 [07:49<9:47:40, 17.69s/movie]"
     ]
    },
    {
     "name": "stdout",
     "output_type": "stream",
     "text": [
      "Less than 25 reviews available - skipped\n"
     ]
    },
    {
     "name": "stderr",
     "output_type": "stream",
     "text": [
      "looking for review ids:   1%|▏         | 28/2020 [08:07<9:46:27, 17.66s/movie]"
     ]
    },
    {
     "name": "stdout",
     "output_type": "stream",
     "text": [
      "Less than 25 reviews available - skipped\n"
     ]
    },
    {
     "name": "stderr",
     "output_type": "stream",
     "text": [
      "looking for review ids:   1%|▏         | 29/2020 [08:24<9:41:06, 17.51s/movie]"
     ]
    },
    {
     "name": "stdout",
     "output_type": "stream",
     "text": [
      "Less than 25 reviews available - skipped\n"
     ]
    },
    {
     "name": "stderr",
     "output_type": "stream",
     "text": [
      "looking for review ids:   1%|▏         | 30/2020 [08:41<9:38:16, 17.44s/movie]"
     ]
    },
    {
     "name": "stdout",
     "output_type": "stream",
     "text": [
      "Less than 25 reviews available - skipped\n"
     ]
    },
    {
     "name": "stderr",
     "output_type": "stream",
     "text": [
      "looking for review ids:   2%|▏         | 31/2020 [08:59<9:39:24, 17.48s/movie]"
     ]
    },
    {
     "name": "stdout",
     "output_type": "stream",
     "text": [
      "Less than 25 reviews available - skipped\n"
     ]
    },
    {
     "name": "stderr",
     "output_type": "stream",
     "text": [
      "looking for review ids:   2%|▏         | 32/2020 [09:16<9:38:29, 17.46s/movie]"
     ]
    },
    {
     "name": "stdout",
     "output_type": "stream",
     "text": [
      "Less than 25 reviews available - skipped\n"
     ]
    },
    {
     "name": "stderr",
     "output_type": "stream",
     "text": [
      "looking for review ids:   2%|▏         | 33/2020 [09:34<9:41:58, 17.57s/movie]"
     ]
    },
    {
     "name": "stdout",
     "output_type": "stream",
     "text": [
      "Less than 25 reviews available - skipped\n"
     ]
    },
    {
     "name": "stderr",
     "output_type": "stream",
     "text": [
      "looking for review ids:   2%|▏         | 34/2020 [09:51<9:37:21, 17.44s/movie]"
     ]
    },
    {
     "name": "stdout",
     "output_type": "stream",
     "text": [
      "Less than 25 reviews available - skipped\n"
     ]
    },
    {
     "name": "stderr",
     "output_type": "stream",
     "text": [
      "looking for review ids:   2%|▏         | 35/2020 [10:09<9:41:50, 17.59s/movie]"
     ]
    },
    {
     "name": "stdout",
     "output_type": "stream",
     "text": [
      "Less than 25 reviews available - skipped\n"
     ]
    },
    {
     "name": "stderr",
     "output_type": "stream",
     "text": [
      "looking for review ids:   2%|▏         | 36/2020 [10:26<9:38:44, 17.50s/movie]"
     ]
    },
    {
     "name": "stdout",
     "output_type": "stream",
     "text": [
      "Less than 25 reviews available - skipped\n"
     ]
    },
    {
     "name": "stderr",
     "output_type": "stream",
     "text": [
      "looking for review ids:   2%|▏         | 37/2020 [10:44<9:38:20, 17.50s/movie]"
     ]
    },
    {
     "name": "stdout",
     "output_type": "stream",
     "text": [
      "Less than 25 reviews available - skipped\n"
     ]
    },
    {
     "name": "stderr",
     "output_type": "stream",
     "text": [
      "looking for review ids:   2%|▏         | 38/2020 [11:02<9:44:19, 17.69s/movie]"
     ]
    },
    {
     "name": "stdout",
     "output_type": "stream",
     "text": [
      "Less than 25 reviews available - skipped\n"
     ]
    },
    {
     "name": "stderr",
     "output_type": "stream",
     "text": [
      "looking for review ids:   2%|▏         | 39/2020 [11:20<9:52:46, 17.95s/movie]"
     ]
    },
    {
     "name": "stdout",
     "output_type": "stream",
     "text": [
      "Less than 25 reviews available - skipped\n"
     ]
    },
    {
     "name": "stderr",
     "output_type": "stream",
     "text": [
      "looking for review ids:   2%|▏         | 40/2020 [11:38<9:51:51, 17.94s/movie]"
     ]
    },
    {
     "name": "stdout",
     "output_type": "stream",
     "text": [
      "Less than 25 reviews available - skipped\n"
     ]
    },
    {
     "name": "stderr",
     "output_type": "stream",
     "text": [
      "looking for review ids:   2%|▏         | 41/2020 [11:57<9:54:51, 18.04s/movie]"
     ]
    },
    {
     "name": "stdout",
     "output_type": "stream",
     "text": [
      "Less than 25 reviews available - skipped\n"
     ]
    },
    {
     "name": "stderr",
     "output_type": "stream",
     "text": [
      "looking for review ids:   2%|▏         | 42/2020 [12:14<9:50:51, 17.92s/movie]"
     ]
    },
    {
     "name": "stdout",
     "output_type": "stream",
     "text": [
      "Less than 25 reviews available - skipped\n"
     ]
    },
    {
     "name": "stderr",
     "output_type": "stream",
     "text": [
      "looking for review ids:   2%|▏         | 43/2020 [12:32<9:47:32, 17.83s/movie]"
     ]
    },
    {
     "name": "stdout",
     "output_type": "stream",
     "text": [
      "Less than 25 reviews available - skipped\n"
     ]
    },
    {
     "name": "stderr",
     "output_type": "stream",
     "text": [
      "looking for review ids:   2%|▏         | 44/2020 [12:49<9:44:18, 17.74s/movie]"
     ]
    },
    {
     "name": "stdout",
     "output_type": "stream",
     "text": [
      "Less than 25 reviews available - skipped\n"
     ]
    },
    {
     "name": "stderr",
     "output_type": "stream",
     "text": [
      "looking for review ids:   2%|▏         | 45/2020 [13:07<9:39:53, 17.62s/movie]"
     ]
    },
    {
     "name": "stdout",
     "output_type": "stream",
     "text": [
      "Less than 25 reviews available - skipped\n"
     ]
    },
    {
     "name": "stderr",
     "output_type": "stream",
     "text": [
      "looking for review ids:   2%|▏         | 46/2020 [13:24<9:36:30, 17.52s/movie]"
     ]
    },
    {
     "name": "stdout",
     "output_type": "stream",
     "text": [
      "Less than 25 reviews available - skipped\n"
     ]
    },
    {
     "name": "stderr",
     "output_type": "stream",
     "text": [
      "looking for review ids:   2%|▏         | 47/2020 [13:43<9:46:33, 17.84s/movie]"
     ]
    },
    {
     "name": "stdout",
     "output_type": "stream",
     "text": [
      "Less than 25 reviews available - skipped\n"
     ]
    },
    {
     "name": "stderr",
     "output_type": "stream",
     "text": [
      "looking for review ids:   2%|▏         | 48/2020 [14:00<9:42:10, 17.71s/movie]"
     ]
    },
    {
     "name": "stdout",
     "output_type": "stream",
     "text": [
      "Less than 25 reviews available - skipped\n"
     ]
    },
    {
     "name": "stderr",
     "output_type": "stream",
     "text": [
      "looking for review ids:   2%|▏         | 49/2020 [14:18<9:42:21, 17.73s/movie]"
     ]
    },
    {
     "name": "stdout",
     "output_type": "stream",
     "text": [
      "Less than 25 reviews available - skipped\n"
     ]
    },
    {
     "name": "stderr",
     "output_type": "stream",
     "text": [
      "looking for review ids:   2%|▏         | 50/2020 [14:36<9:43:46, 17.78s/movie]"
     ]
    },
    {
     "name": "stdout",
     "output_type": "stream",
     "text": [
      "Less than 25 reviews available - skipped\n"
     ]
    },
    {
     "name": "stderr",
     "output_type": "stream",
     "text": [
      "looking for review ids:   3%|▎         | 51/2020 [14:55<9:54:37, 18.12s/movie]"
     ]
    },
    {
     "name": "stdout",
     "output_type": "stream",
     "text": [
      "Less than 25 reviews available - skipped\n"
     ]
    },
    {
     "name": "stderr",
     "output_type": "stream",
     "text": [
      "looking for review ids:   3%|▎         | 52/2020 [15:11<9:42:28, 17.76s/movie]"
     ]
    },
    {
     "name": "stdout",
     "output_type": "stream",
     "text": [
      "Less than 25 reviews available - skipped\n"
     ]
    },
    {
     "name": "stderr",
     "output_type": "stream",
     "text": [
      "looking for review ids:   3%|▎         | 53/2020 [15:29<9:39:52, 17.69s/movie]"
     ]
    },
    {
     "name": "stdout",
     "output_type": "stream",
     "text": [
      "Less than 25 reviews available - skipped\n"
     ]
    },
    {
     "name": "stderr",
     "output_type": "stream",
     "text": [
      "looking for review ids:   3%|▎         | 54/2020 [15:46<9:37:55, 17.64s/movie]"
     ]
    },
    {
     "name": "stdout",
     "output_type": "stream",
     "text": [
      "Less than 25 reviews available - skipped\n"
     ]
    },
    {
     "name": "stderr",
     "output_type": "stream",
     "text": [
      "looking for review ids:   3%|▎         | 55/2020 [16:04<9:38:14, 17.66s/movie]"
     ]
    },
    {
     "name": "stdout",
     "output_type": "stream",
     "text": [
      "Less than 25 reviews available - skipped\n"
     ]
    },
    {
     "name": "stderr",
     "output_type": "stream",
     "text": [
      "looking for review ids:   3%|▎         | 56/2020 [16:21<9:29:11, 17.39s/movie]"
     ]
    },
    {
     "name": "stdout",
     "output_type": "stream",
     "text": [
      "Less than 25 reviews available - skipped\n"
     ]
    },
    {
     "name": "stderr",
     "output_type": "stream",
     "text": [
      "looking for review ids:   3%|▎         | 57/2020 [16:39<9:33:21, 17.53s/movie]"
     ]
    },
    {
     "name": "stdout",
     "output_type": "stream",
     "text": [
      "Less than 25 reviews available - skipped\n"
     ]
    },
    {
     "name": "stderr",
     "output_type": "stream",
     "text": [
      "looking for review ids:   3%|▎         | 58/2020 [16:56<9:28:42, 17.39s/movie]"
     ]
    },
    {
     "name": "stdout",
     "output_type": "stream",
     "text": [
      "Less than 25 reviews available - skipped\n"
     ]
    },
    {
     "name": "stderr",
     "output_type": "stream",
     "text": [
      "looking for review ids:   3%|▎         | 59/2020 [17:13<9:23:57, 17.26s/movie]"
     ]
    },
    {
     "name": "stdout",
     "output_type": "stream",
     "text": [
      "Less than 25 reviews available - skipped\n"
     ]
    },
    {
     "name": "stderr",
     "output_type": "stream",
     "text": [
      "looking for review ids:   3%|▎         | 60/2020 [17:31<9:28:49, 17.41s/movie]"
     ]
    },
    {
     "name": "stdout",
     "output_type": "stream",
     "text": [
      "Less than 25 reviews available - skipped\n"
     ]
    },
    {
     "name": "stderr",
     "output_type": "stream",
     "text": [
      "looking for review ids:   3%|▎         | 61/2020 [17:48<9:32:36, 17.54s/movie]"
     ]
    },
    {
     "name": "stdout",
     "output_type": "stream",
     "text": [
      "Less than 25 reviews available - skipped\n"
     ]
    },
    {
     "name": "stderr",
     "output_type": "stream",
     "text": [
      "looking for review ids:   3%|▎         | 62/2020 [18:05<9:23:47, 17.28s/movie]"
     ]
    },
    {
     "name": "stdout",
     "output_type": "stream",
     "text": [
      "Less than 25 reviews available - skipped\n"
     ]
    },
    {
     "name": "stderr",
     "output_type": "stream",
     "text": [
      "looking for review ids:   3%|▎         | 63/2020 [18:24<9:35:44, 17.65s/movie]"
     ]
    },
    {
     "name": "stdout",
     "output_type": "stream",
     "text": [
      "Less than 25 reviews available - skipped\n"
     ]
    },
    {
     "name": "stderr",
     "output_type": "stream",
     "text": [
      "looking for review ids:   3%|▎         | 64/2020 [18:41<9:33:37, 17.60s/movie]"
     ]
    },
    {
     "name": "stdout",
     "output_type": "stream",
     "text": [
      "Less than 25 reviews available - skipped\n"
     ]
    },
    {
     "name": "stderr",
     "output_type": "stream",
     "text": [
      "looking for review ids:   3%|▎         | 65/2020 [18:59<9:34:06, 17.62s/movie]"
     ]
    },
    {
     "name": "stdout",
     "output_type": "stream",
     "text": [
      "Less than 25 reviews available - skipped\n"
     ]
    },
    {
     "name": "stderr",
     "output_type": "stream",
     "text": [
      "looking for review ids:   3%|▎         | 66/2020 [19:16<9:32:57, 17.59s/movie]"
     ]
    },
    {
     "name": "stdout",
     "output_type": "stream",
     "text": [
      "Less than 25 reviews available - skipped\n"
     ]
    },
    {
     "name": "stderr",
     "output_type": "stream",
     "text": [
      "looking for review ids:   3%|▎         | 67/2020 [19:34<9:33:13, 17.61s/movie]"
     ]
    },
    {
     "name": "stdout",
     "output_type": "stream",
     "text": [
      "Less than 25 reviews available - skipped\n"
     ]
    },
    {
     "name": "stderr",
     "output_type": "stream",
     "text": [
      "looking for review ids:   3%|▎         | 68/2020 [19:51<9:27:07, 17.43s/movie]"
     ]
    },
    {
     "name": "stdout",
     "output_type": "stream",
     "text": [
      "Less than 25 reviews available - skipped\n"
     ]
    },
    {
     "name": "stderr",
     "output_type": "stream",
     "text": [
      "looking for review ids:   3%|▎         | 69/2020 [20:09<9:34:13, 17.66s/movie]"
     ]
    },
    {
     "name": "stdout",
     "output_type": "stream",
     "text": [
      "Less than 25 reviews available - skipped\n"
     ]
    },
    {
     "name": "stderr",
     "output_type": "stream",
     "text": [
      "looking for review ids:   4%|▎         | 71/2020 [20:41<9:03:48, 16.74s/movie]"
     ]
    },
    {
     "name": "stdout",
     "output_type": "stream",
     "text": [
      "Less than 25 reviews available - skipped\n"
     ]
    },
    {
     "name": "stderr",
     "output_type": "stream",
     "text": [
      "looking for review ids:   4%|▎         | 72/2020 [20:58<9:03:42, 16.75s/movie]"
     ]
    },
    {
     "name": "stdout",
     "output_type": "stream",
     "text": [
      "Less than 25 reviews available - skipped\n"
     ]
    },
    {
     "name": "stderr",
     "output_type": "stream",
     "text": [
      "looking for review ids:   4%|▎         | 73/2020 [21:16<9:17:05, 17.17s/movie]"
     ]
    },
    {
     "name": "stdout",
     "output_type": "stream",
     "text": [
      "Less than 25 reviews available - skipped\n"
     ]
    },
    {
     "name": "stderr",
     "output_type": "stream",
     "text": [
      "looking for review ids:   4%|▎         | 74/2020 [21:33<9:16:27, 17.16s/movie]"
     ]
    },
    {
     "name": "stdout",
     "output_type": "stream",
     "text": [
      "Less than 25 reviews available - skipped\n"
     ]
    },
    {
     "name": "stderr",
     "output_type": "stream",
     "text": [
      "looking for review ids:   4%|▎         | 75/2020 [21:51<9:18:52, 17.24s/movie]"
     ]
    },
    {
     "name": "stdout",
     "output_type": "stream",
     "text": [
      "Less than 25 reviews available - skipped\n"
     ]
    },
    {
     "name": "stderr",
     "output_type": "stream",
     "text": [
      "looking for review ids:   4%|▍         | 76/2020 [22:08<9:15:04, 17.13s/movie]"
     ]
    },
    {
     "name": "stdout",
     "output_type": "stream",
     "text": [
      "Less than 25 reviews available - skipped\n"
     ]
    },
    {
     "name": "stderr",
     "output_type": "stream",
     "text": [
      "looking for review ids:   4%|▍         | 77/2020 [22:25<9:17:33, 17.22s/movie]"
     ]
    },
    {
     "name": "stdout",
     "output_type": "stream",
     "text": [
      "Less than 25 reviews available - skipped\n"
     ]
    },
    {
     "name": "stderr",
     "output_type": "stream",
     "text": [
      "looking for review ids:   4%|▍         | 78/2020 [22:43<9:22:40, 17.38s/movie]"
     ]
    },
    {
     "name": "stdout",
     "output_type": "stream",
     "text": [
      "Less than 25 reviews available - skipped\n"
     ]
    },
    {
     "name": "stderr",
     "output_type": "stream",
     "text": [
      "looking for review ids:   4%|▍         | 79/2020 [23:00<9:21:47, 17.37s/movie]"
     ]
    },
    {
     "name": "stdout",
     "output_type": "stream",
     "text": [
      "Less than 25 reviews available - skipped\n"
     ]
    },
    {
     "name": "stderr",
     "output_type": "stream",
     "text": [
      "looking for review ids:   4%|▍         | 80/2020 [23:18<9:21:04, 17.35s/movie]"
     ]
    },
    {
     "name": "stdout",
     "output_type": "stream",
     "text": [
      "Less than 25 reviews available - skipped\n"
     ]
    },
    {
     "name": "stderr",
     "output_type": "stream",
     "text": [
      "looking for review ids:   4%|▍         | 81/2020 [23:35<9:23:58, 17.45s/movie]"
     ]
    },
    {
     "name": "stdout",
     "output_type": "stream",
     "text": [
      "Less than 25 reviews available - skipped\n"
     ]
    },
    {
     "name": "stderr",
     "output_type": "stream",
     "text": [
      "looking for review ids:   4%|▍         | 82/2020 [23:53<9:24:11, 17.47s/movie]"
     ]
    },
    {
     "name": "stdout",
     "output_type": "stream",
     "text": [
      "Less than 25 reviews available - skipped\n"
     ]
    },
    {
     "name": "stderr",
     "output_type": "stream",
     "text": [
      "looking for review ids:   4%|▍         | 83/2020 [24:10<9:22:15, 17.42s/movie]"
     ]
    },
    {
     "name": "stdout",
     "output_type": "stream",
     "text": [
      "Less than 25 reviews available - skipped\n"
     ]
    },
    {
     "name": "stderr",
     "output_type": "stream",
     "text": [
      "looking for review ids:   4%|▍         | 84/2020 [24:27<9:19:01, 17.33s/movie]"
     ]
    },
    {
     "name": "stdout",
     "output_type": "stream",
     "text": [
      "Less than 25 reviews available - skipped\n"
     ]
    },
    {
     "name": "stderr",
     "output_type": "stream",
     "text": [
      "looking for review ids:   4%|▍         | 85/2020 [24:44<9:19:14, 17.34s/movie]"
     ]
    },
    {
     "name": "stdout",
     "output_type": "stream",
     "text": [
      "Less than 25 reviews available - skipped\n"
     ]
    },
    {
     "name": "stderr",
     "output_type": "stream",
     "text": [
      "looking for review ids:   4%|▍         | 86/2020 [25:02<9:20:56, 17.40s/movie]"
     ]
    },
    {
     "name": "stdout",
     "output_type": "stream",
     "text": [
      "Less than 25 reviews available - skipped\n"
     ]
    },
    {
     "name": "stderr",
     "output_type": "stream",
     "text": [
      "looking for review ids:   4%|▍         | 87/2020 [25:19<9:18:10, 17.33s/movie]"
     ]
    },
    {
     "name": "stdout",
     "output_type": "stream",
     "text": [
      "Less than 25 reviews available - skipped\n"
     ]
    },
    {
     "name": "stderr",
     "output_type": "stream",
     "text": [
      "looking for review ids:   4%|▍         | 88/2020 [25:37<9:18:19, 17.34s/movie]"
     ]
    },
    {
     "name": "stdout",
     "output_type": "stream",
     "text": [
      "Less than 25 reviews available - skipped\n"
     ]
    },
    {
     "name": "stderr",
     "output_type": "stream",
     "text": [
      "looking for review ids:   4%|▍         | 89/2020 [25:53<9:12:47, 17.18s/movie]"
     ]
    },
    {
     "name": "stdout",
     "output_type": "stream",
     "text": [
      "Less than 25 reviews available - skipped\n"
     ]
    },
    {
     "name": "stderr",
     "output_type": "stream",
     "text": [
      "looking for review ids:   4%|▍         | 90/2020 [26:11<9:15:28, 17.27s/movie]"
     ]
    },
    {
     "name": "stdout",
     "output_type": "stream",
     "text": [
      "Less than 25 reviews available - skipped\n"
     ]
    },
    {
     "name": "stderr",
     "output_type": "stream",
     "text": [
      "looking for review ids:   5%|▍         | 91/2020 [26:28<9:13:57, 17.23s/movie]"
     ]
    },
    {
     "name": "stdout",
     "output_type": "stream",
     "text": [
      "Less than 25 reviews available - skipped\n"
     ]
    },
    {
     "name": "stderr",
     "output_type": "stream",
     "text": [
      "looking for review ids:   5%|▍         | 92/2020 [26:45<9:14:01, 17.24s/movie]"
     ]
    },
    {
     "name": "stdout",
     "output_type": "stream",
     "text": [
      "Less than 25 reviews available - skipped\n"
     ]
    },
    {
     "name": "stderr",
     "output_type": "stream",
     "text": [
      "looking for review ids:   5%|▍         | 93/2020 [27:03<9:14:19, 17.26s/movie]"
     ]
    },
    {
     "name": "stdout",
     "output_type": "stream",
     "text": [
      "Less than 25 reviews available - skipped\n"
     ]
    },
    {
     "name": "stderr",
     "output_type": "stream",
     "text": [
      "looking for review ids:   5%|▍         | 94/2020 [27:20<9:17:59, 17.38s/movie]"
     ]
    },
    {
     "name": "stdout",
     "output_type": "stream",
     "text": [
      "Less than 25 reviews available - skipped\n"
     ]
    },
    {
     "name": "stderr",
     "output_type": "stream",
     "text": [
      "looking for review ids:   5%|▍         | 95/2020 [27:38<9:20:29, 17.47s/movie]"
     ]
    },
    {
     "name": "stdout",
     "output_type": "stream",
     "text": [
      "Less than 25 reviews available - skipped\n"
     ]
    },
    {
     "name": "stderr",
     "output_type": "stream",
     "text": [
      "looking for review ids:   5%|▍         | 97/2020 [28:11<9:01:41, 16.90s/movie]"
     ]
    },
    {
     "name": "stdout",
     "output_type": "stream",
     "text": [
      "Less than 25 reviews available - skipped\n"
     ]
    },
    {
     "name": "stderr",
     "output_type": "stream",
     "text": [
      "looking for review ids:   5%|▍         | 98/2020 [28:29<9:12:05, 17.23s/movie]"
     ]
    },
    {
     "name": "stdout",
     "output_type": "stream",
     "text": [
      "Less than 25 reviews available - skipped\n"
     ]
    },
    {
     "name": "stderr",
     "output_type": "stream",
     "text": [
      "looking for review ids:   5%|▍         | 99/2020 [28:46<9:11:55, 17.24s/movie]"
     ]
    },
    {
     "name": "stdout",
     "output_type": "stream",
     "text": [
      "Less than 25 reviews available - skipped\n"
     ]
    },
    {
     "name": "stderr",
     "output_type": "stream",
     "text": [
      "looking for review ids:   5%|▍         | 100/2020 [29:04<9:14:08, 17.32s/movie]"
     ]
    },
    {
     "name": "stdout",
     "output_type": "stream",
     "text": [
      "Less than 25 reviews available - skipped\n"
     ]
    },
    {
     "name": "stderr",
     "output_type": "stream",
     "text": [
      "looking for review ids:   5%|▌         | 101/2020 [29:21<9:10:57, 17.23s/movie]"
     ]
    },
    {
     "name": "stdout",
     "output_type": "stream",
     "text": [
      "Less than 25 reviews available - skipped\n"
     ]
    },
    {
     "name": "stderr",
     "output_type": "stream",
     "text": [
      "looking for review ids:   5%|▌         | 102/2020 [29:38<9:11:52, 17.26s/movie]"
     ]
    },
    {
     "name": "stdout",
     "output_type": "stream",
     "text": [
      "Less than 25 reviews available - skipped\n"
     ]
    },
    {
     "name": "stderr",
     "output_type": "stream",
     "text": [
      "looking for review ids:   5%|▌         | 103/2020 [29:57<9:26:43, 17.74s/movie]"
     ]
    },
    {
     "name": "stdout",
     "output_type": "stream",
     "text": [
      "Less than 25 reviews available - skipped\n"
     ]
    },
    {
     "name": "stderr",
     "output_type": "stream",
     "text": [
      "looking for review ids:   5%|▌         | 104/2020 [30:14<9:22:31, 17.62s/movie]"
     ]
    },
    {
     "name": "stdout",
     "output_type": "stream",
     "text": [
      "Less than 25 reviews available - skipped\n"
     ]
    },
    {
     "name": "stderr",
     "output_type": "stream",
     "text": [
      "looking for review ids:   5%|▌         | 105/2020 [30:31<9:16:25, 17.43s/movie]"
     ]
    },
    {
     "name": "stdout",
     "output_type": "stream",
     "text": [
      "Less than 25 reviews available - skipped\n"
     ]
    },
    {
     "name": "stderr",
     "output_type": "stream",
     "text": [
      "looking for review ids:   5%|▌         | 106/2020 [30:48<9:14:04, 17.37s/movie]"
     ]
    },
    {
     "name": "stdout",
     "output_type": "stream",
     "text": [
      "Less than 25 reviews available - skipped\n"
     ]
    },
    {
     "name": "stderr",
     "output_type": "stream",
     "text": [
      "looking for review ids:   5%|▌         | 108/2020 [31:21<8:53:26, 16.74s/movie]"
     ]
    },
    {
     "name": "stdout",
     "output_type": "stream",
     "text": [
      "Less than 25 reviews available - skipped\n"
     ]
    },
    {
     "name": "stderr",
     "output_type": "stream",
     "text": [
      "looking for review ids:   5%|▌         | 109/2020 [31:39<9:03:45, 17.07s/movie]"
     ]
    },
    {
     "name": "stdout",
     "output_type": "stream",
     "text": [
      "Less than 25 reviews available - skipped\n"
     ]
    },
    {
     "name": "stderr",
     "output_type": "stream",
     "text": [
      "looking for review ids:   5%|▌         | 110/2020 [31:57<9:11:44, 17.33s/movie]"
     ]
    },
    {
     "name": "stdout",
     "output_type": "stream",
     "text": [
      "Less than 25 reviews available - skipped\n"
     ]
    },
    {
     "name": "stderr",
     "output_type": "stream",
     "text": [
      "looking for review ids:   5%|▌         | 111/2020 [32:15<9:20:24, 17.61s/movie]"
     ]
    },
    {
     "name": "stdout",
     "output_type": "stream",
     "text": [
      "Less than 25 reviews available - skipped\n"
     ]
    },
    {
     "name": "stderr",
     "output_type": "stream",
     "text": [
      "looking for review ids:   6%|▌         | 112/2020 [32:33<9:21:03, 17.64s/movie]"
     ]
    },
    {
     "name": "stdout",
     "output_type": "stream",
     "text": [
      "Less than 25 reviews available - skipped\n"
     ]
    },
    {
     "name": "stderr",
     "output_type": "stream",
     "text": [
      "looking for review ids:   6%|▌         | 113/2020 [32:51<9:20:57, 17.65s/movie]"
     ]
    },
    {
     "name": "stdout",
     "output_type": "stream",
     "text": [
      "Less than 25 reviews available - skipped\n"
     ]
    },
    {
     "name": "stderr",
     "output_type": "stream",
     "text": [
      "looking for review ids:   6%|▌         | 114/2020 [33:08<9:22:26, 17.71s/movie]"
     ]
    },
    {
     "name": "stdout",
     "output_type": "stream",
     "text": [
      "Less than 25 reviews available - skipped\n"
     ]
    },
    {
     "name": "stderr",
     "output_type": "stream",
     "text": [
      "looking for review ids:   6%|▌         | 115/2020 [33:26<9:16:10, 17.52s/movie]"
     ]
    },
    {
     "name": "stdout",
     "output_type": "stream",
     "text": [
      "Less than 25 reviews available - skipped\n"
     ]
    },
    {
     "name": "stderr",
     "output_type": "stream",
     "text": [
      "looking for review ids:   6%|▌         | 116/2020 [33:43<9:18:22, 17.60s/movie]"
     ]
    },
    {
     "name": "stdout",
     "output_type": "stream",
     "text": [
      "Less than 25 reviews available - skipped\n"
     ]
    },
    {
     "name": "stderr",
     "output_type": "stream",
     "text": [
      "looking for review ids:   6%|▌         | 117/2020 [34:01<9:18:16, 17.60s/movie]"
     ]
    },
    {
     "name": "stdout",
     "output_type": "stream",
     "text": [
      "Less than 25 reviews available - skipped\n"
     ]
    },
    {
     "name": "stderr",
     "output_type": "stream",
     "text": [
      "looking for review ids:   6%|▌         | 118/2020 [34:18<9:11:43, 17.40s/movie]"
     ]
    },
    {
     "name": "stdout",
     "output_type": "stream",
     "text": [
      "Less than 25 reviews available - skipped\n"
     ]
    },
    {
     "name": "stderr",
     "output_type": "stream",
     "text": [
      "looking for review ids:   6%|▌         | 119/2020 [34:36<9:13:42, 17.48s/movie]"
     ]
    },
    {
     "name": "stdout",
     "output_type": "stream",
     "text": [
      "Less than 25 reviews available - skipped\n"
     ]
    },
    {
     "name": "stderr",
     "output_type": "stream",
     "text": [
      "looking for review ids:   6%|▌         | 121/2020 [35:08<8:53:48, 16.87s/movie]"
     ]
    },
    {
     "name": "stdout",
     "output_type": "stream",
     "text": [
      "esecuzione interrotta tempo finito\n"
     ]
    },
    {
     "name": "stderr",
     "output_type": "stream",
     "text": [
      "looking for review ids:   6%|▌         | 122/2020 [35:53<13:18:54, 25.26s/movie]"
     ]
    },
    {
     "name": "stdout",
     "output_type": "stream",
     "text": [
      "Less than 25 reviews available - skipped\n"
     ]
    },
    {
     "name": "stderr",
     "output_type": "stream",
     "text": [
      "looking for review ids:   6%|▌         | 123/2020 [36:11<12:05:37, 22.95s/movie]"
     ]
    },
    {
     "name": "stdout",
     "output_type": "stream",
     "text": [
      "Less than 25 reviews available - skipped\n"
     ]
    },
    {
     "name": "stderr",
     "output_type": "stream",
     "text": [
      "looking for review ids:   6%|▌         | 124/2020 [36:28<11:14:30, 21.35s/movie]"
     ]
    },
    {
     "name": "stdout",
     "output_type": "stream",
     "text": [
      "Less than 25 reviews available - skipped\n"
     ]
    },
    {
     "name": "stderr",
     "output_type": "stream",
     "text": [
      "looking for review ids:   6%|▌         | 125/2020 [36:46<10:36:08, 20.14s/movie]"
     ]
    },
    {
     "name": "stdout",
     "output_type": "stream",
     "text": [
      "Less than 25 reviews available - skipped\n"
     ]
    },
    {
     "name": "stderr",
     "output_type": "stream",
     "text": [
      "looking for review ids:   6%|▌         | 126/2020 [37:03<10:08:12, 19.27s/movie]"
     ]
    },
    {
     "name": "stdout",
     "output_type": "stream",
     "text": [
      "Less than 25 reviews available - skipped\n"
     ]
    },
    {
     "name": "stderr",
     "output_type": "stream",
     "text": [
      "looking for review ids:   6%|▋         | 127/2020 [37:20<9:49:25, 18.68s/movie] "
     ]
    },
    {
     "name": "stdout",
     "output_type": "stream",
     "text": [
      "Less than 25 reviews available - skipped\n"
     ]
    },
    {
     "name": "stderr",
     "output_type": "stream",
     "text": [
      "looking for review ids:   6%|▋         | 128/2020 [37:38<9:38:13, 18.34s/movie]"
     ]
    },
    {
     "name": "stdout",
     "output_type": "stream",
     "text": [
      "Less than 25 reviews available - skipped\n"
     ]
    },
    {
     "name": "stderr",
     "output_type": "stream",
     "text": [
      "looking for review ids:   6%|▋         | 129/2020 [37:57<9:47:23, 18.64s/movie]"
     ]
    },
    {
     "name": "stdout",
     "output_type": "stream",
     "text": [
      "Less than 25 reviews available - skipped\n"
     ]
    },
    {
     "name": "stderr",
     "output_type": "stream",
     "text": [
      "looking for review ids:   6%|▋         | 130/2020 [38:14<9:34:49, 18.25s/movie]"
     ]
    },
    {
     "name": "stdout",
     "output_type": "stream",
     "text": [
      "Less than 25 reviews available - skipped\n"
     ]
    },
    {
     "name": "stderr",
     "output_type": "stream",
     "text": [
      "looking for review ids:   6%|▋         | 131/2020 [38:32<9:30:02, 18.11s/movie]"
     ]
    },
    {
     "name": "stdout",
     "output_type": "stream",
     "text": [
      "Less than 25 reviews available - skipped\n"
     ]
    },
    {
     "name": "stderr",
     "output_type": "stream",
     "text": [
      "looking for review ids:   7%|▋         | 132/2020 [38:49<9:21:23, 17.84s/movie]"
     ]
    },
    {
     "name": "stdout",
     "output_type": "stream",
     "text": [
      "Less than 25 reviews available - skipped\n"
     ]
    },
    {
     "name": "stderr",
     "output_type": "stream",
     "text": [
      "looking for review ids:   7%|▋         | 133/2020 [39:06<9:13:07, 17.59s/movie]"
     ]
    },
    {
     "name": "stdout",
     "output_type": "stream",
     "text": [
      "Less than 25 reviews available - skipped\n"
     ]
    },
    {
     "name": "stderr",
     "output_type": "stream",
     "text": [
      "looking for review ids:   7%|▋         | 134/2020 [39:24<9:13:14, 17.60s/movie]"
     ]
    },
    {
     "name": "stdout",
     "output_type": "stream",
     "text": [
      "Less than 25 reviews available - skipped\n"
     ]
    },
    {
     "name": "stderr",
     "output_type": "stream",
     "text": [
      "looking for review ids:   7%|▋         | 135/2020 [39:41<9:11:37, 17.56s/movie]"
     ]
    },
    {
     "name": "stdout",
     "output_type": "stream",
     "text": [
      "Less than 25 reviews available - skipped\n"
     ]
    },
    {
     "name": "stderr",
     "output_type": "stream",
     "text": [
      "looking for review ids:   7%|▋         | 136/2020 [39:59<9:06:53, 17.42s/movie]"
     ]
    },
    {
     "name": "stdout",
     "output_type": "stream",
     "text": [
      "Less than 25 reviews available - skipped\n"
     ]
    },
    {
     "name": "stderr",
     "output_type": "stream",
     "text": [
      "looking for review ids:   7%|▋         | 137/2020 [40:17<9:13:39, 17.64s/movie]"
     ]
    },
    {
     "name": "stdout",
     "output_type": "stream",
     "text": [
      "Less than 25 reviews available - skipped\n"
     ]
    },
    {
     "name": "stderr",
     "output_type": "stream",
     "text": [
      "looking for review ids:   7%|▋         | 138/2020 [40:34<9:14:11, 17.67s/movie]"
     ]
    },
    {
     "name": "stdout",
     "output_type": "stream",
     "text": [
      "Less than 25 reviews available - skipped\n"
     ]
    },
    {
     "name": "stderr",
     "output_type": "stream",
     "text": [
      "looking for review ids:   7%|▋         | 139/2020 [40:52<9:10:14, 17.55s/movie]"
     ]
    },
    {
     "name": "stdout",
     "output_type": "stream",
     "text": [
      "Less than 25 reviews available - skipped\n"
     ]
    },
    {
     "name": "stderr",
     "output_type": "stream",
     "text": [
      "looking for review ids:   7%|▋         | 140/2020 [41:09<9:10:21, 17.56s/movie]"
     ]
    },
    {
     "name": "stdout",
     "output_type": "stream",
     "text": [
      "Less than 25 reviews available - skipped\n"
     ]
    },
    {
     "name": "stderr",
     "output_type": "stream",
     "text": [
      "looking for review ids:   7%|▋         | 141/2020 [41:27<9:08:38, 17.52s/movie]"
     ]
    },
    {
     "name": "stdout",
     "output_type": "stream",
     "text": [
      "Less than 25 reviews available - skipped\n"
     ]
    },
    {
     "name": "stderr",
     "output_type": "stream",
     "text": [
      "looking for review ids:   7%|▋         | 142/2020 [41:44<9:06:37, 17.46s/movie]"
     ]
    },
    {
     "name": "stdout",
     "output_type": "stream",
     "text": [
      "Less than 25 reviews available - skipped\n"
     ]
    },
    {
     "name": "stderr",
     "output_type": "stream",
     "text": [
      "looking for review ids:   7%|▋         | 143/2020 [42:02<9:11:17, 17.62s/movie]"
     ]
    },
    {
     "name": "stdout",
     "output_type": "stream",
     "text": [
      "Less than 25 reviews available - skipped\n"
     ]
    },
    {
     "name": "stderr",
     "output_type": "stream",
     "text": [
      "looking for review ids:   7%|▋         | 144/2020 [42:20<9:17:03, 17.82s/movie]"
     ]
    },
    {
     "name": "stdout",
     "output_type": "stream",
     "text": [
      "Less than 25 reviews available - skipped\n"
     ]
    },
    {
     "name": "stderr",
     "output_type": "stream",
     "text": [
      "looking for review ids:   7%|▋         | 145/2020 [42:38<9:19:15, 17.90s/movie]"
     ]
    },
    {
     "name": "stdout",
     "output_type": "stream",
     "text": [
      "Less than 25 reviews available - skipped\n"
     ]
    },
    {
     "name": "stderr",
     "output_type": "stream",
     "text": [
      "looking for review ids:   7%|▋         | 146/2020 [42:56<9:13:38, 17.73s/movie]"
     ]
    },
    {
     "name": "stdout",
     "output_type": "stream",
     "text": [
      "Less than 25 reviews available - skipped\n"
     ]
    },
    {
     "name": "stderr",
     "output_type": "stream",
     "text": [
      "looking for review ids:   7%|▋         | 147/2020 [43:13<9:11:32, 17.67s/movie]"
     ]
    },
    {
     "name": "stdout",
     "output_type": "stream",
     "text": [
      "Less than 25 reviews available - skipped\n"
     ]
    },
    {
     "name": "stderr",
     "output_type": "stream",
     "text": [
      "looking for review ids:   7%|▋         | 148/2020 [43:30<9:02:11, 17.38s/movie]"
     ]
    },
    {
     "name": "stdout",
     "output_type": "stream",
     "text": [
      "Less than 25 reviews available - skipped\n"
     ]
    },
    {
     "name": "stderr",
     "output_type": "stream",
     "text": [
      "looking for review ids:   7%|▋         | 149/2020 [43:48<9:06:16, 17.52s/movie]"
     ]
    },
    {
     "name": "stdout",
     "output_type": "stream",
     "text": [
      "Less than 25 reviews available - skipped\n"
     ]
    },
    {
     "name": "stderr",
     "output_type": "stream",
     "text": [
      "looking for review ids:   7%|▋         | 150/2020 [44:05<9:04:47, 17.48s/movie]"
     ]
    },
    {
     "name": "stdout",
     "output_type": "stream",
     "text": [
      "Less than 25 reviews available - skipped\n"
     ]
    },
    {
     "name": "stderr",
     "output_type": "stream",
     "text": [
      "looking for review ids:   7%|▋         | 151/2020 [44:23<9:07:06, 17.56s/movie]"
     ]
    },
    {
     "name": "stdout",
     "output_type": "stream",
     "text": [
      "Less than 25 reviews available - skipped\n"
     ]
    },
    {
     "name": "stderr",
     "output_type": "stream",
     "text": [
      "looking for review ids:   8%|▊         | 152/2020 [44:41<9:07:14, 17.58s/movie]"
     ]
    },
    {
     "name": "stdout",
     "output_type": "stream",
     "text": [
      "Less than 25 reviews available - skipped\n"
     ]
    },
    {
     "name": "stderr",
     "output_type": "stream",
     "text": [
      "looking for review ids:   8%|▊         | 153/2020 [44:59<9:14:28, 17.82s/movie]"
     ]
    },
    {
     "name": "stdout",
     "output_type": "stream",
     "text": [
      "Less than 25 reviews available - skipped\n"
     ]
    },
    {
     "name": "stderr",
     "output_type": "stream",
     "text": [
      "looking for review ids:   8%|▊         | 154/2020 [45:16<9:07:51, 17.62s/movie]"
     ]
    },
    {
     "name": "stdout",
     "output_type": "stream",
     "text": [
      "Less than 25 reviews available - skipped\n"
     ]
    },
    {
     "name": "stderr",
     "output_type": "stream",
     "text": [
      "looking for review ids:   8%|▊         | 155/2020 [45:34<9:05:58, 17.57s/movie]"
     ]
    },
    {
     "name": "stdout",
     "output_type": "stream",
     "text": [
      "Less than 25 reviews available - skipped\n"
     ]
    },
    {
     "name": "stderr",
     "output_type": "stream",
     "text": [
      "looking for review ids:   8%|▊         | 156/2020 [45:50<8:56:03, 17.26s/movie]"
     ]
    },
    {
     "name": "stdout",
     "output_type": "stream",
     "text": [
      "Less than 25 reviews available - skipped\n"
     ]
    },
    {
     "name": "stderr",
     "output_type": "stream",
     "text": [
      "looking for review ids:   8%|▊         | 157/2020 [46:07<8:54:25, 17.21s/movie]"
     ]
    },
    {
     "name": "stdout",
     "output_type": "stream",
     "text": [
      "Less than 25 reviews available - skipped\n"
     ]
    },
    {
     "name": "stderr",
     "output_type": "stream",
     "text": [
      "looking for review ids:   8%|▊         | 158/2020 [46:24<8:52:52, 17.17s/movie]"
     ]
    },
    {
     "name": "stdout",
     "output_type": "stream",
     "text": [
      "Less than 25 reviews available - skipped\n"
     ]
    },
    {
     "name": "stderr",
     "output_type": "stream",
     "text": [
      "looking for review ids:   8%|▊         | 159/2020 [46:42<8:57:54, 17.34s/movie]"
     ]
    },
    {
     "name": "stdout",
     "output_type": "stream",
     "text": [
      "Less than 25 reviews available - skipped\n"
     ]
    },
    {
     "name": "stderr",
     "output_type": "stream",
     "text": [
      "looking for review ids:   8%|▊         | 160/2020 [46:59<8:58:31, 17.37s/movie]"
     ]
    },
    {
     "name": "stdout",
     "output_type": "stream",
     "text": [
      "Less than 25 reviews available - skipped\n"
     ]
    },
    {
     "name": "stderr",
     "output_type": "stream",
     "text": [
      "looking for review ids:   8%|▊         | 161/2020 [47:17<8:56:30, 17.32s/movie]"
     ]
    },
    {
     "name": "stdout",
     "output_type": "stream",
     "text": [
      "Less than 25 reviews available - skipped\n"
     ]
    },
    {
     "name": "stderr",
     "output_type": "stream",
     "text": [
      "looking for review ids:   8%|▊         | 162/2020 [47:35<9:03:28, 17.55s/movie]"
     ]
    },
    {
     "name": "stdout",
     "output_type": "stream",
     "text": [
      "Less than 25 reviews available - skipped\n"
     ]
    },
    {
     "name": "stderr",
     "output_type": "stream",
     "text": [
      "looking for review ids:   8%|▊         | 163/2020 [47:53<9:05:01, 17.61s/movie]"
     ]
    },
    {
     "name": "stdout",
     "output_type": "stream",
     "text": [
      "Less than 25 reviews available - skipped\n"
     ]
    },
    {
     "name": "stderr",
     "output_type": "stream",
     "text": [
      "looking for review ids:   8%|▊         | 164/2020 [48:10<9:02:01, 17.52s/movie]"
     ]
    },
    {
     "name": "stdout",
     "output_type": "stream",
     "text": [
      "Less than 25 reviews available - skipped\n"
     ]
    },
    {
     "name": "stderr",
     "output_type": "stream",
     "text": [
      "looking for review ids:   8%|▊         | 165/2020 [48:27<8:57:07, 17.37s/movie]"
     ]
    },
    {
     "name": "stdout",
     "output_type": "stream",
     "text": [
      "Less than 25 reviews available - skipped\n"
     ]
    },
    {
     "name": "stderr",
     "output_type": "stream",
     "text": [
      "looking for review ids:   8%|▊         | 166/2020 [48:45<8:59:23, 17.46s/movie]"
     ]
    },
    {
     "name": "stdout",
     "output_type": "stream",
     "text": [
      "Less than 25 reviews available - skipped\n"
     ]
    },
    {
     "name": "stderr",
     "output_type": "stream",
     "text": [
      "looking for review ids:   8%|▊         | 167/2020 [49:03<9:05:58, 17.68s/movie]"
     ]
    },
    {
     "name": "stdout",
     "output_type": "stream",
     "text": [
      "Less than 25 reviews available - skipped\n"
     ]
    },
    {
     "name": "stderr",
     "output_type": "stream",
     "text": [
      "looking for review ids:   8%|▊         | 168/2020 [49:20<9:03:24, 17.61s/movie]"
     ]
    },
    {
     "name": "stdout",
     "output_type": "stream",
     "text": [
      "Less than 25 reviews available - skipped\n"
     ]
    },
    {
     "name": "stderr",
     "output_type": "stream",
     "text": [
      "looking for review ids:   8%|▊         | 169/2020 [49:38<9:02:44, 17.59s/movie]"
     ]
    },
    {
     "name": "stdout",
     "output_type": "stream",
     "text": [
      "Less than 25 reviews available - skipped\n"
     ]
    },
    {
     "name": "stderr",
     "output_type": "stream",
     "text": [
      "looking for review ids:   8%|▊         | 170/2020 [49:55<9:00:06, 17.52s/movie]"
     ]
    },
    {
     "name": "stdout",
     "output_type": "stream",
     "text": [
      "Less than 25 reviews available - skipped\n"
     ]
    },
    {
     "name": "stderr",
     "output_type": "stream",
     "text": [
      "looking for review ids:   8%|▊         | 171/2020 [50:13<9:01:22, 17.57s/movie]"
     ]
    },
    {
     "name": "stdout",
     "output_type": "stream",
     "text": [
      "Less than 25 reviews available - skipped\n"
     ]
    },
    {
     "name": "stderr",
     "output_type": "stream",
     "text": [
      "looking for review ids:   9%|▊         | 172/2020 [50:30<9:00:26, 17.55s/movie]"
     ]
    },
    {
     "name": "stdout",
     "output_type": "stream",
     "text": [
      "Less than 25 reviews available - skipped\n"
     ]
    },
    {
     "name": "stderr",
     "output_type": "stream",
     "text": [
      "looking for review ids:   9%|▊         | 173/2020 [50:47<8:56:08, 17.42s/movie]"
     ]
    },
    {
     "name": "stdout",
     "output_type": "stream",
     "text": [
      "Less than 25 reviews available - skipped\n"
     ]
    },
    {
     "name": "stderr",
     "output_type": "stream",
     "text": [
      "looking for review ids:   9%|▊         | 174/2020 [51:05<8:58:18, 17.50s/movie]"
     ]
    },
    {
     "name": "stdout",
     "output_type": "stream",
     "text": [
      "Less than 25 reviews available - skipped\n"
     ]
    },
    {
     "name": "stderr",
     "output_type": "stream",
     "text": [
      "looking for review ids:   9%|▊         | 175/2020 [51:23<9:04:30, 17.71s/movie]"
     ]
    },
    {
     "name": "stdout",
     "output_type": "stream",
     "text": [
      "Less than 25 reviews available - skipped\n"
     ]
    },
    {
     "name": "stderr",
     "output_type": "stream",
     "text": [
      "looking for review ids:   9%|▊         | 176/2020 [51:41<9:04:16, 17.71s/movie]"
     ]
    },
    {
     "name": "stdout",
     "output_type": "stream",
     "text": [
      "Less than 25 reviews available - skipped\n"
     ]
    },
    {
     "name": "stderr",
     "output_type": "stream",
     "text": [
      "looking for review ids:   9%|▉         | 177/2020 [51:59<9:03:49, 17.70s/movie]"
     ]
    },
    {
     "name": "stdout",
     "output_type": "stream",
     "text": [
      "Less than 25 reviews available - skipped\n"
     ]
    },
    {
     "name": "stderr",
     "output_type": "stream",
     "text": [
      "looking for review ids:   9%|▉         | 178/2020 [52:16<9:00:15, 17.60s/movie]"
     ]
    },
    {
     "name": "stdout",
     "output_type": "stream",
     "text": [
      "Less than 25 reviews available - skipped\n"
     ]
    },
    {
     "name": "stderr",
     "output_type": "stream",
     "text": [
      "looking for review ids:   9%|▉         | 179/2020 [52:33<8:57:21, 17.51s/movie]"
     ]
    },
    {
     "name": "stdout",
     "output_type": "stream",
     "text": [
      "Less than 25 reviews available - skipped\n"
     ]
    },
    {
     "name": "stderr",
     "output_type": "stream",
     "text": [
      "looking for review ids:   9%|▉         | 180/2020 [52:51<8:55:40, 17.47s/movie]"
     ]
    },
    {
     "name": "stdout",
     "output_type": "stream",
     "text": [
      "Less than 25 reviews available - skipped\n"
     ]
    },
    {
     "name": "stderr",
     "output_type": "stream",
     "text": [
      "looking for review ids:   9%|▉         | 181/2020 [53:08<8:53:42, 17.41s/movie]"
     ]
    },
    {
     "name": "stdout",
     "output_type": "stream",
     "text": [
      "Less than 25 reviews available - skipped\n"
     ]
    },
    {
     "name": "stderr",
     "output_type": "stream",
     "text": [
      "looking for review ids:   9%|▉         | 182/2020 [53:25<8:51:17, 17.34s/movie]"
     ]
    },
    {
     "name": "stdout",
     "output_type": "stream",
     "text": [
      "Less than 25 reviews available - skipped\n"
     ]
    },
    {
     "name": "stderr",
     "output_type": "stream",
     "text": [
      "looking for review ids:   9%|▉         | 183/2020 [53:43<8:59:54, 17.63s/movie]"
     ]
    },
    {
     "name": "stdout",
     "output_type": "stream",
     "text": [
      "Less than 25 reviews available - skipped\n"
     ]
    },
    {
     "name": "stderr",
     "output_type": "stream",
     "text": [
      "looking for review ids:   9%|▉         | 184/2020 [54:01<8:58:28, 17.60s/movie]"
     ]
    },
    {
     "name": "stdout",
     "output_type": "stream",
     "text": [
      "Less than 25 reviews available - skipped\n"
     ]
    },
    {
     "name": "stderr",
     "output_type": "stream",
     "text": [
      "looking for review ids:   9%|▉         | 185/2020 [54:18<8:54:31, 17.48s/movie]"
     ]
    },
    {
     "name": "stdout",
     "output_type": "stream",
     "text": [
      "Less than 25 reviews available - skipped\n"
     ]
    },
    {
     "name": "stderr",
     "output_type": "stream",
     "text": [
      "looking for review ids:   9%|▉         | 186/2020 [54:35<8:51:21, 17.38s/movie]"
     ]
    },
    {
     "name": "stdout",
     "output_type": "stream",
     "text": [
      "Less than 25 reviews available - skipped\n"
     ]
    },
    {
     "name": "stderr",
     "output_type": "stream",
     "text": [
      "looking for review ids:   9%|▉         | 187/2020 [54:53<8:52:17, 17.42s/movie]"
     ]
    },
    {
     "name": "stdout",
     "output_type": "stream",
     "text": [
      "Less than 25 reviews available - skipped\n"
     ]
    },
    {
     "name": "stderr",
     "output_type": "stream",
     "text": [
      "looking for review ids:   9%|▉         | 188/2020 [55:10<8:51:55, 17.42s/movie]"
     ]
    },
    {
     "name": "stdout",
     "output_type": "stream",
     "text": [
      "Less than 25 reviews available - skipped\n"
     ]
    },
    {
     "name": "stderr",
     "output_type": "stream",
     "text": [
      "looking for review ids:   9%|▉         | 189/2020 [55:28<8:52:48, 17.46s/movie]"
     ]
    },
    {
     "name": "stdout",
     "output_type": "stream",
     "text": [
      "Less than 25 reviews available - skipped\n"
     ]
    },
    {
     "name": "stderr",
     "output_type": "stream",
     "text": [
      "looking for review ids:   9%|▉         | 190/2020 [55:45<8:52:03, 17.44s/movie]"
     ]
    },
    {
     "name": "stdout",
     "output_type": "stream",
     "text": [
      "Less than 25 reviews available - skipped\n"
     ]
    },
    {
     "name": "stderr",
     "output_type": "stream",
     "text": [
      "looking for review ids:   9%|▉         | 191/2020 [56:03<8:54:13, 17.53s/movie]"
     ]
    },
    {
     "name": "stdout",
     "output_type": "stream",
     "text": [
      "Less than 25 reviews available - skipped\n"
     ]
    },
    {
     "name": "stderr",
     "output_type": "stream",
     "text": [
      "looking for review ids:  10%|▉         | 193/2020 [56:37<8:47:00, 17.31s/movie]"
     ]
    },
    {
     "name": "stdout",
     "output_type": "stream",
     "text": [
      "Less than 25 reviews available - skipped\n"
     ]
    },
    {
     "name": "stderr",
     "output_type": "stream",
     "text": [
      "looking for review ids:  10%|▉         | 194/2020 [56:55<8:49:35, 17.40s/movie]"
     ]
    },
    {
     "name": "stdout",
     "output_type": "stream",
     "text": [
      "Less than 25 reviews available - skipped\n"
     ]
    },
    {
     "name": "stderr",
     "output_type": "stream",
     "text": [
      "looking for review ids:  10%|▉         | 195/2020 [57:12<8:48:02, 17.36s/movie]"
     ]
    },
    {
     "name": "stdout",
     "output_type": "stream",
     "text": [
      "Less than 25 reviews available - skipped\n"
     ]
    },
    {
     "name": "stderr",
     "output_type": "stream",
     "text": [
      "looking for review ids:  10%|▉         | 196/2020 [57:30<8:53:50, 17.56s/movie]"
     ]
    },
    {
     "name": "stdout",
     "output_type": "stream",
     "text": [
      "Less than 25 reviews available - skipped\n"
     ]
    },
    {
     "name": "stderr",
     "output_type": "stream",
     "text": [
      "looking for review ids:  10%|▉         | 197/2020 [57:48<8:53:24, 17.56s/movie]"
     ]
    },
    {
     "name": "stdout",
     "output_type": "stream",
     "text": [
      "Less than 25 reviews available - skipped\n"
     ]
    },
    {
     "name": "stderr",
     "output_type": "stream",
     "text": [
      "looking for review ids:  10%|▉         | 198/2020 [58:05<8:48:56, 17.42s/movie]"
     ]
    },
    {
     "name": "stdout",
     "output_type": "stream",
     "text": [
      "Less than 25 reviews available - skipped\n"
     ]
    },
    {
     "name": "stderr",
     "output_type": "stream",
     "text": [
      "looking for review ids:  10%|▉         | 199/2020 [58:22<8:48:13, 17.40s/movie]"
     ]
    },
    {
     "name": "stdout",
     "output_type": "stream",
     "text": [
      "Less than 25 reviews available - skipped\n"
     ]
    },
    {
     "name": "stderr",
     "output_type": "stream",
     "text": [
      "looking for review ids:  10%|▉         | 200/2020 [58:38<8:38:34, 17.10s/movie]"
     ]
    },
    {
     "name": "stdout",
     "output_type": "stream",
     "text": [
      "Less than 25 reviews available - skipped\n"
     ]
    },
    {
     "name": "stderr",
     "output_type": "stream",
     "text": [
      "looking for review ids:  10%|▉         | 201/2020 [58:54<8:25:17, 16.67s/movie]"
     ]
    },
    {
     "name": "stdout",
     "output_type": "stream",
     "text": [
      "Less than 25 reviews available - skipped\n"
     ]
    },
    {
     "name": "stderr",
     "output_type": "stream",
     "text": [
      "looking for review ids:  10%|█         | 202/2020 [59:10<8:14:54, 16.33s/movie]"
     ]
    },
    {
     "name": "stdout",
     "output_type": "stream",
     "text": [
      "Less than 25 reviews available - skipped\n"
     ]
    },
    {
     "name": "stderr",
     "output_type": "stream",
     "text": [
      "looking for review ids:  10%|█         | 203/2020 [59:25<8:08:29, 16.13s/movie]"
     ]
    },
    {
     "name": "stdout",
     "output_type": "stream",
     "text": [
      "Less than 25 reviews available - skipped\n"
     ]
    },
    {
     "name": "stderr",
     "output_type": "stream",
     "text": [
      "looking for review ids:  10%|█         | 204/2020 [59:41<8:03:03, 15.96s/movie]"
     ]
    },
    {
     "name": "stdout",
     "output_type": "stream",
     "text": [
      "Less than 25 reviews available - skipped\n"
     ]
    },
    {
     "name": "stderr",
     "output_type": "stream",
     "text": [
      "looking for review ids:  10%|█         | 205/2020 [59:56<7:57:33, 15.79s/movie]"
     ]
    },
    {
     "name": "stdout",
     "output_type": "stream",
     "text": [
      "Less than 25 reviews available - skipped\n"
     ]
    },
    {
     "name": "stderr",
     "output_type": "stream",
     "text": [
      "looking for review ids:  10%|█         | 206/2020 [1:00:12<7:55:25, 15.73s/movie]"
     ]
    },
    {
     "name": "stdout",
     "output_type": "stream",
     "text": [
      "Less than 25 reviews available - skipped\n"
     ]
    },
    {
     "name": "stderr",
     "output_type": "stream",
     "text": [
      "looking for review ids:  10%|█         | 207/2020 [1:00:27<7:54:00, 15.69s/movie]"
     ]
    },
    {
     "name": "stdout",
     "output_type": "stream",
     "text": [
      "Less than 25 reviews available - skipped\n"
     ]
    },
    {
     "name": "stderr",
     "output_type": "stream",
     "text": [
      "looking for review ids:  10%|█         | 208/2020 [1:00:44<7:58:49, 15.86s/movie]"
     ]
    },
    {
     "name": "stdout",
     "output_type": "stream",
     "text": [
      "Less than 25 reviews available - skipped\n"
     ]
    },
    {
     "name": "stderr",
     "output_type": "stream",
     "text": [
      "looking for review ids:  10%|█         | 209/2020 [1:01:00<7:58:57, 15.87s/movie]"
     ]
    },
    {
     "name": "stdout",
     "output_type": "stream",
     "text": [
      "Less than 25 reviews available - skipped\n"
     ]
    },
    {
     "name": "stderr",
     "output_type": "stream",
     "text": [
      "looking for review ids:  10%|█         | 210/2020 [1:01:15<7:58:42, 15.87s/movie]"
     ]
    },
    {
     "name": "stdout",
     "output_type": "stream",
     "text": [
      "Less than 25 reviews available - skipped\n"
     ]
    },
    {
     "name": "stderr",
     "output_type": "stream",
     "text": [
      "looking for review ids:  10%|█         | 211/2020 [1:01:31<8:00:08, 15.93s/movie]"
     ]
    },
    {
     "name": "stdout",
     "output_type": "stream",
     "text": [
      "Less than 25 reviews available - skipped\n"
     ]
    },
    {
     "name": "stderr",
     "output_type": "stream",
     "text": [
      "looking for review ids:  10%|█         | 212/2020 [1:01:47<7:59:49, 15.92s/movie]"
     ]
    },
    {
     "name": "stdout",
     "output_type": "stream",
     "text": [
      "Less than 25 reviews available - skipped\n"
     ]
    },
    {
     "name": "stderr",
     "output_type": "stream",
     "text": [
      "looking for review ids:  11%|█         | 213/2020 [1:02:03<7:58:06, 15.88s/movie]"
     ]
    },
    {
     "name": "stdout",
     "output_type": "stream",
     "text": [
      "Less than 25 reviews available - skipped\n"
     ]
    },
    {
     "name": "stderr",
     "output_type": "stream",
     "text": [
      "looking for review ids:  11%|█         | 214/2020 [1:02:19<7:59:24, 15.93s/movie]"
     ]
    },
    {
     "name": "stdout",
     "output_type": "stream",
     "text": [
      "Less than 25 reviews available - skipped\n"
     ]
    },
    {
     "name": "stderr",
     "output_type": "stream",
     "text": [
      "looking for review ids:  11%|█         | 215/2020 [1:02:35<7:57:23, 15.87s/movie]"
     ]
    },
    {
     "name": "stdout",
     "output_type": "stream",
     "text": [
      "Less than 25 reviews available - skipped\n"
     ]
    },
    {
     "name": "stderr",
     "output_type": "stream",
     "text": [
      "looking for review ids:  11%|█         | 216/2020 [1:02:51<7:57:40, 15.89s/movie]"
     ]
    },
    {
     "name": "stdout",
     "output_type": "stream",
     "text": [
      "Less than 25 reviews available - skipped\n"
     ]
    },
    {
     "name": "stderr",
     "output_type": "stream",
     "text": [
      "looking for review ids:  11%|█         | 217/2020 [1:03:07<7:57:11, 15.88s/movie]"
     ]
    },
    {
     "name": "stdout",
     "output_type": "stream",
     "text": [
      "Less than 25 reviews available - skipped\n"
     ]
    },
    {
     "name": "stderr",
     "output_type": "stream",
     "text": [
      "looking for review ids:  11%|█         | 218/2020 [1:03:23<7:56:35, 15.87s/movie]"
     ]
    },
    {
     "name": "stdout",
     "output_type": "stream",
     "text": [
      "Less than 25 reviews available - skipped\n"
     ]
    },
    {
     "name": "stderr",
     "output_type": "stream",
     "text": [
      "looking for review ids:  11%|█         | 219/2020 [1:03:39<8:00:12, 16.00s/movie]"
     ]
    },
    {
     "name": "stdout",
     "output_type": "stream",
     "text": [
      "Less than 25 reviews available - skipped\n"
     ]
    },
    {
     "name": "stderr",
     "output_type": "stream",
     "text": [
      "looking for review ids:  11%|█         | 220/2020 [1:03:54<7:56:20, 15.88s/movie]"
     ]
    },
    {
     "name": "stdout",
     "output_type": "stream",
     "text": [
      "Less than 25 reviews available - skipped\n"
     ]
    },
    {
     "name": "stderr",
     "output_type": "stream",
     "text": [
      "looking for review ids:  11%|█         | 221/2020 [1:04:10<7:55:40, 15.86s/movie]"
     ]
    },
    {
     "name": "stdout",
     "output_type": "stream",
     "text": [
      "Less than 25 reviews available - skipped\n"
     ]
    },
    {
     "name": "stderr",
     "output_type": "stream",
     "text": [
      "looking for review ids:  11%|█         | 222/2020 [1:04:26<7:53:38, 15.81s/movie]"
     ]
    },
    {
     "name": "stdout",
     "output_type": "stream",
     "text": [
      "Less than 25 reviews available - skipped\n"
     ]
    },
    {
     "name": "stderr",
     "output_type": "stream",
     "text": [
      "looking for review ids:  11%|█         | 223/2020 [1:04:42<7:54:02, 15.83s/movie]"
     ]
    },
    {
     "name": "stdout",
     "output_type": "stream",
     "text": [
      "Less than 25 reviews available - skipped\n"
     ]
    },
    {
     "name": "stderr",
     "output_type": "stream",
     "text": [
      "looking for review ids:  11%|█         | 224/2020 [1:04:58<7:54:16, 15.84s/movie]"
     ]
    },
    {
     "name": "stdout",
     "output_type": "stream",
     "text": [
      "Less than 25 reviews available - skipped\n"
     ]
    },
    {
     "name": "stderr",
     "output_type": "stream",
     "text": [
      "looking for review ids:  11%|█         | 225/2020 [1:05:14<7:56:00, 15.91s/movie]"
     ]
    },
    {
     "name": "stdout",
     "output_type": "stream",
     "text": [
      "Less than 25 reviews available - skipped\n"
     ]
    },
    {
     "name": "stderr",
     "output_type": "stream",
     "text": [
      "looking for review ids:  11%|█         | 226/2020 [1:05:29<7:53:12, 15.83s/movie]"
     ]
    },
    {
     "name": "stdout",
     "output_type": "stream",
     "text": [
      "Less than 25 reviews available - skipped\n"
     ]
    },
    {
     "name": "stderr",
     "output_type": "stream",
     "text": [
      "looking for review ids:  11%|█         | 227/2020 [1:05:45<7:53:34, 15.85s/movie]"
     ]
    },
    {
     "name": "stdout",
     "output_type": "stream",
     "text": [
      "Less than 25 reviews available - skipped\n"
     ]
    },
    {
     "name": "stderr",
     "output_type": "stream",
     "text": [
      "looking for review ids:  11%|█▏        | 228/2020 [1:06:01<7:52:52, 15.83s/movie]"
     ]
    },
    {
     "name": "stdout",
     "output_type": "stream",
     "text": [
      "Less than 25 reviews available - skipped\n"
     ]
    },
    {
     "name": "stderr",
     "output_type": "stream",
     "text": [
      "looking for review ids:  11%|█▏        | 229/2020 [1:06:17<7:50:56, 15.78s/movie]"
     ]
    },
    {
     "name": "stdout",
     "output_type": "stream",
     "text": [
      "Less than 25 reviews available - skipped\n"
     ]
    },
    {
     "name": "stderr",
     "output_type": "stream",
     "text": [
      "looking for review ids:  11%|█▏        | 230/2020 [1:06:33<7:51:01, 15.79s/movie]"
     ]
    },
    {
     "name": "stdout",
     "output_type": "stream",
     "text": [
      "Less than 25 reviews available - skipped\n"
     ]
    },
    {
     "name": "stderr",
     "output_type": "stream",
     "text": [
      "looking for review ids:  11%|█▏        | 231/2020 [1:06:48<7:50:42, 15.79s/movie]"
     ]
    },
    {
     "name": "stdout",
     "output_type": "stream",
     "text": [
      "Less than 25 reviews available - skipped\n"
     ]
    },
    {
     "name": "stderr",
     "output_type": "stream",
     "text": [
      "looking for review ids:  11%|█▏        | 232/2020 [1:07:04<7:48:54, 15.74s/movie]"
     ]
    },
    {
     "name": "stdout",
     "output_type": "stream",
     "text": [
      "Less than 25 reviews available - skipped\n"
     ]
    },
    {
     "name": "stderr",
     "output_type": "stream",
     "text": [
      "looking for review ids:  12%|█▏        | 233/2020 [1:07:20<7:50:32, 15.80s/movie]"
     ]
    },
    {
     "name": "stdout",
     "output_type": "stream",
     "text": [
      "Less than 25 reviews available - skipped\n"
     ]
    },
    {
     "name": "stderr",
     "output_type": "stream",
     "text": [
      "looking for review ids:  12%|█▏        | 234/2020 [1:07:36<7:49:32, 15.77s/movie]"
     ]
    },
    {
     "name": "stdout",
     "output_type": "stream",
     "text": [
      "Less than 25 reviews available - skipped\n"
     ]
    },
    {
     "name": "stderr",
     "output_type": "stream",
     "text": [
      "looking for review ids:  12%|█▏        | 235/2020 [1:07:52<7:50:13, 15.81s/movie]"
     ]
    },
    {
     "name": "stdout",
     "output_type": "stream",
     "text": [
      "Less than 25 reviews available - skipped\n"
     ]
    },
    {
     "name": "stderr",
     "output_type": "stream",
     "text": [
      "looking for review ids:  12%|█▏        | 236/2020 [1:08:07<7:49:25, 15.79s/movie]"
     ]
    },
    {
     "name": "stdout",
     "output_type": "stream",
     "text": [
      "Less than 25 reviews available - skipped\n"
     ]
    },
    {
     "name": "stderr",
     "output_type": "stream",
     "text": [
      "looking for review ids:  12%|█▏        | 237/2020 [1:08:23<7:48:48, 15.78s/movie]"
     ]
    },
    {
     "name": "stdout",
     "output_type": "stream",
     "text": [
      "Less than 25 reviews available - skipped\n"
     ]
    },
    {
     "name": "stderr",
     "output_type": "stream",
     "text": [
      "looking for review ids:  12%|█▏        | 238/2020 [1:08:38<7:45:37, 15.68s/movie]"
     ]
    },
    {
     "name": "stdout",
     "output_type": "stream",
     "text": [
      "Less than 25 reviews available - skipped\n"
     ]
    },
    {
     "name": "stderr",
     "output_type": "stream",
     "text": [
      "looking for review ids:  12%|█▏        | 239/2020 [1:08:54<7:45:22, 15.68s/movie]"
     ]
    },
    {
     "name": "stdout",
     "output_type": "stream",
     "text": [
      "Less than 25 reviews available - skipped\n"
     ]
    },
    {
     "name": "stderr",
     "output_type": "stream",
     "text": [
      "looking for review ids:  12%|█▏        | 240/2020 [1:09:10<7:49:20, 15.82s/movie]"
     ]
    },
    {
     "name": "stdout",
     "output_type": "stream",
     "text": [
      "Less than 25 reviews available - skipped\n"
     ]
    },
    {
     "name": "stderr",
     "output_type": "stream",
     "text": [
      "looking for review ids:  12%|█▏        | 241/2020 [1:09:26<7:49:27, 15.83s/movie]"
     ]
    },
    {
     "name": "stdout",
     "output_type": "stream",
     "text": [
      "Less than 25 reviews available - skipped\n"
     ]
    },
    {
     "name": "stderr",
     "output_type": "stream",
     "text": [
      "looking for review ids:  12%|█▏        | 242/2020 [1:09:42<7:52:16, 15.94s/movie]"
     ]
    },
    {
     "name": "stdout",
     "output_type": "stream",
     "text": [
      "Less than 25 reviews available - skipped\n"
     ]
    },
    {
     "name": "stderr",
     "output_type": "stream",
     "text": [
      "looking for review ids:  12%|█▏        | 243/2020 [1:09:58<7:53:01, 15.97s/movie]"
     ]
    },
    {
     "name": "stdout",
     "output_type": "stream",
     "text": [
      "Less than 25 reviews available - skipped\n"
     ]
    },
    {
     "name": "stderr",
     "output_type": "stream",
     "text": [
      "looking for review ids:  12%|█▏        | 244/2020 [1:10:14<7:51:29, 15.93s/movie]"
     ]
    },
    {
     "name": "stdout",
     "output_type": "stream",
     "text": [
      "Less than 25 reviews available - skipped\n"
     ]
    },
    {
     "name": "stderr",
     "output_type": "stream",
     "text": [
      "looking for review ids:  12%|█▏        | 245/2020 [1:10:30<7:49:46, 15.88s/movie]"
     ]
    },
    {
     "name": "stdout",
     "output_type": "stream",
     "text": [
      "Less than 25 reviews available - skipped\n"
     ]
    },
    {
     "name": "stderr",
     "output_type": "stream",
     "text": [
      "looking for review ids:  12%|█▏        | 246/2020 [1:10:46<7:48:32, 15.85s/movie]"
     ]
    },
    {
     "name": "stdout",
     "output_type": "stream",
     "text": [
      "Less than 25 reviews available - skipped\n"
     ]
    },
    {
     "name": "stderr",
     "output_type": "stream",
     "text": [
      "looking for review ids:  12%|█▏        | 247/2020 [1:11:02<7:47:20, 15.82s/movie]"
     ]
    },
    {
     "name": "stdout",
     "output_type": "stream",
     "text": [
      "Less than 25 reviews available - skipped\n"
     ]
    },
    {
     "name": "stderr",
     "output_type": "stream",
     "text": [
      "looking for review ids:  12%|█▏        | 248/2020 [1:11:17<7:47:13, 15.82s/movie]"
     ]
    },
    {
     "name": "stdout",
     "output_type": "stream",
     "text": [
      "Less than 25 reviews available - skipped\n"
     ]
    },
    {
     "name": "stderr",
     "output_type": "stream",
     "text": [
      "looking for review ids:  12%|█▏        | 249/2020 [1:11:33<7:42:54, 15.68s/movie]"
     ]
    },
    {
     "name": "stdout",
     "output_type": "stream",
     "text": [
      "Less than 25 reviews available - skipped\n"
     ]
    },
    {
     "name": "stderr",
     "output_type": "stream",
     "text": [
      "looking for review ids:  12%|█▏        | 250/2020 [1:11:48<7:42:20, 15.67s/movie]"
     ]
    },
    {
     "name": "stdout",
     "output_type": "stream",
     "text": [
      "Less than 25 reviews available - skipped\n"
     ]
    },
    {
     "name": "stderr",
     "output_type": "stream",
     "text": [
      "looking for review ids:  12%|█▏        | 251/2020 [1:12:04<7:43:37, 15.73s/movie]"
     ]
    },
    {
     "name": "stdout",
     "output_type": "stream",
     "text": [
      "Less than 25 reviews available - skipped\n"
     ]
    },
    {
     "name": "stderr",
     "output_type": "stream",
     "text": [
      "looking for review ids:  12%|█▏        | 252/2020 [1:12:20<7:44:19, 15.76s/movie]"
     ]
    },
    {
     "name": "stdout",
     "output_type": "stream",
     "text": [
      "Less than 25 reviews available - skipped\n"
     ]
    },
    {
     "name": "stderr",
     "output_type": "stream",
     "text": [
      "looking for review ids:  13%|█▎        | 253/2020 [1:12:36<7:44:14, 15.76s/movie]"
     ]
    },
    {
     "name": "stdout",
     "output_type": "stream",
     "text": [
      "Less than 25 reviews available - skipped\n"
     ]
    },
    {
     "name": "stderr",
     "output_type": "stream",
     "text": [
      "looking for review ids:  13%|█▎        | 254/2020 [1:12:51<7:43:10, 15.74s/movie]"
     ]
    },
    {
     "name": "stdout",
     "output_type": "stream",
     "text": [
      "Less than 25 reviews available - skipped\n"
     ]
    },
    {
     "name": "stderr",
     "output_type": "stream",
     "text": [
      "looking for review ids:  13%|█▎        | 255/2020 [1:13:08<7:48:15, 15.92s/movie]"
     ]
    },
    {
     "name": "stdout",
     "output_type": "stream",
     "text": [
      "Less than 25 reviews available - skipped\n"
     ]
    },
    {
     "name": "stderr",
     "output_type": "stream",
     "text": [
      "looking for review ids:  13%|█▎        | 256/2020 [1:13:24<7:47:56, 15.92s/movie]"
     ]
    },
    {
     "name": "stdout",
     "output_type": "stream",
     "text": [
      "Less than 25 reviews available - skipped\n"
     ]
    },
    {
     "name": "stderr",
     "output_type": "stream",
     "text": [
      "looking for review ids:  13%|█▎        | 257/2020 [1:13:39<7:42:41, 15.75s/movie]"
     ]
    },
    {
     "name": "stdout",
     "output_type": "stream",
     "text": [
      "Less than 25 reviews available - skipped\n"
     ]
    },
    {
     "name": "stderr",
     "output_type": "stream",
     "text": [
      "looking for review ids:  13%|█▎        | 258/2020 [1:13:55<7:43:57, 15.80s/movie]"
     ]
    },
    {
     "name": "stdout",
     "output_type": "stream",
     "text": [
      "Less than 25 reviews available - skipped\n"
     ]
    },
    {
     "name": "stderr",
     "output_type": "stream",
     "text": [
      "looking for review ids:  13%|█▎        | 259/2020 [1:14:11<7:44:57, 15.84s/movie]"
     ]
    },
    {
     "name": "stdout",
     "output_type": "stream",
     "text": [
      "Less than 25 reviews available - skipped\n"
     ]
    },
    {
     "name": "stderr",
     "output_type": "stream",
     "text": [
      "looking for review ids:  13%|█▎        | 260/2020 [1:14:27<7:43:43, 15.81s/movie]"
     ]
    },
    {
     "name": "stdout",
     "output_type": "stream",
     "text": [
      "Less than 25 reviews available - skipped\n"
     ]
    },
    {
     "name": "stderr",
     "output_type": "stream",
     "text": [
      "looking for review ids:  13%|█▎        | 261/2020 [1:14:43<7:43:47, 15.82s/movie]"
     ]
    },
    {
     "name": "stdout",
     "output_type": "stream",
     "text": [
      "Less than 25 reviews available - skipped\n"
     ]
    },
    {
     "name": "stderr",
     "output_type": "stream",
     "text": [
      "looking for review ids:  13%|█▎        | 262/2020 [1:14:58<7:41:28, 15.75s/movie]"
     ]
    },
    {
     "name": "stdout",
     "output_type": "stream",
     "text": [
      "Less than 25 reviews available - skipped\n"
     ]
    },
    {
     "name": "stderr",
     "output_type": "stream",
     "text": [
      "looking for review ids:  13%|█▎        | 263/2020 [1:15:14<7:40:17, 15.72s/movie]"
     ]
    },
    {
     "name": "stdout",
     "output_type": "stream",
     "text": [
      "Less than 25 reviews available - skipped\n"
     ]
    },
    {
     "name": "stderr",
     "output_type": "stream",
     "text": [
      "looking for review ids:  13%|█▎        | 264/2020 [1:15:29<7:38:49, 15.68s/movie]"
     ]
    },
    {
     "name": "stdout",
     "output_type": "stream",
     "text": [
      "Less than 25 reviews available - skipped\n"
     ]
    },
    {
     "name": "stderr",
     "output_type": "stream",
     "text": [
      "looking for review ids:  13%|█▎        | 265/2020 [1:15:45<7:37:16, 15.63s/movie]"
     ]
    },
    {
     "name": "stdout",
     "output_type": "stream",
     "text": [
      "Less than 25 reviews available - skipped\n"
     ]
    },
    {
     "name": "stderr",
     "output_type": "stream",
     "text": [
      "looking for review ids:  13%|█▎        | 266/2020 [1:16:01<7:39:12, 15.71s/movie]"
     ]
    },
    {
     "name": "stdout",
     "output_type": "stream",
     "text": [
      "Less than 25 reviews available - skipped\n"
     ]
    },
    {
     "name": "stderr",
     "output_type": "stream",
     "text": [
      "looking for review ids:  13%|█▎        | 267/2020 [1:16:17<7:42:19, 15.82s/movie]"
     ]
    },
    {
     "name": "stdout",
     "output_type": "stream",
     "text": [
      "Less than 25 reviews available - skipped\n"
     ]
    },
    {
     "name": "stderr",
     "output_type": "stream",
     "text": [
      "looking for review ids:  13%|█▎        | 268/2020 [1:16:33<7:43:26, 15.87s/movie]"
     ]
    },
    {
     "name": "stdout",
     "output_type": "stream",
     "text": [
      "Less than 25 reviews available - skipped\n"
     ]
    },
    {
     "name": "stderr",
     "output_type": "stream",
     "text": [
      "looking for review ids:  13%|█▎        | 271/2020 [1:17:15<7:02:23, 14.49s/movie]"
     ]
    },
    {
     "name": "stdout",
     "output_type": "stream",
     "text": [
      "Less than 25 reviews available - skipped\n"
     ]
    },
    {
     "name": "stderr",
     "output_type": "stream",
     "text": [
      "looking for review ids:  13%|█▎        | 272/2020 [1:17:31<7:13:07, 14.87s/movie]"
     ]
    },
    {
     "name": "stdout",
     "output_type": "stream",
     "text": [
      "Less than 25 reviews available - skipped\n"
     ]
    },
    {
     "name": "stderr",
     "output_type": "stream",
     "text": [
      "looking for review ids:  14%|█▎        | 273/2020 [1:17:46<7:20:26, 15.13s/movie]"
     ]
    },
    {
     "name": "stdout",
     "output_type": "stream",
     "text": [
      "Less than 25 reviews available - skipped\n"
     ]
    },
    {
     "name": "stderr",
     "output_type": "stream",
     "text": [
      "looking for review ids:  14%|█▎        | 274/2020 [1:18:02<7:24:44, 15.28s/movie]"
     ]
    },
    {
     "name": "stdout",
     "output_type": "stream",
     "text": [
      "Less than 25 reviews available - skipped\n"
     ]
    },
    {
     "name": "stderr",
     "output_type": "stream",
     "text": [
      "looking for review ids:  14%|█▎        | 275/2020 [1:18:18<7:29:15, 15.45s/movie]"
     ]
    },
    {
     "name": "stdout",
     "output_type": "stream",
     "text": [
      "Less than 25 reviews available - skipped\n"
     ]
    },
    {
     "name": "stderr",
     "output_type": "stream",
     "text": [
      "looking for review ids:  14%|█▎        | 276/2020 [1:18:34<7:31:21, 15.53s/movie]"
     ]
    },
    {
     "name": "stdout",
     "output_type": "stream",
     "text": [
      "Less than 25 reviews available - skipped\n"
     ]
    },
    {
     "name": "stderr",
     "output_type": "stream",
     "text": [
      "looking for review ids:  14%|█▎        | 277/2020 [1:18:49<7:32:15, 15.57s/movie]"
     ]
    },
    {
     "name": "stdout",
     "output_type": "stream",
     "text": [
      "Less than 25 reviews available - skipped\n"
     ]
    },
    {
     "name": "stderr",
     "output_type": "stream",
     "text": [
      "looking for review ids:  14%|█▍        | 278/2020 [1:19:05<7:34:49, 15.67s/movie]"
     ]
    },
    {
     "name": "stdout",
     "output_type": "stream",
     "text": [
      "Less than 25 reviews available - skipped\n"
     ]
    },
    {
     "name": "stderr",
     "output_type": "stream",
     "text": [
      "looking for review ids:  14%|█▍        | 279/2020 [1:19:22<7:40:50, 15.88s/movie]"
     ]
    },
    {
     "name": "stdout",
     "output_type": "stream",
     "text": [
      "Less than 25 reviews available - skipped\n"
     ]
    },
    {
     "name": "stderr",
     "output_type": "stream",
     "text": [
      "looking for review ids:  14%|█▍        | 280/2020 [1:19:37<7:38:24, 15.81s/movie]"
     ]
    },
    {
     "name": "stdout",
     "output_type": "stream",
     "text": [
      "Less than 25 reviews available - skipped\n"
     ]
    },
    {
     "name": "stderr",
     "output_type": "stream",
     "text": [
      "looking for review ids:  14%|█▍        | 281/2020 [1:19:53<7:38:11, 15.81s/movie]"
     ]
    },
    {
     "name": "stdout",
     "output_type": "stream",
     "text": [
      "Less than 25 reviews available - skipped\n"
     ]
    },
    {
     "name": "stderr",
     "output_type": "stream",
     "text": [
      "looking for review ids:  14%|█▍        | 282/2020 [1:20:09<7:37:24, 15.79s/movie]"
     ]
    },
    {
     "name": "stdout",
     "output_type": "stream",
     "text": [
      "Less than 25 reviews available - skipped\n"
     ]
    },
    {
     "name": "stderr",
     "output_type": "stream",
     "text": [
      "looking for review ids:  14%|█▍        | 283/2020 [1:20:25<7:43:43, 16.02s/movie]"
     ]
    },
    {
     "name": "stdout",
     "output_type": "stream",
     "text": [
      "Less than 25 reviews available - skipped\n"
     ]
    },
    {
     "name": "stderr",
     "output_type": "stream",
     "text": [
      "looking for review ids:  14%|█▍        | 284/2020 [1:20:41<7:40:05, 15.90s/movie]"
     ]
    },
    {
     "name": "stdout",
     "output_type": "stream",
     "text": [
      "Less than 25 reviews available - skipped\n"
     ]
    },
    {
     "name": "stderr",
     "output_type": "stream",
     "text": [
      "looking for review ids:  14%|█▍        | 285/2020 [1:20:57<7:38:30, 15.86s/movie]"
     ]
    },
    {
     "name": "stdout",
     "output_type": "stream",
     "text": [
      "Less than 25 reviews available - skipped\n"
     ]
    },
    {
     "name": "stderr",
     "output_type": "stream",
     "text": [
      "looking for review ids:  14%|█▍        | 286/2020 [1:21:13<7:39:02, 15.88s/movie]"
     ]
    },
    {
     "name": "stdout",
     "output_type": "stream",
     "text": [
      "Less than 25 reviews available - skipped\n"
     ]
    },
    {
     "name": "stderr",
     "output_type": "stream",
     "text": [
      "looking for review ids:  14%|█▍        | 287/2020 [1:21:28<7:37:18, 15.83s/movie]"
     ]
    },
    {
     "name": "stdout",
     "output_type": "stream",
     "text": [
      "Less than 25 reviews available - skipped\n"
     ]
    },
    {
     "name": "stderr",
     "output_type": "stream",
     "text": [
      "looking for review ids:  14%|█▍        | 288/2020 [1:21:44<7:35:34, 15.78s/movie]"
     ]
    },
    {
     "name": "stdout",
     "output_type": "stream",
     "text": [
      "Less than 25 reviews available - skipped\n"
     ]
    },
    {
     "name": "stderr",
     "output_type": "stream",
     "text": [
      "looking for review ids:  14%|█▍        | 289/2020 [1:22:00<7:34:09, 15.74s/movie]"
     ]
    },
    {
     "name": "stdout",
     "output_type": "stream",
     "text": [
      "Less than 25 reviews available - skipped\n"
     ]
    },
    {
     "name": "stderr",
     "output_type": "stream",
     "text": [
      "looking for review ids:  14%|█▍        | 290/2020 [1:22:15<7:33:04, 15.71s/movie]"
     ]
    },
    {
     "name": "stdout",
     "output_type": "stream",
     "text": [
      "Less than 25 reviews available - skipped\n"
     ]
    },
    {
     "name": "stderr",
     "output_type": "stream",
     "text": [
      "looking for review ids:  14%|█▍        | 291/2020 [1:22:31<7:31:41, 15.67s/movie]"
     ]
    },
    {
     "name": "stdout",
     "output_type": "stream",
     "text": [
      "Less than 25 reviews available - skipped\n"
     ]
    },
    {
     "name": "stderr",
     "output_type": "stream",
     "text": [
      "looking for review ids:  14%|█▍        | 292/2020 [1:22:47<7:32:36, 15.72s/movie]"
     ]
    },
    {
     "name": "stdout",
     "output_type": "stream",
     "text": [
      "Less than 25 reviews available - skipped\n"
     ]
    },
    {
     "name": "stderr",
     "output_type": "stream",
     "text": [
      "looking for review ids:  15%|█▍        | 293/2020 [1:23:03<7:33:04, 15.74s/movie]"
     ]
    },
    {
     "name": "stdout",
     "output_type": "stream",
     "text": [
      "Less than 25 reviews available - skipped\n"
     ]
    },
    {
     "name": "stderr",
     "output_type": "stream",
     "text": [
      "looking for review ids:  15%|█▍        | 294/2020 [1:23:18<7:30:39, 15.67s/movie]"
     ]
    },
    {
     "name": "stdout",
     "output_type": "stream",
     "text": [
      "Less than 25 reviews available - skipped\n"
     ]
    },
    {
     "name": "stderr",
     "output_type": "stream",
     "text": [
      "looking for review ids:  15%|█▍        | 295/2020 [1:23:34<7:31:44, 15.71s/movie]"
     ]
    },
    {
     "name": "stdout",
     "output_type": "stream",
     "text": [
      "Less than 25 reviews available - skipped\n"
     ]
    },
    {
     "name": "stderr",
     "output_type": "stream",
     "text": [
      "looking for review ids:  15%|█▍        | 296/2020 [1:23:50<7:32:12, 15.74s/movie]"
     ]
    },
    {
     "name": "stdout",
     "output_type": "stream",
     "text": [
      "Less than 25 reviews available - skipped\n"
     ]
    },
    {
     "name": "stderr",
     "output_type": "stream",
     "text": [
      "looking for review ids:  15%|█▍        | 297/2020 [1:24:06<7:33:01, 15.78s/movie]"
     ]
    },
    {
     "name": "stdout",
     "output_type": "stream",
     "text": [
      "Less than 25 reviews available - skipped\n"
     ]
    },
    {
     "name": "stderr",
     "output_type": "stream",
     "text": [
      "looking for review ids:  15%|█▍        | 298/2020 [1:24:22<7:34:41, 15.84s/movie]"
     ]
    },
    {
     "name": "stdout",
     "output_type": "stream",
     "text": [
      "Less than 25 reviews available - skipped\n"
     ]
    },
    {
     "name": "stderr",
     "output_type": "stream",
     "text": [
      "looking for review ids:  15%|█▍        | 299/2020 [1:24:37<7:32:27, 15.77s/movie]"
     ]
    },
    {
     "name": "stdout",
     "output_type": "stream",
     "text": [
      "Less than 25 reviews available - skipped\n"
     ]
    },
    {
     "name": "stderr",
     "output_type": "stream",
     "text": [
      "looking for review ids:  15%|█▍        | 300/2020 [1:24:53<7:30:39, 15.72s/movie]"
     ]
    },
    {
     "name": "stdout",
     "output_type": "stream",
     "text": [
      "Less than 25 reviews available - skipped\n"
     ]
    },
    {
     "name": "stderr",
     "output_type": "stream",
     "text": [
      "looking for review ids:  15%|█▍        | 301/2020 [1:25:09<7:30:55, 15.74s/movie]"
     ]
    },
    {
     "name": "stdout",
     "output_type": "stream",
     "text": [
      "Less than 25 reviews available - skipped\n"
     ]
    },
    {
     "name": "stderr",
     "output_type": "stream",
     "text": [
      "looking for review ids:  15%|█▍        | 302/2020 [1:25:24<7:31:40, 15.77s/movie]"
     ]
    },
    {
     "name": "stdout",
     "output_type": "stream",
     "text": [
      "Less than 25 reviews available - skipped\n"
     ]
    },
    {
     "name": "stderr",
     "output_type": "stream",
     "text": [
      "looking for review ids:  15%|█▌        | 303/2020 [1:25:40<7:32:15, 15.80s/movie]"
     ]
    },
    {
     "name": "stdout",
     "output_type": "stream",
     "text": [
      "Less than 25 reviews available - skipped\n"
     ]
    },
    {
     "name": "stderr",
     "output_type": "stream",
     "text": [
      "looking for review ids:  15%|█▌        | 304/2020 [1:25:56<7:33:04, 15.84s/movie]"
     ]
    },
    {
     "name": "stdout",
     "output_type": "stream",
     "text": [
      "Less than 25 reviews available - skipped\n"
     ]
    },
    {
     "name": "stderr",
     "output_type": "stream",
     "text": [
      "looking for review ids:  15%|█▌        | 305/2020 [1:26:12<7:31:51, 15.81s/movie]"
     ]
    },
    {
     "name": "stdout",
     "output_type": "stream",
     "text": [
      "Less than 25 reviews available - skipped\n"
     ]
    },
    {
     "name": "stderr",
     "output_type": "stream",
     "text": [
      "looking for review ids:  15%|█▌        | 306/2020 [1:26:28<7:32:21, 15.84s/movie]"
     ]
    },
    {
     "name": "stdout",
     "output_type": "stream",
     "text": [
      "Less than 25 reviews available - skipped\n"
     ]
    },
    {
     "name": "stderr",
     "output_type": "stream",
     "text": [
      "looking for review ids:  15%|█▌        | 307/2020 [1:26:44<7:34:56, 15.94s/movie]"
     ]
    },
    {
     "name": "stdout",
     "output_type": "stream",
     "text": [
      "Less than 25 reviews available - skipped\n"
     ]
    },
    {
     "name": "stderr",
     "output_type": "stream",
     "text": [
      "looking for review ids:  15%|█▌        | 308/2020 [1:27:00<7:35:02, 15.95s/movie]"
     ]
    },
    {
     "name": "stdout",
     "output_type": "stream",
     "text": [
      "Less than 25 reviews available - skipped\n"
     ]
    },
    {
     "name": "stderr",
     "output_type": "stream",
     "text": [
      "looking for review ids:  15%|█▌        | 309/2020 [1:27:16<7:34:04, 15.92s/movie]"
     ]
    },
    {
     "name": "stdout",
     "output_type": "stream",
     "text": [
      "Less than 25 reviews available - skipped\n"
     ]
    },
    {
     "name": "stderr",
     "output_type": "stream",
     "text": [
      "looking for review ids:  15%|█▌        | 310/2020 [1:27:32<7:35:11, 15.97s/movie]"
     ]
    },
    {
     "name": "stdout",
     "output_type": "stream",
     "text": [
      "Less than 25 reviews available - skipped\n"
     ]
    },
    {
     "name": "stderr",
     "output_type": "stream",
     "text": [
      "looking for review ids:  15%|█▌        | 311/2020 [1:27:47<7:31:15, 15.84s/movie]"
     ]
    },
    {
     "name": "stdout",
     "output_type": "stream",
     "text": [
      "Less than 25 reviews available - skipped\n"
     ]
    },
    {
     "name": "stderr",
     "output_type": "stream",
     "text": [
      "looking for review ids:  15%|█▌        | 312/2020 [1:28:03<7:30:21, 15.82s/movie]"
     ]
    },
    {
     "name": "stdout",
     "output_type": "stream",
     "text": [
      "Less than 25 reviews available - skipped\n"
     ]
    },
    {
     "name": "stderr",
     "output_type": "stream",
     "text": [
      "looking for review ids:  15%|█▌        | 313/2020 [1:28:19<7:28:02, 15.75s/movie]"
     ]
    },
    {
     "name": "stdout",
     "output_type": "stream",
     "text": [
      "Less than 25 reviews available - skipped\n"
     ]
    },
    {
     "name": "stderr",
     "output_type": "stream",
     "text": [
      "looking for review ids:  16%|█▌        | 314/2020 [1:28:35<7:27:21, 15.73s/movie]"
     ]
    },
    {
     "name": "stdout",
     "output_type": "stream",
     "text": [
      "Less than 25 reviews available - skipped\n"
     ]
    },
    {
     "name": "stderr",
     "output_type": "stream",
     "text": [
      "looking for review ids:  16%|█▌        | 315/2020 [1:28:50<7:26:47, 15.72s/movie]"
     ]
    },
    {
     "name": "stdout",
     "output_type": "stream",
     "text": [
      "Less than 25 reviews available - skipped\n"
     ]
    },
    {
     "name": "stderr",
     "output_type": "stream",
     "text": [
      "looking for review ids:  16%|█▌        | 316/2020 [1:29:06<7:28:10, 15.78s/movie]"
     ]
    },
    {
     "name": "stdout",
     "output_type": "stream",
     "text": [
      "Less than 25 reviews available - skipped\n"
     ]
    },
    {
     "name": "stderr",
     "output_type": "stream",
     "text": [
      "looking for review ids:  16%|█▌        | 317/2020 [1:29:22<7:26:29, 15.73s/movie]"
     ]
    },
    {
     "name": "stdout",
     "output_type": "stream",
     "text": [
      "Less than 25 reviews available - skipped\n"
     ]
    },
    {
     "name": "stderr",
     "output_type": "stream",
     "text": [
      "looking for review ids:  16%|█▌        | 318/2020 [1:29:38<7:27:31, 15.78s/movie]"
     ]
    },
    {
     "name": "stdout",
     "output_type": "stream",
     "text": [
      "Less than 25 reviews available - skipped\n"
     ]
    },
    {
     "name": "stderr",
     "output_type": "stream",
     "text": [
      "looking for review ids:  16%|█▌        | 319/2020 [1:29:54<7:28:51, 15.83s/movie]"
     ]
    },
    {
     "name": "stdout",
     "output_type": "stream",
     "text": [
      "Less than 25 reviews available - skipped\n"
     ]
    },
    {
     "name": "stderr",
     "output_type": "stream",
     "text": [
      "looking for review ids:  16%|█▌        | 320/2020 [1:30:09<7:28:07, 15.82s/movie]"
     ]
    },
    {
     "name": "stdout",
     "output_type": "stream",
     "text": [
      "Less than 25 reviews available - skipped\n"
     ]
    },
    {
     "name": "stderr",
     "output_type": "stream",
     "text": [
      "looking for review ids:  16%|█▌        | 321/2020 [1:30:25<7:26:00, 15.75s/movie]"
     ]
    },
    {
     "name": "stdout",
     "output_type": "stream",
     "text": [
      "Less than 25 reviews available - skipped\n"
     ]
    },
    {
     "name": "stderr",
     "output_type": "stream",
     "text": [
      "looking for review ids:  16%|█▌        | 322/2020 [1:30:40<7:22:20, 15.63s/movie]"
     ]
    },
    {
     "name": "stdout",
     "output_type": "stream",
     "text": [
      "Less than 25 reviews available - skipped\n"
     ]
    },
    {
     "name": "stderr",
     "output_type": "stream",
     "text": [
      "looking for review ids:  16%|█▌        | 323/2020 [1:30:56<7:22:06, 15.63s/movie]"
     ]
    },
    {
     "name": "stdout",
     "output_type": "stream",
     "text": [
      "Less than 25 reviews available - skipped\n"
     ]
    },
    {
     "name": "stderr",
     "output_type": "stream",
     "text": [
      "looking for review ids:  16%|█▌        | 324/2020 [1:31:12<7:24:46, 15.74s/movie]"
     ]
    },
    {
     "name": "stdout",
     "output_type": "stream",
     "text": [
      "Less than 25 reviews available - skipped\n"
     ]
    },
    {
     "name": "stderr",
     "output_type": "stream",
     "text": [
      "looking for review ids:  16%|█▌        | 325/2020 [1:31:27<7:22:40, 15.67s/movie]"
     ]
    },
    {
     "name": "stdout",
     "output_type": "stream",
     "text": [
      "Less than 25 reviews available - skipped\n"
     ]
    },
    {
     "name": "stderr",
     "output_type": "stream",
     "text": [
      "looking for review ids:  16%|█▌        | 326/2020 [1:31:43<7:23:32, 15.71s/movie]"
     ]
    },
    {
     "name": "stdout",
     "output_type": "stream",
     "text": [
      "Less than 25 reviews available - skipped\n"
     ]
    },
    {
     "name": "stderr",
     "output_type": "stream",
     "text": [
      "looking for review ids:  16%|█▌        | 327/2020 [1:31:59<7:23:12, 15.71s/movie]"
     ]
    },
    {
     "name": "stdout",
     "output_type": "stream",
     "text": [
      "Less than 25 reviews available - skipped\n"
     ]
    },
    {
     "name": "stderr",
     "output_type": "stream",
     "text": [
      "looking for review ids:  16%|█▌        | 328/2020 [1:32:15<7:24:11, 15.75s/movie]"
     ]
    },
    {
     "name": "stdout",
     "output_type": "stream",
     "text": [
      "Less than 25 reviews available - skipped\n"
     ]
    },
    {
     "name": "stderr",
     "output_type": "stream",
     "text": [
      "looking for review ids:  16%|█▋        | 329/2020 [1:32:30<7:23:03, 15.72s/movie]"
     ]
    },
    {
     "name": "stdout",
     "output_type": "stream",
     "text": [
      "Less than 25 reviews available - skipped\n"
     ]
    },
    {
     "name": "stderr",
     "output_type": "stream",
     "text": [
      "looking for review ids:  16%|█▋        | 330/2020 [1:32:46<7:22:43, 15.72s/movie]"
     ]
    },
    {
     "name": "stdout",
     "output_type": "stream",
     "text": [
      "Less than 25 reviews available - skipped\n"
     ]
    },
    {
     "name": "stderr",
     "output_type": "stream",
     "text": [
      "looking for review ids:  16%|█▋        | 331/2020 [1:33:02<7:22:27, 15.72s/movie]"
     ]
    },
    {
     "name": "stdout",
     "output_type": "stream",
     "text": [
      "Less than 25 reviews available - skipped\n"
     ]
    },
    {
     "name": "stderr",
     "output_type": "stream",
     "text": [
      "looking for review ids:  16%|█▋        | 332/2020 [1:33:17<7:20:45, 15.67s/movie]"
     ]
    },
    {
     "name": "stdout",
     "output_type": "stream",
     "text": [
      "Less than 25 reviews available - skipped\n"
     ]
    },
    {
     "name": "stderr",
     "output_type": "stream",
     "text": [
      "looking for review ids:  16%|█▋        | 333/2020 [1:33:33<7:21:01, 15.69s/movie]"
     ]
    },
    {
     "name": "stdout",
     "output_type": "stream",
     "text": [
      "Less than 25 reviews available - skipped\n"
     ]
    },
    {
     "name": "stderr",
     "output_type": "stream",
     "text": [
      "looking for review ids:  17%|█▋        | 334/2020 [1:33:49<7:23:57, 15.80s/movie]"
     ]
    },
    {
     "name": "stdout",
     "output_type": "stream",
     "text": [
      "Less than 25 reviews available - skipped\n"
     ]
    },
    {
     "name": "stderr",
     "output_type": "stream",
     "text": [
      "looking for review ids:  17%|█▋        | 335/2020 [1:34:05<7:25:15, 15.85s/movie]"
     ]
    },
    {
     "name": "stdout",
     "output_type": "stream",
     "text": [
      "Less than 25 reviews available - skipped\n"
     ]
    },
    {
     "name": "stderr",
     "output_type": "stream",
     "text": [
      "looking for review ids:  17%|█▋        | 336/2020 [1:34:21<7:25:21, 15.87s/movie]"
     ]
    },
    {
     "name": "stdout",
     "output_type": "stream",
     "text": [
      "Less than 25 reviews available - skipped\n"
     ]
    },
    {
     "name": "stderr",
     "output_type": "stream",
     "text": [
      "looking for review ids:  17%|█▋        | 337/2020 [1:34:37<7:24:46, 15.86s/movie]"
     ]
    },
    {
     "name": "stdout",
     "output_type": "stream",
     "text": [
      "Less than 25 reviews available - skipped\n"
     ]
    },
    {
     "name": "stderr",
     "output_type": "stream",
     "text": [
      "looking for review ids:  17%|█▋        | 338/2020 [1:34:53<7:23:10, 15.81s/movie]"
     ]
    },
    {
     "name": "stdout",
     "output_type": "stream",
     "text": [
      "Less than 25 reviews available - skipped\n"
     ]
    },
    {
     "name": "stderr",
     "output_type": "stream",
     "text": [
      "looking for review ids:  17%|█▋        | 339/2020 [1:35:09<7:24:05, 15.85s/movie]"
     ]
    },
    {
     "name": "stdout",
     "output_type": "stream",
     "text": [
      "Less than 25 reviews available - skipped\n"
     ]
    },
    {
     "name": "stderr",
     "output_type": "stream",
     "text": [
      "looking for review ids:  17%|█▋        | 340/2020 [1:35:25<7:24:37, 15.88s/movie]"
     ]
    },
    {
     "name": "stdout",
     "output_type": "stream",
     "text": [
      "Less than 25 reviews available - skipped\n"
     ]
    },
    {
     "name": "stderr",
     "output_type": "stream",
     "text": [
      "looking for review ids:  17%|█▋        | 341/2020 [1:35:40<7:23:41, 15.86s/movie]"
     ]
    },
    {
     "name": "stdout",
     "output_type": "stream",
     "text": [
      "Less than 25 reviews available - skipped\n"
     ]
    },
    {
     "name": "stderr",
     "output_type": "stream",
     "text": [
      "looking for review ids:  17%|█▋        | 342/2020 [1:35:56<7:22:38, 15.83s/movie]"
     ]
    },
    {
     "name": "stdout",
     "output_type": "stream",
     "text": [
      "Less than 25 reviews available - skipped\n"
     ]
    },
    {
     "name": "stderr",
     "output_type": "stream",
     "text": [
      "looking for review ids:  17%|█▋        | 343/2020 [1:36:12<7:24:06, 15.89s/movie]"
     ]
    },
    {
     "name": "stdout",
     "output_type": "stream",
     "text": [
      "Less than 25 reviews available - skipped\n"
     ]
    },
    {
     "name": "stderr",
     "output_type": "stream",
     "text": [
      "looking for review ids:  17%|█▋        | 344/2020 [1:36:28<7:25:00, 15.93s/movie]"
     ]
    },
    {
     "name": "stdout",
     "output_type": "stream",
     "text": [
      "Less than 25 reviews available - skipped\n"
     ]
    },
    {
     "name": "stderr",
     "output_type": "stream",
     "text": [
      "looking for review ids:  17%|█▋        | 345/2020 [1:36:44<7:25:01, 15.94s/movie]"
     ]
    },
    {
     "name": "stdout",
     "output_type": "stream",
     "text": [
      "Less than 25 reviews available - skipped\n"
     ]
    },
    {
     "name": "stderr",
     "output_type": "stream",
     "text": [
      "looking for review ids:  17%|█▋        | 346/2020 [1:37:00<7:22:18, 15.85s/movie]"
     ]
    },
    {
     "name": "stdout",
     "output_type": "stream",
     "text": [
      "Less than 25 reviews available - skipped\n"
     ]
    },
    {
     "name": "stderr",
     "output_type": "stream",
     "text": [
      "looking for review ids:  17%|█▋        | 347/2020 [1:37:16<7:22:19, 15.86s/movie]"
     ]
    },
    {
     "name": "stdout",
     "output_type": "stream",
     "text": [
      "Less than 25 reviews available - skipped\n"
     ]
    },
    {
     "name": "stderr",
     "output_type": "stream",
     "text": [
      "looking for review ids:  17%|█▋        | 348/2020 [1:37:32<7:22:34, 15.88s/movie]"
     ]
    },
    {
     "name": "stdout",
     "output_type": "stream",
     "text": [
      "Less than 25 reviews available - skipped\n"
     ]
    },
    {
     "name": "stderr",
     "output_type": "stream",
     "text": [
      "looking for review ids:  17%|█▋        | 349/2020 [1:37:47<7:21:28, 15.85s/movie]"
     ]
    },
    {
     "name": "stdout",
     "output_type": "stream",
     "text": [
      "Less than 25 reviews available - skipped\n"
     ]
    },
    {
     "name": "stderr",
     "output_type": "stream",
     "text": [
      "looking for review ids:  17%|█▋        | 350/2020 [1:38:03<7:19:19, 15.78s/movie]"
     ]
    },
    {
     "name": "stdout",
     "output_type": "stream",
     "text": [
      "Less than 25 reviews available - skipped\n"
     ]
    },
    {
     "name": "stderr",
     "output_type": "stream",
     "text": [
      "looking for review ids:  17%|█▋        | 351/2020 [1:38:19<7:17:07, 15.71s/movie]"
     ]
    },
    {
     "name": "stdout",
     "output_type": "stream",
     "text": [
      "Less than 25 reviews available - skipped\n"
     ]
    },
    {
     "name": "stderr",
     "output_type": "stream",
     "text": [
      "looking for review ids:  17%|█▋        | 352/2020 [1:38:34<7:18:41, 15.78s/movie]"
     ]
    },
    {
     "name": "stdout",
     "output_type": "stream",
     "text": [
      "Less than 25 reviews available - skipped\n"
     ]
    },
    {
     "name": "stderr",
     "output_type": "stream",
     "text": [
      "looking for review ids:  17%|█▋        | 353/2020 [1:38:50<7:20:29, 15.85s/movie]"
     ]
    },
    {
     "name": "stdout",
     "output_type": "stream",
     "text": [
      "Less than 25 reviews available - skipped\n"
     ]
    },
    {
     "name": "stderr",
     "output_type": "stream",
     "text": [
      "looking for review ids:  18%|█▊        | 354/2020 [1:39:06<7:20:28, 15.86s/movie]"
     ]
    },
    {
     "name": "stdout",
     "output_type": "stream",
     "text": [
      "Less than 25 reviews available - skipped\n"
     ]
    },
    {
     "name": "stderr",
     "output_type": "stream",
     "text": [
      "looking for review ids:  18%|█▊        | 355/2020 [1:39:22<7:19:06, 15.82s/movie]"
     ]
    },
    {
     "name": "stdout",
     "output_type": "stream",
     "text": [
      "Less than 25 reviews available - skipped\n"
     ]
    },
    {
     "name": "stderr",
     "output_type": "stream",
     "text": [
      "looking for review ids:  18%|█▊        | 356/2020 [1:39:38<7:18:45, 15.82s/movie]"
     ]
    },
    {
     "name": "stdout",
     "output_type": "stream",
     "text": [
      "Less than 25 reviews available - skipped\n"
     ]
    },
    {
     "name": "stderr",
     "output_type": "stream",
     "text": [
      "looking for review ids:  18%|█▊        | 357/2020 [1:39:54<7:18:27, 15.82s/movie]"
     ]
    },
    {
     "name": "stdout",
     "output_type": "stream",
     "text": [
      "Less than 25 reviews available - skipped\n"
     ]
    },
    {
     "name": "stderr",
     "output_type": "stream",
     "text": [
      "looking for review ids:  18%|█▊        | 358/2020 [1:40:09<7:17:02, 15.78s/movie]"
     ]
    },
    {
     "name": "stdout",
     "output_type": "stream",
     "text": [
      "Less than 25 reviews available - skipped\n"
     ]
    },
    {
     "name": "stderr",
     "output_type": "stream",
     "text": [
      "looking for review ids:  18%|█▊        | 359/2020 [1:40:25<7:15:28, 15.73s/movie]"
     ]
    },
    {
     "name": "stdout",
     "output_type": "stream",
     "text": [
      "Less than 25 reviews available - skipped\n"
     ]
    },
    {
     "name": "stderr",
     "output_type": "stream",
     "text": [
      "looking for review ids:  18%|█▊        | 360/2020 [1:40:41<7:16:50, 15.79s/movie]"
     ]
    },
    {
     "name": "stdout",
     "output_type": "stream",
     "text": [
      "Less than 25 reviews available - skipped\n"
     ]
    },
    {
     "name": "stderr",
     "output_type": "stream",
     "text": [
      "looking for review ids:  18%|█▊        | 361/2020 [1:40:57<7:18:25, 15.86s/movie]"
     ]
    },
    {
     "name": "stdout",
     "output_type": "stream",
     "text": [
      "Less than 25 reviews available - skipped\n"
     ]
    },
    {
     "name": "stderr",
     "output_type": "stream",
     "text": [
      "looking for review ids:  18%|█▊        | 362/2020 [1:41:13<7:16:50, 15.81s/movie]"
     ]
    },
    {
     "name": "stdout",
     "output_type": "stream",
     "text": [
      "Less than 25 reviews available - skipped\n"
     ]
    },
    {
     "name": "stderr",
     "output_type": "stream",
     "text": [
      "looking for review ids:  18%|█▊        | 363/2020 [1:41:28<7:14:52, 15.75s/movie]"
     ]
    },
    {
     "name": "stdout",
     "output_type": "stream",
     "text": [
      "Less than 25 reviews available - skipped\n"
     ]
    },
    {
     "name": "stderr",
     "output_type": "stream",
     "text": [
      "looking for review ids:  18%|█▊        | 364/2020 [1:41:44<7:16:07, 15.80s/movie]"
     ]
    },
    {
     "name": "stdout",
     "output_type": "stream",
     "text": [
      "Less than 25 reviews available - skipped\n"
     ]
    },
    {
     "name": "stderr",
     "output_type": "stream",
     "text": [
      "looking for review ids:  18%|█▊        | 365/2020 [1:42:00<7:12:30, 15.68s/movie]"
     ]
    },
    {
     "name": "stdout",
     "output_type": "stream",
     "text": [
      "Less than 25 reviews available - skipped\n"
     ]
    },
    {
     "name": "stderr",
     "output_type": "stream",
     "text": [
      "looking for review ids:  18%|█▊        | 366/2020 [1:42:15<7:10:36, 15.62s/movie]"
     ]
    },
    {
     "name": "stdout",
     "output_type": "stream",
     "text": [
      "Less than 25 reviews available - skipped\n"
     ]
    },
    {
     "name": "stderr",
     "output_type": "stream",
     "text": [
      "looking for review ids:  18%|█▊        | 367/2020 [1:42:31<7:12:21, 15.69s/movie]"
     ]
    },
    {
     "name": "stdout",
     "output_type": "stream",
     "text": [
      "Less than 25 reviews available - skipped\n"
     ]
    },
    {
     "name": "stderr",
     "output_type": "stream",
     "text": [
      "looking for review ids:  18%|█▊        | 368/2020 [1:42:47<7:11:25, 15.67s/movie]"
     ]
    },
    {
     "name": "stdout",
     "output_type": "stream",
     "text": [
      "Less than 25 reviews available - skipped\n"
     ]
    },
    {
     "name": "stderr",
     "output_type": "stream",
     "text": [
      "looking for review ids:  18%|█▊        | 369/2020 [1:43:02<7:12:14, 15.71s/movie]"
     ]
    },
    {
     "name": "stdout",
     "output_type": "stream",
     "text": [
      "Less than 25 reviews available - skipped\n"
     ]
    },
    {
     "name": "stderr",
     "output_type": "stream",
     "text": [
      "looking for review ids:  18%|█▊        | 370/2020 [1:43:18<7:09:25, 15.62s/movie]"
     ]
    },
    {
     "name": "stdout",
     "output_type": "stream",
     "text": [
      "Less than 25 reviews available - skipped\n"
     ]
    },
    {
     "name": "stderr",
     "output_type": "stream",
     "text": [
      "looking for review ids:  18%|█▊        | 371/2020 [1:43:34<7:10:47, 15.67s/movie]"
     ]
    },
    {
     "name": "stdout",
     "output_type": "stream",
     "text": [
      "Less than 25 reviews available - skipped\n"
     ]
    },
    {
     "name": "stderr",
     "output_type": "stream",
     "text": [
      "looking for review ids:  18%|█▊        | 372/2020 [1:43:49<7:12:30, 15.75s/movie]"
     ]
    },
    {
     "name": "stdout",
     "output_type": "stream",
     "text": [
      "Less than 25 reviews available - skipped\n"
     ]
    },
    {
     "name": "stderr",
     "output_type": "stream",
     "text": [
      "looking for review ids:  19%|█▊        | 374/2020 [1:44:18<6:50:54, 14.98s/movie]"
     ]
    },
    {
     "name": "stdout",
     "output_type": "stream",
     "text": [
      "Less than 25 reviews available - skipped\n"
     ]
    },
    {
     "name": "stderr",
     "output_type": "stream",
     "text": [
      "looking for review ids:  19%|█▊        | 375/2020 [1:44:34<6:56:38, 15.20s/movie]"
     ]
    },
    {
     "name": "stdout",
     "output_type": "stream",
     "text": [
      "Less than 25 reviews available - skipped\n"
     ]
    },
    {
     "name": "stderr",
     "output_type": "stream",
     "text": [
      "looking for review ids:  19%|█▊        | 376/2020 [1:44:50<7:01:48, 15.39s/movie]"
     ]
    },
    {
     "name": "stdout",
     "output_type": "stream",
     "text": [
      "Less than 25 reviews available - skipped\n"
     ]
    },
    {
     "name": "stderr",
     "output_type": "stream",
     "text": [
      "looking for review ids:  19%|█▊        | 377/2020 [1:45:06<7:05:25, 15.54s/movie]"
     ]
    },
    {
     "name": "stdout",
     "output_type": "stream",
     "text": [
      "Less than 25 reviews available - skipped\n"
     ]
    },
    {
     "name": "stderr",
     "output_type": "stream",
     "text": [
      "looking for review ids:  19%|█▊        | 378/2020 [1:45:22<7:06:37, 15.59s/movie]"
     ]
    },
    {
     "name": "stdout",
     "output_type": "stream",
     "text": [
      "Less than 25 reviews available - skipped\n"
     ]
    },
    {
     "name": "stderr",
     "output_type": "stream",
     "text": [
      "looking for review ids:  19%|█▉        | 379/2020 [1:45:37<7:06:42, 15.60s/movie]"
     ]
    },
    {
     "name": "stdout",
     "output_type": "stream",
     "text": [
      "Less than 25 reviews available - skipped\n"
     ]
    },
    {
     "name": "stderr",
     "output_type": "stream",
     "text": [
      "looking for review ids:  19%|█▉        | 380/2020 [1:45:53<7:06:57, 15.62s/movie]"
     ]
    },
    {
     "name": "stdout",
     "output_type": "stream",
     "text": [
      "Less than 25 reviews available - skipped\n"
     ]
    },
    {
     "name": "stderr",
     "output_type": "stream",
     "text": [
      "looking for review ids:  19%|█▉        | 381/2020 [1:46:09<7:09:31, 15.72s/movie]"
     ]
    },
    {
     "name": "stdout",
     "output_type": "stream",
     "text": [
      "Less than 25 reviews available - skipped\n"
     ]
    },
    {
     "name": "stderr",
     "output_type": "stream",
     "text": [
      "looking for review ids:  19%|█▉        | 382/2020 [1:46:25<7:12:52, 15.86s/movie]"
     ]
    },
    {
     "name": "stdout",
     "output_type": "stream",
     "text": [
      "Less than 25 reviews available - skipped\n"
     ]
    },
    {
     "name": "stderr",
     "output_type": "stream",
     "text": [
      "looking for review ids:  19%|█▉        | 383/2020 [1:46:41<7:12:21, 15.85s/movie]"
     ]
    },
    {
     "name": "stdout",
     "output_type": "stream",
     "text": [
      "Less than 25 reviews available - skipped\n"
     ]
    },
    {
     "name": "stderr",
     "output_type": "stream",
     "text": [
      "looking for review ids:  19%|█▉        | 384/2020 [1:46:57<7:14:43, 15.94s/movie]"
     ]
    },
    {
     "name": "stdout",
     "output_type": "stream",
     "text": [
      "Less than 25 reviews available - skipped\n"
     ]
    },
    {
     "name": "stderr",
     "output_type": "stream",
     "text": [
      "looking for review ids:  19%|█▉        | 385/2020 [1:47:13<7:13:00, 15.89s/movie]"
     ]
    },
    {
     "name": "stdout",
     "output_type": "stream",
     "text": [
      "Less than 25 reviews available - skipped\n"
     ]
    },
    {
     "name": "stderr",
     "output_type": "stream",
     "text": [
      "looking for review ids:  19%|█▉        | 386/2020 [1:47:28<7:10:53, 15.82s/movie]"
     ]
    },
    {
     "name": "stdout",
     "output_type": "stream",
     "text": [
      "Less than 25 reviews available - skipped\n"
     ]
    },
    {
     "name": "stderr",
     "output_type": "stream",
     "text": [
      "looking for review ids:  19%|█▉        | 387/2020 [1:47:44<7:09:45, 15.79s/movie]"
     ]
    },
    {
     "name": "stdout",
     "output_type": "stream",
     "text": [
      "Less than 25 reviews available - skipped\n"
     ]
    },
    {
     "name": "stderr",
     "output_type": "stream",
     "text": [
      "looking for review ids:  19%|█▉        | 388/2020 [1:48:00<7:09:32, 15.79s/movie]"
     ]
    },
    {
     "name": "stdout",
     "output_type": "stream",
     "text": [
      "Less than 25 reviews available - skipped\n"
     ]
    },
    {
     "name": "stderr",
     "output_type": "stream",
     "text": [
      "looking for review ids:  19%|█▉        | 389/2020 [1:48:16<7:07:42, 15.73s/movie]"
     ]
    },
    {
     "name": "stdout",
     "output_type": "stream",
     "text": [
      "Less than 25 reviews available - skipped\n"
     ]
    },
    {
     "name": "stderr",
     "output_type": "stream",
     "text": [
      "looking for review ids:  19%|█▉        | 390/2020 [1:48:31<7:06:52, 15.71s/movie]"
     ]
    },
    {
     "name": "stdout",
     "output_type": "stream",
     "text": [
      "Less than 25 reviews available - skipped\n"
     ]
    },
    {
     "name": "stderr",
     "output_type": "stream",
     "text": [
      "looking for review ids:  19%|█▉        | 391/2020 [1:48:47<7:09:38, 15.83s/movie]"
     ]
    },
    {
     "name": "stdout",
     "output_type": "stream",
     "text": [
      "Less than 25 reviews available - skipped\n"
     ]
    },
    {
     "name": "stderr",
     "output_type": "stream",
     "text": [
      "looking for review ids:  19%|█▉        | 392/2020 [1:49:03<7:08:02, 15.78s/movie]"
     ]
    },
    {
     "name": "stdout",
     "output_type": "stream",
     "text": [
      "Less than 25 reviews available - skipped\n"
     ]
    },
    {
     "name": "stderr",
     "output_type": "stream",
     "text": [
      "looking for review ids:  19%|█▉        | 393/2020 [1:49:19<7:06:36, 15.73s/movie]"
     ]
    },
    {
     "name": "stdout",
     "output_type": "stream",
     "text": [
      "Less than 25 reviews available - skipped\n"
     ]
    },
    {
     "name": "stderr",
     "output_type": "stream",
     "text": [
      "looking for review ids:  20%|█▉        | 394/2020 [1:49:34<7:05:07, 15.69s/movie]"
     ]
    },
    {
     "name": "stdout",
     "output_type": "stream",
     "text": [
      "Less than 25 reviews available - skipped\n"
     ]
    },
    {
     "name": "stderr",
     "output_type": "stream",
     "text": [
      "looking for review ids:  20%|█▉        | 395/2020 [1:49:50<7:07:30, 15.79s/movie]"
     ]
    },
    {
     "name": "stdout",
     "output_type": "stream",
     "text": [
      "Less than 25 reviews available - skipped\n"
     ]
    },
    {
     "name": "stderr",
     "output_type": "stream",
     "text": [
      "looking for review ids:  20%|█▉        | 396/2020 [1:50:06<7:09:08, 15.85s/movie]"
     ]
    },
    {
     "name": "stdout",
     "output_type": "stream",
     "text": [
      "Less than 25 reviews available - skipped\n"
     ]
    },
    {
     "name": "stderr",
     "output_type": "stream",
     "text": [
      "looking for review ids:  20%|█▉        | 397/2020 [1:50:22<7:05:01, 15.71s/movie]"
     ]
    },
    {
     "name": "stdout",
     "output_type": "stream",
     "text": [
      "Less than 25 reviews available - skipped\n"
     ]
    },
    {
     "name": "stderr",
     "output_type": "stream",
     "text": [
      "looking for review ids:  20%|█▉        | 398/2020 [1:50:37<7:03:33, 15.67s/movie]"
     ]
    },
    {
     "name": "stdout",
     "output_type": "stream",
     "text": [
      "Less than 25 reviews available - skipped\n"
     ]
    },
    {
     "name": "stderr",
     "output_type": "stream",
     "text": [
      "looking for review ids:  20%|█▉        | 399/2020 [1:50:53<7:04:52, 15.73s/movie]"
     ]
    },
    {
     "name": "stdout",
     "output_type": "stream",
     "text": [
      "Less than 25 reviews available - skipped\n"
     ]
    },
    {
     "name": "stderr",
     "output_type": "stream",
     "text": [
      "looking for review ids:  20%|█▉        | 400/2020 [1:51:09<7:06:40, 15.80s/movie]"
     ]
    },
    {
     "name": "stdout",
     "output_type": "stream",
     "text": [
      "Less than 25 reviews available - skipped\n"
     ]
    },
    {
     "name": "stderr",
     "output_type": "stream",
     "text": [
      "looking for review ids:  20%|█▉        | 401/2020 [1:51:25<7:06:48, 15.82s/movie]"
     ]
    },
    {
     "name": "stdout",
     "output_type": "stream",
     "text": [
      "Less than 25 reviews available - skipped\n"
     ]
    },
    {
     "name": "stderr",
     "output_type": "stream",
     "text": [
      "looking for review ids:  20%|█▉        | 402/2020 [1:51:41<7:07:50, 15.87s/movie]"
     ]
    },
    {
     "name": "stdout",
     "output_type": "stream",
     "text": [
      "Less than 25 reviews available - skipped\n"
     ]
    },
    {
     "name": "stderr",
     "output_type": "stream",
     "text": [
      "looking for review ids:  20%|█▉        | 403/2020 [1:51:57<7:07:19, 15.86s/movie]"
     ]
    },
    {
     "name": "stdout",
     "output_type": "stream",
     "text": [
      "Less than 25 reviews available - skipped\n"
     ]
    },
    {
     "name": "stderr",
     "output_type": "stream",
     "text": [
      "looking for review ids:  20%|██        | 404/2020 [1:52:12<7:05:05, 15.78s/movie]"
     ]
    },
    {
     "name": "stdout",
     "output_type": "stream",
     "text": [
      "Less than 25 reviews available - skipped\n"
     ]
    },
    {
     "name": "stderr",
     "output_type": "stream",
     "text": [
      "looking for review ids:  20%|██        | 405/2020 [1:52:28<7:02:07, 15.68s/movie]"
     ]
    },
    {
     "name": "stdout",
     "output_type": "stream",
     "text": [
      "Less than 25 reviews available - skipped\n"
     ]
    },
    {
     "name": "stderr",
     "output_type": "stream",
     "text": [
      "looking for review ids:  20%|██        | 406/2020 [1:52:44<7:03:20, 15.74s/movie]"
     ]
    },
    {
     "name": "stdout",
     "output_type": "stream",
     "text": [
      "Less than 25 reviews available - skipped\n"
     ]
    },
    {
     "name": "stderr",
     "output_type": "stream",
     "text": [
      "looking for review ids:  20%|██        | 407/2020 [1:52:59<7:02:52, 15.73s/movie]"
     ]
    },
    {
     "name": "stdout",
     "output_type": "stream",
     "text": [
      "Less than 25 reviews available - skipped\n"
     ]
    },
    {
     "name": "stderr",
     "output_type": "stream",
     "text": [
      "looking for review ids:  20%|██        | 408/2020 [1:53:15<7:04:31, 15.80s/movie]"
     ]
    },
    {
     "name": "stdout",
     "output_type": "stream",
     "text": [
      "Less than 25 reviews available - skipped\n"
     ]
    },
    {
     "name": "stderr",
     "output_type": "stream",
     "text": [
      "looking for review ids:  20%|██        | 409/2020 [1:53:31<7:05:25, 15.84s/movie]"
     ]
    },
    {
     "name": "stdout",
     "output_type": "stream",
     "text": [
      "Less than 25 reviews available - skipped\n"
     ]
    },
    {
     "name": "stderr",
     "output_type": "stream",
     "text": [
      "looking for review ids:  20%|██        | 410/2020 [1:53:47<7:03:10, 15.77s/movie]"
     ]
    },
    {
     "name": "stdout",
     "output_type": "stream",
     "text": [
      "Less than 25 reviews available - skipped\n"
     ]
    },
    {
     "name": "stderr",
     "output_type": "stream",
     "text": [
      "looking for review ids:  20%|██        | 411/2020 [1:54:03<7:03:40, 15.80s/movie]"
     ]
    },
    {
     "name": "stdout",
     "output_type": "stream",
     "text": [
      "Less than 25 reviews available - skipped\n"
     ]
    },
    {
     "name": "stderr",
     "output_type": "stream",
     "text": [
      "looking for review ids:  20%|██        | 412/2020 [1:54:19<7:03:57, 15.82s/movie]"
     ]
    },
    {
     "name": "stdout",
     "output_type": "stream",
     "text": [
      "Less than 25 reviews available - skipped\n"
     ]
    },
    {
     "name": "stderr",
     "output_type": "stream",
     "text": [
      "looking for review ids:  20%|██        | 413/2020 [1:54:34<7:00:42, 15.71s/movie]"
     ]
    },
    {
     "name": "stdout",
     "output_type": "stream",
     "text": [
      "Less than 25 reviews available - skipped\n"
     ]
    },
    {
     "name": "stderr",
     "output_type": "stream",
     "text": [
      "looking for review ids:  20%|██        | 414/2020 [1:54:50<7:00:04, 15.69s/movie]"
     ]
    },
    {
     "name": "stdout",
     "output_type": "stream",
     "text": [
      "Less than 25 reviews available - skipped\n"
     ]
    },
    {
     "name": "stderr",
     "output_type": "stream",
     "text": [
      "looking for review ids:  21%|██        | 415/2020 [1:55:05<7:01:04, 15.74s/movie]"
     ]
    },
    {
     "name": "stdout",
     "output_type": "stream",
     "text": [
      "Less than 25 reviews available - skipped\n"
     ]
    },
    {
     "name": "stderr",
     "output_type": "stream",
     "text": [
      "looking for review ids:  21%|██        | 416/2020 [1:55:21<6:59:59, 15.71s/movie]"
     ]
    },
    {
     "name": "stdout",
     "output_type": "stream",
     "text": [
      "Less than 25 reviews available - skipped\n"
     ]
    },
    {
     "name": "stderr",
     "output_type": "stream",
     "text": [
      "looking for review ids:  21%|██        | 417/2020 [1:55:37<7:00:54, 15.75s/movie]"
     ]
    },
    {
     "name": "stdout",
     "output_type": "stream",
     "text": [
      "Less than 25 reviews available - skipped\n"
     ]
    },
    {
     "name": "stderr",
     "output_type": "stream",
     "text": [
      "looking for review ids:  21%|██        | 418/2020 [1:55:53<7:02:42, 15.83s/movie]"
     ]
    },
    {
     "name": "stdout",
     "output_type": "stream",
     "text": [
      "Less than 25 reviews available - skipped\n"
     ]
    },
    {
     "name": "stderr",
     "output_type": "stream",
     "text": [
      "looking for review ids:  21%|██        | 419/2020 [1:56:09<7:00:02, 15.74s/movie]"
     ]
    },
    {
     "name": "stdout",
     "output_type": "stream",
     "text": [
      "Less than 25 reviews available - skipped\n"
     ]
    },
    {
     "name": "stderr",
     "output_type": "stream",
     "text": [
      "looking for review ids:  21%|██        | 420/2020 [1:56:24<6:57:49, 15.67s/movie]"
     ]
    },
    {
     "name": "stdout",
     "output_type": "stream",
     "text": [
      "Less than 25 reviews available - skipped\n"
     ]
    },
    {
     "name": "stderr",
     "output_type": "stream",
     "text": [
      "looking for review ids:  21%|██        | 421/2020 [1:56:40<6:57:48, 15.68s/movie]"
     ]
    },
    {
     "name": "stdout",
     "output_type": "stream",
     "text": [
      "Less than 25 reviews available - skipped\n"
     ]
    },
    {
     "name": "stderr",
     "output_type": "stream",
     "text": [
      "looking for review ids:  21%|██        | 422/2020 [1:56:55<6:58:22, 15.71s/movie]"
     ]
    },
    {
     "name": "stdout",
     "output_type": "stream",
     "text": [
      "Less than 25 reviews available - skipped\n"
     ]
    },
    {
     "name": "stderr",
     "output_type": "stream",
     "text": [
      "looking for review ids:  21%|██        | 423/2020 [1:57:11<6:59:03, 15.74s/movie]"
     ]
    },
    {
     "name": "stdout",
     "output_type": "stream",
     "text": [
      "Less than 25 reviews available - skipped\n"
     ]
    },
    {
     "name": "stderr",
     "output_type": "stream",
     "text": [
      "looking for review ids:  21%|██        | 424/2020 [1:57:27<6:57:53, 15.71s/movie]"
     ]
    },
    {
     "name": "stdout",
     "output_type": "stream",
     "text": [
      "Less than 25 reviews available - skipped\n"
     ]
    },
    {
     "name": "stderr",
     "output_type": "stream",
     "text": [
      "looking for review ids:  21%|██        | 425/2020 [1:57:43<6:58:45, 15.75s/movie]"
     ]
    },
    {
     "name": "stdout",
     "output_type": "stream",
     "text": [
      "Less than 25 reviews available - skipped\n"
     ]
    },
    {
     "name": "stderr",
     "output_type": "stream",
     "text": [
      "looking for review ids:  21%|██        | 426/2020 [1:58:01<7:17:58, 16.49s/movie]"
     ]
    },
    {
     "name": "stdout",
     "output_type": "stream",
     "text": [
      "Less than 25 reviews available - skipped\n"
     ]
    },
    {
     "name": "stderr",
     "output_type": "stream",
     "text": [
      "looking for review ids:  21%|██        | 427/2020 [1:58:17<7:13:09, 16.31s/movie]"
     ]
    },
    {
     "name": "stdout",
     "output_type": "stream",
     "text": [
      "Less than 25 reviews available - skipped\n"
     ]
    },
    {
     "name": "stderr",
     "output_type": "stream",
     "text": [
      "looking for review ids:  21%|██        | 428/2020 [1:58:33<7:09:01, 16.17s/movie]"
     ]
    },
    {
     "name": "stdout",
     "output_type": "stream",
     "text": [
      "Less than 25 reviews available - skipped\n"
     ]
    },
    {
     "name": "stderr",
     "output_type": "stream",
     "text": [
      "looking for review ids:  21%|██▏       | 430/2020 [1:59:01<6:41:02, 15.13s/movie]"
     ]
    },
    {
     "name": "stdout",
     "output_type": "stream",
     "text": [
      "Less than 25 reviews available - skipped\n"
     ]
    },
    {
     "name": "stderr",
     "output_type": "stream",
     "text": [
      "looking for review ids:  21%|██▏       | 431/2020 [1:59:17<6:44:36, 15.28s/movie]"
     ]
    },
    {
     "name": "stdout",
     "output_type": "stream",
     "text": [
      "Less than 25 reviews available - skipped\n"
     ]
    },
    {
     "name": "stderr",
     "output_type": "stream",
     "text": [
      "looking for review ids:  21%|██▏       | 432/2020 [1:59:33<6:49:03, 15.46s/movie]"
     ]
    },
    {
     "name": "stdout",
     "output_type": "stream",
     "text": [
      "Less than 25 reviews available - skipped\n"
     ]
    },
    {
     "name": "stderr",
     "output_type": "stream",
     "text": [
      "looking for review ids:  21%|██▏       | 433/2020 [1:59:48<6:49:21, 15.48s/movie]"
     ]
    },
    {
     "name": "stdout",
     "output_type": "stream",
     "text": [
      "Less than 25 reviews available - skipped\n"
     ]
    },
    {
     "name": "stderr",
     "output_type": "stream",
     "text": [
      "looking for review ids:  21%|██▏       | 434/2020 [2:00:04<6:49:31, 15.49s/movie]"
     ]
    },
    {
     "name": "stdout",
     "output_type": "stream",
     "text": [
      "Less than 25 reviews available - skipped\n"
     ]
    },
    {
     "name": "stderr",
     "output_type": "stream",
     "text": [
      "looking for review ids:  22%|██▏       | 435/2020 [2:00:20<6:51:10, 15.57s/movie]"
     ]
    },
    {
     "name": "stdout",
     "output_type": "stream",
     "text": [
      "Less than 25 reviews available - skipped\n"
     ]
    },
    {
     "name": "stderr",
     "output_type": "stream",
     "text": [
      "looking for review ids:  22%|██▏       | 436/2020 [2:00:36<6:53:00, 15.64s/movie]"
     ]
    },
    {
     "name": "stdout",
     "output_type": "stream",
     "text": [
      "Less than 25 reviews available - skipped\n"
     ]
    },
    {
     "name": "stderr",
     "output_type": "stream",
     "text": [
      "looking for review ids:  22%|██▏       | 437/2020 [2:00:51<6:52:40, 15.64s/movie]"
     ]
    },
    {
     "name": "stdout",
     "output_type": "stream",
     "text": [
      "Less than 25 reviews available - skipped\n"
     ]
    },
    {
     "name": "stderr",
     "output_type": "stream",
     "text": [
      "looking for review ids:  22%|██▏       | 438/2020 [2:01:07<6:52:19, 15.64s/movie]"
     ]
    },
    {
     "name": "stdout",
     "output_type": "stream",
     "text": [
      "Less than 25 reviews available - skipped\n"
     ]
    },
    {
     "name": "stderr",
     "output_type": "stream",
     "text": [
      "looking for review ids:  22%|██▏       | 439/2020 [2:01:23<6:55:01, 15.75s/movie]"
     ]
    },
    {
     "name": "stdout",
     "output_type": "stream",
     "text": [
      "Less than 25 reviews available - skipped\n"
     ]
    },
    {
     "name": "stderr",
     "output_type": "stream",
     "text": [
      "looking for review ids:  22%|██▏       | 440/2020 [2:01:39<6:54:17, 15.73s/movie]"
     ]
    },
    {
     "name": "stdout",
     "output_type": "stream",
     "text": [
      "Less than 25 reviews available - skipped\n"
     ]
    },
    {
     "name": "stderr",
     "output_type": "stream",
     "text": [
      "looking for review ids:  22%|██▏       | 441/2020 [2:01:54<6:54:44, 15.76s/movie]"
     ]
    },
    {
     "name": "stdout",
     "output_type": "stream",
     "text": [
      "Less than 25 reviews available - skipped\n"
     ]
    },
    {
     "name": "stderr",
     "output_type": "stream",
     "text": [
      "looking for review ids:  22%|██▏       | 442/2020 [2:02:10<6:55:17, 15.79s/movie]"
     ]
    },
    {
     "name": "stdout",
     "output_type": "stream",
     "text": [
      "Less than 25 reviews available - skipped\n"
     ]
    },
    {
     "name": "stderr",
     "output_type": "stream",
     "text": [
      "looking for review ids:  22%|██▏       | 443/2020 [2:02:26<6:53:37, 15.74s/movie]"
     ]
    },
    {
     "name": "stdout",
     "output_type": "stream",
     "text": [
      "Less than 25 reviews available - skipped\n"
     ]
    },
    {
     "name": "stderr",
     "output_type": "stream",
     "text": [
      "looking for review ids:  22%|██▏       | 444/2020 [2:02:41<6:52:02, 15.69s/movie]"
     ]
    },
    {
     "name": "stdout",
     "output_type": "stream",
     "text": [
      "Less than 25 reviews available - skipped\n"
     ]
    },
    {
     "name": "stderr",
     "output_type": "stream",
     "text": [
      "looking for review ids:  22%|██▏       | 445/2020 [2:02:57<6:51:51, 15.69s/movie]"
     ]
    },
    {
     "name": "stdout",
     "output_type": "stream",
     "text": [
      "Less than 25 reviews available - skipped\n"
     ]
    },
    {
     "name": "stderr",
     "output_type": "stream",
     "text": [
      "looking for review ids:  22%|██▏       | 446/2020 [2:03:13<6:49:48, 15.62s/movie]"
     ]
    },
    {
     "name": "stdout",
     "output_type": "stream",
     "text": [
      "Less than 25 reviews available - skipped\n"
     ]
    },
    {
     "name": "stderr",
     "output_type": "stream",
     "text": [
      "looking for review ids:  22%|██▏       | 447/2020 [2:03:28<6:49:37, 15.62s/movie]"
     ]
    },
    {
     "name": "stdout",
     "output_type": "stream",
     "text": [
      "Less than 25 reviews available - skipped\n"
     ]
    },
    {
     "name": "stderr",
     "output_type": "stream",
     "text": [
      "looking for review ids:  22%|██▏       | 448/2020 [2:03:44<6:52:04, 15.73s/movie]"
     ]
    },
    {
     "name": "stdout",
     "output_type": "stream",
     "text": [
      "Less than 25 reviews available - skipped\n"
     ]
    },
    {
     "name": "stderr",
     "output_type": "stream",
     "text": [
      "looking for review ids:  22%|██▏       | 449/2020 [2:04:00<6:51:01, 15.70s/movie]"
     ]
    },
    {
     "name": "stdout",
     "output_type": "stream",
     "text": [
      "Less than 25 reviews available - skipped\n"
     ]
    },
    {
     "name": "stderr",
     "output_type": "stream",
     "text": [
      "looking for review ids:  22%|██▏       | 450/2020 [2:04:16<6:51:56, 15.74s/movie]"
     ]
    },
    {
     "name": "stdout",
     "output_type": "stream",
     "text": [
      "Less than 25 reviews available - skipped\n"
     ]
    },
    {
     "name": "stderr",
     "output_type": "stream",
     "text": [
      "looking for review ids:  22%|██▏       | 451/2020 [2:04:31<6:50:47, 15.71s/movie]"
     ]
    },
    {
     "name": "stdout",
     "output_type": "stream",
     "text": [
      "Less than 25 reviews available - skipped\n"
     ]
    },
    {
     "name": "stderr",
     "output_type": "stream",
     "text": [
      "looking for review ids:  22%|██▏       | 452/2020 [2:04:47<6:51:53, 15.76s/movie]"
     ]
    },
    {
     "name": "stdout",
     "output_type": "stream",
     "text": [
      "Less than 25 reviews available - skipped\n"
     ]
    },
    {
     "name": "stderr",
     "output_type": "stream",
     "text": [
      "looking for review ids:  22%|██▏       | 453/2020 [2:05:03<6:51:23, 15.75s/movie]"
     ]
    },
    {
     "name": "stdout",
     "output_type": "stream",
     "text": [
      "Less than 25 reviews available - skipped\n"
     ]
    },
    {
     "name": "stderr",
     "output_type": "stream",
     "text": [
      "looking for review ids:  22%|██▏       | 454/2020 [2:05:19<6:53:04, 15.83s/movie]"
     ]
    },
    {
     "name": "stdout",
     "output_type": "stream",
     "text": [
      "Less than 25 reviews available - skipped\n"
     ]
    },
    {
     "name": "stderr",
     "output_type": "stream",
     "text": [
      "looking for review ids:  23%|██▎       | 455/2020 [2:05:35<6:53:04, 15.84s/movie]"
     ]
    },
    {
     "name": "stdout",
     "output_type": "stream",
     "text": [
      "Less than 25 reviews available - skipped\n"
     ]
    },
    {
     "name": "stderr",
     "output_type": "stream",
     "text": [
      "looking for review ids:  23%|██▎       | 456/2020 [2:05:51<6:53:39, 15.87s/movie]"
     ]
    },
    {
     "name": "stdout",
     "output_type": "stream",
     "text": [
      "Less than 25 reviews available - skipped\n"
     ]
    },
    {
     "name": "stderr",
     "output_type": "stream",
     "text": [
      "looking for review ids:  23%|██▎       | 457/2020 [2:06:07<6:53:38, 15.88s/movie]"
     ]
    },
    {
     "name": "stdout",
     "output_type": "stream",
     "text": [
      "Less than 25 reviews available - skipped\n"
     ]
    },
    {
     "name": "stderr",
     "output_type": "stream",
     "text": [
      "looking for review ids:  23%|██▎       | 458/2020 [2:06:22<6:52:46, 15.86s/movie]"
     ]
    },
    {
     "name": "stdout",
     "output_type": "stream",
     "text": [
      "Less than 25 reviews available - skipped\n"
     ]
    },
    {
     "name": "stderr",
     "output_type": "stream",
     "text": [
      "looking for review ids:  23%|██▎       | 459/2020 [2:06:38<6:51:46, 15.83s/movie]"
     ]
    },
    {
     "name": "stdout",
     "output_type": "stream",
     "text": [
      "Less than 25 reviews available - skipped\n"
     ]
    },
    {
     "name": "stderr",
     "output_type": "stream",
     "text": [
      "looking for review ids:  23%|██▎       | 460/2020 [2:06:54<6:51:48, 15.84s/movie]"
     ]
    },
    {
     "name": "stdout",
     "output_type": "stream",
     "text": [
      "Less than 25 reviews available - skipped\n"
     ]
    },
    {
     "name": "stderr",
     "output_type": "stream",
     "text": [
      "looking for review ids:  23%|██▎       | 461/2020 [2:07:10<6:53:33, 15.92s/movie]"
     ]
    },
    {
     "name": "stdout",
     "output_type": "stream",
     "text": [
      "Less than 25 reviews available - skipped\n"
     ]
    },
    {
     "name": "stderr",
     "output_type": "stream",
     "text": [
      "looking for review ids:  23%|██▎       | 462/2020 [2:07:26<6:53:33, 15.93s/movie]"
     ]
    },
    {
     "name": "stdout",
     "output_type": "stream",
     "text": [
      "Less than 25 reviews available - skipped\n"
     ]
    },
    {
     "name": "stderr",
     "output_type": "stream",
     "text": [
      "looking for review ids:  23%|██▎       | 463/2020 [2:07:42<6:52:47, 15.91s/movie]"
     ]
    },
    {
     "name": "stdout",
     "output_type": "stream",
     "text": [
      "Less than 25 reviews available - skipped\n"
     ]
    },
    {
     "name": "stderr",
     "output_type": "stream",
     "text": [
      "looking for review ids:  23%|██▎       | 464/2020 [2:07:58<6:50:45, 15.84s/movie]"
     ]
    },
    {
     "name": "stdout",
     "output_type": "stream",
     "text": [
      "Less than 25 reviews available - skipped\n"
     ]
    },
    {
     "name": "stderr",
     "output_type": "stream",
     "text": [
      "looking for review ids:  23%|██▎       | 465/2020 [2:08:13<6:49:49, 15.81s/movie]"
     ]
    },
    {
     "name": "stdout",
     "output_type": "stream",
     "text": [
      "Less than 25 reviews available - skipped\n"
     ]
    },
    {
     "name": "stderr",
     "output_type": "stream",
     "text": [
      "looking for review ids:  23%|██▎       | 466/2020 [2:08:29<6:50:19, 15.84s/movie]"
     ]
    },
    {
     "name": "stdout",
     "output_type": "stream",
     "text": [
      "Less than 25 reviews available - skipped\n"
     ]
    },
    {
     "name": "stderr",
     "output_type": "stream",
     "text": [
      "looking for review ids:  23%|██▎       | 467/2020 [2:08:45<6:50:06, 15.84s/movie]"
     ]
    },
    {
     "name": "stdout",
     "output_type": "stream",
     "text": [
      "Less than 25 reviews available - skipped\n"
     ]
    },
    {
     "name": "stderr",
     "output_type": "stream",
     "text": [
      "looking for review ids:  23%|██▎       | 468/2020 [2:09:01<6:49:29, 15.83s/movie]"
     ]
    },
    {
     "name": "stdout",
     "output_type": "stream",
     "text": [
      "Less than 25 reviews available - skipped\n"
     ]
    },
    {
     "name": "stderr",
     "output_type": "stream",
     "text": [
      "looking for review ids:  23%|██▎       | 469/2020 [2:09:16<6:46:22, 15.72s/movie]"
     ]
    },
    {
     "name": "stdout",
     "output_type": "stream",
     "text": [
      "Less than 25 reviews available - skipped\n"
     ]
    },
    {
     "name": "stderr",
     "output_type": "stream",
     "text": [
      "looking for review ids:  23%|██▎       | 470/2020 [2:09:32<6:44:30, 15.66s/movie]"
     ]
    },
    {
     "name": "stdout",
     "output_type": "stream",
     "text": [
      "Less than 25 reviews available - skipped\n"
     ]
    },
    {
     "name": "stderr",
     "output_type": "stream",
     "text": [
      "looking for review ids:  23%|██▎       | 471/2020 [2:09:48<6:44:02, 15.65s/movie]"
     ]
    },
    {
     "name": "stdout",
     "output_type": "stream",
     "text": [
      "Less than 25 reviews available - skipped\n"
     ]
    },
    {
     "name": "stderr",
     "output_type": "stream",
     "text": [
      "looking for review ids:  23%|██▎       | 472/2020 [2:10:04<6:46:28, 15.75s/movie]"
     ]
    },
    {
     "name": "stdout",
     "output_type": "stream",
     "text": [
      "Less than 25 reviews available - skipped\n"
     ]
    },
    {
     "name": "stderr",
     "output_type": "stream",
     "text": [
      "looking for review ids:  23%|██▎       | 473/2020 [2:10:19<6:47:41, 15.81s/movie]"
     ]
    },
    {
     "name": "stdout",
     "output_type": "stream",
     "text": [
      "Less than 25 reviews available - skipped\n"
     ]
    },
    {
     "name": "stderr",
     "output_type": "stream",
     "text": [
      "looking for review ids:  23%|██▎       | 474/2020 [2:10:35<6:47:50, 15.83s/movie]"
     ]
    },
    {
     "name": "stdout",
     "output_type": "stream",
     "text": [
      "Less than 25 reviews available - skipped\n"
     ]
    },
    {
     "name": "stderr",
     "output_type": "stream",
     "text": [
      "looking for review ids:  24%|██▎       | 475/2020 [2:10:51<6:47:43, 15.83s/movie]"
     ]
    },
    {
     "name": "stdout",
     "output_type": "stream",
     "text": [
      "Less than 25 reviews available - skipped\n"
     ]
    },
    {
     "name": "stderr",
     "output_type": "stream",
     "text": [
      "looking for review ids:  24%|██▎       | 476/2020 [2:11:07<6:47:18, 15.83s/movie]"
     ]
    },
    {
     "name": "stdout",
     "output_type": "stream",
     "text": [
      "Less than 25 reviews available - skipped\n"
     ]
    },
    {
     "name": "stderr",
     "output_type": "stream",
     "text": [
      "looking for review ids:  24%|██▎       | 477/2020 [2:11:23<6:46:17, 15.80s/movie]"
     ]
    },
    {
     "name": "stdout",
     "output_type": "stream",
     "text": [
      "Less than 25 reviews available - skipped\n"
     ]
    },
    {
     "name": "stderr",
     "output_type": "stream",
     "text": [
      "looking for review ids:  24%|██▎       | 478/2020 [2:11:39<6:45:53, 15.79s/movie]"
     ]
    },
    {
     "name": "stdout",
     "output_type": "stream",
     "text": [
      "Less than 25 reviews available - skipped\n"
     ]
    },
    {
     "name": "stderr",
     "output_type": "stream",
     "text": [
      "looking for review ids:  24%|██▎       | 479/2020 [2:11:55<6:47:43, 15.87s/movie]"
     ]
    },
    {
     "name": "stdout",
     "output_type": "stream",
     "text": [
      "Less than 25 reviews available - skipped\n"
     ]
    },
    {
     "name": "stderr",
     "output_type": "stream",
     "text": [
      "looking for review ids:  24%|██▍       | 480/2020 [2:12:10<6:47:06, 15.86s/movie]"
     ]
    },
    {
     "name": "stdout",
     "output_type": "stream",
     "text": [
      "Less than 25 reviews available - skipped\n"
     ]
    },
    {
     "name": "stderr",
     "output_type": "stream",
     "text": [
      "looking for review ids:  24%|██▍       | 481/2020 [2:12:26<6:44:19, 15.76s/movie]"
     ]
    },
    {
     "name": "stdout",
     "output_type": "stream",
     "text": [
      "Less than 25 reviews available - skipped\n"
     ]
    },
    {
     "name": "stderr",
     "output_type": "stream",
     "text": [
      "looking for review ids:  24%|██▍       | 482/2020 [2:12:42<6:44:20, 15.77s/movie]"
     ]
    },
    {
     "name": "stdout",
     "output_type": "stream",
     "text": [
      "Less than 25 reviews available - skipped\n"
     ]
    },
    {
     "name": "stderr",
     "output_type": "stream",
     "text": [
      "looking for review ids:  24%|██▍       | 483/2020 [2:12:58<6:45:23, 15.83s/movie]"
     ]
    },
    {
     "name": "stdout",
     "output_type": "stream",
     "text": [
      "Less than 25 reviews available - skipped\n"
     ]
    },
    {
     "name": "stderr",
     "output_type": "stream",
     "text": [
      "looking for review ids:  24%|██▍       | 484/2020 [2:13:13<6:43:16, 15.75s/movie]"
     ]
    },
    {
     "name": "stdout",
     "output_type": "stream",
     "text": [
      "Less than 25 reviews available - skipped\n"
     ]
    },
    {
     "name": "stderr",
     "output_type": "stream",
     "text": [
      "looking for review ids:  24%|██▍       | 485/2020 [2:13:29<6:42:57, 15.75s/movie]"
     ]
    },
    {
     "name": "stdout",
     "output_type": "stream",
     "text": [
      "Less than 25 reviews available - skipped\n"
     ]
    },
    {
     "name": "stderr",
     "output_type": "stream",
     "text": [
      "looking for review ids:  24%|██▍       | 486/2020 [2:13:45<6:41:48, 15.72s/movie]"
     ]
    },
    {
     "name": "stdout",
     "output_type": "stream",
     "text": [
      "Less than 25 reviews available - skipped\n"
     ]
    },
    {
     "name": "stderr",
     "output_type": "stream",
     "text": [
      "looking for review ids:  24%|██▍       | 487/2020 [2:14:00<6:40:52, 15.69s/movie]"
     ]
    },
    {
     "name": "stdout",
     "output_type": "stream",
     "text": [
      "Less than 25 reviews available - skipped\n"
     ]
    },
    {
     "name": "stderr",
     "output_type": "stream",
     "text": [
      "looking for review ids:  24%|██▍       | 488/2020 [2:14:16<6:42:14, 15.75s/movie]"
     ]
    },
    {
     "name": "stdout",
     "output_type": "stream",
     "text": [
      "Less than 25 reviews available - skipped\n"
     ]
    },
    {
     "name": "stderr",
     "output_type": "stream",
     "text": [
      "looking for review ids:  24%|██▍       | 489/2020 [2:14:32<6:41:30, 15.74s/movie]"
     ]
    },
    {
     "name": "stdout",
     "output_type": "stream",
     "text": [
      "Less than 25 reviews available - skipped\n"
     ]
    },
    {
     "name": "stderr",
     "output_type": "stream",
     "text": [
      "looking for review ids:  24%|██▍       | 490/2020 [2:14:47<6:38:56, 15.64s/movie]"
     ]
    },
    {
     "name": "stdout",
     "output_type": "stream",
     "text": [
      "Less than 25 reviews available - skipped\n"
     ]
    },
    {
     "name": "stderr",
     "output_type": "stream",
     "text": [
      "looking for review ids:  24%|██▍       | 491/2020 [2:15:03<6:40:51, 15.73s/movie]"
     ]
    },
    {
     "name": "stdout",
     "output_type": "stream",
     "text": [
      "Less than 25 reviews available - skipped\n"
     ]
    },
    {
     "name": "stderr",
     "output_type": "stream",
     "text": [
      "looking for review ids:  24%|██▍       | 492/2020 [2:15:19<6:39:57, 15.71s/movie]"
     ]
    },
    {
     "name": "stdout",
     "output_type": "stream",
     "text": [
      "Less than 25 reviews available - skipped\n"
     ]
    },
    {
     "name": "stderr",
     "output_type": "stream",
     "text": [
      "looking for review ids:  24%|██▍       | 493/2020 [2:15:35<6:41:18, 15.77s/movie]"
     ]
    },
    {
     "name": "stdout",
     "output_type": "stream",
     "text": [
      "Less than 25 reviews available - skipped\n"
     ]
    },
    {
     "name": "stderr",
     "output_type": "stream",
     "text": [
      "looking for review ids:  24%|██▍       | 494/2020 [2:15:50<6:39:37, 15.71s/movie]"
     ]
    },
    {
     "name": "stdout",
     "output_type": "stream",
     "text": [
      "Less than 25 reviews available - skipped\n"
     ]
    },
    {
     "name": "stderr",
     "output_type": "stream",
     "text": [
      "looking for review ids:  25%|██▍       | 495/2020 [2:16:06<6:39:37, 15.72s/movie]"
     ]
    },
    {
     "name": "stdout",
     "output_type": "stream",
     "text": [
      "Less than 25 reviews available - skipped\n"
     ]
    },
    {
     "name": "stderr",
     "output_type": "stream",
     "text": [
      "looking for review ids:  25%|██▍       | 496/2020 [2:16:21<6:35:51, 15.59s/movie]"
     ]
    },
    {
     "name": "stdout",
     "output_type": "stream",
     "text": [
      "Less than 25 reviews available - skipped\n"
     ]
    },
    {
     "name": "stderr",
     "output_type": "stream",
     "text": [
      "looking for review ids:  25%|██▍       | 497/2020 [2:16:37<6:38:37, 15.70s/movie]"
     ]
    },
    {
     "name": "stdout",
     "output_type": "stream",
     "text": [
      "Less than 25 reviews available - skipped\n"
     ]
    },
    {
     "name": "stderr",
     "output_type": "stream",
     "text": [
      "looking for review ids:  25%|██▍       | 498/2020 [2:16:53<6:40:06, 15.77s/movie]"
     ]
    },
    {
     "name": "stdout",
     "output_type": "stream",
     "text": [
      "Less than 25 reviews available - skipped\n"
     ]
    },
    {
     "name": "stderr",
     "output_type": "stream",
     "text": [
      "looking for review ids:  25%|██▍       | 499/2020 [2:17:09<6:40:31, 15.80s/movie]"
     ]
    },
    {
     "name": "stdout",
     "output_type": "stream",
     "text": [
      "Less than 25 reviews available - skipped\n"
     ]
    },
    {
     "name": "stderr",
     "output_type": "stream",
     "text": [
      "looking for review ids:  25%|██▍       | 500/2020 [2:17:25<6:41:23, 15.84s/movie]"
     ]
    },
    {
     "name": "stdout",
     "output_type": "stream",
     "text": [
      "Less than 25 reviews available - skipped\n"
     ]
    },
    {
     "name": "stderr",
     "output_type": "stream",
     "text": [
      "looking for review ids:  25%|██▍       | 501/2020 [2:17:41<6:39:07, 15.77s/movie]"
     ]
    },
    {
     "name": "stdout",
     "output_type": "stream",
     "text": [
      "Less than 25 reviews available - skipped\n"
     ]
    },
    {
     "name": "stderr",
     "output_type": "stream",
     "text": [
      "looking for review ids:  25%|██▍       | 502/2020 [2:17:57<6:39:29, 15.79s/movie]"
     ]
    },
    {
     "name": "stdout",
     "output_type": "stream",
     "text": [
      "Less than 25 reviews available - skipped\n"
     ]
    },
    {
     "name": "stderr",
     "output_type": "stream",
     "text": [
      "looking for review ids:  25%|██▍       | 503/2020 [2:18:13<6:40:41, 15.85s/movie]"
     ]
    },
    {
     "name": "stdout",
     "output_type": "stream",
     "text": [
      "Less than 25 reviews available - skipped\n"
     ]
    },
    {
     "name": "stderr",
     "output_type": "stream",
     "text": [
      "looking for review ids:  25%|██▍       | 504/2020 [2:18:29<6:41:32, 15.89s/movie]"
     ]
    },
    {
     "name": "stdout",
     "output_type": "stream",
     "text": [
      "Less than 25 reviews available - skipped\n"
     ]
    },
    {
     "name": "stderr",
     "output_type": "stream",
     "text": [
      "looking for review ids:  25%|██▌       | 505/2020 [2:18:45<6:48:15, 16.17s/movie]"
     ]
    },
    {
     "name": "stdout",
     "output_type": "stream",
     "text": [
      "Less than 25 reviews available - skipped\n"
     ]
    },
    {
     "name": "stderr",
     "output_type": "stream",
     "text": [
      "looking for review ids:  25%|██▌       | 506/2020 [2:19:01<6:42:39, 15.96s/movie]"
     ]
    },
    {
     "name": "stdout",
     "output_type": "stream",
     "text": [
      "Less than 25 reviews available - skipped\n"
     ]
    },
    {
     "name": "stderr",
     "output_type": "stream",
     "text": [
      "looking for review ids:  25%|██▌       | 507/2020 [2:19:17<6:41:19, 15.92s/movie]"
     ]
    },
    {
     "name": "stdout",
     "output_type": "stream",
     "text": [
      "Less than 25 reviews available - skipped\n"
     ]
    },
    {
     "name": "stderr",
     "output_type": "stream",
     "text": [
      "looking for review ids:  25%|██▌       | 508/2020 [2:19:33<6:41:02, 15.91s/movie]"
     ]
    },
    {
     "name": "stdout",
     "output_type": "stream",
     "text": [
      "Less than 25 reviews available - skipped\n"
     ]
    },
    {
     "name": "stderr",
     "output_type": "stream",
     "text": [
      "looking for review ids:  25%|██▌       | 509/2020 [2:19:48<6:40:46, 15.91s/movie]"
     ]
    },
    {
     "name": "stdout",
     "output_type": "stream",
     "text": [
      "Less than 25 reviews available - skipped\n"
     ]
    },
    {
     "name": "stderr",
     "output_type": "stream",
     "text": [
      "looking for review ids:  25%|██▌       | 510/2020 [2:20:04<6:39:54, 15.89s/movie]"
     ]
    },
    {
     "name": "stdout",
     "output_type": "stream",
     "text": [
      "Less than 25 reviews available - skipped\n"
     ]
    },
    {
     "name": "stderr",
     "output_type": "stream",
     "text": [
      "looking for review ids:  25%|██▌       | 511/2020 [2:20:20<6:37:02, 15.79s/movie]"
     ]
    },
    {
     "name": "stdout",
     "output_type": "stream",
     "text": [
      "Less than 25 reviews available - skipped\n"
     ]
    },
    {
     "name": "stderr",
     "output_type": "stream",
     "text": [
      "looking for review ids:  25%|██▌       | 512/2020 [2:20:36<6:38:41, 15.86s/movie]"
     ]
    },
    {
     "name": "stdout",
     "output_type": "stream",
     "text": [
      "Less than 25 reviews available - skipped\n"
     ]
    },
    {
     "name": "stderr",
     "output_type": "stream",
     "text": [
      "looking for review ids:  25%|██▌       | 513/2020 [2:20:52<6:37:52, 15.84s/movie]"
     ]
    },
    {
     "name": "stdout",
     "output_type": "stream",
     "text": [
      "Less than 25 reviews available - skipped\n"
     ]
    },
    {
     "name": "stderr",
     "output_type": "stream",
     "text": [
      "looking for review ids:  25%|██▌       | 514/2020 [2:21:07<6:35:54, 15.77s/movie]"
     ]
    },
    {
     "name": "stdout",
     "output_type": "stream",
     "text": [
      "Less than 25 reviews available - skipped\n"
     ]
    },
    {
     "name": "stderr",
     "output_type": "stream",
     "text": [
      "looking for review ids:  25%|██▌       | 515/2020 [2:21:23<6:37:05, 15.83s/movie]"
     ]
    },
    {
     "name": "stdout",
     "output_type": "stream",
     "text": [
      "Less than 25 reviews available - skipped\n"
     ]
    },
    {
     "name": "stderr",
     "output_type": "stream",
     "text": [
      "looking for review ids:  26%|██▌       | 516/2020 [2:21:39<6:35:41, 15.79s/movie]"
     ]
    },
    {
     "name": "stdout",
     "output_type": "stream",
     "text": [
      "Less than 25 reviews available - skipped\n"
     ]
    },
    {
     "name": "stderr",
     "output_type": "stream",
     "text": [
      "looking for review ids:  26%|██▌       | 517/2020 [2:21:55<6:34:01, 15.73s/movie]"
     ]
    },
    {
     "name": "stdout",
     "output_type": "stream",
     "text": [
      "Less than 25 reviews available - skipped\n"
     ]
    },
    {
     "name": "stderr",
     "output_type": "stream",
     "text": [
      "looking for review ids:  26%|██▌       | 518/2020 [2:22:10<6:34:53, 15.77s/movie]"
     ]
    },
    {
     "name": "stdout",
     "output_type": "stream",
     "text": [
      "Less than 25 reviews available - skipped\n"
     ]
    },
    {
     "name": "stderr",
     "output_type": "stream",
     "text": [
      "looking for review ids:  26%|██▌       | 519/2020 [2:22:26<6:35:03, 15.79s/movie]"
     ]
    },
    {
     "name": "stdout",
     "output_type": "stream",
     "text": [
      "Less than 25 reviews available - skipped\n"
     ]
    },
    {
     "name": "stderr",
     "output_type": "stream",
     "text": [
      "looking for review ids:  26%|██▌       | 520/2020 [2:22:42<6:36:43, 15.87s/movie]"
     ]
    },
    {
     "name": "stdout",
     "output_type": "stream",
     "text": [
      "Less than 25 reviews available - skipped\n"
     ]
    },
    {
     "name": "stderr",
     "output_type": "stream",
     "text": [
      "looking for review ids:  26%|██▌       | 521/2020 [2:22:58<6:35:24, 15.83s/movie]"
     ]
    },
    {
     "name": "stdout",
     "output_type": "stream",
     "text": [
      "Less than 25 reviews available - skipped\n"
     ]
    },
    {
     "name": "stderr",
     "output_type": "stream",
     "text": [
      "looking for review ids:  26%|██▌       | 522/2020 [2:23:14<6:35:33, 15.84s/movie]"
     ]
    },
    {
     "name": "stdout",
     "output_type": "stream",
     "text": [
      "Less than 25 reviews available - skipped\n"
     ]
    },
    {
     "name": "stderr",
     "output_type": "stream",
     "text": [
      "looking for review ids:  26%|██▌       | 523/2020 [2:23:29<6:33:19, 15.76s/movie]"
     ]
    },
    {
     "name": "stdout",
     "output_type": "stream",
     "text": [
      "Less than 25 reviews available - skipped\n"
     ]
    },
    {
     "name": "stderr",
     "output_type": "stream",
     "text": [
      "looking for review ids:  26%|██▌       | 524/2020 [2:23:45<6:31:34, 15.71s/movie]"
     ]
    },
    {
     "name": "stdout",
     "output_type": "stream",
     "text": [
      "Less than 25 reviews available - skipped\n"
     ]
    },
    {
     "name": "stderr",
     "output_type": "stream",
     "text": [
      "looking for review ids:  26%|██▌       | 525/2020 [2:24:03<6:44:20, 16.23s/movie]"
     ]
    },
    {
     "name": "stdout",
     "output_type": "stream",
     "text": [
      "Less than 25 reviews available - skipped\n"
     ]
    },
    {
     "name": "stderr",
     "output_type": "stream",
     "text": [
      "looking for review ids:  26%|██▌       | 526/2020 [2:24:18<6:40:37, 16.09s/movie]"
     ]
    },
    {
     "name": "stdout",
     "output_type": "stream",
     "text": [
      "Less than 25 reviews available - skipped\n"
     ]
    },
    {
     "name": "stderr",
     "output_type": "stream",
     "text": [
      "looking for review ids:  26%|██▌       | 527/2020 [2:24:34<6:37:25, 15.97s/movie]"
     ]
    },
    {
     "name": "stdout",
     "output_type": "stream",
     "text": [
      "Less than 25 reviews available - skipped\n"
     ]
    },
    {
     "name": "stderr",
     "output_type": "stream",
     "text": [
      "looking for review ids:  26%|██▌       | 528/2020 [2:24:50<6:34:25, 15.86s/movie]"
     ]
    },
    {
     "name": "stdout",
     "output_type": "stream",
     "text": [
      "Less than 25 reviews available - skipped\n"
     ]
    },
    {
     "name": "stderr",
     "output_type": "stream",
     "text": [
      "looking for review ids:  26%|██▌       | 529/2020 [2:25:05<6:32:52, 15.81s/movie]"
     ]
    },
    {
     "name": "stdout",
     "output_type": "stream",
     "text": [
      "Less than 25 reviews available - skipped\n"
     ]
    },
    {
     "name": "stderr",
     "output_type": "stream",
     "text": [
      "looking for review ids:  26%|██▌       | 530/2020 [2:25:21<6:32:55, 15.82s/movie]"
     ]
    },
    {
     "name": "stdout",
     "output_type": "stream",
     "text": [
      "Less than 25 reviews available - skipped\n"
     ]
    },
    {
     "name": "stderr",
     "output_type": "stream",
     "text": [
      "looking for review ids:  26%|██▋       | 531/2020 [2:25:37<6:32:28, 15.81s/movie]"
     ]
    },
    {
     "name": "stdout",
     "output_type": "stream",
     "text": [
      "Less than 25 reviews available - skipped\n"
     ]
    },
    {
     "name": "stderr",
     "output_type": "stream",
     "text": [
      "looking for review ids:  26%|██▋       | 532/2020 [2:25:53<6:33:47, 15.88s/movie]"
     ]
    },
    {
     "name": "stdout",
     "output_type": "stream",
     "text": [
      "Less than 25 reviews available - skipped\n"
     ]
    },
    {
     "name": "stderr",
     "output_type": "stream",
     "text": [
      "looking for review ids:  26%|██▋       | 533/2020 [2:26:09<6:32:05, 15.82s/movie]"
     ]
    },
    {
     "name": "stdout",
     "output_type": "stream",
     "text": [
      "Less than 25 reviews available - skipped\n"
     ]
    },
    {
     "name": "stderr",
     "output_type": "stream",
     "text": [
      "looking for review ids:  26%|██▋       | 534/2020 [2:26:24<6:30:23, 15.76s/movie]"
     ]
    },
    {
     "name": "stdout",
     "output_type": "stream",
     "text": [
      "Less than 25 reviews available - skipped\n"
     ]
    },
    {
     "name": "stderr",
     "output_type": "stream",
     "text": [
      "looking for review ids:  26%|██▋       | 535/2020 [2:26:40<6:29:10, 15.72s/movie]"
     ]
    },
    {
     "name": "stdout",
     "output_type": "stream",
     "text": [
      "Less than 25 reviews available - skipped\n"
     ]
    },
    {
     "name": "stderr",
     "output_type": "stream",
     "text": [
      "looking for review ids:  27%|██▋       | 536/2020 [2:26:56<6:28:09, 15.69s/movie]"
     ]
    },
    {
     "name": "stdout",
     "output_type": "stream",
     "text": [
      "Less than 25 reviews available - skipped\n"
     ]
    },
    {
     "name": "stderr",
     "output_type": "stream",
     "text": [
      "looking for review ids:  27%|██▋       | 537/2020 [2:27:11<6:27:17, 15.67s/movie]"
     ]
    },
    {
     "name": "stdout",
     "output_type": "stream",
     "text": [
      "Less than 25 reviews available - skipped\n"
     ]
    },
    {
     "name": "stderr",
     "output_type": "stream",
     "text": [
      "looking for review ids:  27%|██▋       | 538/2020 [2:27:27<6:29:23, 15.76s/movie]"
     ]
    },
    {
     "name": "stdout",
     "output_type": "stream",
     "text": [
      "Less than 25 reviews available - skipped\n"
     ]
    },
    {
     "name": "stderr",
     "output_type": "stream",
     "text": [
      "looking for review ids:  27%|██▋       | 539/2020 [2:27:42<6:26:03, 15.64s/movie]"
     ]
    },
    {
     "name": "stdout",
     "output_type": "stream",
     "text": [
      "Less than 25 reviews available - skipped\n"
     ]
    },
    {
     "name": "stderr",
     "output_type": "stream",
     "text": [
      "looking for review ids:  27%|██▋       | 540/2020 [2:27:58<6:24:29, 15.59s/movie]"
     ]
    },
    {
     "name": "stdout",
     "output_type": "stream",
     "text": [
      "Less than 25 reviews available - skipped\n"
     ]
    },
    {
     "name": "stderr",
     "output_type": "stream",
     "text": [
      "looking for review ids:  27%|██▋       | 542/2020 [2:28:27<6:05:28, 14.84s/movie]"
     ]
    },
    {
     "name": "stdout",
     "output_type": "stream",
     "text": [
      "Less than 25 reviews available - skipped\n"
     ]
    },
    {
     "name": "stderr",
     "output_type": "stream",
     "text": [
      "looking for review ids:  27%|██▋       | 543/2020 [2:28:42<6:09:59, 15.03s/movie]"
     ]
    },
    {
     "name": "stdout",
     "output_type": "stream",
     "text": [
      "Less than 25 reviews available - skipped\n"
     ]
    },
    {
     "name": "stderr",
     "output_type": "stream",
     "text": [
      "looking for review ids:  27%|██▋       | 544/2020 [2:28:58<6:17:00, 15.33s/movie]"
     ]
    },
    {
     "name": "stdout",
     "output_type": "stream",
     "text": [
      "Less than 25 reviews available - skipped\n"
     ]
    },
    {
     "name": "stderr",
     "output_type": "stream",
     "text": [
      "looking for review ids:  27%|██▋       | 546/2020 [2:29:28<6:08:32, 15.00s/movie]"
     ]
    },
    {
     "name": "stdout",
     "output_type": "stream",
     "text": [
      "Less than 25 reviews available - skipped\n"
     ]
    },
    {
     "name": "stderr",
     "output_type": "stream",
     "text": [
      "looking for review ids:  27%|██▋       | 547/2020 [2:29:44<6:13:39, 15.22s/movie]"
     ]
    },
    {
     "name": "stdout",
     "output_type": "stream",
     "text": [
      "Less than 25 reviews available - skipped\n"
     ]
    },
    {
     "name": "stderr",
     "output_type": "stream",
     "text": [
      "looking for review ids:  27%|██▋       | 548/2020 [2:30:00<6:18:37, 15.43s/movie]"
     ]
    },
    {
     "name": "stdout",
     "output_type": "stream",
     "text": [
      "Less than 25 reviews available - skipped\n"
     ]
    },
    {
     "name": "stderr",
     "output_type": "stream",
     "text": [
      "looking for review ids:  27%|██▋       | 549/2020 [2:30:15<6:20:51, 15.53s/movie]"
     ]
    },
    {
     "name": "stdout",
     "output_type": "stream",
     "text": [
      "Less than 25 reviews available - skipped\n"
     ]
    },
    {
     "name": "stderr",
     "output_type": "stream",
     "text": [
      "looking for review ids:  27%|██▋       | 550/2020 [2:30:31<6:21:08, 15.56s/movie]"
     ]
    },
    {
     "name": "stdout",
     "output_type": "stream",
     "text": [
      "Less than 25 reviews available - skipped\n"
     ]
    },
    {
     "name": "stderr",
     "output_type": "stream",
     "text": [
      "looking for review ids:  27%|██▋       | 551/2020 [2:30:47<6:21:40, 15.59s/movie]"
     ]
    },
    {
     "name": "stdout",
     "output_type": "stream",
     "text": [
      "Less than 25 reviews available - skipped\n"
     ]
    },
    {
     "name": "stderr",
     "output_type": "stream",
     "text": [
      "looking for review ids:  27%|██▋       | 552/2020 [2:31:02<6:20:44, 15.56s/movie]"
     ]
    },
    {
     "name": "stdout",
     "output_type": "stream",
     "text": [
      "Less than 25 reviews available - skipped\n"
     ]
    },
    {
     "name": "stderr",
     "output_type": "stream",
     "text": [
      "looking for review ids:  27%|██▋       | 553/2020 [2:31:18<6:22:50, 15.66s/movie]"
     ]
    },
    {
     "name": "stdout",
     "output_type": "stream",
     "text": [
      "Less than 25 reviews available - skipped\n"
     ]
    },
    {
     "name": "stderr",
     "output_type": "stream",
     "text": [
      "looking for review ids:  27%|██▋       | 554/2020 [2:31:34<6:22:52, 15.67s/movie]"
     ]
    },
    {
     "name": "stdout",
     "output_type": "stream",
     "text": [
      "Less than 25 reviews available - skipped\n"
     ]
    },
    {
     "name": "stderr",
     "output_type": "stream",
     "text": [
      "looking for review ids:  27%|██▋       | 555/2020 [2:31:50<6:24:30, 15.75s/movie]"
     ]
    },
    {
     "name": "stdout",
     "output_type": "stream",
     "text": [
      "Less than 25 reviews available - skipped\n"
     ]
    },
    {
     "name": "stderr",
     "output_type": "stream",
     "text": [
      "looking for review ids:  28%|██▊       | 556/2020 [2:32:05<6:23:53, 15.73s/movie]"
     ]
    },
    {
     "name": "stdout",
     "output_type": "stream",
     "text": [
      "Less than 25 reviews available - skipped\n"
     ]
    },
    {
     "name": "stderr",
     "output_type": "stream",
     "text": [
      "looking for review ids:  28%|██▊       | 558/2020 [2:32:35<6:07:24, 15.08s/movie]"
     ]
    },
    {
     "name": "stdout",
     "output_type": "stream",
     "text": [
      "Less than 25 reviews available - skipped\n"
     ]
    },
    {
     "name": "stderr",
     "output_type": "stream",
     "text": [
      "looking for review ids:  28%|██▊       | 559/2020 [2:32:50<6:10:49, 15.23s/movie]"
     ]
    },
    {
     "name": "stdout",
     "output_type": "stream",
     "text": [
      "Less than 25 reviews available - skipped\n"
     ]
    },
    {
     "name": "stderr",
     "output_type": "stream",
     "text": [
      "looking for review ids:  28%|██▊       | 560/2020 [2:33:06<6:13:23, 15.34s/movie]"
     ]
    },
    {
     "name": "stdout",
     "output_type": "stream",
     "text": [
      "Less than 25 reviews available - skipped\n"
     ]
    },
    {
     "name": "stderr",
     "output_type": "stream",
     "text": [
      "looking for review ids:  28%|██▊       | 561/2020 [2:33:21<6:14:34, 15.40s/movie]"
     ]
    },
    {
     "name": "stdout",
     "output_type": "stream",
     "text": [
      "Less than 25 reviews available - skipped\n"
     ]
    },
    {
     "name": "stderr",
     "output_type": "stream",
     "text": [
      "looking for review ids:  28%|██▊       | 562/2020 [2:33:37<6:17:06, 15.52s/movie]"
     ]
    },
    {
     "name": "stdout",
     "output_type": "stream",
     "text": [
      "Less than 25 reviews available - skipped\n"
     ]
    },
    {
     "name": "stderr",
     "output_type": "stream",
     "text": [
      "looking for review ids:  28%|██▊       | 563/2020 [2:33:53<6:19:14, 15.62s/movie]"
     ]
    },
    {
     "name": "stdout",
     "output_type": "stream",
     "text": [
      "Less than 25 reviews available - skipped\n"
     ]
    },
    {
     "name": "stderr",
     "output_type": "stream",
     "text": [
      "looking for review ids:  28%|██▊       | 564/2020 [2:34:09<6:19:40, 15.65s/movie]"
     ]
    },
    {
     "name": "stdout",
     "output_type": "stream",
     "text": [
      "Less than 25 reviews available - skipped\n"
     ]
    },
    {
     "name": "stderr",
     "output_type": "stream",
     "text": [
      "looking for review ids:  28%|██▊       | 565/2020 [2:34:24<6:20:24, 15.69s/movie]"
     ]
    },
    {
     "name": "stdout",
     "output_type": "stream",
     "text": [
      "Less than 25 reviews available - skipped\n"
     ]
    },
    {
     "name": "stderr",
     "output_type": "stream",
     "text": [
      "looking for review ids:  28%|██▊       | 566/2020 [2:34:40<6:20:58, 15.72s/movie]"
     ]
    },
    {
     "name": "stdout",
     "output_type": "stream",
     "text": [
      "Less than 25 reviews available - skipped\n"
     ]
    },
    {
     "name": "stderr",
     "output_type": "stream",
     "text": [
      "looking for review ids:  28%|██▊       | 567/2020 [2:34:56<6:21:44, 15.76s/movie]"
     ]
    },
    {
     "name": "stdout",
     "output_type": "stream",
     "text": [
      "Less than 25 reviews available - skipped\n"
     ]
    },
    {
     "name": "stderr",
     "output_type": "stream",
     "text": [
      "looking for review ids:  28%|██▊       | 568/2020 [2:35:12<6:21:36, 15.77s/movie]"
     ]
    },
    {
     "name": "stdout",
     "output_type": "stream",
     "text": [
      "Less than 25 reviews available - skipped\n"
     ]
    },
    {
     "name": "stderr",
     "output_type": "stream",
     "text": [
      "looking for review ids:  28%|██▊       | 569/2020 [2:35:28<6:21:12, 15.76s/movie]"
     ]
    },
    {
     "name": "stdout",
     "output_type": "stream",
     "text": [
      "Less than 25 reviews available - skipped\n"
     ]
    },
    {
     "name": "stderr",
     "output_type": "stream",
     "text": [
      "looking for review ids:  28%|██▊       | 570/2020 [2:35:43<6:20:41, 15.75s/movie]"
     ]
    },
    {
     "name": "stdout",
     "output_type": "stream",
     "text": [
      "Less than 25 reviews available - skipped\n"
     ]
    },
    {
     "name": "stderr",
     "output_type": "stream",
     "text": [
      "looking for review ids:  28%|██▊       | 571/2020 [2:35:59<6:20:45, 15.77s/movie]"
     ]
    },
    {
     "name": "stdout",
     "output_type": "stream",
     "text": [
      "Less than 25 reviews available - skipped\n"
     ]
    },
    {
     "name": "stderr",
     "output_type": "stream",
     "text": [
      "looking for review ids:  28%|██▊       | 572/2020 [2:36:15<6:22:32, 15.85s/movie]"
     ]
    },
    {
     "name": "stdout",
     "output_type": "stream",
     "text": [
      "Less than 25 reviews available - skipped\n"
     ]
    },
    {
     "name": "stderr",
     "output_type": "stream",
     "text": [
      "looking for review ids:  28%|██▊       | 573/2020 [2:36:31<6:23:12, 15.89s/movie]"
     ]
    },
    {
     "name": "stdout",
     "output_type": "stream",
     "text": [
      "Less than 25 reviews available - skipped\n"
     ]
    },
    {
     "name": "stderr",
     "output_type": "stream",
     "text": [
      "looking for review ids:  28%|██▊       | 574/2020 [2:36:47<6:23:30, 15.91s/movie]"
     ]
    },
    {
     "name": "stdout",
     "output_type": "stream",
     "text": [
      "Less than 25 reviews available - skipped\n"
     ]
    },
    {
     "name": "stderr",
     "output_type": "stream",
     "text": [
      "looking for review ids:  28%|██▊       | 575/2020 [2:37:03<6:22:38, 15.89s/movie]"
     ]
    },
    {
     "name": "stdout",
     "output_type": "stream",
     "text": [
      "Less than 25 reviews available - skipped\n"
     ]
    },
    {
     "name": "stderr",
     "output_type": "stream",
     "text": [
      "looking for review ids:  29%|██▊       | 576/2020 [2:37:19<6:22:33, 15.90s/movie]"
     ]
    },
    {
     "name": "stdout",
     "output_type": "stream",
     "text": [
      "Less than 25 reviews available - skipped\n"
     ]
    },
    {
     "name": "stderr",
     "output_type": "stream",
     "text": [
      "looking for review ids:  29%|██▊       | 577/2020 [2:37:34<6:18:42, 15.75s/movie]"
     ]
    },
    {
     "name": "stdout",
     "output_type": "stream",
     "text": [
      "Less than 25 reviews available - skipped\n"
     ]
    },
    {
     "name": "stderr",
     "output_type": "stream",
     "text": [
      "looking for review ids:  29%|██▊       | 578/2020 [2:37:50<6:18:41, 15.76s/movie]"
     ]
    },
    {
     "name": "stdout",
     "output_type": "stream",
     "text": [
      "Less than 25 reviews available - skipped\n"
     ]
    },
    {
     "name": "stderr",
     "output_type": "stream",
     "text": [
      "looking for review ids:  29%|██▊       | 579/2020 [2:38:06<6:19:47, 15.81s/movie]"
     ]
    },
    {
     "name": "stdout",
     "output_type": "stream",
     "text": [
      "Less than 25 reviews available - skipped\n"
     ]
    },
    {
     "name": "stderr",
     "output_type": "stream",
     "text": [
      "looking for review ids:  29%|██▊       | 580/2020 [2:38:22<6:21:42, 15.90s/movie]"
     ]
    },
    {
     "name": "stdout",
     "output_type": "stream",
     "text": [
      "Less than 25 reviews available - skipped\n"
     ]
    },
    {
     "name": "stderr",
     "output_type": "stream",
     "text": [
      "looking for review ids:  29%|██▉       | 581/2020 [2:38:38<6:21:30, 15.91s/movie]"
     ]
    },
    {
     "name": "stdout",
     "output_type": "stream",
     "text": [
      "Less than 25 reviews available - skipped\n"
     ]
    },
    {
     "name": "stderr",
     "output_type": "stream",
     "text": [
      "looking for review ids:  29%|██▉       | 582/2020 [2:38:54<6:22:44, 15.97s/movie]"
     ]
    },
    {
     "name": "stdout",
     "output_type": "stream",
     "text": [
      "Less than 25 reviews available - skipped\n"
     ]
    },
    {
     "name": "stderr",
     "output_type": "stream",
     "text": [
      "looking for review ids:  29%|██▉       | 583/2020 [2:39:10<6:22:04, 15.95s/movie]"
     ]
    },
    {
     "name": "stdout",
     "output_type": "stream",
     "text": [
      "Less than 25 reviews available - skipped\n"
     ]
    },
    {
     "name": "stderr",
     "output_type": "stream",
     "text": [
      "looking for review ids:  29%|██▉       | 584/2020 [2:39:26<6:18:46, 15.83s/movie]"
     ]
    },
    {
     "name": "stdout",
     "output_type": "stream",
     "text": [
      "Less than 25 reviews available - skipped\n"
     ]
    },
    {
     "name": "stderr",
     "output_type": "stream",
     "text": [
      "looking for review ids:  29%|██▉       | 585/2020 [2:39:41<6:16:53, 15.76s/movie]"
     ]
    },
    {
     "name": "stdout",
     "output_type": "stream",
     "text": [
      "Less than 25 reviews available - skipped\n"
     ]
    },
    {
     "name": "stderr",
     "output_type": "stream",
     "text": [
      "looking for review ids:  29%|██▉       | 586/2020 [2:39:57<6:18:12, 15.82s/movie]"
     ]
    },
    {
     "name": "stdout",
     "output_type": "stream",
     "text": [
      "Less than 25 reviews available - skipped\n"
     ]
    },
    {
     "name": "stderr",
     "output_type": "stream",
     "text": [
      "looking for review ids:  29%|██▉       | 587/2020 [2:40:13<6:16:47, 15.78s/movie]"
     ]
    },
    {
     "name": "stdout",
     "output_type": "stream",
     "text": [
      "Less than 25 reviews available - skipped\n"
     ]
    },
    {
     "name": "stderr",
     "output_type": "stream",
     "text": [
      "looking for review ids:  29%|██▉       | 588/2020 [2:40:29<6:16:26, 15.77s/movie]"
     ]
    },
    {
     "name": "stdout",
     "output_type": "stream",
     "text": [
      "Less than 25 reviews available - skipped\n"
     ]
    },
    {
     "name": "stderr",
     "output_type": "stream",
     "text": [
      "looking for review ids:  29%|██▉       | 589/2020 [2:40:45<6:17:40, 15.84s/movie]"
     ]
    },
    {
     "name": "stdout",
     "output_type": "stream",
     "text": [
      "Less than 25 reviews available - skipped\n"
     ]
    },
    {
     "name": "stderr",
     "output_type": "stream",
     "text": [
      "looking for review ids:  29%|██▉       | 590/2020 [2:41:00<6:14:53, 15.73s/movie]"
     ]
    },
    {
     "name": "stdout",
     "output_type": "stream",
     "text": [
      "Less than 25 reviews available - skipped\n"
     ]
    },
    {
     "name": "stderr",
     "output_type": "stream",
     "text": [
      "looking for review ids:  29%|██▉       | 591/2020 [2:41:16<6:16:32, 15.81s/movie]"
     ]
    },
    {
     "name": "stdout",
     "output_type": "stream",
     "text": [
      "Less than 25 reviews available - skipped\n"
     ]
    },
    {
     "name": "stderr",
     "output_type": "stream",
     "text": [
      "looking for review ids:  29%|██▉       | 592/2020 [2:41:32<6:17:08, 15.85s/movie]"
     ]
    },
    {
     "name": "stdout",
     "output_type": "stream",
     "text": [
      "Less than 25 reviews available - skipped\n"
     ]
    },
    {
     "name": "stderr",
     "output_type": "stream",
     "text": [
      "looking for review ids:  29%|██▉       | 593/2020 [2:41:48<6:15:50, 15.80s/movie]"
     ]
    },
    {
     "name": "stdout",
     "output_type": "stream",
     "text": [
      "Less than 25 reviews available - skipped\n"
     ]
    },
    {
     "name": "stderr",
     "output_type": "stream",
     "text": [
      "looking for review ids:  29%|██▉       | 594/2020 [2:42:04<6:17:03, 15.86s/movie]"
     ]
    },
    {
     "name": "stdout",
     "output_type": "stream",
     "text": [
      "Less than 25 reviews available - skipped\n"
     ]
    },
    {
     "name": "stderr",
     "output_type": "stream",
     "text": [
      "looking for review ids:  29%|██▉       | 595/2020 [2:42:19<6:14:11, 15.76s/movie]"
     ]
    },
    {
     "name": "stdout",
     "output_type": "stream",
     "text": [
      "Less than 25 reviews available - skipped\n"
     ]
    },
    {
     "name": "stderr",
     "output_type": "stream",
     "text": [
      "looking for review ids:  30%|██▉       | 596/2020 [2:42:35<6:14:21, 15.77s/movie]"
     ]
    },
    {
     "name": "stdout",
     "output_type": "stream",
     "text": [
      "Less than 25 reviews available - skipped\n"
     ]
    },
    {
     "name": "stderr",
     "output_type": "stream",
     "text": [
      "looking for review ids:  30%|██▉       | 597/2020 [2:42:51<6:13:33, 15.75s/movie]"
     ]
    },
    {
     "name": "stdout",
     "output_type": "stream",
     "text": [
      "Less than 25 reviews available - skipped\n"
     ]
    },
    {
     "name": "stderr",
     "output_type": "stream",
     "text": [
      "looking for review ids:  30%|██▉       | 598/2020 [2:43:06<6:12:39, 15.72s/movie]"
     ]
    },
    {
     "name": "stdout",
     "output_type": "stream",
     "text": [
      "Less than 25 reviews available - skipped\n"
     ]
    },
    {
     "name": "stderr",
     "output_type": "stream",
     "text": [
      "looking for review ids:  30%|██▉       | 599/2020 [2:43:22<6:10:34, 15.65s/movie]"
     ]
    },
    {
     "name": "stdout",
     "output_type": "stream",
     "text": [
      "Less than 25 reviews available - skipped\n"
     ]
    },
    {
     "name": "stderr",
     "output_type": "stream",
     "text": [
      "looking for review ids:  30%|██▉       | 600/2020 [2:43:37<6:10:39, 15.66s/movie]"
     ]
    },
    {
     "name": "stdout",
     "output_type": "stream",
     "text": [
      "Less than 25 reviews available - skipped\n"
     ]
    },
    {
     "name": "stderr",
     "output_type": "stream",
     "text": [
      "looking for review ids:  30%|██▉       | 601/2020 [2:43:53<6:09:17, 15.61s/movie]"
     ]
    },
    {
     "name": "stdout",
     "output_type": "stream",
     "text": [
      "Less than 25 reviews available - skipped\n"
     ]
    },
    {
     "name": "stderr",
     "output_type": "stream",
     "text": [
      "looking for review ids:  30%|██▉       | 602/2020 [2:44:09<6:09:35, 15.64s/movie]"
     ]
    },
    {
     "name": "stdout",
     "output_type": "stream",
     "text": [
      "Less than 25 reviews available - skipped\n"
     ]
    },
    {
     "name": "stderr",
     "output_type": "stream",
     "text": [
      "looking for review ids:  30%|██▉       | 603/2020 [2:44:24<6:09:08, 15.63s/movie]"
     ]
    },
    {
     "name": "stdout",
     "output_type": "stream",
     "text": [
      "Less than 25 reviews available - skipped\n"
     ]
    },
    {
     "name": "stderr",
     "output_type": "stream",
     "text": [
      "looking for review ids:  30%|██▉       | 604/2020 [2:44:40<6:10:18, 15.69s/movie]"
     ]
    },
    {
     "name": "stdout",
     "output_type": "stream",
     "text": [
      "Less than 25 reviews available - skipped\n"
     ]
    },
    {
     "name": "stderr",
     "output_type": "stream",
     "text": [
      "looking for review ids:  30%|██▉       | 605/2020 [2:44:56<6:10:12, 15.70s/movie]"
     ]
    },
    {
     "name": "stdout",
     "output_type": "stream",
     "text": [
      "Less than 25 reviews available - skipped\n"
     ]
    },
    {
     "name": "stderr",
     "output_type": "stream",
     "text": [
      "looking for review ids:  30%|███       | 606/2020 [2:45:11<6:09:07, 15.66s/movie]"
     ]
    },
    {
     "name": "stdout",
     "output_type": "stream",
     "text": [
      "Less than 25 reviews available - skipped\n"
     ]
    },
    {
     "name": "stderr",
     "output_type": "stream",
     "text": [
      "looking for review ids:  30%|███       | 607/2020 [2:45:27<6:08:45, 15.66s/movie]"
     ]
    },
    {
     "name": "stdout",
     "output_type": "stream",
     "text": [
      "Less than 25 reviews available - skipped\n"
     ]
    },
    {
     "name": "stderr",
     "output_type": "stream",
     "text": [
      "looking for review ids:  30%|███       | 608/2020 [2:45:43<6:10:46, 15.76s/movie]"
     ]
    },
    {
     "name": "stdout",
     "output_type": "stream",
     "text": [
      "Less than 25 reviews available - skipped\n"
     ]
    },
    {
     "name": "stderr",
     "output_type": "stream",
     "text": [
      "looking for review ids:  30%|███       | 609/2020 [2:45:59<6:10:29, 15.75s/movie]"
     ]
    },
    {
     "name": "stdout",
     "output_type": "stream",
     "text": [
      "Less than 25 reviews available - skipped\n"
     ]
    },
    {
     "name": "stderr",
     "output_type": "stream",
     "text": [
      "looking for review ids:  30%|███       | 610/2020 [2:46:14<6:08:23, 15.68s/movie]"
     ]
    },
    {
     "name": "stdout",
     "output_type": "stream",
     "text": [
      "Less than 25 reviews available - skipped\n"
     ]
    },
    {
     "name": "stderr",
     "output_type": "stream",
     "text": [
      "looking for review ids:  30%|███       | 611/2020 [2:46:30<6:07:35, 15.65s/movie]"
     ]
    },
    {
     "name": "stdout",
     "output_type": "stream",
     "text": [
      "Less than 25 reviews available - skipped\n"
     ]
    },
    {
     "name": "stderr",
     "output_type": "stream",
     "text": [
      "looking for review ids:  30%|███       | 612/2020 [2:46:46<6:09:09, 15.73s/movie]"
     ]
    },
    {
     "name": "stdout",
     "output_type": "stream",
     "text": [
      "Less than 25 reviews available - skipped\n"
     ]
    },
    {
     "name": "stderr",
     "output_type": "stream",
     "text": [
      "looking for review ids:  30%|███       | 613/2020 [2:47:02<6:09:08, 15.74s/movie]"
     ]
    },
    {
     "name": "stdout",
     "output_type": "stream",
     "text": [
      "Less than 25 reviews available - skipped\n"
     ]
    },
    {
     "name": "stderr",
     "output_type": "stream",
     "text": [
      "looking for review ids:  30%|███       | 614/2020 [2:47:17<6:08:49, 15.74s/movie]"
     ]
    },
    {
     "name": "stdout",
     "output_type": "stream",
     "text": [
      "Less than 25 reviews available - skipped\n"
     ]
    },
    {
     "name": "stderr",
     "output_type": "stream",
     "text": [
      "looking for review ids:  30%|███       | 615/2020 [2:47:33<6:07:04, 15.68s/movie]"
     ]
    },
    {
     "name": "stdout",
     "output_type": "stream",
     "text": [
      "Less than 25 reviews available - skipped\n"
     ]
    },
    {
     "name": "stderr",
     "output_type": "stream",
     "text": [
      "looking for review ids:  30%|███       | 616/2020 [2:47:49<6:08:07, 15.73s/movie]"
     ]
    },
    {
     "name": "stdout",
     "output_type": "stream",
     "text": [
      "Less than 25 reviews available - skipped\n"
     ]
    },
    {
     "name": "stderr",
     "output_type": "stream",
     "text": [
      "looking for review ids:  31%|███       | 617/2020 [2:48:05<6:08:32, 15.76s/movie]"
     ]
    },
    {
     "name": "stdout",
     "output_type": "stream",
     "text": [
      "Less than 25 reviews available - skipped\n"
     ]
    },
    {
     "name": "stderr",
     "output_type": "stream",
     "text": [
      "looking for review ids:  31%|███       | 618/2020 [2:48:20<6:09:24, 15.81s/movie]"
     ]
    },
    {
     "name": "stdout",
     "output_type": "stream",
     "text": [
      "Less than 25 reviews available - skipped\n"
     ]
    },
    {
     "name": "stderr",
     "output_type": "stream",
     "text": [
      "looking for review ids:  31%|███       | 619/2020 [2:48:36<6:10:05, 15.85s/movie]"
     ]
    },
    {
     "name": "stdout",
     "output_type": "stream",
     "text": [
      "Less than 25 reviews available - skipped\n"
     ]
    },
    {
     "name": "stderr",
     "output_type": "stream",
     "text": [
      "looking for review ids:  31%|███       | 620/2020 [2:48:52<6:09:49, 15.85s/movie]"
     ]
    },
    {
     "name": "stdout",
     "output_type": "stream",
     "text": [
      "Less than 25 reviews available - skipped\n"
     ]
    },
    {
     "name": "stderr",
     "output_type": "stream",
     "text": [
      "looking for review ids:  31%|███       | 621/2020 [2:49:08<6:09:53, 15.86s/movie]"
     ]
    },
    {
     "name": "stdout",
     "output_type": "stream",
     "text": [
      "Less than 25 reviews available - skipped\n"
     ]
    },
    {
     "name": "stderr",
     "output_type": "stream",
     "text": [
      "looking for review ids:  31%|███       | 622/2020 [2:49:24<6:10:05, 15.88s/movie]"
     ]
    },
    {
     "name": "stdout",
     "output_type": "stream",
     "text": [
      "Less than 25 reviews available - skipped\n"
     ]
    },
    {
     "name": "stderr",
     "output_type": "stream",
     "text": [
      "looking for review ids:  31%|███       | 623/2020 [2:49:40<6:09:20, 15.86s/movie]"
     ]
    },
    {
     "name": "stdout",
     "output_type": "stream",
     "text": [
      "Less than 25 reviews available - skipped\n"
     ]
    },
    {
     "name": "stderr",
     "output_type": "stream",
     "text": [
      "looking for review ids:  31%|███       | 624/2020 [2:49:56<6:07:48, 15.81s/movie]"
     ]
    },
    {
     "name": "stdout",
     "output_type": "stream",
     "text": [
      "Less than 25 reviews available - skipped\n"
     ]
    },
    {
     "name": "stderr",
     "output_type": "stream",
     "text": [
      "looking for review ids:  31%|███       | 625/2020 [2:50:11<6:07:53, 15.82s/movie]"
     ]
    },
    {
     "name": "stdout",
     "output_type": "stream",
     "text": [
      "Less than 25 reviews available - skipped\n"
     ]
    },
    {
     "name": "stderr",
     "output_type": "stream",
     "text": [
      "looking for review ids:  31%|███       | 626/2020 [2:50:28<6:09:27, 15.90s/movie]"
     ]
    },
    {
     "name": "stdout",
     "output_type": "stream",
     "text": [
      "Less than 25 reviews available - skipped\n"
     ]
    },
    {
     "name": "stderr",
     "output_type": "stream",
     "text": [
      "looking for review ids:  31%|███       | 627/2020 [2:50:43<6:08:50, 15.89s/movie]"
     ]
    },
    {
     "name": "stdout",
     "output_type": "stream",
     "text": [
      "Less than 25 reviews available - skipped\n"
     ]
    },
    {
     "name": "stderr",
     "output_type": "stream",
     "text": [
      "looking for review ids:  31%|███       | 628/2020 [2:50:59<6:08:58, 15.90s/movie]"
     ]
    },
    {
     "name": "stdout",
     "output_type": "stream",
     "text": [
      "Less than 25 reviews available - skipped\n"
     ]
    },
    {
     "name": "stderr",
     "output_type": "stream",
     "text": [
      "looking for review ids:  31%|███       | 629/2020 [2:51:15<6:07:38, 15.86s/movie]"
     ]
    },
    {
     "name": "stdout",
     "output_type": "stream",
     "text": [
      "Less than 25 reviews available - skipped\n"
     ]
    },
    {
     "name": "stderr",
     "output_type": "stream",
     "text": [
      "looking for review ids:  31%|███       | 630/2020 [2:51:31<6:06:41, 15.83s/movie]"
     ]
    },
    {
     "name": "stdout",
     "output_type": "stream",
     "text": [
      "Less than 25 reviews available - skipped\n"
     ]
    },
    {
     "name": "stderr",
     "output_type": "stream",
     "text": [
      "looking for review ids:  31%|███       | 631/2020 [2:51:47<6:05:32, 15.79s/movie]"
     ]
    },
    {
     "name": "stdout",
     "output_type": "stream",
     "text": [
      "Less than 25 reviews available - skipped\n"
     ]
    },
    {
     "name": "stderr",
     "output_type": "stream",
     "text": [
      "looking for review ids:  31%|███▏      | 632/2020 [2:52:02<6:05:49, 15.81s/movie]"
     ]
    },
    {
     "name": "stdout",
     "output_type": "stream",
     "text": [
      "Less than 25 reviews available - skipped\n"
     ]
    },
    {
     "name": "stderr",
     "output_type": "stream",
     "text": [
      "looking for review ids:  31%|███▏      | 634/2020 [2:52:32<5:50:12, 15.16s/movie]"
     ]
    },
    {
     "name": "stdout",
     "output_type": "stream",
     "text": [
      "Less than 25 reviews available - skipped\n"
     ]
    },
    {
     "name": "stderr",
     "output_type": "stream",
     "text": [
      "looking for review ids:  31%|███▏      | 635/2020 [2:52:48<5:54:08, 15.34s/movie]"
     ]
    },
    {
     "name": "stdout",
     "output_type": "stream",
     "text": [
      "Less than 25 reviews available - skipped\n"
     ]
    },
    {
     "name": "stderr",
     "output_type": "stream",
     "text": [
      "looking for review ids:  31%|███▏      | 636/2020 [2:53:03<5:55:17, 15.40s/movie]"
     ]
    },
    {
     "name": "stdout",
     "output_type": "stream",
     "text": [
      "Less than 25 reviews available - skipped\n"
     ]
    },
    {
     "name": "stderr",
     "output_type": "stream",
     "text": [
      "looking for review ids:  32%|███▏      | 637/2020 [2:53:19<5:56:30, 15.47s/movie]"
     ]
    },
    {
     "name": "stdout",
     "output_type": "stream",
     "text": [
      "Less than 25 reviews available - skipped\n"
     ]
    },
    {
     "name": "stderr",
     "output_type": "stream",
     "text": [
      "looking for review ids:  32%|███▏      | 638/2020 [2:53:34<5:57:21, 15.51s/movie]"
     ]
    },
    {
     "name": "stdout",
     "output_type": "stream",
     "text": [
      "Less than 25 reviews available - skipped\n"
     ]
    },
    {
     "name": "stderr",
     "output_type": "stream",
     "text": [
      "looking for review ids:  32%|███▏      | 639/2020 [2:53:50<5:59:53, 15.64s/movie]"
     ]
    },
    {
     "name": "stdout",
     "output_type": "stream",
     "text": [
      "Less than 25 reviews available - skipped\n"
     ]
    },
    {
     "name": "stderr",
     "output_type": "stream",
     "text": [
      "looking for review ids:  32%|███▏      | 640/2020 [2:54:06<5:59:14, 15.62s/movie]"
     ]
    },
    {
     "name": "stdout",
     "output_type": "stream",
     "text": [
      "Less than 25 reviews available - skipped\n"
     ]
    },
    {
     "name": "stderr",
     "output_type": "stream",
     "text": [
      "looking for review ids:  32%|███▏      | 641/2020 [2:54:22<6:00:12, 15.67s/movie]"
     ]
    },
    {
     "name": "stdout",
     "output_type": "stream",
     "text": [
      "Less than 25 reviews available - skipped\n"
     ]
    },
    {
     "name": "stderr",
     "output_type": "stream",
     "text": [
      "looking for review ids:  32%|███▏      | 642/2020 [2:54:37<5:59:40, 15.66s/movie]"
     ]
    },
    {
     "name": "stdout",
     "output_type": "stream",
     "text": [
      "Less than 25 reviews available - skipped\n"
     ]
    },
    {
     "name": "stderr",
     "output_type": "stream",
     "text": [
      "looking for review ids:  32%|███▏      | 643/2020 [2:54:53<6:01:09, 15.74s/movie]"
     ]
    },
    {
     "name": "stdout",
     "output_type": "stream",
     "text": [
      "Less than 25 reviews available - skipped\n"
     ]
    },
    {
     "name": "stderr",
     "output_type": "stream",
     "text": [
      "looking for review ids:  32%|███▏      | 644/2020 [2:55:09<6:01:04, 15.74s/movie]"
     ]
    },
    {
     "name": "stdout",
     "output_type": "stream",
     "text": [
      "Less than 25 reviews available - skipped\n"
     ]
    },
    {
     "name": "stderr",
     "output_type": "stream",
     "text": [
      "looking for review ids:  32%|███▏      | 646/2020 [2:55:38<5:41:17, 14.90s/movie]"
     ]
    },
    {
     "name": "stdout",
     "output_type": "stream",
     "text": [
      "Less than 25 reviews available - skipped\n"
     ]
    },
    {
     "name": "stderr",
     "output_type": "stream",
     "text": [
      "looking for review ids:  32%|███▏      | 647/2020 [2:55:53<5:47:24, 15.18s/movie]"
     ]
    },
    {
     "name": "stdout",
     "output_type": "stream",
     "text": [
      "esecuzione interrotta tempo finito\n"
     ]
    },
    {
     "name": "stderr",
     "output_type": "stream",
     "text": [
      "looking for review ids:  32%|███▏      | 648/2020 [2:56:36<8:55:34, 23.42s/movie]"
     ]
    },
    {
     "name": "stdout",
     "output_type": "stream",
     "text": [
      "Less than 25 reviews available - skipped\n"
     ]
    },
    {
     "name": "stderr",
     "output_type": "stream",
     "text": [
      "looking for review ids:  32%|███▏      | 649/2020 [2:56:52<8:03:34, 21.16s/movie]"
     ]
    },
    {
     "name": "stdout",
     "output_type": "stream",
     "text": [
      "Less than 25 reviews available - skipped\n"
     ]
    },
    {
     "name": "stderr",
     "output_type": "stream",
     "text": [
      "looking for review ids:  32%|███▏      | 650/2020 [2:57:08<7:26:21, 19.55s/movie]"
     ]
    },
    {
     "name": "stdout",
     "output_type": "stream",
     "text": [
      "Less than 25 reviews available - skipped\n"
     ]
    },
    {
     "name": "stderr",
     "output_type": "stream",
     "text": [
      "looking for review ids:  32%|███▏      | 651/2020 [2:57:24<7:01:37, 18.48s/movie]"
     ]
    },
    {
     "name": "stdout",
     "output_type": "stream",
     "text": [
      "Less than 25 reviews available - skipped\n"
     ]
    },
    {
     "name": "stderr",
     "output_type": "stream",
     "text": [
      "looking for review ids:  32%|███▏      | 652/2020 [2:57:40<6:43:18, 17.69s/movie]"
     ]
    },
    {
     "name": "stdout",
     "output_type": "stream",
     "text": [
      "Less than 25 reviews available - skipped\n"
     ]
    },
    {
     "name": "stderr",
     "output_type": "stream",
     "text": [
      "looking for review ids:  32%|███▏      | 653/2020 [2:57:55<6:30:26, 17.14s/movie]"
     ]
    },
    {
     "name": "stdout",
     "output_type": "stream",
     "text": [
      "Less than 25 reviews available - skipped\n"
     ]
    },
    {
     "name": "stderr",
     "output_type": "stream",
     "text": [
      "looking for review ids:  32%|███▏      | 654/2020 [2:58:11<6:20:59, 16.73s/movie]"
     ]
    },
    {
     "name": "stdout",
     "output_type": "stream",
     "text": [
      "Less than 25 reviews available - skipped\n"
     ]
    },
    {
     "name": "stderr",
     "output_type": "stream",
     "text": [
      "looking for review ids:  32%|███▏      | 655/2020 [2:58:27<6:15:55, 16.52s/movie]"
     ]
    },
    {
     "name": "stdout",
     "output_type": "stream",
     "text": [
      "Less than 25 reviews available - skipped\n"
     ]
    },
    {
     "name": "stderr",
     "output_type": "stream",
     "text": [
      "looking for review ids:  32%|███▏      | 656/2020 [2:58:43<6:09:33, 16.26s/movie]"
     ]
    },
    {
     "name": "stdout",
     "output_type": "stream",
     "text": [
      "Less than 25 reviews available - skipped\n"
     ]
    },
    {
     "name": "stderr",
     "output_type": "stream",
     "text": [
      "looking for review ids:  33%|███▎      | 657/2020 [2:58:59<6:05:53, 16.11s/movie]"
     ]
    },
    {
     "name": "stdout",
     "output_type": "stream",
     "text": [
      "Less than 25 reviews available - skipped\n"
     ]
    },
    {
     "name": "stderr",
     "output_type": "stream",
     "text": [
      "looking for review ids:  33%|███▎      | 658/2020 [2:59:15<6:04:15, 16.05s/movie]"
     ]
    },
    {
     "name": "stdout",
     "output_type": "stream",
     "text": [
      "Less than 25 reviews available - skipped\n"
     ]
    },
    {
     "name": "stderr",
     "output_type": "stream",
     "text": [
      "looking for review ids:  33%|███▎      | 659/2020 [2:59:31<6:04:13, 16.06s/movie]"
     ]
    },
    {
     "name": "stdout",
     "output_type": "stream",
     "text": [
      "Less than 25 reviews available - skipped\n"
     ]
    },
    {
     "name": "stderr",
     "output_type": "stream",
     "text": [
      "looking for review ids:  33%|███▎      | 660/2020 [2:59:47<6:03:26, 16.03s/movie]"
     ]
    },
    {
     "name": "stdout",
     "output_type": "stream",
     "text": [
      "Less than 25 reviews available - skipped\n"
     ]
    },
    {
     "name": "stderr",
     "output_type": "stream",
     "text": [
      "looking for review ids:  33%|███▎      | 661/2020 [3:00:03<6:02:34, 16.01s/movie]"
     ]
    },
    {
     "name": "stdout",
     "output_type": "stream",
     "text": [
      "Less than 25 reviews available - skipped\n"
     ]
    },
    {
     "name": "stderr",
     "output_type": "stream",
     "text": [
      "looking for review ids:  33%|███▎      | 662/2020 [3:00:18<6:00:47, 15.94s/movie]"
     ]
    },
    {
     "name": "stdout",
     "output_type": "stream",
     "text": [
      "Less than 25 reviews available - skipped\n"
     ]
    },
    {
     "name": "stderr",
     "output_type": "stream",
     "text": [
      "looking for review ids:  33%|███▎      | 663/2020 [3:00:34<5:59:05, 15.88s/movie]"
     ]
    },
    {
     "name": "stdout",
     "output_type": "stream",
     "text": [
      "Less than 25 reviews available - skipped\n"
     ]
    },
    {
     "name": "stderr",
     "output_type": "stream",
     "text": [
      "looking for review ids:  33%|███▎      | 664/2020 [3:00:50<5:59:03, 15.89s/movie]"
     ]
    },
    {
     "name": "stdout",
     "output_type": "stream",
     "text": [
      "Less than 25 reviews available - skipped\n"
     ]
    },
    {
     "name": "stderr",
     "output_type": "stream",
     "text": [
      "looking for review ids:  33%|███▎      | 665/2020 [3:01:06<5:57:30, 15.83s/movie]"
     ]
    },
    {
     "name": "stdout",
     "output_type": "stream",
     "text": [
      "Less than 25 reviews available - skipped\n"
     ]
    },
    {
     "name": "stderr",
     "output_type": "stream",
     "text": [
      "looking for review ids:  33%|███▎      | 666/2020 [3:01:22<5:56:55, 15.82s/movie]"
     ]
    },
    {
     "name": "stdout",
     "output_type": "stream",
     "text": [
      "Less than 25 reviews available - skipped\n"
     ]
    },
    {
     "name": "stderr",
     "output_type": "stream",
     "text": [
      "looking for review ids:  33%|███▎      | 667/2020 [3:01:38<5:58:26, 15.90s/movie]"
     ]
    },
    {
     "name": "stdout",
     "output_type": "stream",
     "text": [
      "Less than 25 reviews available - skipped\n"
     ]
    },
    {
     "name": "stderr",
     "output_type": "stream",
     "text": [
      "looking for review ids:  33%|███▎      | 668/2020 [3:01:53<5:57:52, 15.88s/movie]"
     ]
    },
    {
     "name": "stdout",
     "output_type": "stream",
     "text": [
      "Less than 25 reviews available - skipped\n"
     ]
    },
    {
     "name": "stderr",
     "output_type": "stream",
     "text": [
      "looking for review ids:  33%|███▎      | 669/2020 [3:02:09<5:57:08, 15.86s/movie]"
     ]
    },
    {
     "name": "stdout",
     "output_type": "stream",
     "text": [
      "Less than 25 reviews available - skipped\n"
     ]
    },
    {
     "name": "stderr",
     "output_type": "stream",
     "text": [
      "looking for review ids:  33%|███▎      | 670/2020 [3:02:25<5:56:00, 15.82s/movie]"
     ]
    },
    {
     "name": "stdout",
     "output_type": "stream",
     "text": [
      "Less than 25 reviews available - skipped\n"
     ]
    },
    {
     "name": "stderr",
     "output_type": "stream",
     "text": [
      "looking for review ids:  33%|███▎      | 671/2020 [3:02:41<5:56:42, 15.87s/movie]"
     ]
    },
    {
     "name": "stdout",
     "output_type": "stream",
     "text": [
      "Less than 25 reviews available - skipped\n"
     ]
    },
    {
     "name": "stderr",
     "output_type": "stream",
     "text": [
      "looking for review ids:  33%|███▎      | 672/2020 [3:02:57<5:55:30, 15.82s/movie]"
     ]
    },
    {
     "name": "stdout",
     "output_type": "stream",
     "text": [
      "Less than 25 reviews available - skipped\n"
     ]
    },
    {
     "name": "stderr",
     "output_type": "stream",
     "text": [
      "looking for review ids:  33%|███▎      | 673/2020 [3:03:13<5:56:05, 15.86s/movie]"
     ]
    },
    {
     "name": "stdout",
     "output_type": "stream",
     "text": [
      "Less than 25 reviews available - skipped\n"
     ]
    },
    {
     "name": "stderr",
     "output_type": "stream",
     "text": [
      "looking for review ids:  33%|███▎      | 674/2020 [3:03:28<5:55:24, 15.84s/movie]"
     ]
    },
    {
     "name": "stdout",
     "output_type": "stream",
     "text": [
      "Less than 25 reviews available - skipped\n"
     ]
    },
    {
     "name": "stderr",
     "output_type": "stream",
     "text": [
      "looking for review ids:  33%|███▎      | 675/2020 [3:03:45<5:58:19, 15.98s/movie]"
     ]
    },
    {
     "name": "stdout",
     "output_type": "stream",
     "text": [
      "Less than 25 reviews available - skipped\n"
     ]
    },
    {
     "name": "stderr",
     "output_type": "stream",
     "text": [
      "looking for review ids:  33%|███▎      | 676/2020 [3:04:01<5:56:40, 15.92s/movie]"
     ]
    },
    {
     "name": "stdout",
     "output_type": "stream",
     "text": [
      "Less than 25 reviews available - skipped\n"
     ]
    },
    {
     "name": "stderr",
     "output_type": "stream",
     "text": [
      "looking for review ids:  34%|███▎      | 677/2020 [3:04:16<5:54:54, 15.86s/movie]"
     ]
    },
    {
     "name": "stdout",
     "output_type": "stream",
     "text": [
      "Less than 25 reviews available - skipped\n"
     ]
    },
    {
     "name": "stderr",
     "output_type": "stream",
     "text": [
      "looking for review ids:  34%|███▎      | 678/2020 [3:04:32<5:52:14, 15.75s/movie]"
     ]
    },
    {
     "name": "stdout",
     "output_type": "stream",
     "text": [
      "Less than 25 reviews available - skipped\n"
     ]
    },
    {
     "name": "stderr",
     "output_type": "stream",
     "text": [
      "looking for review ids:  34%|███▎      | 679/2020 [3:04:47<5:51:25, 15.72s/movie]"
     ]
    },
    {
     "name": "stdout",
     "output_type": "stream",
     "text": [
      "Less than 25 reviews available - skipped\n"
     ]
    },
    {
     "name": "stderr",
     "output_type": "stream",
     "text": [
      "looking for review ids:  34%|███▎      | 680/2020 [3:05:03<5:52:53, 15.80s/movie]"
     ]
    },
    {
     "name": "stdout",
     "output_type": "stream",
     "text": [
      "Less than 25 reviews available - skipped\n"
     ]
    },
    {
     "name": "stderr",
     "output_type": "stream",
     "text": [
      "looking for review ids:  34%|███▎      | 681/2020 [3:05:19<5:52:13, 15.78s/movie]"
     ]
    },
    {
     "name": "stdout",
     "output_type": "stream",
     "text": [
      "Less than 25 reviews available - skipped\n"
     ]
    },
    {
     "name": "stderr",
     "output_type": "stream",
     "text": [
      "looking for review ids:  34%|███▍      | 682/2020 [3:05:35<5:51:40, 15.77s/movie]"
     ]
    },
    {
     "name": "stdout",
     "output_type": "stream",
     "text": [
      "Less than 25 reviews available - skipped\n"
     ]
    },
    {
     "name": "stderr",
     "output_type": "stream",
     "text": [
      "looking for review ids:  34%|███▍      | 683/2020 [3:05:51<5:51:54, 15.79s/movie]"
     ]
    },
    {
     "name": "stdout",
     "output_type": "stream",
     "text": [
      "Less than 25 reviews available - skipped\n"
     ]
    },
    {
     "name": "stderr",
     "output_type": "stream",
     "text": [
      "looking for review ids:  34%|███▍      | 684/2020 [3:06:06<5:50:40, 15.75s/movie]"
     ]
    },
    {
     "name": "stdout",
     "output_type": "stream",
     "text": [
      "Less than 25 reviews available - skipped\n"
     ]
    },
    {
     "name": "stderr",
     "output_type": "stream",
     "text": [
      "looking for review ids:  34%|███▍      | 685/2020 [3:06:22<5:49:37, 15.71s/movie]"
     ]
    },
    {
     "name": "stdout",
     "output_type": "stream",
     "text": [
      "Less than 25 reviews available - skipped\n"
     ]
    },
    {
     "name": "stderr",
     "output_type": "stream",
     "text": [
      "looking for review ids:  34%|███▍      | 686/2020 [3:06:38<5:50:49, 15.78s/movie]"
     ]
    },
    {
     "name": "stdout",
     "output_type": "stream",
     "text": [
      "Less than 25 reviews available - skipped\n"
     ]
    },
    {
     "name": "stderr",
     "output_type": "stream",
     "text": [
      "looking for review ids:  34%|███▍      | 687/2020 [3:06:54<5:49:28, 15.73s/movie]"
     ]
    },
    {
     "name": "stdout",
     "output_type": "stream",
     "text": [
      "Less than 25 reviews available - skipped\n"
     ]
    },
    {
     "name": "stderr",
     "output_type": "stream",
     "text": [
      "looking for review ids:  34%|███▍      | 688/2020 [3:07:09<5:49:39, 15.75s/movie]"
     ]
    },
    {
     "name": "stdout",
     "output_type": "stream",
     "text": [
      "Less than 25 reviews available - skipped\n"
     ]
    },
    {
     "name": "stderr",
     "output_type": "stream",
     "text": [
      "looking for review ids:  34%|███▍      | 689/2020 [3:07:25<5:50:57, 15.82s/movie]"
     ]
    },
    {
     "name": "stdout",
     "output_type": "stream",
     "text": [
      "Less than 25 reviews available - skipped\n"
     ]
    },
    {
     "name": "stderr",
     "output_type": "stream",
     "text": [
      "looking for review ids:  34%|███▍      | 690/2020 [3:07:41<5:49:18, 15.76s/movie]"
     ]
    },
    {
     "name": "stdout",
     "output_type": "stream",
     "text": [
      "Less than 25 reviews available - skipped\n"
     ]
    },
    {
     "name": "stderr",
     "output_type": "stream",
     "text": [
      "looking for review ids:  34%|███▍      | 691/2020 [3:07:57<5:48:05, 15.71s/movie]"
     ]
    },
    {
     "name": "stdout",
     "output_type": "stream",
     "text": [
      "Less than 25 reviews available - skipped\n"
     ]
    },
    {
     "name": "stderr",
     "output_type": "stream",
     "text": [
      "looking for review ids:  34%|███▍      | 692/2020 [3:08:12<5:47:43, 15.71s/movie]"
     ]
    },
    {
     "name": "stdout",
     "output_type": "stream",
     "text": [
      "Less than 25 reviews available - skipped\n"
     ]
    },
    {
     "name": "stderr",
     "output_type": "stream",
     "text": [
      "looking for review ids:  34%|███▍      | 693/2020 [3:08:28<5:46:54, 15.69s/movie]"
     ]
    },
    {
     "name": "stdout",
     "output_type": "stream",
     "text": [
      "Less than 25 reviews available - skipped\n"
     ]
    },
    {
     "name": "stderr",
     "output_type": "stream",
     "text": [
      "looking for review ids:  34%|███▍      | 694/2020 [3:08:43<5:45:57, 15.65s/movie]"
     ]
    },
    {
     "name": "stdout",
     "output_type": "stream",
     "text": [
      "Less than 25 reviews available - skipped\n"
     ]
    },
    {
     "name": "stderr",
     "output_type": "stream",
     "text": [
      "looking for review ids:  34%|███▍      | 695/2020 [3:08:59<5:46:00, 15.67s/movie]"
     ]
    },
    {
     "name": "stdout",
     "output_type": "stream",
     "text": [
      "Less than 25 reviews available - skipped\n"
     ]
    },
    {
     "name": "stderr",
     "output_type": "stream",
     "text": [
      "looking for review ids:  34%|███▍      | 696/2020 [3:09:15<5:46:35, 15.71s/movie]"
     ]
    },
    {
     "name": "stdout",
     "output_type": "stream",
     "text": [
      "Less than 25 reviews available - skipped\n"
     ]
    },
    {
     "name": "stderr",
     "output_type": "stream",
     "text": [
      "looking for review ids:  35%|███▍      | 697/2020 [3:09:31<5:48:10, 15.79s/movie]"
     ]
    },
    {
     "name": "stdout",
     "output_type": "stream",
     "text": [
      "Less than 25 reviews available - skipped\n"
     ]
    },
    {
     "name": "stderr",
     "output_type": "stream",
     "text": [
      "looking for review ids:  35%|███▍      | 698/2020 [3:09:47<5:49:02, 15.84s/movie]"
     ]
    },
    {
     "name": "stdout",
     "output_type": "stream",
     "text": [
      "Less than 25 reviews available - skipped\n"
     ]
    },
    {
     "name": "stderr",
     "output_type": "stream",
     "text": [
      "looking for review ids:  35%|███▍      | 699/2020 [3:10:03<5:49:28, 15.87s/movie]"
     ]
    },
    {
     "name": "stdout",
     "output_type": "stream",
     "text": [
      "Less than 25 reviews available - skipped\n"
     ]
    },
    {
     "name": "stderr",
     "output_type": "stream",
     "text": [
      "looking for review ids:  35%|███▍      | 700/2020 [3:10:18<5:46:24, 15.75s/movie]"
     ]
    },
    {
     "name": "stdout",
     "output_type": "stream",
     "text": [
      "Less than 25 reviews available - skipped\n"
     ]
    },
    {
     "name": "stderr",
     "output_type": "stream",
     "text": [
      "looking for review ids:  35%|███▍      | 701/2020 [3:10:34<5:46:43, 15.77s/movie]"
     ]
    },
    {
     "name": "stdout",
     "output_type": "stream",
     "text": [
      "Less than 25 reviews available - skipped\n"
     ]
    },
    {
     "name": "stderr",
     "output_type": "stream",
     "text": [
      "looking for review ids:  35%|███▍      | 702/2020 [3:10:50<5:44:38, 15.69s/movie]"
     ]
    },
    {
     "name": "stdout",
     "output_type": "stream",
     "text": [
      "Less than 25 reviews available - skipped\n"
     ]
    },
    {
     "name": "stderr",
     "output_type": "stream",
     "text": [
      "looking for review ids:  35%|███▍      | 703/2020 [3:11:06<5:46:31, 15.79s/movie]"
     ]
    },
    {
     "name": "stdout",
     "output_type": "stream",
     "text": [
      "Less than 25 reviews available - skipped\n"
     ]
    },
    {
     "name": "stderr",
     "output_type": "stream",
     "text": [
      "looking for review ids:  35%|███▍      | 704/2020 [3:11:21<5:45:32, 15.75s/movie]"
     ]
    },
    {
     "name": "stdout",
     "output_type": "stream",
     "text": [
      "Less than 25 reviews available - skipped\n"
     ]
    },
    {
     "name": "stderr",
     "output_type": "stream",
     "text": [
      "looking for review ids:  35%|███▍      | 705/2020 [3:11:37<5:44:41, 15.73s/movie]"
     ]
    },
    {
     "name": "stdout",
     "output_type": "stream",
     "text": [
      "Less than 25 reviews available - skipped\n"
     ]
    },
    {
     "name": "stderr",
     "output_type": "stream",
     "text": [
      "looking for review ids:  35%|███▍      | 706/2020 [3:11:53<5:45:26, 15.77s/movie]"
     ]
    },
    {
     "name": "stdout",
     "output_type": "stream",
     "text": [
      "Less than 25 reviews available - skipped\n"
     ]
    },
    {
     "name": "stderr",
     "output_type": "stream",
     "text": [
      "looking for review ids:  35%|███▌      | 707/2020 [3:12:09<5:45:08, 15.77s/movie]"
     ]
    },
    {
     "name": "stdout",
     "output_type": "stream",
     "text": [
      "Less than 25 reviews available - skipped\n"
     ]
    },
    {
     "name": "stderr",
     "output_type": "stream",
     "text": [
      "looking for review ids:  35%|███▌      | 708/2020 [3:12:24<5:43:23, 15.70s/movie]"
     ]
    },
    {
     "name": "stdout",
     "output_type": "stream",
     "text": [
      "Less than 25 reviews available - skipped\n"
     ]
    },
    {
     "name": "stderr",
     "output_type": "stream",
     "text": [
      "looking for review ids:  35%|███▌      | 709/2020 [3:12:40<5:43:00, 15.70s/movie]"
     ]
    },
    {
     "name": "stdout",
     "output_type": "stream",
     "text": [
      "Less than 25 reviews available - skipped\n"
     ]
    },
    {
     "name": "stderr",
     "output_type": "stream",
     "text": [
      "looking for review ids:  35%|███▌      | 710/2020 [3:12:56<5:43:49, 15.75s/movie]"
     ]
    },
    {
     "name": "stdout",
     "output_type": "stream",
     "text": [
      "Less than 25 reviews available - skipped\n"
     ]
    },
    {
     "name": "stderr",
     "output_type": "stream",
     "text": [
      "looking for review ids:  35%|███▌      | 711/2020 [3:13:12<5:44:32, 15.79s/movie]"
     ]
    },
    {
     "name": "stdout",
     "output_type": "stream",
     "text": [
      "Less than 25 reviews available - skipped\n"
     ]
    },
    {
     "name": "stderr",
     "output_type": "stream",
     "text": [
      "looking for review ids:  35%|███▌      | 713/2020 [3:14:04<8:01:52, 22.12s/movie]"
     ]
    },
    {
     "name": "stdout",
     "output_type": "stream",
     "text": [
      "Less than 25 reviews available - skipped\n"
     ]
    },
    {
     "name": "stderr",
     "output_type": "stream",
     "text": [
      "looking for review ids:  35%|███▌      | 714/2020 [3:14:20<7:19:45, 20.20s/movie]"
     ]
    },
    {
     "name": "stdout",
     "output_type": "stream",
     "text": [
      "Less than 25 reviews available - skipped\n"
     ]
    },
    {
     "name": "stderr",
     "output_type": "stream",
     "text": [
      "looking for review ids:  35%|███▌      | 715/2020 [3:14:36<6:52:38, 18.97s/movie]"
     ]
    },
    {
     "name": "stdout",
     "output_type": "stream",
     "text": [
      "Less than 25 reviews available - skipped\n"
     ]
    },
    {
     "name": "stderr",
     "output_type": "stream",
     "text": [
      "looking for review ids:  35%|███▌      | 716/2020 [3:14:52<6:33:28, 18.10s/movie]"
     ]
    },
    {
     "name": "stdout",
     "output_type": "stream",
     "text": [
      "Less than 25 reviews available - skipped\n"
     ]
    },
    {
     "name": "stderr",
     "output_type": "stream",
     "text": [
      "looking for review ids:  35%|███▌      | 717/2020 [3:15:08<6:18:14, 17.42s/movie]"
     ]
    },
    {
     "name": "stdout",
     "output_type": "stream",
     "text": [
      "Less than 25 reviews available - skipped\n"
     ]
    },
    {
     "name": "stderr",
     "output_type": "stream",
     "text": [
      "looking for review ids:  36%|███▌      | 718/2020 [3:15:24<6:08:30, 16.98s/movie]"
     ]
    },
    {
     "name": "stdout",
     "output_type": "stream",
     "text": [
      "Less than 25 reviews available - skipped\n"
     ]
    },
    {
     "name": "stderr",
     "output_type": "stream",
     "text": [
      "looking for review ids:  36%|███▌      | 719/2020 [3:15:40<6:00:50, 16.64s/movie]"
     ]
    },
    {
     "name": "stdout",
     "output_type": "stream",
     "text": [
      "Less than 25 reviews available - skipped\n"
     ]
    },
    {
     "name": "stderr",
     "output_type": "stream",
     "text": [
      "looking for review ids:  36%|███▌      | 720/2020 [3:15:56<5:54:22, 16.36s/movie]"
     ]
    },
    {
     "name": "stdout",
     "output_type": "stream",
     "text": [
      "Less than 25 reviews available - skipped\n"
     ]
    },
    {
     "name": "stderr",
     "output_type": "stream",
     "text": [
      "looking for review ids:  36%|███▌      | 721/2020 [3:16:11<5:51:25, 16.23s/movie]"
     ]
    },
    {
     "name": "stdout",
     "output_type": "stream",
     "text": [
      "Less than 25 reviews available - skipped\n"
     ]
    },
    {
     "name": "stderr",
     "output_type": "stream",
     "text": [
      "looking for review ids:  36%|███▌      | 722/2020 [3:16:27<5:48:44, 16.12s/movie]"
     ]
    },
    {
     "name": "stdout",
     "output_type": "stream",
     "text": [
      "Less than 25 reviews available - skipped\n"
     ]
    },
    {
     "name": "stderr",
     "output_type": "stream",
     "text": [
      "looking for review ids:  36%|███▌      | 723/2020 [3:16:43<5:44:20, 15.93s/movie]"
     ]
    },
    {
     "name": "stdout",
     "output_type": "stream",
     "text": [
      "Less than 25 reviews available - skipped\n"
     ]
    },
    {
     "name": "stderr",
     "output_type": "stream",
     "text": [
      "looking for review ids:  36%|███▌      | 724/2020 [3:16:58<5:41:22, 15.80s/movie]"
     ]
    },
    {
     "name": "stdout",
     "output_type": "stream",
     "text": [
      "Less than 25 reviews available - skipped\n"
     ]
    },
    {
     "name": "stderr",
     "output_type": "stream",
     "text": [
      "looking for review ids:  36%|███▌      | 725/2020 [3:17:14<5:41:17, 15.81s/movie]"
     ]
    },
    {
     "name": "stdout",
     "output_type": "stream",
     "text": [
      "Less than 25 reviews available - skipped\n"
     ]
    },
    {
     "name": "stderr",
     "output_type": "stream",
     "text": [
      "looking for review ids:  36%|███▌      | 726/2020 [3:17:30<5:41:21, 15.83s/movie]"
     ]
    },
    {
     "name": "stdout",
     "output_type": "stream",
     "text": [
      "Less than 25 reviews available - skipped\n"
     ]
    },
    {
     "name": "stderr",
     "output_type": "stream",
     "text": [
      "looking for review ids:  36%|███▌      | 728/2020 [3:17:59<5:22:35, 14.98s/movie]"
     ]
    },
    {
     "name": "stdout",
     "output_type": "stream",
     "text": [
      "Less than 25 reviews available - skipped\n"
     ]
    },
    {
     "name": "stderr",
     "output_type": "stream",
     "text": [
      "looking for review ids:  36%|███▌      | 729/2020 [3:18:14<5:26:16, 15.16s/movie]"
     ]
    },
    {
     "name": "stdout",
     "output_type": "stream",
     "text": [
      "Less than 25 reviews available - skipped\n"
     ]
    },
    {
     "name": "stderr",
     "output_type": "stream",
     "text": [
      "looking for review ids:  36%|███▌      | 730/2020 [3:18:30<5:30:00, 15.35s/movie]"
     ]
    },
    {
     "name": "stdout",
     "output_type": "stream",
     "text": [
      "Less than 25 reviews available - skipped\n"
     ]
    },
    {
     "name": "stderr",
     "output_type": "stream",
     "text": [
      "looking for review ids:  36%|███▌      | 731/2020 [3:18:46<5:30:16, 15.37s/movie]"
     ]
    },
    {
     "name": "stdout",
     "output_type": "stream",
     "text": [
      "Less than 25 reviews available - skipped\n"
     ]
    },
    {
     "name": "stderr",
     "output_type": "stream",
     "text": [
      "looking for review ids:  36%|███▌      | 732/2020 [3:19:01<5:32:52, 15.51s/movie]"
     ]
    },
    {
     "name": "stdout",
     "output_type": "stream",
     "text": [
      "Less than 25 reviews available - skipped\n"
     ]
    },
    {
     "name": "stderr",
     "output_type": "stream",
     "text": [
      "looking for review ids:  36%|███▋      | 733/2020 [3:19:18<5:39:31, 15.83s/movie]"
     ]
    },
    {
     "name": "stdout",
     "output_type": "stream",
     "text": [
      "Less than 25 reviews available - skipped\n"
     ]
    },
    {
     "name": "stderr",
     "output_type": "stream",
     "text": [
      "looking for review ids:  36%|███▋      | 734/2020 [3:19:34<5:40:14, 15.87s/movie]"
     ]
    },
    {
     "name": "stdout",
     "output_type": "stream",
     "text": [
      "Less than 25 reviews available - skipped\n"
     ]
    },
    {
     "name": "stderr",
     "output_type": "stream",
     "text": [
      "looking for review ids:  36%|███▋      | 735/2020 [3:19:50<5:38:43, 15.82s/movie]"
     ]
    },
    {
     "name": "stdout",
     "output_type": "stream",
     "text": [
      "Less than 25 reviews available - skipped\n"
     ]
    },
    {
     "name": "stderr",
     "output_type": "stream",
     "text": [
      "looking for review ids:  36%|███▋      | 736/2020 [3:20:05<5:37:23, 15.77s/movie]"
     ]
    },
    {
     "name": "stdout",
     "output_type": "stream",
     "text": [
      "Less than 25 reviews available - skipped\n"
     ]
    },
    {
     "name": "stderr",
     "output_type": "stream",
     "text": [
      "looking for review ids:  36%|███▋      | 737/2020 [3:20:21<5:36:40, 15.75s/movie]"
     ]
    },
    {
     "name": "stdout",
     "output_type": "stream",
     "text": [
      "Less than 25 reviews available - skipped\n"
     ]
    },
    {
     "name": "stderr",
     "output_type": "stream",
     "text": [
      "looking for review ids:  37%|███▋      | 738/2020 [3:20:37<5:36:33, 15.75s/movie]"
     ]
    },
    {
     "name": "stdout",
     "output_type": "stream",
     "text": [
      "Less than 25 reviews available - skipped\n"
     ]
    },
    {
     "name": "stderr",
     "output_type": "stream",
     "text": [
      "looking for review ids:  37%|███▋      | 739/2020 [3:20:53<5:36:55, 15.78s/movie]"
     ]
    },
    {
     "name": "stdout",
     "output_type": "stream",
     "text": [
      "Less than 25 reviews available - skipped\n"
     ]
    },
    {
     "name": "stderr",
     "output_type": "stream",
     "text": [
      "looking for review ids:  37%|███▋      | 740/2020 [3:21:08<5:35:54, 15.75s/movie]"
     ]
    },
    {
     "name": "stdout",
     "output_type": "stream",
     "text": [
      "Less than 25 reviews available - skipped\n"
     ]
    },
    {
     "name": "stderr",
     "output_type": "stream",
     "text": [
      "looking for review ids:  37%|███▋      | 741/2020 [3:21:24<5:35:45, 15.75s/movie]"
     ]
    },
    {
     "name": "stdout",
     "output_type": "stream",
     "text": [
      "Less than 25 reviews available - skipped\n"
     ]
    },
    {
     "name": "stderr",
     "output_type": "stream",
     "text": [
      "looking for review ids:  37%|███▋      | 742/2020 [3:21:40<5:35:47, 15.76s/movie]"
     ]
    },
    {
     "name": "stdout",
     "output_type": "stream",
     "text": [
      "Less than 25 reviews available - skipped\n"
     ]
    },
    {
     "name": "stderr",
     "output_type": "stream",
     "text": [
      "looking for review ids:  37%|███▋      | 743/2020 [3:21:55<5:33:50, 15.69s/movie]"
     ]
    },
    {
     "name": "stdout",
     "output_type": "stream",
     "text": [
      "Less than 25 reviews available - skipped\n"
     ]
    },
    {
     "name": "stderr",
     "output_type": "stream",
     "text": [
      "looking for review ids:  37%|███▋      | 744/2020 [3:22:11<5:34:54, 15.75s/movie]"
     ]
    },
    {
     "name": "stdout",
     "output_type": "stream",
     "text": [
      "Less than 25 reviews available - skipped\n"
     ]
    },
    {
     "name": "stderr",
     "output_type": "stream",
     "text": [
      "looking for review ids:  37%|███▋      | 745/2020 [3:22:27<5:35:10, 15.77s/movie]"
     ]
    },
    {
     "name": "stdout",
     "output_type": "stream",
     "text": [
      "Less than 25 reviews available - skipped\n"
     ]
    },
    {
     "name": "stderr",
     "output_type": "stream",
     "text": [
      "looking for review ids:  37%|███▋      | 746/2020 [3:22:43<5:35:30, 15.80s/movie]"
     ]
    },
    {
     "name": "stdout",
     "output_type": "stream",
     "text": [
      "Less than 25 reviews available - skipped\n"
     ]
    },
    {
     "name": "stderr",
     "output_type": "stream",
     "text": [
      "looking for review ids:  37%|███▋      | 747/2020 [3:23:01<5:50:43, 16.53s/movie]"
     ]
    },
    {
     "name": "stdout",
     "output_type": "stream",
     "text": [
      "Less than 25 reviews available - skipped\n"
     ]
    },
    {
     "name": "stderr",
     "output_type": "stream",
     "text": [
      "looking for review ids:  37%|███▋      | 748/2020 [3:23:17<5:45:27, 16.30s/movie]"
     ]
    },
    {
     "name": "stdout",
     "output_type": "stream",
     "text": [
      "Less than 25 reviews available - skipped\n"
     ]
    },
    {
     "name": "stderr",
     "output_type": "stream",
     "text": [
      "looking for review ids:  37%|███▋      | 749/2020 [3:23:33<5:40:52, 16.09s/movie]"
     ]
    },
    {
     "name": "stdout",
     "output_type": "stream",
     "text": [
      "Less than 25 reviews available - skipped\n"
     ]
    },
    {
     "name": "stderr",
     "output_type": "stream",
     "text": [
      "looking for review ids:  37%|███▋      | 750/2020 [3:23:48<5:38:56, 16.01s/movie]"
     ]
    },
    {
     "name": "stdout",
     "output_type": "stream",
     "text": [
      "Less than 25 reviews available - skipped\n"
     ]
    },
    {
     "name": "stderr",
     "output_type": "stream",
     "text": [
      "looking for review ids:  37%|███▋      | 751/2020 [3:24:04<5:35:43, 15.87s/movie]"
     ]
    },
    {
     "name": "stdout",
     "output_type": "stream",
     "text": [
      "Less than 25 reviews available - skipped\n"
     ]
    },
    {
     "name": "stderr",
     "output_type": "stream",
     "text": [
      "looking for review ids:  37%|███▋      | 752/2020 [3:24:19<5:33:15, 15.77s/movie]"
     ]
    },
    {
     "name": "stdout",
     "output_type": "stream",
     "text": [
      "Less than 25 reviews available - skipped\n"
     ]
    },
    {
     "name": "stderr",
     "output_type": "stream",
     "text": [
      "looking for review ids:  37%|███▋      | 754/2020 [3:24:49<5:17:04, 15.03s/movie]"
     ]
    },
    {
     "name": "stdout",
     "output_type": "stream",
     "text": [
      "Less than 25 reviews available - skipped\n"
     ]
    },
    {
     "name": "stderr",
     "output_type": "stream",
     "text": [
      "looking for review ids:  37%|███▋      | 755/2020 [3:25:04<5:20:57, 15.22s/movie]"
     ]
    },
    {
     "name": "stdout",
     "output_type": "stream",
     "text": [
      "Less than 25 reviews available - skipped\n"
     ]
    },
    {
     "name": "stderr",
     "output_type": "stream",
     "text": [
      "looking for review ids:  37%|███▋      | 756/2020 [3:25:20<5:23:24, 15.35s/movie]"
     ]
    },
    {
     "name": "stdout",
     "output_type": "stream",
     "text": [
      "Less than 25 reviews available - skipped\n"
     ]
    },
    {
     "name": "stderr",
     "output_type": "stream",
     "text": [
      "looking for review ids:  37%|███▋      | 757/2020 [3:25:36<5:25:14, 15.45s/movie]"
     ]
    },
    {
     "name": "stdout",
     "output_type": "stream",
     "text": [
      "Less than 25 reviews available - skipped\n"
     ]
    },
    {
     "name": "stderr",
     "output_type": "stream",
     "text": [
      "looking for review ids:  38%|███▊      | 758/2020 [3:25:51<5:25:53, 15.49s/movie]"
     ]
    },
    {
     "name": "stdout",
     "output_type": "stream",
     "text": [
      "Less than 25 reviews available - skipped\n"
     ]
    },
    {
     "name": "stderr",
     "output_type": "stream",
     "text": [
      "looking for review ids:  38%|███▊      | 759/2020 [3:26:07<5:26:11, 15.52s/movie]"
     ]
    },
    {
     "name": "stdout",
     "output_type": "stream",
     "text": [
      "Less than 25 reviews available - skipped\n"
     ]
    },
    {
     "name": "stderr",
     "output_type": "stream",
     "text": [
      "looking for review ids:  38%|███▊      | 760/2020 [3:26:22<5:27:40, 15.60s/movie]"
     ]
    },
    {
     "name": "stdout",
     "output_type": "stream",
     "text": [
      "Less than 25 reviews available - skipped\n"
     ]
    },
    {
     "name": "stderr",
     "output_type": "stream",
     "text": [
      "looking for review ids:  38%|███▊      | 762/2020 [3:26:53<5:20:49, 15.30s/movie]"
     ]
    },
    {
     "name": "stdout",
     "output_type": "stream",
     "text": [
      "Less than 25 reviews available - skipped\n"
     ]
    },
    {
     "name": "stderr",
     "output_type": "stream",
     "text": [
      "looking for review ids:  38%|███▊      | 763/2020 [3:27:08<5:22:51, 15.41s/movie]"
     ]
    },
    {
     "name": "stdout",
     "output_type": "stream",
     "text": [
      "Less than 25 reviews available - skipped\n"
     ]
    },
    {
     "name": "stderr",
     "output_type": "stream",
     "text": [
      "looking for review ids:  38%|███▊      | 764/2020 [3:27:24<5:25:51, 15.57s/movie]"
     ]
    },
    {
     "name": "stdout",
     "output_type": "stream",
     "text": [
      "Less than 25 reviews available - skipped\n"
     ]
    },
    {
     "name": "stderr",
     "output_type": "stream",
     "text": [
      "looking for review ids:  38%|███▊      | 765/2020 [3:27:40<5:26:31, 15.61s/movie]"
     ]
    },
    {
     "name": "stdout",
     "output_type": "stream",
     "text": [
      "Less than 25 reviews available - skipped\n"
     ]
    },
    {
     "name": "stderr",
     "output_type": "stream",
     "text": [
      "looking for review ids:  38%|███▊      | 766/2020 [3:27:56<5:27:51, 15.69s/movie]"
     ]
    },
    {
     "name": "stdout",
     "output_type": "stream",
     "text": [
      "Less than 25 reviews available - skipped\n"
     ]
    },
    {
     "name": "stderr",
     "output_type": "stream",
     "text": [
      "looking for review ids:  38%|███▊      | 767/2020 [3:28:11<5:26:06, 15.62s/movie]"
     ]
    },
    {
     "name": "stdout",
     "output_type": "stream",
     "text": [
      "Less than 25 reviews available - skipped\n"
     ]
    },
    {
     "name": "stderr",
     "output_type": "stream",
     "text": [
      "looking for review ids:  38%|███▊      | 768/2020 [3:28:27<5:26:48, 15.66s/movie]"
     ]
    },
    {
     "name": "stdout",
     "output_type": "stream",
     "text": [
      "Less than 25 reviews available - skipped\n"
     ]
    },
    {
     "name": "stderr",
     "output_type": "stream",
     "text": [
      "looking for review ids:  38%|███▊      | 769/2020 [3:28:43<5:28:42, 15.77s/movie]"
     ]
    },
    {
     "name": "stdout",
     "output_type": "stream",
     "text": [
      "Less than 25 reviews available - skipped\n"
     ]
    },
    {
     "name": "stderr",
     "output_type": "stream",
     "text": [
      "looking for review ids:  38%|███▊      | 770/2020 [3:28:59<5:28:33, 15.77s/movie]"
     ]
    },
    {
     "name": "stdout",
     "output_type": "stream",
     "text": [
      "Less than 25 reviews available - skipped\n"
     ]
    },
    {
     "name": "stderr",
     "output_type": "stream",
     "text": [
      "looking for review ids:  38%|███▊      | 771/2020 [3:29:15<5:27:49, 15.75s/movie]"
     ]
    },
    {
     "name": "stdout",
     "output_type": "stream",
     "text": [
      "Less than 25 reviews available - skipped\n"
     ]
    },
    {
     "name": "stderr",
     "output_type": "stream",
     "text": [
      "looking for review ids:  38%|███▊      | 772/2020 [3:29:30<5:26:25, 15.69s/movie]"
     ]
    },
    {
     "name": "stdout",
     "output_type": "stream",
     "text": [
      "Less than 25 reviews available - skipped\n"
     ]
    },
    {
     "name": "stderr",
     "output_type": "stream",
     "text": [
      "looking for review ids:  38%|███▊      | 773/2020 [3:29:46<5:25:52, 15.68s/movie]"
     ]
    },
    {
     "name": "stdout",
     "output_type": "stream",
     "text": [
      "Less than 25 reviews available - skipped\n"
     ]
    },
    {
     "name": "stderr",
     "output_type": "stream",
     "text": [
      "looking for review ids:  38%|███▊      | 774/2020 [3:30:02<5:26:33, 15.73s/movie]"
     ]
    },
    {
     "name": "stdout",
     "output_type": "stream",
     "text": [
      "Less than 25 reviews available - skipped\n"
     ]
    },
    {
     "name": "stderr",
     "output_type": "stream",
     "text": [
      "looking for review ids:  38%|███▊      | 775/2020 [3:30:17<5:24:54, 15.66s/movie]"
     ]
    },
    {
     "name": "stdout",
     "output_type": "stream",
     "text": [
      "Less than 25 reviews available - skipped\n"
     ]
    },
    {
     "name": "stderr",
     "output_type": "stream",
     "text": [
      "looking for review ids:  38%|███▊      | 776/2020 [3:30:33<5:25:32, 15.70s/movie]"
     ]
    },
    {
     "name": "stdout",
     "output_type": "stream",
     "text": [
      "Less than 25 reviews available - skipped\n"
     ]
    },
    {
     "name": "stderr",
     "output_type": "stream",
     "text": [
      "looking for review ids:  38%|███▊      | 777/2020 [3:30:49<5:25:01, 15.69s/movie]"
     ]
    },
    {
     "name": "stdout",
     "output_type": "stream",
     "text": [
      "Less than 25 reviews available - skipped\n"
     ]
    },
    {
     "name": "stderr",
     "output_type": "stream",
     "text": [
      "looking for review ids:  39%|███▊      | 778/2020 [3:31:04<5:25:43, 15.74s/movie]"
     ]
    },
    {
     "name": "stdout",
     "output_type": "stream",
     "text": [
      "Less than 25 reviews available - skipped\n"
     ]
    },
    {
     "name": "stderr",
     "output_type": "stream",
     "text": [
      "looking for review ids:  39%|███▊      | 779/2020 [3:31:20<5:26:04, 15.76s/movie]"
     ]
    },
    {
     "name": "stdout",
     "output_type": "stream",
     "text": [
      "Less than 25 reviews available - skipped\n"
     ]
    },
    {
     "name": "stderr",
     "output_type": "stream",
     "text": [
      "looking for review ids:  39%|███▊      | 780/2020 [3:31:36<5:26:38, 15.81s/movie]"
     ]
    },
    {
     "name": "stdout",
     "output_type": "stream",
     "text": [
      "Less than 25 reviews available - skipped\n"
     ]
    },
    {
     "name": "stderr",
     "output_type": "stream",
     "text": [
      "looking for review ids:  39%|███▊      | 781/2020 [3:31:52<5:27:39, 15.87s/movie]"
     ]
    },
    {
     "name": "stdout",
     "output_type": "stream",
     "text": [
      "Less than 25 reviews available - skipped\n"
     ]
    },
    {
     "name": "stderr",
     "output_type": "stream",
     "text": [
      "looking for review ids:  39%|███▊      | 782/2020 [3:32:08<5:26:02, 15.80s/movie]"
     ]
    },
    {
     "name": "stdout",
     "output_type": "stream",
     "text": [
      "Less than 25 reviews available - skipped\n"
     ]
    },
    {
     "name": "stderr",
     "output_type": "stream",
     "text": [
      "looking for review ids:  39%|███▉      | 783/2020 [3:32:24<5:26:28, 15.84s/movie]"
     ]
    },
    {
     "name": "stdout",
     "output_type": "stream",
     "text": [
      "Less than 25 reviews available - skipped\n"
     ]
    },
    {
     "name": "stderr",
     "output_type": "stream",
     "text": [
      "looking for review ids:  39%|███▉      | 784/2020 [3:32:39<5:24:25, 15.75s/movie]"
     ]
    },
    {
     "name": "stdout",
     "output_type": "stream",
     "text": [
      "Less than 25 reviews available - skipped\n"
     ]
    },
    {
     "name": "stderr",
     "output_type": "stream",
     "text": [
      "looking for review ids:  39%|███▉      | 785/2020 [3:32:55<5:22:19, 15.66s/movie]"
     ]
    },
    {
     "name": "stdout",
     "output_type": "stream",
     "text": [
      "Less than 25 reviews available - skipped\n"
     ]
    },
    {
     "name": "stderr",
     "output_type": "stream",
     "text": [
      "looking for review ids:  39%|███▉      | 786/2020 [3:33:10<5:21:21, 15.63s/movie]"
     ]
    },
    {
     "name": "stdout",
     "output_type": "stream",
     "text": [
      "Less than 25 reviews available - skipped\n"
     ]
    },
    {
     "name": "stderr",
     "output_type": "stream",
     "text": [
      "looking for review ids:  39%|███▉      | 787/2020 [3:33:26<5:19:42, 15.56s/movie]"
     ]
    },
    {
     "name": "stdout",
     "output_type": "stream",
     "text": [
      "Less than 25 reviews available - skipped\n"
     ]
    },
    {
     "name": "stderr",
     "output_type": "stream",
     "text": [
      "looking for review ids:  39%|███▉      | 788/2020 [3:33:41<5:18:58, 15.53s/movie]"
     ]
    },
    {
     "name": "stdout",
     "output_type": "stream",
     "text": [
      "Less than 25 reviews available - skipped\n"
     ]
    },
    {
     "name": "stderr",
     "output_type": "stream",
     "text": [
      "looking for review ids:  39%|███▉      | 789/2020 [3:33:57<5:18:35, 15.53s/movie]"
     ]
    },
    {
     "name": "stdout",
     "output_type": "stream",
     "text": [
      "Less than 25 reviews available - skipped\n"
     ]
    },
    {
     "name": "stderr",
     "output_type": "stream",
     "text": [
      "looking for review ids:  39%|███▉      | 790/2020 [3:34:12<5:18:39, 15.54s/movie]"
     ]
    },
    {
     "name": "stdout",
     "output_type": "stream",
     "text": [
      "Less than 25 reviews available - skipped\n"
     ]
    },
    {
     "name": "stderr",
     "output_type": "stream",
     "text": [
      "looking for review ids:  39%|███▉      | 791/2020 [3:34:28<5:19:08, 15.58s/movie]"
     ]
    },
    {
     "name": "stdout",
     "output_type": "stream",
     "text": [
      "Less than 25 reviews available - skipped\n"
     ]
    },
    {
     "name": "stderr",
     "output_type": "stream",
     "text": [
      "looking for review ids:  39%|███▉      | 792/2020 [3:34:44<5:19:49, 15.63s/movie]"
     ]
    },
    {
     "name": "stdout",
     "output_type": "stream",
     "text": [
      "Less than 25 reviews available - skipped\n"
     ]
    },
    {
     "name": "stderr",
     "output_type": "stream",
     "text": [
      "looking for review ids:  39%|███▉      | 793/2020 [3:34:59<5:20:03, 15.65s/movie]"
     ]
    },
    {
     "name": "stdout",
     "output_type": "stream",
     "text": [
      "Less than 25 reviews available - skipped\n"
     ]
    },
    {
     "name": "stderr",
     "output_type": "stream",
     "text": [
      "looking for review ids:  39%|███▉      | 794/2020 [3:35:15<5:21:14, 15.72s/movie]"
     ]
    },
    {
     "name": "stdout",
     "output_type": "stream",
     "text": [
      "Less than 25 reviews available - skipped\n"
     ]
    },
    {
     "name": "stderr",
     "output_type": "stream",
     "text": [
      "looking for review ids:  39%|███▉      | 795/2020 [3:35:31<5:21:14, 15.73s/movie]"
     ]
    },
    {
     "name": "stdout",
     "output_type": "stream",
     "text": [
      "Less than 25 reviews available - skipped\n"
     ]
    },
    {
     "name": "stderr",
     "output_type": "stream",
     "text": [
      "looking for review ids:  39%|███▉      | 796/2020 [3:35:48<5:30:20, 16.19s/movie]"
     ]
    },
    {
     "name": "stdout",
     "output_type": "stream",
     "text": [
      "Less than 25 reviews available - skipped\n"
     ]
    },
    {
     "name": "stderr",
     "output_type": "stream",
     "text": [
      "looking for review ids:  39%|███▉      | 797/2020 [3:36:04<5:26:32, 16.02s/movie]"
     ]
    },
    {
     "name": "stdout",
     "output_type": "stream",
     "text": [
      "Less than 25 reviews available - skipped\n"
     ]
    },
    {
     "name": "stderr",
     "output_type": "stream",
     "text": [
      "looking for review ids:  40%|███▉      | 798/2020 [3:36:20<5:25:12, 15.97s/movie]"
     ]
    },
    {
     "name": "stdout",
     "output_type": "stream",
     "text": [
      "Less than 25 reviews available - skipped\n"
     ]
    },
    {
     "name": "stderr",
     "output_type": "stream",
     "text": [
      "looking for review ids:  40%|███▉      | 799/2020 [3:36:35<5:23:29, 15.90s/movie]"
     ]
    },
    {
     "name": "stdout",
     "output_type": "stream",
     "text": [
      "Less than 25 reviews available - skipped\n"
     ]
    },
    {
     "name": "stderr",
     "output_type": "stream",
     "text": [
      "looking for review ids:  40%|███▉      | 800/2020 [3:36:51<5:22:34, 15.86s/movie]"
     ]
    },
    {
     "name": "stdout",
     "output_type": "stream",
     "text": [
      "Less than 25 reviews available - skipped\n"
     ]
    },
    {
     "name": "stderr",
     "output_type": "stream",
     "text": [
      "looking for review ids:  40%|███▉      | 801/2020 [3:37:07<5:22:40, 15.88s/movie]"
     ]
    },
    {
     "name": "stdout",
     "output_type": "stream",
     "text": [
      "Less than 25 reviews available - skipped\n"
     ]
    },
    {
     "name": "stderr",
     "output_type": "stream",
     "text": [
      "looking for review ids:  40%|███▉      | 802/2020 [3:37:23<5:22:42, 15.90s/movie]"
     ]
    },
    {
     "name": "stdout",
     "output_type": "stream",
     "text": [
      "Less than 25 reviews available - skipped\n"
     ]
    },
    {
     "name": "stderr",
     "output_type": "stream",
     "text": [
      "looking for review ids:  40%|███▉      | 803/2020 [3:37:39<5:20:43, 15.81s/movie]"
     ]
    },
    {
     "name": "stdout",
     "output_type": "stream",
     "text": [
      "Less than 25 reviews available - skipped\n"
     ]
    },
    {
     "name": "stderr",
     "output_type": "stream",
     "text": [
      "looking for review ids:  40%|███▉      | 804/2020 [3:37:54<5:20:16, 15.80s/movie]"
     ]
    },
    {
     "name": "stdout",
     "output_type": "stream",
     "text": [
      "Less than 25 reviews available - skipped\n"
     ]
    },
    {
     "name": "stderr",
     "output_type": "stream",
     "text": [
      "looking for review ids:  40%|███▉      | 805/2020 [3:38:10<5:17:13, 15.67s/movie]"
     ]
    },
    {
     "name": "stdout",
     "output_type": "stream",
     "text": [
      "Less than 25 reviews available - skipped\n"
     ]
    },
    {
     "name": "stderr",
     "output_type": "stream",
     "text": [
      "looking for review ids:  40%|███▉      | 806/2020 [3:38:26<5:20:07, 15.82s/movie]"
     ]
    },
    {
     "name": "stdout",
     "output_type": "stream",
     "text": [
      "Less than 25 reviews available - skipped\n"
     ]
    },
    {
     "name": "stderr",
     "output_type": "stream",
     "text": [
      "looking for review ids:  40%|███▉      | 807/2020 [3:38:42<5:20:31, 15.85s/movie]"
     ]
    },
    {
     "name": "stdout",
     "output_type": "stream",
     "text": [
      "Less than 25 reviews available - skipped\n"
     ]
    },
    {
     "name": "stderr",
     "output_type": "stream",
     "text": [
      "looking for review ids:  40%|████      | 808/2020 [3:38:58<5:19:13, 15.80s/movie]"
     ]
    },
    {
     "name": "stdout",
     "output_type": "stream",
     "text": [
      "Less than 25 reviews available - skipped\n"
     ]
    },
    {
     "name": "stderr",
     "output_type": "stream",
     "text": [
      "looking for review ids:  40%|████      | 809/2020 [3:39:13<5:18:24, 15.78s/movie]"
     ]
    },
    {
     "name": "stdout",
     "output_type": "stream",
     "text": [
      "Less than 25 reviews available - skipped\n"
     ]
    },
    {
     "name": "stderr",
     "output_type": "stream",
     "text": [
      "looking for review ids:  40%|████      | 810/2020 [3:39:29<5:18:17, 15.78s/movie]"
     ]
    },
    {
     "name": "stdout",
     "output_type": "stream",
     "text": [
      "Less than 25 reviews available - skipped\n"
     ]
    },
    {
     "name": "stderr",
     "output_type": "stream",
     "text": [
      "looking for review ids:  40%|████      | 811/2020 [3:39:45<5:18:06, 15.79s/movie]"
     ]
    },
    {
     "name": "stdout",
     "output_type": "stream",
     "text": [
      "Less than 25 reviews available - skipped\n"
     ]
    },
    {
     "name": "stderr",
     "output_type": "stream",
     "text": [
      "looking for review ids:  40%|████      | 812/2020 [3:40:01<5:17:06, 15.75s/movie]"
     ]
    },
    {
     "name": "stdout",
     "output_type": "stream",
     "text": [
      "Less than 25 reviews available - skipped\n"
     ]
    },
    {
     "name": "stderr",
     "output_type": "stream",
     "text": [
      "looking for review ids:  40%|████      | 813/2020 [3:40:16<5:17:27, 15.78s/movie]"
     ]
    },
    {
     "name": "stdout",
     "output_type": "stream",
     "text": [
      "Less than 25 reviews available - skipped\n"
     ]
    },
    {
     "name": "stderr",
     "output_type": "stream",
     "text": [
      "looking for review ids:  40%|████      | 814/2020 [3:40:32<5:18:10, 15.83s/movie]"
     ]
    },
    {
     "name": "stdout",
     "output_type": "stream",
     "text": [
      "Less than 25 reviews available - skipped\n"
     ]
    },
    {
     "name": "stderr",
     "output_type": "stream",
     "text": [
      "looking for review ids:  40%|████      | 815/2020 [3:40:48<5:19:14, 15.90s/movie]"
     ]
    },
    {
     "name": "stdout",
     "output_type": "stream",
     "text": [
      "Less than 25 reviews available - skipped\n"
     ]
    },
    {
     "name": "stderr",
     "output_type": "stream",
     "text": [
      "looking for review ids:  40%|████      | 816/2020 [3:41:04<5:17:57, 15.85s/movie]"
     ]
    },
    {
     "name": "stdout",
     "output_type": "stream",
     "text": [
      "Less than 25 reviews available - skipped\n"
     ]
    },
    {
     "name": "stderr",
     "output_type": "stream",
     "text": [
      "looking for review ids:  40%|████      | 817/2020 [3:41:20<5:17:28, 15.83s/movie]"
     ]
    },
    {
     "name": "stdout",
     "output_type": "stream",
     "text": [
      "Less than 25 reviews available - skipped\n"
     ]
    },
    {
     "name": "stderr",
     "output_type": "stream",
     "text": [
      "looking for review ids:  40%|████      | 818/2020 [3:41:36<5:18:50, 15.92s/movie]"
     ]
    },
    {
     "name": "stdout",
     "output_type": "stream",
     "text": [
      "Less than 25 reviews available - skipped\n"
     ]
    },
    {
     "name": "stderr",
     "output_type": "stream",
     "text": [
      "looking for review ids:  41%|████      | 819/2020 [3:41:52<5:18:52, 15.93s/movie]"
     ]
    },
    {
     "name": "stdout",
     "output_type": "stream",
     "text": [
      "Less than 25 reviews available - skipped\n"
     ]
    },
    {
     "name": "stderr",
     "output_type": "stream",
     "text": [
      "looking for review ids:  41%|████      | 820/2020 [3:42:08<5:16:55, 15.85s/movie]"
     ]
    },
    {
     "name": "stdout",
     "output_type": "stream",
     "text": [
      "Less than 25 reviews available - skipped\n"
     ]
    },
    {
     "name": "stderr",
     "output_type": "stream",
     "text": [
      "looking for review ids:  41%|████      | 821/2020 [3:42:23<5:16:19, 15.83s/movie]"
     ]
    },
    {
     "name": "stdout",
     "output_type": "stream",
     "text": [
      "Less than 25 reviews available - skipped\n"
     ]
    },
    {
     "name": "stderr",
     "output_type": "stream",
     "text": [
      "looking for review ids:  41%|████      | 822/2020 [3:42:40<5:18:30, 15.95s/movie]"
     ]
    },
    {
     "name": "stdout",
     "output_type": "stream",
     "text": [
      "Less than 25 reviews available - skipped\n"
     ]
    },
    {
     "name": "stderr",
     "output_type": "stream",
     "text": [
      "looking for review ids:  41%|████      | 823/2020 [3:42:56<5:18:24, 15.96s/movie]"
     ]
    },
    {
     "name": "stdout",
     "output_type": "stream",
     "text": [
      "Less than 25 reviews available - skipped\n"
     ]
    },
    {
     "name": "stderr",
     "output_type": "stream",
     "text": [
      "looking for review ids:  41%|████      | 824/2020 [3:43:12<5:18:47, 15.99s/movie]"
     ]
    },
    {
     "name": "stdout",
     "output_type": "stream",
     "text": [
      "esecuzione interrotta tempo finito\n"
     ]
    },
    {
     "name": "stderr",
     "output_type": "stream",
     "text": [
      "looking for review ids:  41%|████      | 825/2020 [3:43:55<8:01:20, 24.17s/movie]"
     ]
    },
    {
     "name": "stdout",
     "output_type": "stream",
     "text": [
      "Less than 25 reviews available - skipped\n"
     ]
    },
    {
     "name": "stderr",
     "output_type": "stream",
     "text": [
      "looking for review ids:  41%|████      | 826/2020 [3:44:11<7:09:04, 21.56s/movie]"
     ]
    },
    {
     "name": "stdout",
     "output_type": "stream",
     "text": [
      "Less than 25 reviews available - skipped\n"
     ]
    },
    {
     "name": "stderr",
     "output_type": "stream",
     "text": [
      "looking for review ids:  41%|████      | 827/2020 [3:44:26<6:35:13, 19.88s/movie]"
     ]
    },
    {
     "name": "stdout",
     "output_type": "stream",
     "text": [
      "Less than 25 reviews available - skipped\n"
     ]
    },
    {
     "name": "stderr",
     "output_type": "stream",
     "text": [
      "looking for review ids:  41%|████      | 828/2020 [3:44:42<6:09:17, 18.59s/movie]"
     ]
    },
    {
     "name": "stdout",
     "output_type": "stream",
     "text": [
      "Less than 25 reviews available - skipped\n"
     ]
    },
    {
     "name": "stderr",
     "output_type": "stream",
     "text": [
      "looking for review ids:  41%|████      | 829/2020 [3:44:58<5:51:04, 17.69s/movie]"
     ]
    },
    {
     "name": "stdout",
     "output_type": "stream",
     "text": [
      "Less than 25 reviews available - skipped\n"
     ]
    },
    {
     "name": "stderr",
     "output_type": "stream",
     "text": [
      "looking for review ids:  41%|████      | 830/2020 [3:45:13<5:38:15, 17.05s/movie]"
     ]
    },
    {
     "name": "stdout",
     "output_type": "stream",
     "text": [
      "Less than 25 reviews available - skipped\n"
     ]
    },
    {
     "name": "stderr",
     "output_type": "stream",
     "text": [
      "looking for review ids:  41%|████      | 831/2020 [3:45:29<5:30:47, 16.69s/movie]"
     ]
    },
    {
     "name": "stdout",
     "output_type": "stream",
     "text": [
      "Less than 25 reviews available - skipped\n"
     ]
    },
    {
     "name": "stderr",
     "output_type": "stream",
     "text": [
      "looking for review ids:  41%|████      | 832/2020 [3:45:45<5:25:53, 16.46s/movie]"
     ]
    },
    {
     "name": "stdout",
     "output_type": "stream",
     "text": [
      "Less than 25 reviews available - skipped\n"
     ]
    },
    {
     "name": "stderr",
     "output_type": "stream",
     "text": [
      "looking for review ids:  41%|████▏     | 834/2020 [3:46:14<5:04:23, 15.40s/movie]"
     ]
    },
    {
     "name": "stdout",
     "output_type": "stream",
     "text": [
      "Less than 25 reviews available - skipped\n"
     ]
    },
    {
     "name": "stderr",
     "output_type": "stream",
     "text": [
      "looking for review ids:  41%|████▏     | 835/2020 [3:46:30<5:07:23, 15.56s/movie]"
     ]
    },
    {
     "name": "stdout",
     "output_type": "stream",
     "text": [
      "Less than 25 reviews available - skipped\n"
     ]
    },
    {
     "name": "stderr",
     "output_type": "stream",
     "text": [
      "looking for review ids:  41%|████▏     | 836/2020 [3:46:46<5:09:18, 15.67s/movie]"
     ]
    },
    {
     "name": "stdout",
     "output_type": "stream",
     "text": [
      "Less than 25 reviews available - skipped\n"
     ]
    },
    {
     "name": "stderr",
     "output_type": "stream",
     "text": [
      "looking for review ids:  41%|████▏     | 837/2020 [3:47:01<5:07:53, 15.62s/movie]"
     ]
    },
    {
     "name": "stdout",
     "output_type": "stream",
     "text": [
      "Less than 25 reviews available - skipped\n"
     ]
    },
    {
     "name": "stderr",
     "output_type": "stream",
     "text": [
      "looking for review ids:  41%|████▏     | 838/2020 [3:47:17<5:09:23, 15.71s/movie]"
     ]
    },
    {
     "name": "stdout",
     "output_type": "stream",
     "text": [
      "Less than 25 reviews available - skipped\n"
     ]
    },
    {
     "name": "stderr",
     "output_type": "stream",
     "text": [
      "looking for review ids:  42%|████▏     | 839/2020 [3:47:33<5:09:02, 15.70s/movie]"
     ]
    },
    {
     "name": "stdout",
     "output_type": "stream",
     "text": [
      "Less than 25 reviews available - skipped\n"
     ]
    },
    {
     "name": "stderr",
     "output_type": "stream",
     "text": [
      "looking for review ids:  42%|████▏     | 840/2020 [3:47:49<5:09:36, 15.74s/movie]"
     ]
    },
    {
     "name": "stdout",
     "output_type": "stream",
     "text": [
      "Less than 25 reviews available - skipped\n"
     ]
    },
    {
     "name": "stderr",
     "output_type": "stream",
     "text": [
      "looking for review ids:  42%|████▏     | 841/2020 [3:48:04<5:08:05, 15.68s/movie]"
     ]
    },
    {
     "name": "stdout",
     "output_type": "stream",
     "text": [
      "Less than 25 reviews available - skipped\n"
     ]
    },
    {
     "name": "stderr",
     "output_type": "stream",
     "text": [
      "looking for review ids:  42%|████▏     | 842/2020 [3:48:20<5:06:57, 15.63s/movie]"
     ]
    },
    {
     "name": "stdout",
     "output_type": "stream",
     "text": [
      "Less than 25 reviews available - skipped\n"
     ]
    },
    {
     "name": "stderr",
     "output_type": "stream",
     "text": [
      "looking for review ids:  42%|████▏     | 843/2020 [3:48:36<5:07:10, 15.66s/movie]"
     ]
    },
    {
     "name": "stdout",
     "output_type": "stream",
     "text": [
      "Less than 25 reviews available - skipped\n"
     ]
    },
    {
     "name": "stderr",
     "output_type": "stream",
     "text": [
      "looking for review ids:  42%|████▏     | 844/2020 [3:48:52<5:07:55, 15.71s/movie]"
     ]
    },
    {
     "name": "stdout",
     "output_type": "stream",
     "text": [
      "Less than 25 reviews available - skipped\n"
     ]
    },
    {
     "name": "stderr",
     "output_type": "stream",
     "text": [
      "looking for review ids:  42%|████▏     | 845/2020 [3:49:07<5:08:05, 15.73s/movie]"
     ]
    },
    {
     "name": "stdout",
     "output_type": "stream",
     "text": [
      "Less than 25 reviews available - skipped\n"
     ]
    },
    {
     "name": "stderr",
     "output_type": "stream",
     "text": [
      "looking for review ids:  42%|████▏     | 846/2020 [3:49:23<5:08:23, 15.76s/movie]"
     ]
    },
    {
     "name": "stdout",
     "output_type": "stream",
     "text": [
      "Less than 25 reviews available - skipped\n"
     ]
    },
    {
     "name": "stderr",
     "output_type": "stream",
     "text": [
      "looking for review ids:  42%|████▏     | 847/2020 [3:49:39<5:09:13, 15.82s/movie]"
     ]
    },
    {
     "name": "stdout",
     "output_type": "stream",
     "text": [
      "Less than 25 reviews available - skipped\n"
     ]
    },
    {
     "name": "stderr",
     "output_type": "stream",
     "text": [
      "looking for review ids:  42%|████▏     | 848/2020 [3:49:55<5:09:38, 15.85s/movie]"
     ]
    },
    {
     "name": "stdout",
     "output_type": "stream",
     "text": [
      "Less than 25 reviews available - skipped\n"
     ]
    },
    {
     "name": "stderr",
     "output_type": "stream",
     "text": [
      "looking for review ids:  42%|████▏     | 849/2020 [3:50:11<5:09:44, 15.87s/movie]"
     ]
    },
    {
     "name": "stdout",
     "output_type": "stream",
     "text": [
      "Less than 25 reviews available - skipped\n"
     ]
    },
    {
     "name": "stderr",
     "output_type": "stream",
     "text": [
      "looking for review ids:  42%|████▏     | 850/2020 [3:50:27<5:09:20, 15.86s/movie]"
     ]
    },
    {
     "name": "stdout",
     "output_type": "stream",
     "text": [
      "Less than 25 reviews available - skipped\n"
     ]
    },
    {
     "name": "stderr",
     "output_type": "stream",
     "text": [
      "looking for review ids:  42%|████▏     | 851/2020 [3:50:42<5:07:37, 15.79s/movie]"
     ]
    },
    {
     "name": "stdout",
     "output_type": "stream",
     "text": [
      "Less than 25 reviews available - skipped\n"
     ]
    },
    {
     "name": "stderr",
     "output_type": "stream",
     "text": [
      "looking for review ids:  42%|████▏     | 852/2020 [3:50:58<5:08:00, 15.82s/movie]"
     ]
    },
    {
     "name": "stdout",
     "output_type": "stream",
     "text": [
      "Less than 25 reviews available - skipped\n"
     ]
    },
    {
     "name": "stderr",
     "output_type": "stream",
     "text": [
      "looking for review ids:  42%|████▏     | 853/2020 [3:51:14<5:09:14, 15.90s/movie]"
     ]
    },
    {
     "name": "stdout",
     "output_type": "stream",
     "text": [
      "Less than 25 reviews available - skipped\n"
     ]
    },
    {
     "name": "stderr",
     "output_type": "stream",
     "text": [
      "looking for review ids:  42%|████▏     | 854/2020 [3:51:30<5:08:47, 15.89s/movie]"
     ]
    },
    {
     "name": "stdout",
     "output_type": "stream",
     "text": [
      "Less than 25 reviews available - skipped\n"
     ]
    },
    {
     "name": "stderr",
     "output_type": "stream",
     "text": [
      "looking for review ids:  42%|████▏     | 855/2020 [3:51:46<5:07:15, 15.82s/movie]"
     ]
    },
    {
     "name": "stdout",
     "output_type": "stream",
     "text": [
      "Less than 25 reviews available - skipped\n"
     ]
    },
    {
     "name": "stderr",
     "output_type": "stream",
     "text": [
      "looking for review ids:  42%|████▏     | 856/2020 [3:52:02<5:06:41, 15.81s/movie]"
     ]
    },
    {
     "name": "stdout",
     "output_type": "stream",
     "text": [
      "Less than 25 reviews available - skipped\n"
     ]
    },
    {
     "name": "stderr",
     "output_type": "stream",
     "text": [
      "looking for review ids:  42%|████▏     | 857/2020 [3:52:17<5:05:00, 15.74s/movie]"
     ]
    },
    {
     "name": "stdout",
     "output_type": "stream",
     "text": [
      "Less than 25 reviews available - skipped\n"
     ]
    },
    {
     "name": "stderr",
     "output_type": "stream",
     "text": [
      "looking for review ids:  42%|████▏     | 858/2020 [3:52:33<5:05:58, 15.80s/movie]"
     ]
    },
    {
     "name": "stdout",
     "output_type": "stream",
     "text": [
      "Less than 25 reviews available - skipped\n"
     ]
    },
    {
     "name": "stderr",
     "output_type": "stream",
     "text": [
      "looking for review ids:  43%|████▎     | 859/2020 [3:52:49<5:05:42, 15.80s/movie]"
     ]
    },
    {
     "name": "stdout",
     "output_type": "stream",
     "text": [
      "Less than 25 reviews available - skipped\n"
     ]
    },
    {
     "name": "stderr",
     "output_type": "stream",
     "text": [
      "looking for review ids:  43%|████▎     | 861/2020 [3:53:18<4:48:50, 14.95s/movie]"
     ]
    },
    {
     "name": "stdout",
     "output_type": "stream",
     "text": [
      "Less than 25 reviews available - skipped\n"
     ]
    },
    {
     "name": "stderr",
     "output_type": "stream",
     "text": [
      "looking for review ids:  43%|████▎     | 862/2020 [3:53:33<4:53:29, 15.21s/movie]"
     ]
    },
    {
     "name": "stdout",
     "output_type": "stream",
     "text": [
      "Less than 25 reviews available - skipped\n"
     ]
    },
    {
     "name": "stderr",
     "output_type": "stream",
     "text": [
      "looking for review ids:  43%|████▎     | 863/2020 [3:53:49<4:57:04, 15.41s/movie]"
     ]
    },
    {
     "name": "stdout",
     "output_type": "stream",
     "text": [
      "Less than 25 reviews available - skipped\n"
     ]
    },
    {
     "name": "stderr",
     "output_type": "stream",
     "text": [
      "looking for review ids:  43%|████▎     | 864/2020 [3:54:05<4:59:42, 15.56s/movie]"
     ]
    },
    {
     "name": "stdout",
     "output_type": "stream",
     "text": [
      "Less than 25 reviews available - skipped\n"
     ]
    },
    {
     "name": "stderr",
     "output_type": "stream",
     "text": [
      "looking for review ids:  43%|████▎     | 865/2020 [3:54:21<5:01:03, 15.64s/movie]"
     ]
    },
    {
     "name": "stdout",
     "output_type": "stream",
     "text": [
      "Less than 25 reviews available - skipped\n"
     ]
    },
    {
     "name": "stderr",
     "output_type": "stream",
     "text": [
      "looking for review ids:  43%|████▎     | 866/2020 [3:54:37<4:59:53, 15.59s/movie]"
     ]
    },
    {
     "name": "stdout",
     "output_type": "stream",
     "text": [
      "Less than 25 reviews available - skipped\n"
     ]
    },
    {
     "name": "stderr",
     "output_type": "stream",
     "text": [
      "looking for review ids:  43%|████▎     | 867/2020 [3:54:52<5:01:29, 15.69s/movie]"
     ]
    },
    {
     "name": "stdout",
     "output_type": "stream",
     "text": [
      "Less than 25 reviews available - skipped\n"
     ]
    },
    {
     "name": "stderr",
     "output_type": "stream",
     "text": [
      "looking for review ids:  43%|████▎     | 868/2020 [3:55:08<5:02:03, 15.73s/movie]"
     ]
    },
    {
     "name": "stdout",
     "output_type": "stream",
     "text": [
      "Less than 25 reviews available - skipped\n"
     ]
    },
    {
     "name": "stderr",
     "output_type": "stream",
     "text": [
      "looking for review ids:  43%|████▎     | 869/2020 [3:55:24<5:03:08, 15.80s/movie]"
     ]
    },
    {
     "name": "stdout",
     "output_type": "stream",
     "text": [
      "Less than 25 reviews available - skipped\n"
     ]
    },
    {
     "name": "stderr",
     "output_type": "stream",
     "text": [
      "looking for review ids:  43%|████▎     | 870/2020 [3:55:40<5:02:16, 15.77s/movie]"
     ]
    },
    {
     "name": "stdout",
     "output_type": "stream",
     "text": [
      "Less than 25 reviews available - skipped\n"
     ]
    },
    {
     "name": "stderr",
     "output_type": "stream",
     "text": [
      "looking for review ids:  43%|████▎     | 871/2020 [3:55:56<5:03:31, 15.85s/movie]"
     ]
    },
    {
     "name": "stdout",
     "output_type": "stream",
     "text": [
      "Less than 25 reviews available - skipped\n"
     ]
    },
    {
     "name": "stderr",
     "output_type": "stream",
     "text": [
      "looking for review ids:  43%|████▎     | 872/2020 [3:56:12<5:02:00, 15.78s/movie]"
     ]
    },
    {
     "name": "stdout",
     "output_type": "stream",
     "text": [
      "Less than 25 reviews available - skipped\n"
     ]
    },
    {
     "name": "stderr",
     "output_type": "stream",
     "text": [
      "looking for review ids:  43%|████▎     | 873/2020 [3:56:27<5:01:18, 15.76s/movie]"
     ]
    },
    {
     "name": "stdout",
     "output_type": "stream",
     "text": [
      "esecuzione interrotta tempo finito\n"
     ]
    },
    {
     "name": "stderr",
     "output_type": "stream",
     "text": [
      "looking for review ids:  43%|████▎     | 874/2020 [3:57:11<7:38:02, 23.98s/movie]"
     ]
    },
    {
     "name": "stdout",
     "output_type": "stream",
     "text": [
      "Less than 25 reviews available - skipped\n"
     ]
    },
    {
     "name": "stderr",
     "output_type": "stream",
     "text": [
      "looking for review ids:  43%|████▎     | 875/2020 [3:57:26<6:50:30, 21.51s/movie]"
     ]
    },
    {
     "name": "stdout",
     "output_type": "stream",
     "text": [
      "Less than 25 reviews available - skipped\n"
     ]
    },
    {
     "name": "stderr",
     "output_type": "stream",
     "text": [
      "looking for review ids:  43%|████▎     | 876/2020 [3:57:42<6:17:07, 19.78s/movie]"
     ]
    },
    {
     "name": "stdout",
     "output_type": "stream",
     "text": [
      "Less than 25 reviews available - skipped\n"
     ]
    },
    {
     "name": "stderr",
     "output_type": "stream",
     "text": [
      "looking for review ids:  43%|████▎     | 877/2020 [3:57:58<5:52:52, 18.52s/movie]"
     ]
    },
    {
     "name": "stdout",
     "output_type": "stream",
     "text": [
      "Less than 25 reviews available - skipped\n"
     ]
    },
    {
     "name": "stderr",
     "output_type": "stream",
     "text": [
      "looking for review ids:  43%|████▎     | 878/2020 [3:58:13<5:36:02, 17.66s/movie]"
     ]
    },
    {
     "name": "stdout",
     "output_type": "stream",
     "text": [
      "Less than 25 reviews available - skipped\n"
     ]
    },
    {
     "name": "stderr",
     "output_type": "stream",
     "text": [
      "looking for review ids:  44%|████▎     | 880/2020 [3:58:43<5:04:55, 16.05s/movie]"
     ]
    },
    {
     "name": "stdout",
     "output_type": "stream",
     "text": [
      "Less than 25 reviews available - skipped\n"
     ]
    },
    {
     "name": "stderr",
     "output_type": "stream",
     "text": [
      "looking for review ids:  44%|████▎     | 881/2020 [3:58:59<5:03:41, 16.00s/movie]"
     ]
    },
    {
     "name": "stdout",
     "output_type": "stream",
     "text": [
      "esecuzione interrotta tempo finito\n"
     ]
    },
    {
     "name": "stderr",
     "output_type": "stream",
     "text": [
      "looking for review ids:  44%|████▎     | 882/2020 [3:59:41<7:35:59, 24.04s/movie]"
     ]
    },
    {
     "name": "stdout",
     "output_type": "stream",
     "text": [
      "Less than 25 reviews available - skipped\n"
     ]
    },
    {
     "name": "stderr",
     "output_type": "stream",
     "text": [
      "looking for review ids:  44%|████▎     | 883/2020 [3:59:57<6:48:43, 21.57s/movie]"
     ]
    },
    {
     "name": "stdout",
     "output_type": "stream",
     "text": [
      "Less than 25 reviews available - skipped\n"
     ]
    },
    {
     "name": "stderr",
     "output_type": "stream",
     "text": [
      "looking for review ids:  44%|████▍     | 884/2020 [4:00:13<6:15:13, 19.82s/movie]"
     ]
    },
    {
     "name": "stdout",
     "output_type": "stream",
     "text": [
      "Less than 25 reviews available - skipped\n"
     ]
    },
    {
     "name": "stderr",
     "output_type": "stream",
     "text": [
      "looking for review ids:  44%|████▍     | 885/2020 [4:00:29<5:51:30, 18.58s/movie]"
     ]
    },
    {
     "name": "stdout",
     "output_type": "stream",
     "text": [
      "Less than 25 reviews available - skipped\n"
     ]
    },
    {
     "name": "stderr",
     "output_type": "stream",
     "text": [
      "looking for review ids:  44%|████▍     | 886/2020 [4:00:44<5:34:33, 17.70s/movie]"
     ]
    },
    {
     "name": "stdout",
     "output_type": "stream",
     "text": [
      "Less than 25 reviews available - skipped\n"
     ]
    },
    {
     "name": "stderr",
     "output_type": "stream",
     "text": [
      "looking for review ids:  44%|████▍     | 887/2020 [4:01:00<5:23:34, 17.14s/movie]"
     ]
    },
    {
     "name": "stdout",
     "output_type": "stream",
     "text": [
      "Less than 25 reviews available - skipped\n"
     ]
    },
    {
     "name": "stderr",
     "output_type": "stream",
     "text": [
      "looking for review ids:  44%|████▍     | 888/2020 [4:01:16<5:15:03, 16.70s/movie]"
     ]
    },
    {
     "name": "stdout",
     "output_type": "stream",
     "text": [
      "Less than 25 reviews available - skipped\n"
     ]
    },
    {
     "name": "stderr",
     "output_type": "stream",
     "text": [
      "looking for review ids:  44%|████▍     | 889/2020 [4:01:31<5:08:55, 16.39s/movie]"
     ]
    },
    {
     "name": "stdout",
     "output_type": "stream",
     "text": [
      "Less than 25 reviews available - skipped\n"
     ]
    },
    {
     "name": "stderr",
     "output_type": "stream",
     "text": [
      "looking for review ids:  44%|████▍     | 890/2020 [4:01:47<5:06:26, 16.27s/movie]"
     ]
    },
    {
     "name": "stdout",
     "output_type": "stream",
     "text": [
      "Less than 25 reviews available - skipped\n"
     ]
    },
    {
     "name": "stderr",
     "output_type": "stream",
     "text": [
      "looking for review ids:  44%|████▍     | 891/2020 [4:02:03<5:02:39, 16.08s/movie]"
     ]
    },
    {
     "name": "stdout",
     "output_type": "stream",
     "text": [
      "Less than 25 reviews available - skipped\n"
     ]
    },
    {
     "name": "stderr",
     "output_type": "stream",
     "text": [
      "looking for review ids:  44%|████▍     | 892/2020 [4:02:19<5:00:34, 15.99s/movie]"
     ]
    },
    {
     "name": "stdout",
     "output_type": "stream",
     "text": [
      "Less than 25 reviews available - skipped\n"
     ]
    },
    {
     "name": "stderr",
     "output_type": "stream",
     "text": [
      "looking for review ids:  44%|████▍     | 893/2020 [4:02:35<4:59:59, 15.97s/movie]"
     ]
    },
    {
     "name": "stdout",
     "output_type": "stream",
     "text": [
      "Less than 25 reviews available - skipped\n"
     ]
    },
    {
     "name": "stderr",
     "output_type": "stream",
     "text": [
      "looking for review ids:  44%|████▍     | 894/2020 [4:02:51<4:59:42, 15.97s/movie]"
     ]
    },
    {
     "name": "stdout",
     "output_type": "stream",
     "text": [
      "Less than 25 reviews available - skipped\n"
     ]
    },
    {
     "name": "stderr",
     "output_type": "stream",
     "text": [
      "looking for review ids:  44%|████▍     | 895/2020 [4:03:07<4:58:33, 15.92s/movie]"
     ]
    },
    {
     "name": "stdout",
     "output_type": "stream",
     "text": [
      "Less than 25 reviews available - skipped\n"
     ]
    },
    {
     "name": "stderr",
     "output_type": "stream",
     "text": [
      "looking for review ids:  44%|████▍     | 896/2020 [4:03:22<4:57:58, 15.91s/movie]"
     ]
    },
    {
     "name": "stdout",
     "output_type": "stream",
     "text": [
      "Less than 25 reviews available - skipped\n"
     ]
    },
    {
     "name": "stderr",
     "output_type": "stream",
     "text": [
      "looking for review ids:  44%|████▍     | 897/2020 [4:03:38<4:57:10, 15.88s/movie]"
     ]
    },
    {
     "name": "stdout",
     "output_type": "stream",
     "text": [
      "Less than 25 reviews available - skipped\n"
     ]
    },
    {
     "name": "stderr",
     "output_type": "stream",
     "text": [
      "looking for review ids:  44%|████▍     | 898/2020 [4:03:54<4:56:39, 15.86s/movie]"
     ]
    },
    {
     "name": "stdout",
     "output_type": "stream",
     "text": [
      "Less than 25 reviews available - skipped\n"
     ]
    },
    {
     "name": "stderr",
     "output_type": "stream",
     "text": [
      "looking for review ids:  45%|████▍     | 899/2020 [4:04:10<4:56:12, 15.85s/movie]"
     ]
    },
    {
     "name": "stdout",
     "output_type": "stream",
     "text": [
      "Less than 25 reviews available - skipped\n"
     ]
    },
    {
     "name": "stderr",
     "output_type": "stream",
     "text": [
      "looking for review ids:  45%|████▍     | 900/2020 [4:04:26<4:55:54, 15.85s/movie]"
     ]
    },
    {
     "name": "stdout",
     "output_type": "stream",
     "text": [
      "Less than 25 reviews available - skipped\n"
     ]
    },
    {
     "name": "stderr",
     "output_type": "stream",
     "text": [
      "looking for review ids:  45%|████▍     | 901/2020 [4:04:42<4:56:38, 15.91s/movie]"
     ]
    },
    {
     "name": "stdout",
     "output_type": "stream",
     "text": [
      "Less than 25 reviews available - skipped\n"
     ]
    },
    {
     "name": "stderr",
     "output_type": "stream",
     "text": [
      "looking for review ids:  45%|████▍     | 903/2020 [4:05:11<4:40:59, 15.09s/movie]"
     ]
    },
    {
     "name": "stdout",
     "output_type": "stream",
     "text": [
      "Less than 25 reviews available - skipped\n"
     ]
    },
    {
     "name": "stderr",
     "output_type": "stream",
     "text": [
      "looking for review ids:  45%|████▍     | 904/2020 [4:05:27<4:43:55, 15.27s/movie]"
     ]
    },
    {
     "name": "stdout",
     "output_type": "stream",
     "text": [
      "Less than 25 reviews available - skipped\n"
     ]
    },
    {
     "name": "stderr",
     "output_type": "stream",
     "text": [
      "looking for review ids:  45%|████▍     | 905/2020 [4:05:42<4:47:06, 15.45s/movie]"
     ]
    },
    {
     "name": "stdout",
     "output_type": "stream",
     "text": [
      "Less than 25 reviews available - skipped\n"
     ]
    },
    {
     "name": "stderr",
     "output_type": "stream",
     "text": [
      "looking for review ids:  45%|████▍     | 906/2020 [4:05:58<4:49:04, 15.57s/movie]"
     ]
    },
    {
     "name": "stdout",
     "output_type": "stream",
     "text": [
      "Less than 25 reviews available - skipped\n"
     ]
    },
    {
     "name": "stderr",
     "output_type": "stream",
     "text": [
      "looking for review ids:  45%|████▍     | 907/2020 [4:06:14<4:49:54, 15.63s/movie]"
     ]
    },
    {
     "name": "stdout",
     "output_type": "stream",
     "text": [
      "Less than 25 reviews available - skipped\n"
     ]
    },
    {
     "name": "stderr",
     "output_type": "stream",
     "text": [
      "looking for review ids:  45%|████▍     | 908/2020 [4:06:30<4:51:14, 15.71s/movie]"
     ]
    },
    {
     "name": "stdout",
     "output_type": "stream",
     "text": [
      "Less than 25 reviews available - skipped\n"
     ]
    },
    {
     "name": "stderr",
     "output_type": "stream",
     "text": [
      "looking for review ids:  45%|████▌     | 909/2020 [4:06:45<4:49:16, 15.62s/movie]"
     ]
    },
    {
     "name": "stdout",
     "output_type": "stream",
     "text": [
      "Less than 25 reviews available - skipped\n"
     ]
    },
    {
     "name": "stderr",
     "output_type": "stream",
     "text": [
      "looking for review ids:  45%|████▌     | 910/2020 [4:07:01<4:50:17, 15.69s/movie]"
     ]
    },
    {
     "name": "stdout",
     "output_type": "stream",
     "text": [
      "Less than 25 reviews available - skipped\n"
     ]
    },
    {
     "name": "stderr",
     "output_type": "stream",
     "text": [
      "looking for review ids:  45%|████▌     | 911/2020 [4:07:17<4:51:00, 15.74s/movie]"
     ]
    },
    {
     "name": "stdout",
     "output_type": "stream",
     "text": [
      "Less than 25 reviews available - skipped\n"
     ]
    },
    {
     "name": "stderr",
     "output_type": "stream",
     "text": [
      "looking for review ids:  45%|████▌     | 912/2020 [4:07:33<4:49:44, 15.69s/movie]"
     ]
    },
    {
     "name": "stdout",
     "output_type": "stream",
     "text": [
      "Less than 25 reviews available - skipped\n"
     ]
    },
    {
     "name": "stderr",
     "output_type": "stream",
     "text": [
      "looking for review ids:  45%|████▌     | 913/2020 [4:07:48<4:50:20, 15.74s/movie]"
     ]
    },
    {
     "name": "stdout",
     "output_type": "stream",
     "text": [
      "Less than 25 reviews available - skipped\n"
     ]
    },
    {
     "name": "stderr",
     "output_type": "stream",
     "text": [
      "looking for review ids:  45%|████▌     | 914/2020 [4:08:04<4:51:21, 15.81s/movie]"
     ]
    },
    {
     "name": "stdout",
     "output_type": "stream",
     "text": [
      "Less than 25 reviews available - skipped\n"
     ]
    },
    {
     "name": "stderr",
     "output_type": "stream",
     "text": [
      "looking for review ids:  45%|████▌     | 915/2020 [4:08:20<4:51:24, 15.82s/movie]"
     ]
    },
    {
     "name": "stdout",
     "output_type": "stream",
     "text": [
      "Less than 25 reviews available - skipped\n"
     ]
    },
    {
     "name": "stderr",
     "output_type": "stream",
     "text": [
      "looking for review ids:  45%|████▌     | 916/2020 [4:08:36<4:51:56, 15.87s/movie]"
     ]
    },
    {
     "name": "stdout",
     "output_type": "stream",
     "text": [
      "Less than 25 reviews available - skipped\n"
     ]
    },
    {
     "name": "stderr",
     "output_type": "stream",
     "text": [
      "looking for review ids:  45%|████▌     | 917/2020 [4:08:52<4:52:50, 15.93s/movie]"
     ]
    },
    {
     "name": "stdout",
     "output_type": "stream",
     "text": [
      "Less than 25 reviews available - skipped\n"
     ]
    },
    {
     "name": "stderr",
     "output_type": "stream",
     "text": [
      "looking for review ids:  45%|████▌     | 918/2020 [4:09:08<4:52:51, 15.95s/movie]"
     ]
    },
    {
     "name": "stdout",
     "output_type": "stream",
     "text": [
      "Less than 25 reviews available - skipped\n"
     ]
    },
    {
     "name": "stderr",
     "output_type": "stream",
     "text": [
      "looking for review ids:  45%|████▌     | 919/2020 [4:09:25<4:57:00, 16.19s/movie]"
     ]
    },
    {
     "name": "stdout",
     "output_type": "stream",
     "text": [
      "Less than 25 reviews available - skipped\n"
     ]
    },
    {
     "name": "stderr",
     "output_type": "stream",
     "text": [
      "looking for review ids:  46%|████▌     | 920/2020 [4:09:41<4:53:57, 16.03s/movie]"
     ]
    },
    {
     "name": "stdout",
     "output_type": "stream",
     "text": [
      "Less than 25 reviews available - skipped\n"
     ]
    },
    {
     "name": "stderr",
     "output_type": "stream",
     "text": [
      "looking for review ids:  46%|████▌     | 921/2020 [4:09:57<4:52:54, 15.99s/movie]"
     ]
    },
    {
     "name": "stdout",
     "output_type": "stream",
     "text": [
      "Less than 25 reviews available - skipped\n"
     ]
    },
    {
     "name": "stderr",
     "output_type": "stream",
     "text": [
      "looking for review ids:  46%|████▌     | 922/2020 [4:10:12<4:51:48, 15.95s/movie]"
     ]
    },
    {
     "name": "stdout",
     "output_type": "stream",
     "text": [
      "Less than 25 reviews available - skipped\n"
     ]
    },
    {
     "name": "stderr",
     "output_type": "stream",
     "text": [
      "looking for review ids:  46%|████▌     | 923/2020 [4:10:28<4:51:38, 15.95s/movie]"
     ]
    },
    {
     "name": "stdout",
     "output_type": "stream",
     "text": [
      "Less than 25 reviews available - skipped\n"
     ]
    },
    {
     "name": "stderr",
     "output_type": "stream",
     "text": [
      "looking for review ids:  46%|████▌     | 924/2020 [4:10:45<4:52:10, 16.00s/movie]"
     ]
    },
    {
     "name": "stdout",
     "output_type": "stream",
     "text": [
      "Less than 25 reviews available - skipped\n"
     ]
    },
    {
     "name": "stderr",
     "output_type": "stream",
     "text": [
      "looking for review ids:  46%|████▌     | 925/2020 [4:11:01<4:51:55, 16.00s/movie]"
     ]
    },
    {
     "name": "stdout",
     "output_type": "stream",
     "text": [
      "Less than 25 reviews available - skipped\n"
     ]
    },
    {
     "name": "stderr",
     "output_type": "stream",
     "text": [
      "looking for review ids:  46%|████▌     | 926/2020 [4:11:16<4:51:18, 15.98s/movie]"
     ]
    },
    {
     "name": "stdout",
     "output_type": "stream",
     "text": [
      "Less than 25 reviews available - skipped\n"
     ]
    },
    {
     "name": "stderr",
     "output_type": "stream",
     "text": [
      "looking for review ids:  46%|████▌     | 927/2020 [4:11:32<4:51:20, 15.99s/movie]"
     ]
    },
    {
     "name": "stdout",
     "output_type": "stream",
     "text": [
      "Less than 25 reviews available - skipped\n"
     ]
    },
    {
     "name": "stderr",
     "output_type": "stream",
     "text": [
      "looking for review ids:  46%|████▌     | 928/2020 [4:11:48<4:49:54, 15.93s/movie]"
     ]
    },
    {
     "name": "stdout",
     "output_type": "stream",
     "text": [
      "Less than 25 reviews available - skipped\n"
     ]
    },
    {
     "name": "stderr",
     "output_type": "stream",
     "text": [
      "looking for review ids:  46%|████▌     | 929/2020 [4:12:04<4:48:55, 15.89s/movie]"
     ]
    },
    {
     "name": "stdout",
     "output_type": "stream",
     "text": [
      "Less than 25 reviews available - skipped\n"
     ]
    },
    {
     "name": "stderr",
     "output_type": "stream",
     "text": [
      "looking for review ids:  46%|████▌     | 930/2020 [4:12:20<4:47:26, 15.82s/movie]"
     ]
    },
    {
     "name": "stdout",
     "output_type": "stream",
     "text": [
      "Less than 25 reviews available - skipped\n"
     ]
    },
    {
     "name": "stderr",
     "output_type": "stream",
     "text": [
      "looking for review ids:  46%|████▌     | 931/2020 [4:12:36<4:47:08, 15.82s/movie]"
     ]
    },
    {
     "name": "stdout",
     "output_type": "stream",
     "text": [
      "Less than 25 reviews available - skipped\n"
     ]
    },
    {
     "name": "stderr",
     "output_type": "stream",
     "text": [
      "looking for review ids:  46%|████▌     | 932/2020 [4:12:51<4:46:17, 15.79s/movie]"
     ]
    },
    {
     "name": "stdout",
     "output_type": "stream",
     "text": [
      "Less than 25 reviews available - skipped\n"
     ]
    },
    {
     "name": "stderr",
     "output_type": "stream",
     "text": [
      "looking for review ids:  46%|████▌     | 933/2020 [4:13:07<4:45:56, 15.78s/movie]"
     ]
    },
    {
     "name": "stdout",
     "output_type": "stream",
     "text": [
      "Less than 25 reviews available - skipped\n"
     ]
    },
    {
     "name": "stderr",
     "output_type": "stream",
     "text": [
      "looking for review ids:  46%|████▌     | 934/2020 [4:13:23<4:45:10, 15.76s/movie]"
     ]
    },
    {
     "name": "stdout",
     "output_type": "stream",
     "text": [
      "Less than 25 reviews available - skipped\n"
     ]
    },
    {
     "name": "stderr",
     "output_type": "stream",
     "text": [
      "looking for review ids:  46%|████▋     | 935/2020 [4:13:38<4:42:03, 15.60s/movie]"
     ]
    },
    {
     "name": "stdout",
     "output_type": "stream",
     "text": [
      "Less than 25 reviews available - skipped\n"
     ]
    },
    {
     "name": "stderr",
     "output_type": "stream",
     "text": [
      "looking for review ids:  46%|████▋     | 936/2020 [4:13:54<4:44:09, 15.73s/movie]"
     ]
    },
    {
     "name": "stdout",
     "output_type": "stream",
     "text": [
      "Less than 25 reviews available - skipped\n"
     ]
    },
    {
     "name": "stderr",
     "output_type": "stream",
     "text": [
      "looking for review ids:  46%|████▋     | 937/2020 [4:14:09<4:42:38, 15.66s/movie]"
     ]
    },
    {
     "name": "stdout",
     "output_type": "stream",
     "text": [
      "Less than 25 reviews available - skipped\n"
     ]
    },
    {
     "name": "stderr",
     "output_type": "stream",
     "text": [
      "looking for review ids:  46%|████▋     | 938/2020 [4:14:25<4:42:08, 15.65s/movie]"
     ]
    },
    {
     "name": "stdout",
     "output_type": "stream",
     "text": [
      "Less than 25 reviews available - skipped\n"
     ]
    },
    {
     "name": "stderr",
     "output_type": "stream",
     "text": [
      "looking for review ids:  46%|████▋     | 939/2020 [4:14:41<4:42:21, 15.67s/movie]"
     ]
    },
    {
     "name": "stdout",
     "output_type": "stream",
     "text": [
      "Less than 25 reviews available - skipped\n"
     ]
    },
    {
     "name": "stderr",
     "output_type": "stream",
     "text": [
      "looking for review ids:  47%|████▋     | 940/2020 [4:14:57<4:43:39, 15.76s/movie]"
     ]
    },
    {
     "name": "stdout",
     "output_type": "stream",
     "text": [
      "Less than 25 reviews available - skipped\n"
     ]
    },
    {
     "name": "stderr",
     "output_type": "stream",
     "text": [
      "looking for review ids:  47%|████▋     | 941/2020 [4:15:13<4:45:21, 15.87s/movie]"
     ]
    },
    {
     "name": "stdout",
     "output_type": "stream",
     "text": [
      "Less than 25 reviews available - skipped\n"
     ]
    },
    {
     "name": "stderr",
     "output_type": "stream",
     "text": [
      "looking for review ids:  47%|████▋     | 942/2020 [4:15:29<4:45:29, 15.89s/movie]"
     ]
    },
    {
     "name": "stdout",
     "output_type": "stream",
     "text": [
      "Less than 25 reviews available - skipped\n"
     ]
    },
    {
     "name": "stderr",
     "output_type": "stream",
     "text": [
      "looking for review ids:  47%|████▋     | 943/2020 [4:15:45<4:44:00, 15.82s/movie]"
     ]
    },
    {
     "name": "stdout",
     "output_type": "stream",
     "text": [
      "Less than 25 reviews available - skipped\n"
     ]
    },
    {
     "name": "stderr",
     "output_type": "stream",
     "text": [
      "looking for review ids:  47%|████▋     | 944/2020 [4:16:01<4:44:47, 15.88s/movie]"
     ]
    },
    {
     "name": "stdout",
     "output_type": "stream",
     "text": [
      "Less than 25 reviews available - skipped\n"
     ]
    },
    {
     "name": "stderr",
     "output_type": "stream",
     "text": [
      "looking for review ids:  47%|████▋     | 945/2020 [4:16:16<4:44:24, 15.87s/movie]"
     ]
    },
    {
     "name": "stdout",
     "output_type": "stream",
     "text": [
      "Less than 25 reviews available - skipped\n"
     ]
    },
    {
     "name": "stderr",
     "output_type": "stream",
     "text": [
      "looking for review ids:  47%|████▋     | 946/2020 [4:16:32<4:42:13, 15.77s/movie]"
     ]
    },
    {
     "name": "stdout",
     "output_type": "stream",
     "text": [
      "Less than 25 reviews available - skipped\n"
     ]
    },
    {
     "name": "stderr",
     "output_type": "stream",
     "text": [
      "looking for review ids:  47%|████▋     | 948/2020 [4:17:01<4:29:22, 15.08s/movie]"
     ]
    },
    {
     "name": "stdout",
     "output_type": "stream",
     "text": [
      "Less than 25 reviews available - skipped\n"
     ]
    },
    {
     "name": "stderr",
     "output_type": "stream",
     "text": [
      "looking for review ids:  47%|████▋     | 949/2020 [4:17:17<4:33:40, 15.33s/movie]"
     ]
    },
    {
     "name": "stdout",
     "output_type": "stream",
     "text": [
      "Less than 25 reviews available - skipped\n"
     ]
    },
    {
     "name": "stderr",
     "output_type": "stream",
     "text": [
      "looking for review ids:  47%|████▋     | 950/2020 [4:17:33<4:35:02, 15.42s/movie]"
     ]
    },
    {
     "name": "stdout",
     "output_type": "stream",
     "text": [
      "Less than 25 reviews available - skipped\n"
     ]
    },
    {
     "name": "stderr",
     "output_type": "stream",
     "text": [
      "looking for review ids:  47%|████▋     | 951/2020 [4:17:48<4:35:21, 15.45s/movie]"
     ]
    },
    {
     "name": "stdout",
     "output_type": "stream",
     "text": [
      "Less than 25 reviews available - skipped\n"
     ]
    },
    {
     "name": "stderr",
     "output_type": "stream",
     "text": [
      "looking for review ids:  47%|████▋     | 952/2020 [4:18:04<4:38:00, 15.62s/movie]"
     ]
    },
    {
     "name": "stdout",
     "output_type": "stream",
     "text": [
      "Less than 25 reviews available - skipped\n"
     ]
    },
    {
     "name": "stderr",
     "output_type": "stream",
     "text": [
      "looking for review ids:  47%|████▋     | 953/2020 [4:18:20<4:38:25, 15.66s/movie]"
     ]
    },
    {
     "name": "stdout",
     "output_type": "stream",
     "text": [
      "Less than 25 reviews available - skipped\n"
     ]
    },
    {
     "name": "stderr",
     "output_type": "stream",
     "text": [
      "looking for review ids:  47%|████▋     | 954/2020 [4:18:36<4:37:20, 15.61s/movie]"
     ]
    },
    {
     "name": "stdout",
     "output_type": "stream",
     "text": [
      "Less than 25 reviews available - skipped\n"
     ]
    },
    {
     "name": "stderr",
     "output_type": "stream",
     "text": [
      "looking for review ids:  47%|████▋     | 955/2020 [4:18:51<4:36:43, 15.59s/movie]"
     ]
    },
    {
     "name": "stdout",
     "output_type": "stream",
     "text": [
      "Less than 25 reviews available - skipped\n"
     ]
    },
    {
     "name": "stderr",
     "output_type": "stream",
     "text": [
      "looking for review ids:  47%|████▋     | 956/2020 [4:19:07<4:36:36, 15.60s/movie]"
     ]
    },
    {
     "name": "stdout",
     "output_type": "stream",
     "text": [
      "Less than 25 reviews available - skipped\n"
     ]
    },
    {
     "name": "stderr",
     "output_type": "stream",
     "text": [
      "looking for review ids:  47%|████▋     | 957/2020 [4:19:22<4:37:19, 15.65s/movie]"
     ]
    },
    {
     "name": "stdout",
     "output_type": "stream",
     "text": [
      "Less than 25 reviews available - skipped\n"
     ]
    },
    {
     "name": "stderr",
     "output_type": "stream",
     "text": [
      "looking for review ids:  47%|████▋     | 958/2020 [4:19:38<4:37:28, 15.68s/movie]"
     ]
    },
    {
     "name": "stdout",
     "output_type": "stream",
     "text": [
      "Less than 25 reviews available - skipped\n"
     ]
    },
    {
     "name": "stderr",
     "output_type": "stream",
     "text": [
      "looking for review ids:  47%|████▋     | 959/2020 [4:19:54<4:37:09, 15.67s/movie]"
     ]
    },
    {
     "name": "stdout",
     "output_type": "stream",
     "text": [
      "Less than 25 reviews available - skipped\n"
     ]
    },
    {
     "name": "stderr",
     "output_type": "stream",
     "text": [
      "looking for review ids:  48%|████▊     | 961/2020 [4:20:24<4:30:19, 15.32s/movie]"
     ]
    },
    {
     "name": "stdout",
     "output_type": "stream",
     "text": [
      "Less than 25 reviews available - skipped\n"
     ]
    },
    {
     "name": "stderr",
     "output_type": "stream",
     "text": [
      "looking for review ids:  48%|████▊     | 962/2020 [4:20:40<4:32:37, 15.46s/movie]"
     ]
    },
    {
     "name": "stdout",
     "output_type": "stream",
     "text": [
      "Less than 25 reviews available - skipped\n"
     ]
    },
    {
     "name": "stderr",
     "output_type": "stream",
     "text": [
      "looking for review ids:  48%|████▊     | 963/2020 [4:20:56<4:34:03, 15.56s/movie]"
     ]
    },
    {
     "name": "stdout",
     "output_type": "stream",
     "text": [
      "Less than 25 reviews available - skipped\n"
     ]
    },
    {
     "name": "stderr",
     "output_type": "stream",
     "text": [
      "looking for review ids:  48%|████▊     | 964/2020 [4:21:12<4:35:36, 15.66s/movie]"
     ]
    },
    {
     "name": "stdout",
     "output_type": "stream",
     "text": [
      "Less than 25 reviews available - skipped\n"
     ]
    },
    {
     "name": "stderr",
     "output_type": "stream",
     "text": [
      "looking for review ids:  48%|████▊     | 965/2020 [4:21:27<4:35:00, 15.64s/movie]"
     ]
    },
    {
     "name": "stdout",
     "output_type": "stream",
     "text": [
      "Less than 25 reviews available - skipped\n"
     ]
    },
    {
     "name": "stderr",
     "output_type": "stream",
     "text": [
      "looking for review ids:  48%|████▊     | 966/2020 [4:21:43<4:35:19, 15.67s/movie]"
     ]
    },
    {
     "name": "stdout",
     "output_type": "stream",
     "text": [
      "Less than 25 reviews available - skipped\n"
     ]
    },
    {
     "name": "stderr",
     "output_type": "stream",
     "text": [
      "looking for review ids:  48%|████▊     | 967/2020 [4:21:59<4:36:14, 15.74s/movie]"
     ]
    },
    {
     "name": "stdout",
     "output_type": "stream",
     "text": [
      "Less than 25 reviews available - skipped\n"
     ]
    },
    {
     "name": "stderr",
     "output_type": "stream",
     "text": [
      "looking for review ids:  48%|████▊     | 968/2020 [4:22:15<4:37:14, 15.81s/movie]"
     ]
    },
    {
     "name": "stdout",
     "output_type": "stream",
     "text": [
      "Less than 25 reviews available - skipped\n"
     ]
    },
    {
     "name": "stderr",
     "output_type": "stream",
     "text": [
      "looking for review ids:  48%|████▊     | 969/2020 [4:22:31<4:38:02, 15.87s/movie]"
     ]
    },
    {
     "name": "stdout",
     "output_type": "stream",
     "text": [
      "Less than 25 reviews available - skipped\n"
     ]
    },
    {
     "name": "stderr",
     "output_type": "stream",
     "text": [
      "looking for review ids:  48%|████▊     | 971/2020 [4:22:59<4:21:55, 14.98s/movie]"
     ]
    },
    {
     "name": "stdout",
     "output_type": "stream",
     "text": [
      "Less than 25 reviews available - skipped\n"
     ]
    },
    {
     "name": "stderr",
     "output_type": "stream",
     "text": [
      "looking for review ids:  48%|████▊     | 972/2020 [4:23:15<4:26:13, 15.24s/movie]"
     ]
    },
    {
     "name": "stdout",
     "output_type": "stream",
     "text": [
      "Less than 25 reviews available - skipped\n"
     ]
    },
    {
     "name": "stderr",
     "output_type": "stream",
     "text": [
      "looking for review ids:  48%|████▊     | 973/2020 [4:23:31<4:29:03, 15.42s/movie]"
     ]
    },
    {
     "name": "stdout",
     "output_type": "stream",
     "text": [
      "Less than 25 reviews available - skipped\n"
     ]
    },
    {
     "name": "stderr",
     "output_type": "stream",
     "text": [
      "looking for review ids:  48%|████▊     | 974/2020 [4:23:47<4:31:38, 15.58s/movie]"
     ]
    },
    {
     "name": "stdout",
     "output_type": "stream",
     "text": [
      "Less than 25 reviews available - skipped\n"
     ]
    },
    {
     "name": "stderr",
     "output_type": "stream",
     "text": [
      "looking for review ids:  48%|████▊     | 975/2020 [4:24:03<4:31:12, 15.57s/movie]"
     ]
    },
    {
     "name": "stdout",
     "output_type": "stream",
     "text": [
      "Less than 25 reviews available - skipped\n"
     ]
    },
    {
     "name": "stderr",
     "output_type": "stream",
     "text": [
      "looking for review ids:  48%|████▊     | 976/2020 [4:24:18<4:31:26, 15.60s/movie]"
     ]
    },
    {
     "name": "stdout",
     "output_type": "stream",
     "text": [
      "Less than 25 reviews available - skipped\n"
     ]
    },
    {
     "name": "stderr",
     "output_type": "stream",
     "text": [
      "looking for review ids:  48%|████▊     | 977/2020 [4:24:34<4:30:18, 15.55s/movie]"
     ]
    },
    {
     "name": "stdout",
     "output_type": "stream",
     "text": [
      "Less than 25 reviews available - skipped\n"
     ]
    },
    {
     "name": "stderr",
     "output_type": "stream",
     "text": [
      "looking for review ids:  48%|████▊     | 978/2020 [4:24:50<4:31:51, 15.65s/movie]"
     ]
    },
    {
     "name": "stdout",
     "output_type": "stream",
     "text": [
      "Less than 25 reviews available - skipped\n"
     ]
    },
    {
     "name": "stderr",
     "output_type": "stream",
     "text": [
      "looking for review ids:  48%|████▊     | 979/2020 [4:25:05<4:31:59, 15.68s/movie]"
     ]
    },
    {
     "name": "stdout",
     "output_type": "stream",
     "text": [
      "Less than 25 reviews available - skipped\n"
     ]
    },
    {
     "name": "stderr",
     "output_type": "stream",
     "text": [
      "looking for review ids:  49%|████▊     | 980/2020 [4:25:21<4:32:37, 15.73s/movie]"
     ]
    },
    {
     "name": "stdout",
     "output_type": "stream",
     "text": [
      "Less than 25 reviews available - skipped\n"
     ]
    },
    {
     "name": "stderr",
     "output_type": "stream",
     "text": [
      "looking for review ids:  49%|████▊     | 981/2020 [4:25:37<4:32:22, 15.73s/movie]"
     ]
    },
    {
     "name": "stdout",
     "output_type": "stream",
     "text": [
      "Less than 25 reviews available - skipped\n"
     ]
    },
    {
     "name": "stderr",
     "output_type": "stream",
     "text": [
      "looking for review ids:  49%|████▊     | 982/2020 [4:25:53<4:33:14, 15.79s/movie]"
     ]
    },
    {
     "name": "stdout",
     "output_type": "stream",
     "text": [
      "Less than 25 reviews available - skipped\n"
     ]
    },
    {
     "name": "stderr",
     "output_type": "stream",
     "text": [
      "looking for review ids:  49%|████▊     | 983/2020 [4:26:09<4:33:36, 15.83s/movie]"
     ]
    },
    {
     "name": "stdout",
     "output_type": "stream",
     "text": [
      "Less than 25 reviews available - skipped\n"
     ]
    },
    {
     "name": "stderr",
     "output_type": "stream",
     "text": [
      "looking for review ids:  49%|████▊     | 984/2020 [4:26:25<4:34:13, 15.88s/movie]"
     ]
    },
    {
     "name": "stdout",
     "output_type": "stream",
     "text": [
      "Less than 25 reviews available - skipped\n"
     ]
    },
    {
     "name": "stderr",
     "output_type": "stream",
     "text": [
      "looking for review ids:  49%|████▉     | 985/2020 [4:26:41<4:33:30, 15.86s/movie]"
     ]
    },
    {
     "name": "stdout",
     "output_type": "stream",
     "text": [
      "Less than 25 reviews available - skipped\n"
     ]
    },
    {
     "name": "stderr",
     "output_type": "stream",
     "text": [
      "looking for review ids:  49%|████▉     | 986/2020 [4:26:56<4:33:33, 15.87s/movie]"
     ]
    },
    {
     "name": "stdout",
     "output_type": "stream",
     "text": [
      "Less than 25 reviews available - skipped\n"
     ]
    },
    {
     "name": "stderr",
     "output_type": "stream",
     "text": [
      "looking for review ids:  49%|████▉     | 987/2020 [4:27:12<4:32:22, 15.82s/movie]"
     ]
    },
    {
     "name": "stdout",
     "output_type": "stream",
     "text": [
      "Less than 25 reviews available - skipped\n"
     ]
    },
    {
     "name": "stderr",
     "output_type": "stream",
     "text": [
      "looking for review ids:  49%|████▉     | 988/2020 [4:27:28<4:30:47, 15.74s/movie]"
     ]
    },
    {
     "name": "stdout",
     "output_type": "stream",
     "text": [
      "Less than 25 reviews available - skipped\n"
     ]
    },
    {
     "name": "stderr",
     "output_type": "stream",
     "text": [
      "looking for review ids:  49%|████▉     | 989/2020 [4:27:43<4:30:11, 15.72s/movie]"
     ]
    },
    {
     "name": "stdout",
     "output_type": "stream",
     "text": [
      "Less than 25 reviews available - skipped\n"
     ]
    },
    {
     "name": "stderr",
     "output_type": "stream",
     "text": [
      "looking for review ids:  49%|████▉     | 990/2020 [4:27:59<4:29:25, 15.69s/movie]"
     ]
    },
    {
     "name": "stdout",
     "output_type": "stream",
     "text": [
      "Less than 25 reviews available - skipped\n"
     ]
    },
    {
     "name": "stderr",
     "output_type": "stream",
     "text": [
      "looking for review ids:  49%|████▉     | 991/2020 [4:28:15<4:29:44, 15.73s/movie]"
     ]
    },
    {
     "name": "stdout",
     "output_type": "stream",
     "text": [
      "Less than 25 reviews available - skipped\n"
     ]
    },
    {
     "name": "stderr",
     "output_type": "stream",
     "text": [
      "looking for review ids:  49%|████▉     | 992/2020 [4:28:31<4:30:51, 15.81s/movie]"
     ]
    },
    {
     "name": "stdout",
     "output_type": "stream",
     "text": [
      "Less than 25 reviews available - skipped\n"
     ]
    },
    {
     "name": "stderr",
     "output_type": "stream",
     "text": [
      "looking for review ids:  49%|████▉     | 993/2020 [4:28:47<4:31:08, 15.84s/movie]"
     ]
    },
    {
     "name": "stdout",
     "output_type": "stream",
     "text": [
      "Less than 25 reviews available - skipped\n"
     ]
    },
    {
     "name": "stderr",
     "output_type": "stream",
     "text": [
      "looking for review ids:  49%|████▉     | 994/2020 [4:29:03<4:31:18, 15.87s/movie]"
     ]
    },
    {
     "name": "stdout",
     "output_type": "stream",
     "text": [
      "Less than 25 reviews available - skipped\n"
     ]
    },
    {
     "name": "stderr",
     "output_type": "stream",
     "text": [
      "looking for review ids:  49%|████▉     | 995/2020 [4:29:19<4:31:09, 15.87s/movie]"
     ]
    },
    {
     "name": "stdout",
     "output_type": "stream",
     "text": [
      "Less than 25 reviews available - skipped\n"
     ]
    },
    {
     "name": "stderr",
     "output_type": "stream",
     "text": [
      "looking for review ids:  49%|████▉     | 996/2020 [4:29:35<4:31:37, 15.92s/movie]"
     ]
    },
    {
     "name": "stdout",
     "output_type": "stream",
     "text": [
      "Less than 25 reviews available - skipped\n"
     ]
    },
    {
     "name": "stderr",
     "output_type": "stream",
     "text": [
      "looking for review ids:  49%|████▉     | 997/2020 [4:29:51<4:31:29, 15.92s/movie]"
     ]
    },
    {
     "name": "stdout",
     "output_type": "stream",
     "text": [
      "Less than 25 reviews available - skipped\n"
     ]
    },
    {
     "name": "stderr",
     "output_type": "stream",
     "text": [
      "looking for review ids:  49%|████▉     | 998/2020 [4:30:06<4:29:21, 15.81s/movie]"
     ]
    },
    {
     "name": "stdout",
     "output_type": "stream",
     "text": [
      "Less than 25 reviews available - skipped\n"
     ]
    },
    {
     "name": "stderr",
     "output_type": "stream",
     "text": [
      "looking for review ids:  49%|████▉     | 999/2020 [4:30:22<4:29:14, 15.82s/movie]"
     ]
    },
    {
     "name": "stdout",
     "output_type": "stream",
     "text": [
      "Less than 25 reviews available - skipped\n"
     ]
    },
    {
     "name": "stderr",
     "output_type": "stream",
     "text": [
      "looking for review ids:  50%|████▉     | 1000/2020 [4:30:38<4:29:07, 15.83s/movie]"
     ]
    },
    {
     "name": "stdout",
     "output_type": "stream",
     "text": [
      "Less than 25 reviews available - skipped\n"
     ]
    },
    {
     "name": "stderr",
     "output_type": "stream",
     "text": [
      "looking for review ids:  50%|████▉     | 1002/2020 [4:31:06<4:13:04, 14.92s/movie]"
     ]
    },
    {
     "name": "stdout",
     "output_type": "stream",
     "text": [
      "Less than 25 reviews available - skipped\n"
     ]
    },
    {
     "name": "stderr",
     "output_type": "stream",
     "text": [
      "looking for review ids:  50%|████▉     | 1003/2020 [4:31:22<4:16:57, 15.16s/movie]"
     ]
    },
    {
     "name": "stdout",
     "output_type": "stream",
     "text": [
      "Less than 25 reviews available - skipped\n"
     ]
    },
    {
     "name": "stderr",
     "output_type": "stream",
     "text": [
      "looking for review ids:  50%|████▉     | 1004/2020 [4:31:38<4:20:17, 15.37s/movie]"
     ]
    },
    {
     "name": "stdout",
     "output_type": "stream",
     "text": [
      "Less than 25 reviews available - skipped\n"
     ]
    },
    {
     "name": "stderr",
     "output_type": "stream",
     "text": [
      "looking for review ids:  50%|████▉     | 1005/2020 [4:31:54<4:23:07, 15.55s/movie]"
     ]
    },
    {
     "name": "stdout",
     "output_type": "stream",
     "text": [
      "Less than 25 reviews available - skipped\n"
     ]
    },
    {
     "name": "stderr",
     "output_type": "stream",
     "text": [
      "looking for review ids:  50%|████▉     | 1006/2020 [4:32:10<4:25:38, 15.72s/movie]"
     ]
    },
    {
     "name": "stdout",
     "output_type": "stream",
     "text": [
      "Less than 25 reviews available - skipped\n"
     ]
    },
    {
     "name": "stderr",
     "output_type": "stream",
     "text": [
      "looking for review ids:  50%|████▉     | 1007/2020 [4:32:26<4:26:46, 15.80s/movie]"
     ]
    },
    {
     "name": "stdout",
     "output_type": "stream",
     "text": [
      "Less than 25 reviews available - skipped\n"
     ]
    },
    {
     "name": "stderr",
     "output_type": "stream",
     "text": [
      "looking for review ids:  50%|████▉     | 1008/2020 [4:32:42<4:25:54, 15.77s/movie]"
     ]
    },
    {
     "name": "stdout",
     "output_type": "stream",
     "text": [
      "Less than 25 reviews available - skipped\n"
     ]
    },
    {
     "name": "stderr",
     "output_type": "stream",
     "text": [
      "looking for review ids:  50%|████▉     | 1009/2020 [4:32:57<4:25:03, 15.73s/movie]"
     ]
    },
    {
     "name": "stdout",
     "output_type": "stream",
     "text": [
      "Less than 25 reviews available - skipped\n"
     ]
    },
    {
     "name": "stderr",
     "output_type": "stream",
     "text": [
      "looking for review ids:  50%|█████     | 1010/2020 [4:33:13<4:24:16, 15.70s/movie]"
     ]
    },
    {
     "name": "stdout",
     "output_type": "stream",
     "text": [
      "Less than 25 reviews available - skipped\n"
     ]
    },
    {
     "name": "stderr",
     "output_type": "stream",
     "text": [
      "looking for review ids:  50%|█████     | 1011/2020 [4:33:29<4:24:37, 15.74s/movie]"
     ]
    },
    {
     "name": "stdout",
     "output_type": "stream",
     "text": [
      "Less than 25 reviews available - skipped\n"
     ]
    },
    {
     "name": "stderr",
     "output_type": "stream",
     "text": [
      "looking for review ids:  50%|█████     | 1012/2020 [4:33:45<4:24:59, 15.77s/movie]"
     ]
    },
    {
     "name": "stdout",
     "output_type": "stream",
     "text": [
      "Less than 25 reviews available - skipped\n"
     ]
    },
    {
     "name": "stderr",
     "output_type": "stream",
     "text": [
      "looking for review ids:  50%|█████     | 1013/2020 [4:34:00<4:24:25, 15.76s/movie]"
     ]
    },
    {
     "name": "stdout",
     "output_type": "stream",
     "text": [
      "Less than 25 reviews available - skipped\n"
     ]
    },
    {
     "name": "stderr",
     "output_type": "stream",
     "text": [
      "looking for review ids:  50%|█████     | 1014/2020 [4:34:16<4:24:18, 15.76s/movie]"
     ]
    },
    {
     "name": "stdout",
     "output_type": "stream",
     "text": [
      "Less than 25 reviews available - skipped\n"
     ]
    },
    {
     "name": "stderr",
     "output_type": "stream",
     "text": [
      "looking for review ids:  50%|█████     | 1015/2020 [4:34:32<4:23:07, 15.71s/movie]"
     ]
    },
    {
     "name": "stdout",
     "output_type": "stream",
     "text": [
      "Less than 25 reviews available - skipped\n"
     ]
    },
    {
     "name": "stderr",
     "output_type": "stream",
     "text": [
      "looking for review ids:  50%|█████     | 1017/2020 [4:35:01<4:10:00, 14.96s/movie]"
     ]
    },
    {
     "name": "stdout",
     "output_type": "stream",
     "text": [
      "Less than 25 reviews available - skipped\n"
     ]
    },
    {
     "name": "stderr",
     "output_type": "stream",
     "text": [
      "looking for review ids:  50%|█████     | 1018/2020 [4:35:16<4:14:24, 15.23s/movie]"
     ]
    },
    {
     "name": "stdout",
     "output_type": "stream",
     "text": [
      "Less than 25 reviews available - skipped\n"
     ]
    },
    {
     "name": "stderr",
     "output_type": "stream",
     "text": [
      "looking for review ids:  50%|█████     | 1019/2020 [4:35:32<4:14:48, 15.27s/movie]"
     ]
    },
    {
     "name": "stdout",
     "output_type": "stream",
     "text": [
      "Less than 25 reviews available - skipped\n"
     ]
    },
    {
     "name": "stderr",
     "output_type": "stream",
     "text": [
      "looking for review ids:  50%|█████     | 1020/2020 [4:35:48<4:16:50, 15.41s/movie]"
     ]
    },
    {
     "name": "stdout",
     "output_type": "stream",
     "text": [
      "Less than 25 reviews available - skipped\n"
     ]
    },
    {
     "name": "stderr",
     "output_type": "stream",
     "text": [
      "looking for review ids:  51%|█████     | 1021/2020 [4:36:03<4:18:41, 15.54s/movie]"
     ]
    },
    {
     "name": "stdout",
     "output_type": "stream",
     "text": [
      "Less than 25 reviews available - skipped\n"
     ]
    },
    {
     "name": "stderr",
     "output_type": "stream",
     "text": [
      "looking for review ids:  51%|█████     | 1022/2020 [4:36:19<4:19:54, 15.63s/movie]"
     ]
    },
    {
     "name": "stdout",
     "output_type": "stream",
     "text": [
      "Less than 25 reviews available - skipped\n"
     ]
    },
    {
     "name": "stderr",
     "output_type": "stream",
     "text": [
      "looking for review ids:  51%|█████     | 1023/2020 [4:36:35<4:19:55, 15.64s/movie]"
     ]
    },
    {
     "name": "stdout",
     "output_type": "stream",
     "text": [
      "Less than 25 reviews available - skipped\n"
     ]
    },
    {
     "name": "stderr",
     "output_type": "stream",
     "text": [
      "looking for review ids:  51%|█████     | 1024/2020 [4:36:51<4:22:15, 15.80s/movie]"
     ]
    },
    {
     "name": "stdout",
     "output_type": "stream",
     "text": [
      "Less than 25 reviews available - skipped\n"
     ]
    },
    {
     "name": "stderr",
     "output_type": "stream",
     "text": [
      "looking for review ids:  51%|█████     | 1025/2020 [4:37:07<4:21:19, 15.76s/movie]"
     ]
    },
    {
     "name": "stdout",
     "output_type": "stream",
     "text": [
      "Less than 25 reviews available - skipped\n"
     ]
    },
    {
     "name": "stderr",
     "output_type": "stream",
     "text": [
      "looking for review ids:  51%|█████     | 1026/2020 [4:37:22<4:20:56, 15.75s/movie]"
     ]
    },
    {
     "name": "stdout",
     "output_type": "stream",
     "text": [
      "Less than 25 reviews available - skipped\n"
     ]
    },
    {
     "name": "stderr",
     "output_type": "stream",
     "text": [
      "looking for review ids:  51%|█████     | 1027/2020 [4:37:38<4:21:08, 15.78s/movie]"
     ]
    },
    {
     "name": "stdout",
     "output_type": "stream",
     "text": [
      "Less than 25 reviews available - skipped\n"
     ]
    },
    {
     "name": "stderr",
     "output_type": "stream",
     "text": [
      "looking for review ids:  51%|█████     | 1028/2020 [4:37:54<4:21:03, 15.79s/movie]"
     ]
    },
    {
     "name": "stdout",
     "output_type": "stream",
     "text": [
      "Less than 25 reviews available - skipped\n"
     ]
    },
    {
     "name": "stderr",
     "output_type": "stream",
     "text": [
      "looking for review ids:  51%|█████     | 1029/2020 [4:38:10<4:19:41, 15.72s/movie]"
     ]
    },
    {
     "name": "stdout",
     "output_type": "stream",
     "text": [
      "Less than 25 reviews available - skipped\n"
     ]
    },
    {
     "name": "stderr",
     "output_type": "stream",
     "text": [
      "looking for review ids:  51%|█████     | 1030/2020 [4:38:25<4:19:01, 15.70s/movie]"
     ]
    },
    {
     "name": "stdout",
     "output_type": "stream",
     "text": [
      "Less than 25 reviews available - skipped\n"
     ]
    },
    {
     "name": "stderr",
     "output_type": "stream",
     "text": [
      "looking for review ids:  51%|█████     | 1032/2020 [4:38:55<4:08:02, 15.06s/movie]"
     ]
    },
    {
     "name": "stdout",
     "output_type": "stream",
     "text": [
      "Less than 25 reviews available - skipped\n"
     ]
    },
    {
     "name": "stderr",
     "output_type": "stream",
     "text": [
      "looking for review ids:  51%|█████     | 1033/2020 [4:39:10<4:10:55, 15.25s/movie]"
     ]
    },
    {
     "name": "stdout",
     "output_type": "stream",
     "text": [
      "Less than 25 reviews available - skipped\n"
     ]
    },
    {
     "name": "stderr",
     "output_type": "stream",
     "text": [
      "looking for review ids:  51%|█████     | 1034/2020 [4:39:26<4:13:21, 15.42s/movie]"
     ]
    },
    {
     "name": "stdout",
     "output_type": "stream",
     "text": [
      "Less than 25 reviews available - skipped\n"
     ]
    },
    {
     "name": "stderr",
     "output_type": "stream",
     "text": [
      "looking for review ids:  51%|█████     | 1035/2020 [4:39:42<4:13:37, 15.45s/movie]"
     ]
    },
    {
     "name": "stdout",
     "output_type": "stream",
     "text": [
      "Less than 25 reviews available - skipped\n"
     ]
    },
    {
     "name": "stderr",
     "output_type": "stream",
     "text": [
      "looking for review ids:  51%|█████▏    | 1036/2020 [4:39:58<4:16:05, 15.62s/movie]"
     ]
    },
    {
     "name": "stdout",
     "output_type": "stream",
     "text": [
      "Less than 25 reviews available - skipped\n"
     ]
    },
    {
     "name": "stderr",
     "output_type": "stream",
     "text": [
      "looking for review ids:  51%|█████▏    | 1037/2020 [4:40:13<4:15:15, 15.58s/movie]"
     ]
    },
    {
     "name": "stdout",
     "output_type": "stream",
     "text": [
      "Less than 25 reviews available - skipped\n"
     ]
    },
    {
     "name": "stderr",
     "output_type": "stream",
     "text": [
      "looking for review ids:  51%|█████▏    | 1038/2020 [4:40:29<4:13:56, 15.52s/movie]"
     ]
    },
    {
     "name": "stdout",
     "output_type": "stream",
     "text": [
      "Less than 25 reviews available - skipped\n"
     ]
    },
    {
     "name": "stderr",
     "output_type": "stream",
     "text": [
      "looking for review ids:  51%|█████▏    | 1039/2020 [4:40:44<4:13:40, 15.52s/movie]"
     ]
    },
    {
     "name": "stdout",
     "output_type": "stream",
     "text": [
      "Less than 25 reviews available - skipped\n"
     ]
    },
    {
     "name": "stderr",
     "output_type": "stream",
     "text": [
      "looking for review ids:  51%|█████▏    | 1040/2020 [4:41:00<4:15:02, 15.61s/movie]"
     ]
    },
    {
     "name": "stdout",
     "output_type": "stream",
     "text": [
      "Less than 25 reviews available - skipped\n"
     ]
    },
    {
     "name": "stderr",
     "output_type": "stream",
     "text": [
      "looking for review ids:  52%|█████▏    | 1041/2020 [4:41:16<4:16:20, 15.71s/movie]"
     ]
    },
    {
     "name": "stdout",
     "output_type": "stream",
     "text": [
      "Less than 25 reviews available - skipped\n"
     ]
    },
    {
     "name": "stderr",
     "output_type": "stream",
     "text": [
      "looking for review ids:  52%|█████▏    | 1043/2020 [4:41:46<4:07:10, 15.18s/movie]"
     ]
    },
    {
     "name": "stdout",
     "output_type": "stream",
     "text": [
      "Less than 25 reviews available - skipped\n"
     ]
    },
    {
     "name": "stderr",
     "output_type": "stream",
     "text": [
      "looking for review ids:  52%|█████▏    | 1044/2020 [4:42:01<4:09:07, 15.31s/movie]"
     ]
    },
    {
     "name": "stdout",
     "output_type": "stream",
     "text": [
      "Less than 25 reviews available - skipped\n"
     ]
    },
    {
     "name": "stderr",
     "output_type": "stream",
     "text": [
      "looking for review ids:  52%|█████▏    | 1045/2020 [4:42:17<4:11:42, 15.49s/movie]"
     ]
    },
    {
     "name": "stdout",
     "output_type": "stream",
     "text": [
      "Less than 25 reviews available - skipped\n"
     ]
    },
    {
     "name": "stderr",
     "output_type": "stream",
     "text": [
      "looking for review ids:  52%|█████▏    | 1046/2020 [4:42:33<4:12:11, 15.54s/movie]"
     ]
    },
    {
     "name": "stdout",
     "output_type": "stream",
     "text": [
      "Less than 25 reviews available - skipped\n"
     ]
    },
    {
     "name": "stderr",
     "output_type": "stream",
     "text": [
      "looking for review ids:  52%|█████▏    | 1047/2020 [4:42:49<4:13:42, 15.65s/movie]"
     ]
    },
    {
     "name": "stdout",
     "output_type": "stream",
     "text": [
      "Less than 25 reviews available - skipped\n"
     ]
    },
    {
     "name": "stderr",
     "output_type": "stream",
     "text": [
      "looking for review ids:  52%|█████▏    | 1048/2020 [4:43:04<4:13:09, 15.63s/movie]"
     ]
    },
    {
     "name": "stdout",
     "output_type": "stream",
     "text": [
      "Less than 25 reviews available - skipped\n"
     ]
    },
    {
     "name": "stderr",
     "output_type": "stream",
     "text": [
      "looking for review ids:  52%|█████▏    | 1049/2020 [4:43:20<4:13:48, 15.68s/movie]"
     ]
    },
    {
     "name": "stdout",
     "output_type": "stream",
     "text": [
      "Less than 25 reviews available - skipped\n"
     ]
    },
    {
     "name": "stderr",
     "output_type": "stream",
     "text": [
      "looking for review ids:  52%|█████▏    | 1050/2020 [4:43:36<4:13:46, 15.70s/movie]"
     ]
    },
    {
     "name": "stdout",
     "output_type": "stream",
     "text": [
      "Less than 25 reviews available - skipped\n"
     ]
    },
    {
     "name": "stderr",
     "output_type": "stream",
     "text": [
      "looking for review ids:  52%|█████▏    | 1051/2020 [4:43:52<4:13:58, 15.73s/movie]"
     ]
    },
    {
     "name": "stdout",
     "output_type": "stream",
     "text": [
      "Less than 25 reviews available - skipped\n"
     ]
    },
    {
     "name": "stderr",
     "output_type": "stream",
     "text": [
      "looking for review ids:  52%|█████▏    | 1052/2020 [4:44:07<4:14:00, 15.74s/movie]"
     ]
    },
    {
     "name": "stdout",
     "output_type": "stream",
     "text": [
      "Less than 25 reviews available - skipped\n"
     ]
    },
    {
     "name": "stderr",
     "output_type": "stream",
     "text": [
      "looking for review ids:  52%|█████▏    | 1053/2020 [4:44:23<4:14:14, 15.77s/movie]"
     ]
    },
    {
     "name": "stdout",
     "output_type": "stream",
     "text": [
      "Less than 25 reviews available - skipped\n"
     ]
    },
    {
     "name": "stderr",
     "output_type": "stream",
     "text": [
      "looking for review ids:  52%|█████▏    | 1054/2020 [4:44:39<4:15:23, 15.86s/movie]"
     ]
    },
    {
     "name": "stdout",
     "output_type": "stream",
     "text": [
      "Less than 25 reviews available - skipped\n"
     ]
    },
    {
     "name": "stderr",
     "output_type": "stream",
     "text": [
      "looking for review ids:  52%|█████▏    | 1055/2020 [4:44:55<4:14:34, 15.83s/movie]"
     ]
    },
    {
     "name": "stdout",
     "output_type": "stream",
     "text": [
      "Less than 25 reviews available - skipped\n"
     ]
    },
    {
     "name": "stderr",
     "output_type": "stream",
     "text": [
      "looking for review ids:  52%|█████▏    | 1057/2020 [4:45:24<4:00:44, 15.00s/movie]"
     ]
    },
    {
     "name": "stdout",
     "output_type": "stream",
     "text": [
      "Less than 25 reviews available - skipped\n"
     ]
    },
    {
     "name": "stderr",
     "output_type": "stream",
     "text": [
      "looking for review ids:  52%|█████▏    | 1058/2020 [4:45:39<4:03:08, 15.16s/movie]"
     ]
    },
    {
     "name": "stdout",
     "output_type": "stream",
     "text": [
      "Less than 25 reviews available - skipped\n"
     ]
    },
    {
     "name": "stderr",
     "output_type": "stream",
     "text": [
      "looking for review ids:  52%|█████▏    | 1059/2020 [4:45:55<4:05:21, 15.32s/movie]"
     ]
    },
    {
     "name": "stdout",
     "output_type": "stream",
     "text": [
      "Less than 25 reviews available - skipped\n"
     ]
    },
    {
     "name": "stderr",
     "output_type": "stream",
     "text": [
      "looking for review ids:  52%|█████▏    | 1060/2020 [4:46:11<4:08:17, 15.52s/movie]"
     ]
    },
    {
     "name": "stdout",
     "output_type": "stream",
     "text": [
      "Less than 25 reviews available - skipped\n"
     ]
    },
    {
     "name": "stderr",
     "output_type": "stream",
     "text": [
      "looking for review ids:  53%|█████▎    | 1061/2020 [4:46:27<4:10:00, 15.64s/movie]"
     ]
    },
    {
     "name": "stdout",
     "output_type": "stream",
     "text": [
      "Less than 25 reviews available - skipped\n"
     ]
    },
    {
     "name": "stderr",
     "output_type": "stream",
     "text": [
      "looking for review ids:  53%|█████▎    | 1062/2020 [4:46:43<4:11:03, 15.72s/movie]"
     ]
    },
    {
     "name": "stdout",
     "output_type": "stream",
     "text": [
      "Less than 25 reviews available - skipped\n"
     ]
    },
    {
     "name": "stderr",
     "output_type": "stream",
     "text": [
      "looking for review ids:  53%|█████▎    | 1063/2020 [4:46:58<4:09:46, 15.66s/movie]"
     ]
    },
    {
     "name": "stdout",
     "output_type": "stream",
     "text": [
      "Less than 25 reviews available - skipped\n"
     ]
    },
    {
     "name": "stderr",
     "output_type": "stream",
     "text": [
      "looking for review ids:  53%|█████▎    | 1064/2020 [4:47:14<4:09:52, 15.68s/movie]"
     ]
    },
    {
     "name": "stdout",
     "output_type": "stream",
     "text": [
      "Less than 25 reviews available - skipped\n"
     ]
    },
    {
     "name": "stderr",
     "output_type": "stream",
     "text": [
      "looking for review ids:  53%|█████▎    | 1065/2020 [4:47:30<4:09:41, 15.69s/movie]"
     ]
    },
    {
     "name": "stdout",
     "output_type": "stream",
     "text": [
      "Less than 25 reviews available - skipped\n"
     ]
    },
    {
     "name": "stderr",
     "output_type": "stream",
     "text": [
      "looking for review ids:  53%|█████▎    | 1066/2020 [4:47:45<4:08:59, 15.66s/movie]"
     ]
    },
    {
     "name": "stdout",
     "output_type": "stream",
     "text": [
      "Less than 25 reviews available - skipped\n"
     ]
    },
    {
     "name": "stderr",
     "output_type": "stream",
     "text": [
      "looking for review ids:  53%|█████▎    | 1067/2020 [4:48:01<4:09:43, 15.72s/movie]"
     ]
    },
    {
     "name": "stdout",
     "output_type": "stream",
     "text": [
      "Less than 25 reviews available - skipped\n"
     ]
    },
    {
     "name": "stderr",
     "output_type": "stream",
     "text": [
      "looking for review ids:  53%|█████▎    | 1068/2020 [4:48:17<4:11:19, 15.84s/movie]"
     ]
    },
    {
     "name": "stdout",
     "output_type": "stream",
     "text": [
      "Less than 25 reviews available - skipped\n"
     ]
    },
    {
     "name": "stderr",
     "output_type": "stream",
     "text": [
      "looking for review ids:  53%|█████▎    | 1069/2020 [4:48:33<4:10:42, 15.82s/movie]"
     ]
    },
    {
     "name": "stdout",
     "output_type": "stream",
     "text": [
      "Less than 25 reviews available - skipped\n"
     ]
    },
    {
     "name": "stderr",
     "output_type": "stream",
     "text": [
      "looking for review ids:  53%|█████▎    | 1070/2020 [4:48:49<4:10:35, 15.83s/movie]"
     ]
    },
    {
     "name": "stdout",
     "output_type": "stream",
     "text": [
      "Less than 25 reviews available - skipped\n"
     ]
    },
    {
     "name": "stderr",
     "output_type": "stream",
     "text": [
      "looking for review ids:  53%|█████▎    | 1071/2020 [4:49:05<4:10:52, 15.86s/movie]"
     ]
    },
    {
     "name": "stdout",
     "output_type": "stream",
     "text": [
      "Less than 25 reviews available - skipped\n"
     ]
    },
    {
     "name": "stderr",
     "output_type": "stream",
     "text": [
      "looking for review ids:  53%|█████▎    | 1072/2020 [4:49:21<4:10:09, 15.83s/movie]"
     ]
    },
    {
     "name": "stdout",
     "output_type": "stream",
     "text": [
      "Less than 25 reviews available - skipped\n"
     ]
    },
    {
     "name": "stderr",
     "output_type": "stream",
     "text": [
      "looking for review ids:  53%|█████▎    | 1073/2020 [4:49:37<4:09:48, 15.83s/movie]"
     ]
    },
    {
     "name": "stdout",
     "output_type": "stream",
     "text": [
      "esecuzione interrotta tempo finito\n"
     ]
    },
    {
     "name": "stderr",
     "output_type": "stream",
     "text": [
      "looking for review ids:  53%|█████▎    | 1074/2020 [4:50:19<6:16:47, 23.90s/movie]"
     ]
    },
    {
     "name": "stdout",
     "output_type": "stream",
     "text": [
      "Less than 25 reviews available - skipped\n"
     ]
    },
    {
     "name": "stderr",
     "output_type": "stream",
     "text": [
      "looking for review ids:  53%|█████▎    | 1075/2020 [4:50:35<5:37:38, 21.44s/movie]"
     ]
    },
    {
     "name": "stdout",
     "output_type": "stream",
     "text": [
      "Less than 25 reviews available - skipped\n"
     ]
    },
    {
     "name": "stderr",
     "output_type": "stream",
     "text": [
      "looking for review ids:  53%|█████▎    | 1076/2020 [4:50:50<5:08:41, 19.62s/movie]"
     ]
    },
    {
     "name": "stdout",
     "output_type": "stream",
     "text": [
      "Less than 25 reviews available - skipped\n"
     ]
    },
    {
     "name": "stderr",
     "output_type": "stream",
     "text": [
      "looking for review ids:  53%|█████▎    | 1077/2020 [4:51:06<4:51:08, 18.52s/movie]"
     ]
    },
    {
     "name": "stdout",
     "output_type": "stream",
     "text": [
      "Less than 25 reviews available - skipped\n"
     ]
    },
    {
     "name": "stderr",
     "output_type": "stream",
     "text": [
      "looking for review ids:  53%|█████▎    | 1078/2020 [4:51:22<4:37:27, 17.67s/movie]"
     ]
    },
    {
     "name": "stdout",
     "output_type": "stream",
     "text": [
      "Less than 25 reviews available - skipped\n"
     ]
    },
    {
     "name": "stderr",
     "output_type": "stream",
     "text": [
      "looking for review ids:  53%|█████▎    | 1079/2020 [4:51:38<4:28:15, 17.10s/movie]"
     ]
    },
    {
     "name": "stdout",
     "output_type": "stream",
     "text": [
      "Less than 25 reviews available - skipped\n"
     ]
    },
    {
     "name": "stderr",
     "output_type": "stream",
     "text": [
      "looking for review ids:  53%|█████▎    | 1080/2020 [4:51:54<4:22:17, 16.74s/movie]"
     ]
    },
    {
     "name": "stdout",
     "output_type": "stream",
     "text": [
      "Less than 25 reviews available - skipped\n"
     ]
    },
    {
     "name": "stderr",
     "output_type": "stream",
     "text": [
      "looking for review ids:  54%|█████▎    | 1081/2020 [4:52:09<4:16:19, 16.38s/movie]"
     ]
    },
    {
     "name": "stdout",
     "output_type": "stream",
     "text": [
      "Less than 25 reviews available - skipped\n"
     ]
    },
    {
     "name": "stderr",
     "output_type": "stream",
     "text": [
      "looking for review ids:  54%|█████▎    | 1082/2020 [4:52:24<4:11:04, 16.06s/movie]"
     ]
    },
    {
     "name": "stdout",
     "output_type": "stream",
     "text": [
      "Less than 25 reviews available - skipped\n"
     ]
    },
    {
     "name": "stderr",
     "output_type": "stream",
     "text": [
      "looking for review ids:  54%|█████▎    | 1083/2020 [4:52:40<4:09:48, 16.00s/movie]"
     ]
    },
    {
     "name": "stdout",
     "output_type": "stream",
     "text": [
      "Less than 25 reviews available - skipped\n"
     ]
    },
    {
     "name": "stderr",
     "output_type": "stream",
     "text": [
      "looking for review ids:  54%|█████▎    | 1084/2020 [4:52:56<4:08:17, 15.92s/movie]"
     ]
    },
    {
     "name": "stdout",
     "output_type": "stream",
     "text": [
      "Less than 25 reviews available - skipped\n"
     ]
    },
    {
     "name": "stderr",
     "output_type": "stream",
     "text": [
      "looking for review ids:  54%|█████▎    | 1085/2020 [4:53:12<4:06:40, 15.83s/movie]"
     ]
    },
    {
     "name": "stdout",
     "output_type": "stream",
     "text": [
      "Less than 25 reviews available - skipped\n"
     ]
    },
    {
     "name": "stderr",
     "output_type": "stream",
     "text": [
      "looking for review ids:  54%|█████▍    | 1086/2020 [4:53:27<4:05:50, 15.79s/movie]"
     ]
    },
    {
     "name": "stdout",
     "output_type": "stream",
     "text": [
      "Less than 25 reviews available - skipped\n"
     ]
    },
    {
     "name": "stderr",
     "output_type": "stream",
     "text": [
      "looking for review ids:  54%|█████▍    | 1087/2020 [4:53:44<4:07:31, 15.92s/movie]"
     ]
    },
    {
     "name": "stdout",
     "output_type": "stream",
     "text": [
      "Less than 25 reviews available - skipped\n"
     ]
    },
    {
     "name": "stderr",
     "output_type": "stream",
     "text": [
      "looking for review ids:  54%|█████▍    | 1088/2020 [4:53:59<4:06:51, 15.89s/movie]"
     ]
    },
    {
     "name": "stdout",
     "output_type": "stream",
     "text": [
      "Less than 25 reviews available - skipped\n"
     ]
    },
    {
     "name": "stderr",
     "output_type": "stream",
     "text": [
      "looking for review ids:  54%|█████▍    | 1089/2020 [4:54:15<4:05:50, 15.84s/movie]"
     ]
    },
    {
     "name": "stdout",
     "output_type": "stream",
     "text": [
      "Less than 25 reviews available - skipped\n"
     ]
    },
    {
     "name": "stderr",
     "output_type": "stream",
     "text": [
      "looking for review ids:  54%|█████▍    | 1090/2020 [4:54:31<4:05:08, 15.82s/movie]"
     ]
    },
    {
     "name": "stdout",
     "output_type": "stream",
     "text": [
      "Less than 25 reviews available - skipped\n"
     ]
    },
    {
     "name": "stderr",
     "output_type": "stream",
     "text": [
      "looking for review ids:  54%|█████▍    | 1091/2020 [4:54:47<4:05:52, 15.88s/movie]"
     ]
    },
    {
     "name": "stdout",
     "output_type": "stream",
     "text": [
      "Less than 25 reviews available - skipped\n"
     ]
    },
    {
     "name": "stderr",
     "output_type": "stream",
     "text": [
      "looking for review ids:  54%|█████▍    | 1093/2020 [4:55:16<3:53:34, 15.12s/movie]"
     ]
    },
    {
     "name": "stdout",
     "output_type": "stream",
     "text": [
      "Less than 25 reviews available - skipped\n"
     ]
    },
    {
     "name": "stderr",
     "output_type": "stream",
     "text": [
      "looking for review ids:  54%|█████▍    | 1095/2020 [4:55:45<3:45:23, 14.62s/movie]"
     ]
    },
    {
     "name": "stdout",
     "output_type": "stream",
     "text": [
      "Less than 25 reviews available - skipped\n"
     ]
    },
    {
     "name": "stderr",
     "output_type": "stream",
     "text": [
      "looking for review ids:  54%|█████▍    | 1096/2020 [4:56:01<3:50:36, 14.97s/movie]"
     ]
    },
    {
     "name": "stdout",
     "output_type": "stream",
     "text": [
      "Less than 25 reviews available - skipped\n"
     ]
    },
    {
     "name": "stderr",
     "output_type": "stream",
     "text": [
      "looking for review ids:  54%|█████▍    | 1098/2020 [4:56:30<3:45:18, 14.66s/movie]"
     ]
    },
    {
     "name": "stdout",
     "output_type": "stream",
     "text": [
      "Less than 25 reviews available - skipped\n"
     ]
    },
    {
     "name": "stderr",
     "output_type": "stream",
     "text": [
      "looking for review ids:  54%|█████▍    | 1100/2020 [4:56:59<3:43:21, 14.57s/movie]"
     ]
    },
    {
     "name": "stdout",
     "output_type": "stream",
     "text": [
      "Less than 25 reviews available - skipped\n"
     ]
    },
    {
     "name": "stderr",
     "output_type": "stream",
     "text": [
      "looking for review ids:  55%|█████▍    | 1101/2020 [4:57:15<3:48:04, 14.89s/movie]"
     ]
    },
    {
     "name": "stdout",
     "output_type": "stream",
     "text": [
      "Less than 25 reviews available - skipped\n"
     ]
    },
    {
     "name": "stderr",
     "output_type": "stream",
     "text": [
      "looking for review ids:  55%|█████▍    | 1102/2020 [4:57:30<3:49:59, 15.03s/movie]"
     ]
    },
    {
     "name": "stdout",
     "output_type": "stream",
     "text": [
      "Less than 25 reviews available - skipped\n"
     ]
    },
    {
     "name": "stderr",
     "output_type": "stream",
     "text": [
      "looking for review ids:  55%|█████▍    | 1103/2020 [4:57:46<3:54:11, 15.32s/movie]"
     ]
    },
    {
     "name": "stdout",
     "output_type": "stream",
     "text": [
      "Less than 25 reviews available - skipped\n"
     ]
    },
    {
     "name": "stderr",
     "output_type": "stream",
     "text": [
      "looking for review ids:  55%|█████▍    | 1104/2020 [4:58:02<3:54:29, 15.36s/movie]"
     ]
    },
    {
     "name": "stdout",
     "output_type": "stream",
     "text": [
      "Less than 25 reviews available - skipped\n"
     ]
    },
    {
     "name": "stderr",
     "output_type": "stream",
     "text": [
      "looking for review ids:  55%|█████▍    | 1107/2020 [4:58:47<3:54:01, 15.38s/movie]"
     ]
    },
    {
     "name": "stdout",
     "output_type": "stream",
     "text": [
      "Less than 25 reviews available - skipped\n"
     ]
    },
    {
     "name": "stderr",
     "output_type": "stream",
     "text": [
      "looking for review ids:  55%|█████▍    | 1108/2020 [4:59:03<3:55:26, 15.49s/movie]"
     ]
    },
    {
     "name": "stdout",
     "output_type": "stream",
     "text": [
      "Less than 25 reviews available - skipped\n"
     ]
    },
    {
     "name": "stderr",
     "output_type": "stream",
     "text": [
      "looking for review ids:  55%|█████▍    | 1109/2020 [4:59:19<3:56:21, 15.57s/movie]"
     ]
    },
    {
     "name": "stdout",
     "output_type": "stream",
     "text": [
      "Less than 25 reviews available - skipped\n"
     ]
    },
    {
     "name": "stderr",
     "output_type": "stream",
     "text": [
      "looking for review ids:  55%|█████▍    | 1110/2020 [4:59:35<3:56:47, 15.61s/movie]"
     ]
    },
    {
     "name": "stdout",
     "output_type": "stream",
     "text": [
      "Less than 25 reviews available - skipped\n"
     ]
    },
    {
     "name": "stderr",
     "output_type": "stream",
     "text": [
      "looking for review ids:  55%|█████▌    | 1111/2020 [4:59:50<3:57:43, 15.69s/movie]"
     ]
    },
    {
     "name": "stdout",
     "output_type": "stream",
     "text": [
      "Less than 25 reviews available - skipped\n"
     ]
    },
    {
     "name": "stderr",
     "output_type": "stream",
     "text": [
      "looking for review ids:  55%|█████▌    | 1112/2020 [5:00:06<3:58:42, 15.77s/movie]"
     ]
    },
    {
     "name": "stdout",
     "output_type": "stream",
     "text": [
      "Less than 25 reviews available - skipped\n"
     ]
    },
    {
     "name": "stderr",
     "output_type": "stream",
     "text": [
      "looking for review ids:  55%|█████▌    | 1113/2020 [5:00:22<3:57:30, 15.71s/movie]"
     ]
    },
    {
     "name": "stdout",
     "output_type": "stream",
     "text": [
      "Less than 25 reviews available - skipped\n"
     ]
    },
    {
     "name": "stderr",
     "output_type": "stream",
     "text": [
      "looking for review ids:  55%|█████▌    | 1114/2020 [5:00:37<3:56:02, 15.63s/movie]"
     ]
    },
    {
     "name": "stdout",
     "output_type": "stream",
     "text": [
      "Less than 25 reviews available - skipped\n"
     ]
    },
    {
     "name": "stderr",
     "output_type": "stream",
     "text": [
      "looking for review ids:  55%|█████▌    | 1115/2020 [5:00:53<3:57:16, 15.73s/movie]"
     ]
    },
    {
     "name": "stdout",
     "output_type": "stream",
     "text": [
      "Less than 25 reviews available - skipped\n"
     ]
    },
    {
     "name": "stderr",
     "output_type": "stream",
     "text": [
      "looking for review ids:  55%|█████▌    | 1116/2020 [5:01:09<3:58:04, 15.80s/movie]"
     ]
    },
    {
     "name": "stdout",
     "output_type": "stream",
     "text": [
      "Less than 25 reviews available - skipped\n"
     ]
    },
    {
     "name": "stderr",
     "output_type": "stream",
     "text": [
      "looking for review ids:  55%|█████▌    | 1117/2020 [5:01:26<4:02:27, 16.11s/movie]"
     ]
    },
    {
     "name": "stdout",
     "output_type": "stream",
     "text": [
      "Less than 25 reviews available - skipped\n"
     ]
    },
    {
     "name": "stderr",
     "output_type": "stream",
     "text": [
      "looking for review ids:  55%|█████▌    | 1118/2020 [5:01:42<3:59:51, 15.96s/movie]"
     ]
    },
    {
     "name": "stdout",
     "output_type": "stream",
     "text": [
      "Less than 25 reviews available - skipped\n"
     ]
    },
    {
     "name": "stderr",
     "output_type": "stream",
     "text": [
      "looking for review ids:  55%|█████▌    | 1119/2020 [5:01:58<3:59:40, 15.96s/movie]"
     ]
    },
    {
     "name": "stdout",
     "output_type": "stream",
     "text": [
      "Less than 25 reviews available - skipped\n"
     ]
    },
    {
     "name": "stderr",
     "output_type": "stream",
     "text": [
      "looking for review ids:  55%|█████▌    | 1120/2020 [5:02:14<3:59:29, 15.97s/movie]"
     ]
    },
    {
     "name": "stdout",
     "output_type": "stream",
     "text": [
      "Less than 25 reviews available - skipped\n"
     ]
    },
    {
     "name": "stderr",
     "output_type": "stream",
     "text": [
      "looking for review ids:  55%|█████▌    | 1121/2020 [5:02:29<3:57:38, 15.86s/movie]"
     ]
    },
    {
     "name": "stdout",
     "output_type": "stream",
     "text": [
      "Less than 25 reviews available - skipped\n"
     ]
    },
    {
     "name": "stderr",
     "output_type": "stream",
     "text": [
      "looking for review ids:  56%|█████▌    | 1122/2020 [5:02:45<3:56:52, 15.83s/movie]"
     ]
    },
    {
     "name": "stdout",
     "output_type": "stream",
     "text": [
      "Less than 25 reviews available - skipped\n"
     ]
    },
    {
     "name": "stderr",
     "output_type": "stream",
     "text": [
      "looking for review ids:  56%|█████▌    | 1123/2020 [5:03:01<3:56:37, 15.83s/movie]"
     ]
    },
    {
     "name": "stdout",
     "output_type": "stream",
     "text": [
      "Less than 25 reviews available - skipped\n"
     ]
    },
    {
     "name": "stderr",
     "output_type": "stream",
     "text": [
      "looking for review ids:  56%|█████▌    | 1124/2020 [5:03:17<3:56:09, 15.81s/movie]"
     ]
    },
    {
     "name": "stdout",
     "output_type": "stream",
     "text": [
      "Less than 25 reviews available - skipped\n"
     ]
    },
    {
     "name": "stderr",
     "output_type": "stream",
     "text": [
      "looking for review ids:  56%|█████▌    | 1125/2020 [5:03:32<3:55:40, 15.80s/movie]"
     ]
    },
    {
     "name": "stdout",
     "output_type": "stream",
     "text": [
      "Less than 25 reviews available - skipped\n"
     ]
    },
    {
     "name": "stderr",
     "output_type": "stream",
     "text": [
      "looking for review ids:  56%|█████▌    | 1126/2020 [5:03:48<3:55:19, 15.79s/movie]"
     ]
    },
    {
     "name": "stdout",
     "output_type": "stream",
     "text": [
      "Less than 25 reviews available - skipped\n"
     ]
    },
    {
     "name": "stderr",
     "output_type": "stream",
     "text": [
      "looking for review ids:  56%|█████▌    | 1127/2020 [5:04:04<3:56:20, 15.88s/movie]"
     ]
    },
    {
     "name": "stdout",
     "output_type": "stream",
     "text": [
      "Less than 25 reviews available - skipped\n"
     ]
    },
    {
     "name": "stderr",
     "output_type": "stream",
     "text": [
      "looking for review ids:  56%|█████▌    | 1128/2020 [5:04:21<3:58:36, 16.05s/movie]"
     ]
    },
    {
     "name": "stdout",
     "output_type": "stream",
     "text": [
      "Less than 25 reviews available - skipped\n"
     ]
    },
    {
     "name": "stderr",
     "output_type": "stream",
     "text": [
      "looking for review ids:  56%|█████▌    | 1129/2020 [5:04:36<3:56:10, 15.90s/movie]"
     ]
    },
    {
     "name": "stdout",
     "output_type": "stream",
     "text": [
      "Less than 25 reviews available - skipped\n"
     ]
    },
    {
     "name": "stderr",
     "output_type": "stream",
     "text": [
      "looking for review ids:  56%|█████▌    | 1130/2020 [5:04:52<3:54:28, 15.81s/movie]"
     ]
    },
    {
     "name": "stdout",
     "output_type": "stream",
     "text": [
      "Less than 25 reviews available - skipped\n"
     ]
    },
    {
     "name": "stderr",
     "output_type": "stream",
     "text": [
      "looking for review ids:  56%|█████▌    | 1131/2020 [5:05:08<3:54:29, 15.83s/movie]"
     ]
    },
    {
     "name": "stdout",
     "output_type": "stream",
     "text": [
      "Less than 25 reviews available - skipped\n"
     ]
    },
    {
     "name": "stderr",
     "output_type": "stream",
     "text": [
      "looking for review ids:  56%|█████▌    | 1132/2020 [5:05:23<3:53:51, 15.80s/movie]"
     ]
    },
    {
     "name": "stdout",
     "output_type": "stream",
     "text": [
      "Less than 25 reviews available - skipped\n"
     ]
    },
    {
     "name": "stderr",
     "output_type": "stream",
     "text": [
      "looking for review ids:  56%|█████▌    | 1133/2020 [5:05:39<3:52:23, 15.72s/movie]"
     ]
    },
    {
     "name": "stdout",
     "output_type": "stream",
     "text": [
      "Less than 25 reviews available - skipped\n"
     ]
    },
    {
     "name": "stderr",
     "output_type": "stream",
     "text": [
      "looking for review ids:  56%|█████▌    | 1134/2020 [5:05:55<3:51:28, 15.68s/movie]"
     ]
    },
    {
     "name": "stdout",
     "output_type": "stream",
     "text": [
      "Less than 25 reviews available - skipped\n"
     ]
    },
    {
     "name": "stderr",
     "output_type": "stream",
     "text": [
      "looking for review ids:  56%|█████▌    | 1135/2020 [5:06:10<3:51:04, 15.67s/movie]"
     ]
    },
    {
     "name": "stdout",
     "output_type": "stream",
     "text": [
      "Less than 25 reviews available - skipped\n"
     ]
    },
    {
     "name": "stderr",
     "output_type": "stream",
     "text": [
      "looking for review ids:  56%|█████▌    | 1136/2020 [5:06:26<3:50:16, 15.63s/movie]"
     ]
    },
    {
     "name": "stdout",
     "output_type": "stream",
     "text": [
      "Less than 25 reviews available - skipped\n"
     ]
    },
    {
     "name": "stderr",
     "output_type": "stream",
     "text": [
      "looking for review ids:  56%|█████▋    | 1137/2020 [5:06:42<3:51:03, 15.70s/movie]"
     ]
    },
    {
     "name": "stdout",
     "output_type": "stream",
     "text": [
      "Less than 25 reviews available - skipped\n"
     ]
    },
    {
     "name": "stderr",
     "output_type": "stream",
     "text": [
      "looking for review ids:  56%|█████▋    | 1138/2020 [5:06:58<3:51:53, 15.78s/movie]"
     ]
    },
    {
     "name": "stdout",
     "output_type": "stream",
     "text": [
      "Less than 25 reviews available - skipped\n"
     ]
    },
    {
     "name": "stderr",
     "output_type": "stream",
     "text": [
      "looking for review ids:  56%|█████▋    | 1139/2020 [5:07:13<3:51:52, 15.79s/movie]"
     ]
    },
    {
     "name": "stdout",
     "output_type": "stream",
     "text": [
      "Less than 25 reviews available - skipped\n"
     ]
    },
    {
     "name": "stderr",
     "output_type": "stream",
     "text": [
      "looking for review ids:  56%|█████▋    | 1140/2020 [5:07:29<3:51:34, 15.79s/movie]"
     ]
    },
    {
     "name": "stdout",
     "output_type": "stream",
     "text": [
      "Less than 25 reviews available - skipped\n"
     ]
    },
    {
     "name": "stderr",
     "output_type": "stream",
     "text": [
      "looking for review ids:  56%|█████▋    | 1141/2020 [5:07:45<3:52:22, 15.86s/movie]"
     ]
    },
    {
     "name": "stdout",
     "output_type": "stream",
     "text": [
      "Less than 25 reviews available - skipped\n"
     ]
    },
    {
     "name": "stderr",
     "output_type": "stream",
     "text": [
      "looking for review ids:  57%|█████▋    | 1142/2020 [5:08:01<3:51:59, 15.85s/movie]"
     ]
    },
    {
     "name": "stdout",
     "output_type": "stream",
     "text": [
      "Less than 25 reviews available - skipped\n"
     ]
    },
    {
     "name": "stderr",
     "output_type": "stream",
     "text": [
      "looking for review ids:  57%|█████▋    | 1143/2020 [5:08:17<3:50:50, 15.79s/movie]"
     ]
    },
    {
     "name": "stdout",
     "output_type": "stream",
     "text": [
      "Less than 25 reviews available - skipped\n"
     ]
    },
    {
     "name": "stderr",
     "output_type": "stream",
     "text": [
      "looking for review ids:  57%|█████▋    | 1145/2020 [5:08:46<3:41:57, 15.22s/movie]"
     ]
    },
    {
     "name": "stdout",
     "output_type": "stream",
     "text": [
      "Less than 25 reviews available - skipped\n"
     ]
    },
    {
     "name": "stderr",
     "output_type": "stream",
     "text": [
      "looking for review ids:  57%|█████▋    | 1146/2020 [5:09:02<3:43:25, 15.34s/movie]"
     ]
    },
    {
     "name": "stdout",
     "output_type": "stream",
     "text": [
      "Less than 25 reviews available - skipped\n"
     ]
    },
    {
     "name": "stderr",
     "output_type": "stream",
     "text": [
      "looking for review ids:  57%|█████▋    | 1147/2020 [5:09:18<3:45:44, 15.52s/movie]"
     ]
    },
    {
     "name": "stdout",
     "output_type": "stream",
     "text": [
      "Less than 25 reviews available - skipped\n"
     ]
    },
    {
     "name": "stderr",
     "output_type": "stream",
     "text": [
      "looking for review ids:  57%|█████▋    | 1148/2020 [5:09:34<3:46:08, 15.56s/movie]"
     ]
    },
    {
     "name": "stdout",
     "output_type": "stream",
     "text": [
      "Less than 25 reviews available - skipped\n"
     ]
    },
    {
     "name": "stderr",
     "output_type": "stream",
     "text": [
      "looking for review ids:  57%|█████▋    | 1149/2020 [5:09:49<3:46:15, 15.59s/movie]"
     ]
    },
    {
     "name": "stdout",
     "output_type": "stream",
     "text": [
      "Less than 25 reviews available - skipped\n"
     ]
    },
    {
     "name": "stderr",
     "output_type": "stream",
     "text": [
      "looking for review ids:  57%|█████▋    | 1150/2020 [5:10:05<3:47:22, 15.68s/movie]"
     ]
    },
    {
     "name": "stdout",
     "output_type": "stream",
     "text": [
      "Less than 25 reviews available - skipped\n"
     ]
    },
    {
     "name": "stderr",
     "output_type": "stream",
     "text": [
      "looking for review ids:  57%|█████▋    | 1151/2020 [5:10:21<3:48:43, 15.79s/movie]"
     ]
    },
    {
     "name": "stdout",
     "output_type": "stream",
     "text": [
      "Less than 25 reviews available - skipped\n"
     ]
    },
    {
     "name": "stderr",
     "output_type": "stream",
     "text": [
      "looking for review ids:  57%|█████▋    | 1152/2020 [5:10:37<3:47:44, 15.74s/movie]"
     ]
    },
    {
     "name": "stdout",
     "output_type": "stream",
     "text": [
      "Less than 25 reviews available - skipped\n"
     ]
    },
    {
     "name": "stderr",
     "output_type": "stream",
     "text": [
      "looking for review ids:  57%|█████▋    | 1153/2020 [5:10:52<3:47:08, 15.72s/movie]"
     ]
    },
    {
     "name": "stdout",
     "output_type": "stream",
     "text": [
      "Less than 25 reviews available - skipped\n"
     ]
    },
    {
     "name": "stderr",
     "output_type": "stream",
     "text": [
      "looking for review ids:  57%|█████▋    | 1154/2020 [5:11:08<3:45:33, 15.63s/movie]"
     ]
    },
    {
     "name": "stdout",
     "output_type": "stream",
     "text": [
      "Less than 25 reviews available - skipped\n"
     ]
    },
    {
     "name": "stderr",
     "output_type": "stream",
     "text": [
      "looking for review ids:  57%|█████▋    | 1155/2020 [5:11:23<3:44:43, 15.59s/movie]"
     ]
    },
    {
     "name": "stdout",
     "output_type": "stream",
     "text": [
      "Less than 25 reviews available - skipped\n"
     ]
    },
    {
     "name": "stderr",
     "output_type": "stream",
     "text": [
      "looking for review ids:  57%|█████▋    | 1156/2020 [5:11:39<3:46:36, 15.74s/movie]"
     ]
    },
    {
     "name": "stdout",
     "output_type": "stream",
     "text": [
      "Less than 25 reviews available - skipped\n"
     ]
    },
    {
     "name": "stderr",
     "output_type": "stream",
     "text": [
      "looking for review ids:  57%|█████▋    | 1158/2020 [5:12:09<3:35:53, 15.03s/movie]"
     ]
    },
    {
     "name": "stdout",
     "output_type": "stream",
     "text": [
      "Less than 25 reviews available - skipped\n"
     ]
    },
    {
     "name": "stderr",
     "output_type": "stream",
     "text": [
      "looking for review ids:  57%|█████▋    | 1159/2020 [5:12:24<3:37:47, 15.18s/movie]"
     ]
    },
    {
     "name": "stdout",
     "output_type": "stream",
     "text": [
      "Less than 25 reviews available - skipped\n"
     ]
    },
    {
     "name": "stderr",
     "output_type": "stream",
     "text": [
      "looking for review ids:  57%|█████▋    | 1160/2020 [5:12:40<3:40:21, 15.37s/movie]"
     ]
    },
    {
     "name": "stdout",
     "output_type": "stream",
     "text": [
      "Less than 25 reviews available - skipped\n"
     ]
    },
    {
     "name": "stderr",
     "output_type": "stream",
     "text": [
      "looking for review ids:  57%|█████▋    | 1161/2020 [5:12:56<3:42:17, 15.53s/movie]"
     ]
    },
    {
     "name": "stdout",
     "output_type": "stream",
     "text": [
      "Less than 25 reviews available - skipped\n"
     ]
    },
    {
     "name": "stderr",
     "output_type": "stream",
     "text": [
      "looking for review ids:  58%|█████▊    | 1162/2020 [5:13:12<3:43:06, 15.60s/movie]"
     ]
    },
    {
     "name": "stdout",
     "output_type": "stream",
     "text": [
      "Less than 25 reviews available - skipped\n"
     ]
    },
    {
     "name": "stderr",
     "output_type": "stream",
     "text": [
      "looking for review ids:  58%|█████▊    | 1163/2020 [5:13:27<3:43:11, 15.63s/movie]"
     ]
    },
    {
     "name": "stdout",
     "output_type": "stream",
     "text": [
      "Less than 25 reviews available - skipped\n"
     ]
    },
    {
     "name": "stderr",
     "output_type": "stream",
     "text": [
      "looking for review ids:  58%|█████▊    | 1164/2020 [5:13:43<3:44:31, 15.74s/movie]"
     ]
    },
    {
     "name": "stdout",
     "output_type": "stream",
     "text": [
      "Less than 25 reviews available - skipped\n"
     ]
    },
    {
     "name": "stderr",
     "output_type": "stream",
     "text": [
      "looking for review ids:  58%|█████▊    | 1165/2020 [5:13:59<3:44:35, 15.76s/movie]"
     ]
    },
    {
     "name": "stdout",
     "output_type": "stream",
     "text": [
      "Less than 25 reviews available - skipped\n"
     ]
    },
    {
     "name": "stderr",
     "output_type": "stream",
     "text": [
      "looking for review ids:  58%|█████▊    | 1166/2020 [5:14:15<3:42:54, 15.66s/movie]"
     ]
    },
    {
     "name": "stdout",
     "output_type": "stream",
     "text": [
      "Less than 25 reviews available - skipped\n"
     ]
    },
    {
     "name": "stderr",
     "output_type": "stream",
     "text": [
      "looking for review ids:  58%|█████▊    | 1167/2020 [5:14:30<3:41:32, 15.58s/movie]"
     ]
    },
    {
     "name": "stdout",
     "output_type": "stream",
     "text": [
      "Less than 25 reviews available - skipped\n"
     ]
    },
    {
     "name": "stderr",
     "output_type": "stream",
     "text": [
      "looking for review ids:  58%|█████▊    | 1168/2020 [5:14:46<3:42:53, 15.70s/movie]"
     ]
    },
    {
     "name": "stdout",
     "output_type": "stream",
     "text": [
      "Less than 25 reviews available - skipped\n"
     ]
    },
    {
     "name": "stderr",
     "output_type": "stream",
     "text": [
      "looking for review ids:  58%|█████▊    | 1169/2020 [5:15:01<3:41:21, 15.61s/movie]"
     ]
    },
    {
     "name": "stdout",
     "output_type": "stream",
     "text": [
      "Less than 25 reviews available - skipped\n"
     ]
    },
    {
     "name": "stderr",
     "output_type": "stream",
     "text": [
      "looking for review ids:  58%|█████▊    | 1170/2020 [5:15:17<3:41:12, 15.61s/movie]"
     ]
    },
    {
     "name": "stdout",
     "output_type": "stream",
     "text": [
      "Less than 25 reviews available - skipped\n"
     ]
    },
    {
     "name": "stderr",
     "output_type": "stream",
     "text": [
      "looking for review ids:  58%|█████▊    | 1171/2020 [5:15:33<3:42:13, 15.70s/movie]"
     ]
    },
    {
     "name": "stdout",
     "output_type": "stream",
     "text": [
      "Less than 25 reviews available - skipped\n"
     ]
    },
    {
     "name": "stderr",
     "output_type": "stream",
     "text": [
      "looking for review ids:  58%|█████▊    | 1173/2020 [5:16:02<3:32:17, 15.04s/movie]"
     ]
    },
    {
     "name": "stdout",
     "output_type": "stream",
     "text": [
      "Less than 25 reviews available - skipped\n"
     ]
    },
    {
     "name": "stderr",
     "output_type": "stream",
     "text": [
      "looking for review ids:  58%|█████▊    | 1174/2020 [5:16:18<3:35:40, 15.30s/movie]"
     ]
    },
    {
     "name": "stdout",
     "output_type": "stream",
     "text": [
      "Less than 25 reviews available - skipped\n"
     ]
    },
    {
     "name": "stderr",
     "output_type": "stream",
     "text": [
      "looking for review ids:  58%|█████▊    | 1175/2020 [5:16:34<3:37:02, 15.41s/movie]"
     ]
    },
    {
     "name": "stdout",
     "output_type": "stream",
     "text": [
      "Less than 25 reviews available - skipped\n"
     ]
    },
    {
     "name": "stderr",
     "output_type": "stream",
     "text": [
      "looking for review ids:  58%|█████▊    | 1176/2020 [5:16:49<3:37:48, 15.48s/movie]"
     ]
    },
    {
     "name": "stdout",
     "output_type": "stream",
     "text": [
      "Less than 25 reviews available - skipped\n"
     ]
    },
    {
     "name": "stderr",
     "output_type": "stream",
     "text": [
      "looking for review ids:  58%|█████▊    | 1177/2020 [5:17:05<3:39:00, 15.59s/movie]"
     ]
    },
    {
     "name": "stdout",
     "output_type": "stream",
     "text": [
      "Less than 25 reviews available - skipped\n"
     ]
    },
    {
     "name": "stderr",
     "output_type": "stream",
     "text": [
      "looking for review ids:  58%|█████▊    | 1178/2020 [5:17:21<3:39:08, 15.62s/movie]"
     ]
    },
    {
     "name": "stdout",
     "output_type": "stream",
     "text": [
      "Less than 25 reviews available - skipped\n"
     ]
    },
    {
     "name": "stderr",
     "output_type": "stream",
     "text": [
      "looking for review ids:  58%|█████▊    | 1179/2020 [5:17:36<3:38:47, 15.61s/movie]"
     ]
    },
    {
     "name": "stdout",
     "output_type": "stream",
     "text": [
      "Less than 25 reviews available - skipped\n"
     ]
    },
    {
     "name": "stderr",
     "output_type": "stream",
     "text": [
      "looking for review ids:  58%|█████▊    | 1180/2020 [5:17:52<3:40:06, 15.72s/movie]"
     ]
    },
    {
     "name": "stdout",
     "output_type": "stream",
     "text": [
      "Less than 25 reviews available - skipped\n"
     ]
    },
    {
     "name": "stderr",
     "output_type": "stream",
     "text": [
      "looking for review ids:  58%|█████▊    | 1181/2020 [5:18:08<3:39:52, 15.72s/movie]"
     ]
    },
    {
     "name": "stdout",
     "output_type": "stream",
     "text": [
      "Less than 25 reviews available - skipped\n"
     ]
    },
    {
     "name": "stderr",
     "output_type": "stream",
     "text": [
      "looking for review ids:  59%|█████▊    | 1182/2020 [5:18:24<3:39:26, 15.71s/movie]"
     ]
    },
    {
     "name": "stdout",
     "output_type": "stream",
     "text": [
      "Less than 25 reviews available - skipped\n"
     ]
    },
    {
     "name": "stderr",
     "output_type": "stream",
     "text": [
      "looking for review ids:  59%|█████▊    | 1184/2020 [5:18:53<3:30:04, 15.08s/movie]"
     ]
    },
    {
     "name": "stdout",
     "output_type": "stream",
     "text": [
      "Less than 25 reviews available - skipped\n"
     ]
    },
    {
     "name": "stderr",
     "output_type": "stream",
     "text": [
      "looking for review ids:  59%|█████▊    | 1185/2020 [5:19:09<3:31:26, 15.19s/movie]"
     ]
    },
    {
     "name": "stdout",
     "output_type": "stream",
     "text": [
      "Less than 25 reviews available - skipped\n"
     ]
    },
    {
     "name": "stderr",
     "output_type": "stream",
     "text": [
      "looking for review ids:  59%|█████▊    | 1186/2020 [5:19:24<3:32:32, 15.29s/movie]"
     ]
    },
    {
     "name": "stdout",
     "output_type": "stream",
     "text": [
      "Less than 25 reviews available - skipped\n"
     ]
    },
    {
     "name": "stderr",
     "output_type": "stream",
     "text": [
      "looking for review ids:  59%|█████▉    | 1187/2020 [5:19:40<3:33:33, 15.38s/movie]"
     ]
    },
    {
     "name": "stdout",
     "output_type": "stream",
     "text": [
      "Less than 25 reviews available - skipped\n"
     ]
    },
    {
     "name": "stderr",
     "output_type": "stream",
     "text": [
      "looking for review ids:  59%|█████▉    | 1188/2020 [5:19:55<3:34:31, 15.47s/movie]"
     ]
    },
    {
     "name": "stdout",
     "output_type": "stream",
     "text": [
      "Less than 25 reviews available - skipped\n"
     ]
    },
    {
     "name": "stderr",
     "output_type": "stream",
     "text": [
      "looking for review ids:  59%|█████▉    | 1189/2020 [5:20:11<3:34:40, 15.50s/movie]"
     ]
    },
    {
     "name": "stdout",
     "output_type": "stream",
     "text": [
      "Less than 25 reviews available - skipped\n"
     ]
    },
    {
     "name": "stderr",
     "output_type": "stream",
     "text": [
      "looking for review ids:  59%|█████▉    | 1190/2020 [5:20:27<3:35:38, 15.59s/movie]"
     ]
    },
    {
     "name": "stdout",
     "output_type": "stream",
     "text": [
      "Less than 25 reviews available - skipped\n"
     ]
    },
    {
     "name": "stderr",
     "output_type": "stream",
     "text": [
      "looking for review ids:  59%|█████▉    | 1191/2020 [5:20:43<3:36:19, 15.66s/movie]"
     ]
    },
    {
     "name": "stdout",
     "output_type": "stream",
     "text": [
      "Less than 25 reviews available - skipped\n"
     ]
    },
    {
     "name": "stderr",
     "output_type": "stream",
     "text": [
      "looking for review ids:  59%|█████▉    | 1192/2020 [5:20:59<3:37:41, 15.77s/movie]"
     ]
    },
    {
     "name": "stdout",
     "output_type": "stream",
     "text": [
      "Less than 25 reviews available - skipped\n"
     ]
    },
    {
     "name": "stderr",
     "output_type": "stream",
     "text": [
      "looking for review ids:  59%|█████▉    | 1193/2020 [5:21:14<3:37:31, 15.78s/movie]"
     ]
    },
    {
     "name": "stdout",
     "output_type": "stream",
     "text": [
      "Less than 25 reviews available - skipped\n"
     ]
    },
    {
     "name": "stderr",
     "output_type": "stream",
     "text": [
      "looking for review ids:  59%|█████▉    | 1194/2020 [5:21:30<3:37:48, 15.82s/movie]"
     ]
    },
    {
     "name": "stdout",
     "output_type": "stream",
     "text": [
      "Less than 25 reviews available - skipped\n"
     ]
    },
    {
     "name": "stderr",
     "output_type": "stream",
     "text": [
      "looking for review ids:  59%|█████▉    | 1195/2020 [5:21:46<3:37:14, 15.80s/movie]"
     ]
    },
    {
     "name": "stdout",
     "output_type": "stream",
     "text": [
      "Less than 25 reviews available - skipped\n"
     ]
    },
    {
     "name": "stderr",
     "output_type": "stream",
     "text": [
      "looking for review ids:  59%|█████▉    | 1197/2020 [5:22:15<3:25:44, 15.00s/movie]"
     ]
    },
    {
     "name": "stdout",
     "output_type": "stream",
     "text": [
      "Less than 25 reviews available - skipped\n"
     ]
    },
    {
     "name": "stderr",
     "output_type": "stream",
     "text": [
      "looking for review ids:  59%|█████▉    | 1198/2020 [5:22:31<3:29:44, 15.31s/movie]"
     ]
    },
    {
     "name": "stdout",
     "output_type": "stream",
     "text": [
      "Less than 25 reviews available - skipped\n"
     ]
    },
    {
     "name": "stderr",
     "output_type": "stream",
     "text": [
      "looking for review ids:  59%|█████▉    | 1199/2020 [5:22:47<3:31:41, 15.47s/movie]"
     ]
    },
    {
     "name": "stdout",
     "output_type": "stream",
     "text": [
      "Less than 25 reviews available - skipped\n"
     ]
    },
    {
     "name": "stderr",
     "output_type": "stream",
     "text": [
      "looking for review ids:  59%|█████▉    | 1200/2020 [5:23:03<3:33:11, 15.60s/movie]"
     ]
    },
    {
     "name": "stdout",
     "output_type": "stream",
     "text": [
      "Less than 25 reviews available - skipped\n"
     ]
    },
    {
     "name": "stderr",
     "output_type": "stream",
     "text": [
      "looking for review ids:  59%|█████▉    | 1201/2020 [5:23:19<3:35:10, 15.76s/movie]"
     ]
    },
    {
     "name": "stdout",
     "output_type": "stream",
     "text": [
      "Less than 25 reviews available - skipped\n"
     ]
    },
    {
     "name": "stderr",
     "output_type": "stream",
     "text": [
      "looking for review ids:  60%|█████▉    | 1202/2020 [5:23:34<3:33:49, 15.68s/movie]"
     ]
    },
    {
     "name": "stdout",
     "output_type": "stream",
     "text": [
      "Less than 25 reviews available - skipped\n"
     ]
    },
    {
     "name": "stderr",
     "output_type": "stream",
     "text": [
      "looking for review ids:  60%|█████▉    | 1203/2020 [5:23:50<3:33:08, 15.65s/movie]"
     ]
    },
    {
     "name": "stdout",
     "output_type": "stream",
     "text": [
      "Less than 25 reviews available - skipped\n"
     ]
    },
    {
     "name": "stderr",
     "output_type": "stream",
     "text": [
      "looking for review ids:  60%|█████▉    | 1204/2020 [5:24:06<3:32:39, 15.64s/movie]"
     ]
    },
    {
     "name": "stdout",
     "output_type": "stream",
     "text": [
      "Less than 25 reviews available - skipped\n"
     ]
    },
    {
     "name": "stderr",
     "output_type": "stream",
     "text": [
      "looking for review ids:  60%|█████▉    | 1205/2020 [5:24:21<3:32:02, 15.61s/movie]"
     ]
    },
    {
     "name": "stdout",
     "output_type": "stream",
     "text": [
      "Less than 25 reviews available - skipped\n"
     ]
    },
    {
     "name": "stderr",
     "output_type": "stream",
     "text": [
      "looking for review ids:  60%|█████▉    | 1206/2020 [5:24:37<3:32:32, 15.67s/movie]"
     ]
    },
    {
     "name": "stdout",
     "output_type": "stream",
     "text": [
      "Less than 25 reviews available - skipped\n"
     ]
    },
    {
     "name": "stderr",
     "output_type": "stream",
     "text": [
      "looking for review ids:  60%|█████▉    | 1207/2020 [5:24:52<3:31:35, 15.62s/movie]"
     ]
    },
    {
     "name": "stdout",
     "output_type": "stream",
     "text": [
      "Less than 25 reviews available - skipped\n"
     ]
    },
    {
     "name": "stderr",
     "output_type": "stream",
     "text": [
      "looking for review ids:  60%|█████▉    | 1208/2020 [5:25:08<3:31:39, 15.64s/movie]"
     ]
    },
    {
     "name": "stdout",
     "output_type": "stream",
     "text": [
      "Less than 25 reviews available - skipped\n"
     ]
    },
    {
     "name": "stderr",
     "output_type": "stream",
     "text": [
      "looking for review ids:  60%|█████▉    | 1209/2020 [5:25:24<3:32:43, 15.74s/movie]"
     ]
    },
    {
     "name": "stdout",
     "output_type": "stream",
     "text": [
      "Less than 25 reviews available - skipped\n"
     ]
    },
    {
     "name": "stderr",
     "output_type": "stream",
     "text": [
      "looking for review ids:  60%|█████▉    | 1211/2020 [5:25:53<3:21:33, 14.95s/movie]"
     ]
    },
    {
     "name": "stdout",
     "output_type": "stream",
     "text": [
      "Less than 25 reviews available - skipped\n"
     ]
    },
    {
     "name": "stderr",
     "output_type": "stream",
     "text": [
      "looking for review ids:  60%|██████    | 1212/2020 [5:26:08<3:23:40, 15.12s/movie]"
     ]
    },
    {
     "name": "stdout",
     "output_type": "stream",
     "text": [
      "Less than 25 reviews available - skipped\n"
     ]
    },
    {
     "name": "stderr",
     "output_type": "stream",
     "text": [
      "looking for review ids:  60%|██████    | 1213/2020 [5:26:24<3:25:48, 15.30s/movie]"
     ]
    },
    {
     "name": "stdout",
     "output_type": "stream",
     "text": [
      "Less than 25 reviews available - skipped\n"
     ]
    },
    {
     "name": "stderr",
     "output_type": "stream",
     "text": [
      "looking for review ids:  60%|██████    | 1214/2020 [5:26:40<3:27:44, 15.46s/movie]"
     ]
    },
    {
     "name": "stdout",
     "output_type": "stream",
     "text": [
      "Less than 25 reviews available - skipped\n"
     ]
    },
    {
     "name": "stderr",
     "output_type": "stream",
     "text": [
      "looking for review ids:  60%|██████    | 1216/2020 [5:27:10<3:22:00, 15.07s/movie]"
     ]
    },
    {
     "name": "stdout",
     "output_type": "stream",
     "text": [
      "Less than 25 reviews available - skipped\n"
     ]
    },
    {
     "name": "stderr",
     "output_type": "stream",
     "text": [
      "looking for review ids:  60%|██████    | 1217/2020 [5:27:25<3:24:09, 15.25s/movie]"
     ]
    },
    {
     "name": "stdout",
     "output_type": "stream",
     "text": [
      "Less than 25 reviews available - skipped\n"
     ]
    },
    {
     "name": "stderr",
     "output_type": "stream",
     "text": [
      "looking for review ids:  60%|██████    | 1218/2020 [5:27:41<3:24:42, 15.32s/movie]"
     ]
    },
    {
     "name": "stdout",
     "output_type": "stream",
     "text": [
      "Less than 25 reviews available - skipped\n"
     ]
    },
    {
     "name": "stderr",
     "output_type": "stream",
     "text": [
      "looking for review ids:  60%|██████    | 1219/2020 [5:27:57<3:26:19, 15.45s/movie]"
     ]
    },
    {
     "name": "stdout",
     "output_type": "stream",
     "text": [
      "Less than 25 reviews available - skipped\n"
     ]
    },
    {
     "name": "stderr",
     "output_type": "stream",
     "text": [
      "looking for review ids:  60%|██████    | 1220/2020 [5:28:13<3:27:42, 15.58s/movie]"
     ]
    },
    {
     "name": "stdout",
     "output_type": "stream",
     "text": [
      "Less than 25 reviews available - skipped\n"
     ]
    },
    {
     "name": "stderr",
     "output_type": "stream",
     "text": [
      "looking for review ids:  60%|██████    | 1222/2020 [5:28:42<3:18:48, 14.95s/movie]"
     ]
    },
    {
     "name": "stdout",
     "output_type": "stream",
     "text": [
      "Less than 25 reviews available - skipped\n"
     ]
    },
    {
     "name": "stderr",
     "output_type": "stream",
     "text": [
      "looking for review ids:  61%|██████    | 1223/2020 [5:28:57<3:20:44, 15.11s/movie]"
     ]
    },
    {
     "name": "stdout",
     "output_type": "stream",
     "text": [
      "Less than 25 reviews available - skipped\n"
     ]
    },
    {
     "name": "stderr",
     "output_type": "stream",
     "text": [
      "looking for review ids:  61%|██████    | 1224/2020 [5:29:13<3:22:59, 15.30s/movie]"
     ]
    },
    {
     "name": "stdout",
     "output_type": "stream",
     "text": [
      "Less than 25 reviews available - skipped\n"
     ]
    },
    {
     "name": "stderr",
     "output_type": "stream",
     "text": [
      "looking for review ids:  61%|██████    | 1225/2020 [5:29:29<3:25:32, 15.51s/movie]"
     ]
    },
    {
     "name": "stdout",
     "output_type": "stream",
     "text": [
      "Less than 25 reviews available - skipped\n"
     ]
    },
    {
     "name": "stderr",
     "output_type": "stream",
     "text": [
      "looking for review ids:  61%|██████    | 1226/2020 [5:29:45<3:26:40, 15.62s/movie]"
     ]
    },
    {
     "name": "stdout",
     "output_type": "stream",
     "text": [
      "Less than 25 reviews available - skipped\n"
     ]
    },
    {
     "name": "stderr",
     "output_type": "stream",
     "text": [
      "looking for review ids:  61%|██████    | 1227/2020 [5:30:01<3:27:00, 15.66s/movie]"
     ]
    },
    {
     "name": "stdout",
     "output_type": "stream",
     "text": [
      "Less than 25 reviews available - skipped\n"
     ]
    },
    {
     "name": "stderr",
     "output_type": "stream",
     "text": [
      "looking for review ids:  61%|██████    | 1228/2020 [5:30:16<3:27:32, 15.72s/movie]"
     ]
    },
    {
     "name": "stdout",
     "output_type": "stream",
     "text": [
      "Less than 25 reviews available - skipped\n"
     ]
    },
    {
     "name": "stderr",
     "output_type": "stream",
     "text": [
      "looking for review ids:  61%|██████    | 1229/2020 [5:30:32<3:28:32, 15.82s/movie]"
     ]
    },
    {
     "name": "stdout",
     "output_type": "stream",
     "text": [
      "Less than 25 reviews available - skipped\n"
     ]
    },
    {
     "name": "stderr",
     "output_type": "stream",
     "text": [
      "looking for review ids:  61%|██████    | 1230/2020 [5:30:48<3:28:11, 15.81s/movie]"
     ]
    },
    {
     "name": "stdout",
     "output_type": "stream",
     "text": [
      "Less than 25 reviews available - skipped\n"
     ]
    },
    {
     "name": "stderr",
     "output_type": "stream",
     "text": [
      "looking for review ids:  61%|██████    | 1231/2020 [5:31:04<3:28:21, 15.84s/movie]"
     ]
    },
    {
     "name": "stdout",
     "output_type": "stream",
     "text": [
      "Less than 25 reviews available - skipped\n"
     ]
    },
    {
     "name": "stderr",
     "output_type": "stream",
     "text": [
      "looking for review ids:  61%|██████    | 1232/2020 [5:31:20<3:27:53, 15.83s/movie]"
     ]
    },
    {
     "name": "stdout",
     "output_type": "stream",
     "text": [
      "Less than 25 reviews available - skipped\n"
     ]
    },
    {
     "name": "stderr",
     "output_type": "stream",
     "text": [
      "looking for review ids:  61%|██████    | 1233/2020 [5:31:36<3:27:16, 15.80s/movie]"
     ]
    },
    {
     "name": "stdout",
     "output_type": "stream",
     "text": [
      "Less than 25 reviews available - skipped\n"
     ]
    },
    {
     "name": "stderr",
     "output_type": "stream",
     "text": [
      "looking for review ids:  61%|██████    | 1234/2020 [5:31:52<3:28:01, 15.88s/movie]"
     ]
    },
    {
     "name": "stdout",
     "output_type": "stream",
     "text": [
      "Less than 25 reviews available - skipped\n"
     ]
    },
    {
     "name": "stderr",
     "output_type": "stream",
     "text": [
      "looking for review ids:  61%|██████    | 1235/2020 [5:32:07<3:25:52, 15.74s/movie]"
     ]
    },
    {
     "name": "stdout",
     "output_type": "stream",
     "text": [
      "Less than 25 reviews available - skipped\n"
     ]
    },
    {
     "name": "stderr",
     "output_type": "stream",
     "text": [
      "looking for review ids:  61%|██████    | 1236/2020 [5:32:23<3:26:34, 15.81s/movie]"
     ]
    },
    {
     "name": "stdout",
     "output_type": "stream",
     "text": [
      "Less than 25 reviews available - skipped\n"
     ]
    },
    {
     "name": "stderr",
     "output_type": "stream",
     "text": [
      "looking for review ids:  61%|██████▏   | 1238/2020 [5:32:54<3:22:29, 15.54s/movie]"
     ]
    },
    {
     "name": "stdout",
     "output_type": "stream",
     "text": [
      "Less than 25 reviews available - skipped\n"
     ]
    },
    {
     "name": "stderr",
     "output_type": "stream",
     "text": [
      "looking for review ids:  61%|██████▏   | 1239/2020 [5:33:10<3:22:09, 15.53s/movie]"
     ]
    },
    {
     "name": "stdout",
     "output_type": "stream",
     "text": [
      "Less than 25 reviews available - skipped\n"
     ]
    },
    {
     "name": "stderr",
     "output_type": "stream",
     "text": [
      "looking for review ids:  61%|██████▏   | 1240/2020 [5:33:25<3:22:33, 15.58s/movie]"
     ]
    },
    {
     "name": "stdout",
     "output_type": "stream",
     "text": [
      "Less than 25 reviews available - skipped\n"
     ]
    },
    {
     "name": "stderr",
     "output_type": "stream",
     "text": [
      "looking for review ids:  61%|██████▏   | 1241/2020 [5:33:41<3:23:31, 15.68s/movie]"
     ]
    },
    {
     "name": "stdout",
     "output_type": "stream",
     "text": [
      "Less than 25 reviews available - skipped\n"
     ]
    },
    {
     "name": "stderr",
     "output_type": "stream",
     "text": [
      "looking for review ids:  61%|██████▏   | 1242/2020 [5:33:57<3:23:55, 15.73s/movie]"
     ]
    },
    {
     "name": "stdout",
     "output_type": "stream",
     "text": [
      "Less than 25 reviews available - skipped\n"
     ]
    },
    {
     "name": "stderr",
     "output_type": "stream",
     "text": [
      "looking for review ids:  62%|██████▏   | 1243/2020 [5:34:13<3:23:05, 15.68s/movie]"
     ]
    },
    {
     "name": "stdout",
     "output_type": "stream",
     "text": [
      "Less than 25 reviews available - skipped\n"
     ]
    },
    {
     "name": "stderr",
     "output_type": "stream",
     "text": [
      "looking for review ids:  62%|██████▏   | 1244/2020 [5:34:29<3:23:00, 15.70s/movie]"
     ]
    },
    {
     "name": "stdout",
     "output_type": "stream",
     "text": [
      "Less than 25 reviews available - skipped\n"
     ]
    },
    {
     "name": "stderr",
     "output_type": "stream",
     "text": [
      "looking for review ids:  62%|██████▏   | 1245/2020 [5:34:44<3:23:18, 15.74s/movie]"
     ]
    },
    {
     "name": "stdout",
     "output_type": "stream",
     "text": [
      "Less than 25 reviews available - skipped\n"
     ]
    },
    {
     "name": "stderr",
     "output_type": "stream",
     "text": [
      "looking for review ids:  62%|██████▏   | 1246/2020 [5:35:00<3:22:55, 15.73s/movie]"
     ]
    },
    {
     "name": "stdout",
     "output_type": "stream",
     "text": [
      "Less than 25 reviews available - skipped\n"
     ]
    },
    {
     "name": "stderr",
     "output_type": "stream",
     "text": [
      "looking for review ids:  62%|██████▏   | 1247/2020 [5:35:16<3:22:51, 15.75s/movie]"
     ]
    },
    {
     "name": "stdout",
     "output_type": "stream",
     "text": [
      "Less than 25 reviews available - skipped\n"
     ]
    },
    {
     "name": "stderr",
     "output_type": "stream",
     "text": [
      "looking for review ids:  62%|██████▏   | 1248/2020 [5:35:32<3:22:24, 15.73s/movie]"
     ]
    },
    {
     "name": "stdout",
     "output_type": "stream",
     "text": [
      "Less than 25 reviews available - skipped\n"
     ]
    },
    {
     "name": "stderr",
     "output_type": "stream",
     "text": [
      "looking for review ids:  62%|██████▏   | 1249/2020 [5:35:47<3:22:55, 15.79s/movie]"
     ]
    },
    {
     "name": "stdout",
     "output_type": "stream",
     "text": [
      "Less than 25 reviews available - skipped\n"
     ]
    },
    {
     "name": "stderr",
     "output_type": "stream",
     "text": [
      "looking for review ids:  62%|██████▏   | 1250/2020 [5:36:03<3:23:30, 15.86s/movie]"
     ]
    },
    {
     "name": "stdout",
     "output_type": "stream",
     "text": [
      "Less than 25 reviews available - skipped\n"
     ]
    },
    {
     "name": "stderr",
     "output_type": "stream",
     "text": [
      "looking for review ids:  62%|██████▏   | 1251/2020 [5:36:19<3:23:16, 15.86s/movie]"
     ]
    },
    {
     "name": "stdout",
     "output_type": "stream",
     "text": [
      "Less than 25 reviews available - skipped\n"
     ]
    },
    {
     "name": "stderr",
     "output_type": "stream",
     "text": [
      "looking for review ids:  62%|██████▏   | 1252/2020 [5:36:35<3:23:31, 15.90s/movie]"
     ]
    },
    {
     "name": "stdout",
     "output_type": "stream",
     "text": [
      "Less than 25 reviews available - skipped\n"
     ]
    },
    {
     "name": "stderr",
     "output_type": "stream",
     "text": [
      "looking for review ids:  62%|██████▏   | 1253/2020 [5:36:51<3:22:57, 15.88s/movie]"
     ]
    },
    {
     "name": "stdout",
     "output_type": "stream",
     "text": [
      "Less than 25 reviews available - skipped\n"
     ]
    },
    {
     "name": "stderr",
     "output_type": "stream",
     "text": [
      "looking for review ids:  62%|██████▏   | 1254/2020 [5:37:07<3:21:29, 15.78s/movie]"
     ]
    },
    {
     "name": "stdout",
     "output_type": "stream",
     "text": [
      "Less than 25 reviews available - skipped\n"
     ]
    },
    {
     "name": "stderr",
     "output_type": "stream",
     "text": [
      "looking for review ids:  62%|██████▏   | 1255/2020 [5:37:23<3:21:24, 15.80s/movie]"
     ]
    },
    {
     "name": "stdout",
     "output_type": "stream",
     "text": [
      "Less than 25 reviews available - skipped\n"
     ]
    },
    {
     "name": "stderr",
     "output_type": "stream",
     "text": [
      "looking for review ids:  62%|██████▏   | 1256/2020 [5:37:38<3:21:35, 15.83s/movie]"
     ]
    },
    {
     "name": "stdout",
     "output_type": "stream",
     "text": [
      "Less than 25 reviews available - skipped\n"
     ]
    },
    {
     "name": "stderr",
     "output_type": "stream",
     "text": [
      "looking for review ids:  62%|██████▏   | 1257/2020 [5:37:54<3:20:54, 15.80s/movie]"
     ]
    },
    {
     "name": "stdout",
     "output_type": "stream",
     "text": [
      "Less than 25 reviews available - skipped\n"
     ]
    },
    {
     "name": "stderr",
     "output_type": "stream",
     "text": [
      "looking for review ids:  62%|██████▏   | 1258/2020 [5:38:10<3:20:13, 15.77s/movie]"
     ]
    },
    {
     "name": "stdout",
     "output_type": "stream",
     "text": [
      "Less than 25 reviews available - skipped\n"
     ]
    },
    {
     "name": "stderr",
     "output_type": "stream",
     "text": [
      "looking for review ids:  62%|██████▏   | 1259/2020 [5:38:25<3:19:00, 15.69s/movie]"
     ]
    },
    {
     "name": "stdout",
     "output_type": "stream",
     "text": [
      "Less than 25 reviews available - skipped\n"
     ]
    },
    {
     "name": "stderr",
     "output_type": "stream",
     "text": [
      "looking for review ids:  62%|██████▏   | 1260/2020 [5:38:41<3:18:19, 15.66s/movie]"
     ]
    },
    {
     "name": "stdout",
     "output_type": "stream",
     "text": [
      "Less than 25 reviews available - skipped\n"
     ]
    },
    {
     "name": "stderr",
     "output_type": "stream",
     "text": [
      "looking for review ids:  62%|██████▏   | 1262/2020 [5:39:11<3:12:25, 15.23s/movie]"
     ]
    },
    {
     "name": "stdout",
     "output_type": "stream",
     "text": [
      "Less than 25 reviews available - skipped\n"
     ]
    },
    {
     "name": "stderr",
     "output_type": "stream",
     "text": [
      "looking for review ids:  63%|██████▎   | 1263/2020 [5:39:26<3:13:26, 15.33s/movie]"
     ]
    },
    {
     "name": "stdout",
     "output_type": "stream",
     "text": [
      "Less than 25 reviews available - skipped\n"
     ]
    },
    {
     "name": "stderr",
     "output_type": "stream",
     "text": [
      "looking for review ids:  63%|██████▎   | 1264/2020 [5:39:42<3:14:26, 15.43s/movie]"
     ]
    },
    {
     "name": "stdout",
     "output_type": "stream",
     "text": [
      "Less than 25 reviews available - skipped\n"
     ]
    },
    {
     "name": "stderr",
     "output_type": "stream",
     "text": [
      "looking for review ids:  63%|██████▎   | 1265/2020 [5:39:58<3:15:15, 15.52s/movie]"
     ]
    },
    {
     "name": "stdout",
     "output_type": "stream",
     "text": [
      "Less than 25 reviews available - skipped\n"
     ]
    },
    {
     "name": "stderr",
     "output_type": "stream",
     "text": [
      "looking for review ids:  63%|██████▎   | 1266/2020 [5:40:14<3:15:40, 15.57s/movie]"
     ]
    },
    {
     "name": "stdout",
     "output_type": "stream",
     "text": [
      "Less than 25 reviews available - skipped\n"
     ]
    },
    {
     "name": "stderr",
     "output_type": "stream",
     "text": [
      "looking for review ids:  63%|██████▎   | 1267/2020 [5:40:29<3:15:52, 15.61s/movie]"
     ]
    },
    {
     "name": "stdout",
     "output_type": "stream",
     "text": [
      "Less than 25 reviews available - skipped\n"
     ]
    },
    {
     "name": "stderr",
     "output_type": "stream",
     "text": [
      "looking for review ids:  63%|██████▎   | 1268/2020 [5:40:45<3:16:43, 15.70s/movie]"
     ]
    },
    {
     "name": "stdout",
     "output_type": "stream",
     "text": [
      "Less than 25 reviews available - skipped\n"
     ]
    },
    {
     "name": "stderr",
     "output_type": "stream",
     "text": [
      "looking for review ids:  63%|██████▎   | 1269/2020 [5:41:01<3:16:13, 15.68s/movie]"
     ]
    },
    {
     "name": "stdout",
     "output_type": "stream",
     "text": [
      "Less than 25 reviews available - skipped\n"
     ]
    },
    {
     "name": "stderr",
     "output_type": "stream",
     "text": [
      "looking for review ids:  63%|██████▎   | 1271/2020 [5:41:30<3:06:08, 14.91s/movie]"
     ]
    },
    {
     "name": "stdout",
     "output_type": "stream",
     "text": [
      "Less than 25 reviews available - skipped\n"
     ]
    },
    {
     "name": "stderr",
     "output_type": "stream",
     "text": [
      "looking for review ids:  63%|██████▎   | 1272/2020 [5:41:45<3:08:24, 15.11s/movie]"
     ]
    },
    {
     "name": "stdout",
     "output_type": "stream",
     "text": [
      "Less than 25 reviews available - skipped\n"
     ]
    },
    {
     "name": "stderr",
     "output_type": "stream",
     "text": [
      "looking for review ids:  63%|██████▎   | 1274/2020 [5:42:14<3:03:20, 14.75s/movie]"
     ]
    },
    {
     "name": "stdout",
     "output_type": "stream",
     "text": [
      "Less than 25 reviews available - skipped\n"
     ]
    },
    {
     "name": "stderr",
     "output_type": "stream",
     "text": [
      "looking for review ids:  63%|██████▎   | 1275/2020 [5:42:30<3:07:52, 15.13s/movie]"
     ]
    },
    {
     "name": "stdout",
     "output_type": "stream",
     "text": [
      "Less than 25 reviews available - skipped\n"
     ]
    },
    {
     "name": "stderr",
     "output_type": "stream",
     "text": [
      "looking for review ids:  63%|██████▎   | 1276/2020 [5:42:46<3:10:16, 15.35s/movie]"
     ]
    },
    {
     "name": "stdout",
     "output_type": "stream",
     "text": [
      "Less than 25 reviews available - skipped\n"
     ]
    },
    {
     "name": "stderr",
     "output_type": "stream",
     "text": [
      "looking for review ids:  63%|██████▎   | 1277/2020 [5:43:02<3:10:57, 15.42s/movie]"
     ]
    },
    {
     "name": "stdout",
     "output_type": "stream",
     "text": [
      "Less than 25 reviews available - skipped\n"
     ]
    },
    {
     "name": "stderr",
     "output_type": "stream",
     "text": [
      "looking for review ids:  63%|██████▎   | 1278/2020 [5:43:17<3:11:14, 15.46s/movie]"
     ]
    },
    {
     "name": "stdout",
     "output_type": "stream",
     "text": [
      "Less than 25 reviews available - skipped\n"
     ]
    },
    {
     "name": "stderr",
     "output_type": "stream",
     "text": [
      "looking for review ids:  63%|██████▎   | 1279/2020 [5:43:33<3:12:02, 15.55s/movie]"
     ]
    },
    {
     "name": "stdout",
     "output_type": "stream",
     "text": [
      "Less than 25 reviews available - skipped\n"
     ]
    },
    {
     "name": "stderr",
     "output_type": "stream",
     "text": [
      "looking for review ids:  63%|██████▎   | 1280/2020 [5:43:49<3:13:11, 15.66s/movie]"
     ]
    },
    {
     "name": "stdout",
     "output_type": "stream",
     "text": [
      "Less than 25 reviews available - skipped\n"
     ]
    },
    {
     "name": "stderr",
     "output_type": "stream",
     "text": [
      "looking for review ids:  63%|██████▎   | 1281/2020 [5:44:05<3:14:02, 15.75s/movie]"
     ]
    },
    {
     "name": "stdout",
     "output_type": "stream",
     "text": [
      "Less than 25 reviews available - skipped\n"
     ]
    },
    {
     "name": "stderr",
     "output_type": "stream",
     "text": [
      "looking for review ids:  63%|██████▎   | 1282/2020 [5:44:21<3:15:33, 15.90s/movie]"
     ]
    },
    {
     "name": "stdout",
     "output_type": "stream",
     "text": [
      "Less than 25 reviews available - skipped\n"
     ]
    },
    {
     "name": "stderr",
     "output_type": "stream",
     "text": [
      "looking for review ids:  64%|██████▎   | 1283/2020 [5:44:37<3:13:47, 15.78s/movie]"
     ]
    },
    {
     "name": "stdout",
     "output_type": "stream",
     "text": [
      "Less than 25 reviews available - skipped\n"
     ]
    },
    {
     "name": "stderr",
     "output_type": "stream",
     "text": [
      "looking for review ids:  64%|██████▎   | 1284/2020 [5:44:52<3:12:37, 15.70s/movie]"
     ]
    },
    {
     "name": "stdout",
     "output_type": "stream",
     "text": [
      "Less than 25 reviews available - skipped\n"
     ]
    },
    {
     "name": "stderr",
     "output_type": "stream",
     "text": [
      "looking for review ids:  64%|██████▎   | 1285/2020 [5:45:08<3:11:25, 15.63s/movie]"
     ]
    },
    {
     "name": "stdout",
     "output_type": "stream",
     "text": [
      "Less than 25 reviews available - skipped\n"
     ]
    },
    {
     "name": "stderr",
     "output_type": "stream",
     "text": [
      "looking for review ids:  64%|██████▎   | 1286/2020 [5:45:24<3:11:51, 15.68s/movie]"
     ]
    },
    {
     "name": "stdout",
     "output_type": "stream",
     "text": [
      "Less than 25 reviews available - skipped\n"
     ]
    },
    {
     "name": "stderr",
     "output_type": "stream",
     "text": [
      "looking for review ids:  64%|██████▎   | 1287/2020 [5:45:39<3:12:00, 15.72s/movie]"
     ]
    },
    {
     "name": "stdout",
     "output_type": "stream",
     "text": [
      "Less than 25 reviews available - skipped\n"
     ]
    },
    {
     "name": "stderr",
     "output_type": "stream",
     "text": [
      "looking for review ids:  64%|██████▍   | 1288/2020 [5:45:55<3:12:13, 15.76s/movie]"
     ]
    },
    {
     "name": "stdout",
     "output_type": "stream",
     "text": [
      "Less than 25 reviews available - skipped\n"
     ]
    },
    {
     "name": "stderr",
     "output_type": "stream",
     "text": [
      "looking for review ids:  64%|██████▍   | 1289/2020 [5:46:11<3:12:36, 15.81s/movie]"
     ]
    },
    {
     "name": "stdout",
     "output_type": "stream",
     "text": [
      "Less than 25 reviews available - skipped\n"
     ]
    },
    {
     "name": "stderr",
     "output_type": "stream",
     "text": [
      "looking for review ids:  64%|██████▍   | 1290/2020 [5:46:27<3:13:16, 15.89s/movie]"
     ]
    },
    {
     "name": "stdout",
     "output_type": "stream",
     "text": [
      "Less than 25 reviews available - skipped\n"
     ]
    },
    {
     "name": "stderr",
     "output_type": "stream",
     "text": [
      "looking for review ids:  64%|██████▍   | 1291/2020 [5:46:43<3:11:39, 15.77s/movie]"
     ]
    },
    {
     "name": "stdout",
     "output_type": "stream",
     "text": [
      "Less than 25 reviews available - skipped\n"
     ]
    },
    {
     "name": "stderr",
     "output_type": "stream",
     "text": [
      "looking for review ids:  64%|██████▍   | 1292/2020 [5:46:58<3:11:17, 15.77s/movie]"
     ]
    },
    {
     "name": "stdout",
     "output_type": "stream",
     "text": [
      "Less than 25 reviews available - skipped\n"
     ]
    },
    {
     "name": "stderr",
     "output_type": "stream",
     "text": [
      "looking for review ids:  64%|██████▍   | 1293/2020 [5:47:14<3:11:27, 15.80s/movie]"
     ]
    },
    {
     "name": "stdout",
     "output_type": "stream",
     "text": [
      "Less than 25 reviews available - skipped\n"
     ]
    },
    {
     "name": "stderr",
     "output_type": "stream",
     "text": [
      "looking for review ids:  64%|██████▍   | 1294/2020 [5:47:30<3:10:29, 15.74s/movie]"
     ]
    },
    {
     "name": "stdout",
     "output_type": "stream",
     "text": [
      "Less than 25 reviews available - skipped\n"
     ]
    },
    {
     "name": "stderr",
     "output_type": "stream",
     "text": [
      "looking for review ids:  64%|██████▍   | 1295/2020 [5:47:46<3:11:06, 15.82s/movie]"
     ]
    },
    {
     "name": "stdout",
     "output_type": "stream",
     "text": [
      "Less than 25 reviews available - skipped\n"
     ]
    },
    {
     "name": "stderr",
     "output_type": "stream",
     "text": [
      "looking for review ids:  64%|██████▍   | 1296/2020 [5:48:02<3:11:05, 15.84s/movie]"
     ]
    },
    {
     "name": "stdout",
     "output_type": "stream",
     "text": [
      "Less than 25 reviews available - skipped\n"
     ]
    },
    {
     "name": "stderr",
     "output_type": "stream",
     "text": [
      "looking for review ids:  64%|██████▍   | 1297/2020 [5:48:18<3:10:31, 15.81s/movie]"
     ]
    },
    {
     "name": "stdout",
     "output_type": "stream",
     "text": [
      "Less than 25 reviews available - skipped\n"
     ]
    },
    {
     "name": "stderr",
     "output_type": "stream",
     "text": [
      "looking for review ids:  64%|██████▍   | 1298/2020 [5:48:33<3:10:03, 15.79s/movie]"
     ]
    },
    {
     "name": "stdout",
     "output_type": "stream",
     "text": [
      "Less than 25 reviews available - skipped\n"
     ]
    },
    {
     "name": "stderr",
     "output_type": "stream",
     "text": [
      "looking for review ids:  64%|██████▍   | 1299/2020 [5:48:49<3:09:05, 15.74s/movie]"
     ]
    },
    {
     "name": "stdout",
     "output_type": "stream",
     "text": [
      "Less than 25 reviews available - skipped\n"
     ]
    },
    {
     "name": "stderr",
     "output_type": "stream",
     "text": [
      "looking for review ids:  64%|██████▍   | 1300/2020 [5:49:05<3:08:45, 15.73s/movie]"
     ]
    },
    {
     "name": "stdout",
     "output_type": "stream",
     "text": [
      "Less than 25 reviews available - skipped\n"
     ]
    },
    {
     "name": "stderr",
     "output_type": "stream",
     "text": [
      "looking for review ids:  64%|██████▍   | 1301/2020 [5:49:20<3:07:40, 15.66s/movie]"
     ]
    },
    {
     "name": "stdout",
     "output_type": "stream",
     "text": [
      "Less than 25 reviews available - skipped\n"
     ]
    },
    {
     "name": "stderr",
     "output_type": "stream",
     "text": [
      "looking for review ids:  65%|██████▍   | 1303/2020 [5:49:49<2:59:42, 15.04s/movie]"
     ]
    },
    {
     "name": "stdout",
     "output_type": "stream",
     "text": [
      "Less than 25 reviews available - skipped\n"
     ]
    },
    {
     "name": "stderr",
     "output_type": "stream",
     "text": [
      "looking for review ids:  65%|██████▍   | 1304/2020 [5:50:05<3:02:25, 15.29s/movie]"
     ]
    },
    {
     "name": "stdout",
     "output_type": "stream",
     "text": [
      "Less than 25 reviews available - skipped\n"
     ]
    },
    {
     "name": "stderr",
     "output_type": "stream",
     "text": [
      "looking for review ids:  65%|██████▍   | 1306/2020 [5:50:34<2:56:23, 14.82s/movie]"
     ]
    },
    {
     "name": "stdout",
     "output_type": "stream",
     "text": [
      "Less than 25 reviews available - skipped\n"
     ]
    },
    {
     "name": "stderr",
     "output_type": "stream",
     "text": [
      "looking for review ids:  65%|██████▍   | 1307/2020 [5:50:50<3:00:08, 15.16s/movie]"
     ]
    },
    {
     "name": "stdout",
     "output_type": "stream",
     "text": [
      "Less than 25 reviews available - skipped\n"
     ]
    },
    {
     "name": "stderr",
     "output_type": "stream",
     "text": [
      "looking for review ids:  65%|██████▍   | 1308/2020 [5:51:06<3:01:26, 15.29s/movie]"
     ]
    },
    {
     "name": "stdout",
     "output_type": "stream",
     "text": [
      "Less than 25 reviews available - skipped\n"
     ]
    },
    {
     "name": "stderr",
     "output_type": "stream",
     "text": [
      "looking for review ids:  65%|██████▍   | 1309/2020 [5:51:22<3:02:24, 15.39s/movie]"
     ]
    },
    {
     "name": "stdout",
     "output_type": "stream",
     "text": [
      "Less than 25 reviews available - skipped\n"
     ]
    },
    {
     "name": "stderr",
     "output_type": "stream",
     "text": [
      "looking for review ids:  65%|██████▍   | 1310/2020 [5:51:37<3:03:24, 15.50s/movie]"
     ]
    },
    {
     "name": "stdout",
     "output_type": "stream",
     "text": [
      "Less than 25 reviews available - skipped\n"
     ]
    },
    {
     "name": "stderr",
     "output_type": "stream",
     "text": [
      "looking for review ids:  65%|██████▍   | 1311/2020 [5:51:54<3:05:44, 15.72s/movie]"
     ]
    },
    {
     "name": "stdout",
     "output_type": "stream",
     "text": [
      "Less than 25 reviews available - skipped\n"
     ]
    },
    {
     "name": "stderr",
     "output_type": "stream",
     "text": [
      "looking for review ids:  65%|██████▍   | 1312/2020 [5:52:09<3:05:56, 15.76s/movie]"
     ]
    },
    {
     "name": "stdout",
     "output_type": "stream",
     "text": [
      "Less than 25 reviews available - skipped\n"
     ]
    },
    {
     "name": "stderr",
     "output_type": "stream",
     "text": [
      "looking for review ids:  65%|██████▌   | 1313/2020 [5:52:25<3:05:55, 15.78s/movie]"
     ]
    },
    {
     "name": "stdout",
     "output_type": "stream",
     "text": [
      "Less than 25 reviews available - skipped\n"
     ]
    },
    {
     "name": "stderr",
     "output_type": "stream",
     "text": [
      "looking for review ids:  65%|██████▌   | 1314/2020 [5:52:41<3:04:34, 15.69s/movie]"
     ]
    },
    {
     "name": "stdout",
     "output_type": "stream",
     "text": [
      "Less than 25 reviews available - skipped\n"
     ]
    },
    {
     "name": "stderr",
     "output_type": "stream",
     "text": [
      "looking for review ids:  65%|██████▌   | 1315/2020 [5:52:57<3:04:45, 15.72s/movie]"
     ]
    },
    {
     "name": "stdout",
     "output_type": "stream",
     "text": [
      "Less than 25 reviews available - skipped\n"
     ]
    },
    {
     "name": "stderr",
     "output_type": "stream",
     "text": [
      "looking for review ids:  65%|██████▌   | 1316/2020 [5:53:12<3:04:13, 15.70s/movie]"
     ]
    },
    {
     "name": "stdout",
     "output_type": "stream",
     "text": [
      "Less than 25 reviews available - skipped\n"
     ]
    },
    {
     "name": "stderr",
     "output_type": "stream",
     "text": [
      "looking for review ids:  65%|██████▌   | 1317/2020 [5:53:28<3:03:26, 15.66s/movie]"
     ]
    },
    {
     "name": "stdout",
     "output_type": "stream",
     "text": [
      "Less than 25 reviews available - skipped\n"
     ]
    },
    {
     "name": "stderr",
     "output_type": "stream",
     "text": [
      "looking for review ids:  65%|██████▌   | 1319/2020 [5:53:57<2:55:42, 15.04s/movie]"
     ]
    },
    {
     "name": "stdout",
     "output_type": "stream",
     "text": [
      "Less than 25 reviews available - skipped\n"
     ]
    },
    {
     "name": "stderr",
     "output_type": "stream",
     "text": [
      "looking for review ids:  65%|██████▌   | 1320/2020 [5:54:13<2:57:52, 15.25s/movie]"
     ]
    },
    {
     "name": "stdout",
     "output_type": "stream",
     "text": [
      "Less than 25 reviews available - skipped\n"
     ]
    },
    {
     "name": "stderr",
     "output_type": "stream",
     "text": [
      "looking for review ids:  65%|██████▌   | 1322/2020 [5:54:42<2:52:22, 14.82s/movie]"
     ]
    },
    {
     "name": "stdout",
     "output_type": "stream",
     "text": [
      "Less than 25 reviews available - skipped\n"
     ]
    },
    {
     "name": "stderr",
     "output_type": "stream",
     "text": [
      "looking for review ids:  66%|██████▌   | 1324/2020 [5:55:12<2:50:00, 14.66s/movie]"
     ]
    },
    {
     "name": "stdout",
     "output_type": "stream",
     "text": [
      "Less than 25 reviews available - skipped\n"
     ]
    },
    {
     "name": "stderr",
     "output_type": "stream",
     "text": [
      "looking for review ids:  66%|██████▌   | 1325/2020 [5:55:27<2:52:27, 14.89s/movie]"
     ]
    },
    {
     "name": "stdout",
     "output_type": "stream",
     "text": [
      "Less than 25 reviews available - skipped\n"
     ]
    },
    {
     "name": "stderr",
     "output_type": "stream",
     "text": [
      "looking for review ids:  66%|██████▌   | 1326/2020 [5:55:43<2:55:49, 15.20s/movie]"
     ]
    },
    {
     "name": "stdout",
     "output_type": "stream",
     "text": [
      "Less than 25 reviews available - skipped\n"
     ]
    },
    {
     "name": "stderr",
     "output_type": "stream",
     "text": [
      "looking for review ids:  66%|██████▌   | 1328/2020 [5:56:12<2:49:50, 14.73s/movie]"
     ]
    },
    {
     "name": "stdout",
     "output_type": "stream",
     "text": [
      "Less than 25 reviews available - skipped\n"
     ]
    },
    {
     "name": "stderr",
     "output_type": "stream",
     "text": [
      "looking for review ids:  66%|██████▌   | 1329/2020 [5:56:28<2:52:50, 15.01s/movie]"
     ]
    },
    {
     "name": "stdout",
     "output_type": "stream",
     "text": [
      "Less than 25 reviews available - skipped\n"
     ]
    },
    {
     "name": "stderr",
     "output_type": "stream",
     "text": [
      "looking for review ids:  66%|██████▌   | 1330/2020 [5:56:43<2:55:08, 15.23s/movie]"
     ]
    },
    {
     "name": "stdout",
     "output_type": "stream",
     "text": [
      "Less than 25 reviews available - skipped\n"
     ]
    },
    {
     "name": "stderr",
     "output_type": "stream",
     "text": [
      "looking for review ids:  66%|██████▌   | 1331/2020 [5:56:59<2:57:03, 15.42s/movie]"
     ]
    },
    {
     "name": "stdout",
     "output_type": "stream",
     "text": [
      "Less than 25 reviews available - skipped\n"
     ]
    },
    {
     "name": "stderr",
     "output_type": "stream",
     "text": [
      "looking for review ids:  66%|██████▌   | 1332/2020 [5:57:15<2:58:17, 15.55s/movie]"
     ]
    },
    {
     "name": "stdout",
     "output_type": "stream",
     "text": [
      "Less than 25 reviews available - skipped\n"
     ]
    },
    {
     "name": "stderr",
     "output_type": "stream",
     "text": [
      "looking for review ids:  66%|██████▌   | 1333/2020 [5:57:31<2:58:15, 15.57s/movie]"
     ]
    },
    {
     "name": "stdout",
     "output_type": "stream",
     "text": [
      "Less than 25 reviews available - skipped\n"
     ]
    },
    {
     "name": "stderr",
     "output_type": "stream",
     "text": [
      "looking for review ids:  66%|██████▌   | 1334/2020 [5:57:46<2:58:33, 15.62s/movie]"
     ]
    },
    {
     "name": "stdout",
     "output_type": "stream",
     "text": [
      "Less than 25 reviews available - skipped\n"
     ]
    },
    {
     "name": "stderr",
     "output_type": "stream",
     "text": [
      "looking for review ids:  66%|██████▌   | 1335/2020 [5:58:02<2:57:53, 15.58s/movie]"
     ]
    },
    {
     "name": "stdout",
     "output_type": "stream",
     "text": [
      "Less than 25 reviews available - skipped\n"
     ]
    },
    {
     "name": "stderr",
     "output_type": "stream",
     "text": [
      "looking for review ids:  66%|██████▌   | 1337/2020 [5:58:31<2:51:25, 15.06s/movie]"
     ]
    },
    {
     "name": "stdout",
     "output_type": "stream",
     "text": [
      "Less than 25 reviews available - skipped\n"
     ]
    },
    {
     "name": "stderr",
     "output_type": "stream",
     "text": [
      "looking for review ids:  66%|██████▌   | 1338/2020 [5:58:48<2:55:13, 15.42s/movie]"
     ]
    },
    {
     "name": "stdout",
     "output_type": "stream",
     "text": [
      "Less than 25 reviews available - skipped\n"
     ]
    },
    {
     "name": "stderr",
     "output_type": "stream",
     "text": [
      "looking for review ids:  66%|██████▋   | 1342/2020 [5:59:44<2:41:25, 14.29s/movie]"
     ]
    },
    {
     "name": "stdout",
     "output_type": "stream",
     "text": [
      "Less than 25 reviews available - skipped\n"
     ]
    },
    {
     "name": "stderr",
     "output_type": "stream",
     "text": [
      "looking for review ids:  66%|██████▋   | 1343/2020 [6:00:00<2:46:05, 14.72s/movie]"
     ]
    },
    {
     "name": "stdout",
     "output_type": "stream",
     "text": [
      "Less than 25 reviews available - skipped\n"
     ]
    },
    {
     "name": "stderr",
     "output_type": "stream",
     "text": [
      "looking for review ids:  67%|██████▋   | 1344/2020 [6:00:16<2:50:12, 15.11s/movie]"
     ]
    },
    {
     "name": "stdout",
     "output_type": "stream",
     "text": [
      "Less than 25 reviews available - skipped\n"
     ]
    },
    {
     "name": "stderr",
     "output_type": "stream",
     "text": [
      "looking for review ids:  67%|██████▋   | 1346/2020 [6:00:45<2:45:40, 14.75s/movie]"
     ]
    },
    {
     "name": "stdout",
     "output_type": "stream",
     "text": [
      "Less than 25 reviews available - skipped\n"
     ]
    },
    {
     "name": "stderr",
     "output_type": "stream",
     "text": [
      "looking for review ids:  67%|██████▋   | 1347/2020 [6:01:01<2:48:33, 15.03s/movie]"
     ]
    },
    {
     "name": "stdout",
     "output_type": "stream",
     "text": [
      "Less than 25 reviews available - skipped\n"
     ]
    },
    {
     "name": "stderr",
     "output_type": "stream",
     "text": [
      "looking for review ids:  67%|██████▋   | 1348/2020 [6:01:17<2:52:23, 15.39s/movie]"
     ]
    },
    {
     "name": "stdout",
     "output_type": "stream",
     "text": [
      "Less than 25 reviews available - skipped\n"
     ]
    },
    {
     "name": "stderr",
     "output_type": "stream",
     "text": [
      "looking for review ids:  67%|██████▋   | 1349/2020 [6:01:33<2:53:48, 15.54s/movie]"
     ]
    },
    {
     "name": "stdout",
     "output_type": "stream",
     "text": [
      "Less than 25 reviews available - skipped\n"
     ]
    },
    {
     "name": "stderr",
     "output_type": "stream",
     "text": [
      "looking for review ids:  67%|██████▋   | 1350/2020 [6:01:49<2:54:10, 15.60s/movie]"
     ]
    },
    {
     "name": "stdout",
     "output_type": "stream",
     "text": [
      "Less than 25 reviews available - skipped\n"
     ]
    },
    {
     "name": "stderr",
     "output_type": "stream",
     "text": [
      "looking for review ids:  67%|██████▋   | 1351/2020 [6:02:05<2:54:11, 15.62s/movie]"
     ]
    },
    {
     "name": "stdout",
     "output_type": "stream",
     "text": [
      "Less than 25 reviews available - skipped\n"
     ]
    },
    {
     "name": "stderr",
     "output_type": "stream",
     "text": [
      "looking for review ids:  67%|██████▋   | 1352/2020 [6:02:20<2:53:48, 15.61s/movie]"
     ]
    },
    {
     "name": "stdout",
     "output_type": "stream",
     "text": [
      "Less than 25 reviews available - skipped\n"
     ]
    },
    {
     "name": "stderr",
     "output_type": "stream",
     "text": [
      "looking for review ids:  67%|██████▋   | 1353/2020 [6:02:36<2:54:26, 15.69s/movie]"
     ]
    },
    {
     "name": "stdout",
     "output_type": "stream",
     "text": [
      "Less than 25 reviews available - skipped\n"
     ]
    },
    {
     "name": "stderr",
     "output_type": "stream",
     "text": [
      "looking for review ids:  67%|██████▋   | 1354/2020 [6:02:52<2:54:08, 15.69s/movie]"
     ]
    },
    {
     "name": "stdout",
     "output_type": "stream",
     "text": [
      "Less than 25 reviews available - skipped\n"
     ]
    },
    {
     "name": "stderr",
     "output_type": "stream",
     "text": [
      "looking for review ids:  67%|██████▋   | 1356/2020 [6:03:21<2:46:51, 15.08s/movie]"
     ]
    },
    {
     "name": "stdout",
     "output_type": "stream",
     "text": [
      "Less than 25 reviews available - skipped\n"
     ]
    },
    {
     "name": "stderr",
     "output_type": "stream",
     "text": [
      "looking for review ids:  67%|██████▋   | 1357/2020 [6:03:37<2:50:22, 15.42s/movie]"
     ]
    },
    {
     "name": "stdout",
     "output_type": "stream",
     "text": [
      "Less than 25 reviews available - skipped\n"
     ]
    },
    {
     "name": "stderr",
     "output_type": "stream",
     "text": [
      "looking for review ids:  67%|██████▋   | 1358/2020 [6:03:53<2:51:06, 15.51s/movie]"
     ]
    },
    {
     "name": "stdout",
     "output_type": "stream",
     "text": [
      "Less than 25 reviews available - skipped\n"
     ]
    },
    {
     "name": "stderr",
     "output_type": "stream",
     "text": [
      "looking for review ids:  67%|██████▋   | 1359/2020 [6:04:09<2:51:01, 15.52s/movie]"
     ]
    },
    {
     "name": "stdout",
     "output_type": "stream",
     "text": [
      "Less than 25 reviews available - skipped\n"
     ]
    },
    {
     "name": "stderr",
     "output_type": "stream",
     "text": [
      "looking for review ids:  67%|██████▋   | 1362/2020 [6:04:52<2:42:11, 14.79s/movie]"
     ]
    },
    {
     "name": "stdout",
     "output_type": "stream",
     "text": [
      "Less than 25 reviews available - skipped\n"
     ]
    },
    {
     "name": "stderr",
     "output_type": "stream",
     "text": [
      "looking for review ids:  67%|██████▋   | 1363/2020 [6:05:08<2:45:31, 15.12s/movie]"
     ]
    },
    {
     "name": "stdout",
     "output_type": "stream",
     "text": [
      "Less than 25 reviews available - skipped\n"
     ]
    },
    {
     "name": "stderr",
     "output_type": "stream",
     "text": [
      "looking for review ids:  68%|██████▊   | 1364/2020 [6:05:24<2:46:51, 15.26s/movie]"
     ]
    },
    {
     "name": "stdout",
     "output_type": "stream",
     "text": [
      "Less than 25 reviews available - skipped\n"
     ]
    },
    {
     "name": "stderr",
     "output_type": "stream",
     "text": [
      "looking for review ids:  68%|██████▊   | 1365/2020 [6:05:40<2:47:55, 15.38s/movie]"
     ]
    },
    {
     "name": "stdout",
     "output_type": "stream",
     "text": [
      "Less than 25 reviews available - skipped\n"
     ]
    },
    {
     "name": "stderr",
     "output_type": "stream",
     "text": [
      "looking for review ids:  68%|██████▊   | 1366/2020 [6:05:55<2:49:04, 15.51s/movie]"
     ]
    },
    {
     "name": "stdout",
     "output_type": "stream",
     "text": [
      "Less than 25 reviews available - skipped\n"
     ]
    },
    {
     "name": "stderr",
     "output_type": "stream",
     "text": [
      "looking for review ids:  68%|██████▊   | 1367/2020 [6:06:11<2:50:07, 15.63s/movie]"
     ]
    },
    {
     "name": "stdout",
     "output_type": "stream",
     "text": [
      "Less than 25 reviews available - skipped\n"
     ]
    },
    {
     "name": "stderr",
     "output_type": "stream",
     "text": [
      "looking for review ids:  68%|██████▊   | 1368/2020 [6:06:27<2:49:45, 15.62s/movie]"
     ]
    },
    {
     "name": "stdout",
     "output_type": "stream",
     "text": [
      "Less than 25 reviews available - skipped\n"
     ]
    },
    {
     "name": "stderr",
     "output_type": "stream",
     "text": [
      "looking for review ids:  68%|██████▊   | 1369/2020 [6:06:42<2:48:56, 15.57s/movie]"
     ]
    },
    {
     "name": "stdout",
     "output_type": "stream",
     "text": [
      "Less than 25 reviews available - skipped\n"
     ]
    },
    {
     "name": "stderr",
     "output_type": "stream",
     "text": [
      "looking for review ids:  68%|██████▊   | 1370/2020 [6:06:58<2:49:51, 15.68s/movie]"
     ]
    },
    {
     "name": "stdout",
     "output_type": "stream",
     "text": [
      "Less than 25 reviews available - skipped\n"
     ]
    },
    {
     "name": "stderr",
     "output_type": "stream",
     "text": [
      "looking for review ids:  68%|██████▊   | 1371/2020 [6:07:14<2:49:13, 15.64s/movie]"
     ]
    },
    {
     "name": "stdout",
     "output_type": "stream",
     "text": [
      "Less than 25 reviews available - skipped\n"
     ]
    },
    {
     "name": "stderr",
     "output_type": "stream",
     "text": [
      "looking for review ids:  68%|██████▊   | 1372/2020 [6:07:29<2:48:44, 15.62s/movie]"
     ]
    },
    {
     "name": "stdout",
     "output_type": "stream",
     "text": [
      "Less than 25 reviews available - skipped\n"
     ]
    },
    {
     "name": "stderr",
     "output_type": "stream",
     "text": [
      "looking for review ids:  68%|██████▊   | 1373/2020 [6:07:45<2:49:22, 15.71s/movie]"
     ]
    },
    {
     "name": "stdout",
     "output_type": "stream",
     "text": [
      "Less than 25 reviews available - skipped\n"
     ]
    },
    {
     "name": "stderr",
     "output_type": "stream",
     "text": [
      "looking for review ids:  68%|██████▊   | 1375/2020 [6:08:14<2:41:41, 15.04s/movie]"
     ]
    },
    {
     "name": "stdout",
     "output_type": "stream",
     "text": [
      "Less than 25 reviews available - skipped\n"
     ]
    },
    {
     "name": "stderr",
     "output_type": "stream",
     "text": [
      "looking for review ids:  68%|██████▊   | 1376/2020 [6:08:30<2:42:48, 15.17s/movie]"
     ]
    },
    {
     "name": "stdout",
     "output_type": "stream",
     "text": [
      "Less than 25 reviews available - skipped\n"
     ]
    },
    {
     "name": "stderr",
     "output_type": "stream",
     "text": [
      "looking for review ids:  68%|██████▊   | 1377/2020 [6:08:46<2:44:41, 15.37s/movie]"
     ]
    },
    {
     "name": "stdout",
     "output_type": "stream",
     "text": [
      "Less than 25 reviews available - skipped\n"
     ]
    },
    {
     "name": "stderr",
     "output_type": "stream",
     "text": [
      "looking for review ids:  68%|██████▊   | 1379/2020 [6:09:15<2:38:08, 14.80s/movie]"
     ]
    },
    {
     "name": "stdout",
     "output_type": "stream",
     "text": [
      "Less than 25 reviews available - skipped\n"
     ]
    },
    {
     "name": "stderr",
     "output_type": "stream",
     "text": [
      "looking for review ids:  68%|██████▊   | 1380/2020 [6:09:30<2:40:05, 15.01s/movie]"
     ]
    },
    {
     "name": "stdout",
     "output_type": "stream",
     "text": [
      "Less than 25 reviews available - skipped\n"
     ]
    },
    {
     "name": "stderr",
     "output_type": "stream",
     "text": [
      "looking for review ids:  68%|██████▊   | 1382/2020 [6:09:59<2:35:45, 14.65s/movie]"
     ]
    },
    {
     "name": "stdout",
     "output_type": "stream",
     "text": [
      "Less than 25 reviews available - skipped\n"
     ]
    },
    {
     "name": "stderr",
     "output_type": "stream",
     "text": [
      "looking for review ids:  68%|██████▊   | 1383/2020 [6:10:15<2:38:54, 14.97s/movie]"
     ]
    },
    {
     "name": "stdout",
     "output_type": "stream",
     "text": [
      "Less than 25 reviews available - skipped\n"
     ]
    },
    {
     "name": "stderr",
     "output_type": "stream",
     "text": [
      "looking for review ids:  69%|██████▊   | 1384/2020 [6:10:30<2:40:33, 15.15s/movie]"
     ]
    },
    {
     "name": "stdout",
     "output_type": "stream",
     "text": [
      "Less than 25 reviews available - skipped\n"
     ]
    },
    {
     "name": "stderr",
     "output_type": "stream",
     "text": [
      "looking for review ids:  69%|██████▊   | 1385/2020 [6:10:46<2:41:48, 15.29s/movie]"
     ]
    },
    {
     "name": "stdout",
     "output_type": "stream",
     "text": [
      "Less than 25 reviews available - skipped\n"
     ]
    },
    {
     "name": "stderr",
     "output_type": "stream",
     "text": [
      "looking for review ids:  69%|██████▊   | 1386/2020 [6:11:02<2:43:30, 15.47s/movie]"
     ]
    },
    {
     "name": "stdout",
     "output_type": "stream",
     "text": [
      "Less than 25 reviews available - skipped\n"
     ]
    },
    {
     "name": "stderr",
     "output_type": "stream",
     "text": [
      "looking for review ids:  69%|██████▊   | 1387/2020 [6:11:18<2:43:51, 15.53s/movie]"
     ]
    },
    {
     "name": "stdout",
     "output_type": "stream",
     "text": [
      "Less than 25 reviews available - skipped\n"
     ]
    },
    {
     "name": "stderr",
     "output_type": "stream",
     "text": [
      "looking for review ids:  69%|██████▉   | 1389/2020 [6:11:47<2:36:49, 14.91s/movie]"
     ]
    },
    {
     "name": "stdout",
     "output_type": "stream",
     "text": [
      "Less than 25 reviews available - skipped\n"
     ]
    },
    {
     "name": "stderr",
     "output_type": "stream",
     "text": [
      "looking for review ids:  69%|██████▉   | 1390/2020 [6:12:02<2:38:59, 15.14s/movie]"
     ]
    },
    {
     "name": "stdout",
     "output_type": "stream",
     "text": [
      "Less than 25 reviews available - skipped\n"
     ]
    },
    {
     "name": "stderr",
     "output_type": "stream",
     "text": [
      "looking for review ids:  69%|██████▉   | 1391/2020 [6:12:18<2:40:23, 15.30s/movie]"
     ]
    },
    {
     "name": "stdout",
     "output_type": "stream",
     "text": [
      "Less than 25 reviews available - skipped\n"
     ]
    },
    {
     "name": "stderr",
     "output_type": "stream",
     "text": [
      "looking for review ids:  69%|██████▉   | 1394/2020 [6:13:01<2:31:12, 14.49s/movie]"
     ]
    },
    {
     "name": "stdout",
     "output_type": "stream",
     "text": [
      "Less than 25 reviews available - skipped\n"
     ]
    },
    {
     "name": "stderr",
     "output_type": "stream",
     "text": [
      "looking for review ids:  69%|██████▉   | 1396/2020 [6:13:30<2:27:54, 14.22s/movie]"
     ]
    },
    {
     "name": "stdout",
     "output_type": "stream",
     "text": [
      "Less than 25 reviews available - skipped\n"
     ]
    },
    {
     "name": "stderr",
     "output_type": "stream",
     "text": [
      "looking for review ids:  69%|██████▉   | 1398/2020 [6:13:59<2:28:20, 14.31s/movie]"
     ]
    },
    {
     "name": "stdout",
     "output_type": "stream",
     "text": [
      "Less than 25 reviews available - skipped\n"
     ]
    },
    {
     "name": "stderr",
     "output_type": "stream",
     "text": [
      "looking for review ids:  69%|██████▉   | 1399/2020 [6:14:15<2:32:50, 14.77s/movie]"
     ]
    },
    {
     "name": "stdout",
     "output_type": "stream",
     "text": [
      "Less than 25 reviews available - skipped\n"
     ]
    },
    {
     "name": "stderr",
     "output_type": "stream",
     "text": [
      "looking for review ids:  69%|██████▉   | 1400/2020 [6:14:30<2:35:50, 15.08s/movie]"
     ]
    },
    {
     "name": "stdout",
     "output_type": "stream",
     "text": [
      "Less than 25 reviews available - skipped\n"
     ]
    },
    {
     "name": "stderr",
     "output_type": "stream",
     "text": [
      "looking for review ids:  69%|██████▉   | 1401/2020 [6:14:46<2:37:36, 15.28s/movie]"
     ]
    },
    {
     "name": "stdout",
     "output_type": "stream",
     "text": [
      "Less than 25 reviews available - skipped\n"
     ]
    },
    {
     "name": "stderr",
     "output_type": "stream",
     "text": [
      "looking for review ids:  69%|██████▉   | 1402/2020 [6:15:02<2:39:09, 15.45s/movie]"
     ]
    },
    {
     "name": "stdout",
     "output_type": "stream",
     "text": [
      "Less than 25 reviews available - skipped\n"
     ]
    },
    {
     "name": "stderr",
     "output_type": "stream",
     "text": [
      "looking for review ids:  69%|██████▉   | 1403/2020 [6:15:18<2:40:23, 15.60s/movie]"
     ]
    },
    {
     "name": "stdout",
     "output_type": "stream",
     "text": [
      "Less than 25 reviews available - skipped\n"
     ]
    },
    {
     "name": "stderr",
     "output_type": "stream",
     "text": [
      "looking for review ids:  70%|██████▉   | 1404/2020 [6:15:34<2:40:41, 15.65s/movie]"
     ]
    },
    {
     "name": "stdout",
     "output_type": "stream",
     "text": [
      "Less than 25 reviews available - skipped\n"
     ]
    },
    {
     "name": "stderr",
     "output_type": "stream",
     "text": [
      "looking for review ids:  70%|██████▉   | 1405/2020 [6:15:50<2:41:15, 15.73s/movie]"
     ]
    },
    {
     "name": "stdout",
     "output_type": "stream",
     "text": [
      "Less than 25 reviews available - skipped\n"
     ]
    },
    {
     "name": "stderr",
     "output_type": "stream",
     "text": [
      "looking for review ids:  70%|██████▉   | 1406/2020 [6:16:05<2:41:03, 15.74s/movie]"
     ]
    },
    {
     "name": "stdout",
     "output_type": "stream",
     "text": [
      "Less than 25 reviews available - skipped\n"
     ]
    },
    {
     "name": "stderr",
     "output_type": "stream",
     "text": [
      "looking for review ids:  70%|██████▉   | 1407/2020 [6:16:21<2:41:36, 15.82s/movie]"
     ]
    },
    {
     "name": "stdout",
     "output_type": "stream",
     "text": [
      "Less than 25 reviews available - skipped\n"
     ]
    },
    {
     "name": "stderr",
     "output_type": "stream",
     "text": [
      "looking for review ids:  70%|██████▉   | 1408/2020 [6:16:37<2:41:13, 15.81s/movie]"
     ]
    },
    {
     "name": "stdout",
     "output_type": "stream",
     "text": [
      "Less than 25 reviews available - skipped\n"
     ]
    },
    {
     "name": "stderr",
     "output_type": "stream",
     "text": [
      "looking for review ids:  70%|██████▉   | 1409/2020 [6:16:53<2:40:29, 15.76s/movie]"
     ]
    },
    {
     "name": "stdout",
     "output_type": "stream",
     "text": [
      "Less than 25 reviews available - skipped\n"
     ]
    },
    {
     "name": "stderr",
     "output_type": "stream",
     "text": [
      "looking for review ids:  70%|██████▉   | 1410/2020 [6:17:09<2:39:56, 15.73s/movie]"
     ]
    },
    {
     "name": "stdout",
     "output_type": "stream",
     "text": [
      "Less than 25 reviews available - skipped\n"
     ]
    },
    {
     "name": "stderr",
     "output_type": "stream",
     "text": [
      "looking for review ids:  70%|██████▉   | 1412/2020 [6:17:38<2:33:44, 15.17s/movie]"
     ]
    },
    {
     "name": "stdout",
     "output_type": "stream",
     "text": [
      "Less than 25 reviews available - skipped\n"
     ]
    },
    {
     "name": "stderr",
     "output_type": "stream",
     "text": [
      "looking for review ids:  70%|██████▉   | 1413/2020 [6:17:54<2:35:50, 15.40s/movie]"
     ]
    },
    {
     "name": "stdout",
     "output_type": "stream",
     "text": [
      "Less than 25 reviews available - skipped\n"
     ]
    },
    {
     "name": "stderr",
     "output_type": "stream",
     "text": [
      "looking for review ids:  70%|███████   | 1414/2020 [6:18:10<2:36:55, 15.54s/movie]"
     ]
    },
    {
     "name": "stdout",
     "output_type": "stream",
     "text": [
      "Less than 25 reviews available - skipped\n"
     ]
    },
    {
     "name": "stderr",
     "output_type": "stream",
     "text": [
      "looking for review ids:  70%|███████   | 1415/2020 [6:18:26<2:37:33, 15.63s/movie]"
     ]
    },
    {
     "name": "stdout",
     "output_type": "stream",
     "text": [
      "Less than 25 reviews available - skipped\n"
     ]
    },
    {
     "name": "stderr",
     "output_type": "stream",
     "text": [
      "looking for review ids:  70%|███████   | 1416/2020 [6:18:42<2:38:07, 15.71s/movie]"
     ]
    },
    {
     "name": "stdout",
     "output_type": "stream",
     "text": [
      "Less than 25 reviews available - skipped\n"
     ]
    },
    {
     "name": "stderr",
     "output_type": "stream",
     "text": [
      "looking for review ids:  70%|███████   | 1417/2020 [6:18:57<2:37:07, 15.63s/movie]"
     ]
    },
    {
     "name": "stdout",
     "output_type": "stream",
     "text": [
      "Less than 25 reviews available - skipped\n"
     ]
    },
    {
     "name": "stderr",
     "output_type": "stream",
     "text": [
      "looking for review ids:  70%|███████   | 1418/2020 [6:19:13<2:37:42, 15.72s/movie]"
     ]
    },
    {
     "name": "stdout",
     "output_type": "stream",
     "text": [
      "Less than 25 reviews available - skipped\n"
     ]
    },
    {
     "name": "stderr",
     "output_type": "stream",
     "text": [
      "looking for review ids:  70%|███████   | 1419/2020 [6:19:29<2:37:43, 15.75s/movie]"
     ]
    },
    {
     "name": "stdout",
     "output_type": "stream",
     "text": [
      "Less than 25 reviews available - skipped\n"
     ]
    },
    {
     "name": "stderr",
     "output_type": "stream",
     "text": [
      "looking for review ids:  70%|███████   | 1420/2020 [6:19:45<2:36:58, 15.70s/movie]"
     ]
    },
    {
     "name": "stdout",
     "output_type": "stream",
     "text": [
      "Less than 25 reviews available - skipped\n"
     ]
    },
    {
     "name": "stderr",
     "output_type": "stream",
     "text": [
      "looking for review ids:  70%|███████   | 1421/2020 [6:20:00<2:36:39, 15.69s/movie]"
     ]
    },
    {
     "name": "stdout",
     "output_type": "stream",
     "text": [
      "Less than 25 reviews available - skipped\n"
     ]
    },
    {
     "name": "stderr",
     "output_type": "stream",
     "text": [
      "looking for review ids:  70%|███████   | 1422/2020 [6:20:16<2:36:39, 15.72s/movie]"
     ]
    },
    {
     "name": "stdout",
     "output_type": "stream",
     "text": [
      "Less than 25 reviews available - skipped\n"
     ]
    },
    {
     "name": "stderr",
     "output_type": "stream",
     "text": [
      "looking for review ids:  70%|███████   | 1423/2020 [6:20:32<2:37:20, 15.81s/movie]"
     ]
    },
    {
     "name": "stdout",
     "output_type": "stream",
     "text": [
      "Less than 25 reviews available - skipped\n"
     ]
    },
    {
     "name": "stderr",
     "output_type": "stream",
     "text": [
      "looking for review ids:  70%|███████   | 1424/2020 [6:20:48<2:36:59, 15.80s/movie]"
     ]
    },
    {
     "name": "stdout",
     "output_type": "stream",
     "text": [
      "Less than 25 reviews available - skipped\n"
     ]
    },
    {
     "name": "stderr",
     "output_type": "stream",
     "text": [
      "looking for review ids:  71%|███████   | 1425/2020 [6:21:03<2:35:45, 15.71s/movie]"
     ]
    },
    {
     "name": "stdout",
     "output_type": "stream",
     "text": [
      "Less than 25 reviews available - skipped\n"
     ]
    },
    {
     "name": "stderr",
     "output_type": "stream",
     "text": [
      "looking for review ids:  71%|███████   | 1426/2020 [6:21:19<2:36:10, 15.77s/movie]"
     ]
    },
    {
     "name": "stdout",
     "output_type": "stream",
     "text": [
      "Less than 25 reviews available - skipped\n"
     ]
    },
    {
     "name": "stderr",
     "output_type": "stream",
     "text": [
      "looking for review ids:  71%|███████   | 1427/2020 [6:21:35<2:36:36, 15.85s/movie]"
     ]
    },
    {
     "name": "stdout",
     "output_type": "stream",
     "text": [
      "Less than 25 reviews available - skipped\n"
     ]
    },
    {
     "name": "stderr",
     "output_type": "stream",
     "text": [
      "looking for review ids:  71%|███████   | 1428/2020 [6:21:51<2:35:27, 15.76s/movie]"
     ]
    },
    {
     "name": "stdout",
     "output_type": "stream",
     "text": [
      "Less than 25 reviews available - skipped\n"
     ]
    },
    {
     "name": "stderr",
     "output_type": "stream",
     "text": [
      "looking for review ids:  71%|███████   | 1429/2020 [6:22:07<2:35:31, 15.79s/movie]"
     ]
    },
    {
     "name": "stdout",
     "output_type": "stream",
     "text": [
      "Less than 25 reviews available - skipped\n"
     ]
    },
    {
     "name": "stderr",
     "output_type": "stream",
     "text": [
      "looking for review ids:  71%|███████   | 1430/2020 [6:22:23<2:35:43, 15.84s/movie]"
     ]
    },
    {
     "name": "stdout",
     "output_type": "stream",
     "text": [
      "Less than 25 reviews available - skipped\n"
     ]
    },
    {
     "name": "stderr",
     "output_type": "stream",
     "text": [
      "looking for review ids:  71%|███████   | 1431/2020 [6:22:38<2:34:37, 15.75s/movie]"
     ]
    },
    {
     "name": "stdout",
     "output_type": "stream",
     "text": [
      "Less than 25 reviews available - skipped\n"
     ]
    },
    {
     "name": "stderr",
     "output_type": "stream",
     "text": [
      "looking for review ids:  71%|███████   | 1432/2020 [6:22:54<2:34:14, 15.74s/movie]"
     ]
    },
    {
     "name": "stdout",
     "output_type": "stream",
     "text": [
      "Less than 25 reviews available - skipped\n"
     ]
    },
    {
     "name": "stderr",
     "output_type": "stream",
     "text": [
      "looking for review ids:  71%|███████   | 1433/2020 [6:23:10<2:34:11, 15.76s/movie]"
     ]
    },
    {
     "name": "stdout",
     "output_type": "stream",
     "text": [
      "Less than 25 reviews available - skipped\n"
     ]
    },
    {
     "name": "stderr",
     "output_type": "stream",
     "text": [
      "looking for review ids:  71%|███████   | 1434/2020 [6:23:25<2:33:36, 15.73s/movie]"
     ]
    },
    {
     "name": "stdout",
     "output_type": "stream",
     "text": [
      "Less than 25 reviews available - skipped\n"
     ]
    },
    {
     "name": "stderr",
     "output_type": "stream",
     "text": [
      "looking for review ids:  71%|███████   | 1435/2020 [6:23:41<2:34:14, 15.82s/movie]"
     ]
    },
    {
     "name": "stdout",
     "output_type": "stream",
     "text": [
      "Less than 25 reviews available - skipped\n"
     ]
    },
    {
     "name": "stderr",
     "output_type": "stream",
     "text": [
      "looking for review ids:  71%|███████   | 1436/2020 [6:23:57<2:33:28, 15.77s/movie]"
     ]
    },
    {
     "name": "stdout",
     "output_type": "stream",
     "text": [
      "Less than 25 reviews available - skipped\n"
     ]
    },
    {
     "name": "stderr",
     "output_type": "stream",
     "text": [
      "looking for review ids:  71%|███████   | 1437/2020 [6:24:13<2:33:26, 15.79s/movie]"
     ]
    },
    {
     "name": "stdout",
     "output_type": "stream",
     "text": [
      "Less than 25 reviews available - skipped\n"
     ]
    },
    {
     "name": "stderr",
     "output_type": "stream",
     "text": [
      "looking for review ids:  71%|███████   | 1438/2020 [6:24:29<2:33:24, 15.81s/movie]"
     ]
    },
    {
     "name": "stdout",
     "output_type": "stream",
     "text": [
      "Less than 25 reviews available - skipped\n"
     ]
    },
    {
     "name": "stderr",
     "output_type": "stream",
     "text": [
      "looking for review ids:  71%|███████   | 1439/2020 [6:24:45<2:33:13, 15.82s/movie]"
     ]
    },
    {
     "name": "stdout",
     "output_type": "stream",
     "text": [
      "Less than 25 reviews available - skipped\n"
     ]
    },
    {
     "name": "stderr",
     "output_type": "stream",
     "text": [
      "looking for review ids:  71%|███████▏  | 1440/2020 [6:25:00<2:33:10, 15.85s/movie]"
     ]
    },
    {
     "name": "stdout",
     "output_type": "stream",
     "text": [
      "Less than 25 reviews available - skipped\n"
     ]
    },
    {
     "name": "stderr",
     "output_type": "stream",
     "text": [
      "looking for review ids:  71%|███████▏  | 1441/2020 [6:25:16<2:31:45, 15.73s/movie]"
     ]
    },
    {
     "name": "stdout",
     "output_type": "stream",
     "text": [
      "Less than 25 reviews available - skipped\n"
     ]
    },
    {
     "name": "stderr",
     "output_type": "stream",
     "text": [
      "looking for review ids:  71%|███████▏  | 1442/2020 [6:25:31<2:30:50, 15.66s/movie]"
     ]
    },
    {
     "name": "stdout",
     "output_type": "stream",
     "text": [
      "Less than 25 reviews available - skipped\n"
     ]
    },
    {
     "name": "stderr",
     "output_type": "stream",
     "text": [
      "looking for review ids:  71%|███████▏  | 1444/2020 [6:26:01<2:26:40, 15.28s/movie]"
     ]
    },
    {
     "name": "stdout",
     "output_type": "stream",
     "text": [
      "esecuzione interrotta tempo finito\n"
     ]
    },
    {
     "name": "stderr",
     "output_type": "stream",
     "text": [
      "looking for review ids:  72%|███████▏  | 1445/2020 [6:26:44<3:44:51, 23.46s/movie]"
     ]
    },
    {
     "name": "stdout",
     "output_type": "stream",
     "text": [
      "Less than 25 reviews available - skipped\n"
     ]
    },
    {
     "name": "stderr",
     "output_type": "stream",
     "text": [
      "looking for review ids:  72%|███████▏  | 1446/2020 [6:27:00<3:22:28, 21.16s/movie]"
     ]
    },
    {
     "name": "stdout",
     "output_type": "stream",
     "text": [
      "Less than 25 reviews available - skipped\n"
     ]
    },
    {
     "name": "stderr",
     "output_type": "stream",
     "text": [
      "looking for review ids:  72%|███████▏  | 1447/2020 [6:27:16<3:06:35, 19.54s/movie]"
     ]
    },
    {
     "name": "stdout",
     "output_type": "stream",
     "text": [
      "Less than 25 reviews available - skipped\n"
     ]
    },
    {
     "name": "stderr",
     "output_type": "stream",
     "text": [
      "looking for review ids:  72%|███████▏  | 1448/2020 [6:27:31<2:54:59, 18.36s/movie]"
     ]
    },
    {
     "name": "stdout",
     "output_type": "stream",
     "text": [
      "Less than 25 reviews available - skipped\n"
     ]
    },
    {
     "name": "stderr",
     "output_type": "stream",
     "text": [
      "looking for review ids:  72%|███████▏  | 1450/2020 [6:28:00<2:34:41, 16.28s/movie]"
     ]
    },
    {
     "name": "stdout",
     "output_type": "stream",
     "text": [
      "Less than 25 reviews available - skipped\n"
     ]
    },
    {
     "name": "stderr",
     "output_type": "stream",
     "text": [
      "looking for review ids:  72%|███████▏  | 1451/2020 [6:28:16<2:32:44, 16.11s/movie]"
     ]
    },
    {
     "name": "stdout",
     "output_type": "stream",
     "text": [
      "Less than 25 reviews available - skipped\n"
     ]
    },
    {
     "name": "stderr",
     "output_type": "stream",
     "text": [
      "looking for review ids:  72%|███████▏  | 1452/2020 [6:28:32<2:31:19, 15.99s/movie]"
     ]
    },
    {
     "name": "stdout",
     "output_type": "stream",
     "text": [
      "Less than 25 reviews available - skipped\n"
     ]
    },
    {
     "name": "stderr",
     "output_type": "stream",
     "text": [
      "looking for review ids:  72%|███████▏  | 1453/2020 [6:28:47<2:30:32, 15.93s/movie]"
     ]
    },
    {
     "name": "stdout",
     "output_type": "stream",
     "text": [
      "Less than 25 reviews available - skipped\n"
     ]
    },
    {
     "name": "stderr",
     "output_type": "stream",
     "text": [
      "looking for review ids:  72%|███████▏  | 1454/2020 [6:29:03<2:30:30, 15.95s/movie]"
     ]
    },
    {
     "name": "stdout",
     "output_type": "stream",
     "text": [
      "Less than 25 reviews available - skipped\n"
     ]
    },
    {
     "name": "stderr",
     "output_type": "stream",
     "text": [
      "looking for review ids:  72%|███████▏  | 1455/2020 [6:29:19<2:29:53, 15.92s/movie]"
     ]
    },
    {
     "name": "stdout",
     "output_type": "stream",
     "text": [
      "Less than 25 reviews available - skipped\n"
     ]
    },
    {
     "name": "stderr",
     "output_type": "stream",
     "text": [
      "looking for review ids:  72%|███████▏  | 1456/2020 [6:29:35<2:29:39, 15.92s/movie]"
     ]
    },
    {
     "name": "stdout",
     "output_type": "stream",
     "text": [
      "Less than 25 reviews available - skipped\n"
     ]
    },
    {
     "name": "stderr",
     "output_type": "stream",
     "text": [
      "looking for review ids:  72%|███████▏  | 1457/2020 [6:29:51<2:28:39, 15.84s/movie]"
     ]
    },
    {
     "name": "stdout",
     "output_type": "stream",
     "text": [
      "Less than 25 reviews available - skipped\n"
     ]
    },
    {
     "name": "stderr",
     "output_type": "stream",
     "text": [
      "looking for review ids:  72%|███████▏  | 1458/2020 [6:30:07<2:28:45, 15.88s/movie]"
     ]
    },
    {
     "name": "stdout",
     "output_type": "stream",
     "text": [
      "Less than 25 reviews available - skipped\n"
     ]
    },
    {
     "name": "stderr",
     "output_type": "stream",
     "text": [
      "looking for review ids:  72%|███████▏  | 1461/2020 [6:30:49<2:16:22, 14.64s/movie]"
     ]
    },
    {
     "name": "stdout",
     "output_type": "stream",
     "text": [
      "Less than 25 reviews available - skipped\n"
     ]
    },
    {
     "name": "stderr",
     "output_type": "stream",
     "text": [
      "looking for review ids:  72%|███████▏  | 1463/2020 [6:31:18<2:13:14, 14.35s/movie]"
     ]
    },
    {
     "name": "stdout",
     "output_type": "stream",
     "text": [
      "Less than 25 reviews available - skipped\n"
     ]
    },
    {
     "name": "stderr",
     "output_type": "stream",
     "text": [
      "looking for review ids:  73%|███████▎  | 1465/2020 [6:31:47<2:12:35, 14.33s/movie]"
     ]
    },
    {
     "name": "stdout",
     "output_type": "stream",
     "text": [
      "Less than 25 reviews available - skipped\n"
     ]
    },
    {
     "name": "stderr",
     "output_type": "stream",
     "text": [
      "looking for review ids:  73%|███████▎  | 1466/2020 [6:32:02<2:15:52, 14.72s/movie]"
     ]
    },
    {
     "name": "stdout",
     "output_type": "stream",
     "text": [
      "Less than 25 reviews available - skipped\n"
     ]
    },
    {
     "name": "stderr",
     "output_type": "stream",
     "text": [
      "looking for review ids:  73%|███████▎  | 1468/2020 [6:32:32<2:14:53, 14.66s/movie]"
     ]
    },
    {
     "name": "stdout",
     "output_type": "stream",
     "text": [
      "Less than 25 reviews available - skipped\n"
     ]
    },
    {
     "name": "stderr",
     "output_type": "stream",
     "text": [
      "looking for review ids:  73%|███████▎  | 1469/2020 [6:32:48<2:17:11, 14.94s/movie]"
     ]
    },
    {
     "name": "stdout",
     "output_type": "stream",
     "text": [
      "Less than 25 reviews available - skipped\n"
     ]
    },
    {
     "name": "stderr",
     "output_type": "stream",
     "text": [
      "looking for review ids:  73%|███████▎  | 1470/2020 [6:33:03<2:19:28, 15.22s/movie]"
     ]
    },
    {
     "name": "stdout",
     "output_type": "stream",
     "text": [
      "esecuzione interrotta tempo finito\n"
     ]
    },
    {
     "name": "stderr",
     "output_type": "stream",
     "text": [
      "looking for review ids:  73%|███████▎  | 1471/2020 [6:33:46<3:35:31, 23.55s/movie]"
     ]
    },
    {
     "name": "stdout",
     "output_type": "stream",
     "text": [
      "Less than 25 reviews available - skipped\n"
     ]
    },
    {
     "name": "stderr",
     "output_type": "stream",
     "text": [
      "looking for review ids:  73%|███████▎  | 1473/2020 [6:34:15<2:51:56, 18.86s/movie]"
     ]
    },
    {
     "name": "stdout",
     "output_type": "stream",
     "text": [
      "Less than 25 reviews available - skipped\n"
     ]
    },
    {
     "name": "stderr",
     "output_type": "stream",
     "text": [
      "looking for review ids:  73%|███████▎  | 1474/2020 [6:34:31<2:43:12, 17.94s/movie]"
     ]
    },
    {
     "name": "stdout",
     "output_type": "stream",
     "text": [
      "Less than 25 reviews available - skipped\n"
     ]
    },
    {
     "name": "stderr",
     "output_type": "stream",
     "text": [
      "looking for review ids:  73%|███████▎  | 1476/2020 [6:35:00<2:25:27, 16.04s/movie]"
     ]
    },
    {
     "name": "stdout",
     "output_type": "stream",
     "text": [
      "Less than 25 reviews available - skipped\n"
     ]
    },
    {
     "name": "stderr",
     "output_type": "stream",
     "text": [
      "looking for review ids:  73%|███████▎  | 1478/2020 [6:35:29<2:17:12, 15.19s/movie]"
     ]
    },
    {
     "name": "stdout",
     "output_type": "stream",
     "text": [
      "Less than 25 reviews available - skipped\n"
     ]
    },
    {
     "name": "stderr",
     "output_type": "stream",
     "text": [
      "looking for review ids:  73%|███████▎  | 1479/2020 [6:35:45<2:19:03, 15.42s/movie]"
     ]
    },
    {
     "name": "stdout",
     "output_type": "stream",
     "text": [
      "Less than 25 reviews available - skipped\n"
     ]
    },
    {
     "name": "stderr",
     "output_type": "stream",
     "text": [
      "looking for review ids:  73%|███████▎  | 1480/2020 [6:36:01<2:20:04, 15.56s/movie]"
     ]
    },
    {
     "name": "stdout",
     "output_type": "stream",
     "text": [
      "Less than 25 reviews available - skipped\n"
     ]
    },
    {
     "name": "stderr",
     "output_type": "stream",
     "text": [
      "looking for review ids:  73%|███████▎  | 1481/2020 [6:36:17<2:20:15, 15.61s/movie]"
     ]
    },
    {
     "name": "stdout",
     "output_type": "stream",
     "text": [
      "Less than 25 reviews available - skipped\n"
     ]
    },
    {
     "name": "stderr",
     "output_type": "stream",
     "text": [
      "looking for review ids:  73%|███████▎  | 1482/2020 [6:36:32<2:19:44, 15.58s/movie]"
     ]
    },
    {
     "name": "stdout",
     "output_type": "stream",
     "text": [
      "Less than 25 reviews available - skipped\n"
     ]
    },
    {
     "name": "stderr",
     "output_type": "stream",
     "text": [
      "looking for review ids:  73%|███████▎  | 1483/2020 [6:36:48<2:20:16, 15.67s/movie]"
     ]
    },
    {
     "name": "stdout",
     "output_type": "stream",
     "text": [
      "Less than 25 reviews available - skipped\n"
     ]
    },
    {
     "name": "stderr",
     "output_type": "stream",
     "text": [
      "looking for review ids:  73%|███████▎  | 1484/2020 [6:37:04<2:20:36, 15.74s/movie]"
     ]
    },
    {
     "name": "stdout",
     "output_type": "stream",
     "text": [
      "Less than 25 reviews available - skipped\n"
     ]
    },
    {
     "name": "stderr",
     "output_type": "stream",
     "text": [
      "looking for review ids:  74%|███████▎  | 1485/2020 [6:37:20<2:21:03, 15.82s/movie]"
     ]
    },
    {
     "name": "stdout",
     "output_type": "stream",
     "text": [
      "Less than 25 reviews available - skipped\n"
     ]
    },
    {
     "name": "stderr",
     "output_type": "stream",
     "text": [
      "looking for review ids:  74%|███████▎  | 1487/2020 [6:37:49<2:14:16, 15.12s/movie]"
     ]
    },
    {
     "name": "stdout",
     "output_type": "stream",
     "text": [
      "Less than 25 reviews available - skipped\n"
     ]
    },
    {
     "name": "stderr",
     "output_type": "stream",
     "text": [
      "looking for review ids:  74%|███████▎  | 1488/2020 [6:38:05<2:15:20, 15.27s/movie]"
     ]
    },
    {
     "name": "stdout",
     "output_type": "stream",
     "text": [
      "Less than 25 reviews available - skipped\n"
     ]
    },
    {
     "name": "stderr",
     "output_type": "stream",
     "text": [
      "looking for review ids:  74%|███████▍  | 1490/2020 [6:38:35<2:13:49, 15.15s/movie]"
     ]
    },
    {
     "name": "stdout",
     "output_type": "stream",
     "text": [
      "Less than 25 reviews available - skipped\n"
     ]
    },
    {
     "name": "stderr",
     "output_type": "stream",
     "text": [
      "looking for review ids:  74%|███████▍  | 1491/2020 [6:38:51<2:16:15, 15.45s/movie]"
     ]
    },
    {
     "name": "stdout",
     "output_type": "stream",
     "text": [
      "Less than 25 reviews available - skipped\n"
     ]
    },
    {
     "name": "stderr",
     "output_type": "stream",
     "text": [
      "looking for review ids:  74%|███████▍  | 1492/2020 [6:39:07<2:17:10, 15.59s/movie]"
     ]
    },
    {
     "name": "stdout",
     "output_type": "stream",
     "text": [
      "Less than 25 reviews available - skipped\n"
     ]
    },
    {
     "name": "stderr",
     "output_type": "stream",
     "text": [
      "looking for review ids:  74%|███████▍  | 1493/2020 [6:39:23<2:16:59, 15.60s/movie]"
     ]
    },
    {
     "name": "stdout",
     "output_type": "stream",
     "text": [
      "Less than 25 reviews available - skipped\n"
     ]
    },
    {
     "name": "stderr",
     "output_type": "stream",
     "text": [
      "looking for review ids:  74%|███████▍  | 1495/2020 [6:39:53<2:13:35, 15.27s/movie]"
     ]
    },
    {
     "name": "stdout",
     "output_type": "stream",
     "text": [
      "esecuzione interrotta tempo finito\n"
     ]
    },
    {
     "name": "stderr",
     "output_type": "stream",
     "text": [
      "looking for review ids:  74%|███████▍  | 1496/2020 [6:40:36<3:25:27, 23.53s/movie]"
     ]
    },
    {
     "name": "stdout",
     "output_type": "stream",
     "text": [
      "Less than 25 reviews available - skipped\n"
     ]
    },
    {
     "name": "stderr",
     "output_type": "stream",
     "text": [
      "looking for review ids:  74%|███████▍  | 1499/2020 [6:41:19<2:31:16, 17.42s/movie]"
     ]
    },
    {
     "name": "stdout",
     "output_type": "stream",
     "text": [
      "Less than 25 reviews available - skipped\n"
     ]
    },
    {
     "name": "stderr",
     "output_type": "stream",
     "text": [
      "looking for review ids:  74%|███████▍  | 1501/2020 [6:41:48<2:16:42, 15.80s/movie]"
     ]
    },
    {
     "name": "stdout",
     "output_type": "stream",
     "text": [
      "Less than 25 reviews available - skipped\n"
     ]
    },
    {
     "name": "stderr",
     "output_type": "stream",
     "text": [
      "looking for review ids:  74%|███████▍  | 1502/2020 [6:42:04<2:15:52, 15.74s/movie]"
     ]
    },
    {
     "name": "stdout",
     "output_type": "stream",
     "text": [
      "esecuzione interrotta tempo finito\n"
     ]
    },
    {
     "name": "stderr",
     "output_type": "stream",
     "text": [
      "looking for review ids:  74%|███████▍  | 1503/2020 [6:42:46<3:24:25, 23.73s/movie]"
     ]
    },
    {
     "name": "stdout",
     "output_type": "stream",
     "text": [
      "Less than 25 reviews available - skipped\n"
     ]
    },
    {
     "name": "stderr",
     "output_type": "stream",
     "text": [
      "looking for review ids:  74%|███████▍  | 1504/2020 [6:43:02<3:03:22, 21.32s/movie]"
     ]
    },
    {
     "name": "stdout",
     "output_type": "stream",
     "text": [
      "Less than 25 reviews available - skipped\n"
     ]
    },
    {
     "name": "stderr",
     "output_type": "stream",
     "text": [
      "looking for review ids:  75%|███████▍  | 1505/2020 [6:43:18<2:48:44, 19.66s/movie]"
     ]
    },
    {
     "name": "stdout",
     "output_type": "stream",
     "text": [
      "Less than 25 reviews available - skipped\n"
     ]
    },
    {
     "name": "stderr",
     "output_type": "stream",
     "text": [
      "looking for review ids:  75%|███████▍  | 1506/2020 [6:43:34<2:38:19, 18.48s/movie]"
     ]
    },
    {
     "name": "stdout",
     "output_type": "stream",
     "text": [
      "Less than 25 reviews available - skipped\n"
     ]
    },
    {
     "name": "stderr",
     "output_type": "stream",
     "text": [
      "looking for review ids:  75%|███████▍  | 1507/2020 [6:43:49<2:30:31, 17.61s/movie]"
     ]
    },
    {
     "name": "stdout",
     "output_type": "stream",
     "text": [
      "Less than 25 reviews available - skipped\n"
     ]
    },
    {
     "name": "stderr",
     "output_type": "stream",
     "text": [
      "looking for review ids:  75%|███████▍  | 1508/2020 [6:44:05<2:25:05, 17.00s/movie]"
     ]
    },
    {
     "name": "stdout",
     "output_type": "stream",
     "text": [
      "Less than 25 reviews available - skipped\n"
     ]
    },
    {
     "name": "stderr",
     "output_type": "stream",
     "text": [
      "looking for review ids:  75%|███████▍  | 1509/2020 [6:44:20<2:21:00, 16.56s/movie]"
     ]
    },
    {
     "name": "stdout",
     "output_type": "stream",
     "text": [
      "Less than 25 reviews available - skipped\n"
     ]
    },
    {
     "name": "stderr",
     "output_type": "stream",
     "text": [
      "looking for review ids:  75%|███████▍  | 1510/2020 [6:44:38<2:23:51, 16.92s/movie]"
     ]
    },
    {
     "name": "stdout",
     "output_type": "stream",
     "text": [
      "Less than 25 reviews available - skipped\n"
     ]
    },
    {
     "name": "stderr",
     "output_type": "stream",
     "text": [
      "looking for review ids:  75%|███████▍  | 1511/2020 [6:44:55<2:22:41, 16.82s/movie]"
     ]
    },
    {
     "name": "stdout",
     "output_type": "stream",
     "text": [
      "Less than 25 reviews available - skipped\n"
     ]
    },
    {
     "name": "stderr",
     "output_type": "stream",
     "text": [
      "looking for review ids:  75%|███████▍  | 1512/2020 [6:45:10<2:19:44, 16.50s/movie]"
     ]
    },
    {
     "name": "stdout",
     "output_type": "stream",
     "text": [
      "Less than 25 reviews available - skipped\n"
     ]
    },
    {
     "name": "stderr",
     "output_type": "stream",
     "text": [
      "looking for review ids:  75%|███████▍  | 1513/2020 [6:45:26<2:17:52, 16.32s/movie]"
     ]
    },
    {
     "name": "stdout",
     "output_type": "stream",
     "text": [
      "Less than 25 reviews available - skipped\n"
     ]
    },
    {
     "name": "stderr",
     "output_type": "stream",
     "text": [
      "looking for review ids:  75%|███████▍  | 1514/2020 [6:45:42<2:15:43, 16.09s/movie]"
     ]
    },
    {
     "name": "stdout",
     "output_type": "stream",
     "text": [
      "Less than 25 reviews available - skipped\n"
     ]
    },
    {
     "name": "stderr",
     "output_type": "stream",
     "text": [
      "looking for review ids:  75%|███████▌  | 1515/2020 [6:45:58<2:15:26, 16.09s/movie]"
     ]
    },
    {
     "name": "stdout",
     "output_type": "stream",
     "text": [
      "Less than 25 reviews available - skipped\n"
     ]
    },
    {
     "name": "stderr",
     "output_type": "stream",
     "text": [
      "looking for review ids:  75%|███████▌  | 1516/2020 [6:46:14<2:14:05, 15.96s/movie]"
     ]
    },
    {
     "name": "stdout",
     "output_type": "stream",
     "text": [
      "Less than 25 reviews available - skipped\n"
     ]
    },
    {
     "name": "stderr",
     "output_type": "stream",
     "text": [
      "looking for review ids:  75%|███████▌  | 1517/2020 [6:46:29<2:12:24, 15.79s/movie]"
     ]
    },
    {
     "name": "stdout",
     "output_type": "stream",
     "text": [
      "Less than 25 reviews available - skipped\n"
     ]
    },
    {
     "name": "stderr",
     "output_type": "stream",
     "text": [
      "looking for review ids:  75%|███████▌  | 1518/2020 [6:46:45<2:12:29, 15.84s/movie]"
     ]
    },
    {
     "name": "stdout",
     "output_type": "stream",
     "text": [
      "Less than 25 reviews available - skipped\n"
     ]
    },
    {
     "name": "stderr",
     "output_type": "stream",
     "text": [
      "looking for review ids:  75%|███████▌  | 1519/2020 [6:47:01<2:12:20, 15.85s/movie]"
     ]
    },
    {
     "name": "stdout",
     "output_type": "stream",
     "text": [
      "Less than 25 reviews available - skipped\n"
     ]
    },
    {
     "name": "stderr",
     "output_type": "stream",
     "text": [
      "looking for review ids:  75%|███████▌  | 1520/2020 [6:47:17<2:12:07, 15.85s/movie]"
     ]
    },
    {
     "name": "stdout",
     "output_type": "stream",
     "text": [
      "Less than 25 reviews available - skipped\n"
     ]
    },
    {
     "name": "stderr",
     "output_type": "stream",
     "text": [
      "looking for review ids:  75%|███████▌  | 1521/2020 [6:47:32<2:11:37, 15.83s/movie]"
     ]
    },
    {
     "name": "stdout",
     "output_type": "stream",
     "text": [
      "Less than 25 reviews available - skipped\n"
     ]
    },
    {
     "name": "stderr",
     "output_type": "stream",
     "text": [
      "looking for review ids:  75%|███████▌  | 1522/2020 [6:47:48<2:10:39, 15.74s/movie]"
     ]
    },
    {
     "name": "stdout",
     "output_type": "stream",
     "text": [
      "Less than 25 reviews available - skipped\n"
     ]
    },
    {
     "name": "stderr",
     "output_type": "stream",
     "text": [
      "looking for review ids:  75%|███████▌  | 1523/2020 [6:48:04<2:11:22, 15.86s/movie]"
     ]
    },
    {
     "name": "stdout",
     "output_type": "stream",
     "text": [
      "Less than 25 reviews available - skipped\n"
     ]
    },
    {
     "name": "stderr",
     "output_type": "stream",
     "text": [
      "looking for review ids:  75%|███████▌  | 1524/2020 [6:48:20<2:10:24, 15.78s/movie]"
     ]
    },
    {
     "name": "stdout",
     "output_type": "stream",
     "text": [
      "Less than 25 reviews available - skipped\n"
     ]
    },
    {
     "name": "stderr",
     "output_type": "stream",
     "text": [
      "looking for review ids:  75%|███████▌  | 1525/2020 [6:48:35<2:10:07, 15.77s/movie]"
     ]
    },
    {
     "name": "stdout",
     "output_type": "stream",
     "text": [
      "Less than 25 reviews available - skipped\n"
     ]
    },
    {
     "name": "stderr",
     "output_type": "stream",
     "text": [
      "looking for review ids:  76%|███████▌  | 1526/2020 [6:48:51<2:10:20, 15.83s/movie]"
     ]
    },
    {
     "name": "stdout",
     "output_type": "stream",
     "text": [
      "Less than 25 reviews available - skipped\n"
     ]
    },
    {
     "name": "stderr",
     "output_type": "stream",
     "text": [
      "looking for review ids:  76%|███████▌  | 1527/2020 [6:49:07<2:10:16, 15.86s/movie]"
     ]
    },
    {
     "name": "stdout",
     "output_type": "stream",
     "text": [
      "Less than 25 reviews available - skipped\n"
     ]
    },
    {
     "name": "stderr",
     "output_type": "stream",
     "text": [
      "looking for review ids:  76%|███████▌  | 1528/2020 [6:49:23<2:09:08, 15.75s/movie]"
     ]
    },
    {
     "name": "stdout",
     "output_type": "stream",
     "text": [
      "Less than 25 reviews available - skipped\n"
     ]
    },
    {
     "name": "stderr",
     "output_type": "stream",
     "text": [
      "looking for review ids:  76%|███████▌  | 1529/2020 [6:49:39<2:08:57, 15.76s/movie]"
     ]
    },
    {
     "name": "stdout",
     "output_type": "stream",
     "text": [
      "Less than 25 reviews available - skipped\n"
     ]
    },
    {
     "name": "stderr",
     "output_type": "stream",
     "text": [
      "looking for review ids:  76%|███████▌  | 1530/2020 [6:49:54<2:08:14, 15.70s/movie]"
     ]
    },
    {
     "name": "stdout",
     "output_type": "stream",
     "text": [
      "Less than 25 reviews available - skipped\n"
     ]
    },
    {
     "name": "stderr",
     "output_type": "stream",
     "text": [
      "looking for review ids:  76%|███████▌  | 1531/2020 [6:50:10<2:08:26, 15.76s/movie]"
     ]
    },
    {
     "name": "stdout",
     "output_type": "stream",
     "text": [
      "Less than 25 reviews available - skipped\n"
     ]
    },
    {
     "name": "stderr",
     "output_type": "stream",
     "text": [
      "looking for review ids:  76%|███████▌  | 1532/2020 [6:50:26<2:08:35, 15.81s/movie]"
     ]
    },
    {
     "name": "stdout",
     "output_type": "stream",
     "text": [
      "Less than 25 reviews available - skipped\n"
     ]
    },
    {
     "name": "stderr",
     "output_type": "stream",
     "text": [
      "looking for review ids:  76%|███████▌  | 1533/2020 [6:50:42<2:08:25, 15.82s/movie]"
     ]
    },
    {
     "name": "stdout",
     "output_type": "stream",
     "text": [
      "Less than 25 reviews available - skipped\n"
     ]
    },
    {
     "name": "stderr",
     "output_type": "stream",
     "text": [
      "looking for review ids:  76%|███████▌  | 1534/2020 [6:50:58<2:08:20, 15.84s/movie]"
     ]
    },
    {
     "name": "stdout",
     "output_type": "stream",
     "text": [
      "Less than 25 reviews available - skipped\n"
     ]
    },
    {
     "name": "stderr",
     "output_type": "stream",
     "text": [
      "looking for review ids:  76%|███████▌  | 1535/2020 [6:51:14<2:08:21, 15.88s/movie]"
     ]
    },
    {
     "name": "stdout",
     "output_type": "stream",
     "text": [
      "Less than 25 reviews available - skipped\n"
     ]
    },
    {
     "name": "stderr",
     "output_type": "stream",
     "text": [
      "looking for review ids:  76%|███████▌  | 1536/2020 [6:51:29<2:07:10, 15.77s/movie]"
     ]
    },
    {
     "name": "stdout",
     "output_type": "stream",
     "text": [
      "Less than 25 reviews available - skipped\n"
     ]
    },
    {
     "name": "stderr",
     "output_type": "stream",
     "text": [
      "looking for review ids:  76%|███████▌  | 1537/2020 [6:51:45<2:07:33, 15.85s/movie]"
     ]
    },
    {
     "name": "stdout",
     "output_type": "stream",
     "text": [
      "Less than 25 reviews available - skipped\n"
     ]
    },
    {
     "name": "stderr",
     "output_type": "stream",
     "text": [
      "looking for review ids:  76%|███████▌  | 1539/2020 [6:52:15<2:01:15, 15.13s/movie]"
     ]
    },
    {
     "name": "stdout",
     "output_type": "stream",
     "text": [
      "Less than 25 reviews available - skipped\n"
     ]
    },
    {
     "name": "stderr",
     "output_type": "stream",
     "text": [
      "looking for review ids:  76%|███████▌  | 1540/2020 [6:52:30<2:02:46, 15.35s/movie]"
     ]
    },
    {
     "name": "stdout",
     "output_type": "stream",
     "text": [
      "Less than 25 reviews available - skipped\n"
     ]
    },
    {
     "name": "stderr",
     "output_type": "stream",
     "text": [
      "looking for review ids:  76%|███████▋  | 1541/2020 [6:52:46<2:03:36, 15.48s/movie]"
     ]
    },
    {
     "name": "stdout",
     "output_type": "stream",
     "text": [
      "Less than 25 reviews available - skipped\n"
     ]
    },
    {
     "name": "stderr",
     "output_type": "stream",
     "text": [
      "looking for review ids:  76%|███████▋  | 1542/2020 [6:53:02<2:04:15, 15.60s/movie]"
     ]
    },
    {
     "name": "stdout",
     "output_type": "stream",
     "text": [
      "Less than 25 reviews available - skipped\n"
     ]
    },
    {
     "name": "stderr",
     "output_type": "stream",
     "text": [
      "looking for review ids:  76%|███████▋  | 1543/2020 [6:53:18<2:03:51, 15.58s/movie]"
     ]
    },
    {
     "name": "stdout",
     "output_type": "stream",
     "text": [
      "Less than 25 reviews available - skipped\n"
     ]
    },
    {
     "name": "stderr",
     "output_type": "stream",
     "text": [
      "looking for review ids:  76%|███████▋  | 1544/2020 [6:53:33<2:03:55, 15.62s/movie]"
     ]
    },
    {
     "name": "stdout",
     "output_type": "stream",
     "text": [
      "Less than 25 reviews available - skipped\n"
     ]
    },
    {
     "name": "stderr",
     "output_type": "stream",
     "text": [
      "looking for review ids:  76%|███████▋  | 1545/2020 [6:53:49<2:03:54, 15.65s/movie]"
     ]
    },
    {
     "name": "stdout",
     "output_type": "stream",
     "text": [
      "Less than 25 reviews available - skipped\n"
     ]
    },
    {
     "name": "stderr",
     "output_type": "stream",
     "text": [
      "looking for review ids:  77%|███████▋  | 1546/2020 [6:54:04<2:03:04, 15.58s/movie]"
     ]
    },
    {
     "name": "stdout",
     "output_type": "stream",
     "text": [
      "Less than 25 reviews available - skipped\n"
     ]
    },
    {
     "name": "stderr",
     "output_type": "stream",
     "text": [
      "looking for review ids:  77%|███████▋  | 1547/2020 [6:54:20<2:03:17, 15.64s/movie]"
     ]
    },
    {
     "name": "stdout",
     "output_type": "stream",
     "text": [
      "Less than 25 reviews available - skipped\n"
     ]
    },
    {
     "name": "stderr",
     "output_type": "stream",
     "text": [
      "looking for review ids:  77%|███████▋  | 1549/2020 [6:54:49<1:56:57, 14.90s/movie]"
     ]
    },
    {
     "name": "stdout",
     "output_type": "stream",
     "text": [
      "Less than 25 reviews available - skipped\n"
     ]
    },
    {
     "name": "stderr",
     "output_type": "stream",
     "text": [
      "looking for review ids:  77%|███████▋  | 1550/2020 [6:55:05<1:58:53, 15.18s/movie]"
     ]
    },
    {
     "name": "stdout",
     "output_type": "stream",
     "text": [
      "Less than 25 reviews available - skipped\n"
     ]
    },
    {
     "name": "stderr",
     "output_type": "stream",
     "text": [
      "looking for review ids:  77%|███████▋  | 1551/2020 [6:55:21<1:59:41, 15.31s/movie]"
     ]
    },
    {
     "name": "stdout",
     "output_type": "stream",
     "text": [
      "Less than 25 reviews available - skipped\n"
     ]
    },
    {
     "name": "stderr",
     "output_type": "stream",
     "text": [
      "looking for review ids:  77%|███████▋  | 1554/2020 [6:56:04<1:52:55, 14.54s/movie]"
     ]
    },
    {
     "name": "stdout",
     "output_type": "stream",
     "text": [
      "Less than 25 reviews available - skipped\n"
     ]
    },
    {
     "name": "stderr",
     "output_type": "stream",
     "text": [
      "looking for review ids:  77%|███████▋  | 1555/2020 [6:56:20<1:55:44, 14.94s/movie]"
     ]
    },
    {
     "name": "stdout",
     "output_type": "stream",
     "text": [
      "Less than 25 reviews available - skipped\n"
     ]
    },
    {
     "name": "stderr",
     "output_type": "stream",
     "text": [
      "looking for review ids:  77%|███████▋  | 1556/2020 [6:56:36<1:58:34, 15.33s/movie]"
     ]
    },
    {
     "name": "stdout",
     "output_type": "stream",
     "text": [
      "Less than 25 reviews available - skipped\n"
     ]
    },
    {
     "name": "stderr",
     "output_type": "stream",
     "text": [
      "looking for review ids:  77%|███████▋  | 1557/2020 [6:56:51<1:59:09, 15.44s/movie]"
     ]
    },
    {
     "name": "stdout",
     "output_type": "stream",
     "text": [
      "Less than 25 reviews available - skipped\n"
     ]
    },
    {
     "name": "stderr",
     "output_type": "stream",
     "text": [
      "looking for review ids:  77%|███████▋  | 1558/2020 [6:57:07<1:59:06, 15.47s/movie]"
     ]
    },
    {
     "name": "stdout",
     "output_type": "stream",
     "text": [
      "Less than 25 reviews available - skipped\n"
     ]
    },
    {
     "name": "stderr",
     "output_type": "stream",
     "text": [
      "looking for review ids:  77%|███████▋  | 1559/2020 [6:57:23<1:59:38, 15.57s/movie]"
     ]
    },
    {
     "name": "stdout",
     "output_type": "stream",
     "text": [
      "Less than 25 reviews available - skipped\n"
     ]
    },
    {
     "name": "stderr",
     "output_type": "stream",
     "text": [
      "looking for review ids:  77%|███████▋  | 1560/2020 [6:57:39<1:59:48, 15.63s/movie]"
     ]
    },
    {
     "name": "stdout",
     "output_type": "stream",
     "text": [
      "Less than 25 reviews available - skipped\n"
     ]
    },
    {
     "name": "stderr",
     "output_type": "stream",
     "text": [
      "looking for review ids:  77%|███████▋  | 1561/2020 [6:57:55<2:01:54, 15.93s/movie]"
     ]
    },
    {
     "name": "stdout",
     "output_type": "stream",
     "text": [
      "Less than 25 reviews available - skipped\n"
     ]
    },
    {
     "name": "stderr",
     "output_type": "stream",
     "text": [
      "looking for review ids:  77%|███████▋  | 1563/2020 [6:58:27<2:01:15, 15.92s/movie]"
     ]
    },
    {
     "name": "stdout",
     "output_type": "stream",
     "text": [
      "Less than 25 reviews available - skipped\n"
     ]
    },
    {
     "name": "stderr",
     "output_type": "stream",
     "text": [
      "looking for review ids:  77%|███████▋  | 1564/2020 [6:58:43<2:01:00, 15.92s/movie]"
     ]
    },
    {
     "name": "stdout",
     "output_type": "stream",
     "text": [
      "Less than 25 reviews available - skipped\n"
     ]
    },
    {
     "name": "stderr",
     "output_type": "stream",
     "text": [
      "looking for review ids:  77%|███████▋  | 1565/2020 [6:58:59<1:59:41, 15.78s/movie]"
     ]
    },
    {
     "name": "stdout",
     "output_type": "stream",
     "text": [
      "Less than 25 reviews available - skipped\n"
     ]
    },
    {
     "name": "stderr",
     "output_type": "stream",
     "text": [
      "looking for review ids:  78%|███████▊  | 1566/2020 [6:59:14<1:58:50, 15.71s/movie]"
     ]
    },
    {
     "name": "stdout",
     "output_type": "stream",
     "text": [
      "Less than 25 reviews available - skipped\n"
     ]
    },
    {
     "name": "stderr",
     "output_type": "stream",
     "text": [
      "looking for review ids:  78%|███████▊  | 1567/2020 [6:59:30<1:58:40, 15.72s/movie]"
     ]
    },
    {
     "name": "stdout",
     "output_type": "stream",
     "text": [
      "Less than 25 reviews available - skipped\n"
     ]
    },
    {
     "name": "stderr",
     "output_type": "stream",
     "text": [
      "looking for review ids:  78%|███████▊  | 1568/2020 [6:59:46<1:58:21, 15.71s/movie]"
     ]
    },
    {
     "name": "stdout",
     "output_type": "stream",
     "text": [
      "Less than 25 reviews available - skipped\n"
     ]
    },
    {
     "name": "stderr",
     "output_type": "stream",
     "text": [
      "looking for review ids:  78%|███████▊  | 1569/2020 [7:00:01<1:57:38, 15.65s/movie]"
     ]
    },
    {
     "name": "stdout",
     "output_type": "stream",
     "text": [
      "Less than 25 reviews available - skipped\n"
     ]
    },
    {
     "name": "stderr",
     "output_type": "stream",
     "text": [
      "looking for review ids:  78%|███████▊  | 1570/2020 [7:00:17<1:57:41, 15.69s/movie]"
     ]
    },
    {
     "name": "stdout",
     "output_type": "stream",
     "text": [
      "Less than 25 reviews available - skipped\n"
     ]
    },
    {
     "name": "stderr",
     "output_type": "stream",
     "text": [
      "looking for review ids:  78%|███████▊  | 1571/2020 [7:00:33<1:57:56, 15.76s/movie]"
     ]
    },
    {
     "name": "stdout",
     "output_type": "stream",
     "text": [
      "Less than 25 reviews available - skipped\n"
     ]
    },
    {
     "name": "stderr",
     "output_type": "stream",
     "text": [
      "looking for review ids:  78%|███████▊  | 1572/2020 [7:00:49<1:58:20, 15.85s/movie]"
     ]
    },
    {
     "name": "stdout",
     "output_type": "stream",
     "text": [
      "Less than 25 reviews available - skipped\n"
     ]
    },
    {
     "name": "stderr",
     "output_type": "stream",
     "text": [
      "looking for review ids:  78%|███████▊  | 1573/2020 [7:01:05<1:57:54, 15.83s/movie]"
     ]
    },
    {
     "name": "stdout",
     "output_type": "stream",
     "text": [
      "Less than 25 reviews available - skipped\n"
     ]
    },
    {
     "name": "stderr",
     "output_type": "stream",
     "text": [
      "looking for review ids:  78%|███████▊  | 1574/2020 [7:01:21<1:59:15, 16.04s/movie]"
     ]
    },
    {
     "name": "stdout",
     "output_type": "stream",
     "text": [
      "Less than 25 reviews available - skipped\n"
     ]
    },
    {
     "name": "stderr",
     "output_type": "stream",
     "text": [
      "looking for review ids:  78%|███████▊  | 1575/2020 [7:01:37<1:58:25, 15.97s/movie]"
     ]
    },
    {
     "name": "stdout",
     "output_type": "stream",
     "text": [
      "Less than 25 reviews available - skipped\n"
     ]
    },
    {
     "name": "stderr",
     "output_type": "stream",
     "text": [
      "looking for review ids:  78%|███████▊  | 1576/2020 [7:01:53<1:58:02, 15.95s/movie]"
     ]
    },
    {
     "name": "stdout",
     "output_type": "stream",
     "text": [
      "Less than 25 reviews available - skipped\n"
     ]
    },
    {
     "name": "stderr",
     "output_type": "stream",
     "text": [
      "looking for review ids:  78%|███████▊  | 1577/2020 [7:02:09<1:57:47, 15.95s/movie]"
     ]
    },
    {
     "name": "stdout",
     "output_type": "stream",
     "text": [
      "Less than 25 reviews available - skipped\n"
     ]
    },
    {
     "name": "stderr",
     "output_type": "stream",
     "text": [
      "looking for review ids:  78%|███████▊  | 1578/2020 [7:02:25<1:57:19, 15.93s/movie]"
     ]
    },
    {
     "name": "stdout",
     "output_type": "stream",
     "text": [
      "Less than 25 reviews available - skipped\n"
     ]
    },
    {
     "name": "stderr",
     "output_type": "stream",
     "text": [
      "looking for review ids:  78%|███████▊  | 1579/2020 [7:02:40<1:56:38, 15.87s/movie]"
     ]
    },
    {
     "name": "stdout",
     "output_type": "stream",
     "text": [
      "Less than 25 reviews available - skipped\n"
     ]
    },
    {
     "name": "stderr",
     "output_type": "stream",
     "text": [
      "looking for review ids:  78%|███████▊  | 1580/2020 [7:02:56<1:56:15, 15.85s/movie]"
     ]
    },
    {
     "name": "stdout",
     "output_type": "stream",
     "text": [
      "Less than 25 reviews available - skipped\n"
     ]
    },
    {
     "name": "stderr",
     "output_type": "stream",
     "text": [
      "looking for review ids:  78%|███████▊  | 1581/2020 [7:03:12<1:55:45, 15.82s/movie]"
     ]
    },
    {
     "name": "stdout",
     "output_type": "stream",
     "text": [
      "Less than 25 reviews available - skipped\n"
     ]
    },
    {
     "name": "stderr",
     "output_type": "stream",
     "text": [
      "looking for review ids:  78%|███████▊  | 1582/2020 [7:03:28<1:54:53, 15.74s/movie]"
     ]
    },
    {
     "name": "stdout",
     "output_type": "stream",
     "text": [
      "Less than 25 reviews available - skipped\n"
     ]
    },
    {
     "name": "stderr",
     "output_type": "stream",
     "text": [
      "looking for review ids:  78%|███████▊  | 1583/2020 [7:03:43<1:54:44, 15.75s/movie]"
     ]
    },
    {
     "name": "stdout",
     "output_type": "stream",
     "text": [
      "Less than 25 reviews available - skipped\n"
     ]
    },
    {
     "name": "stderr",
     "output_type": "stream",
     "text": [
      "looking for review ids:  78%|███████▊  | 1584/2020 [7:03:59<1:54:36, 15.77s/movie]"
     ]
    },
    {
     "name": "stdout",
     "output_type": "stream",
     "text": [
      "Less than 25 reviews available - skipped\n"
     ]
    },
    {
     "name": "stderr",
     "output_type": "stream",
     "text": [
      "looking for review ids:  78%|███████▊  | 1585/2020 [7:04:15<1:54:19, 15.77s/movie]"
     ]
    },
    {
     "name": "stdout",
     "output_type": "stream",
     "text": [
      "Less than 25 reviews available - skipped\n"
     ]
    },
    {
     "name": "stderr",
     "output_type": "stream",
     "text": [
      "looking for review ids:  79%|███████▊  | 1586/2020 [7:04:31<1:54:13, 15.79s/movie]"
     ]
    },
    {
     "name": "stdout",
     "output_type": "stream",
     "text": [
      "Less than 25 reviews available - skipped\n"
     ]
    },
    {
     "name": "stderr",
     "output_type": "stream",
     "text": [
      "looking for review ids:  79%|███████▊  | 1587/2020 [7:04:47<1:54:13, 15.83s/movie]"
     ]
    },
    {
     "name": "stdout",
     "output_type": "stream",
     "text": [
      "Less than 25 reviews available - skipped\n"
     ]
    },
    {
     "name": "stderr",
     "output_type": "stream",
     "text": [
      "looking for review ids:  79%|███████▊  | 1589/2020 [7:05:16<1:48:22, 15.09s/movie]"
     ]
    },
    {
     "name": "stdout",
     "output_type": "stream",
     "text": [
      "Less than 25 reviews available - skipped\n"
     ]
    },
    {
     "name": "stderr",
     "output_type": "stream",
     "text": [
      "looking for review ids:  79%|███████▉  | 1591/2020 [7:05:45<1:45:57, 14.82s/movie]"
     ]
    },
    {
     "name": "stdout",
     "output_type": "stream",
     "text": [
      "Less than 25 reviews available - skipped\n"
     ]
    },
    {
     "name": "stderr",
     "output_type": "stream",
     "text": [
      "looking for review ids:  79%|███████▉  | 1592/2020 [7:06:01<1:47:18, 15.04s/movie]"
     ]
    },
    {
     "name": "stdout",
     "output_type": "stream",
     "text": [
      "Less than 25 reviews available - skipped\n"
     ]
    },
    {
     "name": "stderr",
     "output_type": "stream",
     "text": [
      "looking for review ids:  79%|███████▉  | 1593/2020 [7:06:17<1:50:06, 15.47s/movie]"
     ]
    },
    {
     "name": "stdout",
     "output_type": "stream",
     "text": [
      "Less than 25 reviews available - skipped\n"
     ]
    },
    {
     "name": "stderr",
     "output_type": "stream",
     "text": [
      "looking for review ids:  79%|███████▉  | 1594/2020 [7:06:33<1:50:34, 15.57s/movie]"
     ]
    },
    {
     "name": "stdout",
     "output_type": "stream",
     "text": [
      "Less than 25 reviews available - skipped\n"
     ]
    },
    {
     "name": "stderr",
     "output_type": "stream",
     "text": [
      "looking for review ids:  79%|███████▉  | 1595/2020 [7:06:49<1:50:13, 15.56s/movie]"
     ]
    },
    {
     "name": "stdout",
     "output_type": "stream",
     "text": [
      "Less than 25 reviews available - skipped\n"
     ]
    },
    {
     "name": "stderr",
     "output_type": "stream",
     "text": [
      "looking for review ids:  79%|███████▉  | 1596/2020 [7:07:05<1:50:58, 15.70s/movie]"
     ]
    },
    {
     "name": "stdout",
     "output_type": "stream",
     "text": [
      "Less than 25 reviews available - skipped\n"
     ]
    },
    {
     "name": "stderr",
     "output_type": "stream",
     "text": [
      "looking for review ids:  79%|███████▉  | 1597/2020 [7:07:20<1:50:22, 15.66s/movie]"
     ]
    },
    {
     "name": "stdout",
     "output_type": "stream",
     "text": [
      "Less than 25 reviews available - skipped\n"
     ]
    },
    {
     "name": "stderr",
     "output_type": "stream",
     "text": [
      "looking for review ids:  79%|███████▉  | 1598/2020 [7:07:36<1:49:48, 15.61s/movie]"
     ]
    },
    {
     "name": "stdout",
     "output_type": "stream",
     "text": [
      "Less than 25 reviews available - skipped\n"
     ]
    },
    {
     "name": "stderr",
     "output_type": "stream",
     "text": [
      "looking for review ids:  79%|███████▉  | 1599/2020 [7:07:52<1:49:49, 15.65s/movie]"
     ]
    },
    {
     "name": "stdout",
     "output_type": "stream",
     "text": [
      "Less than 25 reviews available - skipped\n"
     ]
    },
    {
     "name": "stderr",
     "output_type": "stream",
     "text": [
      "looking for review ids:  79%|███████▉  | 1600/2020 [7:08:07<1:49:44, 15.68s/movie]"
     ]
    },
    {
     "name": "stdout",
     "output_type": "stream",
     "text": [
      "Less than 25 reviews available - skipped\n"
     ]
    },
    {
     "name": "stderr",
     "output_type": "stream",
     "text": [
      "looking for review ids:  79%|███████▉  | 1601/2020 [7:08:23<1:49:34, 15.69s/movie]"
     ]
    },
    {
     "name": "stdout",
     "output_type": "stream",
     "text": [
      "Less than 25 reviews available - skipped\n"
     ]
    },
    {
     "name": "stderr",
     "output_type": "stream",
     "text": [
      "looking for review ids:  79%|███████▉  | 1602/2020 [7:08:39<1:49:27, 15.71s/movie]"
     ]
    },
    {
     "name": "stdout",
     "output_type": "stream",
     "text": [
      "Less than 25 reviews available - skipped\n"
     ]
    },
    {
     "name": "stderr",
     "output_type": "stream",
     "text": [
      "looking for review ids:  79%|███████▉  | 1603/2020 [7:08:55<1:49:32, 15.76s/movie]"
     ]
    },
    {
     "name": "stdout",
     "output_type": "stream",
     "text": [
      "Less than 25 reviews available - skipped\n"
     ]
    },
    {
     "name": "stderr",
     "output_type": "stream",
     "text": [
      "looking for review ids:  79%|███████▉  | 1604/2020 [7:09:11<1:49:29, 15.79s/movie]"
     ]
    },
    {
     "name": "stdout",
     "output_type": "stream",
     "text": [
      "Less than 25 reviews available - skipped\n"
     ]
    },
    {
     "name": "stderr",
     "output_type": "stream",
     "text": [
      "looking for review ids:  79%|███████▉  | 1605/2020 [7:09:26<1:49:15, 15.80s/movie]"
     ]
    },
    {
     "name": "stdout",
     "output_type": "stream",
     "text": [
      "Less than 25 reviews available - skipped\n"
     ]
    },
    {
     "name": "stderr",
     "output_type": "stream",
     "text": [
      "looking for review ids:  80%|███████▉  | 1606/2020 [7:09:42<1:49:16, 15.84s/movie]"
     ]
    },
    {
     "name": "stdout",
     "output_type": "stream",
     "text": [
      "Less than 25 reviews available - skipped\n"
     ]
    },
    {
     "name": "stderr",
     "output_type": "stream",
     "text": [
      "looking for review ids:  80%|███████▉  | 1607/2020 [7:09:58<1:48:48, 15.81s/movie]"
     ]
    },
    {
     "name": "stdout",
     "output_type": "stream",
     "text": [
      "Less than 25 reviews available - skipped\n"
     ]
    },
    {
     "name": "stderr",
     "output_type": "stream",
     "text": [
      "looking for review ids:  80%|███████▉  | 1609/2020 [7:10:27<1:43:11, 15.07s/movie]"
     ]
    },
    {
     "name": "stdout",
     "output_type": "stream",
     "text": [
      "Less than 25 reviews available - skipped\n"
     ]
    },
    {
     "name": "stderr",
     "output_type": "stream",
     "text": [
      "looking for review ids:  80%|███████▉  | 1610/2020 [7:10:43<1:43:59, 15.22s/movie]"
     ]
    },
    {
     "name": "stdout",
     "output_type": "stream",
     "text": [
      "Less than 25 reviews available - skipped\n"
     ]
    },
    {
     "name": "stderr",
     "output_type": "stream",
     "text": [
      "looking for review ids:  80%|███████▉  | 1611/2020 [7:10:59<1:45:19, 15.45s/movie]"
     ]
    },
    {
     "name": "stdout",
     "output_type": "stream",
     "text": [
      "Less than 25 reviews available - skipped\n"
     ]
    },
    {
     "name": "stderr",
     "output_type": "stream",
     "text": [
      "looking for review ids:  80%|███████▉  | 1612/2020 [7:11:14<1:45:34, 15.53s/movie]"
     ]
    },
    {
     "name": "stdout",
     "output_type": "stream",
     "text": [
      "Less than 25 reviews available - skipped\n"
     ]
    },
    {
     "name": "stderr",
     "output_type": "stream",
     "text": [
      "looking for review ids:  80%|███████▉  | 1613/2020 [7:11:30<1:45:56, 15.62s/movie]"
     ]
    },
    {
     "name": "stdout",
     "output_type": "stream",
     "text": [
      "Less than 25 reviews available - skipped\n"
     ]
    },
    {
     "name": "stderr",
     "output_type": "stream",
     "text": [
      "looking for review ids:  80%|███████▉  | 1614/2020 [7:11:46<1:46:28, 15.74s/movie]"
     ]
    },
    {
     "name": "stdout",
     "output_type": "stream",
     "text": [
      "Less than 25 reviews available - skipped\n"
     ]
    },
    {
     "name": "stderr",
     "output_type": "stream",
     "text": [
      "looking for review ids:  80%|████████  | 1616/2020 [7:12:15<1:40:24, 14.91s/movie]"
     ]
    },
    {
     "name": "stdout",
     "output_type": "stream",
     "text": [
      "Less than 25 reviews available - skipped\n"
     ]
    },
    {
     "name": "stderr",
     "output_type": "stream",
     "text": [
      "looking for review ids:  80%|████████  | 1618/2020 [7:12:44<1:38:05, 14.64s/movie]"
     ]
    },
    {
     "name": "stdout",
     "output_type": "stream",
     "text": [
      "Less than 25 reviews available - skipped\n"
     ]
    },
    {
     "name": "stderr",
     "output_type": "stream",
     "text": [
      "looking for review ids:  80%|████████  | 1619/2020 [7:13:00<1:39:57, 14.96s/movie]"
     ]
    },
    {
     "name": "stdout",
     "output_type": "stream",
     "text": [
      "Less than 25 reviews available - skipped\n"
     ]
    },
    {
     "name": "stderr",
     "output_type": "stream",
     "text": [
      "looking for review ids:  80%|████████  | 1620/2020 [7:13:16<1:41:32, 15.23s/movie]"
     ]
    },
    {
     "name": "stdout",
     "output_type": "stream",
     "text": [
      "Less than 25 reviews available - skipped\n"
     ]
    },
    {
     "name": "stderr",
     "output_type": "stream",
     "text": [
      "looking for review ids:  80%|████████  | 1621/2020 [7:13:32<1:42:41, 15.44s/movie]"
     ]
    },
    {
     "name": "stdout",
     "output_type": "stream",
     "text": [
      "Less than 25 reviews available - skipped\n"
     ]
    },
    {
     "name": "stderr",
     "output_type": "stream",
     "text": [
      "looking for review ids:  80%|████████  | 1623/2020 [7:14:01<1:38:13, 14.84s/movie]"
     ]
    },
    {
     "name": "stdout",
     "output_type": "stream",
     "text": [
      "Less than 25 reviews available - skipped\n"
     ]
    },
    {
     "name": "stderr",
     "output_type": "stream",
     "text": [
      "looking for review ids:  80%|████████  | 1624/2020 [7:14:16<1:39:29, 15.08s/movie]"
     ]
    },
    {
     "name": "stdout",
     "output_type": "stream",
     "text": [
      "Less than 25 reviews available - skipped\n"
     ]
    },
    {
     "name": "stderr",
     "output_type": "stream",
     "text": [
      "looking for review ids:  80%|████████  | 1625/2020 [7:14:32<1:40:35, 15.28s/movie]"
     ]
    },
    {
     "name": "stdout",
     "output_type": "stream",
     "text": [
      "Less than 25 reviews available - skipped\n"
     ]
    },
    {
     "name": "stderr",
     "output_type": "stream",
     "text": [
      "looking for review ids:  80%|████████  | 1626/2020 [7:14:48<1:41:21, 15.44s/movie]"
     ]
    },
    {
     "name": "stdout",
     "output_type": "stream",
     "text": [
      "Less than 25 reviews available - skipped\n"
     ]
    },
    {
     "name": "stderr",
     "output_type": "stream",
     "text": [
      "looking for review ids:  81%|████████  | 1628/2020 [7:15:17<1:37:03, 14.85s/movie]"
     ]
    },
    {
     "name": "stdout",
     "output_type": "stream",
     "text": [
      "Less than 25 reviews available - skipped\n"
     ]
    },
    {
     "name": "stderr",
     "output_type": "stream",
     "text": [
      "looking for review ids:  81%|████████  | 1629/2020 [7:15:32<1:37:53, 15.02s/movie]"
     ]
    },
    {
     "name": "stdout",
     "output_type": "stream",
     "text": [
      "Less than 25 reviews available - skipped\n"
     ]
    },
    {
     "name": "stderr",
     "output_type": "stream",
     "text": [
      "looking for review ids:  81%|████████  | 1630/2020 [7:15:48<1:39:08, 15.25s/movie]"
     ]
    },
    {
     "name": "stdout",
     "output_type": "stream",
     "text": [
      "Less than 25 reviews available - skipped\n"
     ]
    },
    {
     "name": "stderr",
     "output_type": "stream",
     "text": [
      "looking for review ids:  81%|████████  | 1631/2020 [7:16:04<1:39:45, 15.39s/movie]"
     ]
    },
    {
     "name": "stdout",
     "output_type": "stream",
     "text": [
      "Less than 25 reviews available - skipped\n"
     ]
    },
    {
     "name": "stderr",
     "output_type": "stream",
     "text": [
      "looking for review ids:  81%|████████  | 1632/2020 [7:16:19<1:39:42, 15.42s/movie]"
     ]
    },
    {
     "name": "stdout",
     "output_type": "stream",
     "text": [
      "Less than 25 reviews available - skipped\n"
     ]
    },
    {
     "name": "stderr",
     "output_type": "stream",
     "text": [
      "looking for review ids:  81%|████████  | 1633/2020 [7:16:35<1:39:34, 15.44s/movie]"
     ]
    },
    {
     "name": "stdout",
     "output_type": "stream",
     "text": [
      "Less than 25 reviews available - skipped\n"
     ]
    },
    {
     "name": "stderr",
     "output_type": "stream",
     "text": [
      "looking for review ids:  81%|████████  | 1634/2020 [7:16:51<1:40:07, 15.56s/movie]"
     ]
    },
    {
     "name": "stdout",
     "output_type": "stream",
     "text": [
      "Less than 25 reviews available - skipped\n"
     ]
    },
    {
     "name": "stderr",
     "output_type": "stream",
     "text": [
      "looking for review ids:  81%|████████  | 1635/2020 [7:17:06<1:40:24, 15.65s/movie]"
     ]
    },
    {
     "name": "stdout",
     "output_type": "stream",
     "text": [
      "Less than 25 reviews available - skipped\n"
     ]
    },
    {
     "name": "stderr",
     "output_type": "stream",
     "text": [
      "looking for review ids:  81%|████████  | 1636/2020 [7:17:22<1:40:38, 15.73s/movie]"
     ]
    },
    {
     "name": "stdout",
     "output_type": "stream",
     "text": [
      "Less than 25 reviews available - skipped\n"
     ]
    },
    {
     "name": "stderr",
     "output_type": "stream",
     "text": [
      "looking for review ids:  81%|████████  | 1637/2020 [7:17:38<1:40:19, 15.72s/movie]"
     ]
    },
    {
     "name": "stdout",
     "output_type": "stream",
     "text": [
      "Less than 25 reviews available - skipped\n"
     ]
    },
    {
     "name": "stderr",
     "output_type": "stream",
     "text": [
      "looking for review ids:  81%|████████  | 1638/2020 [7:17:53<1:39:25, 15.62s/movie]"
     ]
    },
    {
     "name": "stdout",
     "output_type": "stream",
     "text": [
      "Less than 25 reviews available - skipped\n"
     ]
    },
    {
     "name": "stderr",
     "output_type": "stream",
     "text": [
      "looking for review ids:  81%|████████  | 1639/2020 [7:18:09<1:39:24, 15.66s/movie]"
     ]
    },
    {
     "name": "stdout",
     "output_type": "stream",
     "text": [
      "Less than 25 reviews available - skipped\n"
     ]
    },
    {
     "name": "stderr",
     "output_type": "stream",
     "text": [
      "looking for review ids:  81%|████████  | 1640/2020 [7:18:25<1:38:50, 15.61s/movie]"
     ]
    },
    {
     "name": "stdout",
     "output_type": "stream",
     "text": [
      "Less than 25 reviews available - skipped\n"
     ]
    },
    {
     "name": "stderr",
     "output_type": "stream",
     "text": [
      "looking for review ids:  81%|████████  | 1641/2020 [7:18:40<1:39:02, 15.68s/movie]"
     ]
    },
    {
     "name": "stdout",
     "output_type": "stream",
     "text": [
      "Less than 25 reviews available - skipped\n"
     ]
    },
    {
     "name": "stderr",
     "output_type": "stream",
     "text": [
      "looking for review ids:  81%|████████▏ | 1642/2020 [7:18:56<1:39:16, 15.76s/movie]"
     ]
    },
    {
     "name": "stdout",
     "output_type": "stream",
     "text": [
      "Less than 25 reviews available - skipped\n"
     ]
    },
    {
     "name": "stderr",
     "output_type": "stream",
     "text": [
      "looking for review ids:  81%|████████▏ | 1643/2020 [7:19:12<1:39:07, 15.77s/movie]"
     ]
    },
    {
     "name": "stdout",
     "output_type": "stream",
     "text": [
      "Less than 25 reviews available - skipped\n"
     ]
    },
    {
     "name": "stderr",
     "output_type": "stream",
     "text": [
      "looking for review ids:  81%|████████▏ | 1644/2020 [7:19:28<1:38:15, 15.68s/movie]"
     ]
    },
    {
     "name": "stdout",
     "output_type": "stream",
     "text": [
      "Less than 25 reviews available - skipped\n"
     ]
    },
    {
     "name": "stderr",
     "output_type": "stream",
     "text": [
      "looking for review ids:  81%|████████▏ | 1645/2020 [7:19:43<1:37:41, 15.63s/movie]"
     ]
    },
    {
     "name": "stdout",
     "output_type": "stream",
     "text": [
      "Less than 25 reviews available - skipped\n"
     ]
    },
    {
     "name": "stderr",
     "output_type": "stream",
     "text": [
      "looking for review ids:  82%|████████▏ | 1647/2020 [7:20:12<1:32:34, 14.89s/movie]"
     ]
    },
    {
     "name": "stdout",
     "output_type": "stream",
     "text": [
      "Less than 25 reviews available - skipped\n"
     ]
    },
    {
     "name": "stderr",
     "output_type": "stream",
     "text": [
      "looking for review ids:  82%|████████▏ | 1648/2020 [7:20:28<1:33:54, 15.15s/movie]"
     ]
    },
    {
     "name": "stdout",
     "output_type": "stream",
     "text": [
      "Less than 25 reviews available - skipped\n"
     ]
    },
    {
     "name": "stderr",
     "output_type": "stream",
     "text": [
      "looking for review ids:  82%|████████▏ | 1649/2020 [7:20:43<1:34:55, 15.35s/movie]"
     ]
    },
    {
     "name": "stdout",
     "output_type": "stream",
     "text": [
      "Less than 25 reviews available - skipped\n"
     ]
    },
    {
     "name": "stderr",
     "output_type": "stream",
     "text": [
      "looking for review ids:  82%|████████▏ | 1650/2020 [7:20:59<1:35:32, 15.49s/movie]"
     ]
    },
    {
     "name": "stdout",
     "output_type": "stream",
     "text": [
      "Less than 25 reviews available - skipped\n"
     ]
    },
    {
     "name": "stderr",
     "output_type": "stream",
     "text": [
      "looking for review ids:  82%|████████▏ | 1651/2020 [7:21:15<1:35:49, 15.58s/movie]"
     ]
    },
    {
     "name": "stdout",
     "output_type": "stream",
     "text": [
      "Less than 25 reviews available - skipped\n"
     ]
    },
    {
     "name": "stderr",
     "output_type": "stream",
     "text": [
      "looking for review ids:  82%|████████▏ | 1652/2020 [7:21:31<1:35:18, 15.54s/movie]"
     ]
    },
    {
     "name": "stdout",
     "output_type": "stream",
     "text": [
      "Less than 25 reviews available - skipped\n"
     ]
    },
    {
     "name": "stderr",
     "output_type": "stream",
     "text": [
      "looking for review ids:  82%|████████▏ | 1653/2020 [7:21:46<1:34:51, 15.51s/movie]"
     ]
    },
    {
     "name": "stdout",
     "output_type": "stream",
     "text": [
      "Less than 25 reviews available - skipped\n"
     ]
    },
    {
     "name": "stderr",
     "output_type": "stream",
     "text": [
      "looking for review ids:  82%|████████▏ | 1654/2020 [7:22:02<1:35:19, 15.63s/movie]"
     ]
    },
    {
     "name": "stdout",
     "output_type": "stream",
     "text": [
      "Less than 25 reviews available - skipped\n"
     ]
    },
    {
     "name": "stderr",
     "output_type": "stream",
     "text": [
      "looking for review ids:  82%|████████▏ | 1656/2020 [7:22:30<1:29:22, 14.73s/movie]"
     ]
    },
    {
     "name": "stdout",
     "output_type": "stream",
     "text": [
      "Less than 25 reviews available - skipped\n"
     ]
    },
    {
     "name": "stderr",
     "output_type": "stream",
     "text": [
      "looking for review ids:  82%|████████▏ | 1657/2020 [7:22:45<1:30:22, 14.94s/movie]"
     ]
    },
    {
     "name": "stdout",
     "output_type": "stream",
     "text": [
      "Less than 25 reviews available - skipped\n"
     ]
    },
    {
     "name": "stderr",
     "output_type": "stream",
     "text": [
      "looking for review ids:  82%|████████▏ | 1658/2020 [7:23:01<1:31:53, 15.23s/movie]"
     ]
    },
    {
     "name": "stdout",
     "output_type": "stream",
     "text": [
      "Less than 25 reviews available - skipped\n"
     ]
    },
    {
     "name": "stderr",
     "output_type": "stream",
     "text": [
      "looking for review ids:  82%|████████▏ | 1659/2020 [7:23:17<1:32:26, 15.36s/movie]"
     ]
    },
    {
     "name": "stdout",
     "output_type": "stream",
     "text": [
      "Less than 25 reviews available - skipped\n"
     ]
    },
    {
     "name": "stderr",
     "output_type": "stream",
     "text": [
      "looking for review ids:  82%|████████▏ | 1660/2020 [7:23:33<1:32:52, 15.48s/movie]"
     ]
    },
    {
     "name": "stdout",
     "output_type": "stream",
     "text": [
      "Less than 25 reviews available - skipped\n"
     ]
    },
    {
     "name": "stderr",
     "output_type": "stream",
     "text": [
      "looking for review ids:  82%|████████▏ | 1661/2020 [7:23:49<1:33:06, 15.56s/movie]"
     ]
    },
    {
     "name": "stdout",
     "output_type": "stream",
     "text": [
      "Less than 25 reviews available - skipped\n"
     ]
    },
    {
     "name": "stderr",
     "output_type": "stream",
     "text": [
      "looking for review ids:  82%|████████▏ | 1663/2020 [7:24:18<1:29:06, 14.98s/movie]"
     ]
    },
    {
     "name": "stdout",
     "output_type": "stream",
     "text": [
      "Less than 25 reviews available - skipped\n"
     ]
    },
    {
     "name": "stderr",
     "output_type": "stream",
     "text": [
      "looking for review ids:  82%|████████▏ | 1664/2020 [7:24:33<1:29:34, 15.10s/movie]"
     ]
    },
    {
     "name": "stdout",
     "output_type": "stream",
     "text": [
      "Less than 25 reviews available - skipped\n"
     ]
    },
    {
     "name": "stderr",
     "output_type": "stream",
     "text": [
      "looking for review ids:  82%|████████▏ | 1665/2020 [7:24:49<1:30:19, 15.27s/movie]"
     ]
    },
    {
     "name": "stdout",
     "output_type": "stream",
     "text": [
      "Less than 25 reviews available - skipped\n"
     ]
    },
    {
     "name": "stderr",
     "output_type": "stream",
     "text": [
      "looking for review ids:  82%|████████▏ | 1666/2020 [7:25:05<1:31:15, 15.47s/movie]"
     ]
    },
    {
     "name": "stdout",
     "output_type": "stream",
     "text": [
      "Less than 25 reviews available - skipped\n"
     ]
    },
    {
     "name": "stderr",
     "output_type": "stream",
     "text": [
      "looking for review ids:  83%|████████▎ | 1668/2020 [7:25:34<1:27:33, 14.93s/movie]"
     ]
    },
    {
     "name": "stdout",
     "output_type": "stream",
     "text": [
      "Less than 25 reviews available - skipped\n"
     ]
    },
    {
     "name": "stderr",
     "output_type": "stream",
     "text": [
      "looking for review ids:  83%|████████▎ | 1669/2020 [7:25:50<1:28:55, 15.20s/movie]"
     ]
    },
    {
     "name": "stdout",
     "output_type": "stream",
     "text": [
      "Less than 25 reviews available - skipped\n"
     ]
    },
    {
     "name": "stderr",
     "output_type": "stream",
     "text": [
      "looking for review ids:  83%|████████▎ | 1670/2020 [7:26:06<1:29:37, 15.37s/movie]"
     ]
    },
    {
     "name": "stdout",
     "output_type": "stream",
     "text": [
      "Less than 25 reviews available - skipped\n"
     ]
    },
    {
     "name": "stderr",
     "output_type": "stream",
     "text": [
      "looking for review ids:  83%|████████▎ | 1671/2020 [7:26:21<1:29:32, 15.39s/movie]"
     ]
    },
    {
     "name": "stdout",
     "output_type": "stream",
     "text": [
      "Less than 25 reviews available - skipped\n"
     ]
    },
    {
     "name": "stderr",
     "output_type": "stream",
     "text": [
      "looking for review ids:  83%|████████▎ | 1672/2020 [7:26:37<1:29:51, 15.49s/movie]"
     ]
    },
    {
     "name": "stdout",
     "output_type": "stream",
     "text": [
      "Less than 25 reviews available - skipped\n"
     ]
    },
    {
     "name": "stderr",
     "output_type": "stream",
     "text": [
      "looking for review ids:  83%|████████▎ | 1673/2020 [7:26:53<1:30:23, 15.63s/movie]"
     ]
    },
    {
     "name": "stdout",
     "output_type": "stream",
     "text": [
      "Less than 25 reviews available - skipped\n"
     ]
    },
    {
     "name": "stderr",
     "output_type": "stream",
     "text": [
      "looking for review ids:  83%|████████▎ | 1674/2020 [7:27:09<1:30:31, 15.70s/movie]"
     ]
    },
    {
     "name": "stdout",
     "output_type": "stream",
     "text": [
      "Less than 25 reviews available - skipped\n"
     ]
    },
    {
     "name": "stderr",
     "output_type": "stream",
     "text": [
      "looking for review ids:  83%|████████▎ | 1675/2020 [7:27:24<1:30:22, 15.72s/movie]"
     ]
    },
    {
     "name": "stdout",
     "output_type": "stream",
     "text": [
      "Less than 25 reviews available - skipped\n"
     ]
    },
    {
     "name": "stderr",
     "output_type": "stream",
     "text": [
      "looking for review ids:  83%|████████▎ | 1676/2020 [7:27:40<1:30:01, 15.70s/movie]"
     ]
    },
    {
     "name": "stdout",
     "output_type": "stream",
     "text": [
      "Less than 25 reviews available - skipped\n"
     ]
    },
    {
     "name": "stderr",
     "output_type": "stream",
     "text": [
      "looking for review ids:  83%|████████▎ | 1677/2020 [7:27:58<1:33:12, 16.30s/movie]"
     ]
    },
    {
     "name": "stdout",
     "output_type": "stream",
     "text": [
      "Less than 25 reviews available - skipped\n"
     ]
    },
    {
     "name": "stderr",
     "output_type": "stream",
     "text": [
      "looking for review ids:  83%|████████▎ | 1678/2020 [7:28:14<1:32:03, 16.15s/movie]"
     ]
    },
    {
     "name": "stdout",
     "output_type": "stream",
     "text": [
      "Less than 25 reviews available - skipped\n"
     ]
    },
    {
     "name": "stderr",
     "output_type": "stream",
     "text": [
      "looking for review ids:  83%|████████▎ | 1680/2020 [7:28:44<1:28:09, 15.56s/movie]"
     ]
    },
    {
     "name": "stdout",
     "output_type": "stream",
     "text": [
      "Less than 25 reviews available - skipped\n"
     ]
    },
    {
     "name": "stderr",
     "output_type": "stream",
     "text": [
      "looking for review ids:  83%|████████▎ | 1681/2020 [7:29:00<1:28:14, 15.62s/movie]"
     ]
    },
    {
     "name": "stdout",
     "output_type": "stream",
     "text": [
      "Less than 25 reviews available - skipped\n"
     ]
    },
    {
     "name": "stderr",
     "output_type": "stream",
     "text": [
      "looking for review ids:  83%|████████▎ | 1682/2020 [7:29:16<1:28:51, 15.77s/movie]"
     ]
    },
    {
     "name": "stdout",
     "output_type": "stream",
     "text": [
      "Less than 25 reviews available - skipped\n"
     ]
    },
    {
     "name": "stderr",
     "output_type": "stream",
     "text": [
      "looking for review ids:  83%|████████▎ | 1683/2020 [7:29:32<1:28:45, 15.80s/movie]"
     ]
    },
    {
     "name": "stdout",
     "output_type": "stream",
     "text": [
      "Less than 25 reviews available - skipped\n"
     ]
    },
    {
     "name": "stderr",
     "output_type": "stream",
     "text": [
      "looking for review ids:  83%|████████▎ | 1684/2020 [7:29:48<1:28:29, 15.80s/movie]"
     ]
    },
    {
     "name": "stdout",
     "output_type": "stream",
     "text": [
      "Less than 25 reviews available - skipped\n"
     ]
    },
    {
     "name": "stderr",
     "output_type": "stream",
     "text": [
      "looking for review ids:  83%|████████▎ | 1685/2020 [7:30:03<1:27:51, 15.74s/movie]"
     ]
    },
    {
     "name": "stdout",
     "output_type": "stream",
     "text": [
      "Less than 25 reviews available - skipped\n"
     ]
    },
    {
     "name": "stderr",
     "output_type": "stream",
     "text": [
      "looking for review ids:  84%|████████▎ | 1687/2020 [7:30:32<1:22:37, 14.89s/movie]"
     ]
    },
    {
     "name": "stdout",
     "output_type": "stream",
     "text": [
      "Less than 25 reviews available - skipped\n"
     ]
    },
    {
     "name": "stderr",
     "output_type": "stream",
     "text": [
      "looking for review ids:  84%|████████▎ | 1689/2020 [7:31:01<1:20:22, 14.57s/movie]"
     ]
    },
    {
     "name": "stdout",
     "output_type": "stream",
     "text": [
      "Less than 25 reviews available - skipped\n"
     ]
    },
    {
     "name": "stderr",
     "output_type": "stream",
     "text": [
      "looking for review ids:  84%|████████▎ | 1690/2020 [7:31:17<1:22:11, 14.94s/movie]"
     ]
    },
    {
     "name": "stdout",
     "output_type": "stream",
     "text": [
      "Less than 25 reviews available - skipped\n"
     ]
    },
    {
     "name": "stderr",
     "output_type": "stream",
     "text": [
      "looking for review ids:  84%|████████▎ | 1691/2020 [7:31:33<1:23:22, 15.20s/movie]"
     ]
    },
    {
     "name": "stdout",
     "output_type": "stream",
     "text": [
      "Less than 25 reviews available - skipped\n"
     ]
    },
    {
     "name": "stderr",
     "output_type": "stream",
     "text": [
      "looking for review ids:  84%|████████▍ | 1692/2020 [7:31:48<1:24:06, 15.39s/movie]"
     ]
    },
    {
     "name": "stdout",
     "output_type": "stream",
     "text": [
      "Less than 25 reviews available - skipped\n"
     ]
    },
    {
     "name": "stderr",
     "output_type": "stream",
     "text": [
      "looking for review ids:  84%|████████▍ | 1693/2020 [7:32:04<1:24:36, 15.52s/movie]"
     ]
    },
    {
     "name": "stdout",
     "output_type": "stream",
     "text": [
      "Less than 25 reviews available - skipped\n"
     ]
    },
    {
     "name": "stderr",
     "output_type": "stream",
     "text": [
      "looking for review ids:  84%|████████▍ | 1695/2020 [7:32:34<1:21:03, 14.97s/movie]"
     ]
    },
    {
     "name": "stdout",
     "output_type": "stream",
     "text": [
      "Less than 25 reviews available - skipped\n"
     ]
    },
    {
     "name": "stderr",
     "output_type": "stream",
     "text": [
      "looking for review ids:  84%|████████▍ | 1696/2020 [7:32:49<1:22:13, 15.23s/movie]"
     ]
    },
    {
     "name": "stdout",
     "output_type": "stream",
     "text": [
      "Less than 25 reviews available - skipped\n"
     ]
    },
    {
     "name": "stderr",
     "output_type": "stream",
     "text": [
      "looking for review ids:  84%|████████▍ | 1697/2020 [7:33:05<1:22:37, 15.35s/movie]"
     ]
    },
    {
     "name": "stdout",
     "output_type": "stream",
     "text": [
      "Less than 25 reviews available - skipped\n"
     ]
    },
    {
     "name": "stderr",
     "output_type": "stream",
     "text": [
      "looking for review ids:  84%|████████▍ | 1698/2020 [7:33:20<1:22:31, 15.38s/movie]"
     ]
    },
    {
     "name": "stdout",
     "output_type": "stream",
     "text": [
      "Less than 25 reviews available - skipped\n"
     ]
    },
    {
     "name": "stderr",
     "output_type": "stream",
     "text": [
      "looking for review ids:  84%|████████▍ | 1699/2020 [7:33:36<1:23:14, 15.56s/movie]"
     ]
    },
    {
     "name": "stdout",
     "output_type": "stream",
     "text": [
      "Less than 25 reviews available - skipped\n"
     ]
    },
    {
     "name": "stderr",
     "output_type": "stream",
     "text": [
      "looking for review ids:  84%|████████▍ | 1700/2020 [7:33:53<1:23:53, 15.73s/movie]"
     ]
    },
    {
     "name": "stdout",
     "output_type": "stream",
     "text": [
      "Less than 25 reviews available - skipped\n"
     ]
    },
    {
     "name": "stderr",
     "output_type": "stream",
     "text": [
      "looking for review ids:  84%|████████▍ | 1701/2020 [7:34:08<1:23:18, 15.67s/movie]"
     ]
    },
    {
     "name": "stdout",
     "output_type": "stream",
     "text": [
      "Less than 25 reviews available - skipped\n"
     ]
    },
    {
     "name": "stderr",
     "output_type": "stream",
     "text": [
      "looking for review ids:  84%|████████▍ | 1702/2020 [7:34:24<1:23:16, 15.71s/movie]"
     ]
    },
    {
     "name": "stdout",
     "output_type": "stream",
     "text": [
      "Less than 25 reviews available - skipped\n"
     ]
    },
    {
     "name": "stderr",
     "output_type": "stream",
     "text": [
      "looking for review ids:  84%|████████▍ | 1703/2020 [7:34:40<1:23:43, 15.85s/movie]"
     ]
    },
    {
     "name": "stdout",
     "output_type": "stream",
     "text": [
      "Less than 25 reviews available - skipped\n"
     ]
    },
    {
     "name": "stderr",
     "output_type": "stream",
     "text": [
      "looking for review ids:  84%|████████▍ | 1704/2020 [7:34:56<1:23:18, 15.82s/movie]"
     ]
    },
    {
     "name": "stdout",
     "output_type": "stream",
     "text": [
      "Less than 25 reviews available - skipped\n"
     ]
    },
    {
     "name": "stderr",
     "output_type": "stream",
     "text": [
      "looking for review ids:  84%|████████▍ | 1705/2020 [7:35:12<1:23:11, 15.85s/movie]"
     ]
    },
    {
     "name": "stdout",
     "output_type": "stream",
     "text": [
      "Less than 25 reviews available - skipped\n"
     ]
    },
    {
     "name": "stderr",
     "output_type": "stream",
     "text": [
      "looking for review ids:  84%|████████▍ | 1706/2020 [7:35:27<1:22:22, 15.74s/movie]"
     ]
    },
    {
     "name": "stdout",
     "output_type": "stream",
     "text": [
      "Less than 25 reviews available - skipped\n"
     ]
    },
    {
     "name": "stderr",
     "output_type": "stream",
     "text": [
      "looking for review ids:  85%|████████▍ | 1707/2020 [7:35:43<1:22:09, 15.75s/movie]"
     ]
    },
    {
     "name": "stdout",
     "output_type": "stream",
     "text": [
      "Less than 25 reviews available - skipped\n"
     ]
    },
    {
     "name": "stderr",
     "output_type": "stream",
     "text": [
      "looking for review ids:  85%|████████▍ | 1708/2020 [7:35:59<1:21:48, 15.73s/movie]"
     ]
    },
    {
     "name": "stdout",
     "output_type": "stream",
     "text": [
      "Less than 25 reviews available - skipped\n"
     ]
    },
    {
     "name": "stderr",
     "output_type": "stream",
     "text": [
      "looking for review ids:  85%|████████▍ | 1709/2020 [7:36:15<1:21:51, 15.79s/movie]"
     ]
    },
    {
     "name": "stdout",
     "output_type": "stream",
     "text": [
      "Less than 25 reviews available - skipped\n"
     ]
    },
    {
     "name": "stderr",
     "output_type": "stream",
     "text": [
      "looking for review ids:  85%|████████▍ | 1710/2020 [7:36:31<1:22:01, 15.88s/movie]"
     ]
    },
    {
     "name": "stdout",
     "output_type": "stream",
     "text": [
      "Less than 25 reviews available - skipped\n"
     ]
    },
    {
     "name": "stderr",
     "output_type": "stream",
     "text": [
      "looking for review ids:  85%|████████▍ | 1711/2020 [7:36:47<1:21:51, 15.89s/movie]"
     ]
    },
    {
     "name": "stdout",
     "output_type": "stream",
     "text": [
      "Less than 25 reviews available - skipped\n"
     ]
    },
    {
     "name": "stderr",
     "output_type": "stream",
     "text": [
      "looking for review ids:  85%|████████▍ | 1712/2020 [7:37:03<1:21:36, 15.90s/movie]"
     ]
    },
    {
     "name": "stdout",
     "output_type": "stream",
     "text": [
      "Less than 25 reviews available - skipped\n"
     ]
    },
    {
     "name": "stderr",
     "output_type": "stream",
     "text": [
      "looking for review ids:  85%|████████▍ | 1713/2020 [7:37:18<1:20:36, 15.75s/movie]"
     ]
    },
    {
     "name": "stdout",
     "output_type": "stream",
     "text": [
      "Less than 25 reviews available - skipped\n"
     ]
    },
    {
     "name": "stderr",
     "output_type": "stream",
     "text": [
      "looking for review ids:  85%|████████▍ | 1714/2020 [7:37:34<1:20:41, 15.82s/movie]"
     ]
    },
    {
     "name": "stdout",
     "output_type": "stream",
     "text": [
      "Less than 25 reviews available - skipped\n"
     ]
    },
    {
     "name": "stderr",
     "output_type": "stream",
     "text": [
      "looking for review ids:  85%|████████▍ | 1715/2020 [7:37:50<1:20:45, 15.89s/movie]"
     ]
    },
    {
     "name": "stdout",
     "output_type": "stream",
     "text": [
      "Less than 25 reviews available - skipped\n"
     ]
    },
    {
     "name": "stderr",
     "output_type": "stream",
     "text": [
      "looking for review ids:  85%|████████▍ | 1716/2020 [7:38:06<1:20:11, 15.83s/movie]"
     ]
    },
    {
     "name": "stdout",
     "output_type": "stream",
     "text": [
      "Less than 25 reviews available - skipped\n"
     ]
    },
    {
     "name": "stderr",
     "output_type": "stream",
     "text": [
      "looking for review ids:  85%|████████▌ | 1717/2020 [7:38:21<1:19:47, 15.80s/movie]"
     ]
    },
    {
     "name": "stdout",
     "output_type": "stream",
     "text": [
      "Less than 25 reviews available - skipped\n"
     ]
    },
    {
     "name": "stderr",
     "output_type": "stream",
     "text": [
      "looking for review ids:  85%|████████▌ | 1718/2020 [7:38:37<1:19:43, 15.84s/movie]"
     ]
    },
    {
     "name": "stdout",
     "output_type": "stream",
     "text": [
      "Less than 25 reviews available - skipped\n"
     ]
    },
    {
     "name": "stderr",
     "output_type": "stream",
     "text": [
      "looking for review ids:  85%|████████▌ | 1719/2020 [7:38:53<1:19:29, 15.85s/movie]"
     ]
    },
    {
     "name": "stdout",
     "output_type": "stream",
     "text": [
      "Less than 25 reviews available - skipped\n"
     ]
    },
    {
     "name": "stderr",
     "output_type": "stream",
     "text": [
      "looking for review ids:  85%|████████▌ | 1720/2020 [7:39:09<1:18:43, 15.75s/movie]"
     ]
    },
    {
     "name": "stdout",
     "output_type": "stream",
     "text": [
      "Less than 25 reviews available - skipped\n"
     ]
    },
    {
     "name": "stderr",
     "output_type": "stream",
     "text": [
      "looking for review ids:  85%|████████▌ | 1721/2020 [7:39:24<1:18:31, 15.76s/movie]"
     ]
    },
    {
     "name": "stdout",
     "output_type": "stream",
     "text": [
      "Less than 25 reviews available - skipped\n"
     ]
    },
    {
     "name": "stderr",
     "output_type": "stream",
     "text": [
      "looking for review ids:  85%|████████▌ | 1722/2020 [7:39:40<1:18:18, 15.77s/movie]"
     ]
    },
    {
     "name": "stdout",
     "output_type": "stream",
     "text": [
      "Less than 25 reviews available - skipped\n"
     ]
    },
    {
     "name": "stderr",
     "output_type": "stream",
     "text": [
      "looking for review ids:  85%|████████▌ | 1723/2020 [7:39:56<1:18:38, 15.89s/movie]"
     ]
    },
    {
     "name": "stdout",
     "output_type": "stream",
     "text": [
      "Less than 25 reviews available - skipped\n"
     ]
    },
    {
     "name": "stderr",
     "output_type": "stream",
     "text": [
      "looking for review ids:  85%|████████▌ | 1724/2020 [7:40:12<1:17:58, 15.80s/movie]"
     ]
    },
    {
     "name": "stdout",
     "output_type": "stream",
     "text": [
      "Less than 25 reviews available - skipped\n"
     ]
    },
    {
     "name": "stderr",
     "output_type": "stream",
     "text": [
      "looking for review ids:  85%|████████▌ | 1725/2020 [7:40:28<1:17:13, 15.71s/movie]"
     ]
    },
    {
     "name": "stdout",
     "output_type": "stream",
     "text": [
      "Less than 25 reviews available - skipped\n"
     ]
    },
    {
     "name": "stderr",
     "output_type": "stream",
     "text": [
      "looking for review ids:  85%|████████▌ | 1726/2020 [7:40:43<1:17:17, 15.78s/movie]"
     ]
    },
    {
     "name": "stdout",
     "output_type": "stream",
     "text": [
      "Less than 25 reviews available - skipped\n"
     ]
    },
    {
     "name": "stderr",
     "output_type": "stream",
     "text": [
      "looking for review ids:  85%|████████▌ | 1727/2020 [7:40:59<1:17:16, 15.83s/movie]"
     ]
    },
    {
     "name": "stdout",
     "output_type": "stream",
     "text": [
      "Less than 25 reviews available - skipped\n"
     ]
    },
    {
     "name": "stderr",
     "output_type": "stream",
     "text": [
      "looking for review ids:  86%|████████▌ | 1728/2020 [7:41:15<1:17:12, 15.87s/movie]"
     ]
    },
    {
     "name": "stdout",
     "output_type": "stream",
     "text": [
      "Less than 25 reviews available - skipped\n"
     ]
    },
    {
     "name": "stderr",
     "output_type": "stream",
     "text": [
      "looking for review ids:  86%|████████▌ | 1729/2020 [7:41:31<1:16:58, 15.87s/movie]"
     ]
    },
    {
     "name": "stdout",
     "output_type": "stream",
     "text": [
      "Less than 25 reviews available - skipped\n"
     ]
    },
    {
     "name": "stderr",
     "output_type": "stream",
     "text": [
      "looking for review ids:  86%|████████▌ | 1730/2020 [7:41:47<1:16:35, 15.85s/movie]"
     ]
    },
    {
     "name": "stdout",
     "output_type": "stream",
     "text": [
      "Less than 25 reviews available - skipped\n"
     ]
    },
    {
     "name": "stderr",
     "output_type": "stream",
     "text": [
      "looking for review ids:  86%|████████▌ | 1731/2020 [7:42:03<1:16:25, 15.87s/movie]"
     ]
    },
    {
     "name": "stdout",
     "output_type": "stream",
     "text": [
      "Less than 25 reviews available - skipped\n"
     ]
    },
    {
     "name": "stderr",
     "output_type": "stream",
     "text": [
      "looking for review ids:  86%|████████▌ | 1732/2020 [7:42:19<1:16:09, 15.87s/movie]"
     ]
    },
    {
     "name": "stdout",
     "output_type": "stream",
     "text": [
      "Less than 25 reviews available - skipped\n"
     ]
    },
    {
     "name": "stderr",
     "output_type": "stream",
     "text": [
      "looking for review ids:  86%|████████▌ | 1733/2020 [7:42:35<1:15:50, 15.85s/movie]"
     ]
    },
    {
     "name": "stdout",
     "output_type": "stream",
     "text": [
      "Less than 25 reviews available - skipped\n"
     ]
    },
    {
     "name": "stderr",
     "output_type": "stream",
     "text": [
      "looking for review ids:  86%|████████▌ | 1735/2020 [7:43:04<1:11:45, 15.11s/movie]"
     ]
    },
    {
     "name": "stdout",
     "output_type": "stream",
     "text": [
      "Less than 25 reviews available - skipped\n"
     ]
    },
    {
     "name": "stderr",
     "output_type": "stream",
     "text": [
      "looking for review ids:  86%|████████▌ | 1736/2020 [7:43:19<1:12:17, 15.27s/movie]"
     ]
    },
    {
     "name": "stdout",
     "output_type": "stream",
     "text": [
      "Less than 25 reviews available - skipped\n"
     ]
    },
    {
     "name": "stderr",
     "output_type": "stream",
     "text": [
      "looking for review ids:  86%|████████▌ | 1737/2020 [7:43:35<1:12:13, 15.31s/movie]"
     ]
    },
    {
     "name": "stdout",
     "output_type": "stream",
     "text": [
      "Less than 25 reviews available - skipped\n"
     ]
    },
    {
     "name": "stderr",
     "output_type": "stream",
     "text": [
      "looking for review ids:  86%|████████▌ | 1738/2020 [7:43:51<1:12:38, 15.45s/movie]"
     ]
    },
    {
     "name": "stdout",
     "output_type": "stream",
     "text": [
      "Less than 25 reviews available - skipped\n"
     ]
    },
    {
     "name": "stderr",
     "output_type": "stream",
     "text": [
      "looking for review ids:  86%|████████▌ | 1739/2020 [7:44:06<1:12:45, 15.54s/movie]"
     ]
    },
    {
     "name": "stdout",
     "output_type": "stream",
     "text": [
      "Less than 25 reviews available - skipped\n"
     ]
    },
    {
     "name": "stderr",
     "output_type": "stream",
     "text": [
      "looking for review ids:  86%|████████▌ | 1740/2020 [7:44:22<1:13:13, 15.69s/movie]"
     ]
    },
    {
     "name": "stdout",
     "output_type": "stream",
     "text": [
      "Less than 25 reviews available - skipped\n"
     ]
    },
    {
     "name": "stderr",
     "output_type": "stream",
     "text": [
      "looking for review ids:  86%|████████▌ | 1741/2020 [7:44:38<1:13:05, 15.72s/movie]"
     ]
    },
    {
     "name": "stdout",
     "output_type": "stream",
     "text": [
      "Less than 25 reviews available - skipped\n"
     ]
    },
    {
     "name": "stderr",
     "output_type": "stream",
     "text": [
      "looking for review ids:  86%|████████▌ | 1742/2020 [7:44:54<1:12:17, 15.60s/movie]"
     ]
    },
    {
     "name": "stdout",
     "output_type": "stream",
     "text": [
      "Less than 25 reviews available - skipped\n"
     ]
    },
    {
     "name": "stderr",
     "output_type": "stream",
     "text": [
      "looking for review ids:  86%|████████▋ | 1744/2020 [7:45:23<1:08:49, 14.96s/movie]"
     ]
    },
    {
     "name": "stdout",
     "output_type": "stream",
     "text": [
      "Less than 25 reviews available - skipped\n"
     ]
    },
    {
     "name": "stderr",
     "output_type": "stream",
     "text": [
      "looking for review ids:  86%|████████▋ | 1745/2020 [7:45:38<1:09:14, 15.11s/movie]"
     ]
    },
    {
     "name": "stdout",
     "output_type": "stream",
     "text": [
      "Less than 25 reviews available - skipped\n"
     ]
    },
    {
     "name": "stderr",
     "output_type": "stream",
     "text": [
      "looking for review ids:  86%|████████▋ | 1746/2020 [7:45:54<1:09:34, 15.23s/movie]"
     ]
    },
    {
     "name": "stdout",
     "output_type": "stream",
     "text": [
      "Less than 25 reviews available - skipped\n"
     ]
    },
    {
     "name": "stderr",
     "output_type": "stream",
     "text": [
      "looking for review ids:  87%|████████▋ | 1748/2020 [7:46:23<1:06:45, 14.73s/movie]"
     ]
    },
    {
     "name": "stdout",
     "output_type": "stream",
     "text": [
      "Less than 25 reviews available - skipped\n"
     ]
    },
    {
     "name": "stderr",
     "output_type": "stream",
     "text": [
      "looking for review ids:  87%|████████▋ | 1749/2020 [7:46:38<1:08:08, 15.09s/movie]"
     ]
    },
    {
     "name": "stdout",
     "output_type": "stream",
     "text": [
      "Less than 25 reviews available - skipped\n"
     ]
    },
    {
     "name": "stderr",
     "output_type": "stream",
     "text": [
      "looking for review ids:  87%|████████▋ | 1750/2020 [7:46:54<1:08:41, 15.27s/movie]"
     ]
    },
    {
     "name": "stdout",
     "output_type": "stream",
     "text": [
      "Less than 25 reviews available - skipped\n"
     ]
    },
    {
     "name": "stderr",
     "output_type": "stream",
     "text": [
      "looking for review ids:  87%|████████▋ | 1751/2020 [7:47:10<1:08:49, 15.35s/movie]"
     ]
    },
    {
     "name": "stdout",
     "output_type": "stream",
     "text": [
      "Less than 25 reviews available - skipped\n"
     ]
    },
    {
     "name": "stderr",
     "output_type": "stream",
     "text": [
      "looking for review ids:  87%|████████▋ | 1752/2020 [7:47:26<1:09:16, 15.51s/movie]"
     ]
    },
    {
     "name": "stdout",
     "output_type": "stream",
     "text": [
      "esecuzione interrotta tempo finito\n"
     ]
    },
    {
     "name": "stderr",
     "output_type": "stream",
     "text": [
      "looking for review ids:  87%|████████▋ | 1753/2020 [7:48:08<1:45:25, 23.69s/movie]"
     ]
    },
    {
     "name": "stdout",
     "output_type": "stream",
     "text": [
      "Less than 25 reviews available - skipped\n"
     ]
    },
    {
     "name": "stderr",
     "output_type": "stream",
     "text": [
      "looking for review ids:  87%|████████▋ | 1754/2020 [7:48:24<1:34:35, 21.34s/movie]"
     ]
    },
    {
     "name": "stdout",
     "output_type": "stream",
     "text": [
      "Less than 25 reviews available - skipped\n"
     ]
    },
    {
     "name": "stderr",
     "output_type": "stream",
     "text": [
      "looking for review ids:  87%|████████▋ | 1755/2020 [7:48:40<1:27:26, 19.80s/movie]"
     ]
    },
    {
     "name": "stdout",
     "output_type": "stream",
     "text": [
      "Less than 25 reviews available - skipped\n"
     ]
    },
    {
     "name": "stderr",
     "output_type": "stream",
     "text": [
      "looking for review ids:  87%|████████▋ | 1756/2020 [7:48:56<1:21:52, 18.61s/movie]"
     ]
    },
    {
     "name": "stdout",
     "output_type": "stream",
     "text": [
      "Less than 25 reviews available - skipped\n"
     ]
    },
    {
     "name": "stderr",
     "output_type": "stream",
     "text": [
      "looking for review ids:  87%|████████▋ | 1757/2020 [7:49:12<1:17:52, 17.77s/movie]"
     ]
    },
    {
     "name": "stdout",
     "output_type": "stream",
     "text": [
      "Less than 25 reviews available - skipped\n"
     ]
    },
    {
     "name": "stderr",
     "output_type": "stream",
     "text": [
      "looking for review ids:  87%|████████▋ | 1758/2020 [7:49:28<1:15:07, 17.21s/movie]"
     ]
    },
    {
     "name": "stdout",
     "output_type": "stream",
     "text": [
      "Less than 25 reviews available - skipped\n"
     ]
    },
    {
     "name": "stderr",
     "output_type": "stream",
     "text": [
      "looking for review ids:  87%|████████▋ | 1759/2020 [7:49:44<1:13:04, 16.80s/movie]"
     ]
    },
    {
     "name": "stdout",
     "output_type": "stream",
     "text": [
      "Less than 25 reviews available - skipped\n"
     ]
    },
    {
     "name": "stderr",
     "output_type": "stream",
     "text": [
      "looking for review ids:  87%|████████▋ | 1760/2020 [7:50:00<1:11:21, 16.47s/movie]"
     ]
    },
    {
     "name": "stdout",
     "output_type": "stream",
     "text": [
      "Less than 25 reviews available - skipped\n"
     ]
    },
    {
     "name": "stderr",
     "output_type": "stream",
     "text": [
      "looking for review ids:  87%|████████▋ | 1761/2020 [7:50:15<1:10:27, 16.32s/movie]"
     ]
    },
    {
     "name": "stdout",
     "output_type": "stream",
     "text": [
      "Less than 25 reviews available - skipped\n"
     ]
    },
    {
     "name": "stderr",
     "output_type": "stream",
     "text": [
      "looking for review ids:  87%|████████▋ | 1762/2020 [7:50:31<1:09:13, 16.10s/movie]"
     ]
    },
    {
     "name": "stdout",
     "output_type": "stream",
     "text": [
      "Less than 25 reviews available - skipped\n"
     ]
    },
    {
     "name": "stderr",
     "output_type": "stream",
     "text": [
      "looking for review ids:  87%|████████▋ | 1763/2020 [7:50:47<1:08:29, 15.99s/movie]"
     ]
    },
    {
     "name": "stdout",
     "output_type": "stream",
     "text": [
      "Less than 25 reviews available - skipped\n"
     ]
    },
    {
     "name": "stderr",
     "output_type": "stream",
     "text": [
      "looking for review ids:  87%|████████▋ | 1764/2020 [7:51:03<1:08:04, 15.96s/movie]"
     ]
    },
    {
     "name": "stdout",
     "output_type": "stream",
     "text": [
      "Less than 25 reviews available - skipped\n"
     ]
    },
    {
     "name": "stderr",
     "output_type": "stream",
     "text": [
      "looking for review ids:  87%|████████▋ | 1765/2020 [7:51:18<1:07:08, 15.80s/movie]"
     ]
    },
    {
     "name": "stdout",
     "output_type": "stream",
     "text": [
      "Less than 25 reviews available - skipped\n"
     ]
    },
    {
     "name": "stderr",
     "output_type": "stream",
     "text": [
      "looking for review ids:  87%|████████▋ | 1766/2020 [7:51:34<1:06:42, 15.76s/movie]"
     ]
    },
    {
     "name": "stdout",
     "output_type": "stream",
     "text": [
      "Less than 25 reviews available - skipped\n"
     ]
    },
    {
     "name": "stderr",
     "output_type": "stream",
     "text": [
      "looking for review ids:  87%|████████▋ | 1767/2020 [7:51:50<1:06:39, 15.81s/movie]"
     ]
    },
    {
     "name": "stdout",
     "output_type": "stream",
     "text": [
      "Less than 25 reviews available - skipped\n"
     ]
    },
    {
     "name": "stderr",
     "output_type": "stream",
     "text": [
      "looking for review ids:  88%|████████▊ | 1768/2020 [7:52:05<1:06:20, 15.80s/movie]"
     ]
    },
    {
     "name": "stdout",
     "output_type": "stream",
     "text": [
      "Less than 25 reviews available - skipped\n"
     ]
    },
    {
     "name": "stderr",
     "output_type": "stream",
     "text": [
      "looking for review ids:  88%|████████▊ | 1769/2020 [7:52:21<1:06:19, 15.86s/movie]"
     ]
    },
    {
     "name": "stdout",
     "output_type": "stream",
     "text": [
      "Less than 25 reviews available - skipped\n"
     ]
    },
    {
     "name": "stderr",
     "output_type": "stream",
     "text": [
      "looking for review ids:  88%|████████▊ | 1770/2020 [7:52:37<1:05:52, 15.81s/movie]"
     ]
    },
    {
     "name": "stdout",
     "output_type": "stream",
     "text": [
      "Less than 25 reviews available - skipped\n"
     ]
    },
    {
     "name": "stderr",
     "output_type": "stream",
     "text": [
      "looking for review ids:  88%|████████▊ | 1771/2020 [7:52:53<1:05:31, 15.79s/movie]"
     ]
    },
    {
     "name": "stdout",
     "output_type": "stream",
     "text": [
      "Less than 25 reviews available - skipped\n"
     ]
    },
    {
     "name": "stderr",
     "output_type": "stream",
     "text": [
      "looking for review ids:  88%|████████▊ | 1772/2020 [7:53:09<1:05:16, 15.79s/movie]"
     ]
    },
    {
     "name": "stdout",
     "output_type": "stream",
     "text": [
      "Less than 25 reviews available - skipped\n"
     ]
    },
    {
     "name": "stderr",
     "output_type": "stream",
     "text": [
      "looking for review ids:  88%|████████▊ | 1774/2020 [7:53:38<1:01:39, 15.04s/movie]"
     ]
    },
    {
     "name": "stdout",
     "output_type": "stream",
     "text": [
      "Less than 25 reviews available - skipped\n"
     ]
    },
    {
     "name": "stderr",
     "output_type": "stream",
     "text": [
      "looking for review ids:  88%|████████▊ | 1775/2020 [7:53:54<1:02:27, 15.30s/movie]"
     ]
    },
    {
     "name": "stdout",
     "output_type": "stream",
     "text": [
      "Less than 25 reviews available - skipped\n"
     ]
    },
    {
     "name": "stderr",
     "output_type": "stream",
     "text": [
      "looking for review ids:  88%|████████▊ | 1776/2020 [7:54:09<1:02:25, 15.35s/movie]"
     ]
    },
    {
     "name": "stdout",
     "output_type": "stream",
     "text": [
      "Less than 25 reviews available - skipped\n"
     ]
    },
    {
     "name": "stderr",
     "output_type": "stream",
     "text": [
      "looking for review ids:  88%|████████▊ | 1778/2020 [7:54:38<59:10, 14.67s/movie]  "
     ]
    },
    {
     "name": "stdout",
     "output_type": "stream",
     "text": [
      "Less than 25 reviews available - skipped\n"
     ]
    },
    {
     "name": "stderr",
     "output_type": "stream",
     "text": [
      "looking for review ids:  88%|████████▊ | 1779/2020 [7:54:53<1:00:04, 14.96s/movie]"
     ]
    },
    {
     "name": "stdout",
     "output_type": "stream",
     "text": [
      "Less than 25 reviews available - skipped\n"
     ]
    },
    {
     "name": "stderr",
     "output_type": "stream",
     "text": [
      "looking for review ids:  88%|████████▊ | 1780/2020 [7:55:09<1:00:52, 15.22s/movie]"
     ]
    },
    {
     "name": "stdout",
     "output_type": "stream",
     "text": [
      "Less than 25 reviews available - skipped\n"
     ]
    },
    {
     "name": "stderr",
     "output_type": "stream",
     "text": [
      "looking for review ids:  88%|████████▊ | 1781/2020 [7:55:25<1:01:28, 15.43s/movie]"
     ]
    },
    {
     "name": "stdout",
     "output_type": "stream",
     "text": [
      "Less than 25 reviews available - skipped\n"
     ]
    },
    {
     "name": "stderr",
     "output_type": "stream",
     "text": [
      "looking for review ids:  88%|████████▊ | 1782/2020 [7:55:41<1:01:31, 15.51s/movie]"
     ]
    },
    {
     "name": "stdout",
     "output_type": "stream",
     "text": [
      "Less than 25 reviews available - skipped\n"
     ]
    },
    {
     "name": "stderr",
     "output_type": "stream",
     "text": [
      "looking for review ids:  88%|████████▊ | 1783/2020 [7:55:57<1:01:46, 15.64s/movie]"
     ]
    },
    {
     "name": "stdout",
     "output_type": "stream",
     "text": [
      "Less than 25 reviews available - skipped\n"
     ]
    },
    {
     "name": "stderr",
     "output_type": "stream",
     "text": [
      "looking for review ids:  88%|████████▊ | 1784/2020 [7:56:13<1:01:51, 15.73s/movie]"
     ]
    },
    {
     "name": "stdout",
     "output_type": "stream",
     "text": [
      "Less than 25 reviews available - skipped\n"
     ]
    },
    {
     "name": "stderr",
     "output_type": "stream",
     "text": [
      "looking for review ids:  88%|████████▊ | 1785/2020 [7:56:28<1:01:27, 15.69s/movie]"
     ]
    },
    {
     "name": "stdout",
     "output_type": "stream",
     "text": [
      "Less than 25 reviews available - skipped\n"
     ]
    },
    {
     "name": "stderr",
     "output_type": "stream",
     "text": [
      "looking for review ids:  88%|████████▊ | 1786/2020 [7:56:44<1:01:15, 15.71s/movie]"
     ]
    },
    {
     "name": "stdout",
     "output_type": "stream",
     "text": [
      "Less than 25 reviews available - skipped\n"
     ]
    },
    {
     "name": "stderr",
     "output_type": "stream",
     "text": [
      "looking for review ids:  88%|████████▊ | 1787/2020 [7:56:59<1:00:51, 15.67s/movie]"
     ]
    },
    {
     "name": "stdout",
     "output_type": "stream",
     "text": [
      "Less than 25 reviews available - skipped\n"
     ]
    },
    {
     "name": "stderr",
     "output_type": "stream",
     "text": [
      "looking for review ids:  89%|████████▊ | 1788/2020 [7:57:15<1:00:47, 15.72s/movie]"
     ]
    },
    {
     "name": "stdout",
     "output_type": "stream",
     "text": [
      "Less than 25 reviews available - skipped\n"
     ]
    },
    {
     "name": "stderr",
     "output_type": "stream",
     "text": [
      "looking for review ids:  89%|████████▊ | 1790/2020 [7:57:44<57:04, 14.89s/movie]  "
     ]
    },
    {
     "name": "stdout",
     "output_type": "stream",
     "text": [
      "Less than 25 reviews available - skipped\n"
     ]
    },
    {
     "name": "stderr",
     "output_type": "stream",
     "text": [
      "looking for review ids:  89%|████████▊ | 1791/2020 [7:58:00<57:45, 15.13s/movie]"
     ]
    },
    {
     "name": "stdout",
     "output_type": "stream",
     "text": [
      "Less than 25 reviews available - skipped\n"
     ]
    },
    {
     "name": "stderr",
     "output_type": "stream",
     "text": [
      "looking for review ids:  89%|████████▊ | 1792/2020 [7:58:15<58:15, 15.33s/movie]"
     ]
    },
    {
     "name": "stdout",
     "output_type": "stream",
     "text": [
      "Less than 25 reviews available - skipped\n"
     ]
    },
    {
     "name": "stderr",
     "output_type": "stream",
     "text": [
      "looking for review ids:  89%|████████▉ | 1793/2020 [7:58:31<58:12, 15.38s/movie]"
     ]
    },
    {
     "name": "stdout",
     "output_type": "stream",
     "text": [
      "Less than 25 reviews available - skipped\n"
     ]
    },
    {
     "name": "stderr",
     "output_type": "stream",
     "text": [
      "looking for review ids:  89%|████████▉ | 1794/2020 [7:58:48<59:25, 15.78s/movie]"
     ]
    },
    {
     "name": "stdout",
     "output_type": "stream",
     "text": [
      "Less than 25 reviews available - skipped\n"
     ]
    },
    {
     "name": "stderr",
     "output_type": "stream",
     "text": [
      "looking for review ids:  89%|████████▉ | 1795/2020 [7:59:03<58:37, 15.63s/movie]"
     ]
    },
    {
     "name": "stdout",
     "output_type": "stream",
     "text": [
      "Less than 25 reviews available - skipped\n"
     ]
    },
    {
     "name": "stderr",
     "output_type": "stream",
     "text": [
      "looking for review ids:  89%|████████▉ | 1796/2020 [7:59:19<58:36, 15.70s/movie]"
     ]
    },
    {
     "name": "stdout",
     "output_type": "stream",
     "text": [
      "Less than 25 reviews available - skipped\n"
     ]
    },
    {
     "name": "stderr",
     "output_type": "stream",
     "text": [
      "looking for review ids:  89%|████████▉ | 1797/2020 [7:59:34<58:09, 15.65s/movie]"
     ]
    },
    {
     "name": "stdout",
     "output_type": "stream",
     "text": [
      "Less than 25 reviews available - skipped\n"
     ]
    },
    {
     "name": "stderr",
     "output_type": "stream",
     "text": [
      "looking for review ids:  89%|████████▉ | 1798/2020 [7:59:50<58:04, 15.70s/movie]"
     ]
    },
    {
     "name": "stdout",
     "output_type": "stream",
     "text": [
      "Less than 25 reviews available - skipped\n"
     ]
    },
    {
     "name": "stderr",
     "output_type": "stream",
     "text": [
      "looking for review ids:  89%|████████▉ | 1799/2020 [8:00:06<57:53, 15.72s/movie]"
     ]
    },
    {
     "name": "stdout",
     "output_type": "stream",
     "text": [
      "Less than 25 reviews available - skipped\n"
     ]
    },
    {
     "name": "stderr",
     "output_type": "stream",
     "text": [
      "looking for review ids:  89%|████████▉ | 1800/2020 [8:00:22<57:54, 15.79s/movie]"
     ]
    },
    {
     "name": "stdout",
     "output_type": "stream",
     "text": [
      "Less than 25 reviews available - skipped\n"
     ]
    },
    {
     "name": "stderr",
     "output_type": "stream",
     "text": [
      "looking for review ids:  89%|████████▉ | 1801/2020 [8:00:38<57:46, 15.83s/movie]"
     ]
    },
    {
     "name": "stdout",
     "output_type": "stream",
     "text": [
      "Less than 25 reviews available - skipped\n"
     ]
    },
    {
     "name": "stderr",
     "output_type": "stream",
     "text": [
      "looking for review ids:  89%|████████▉ | 1802/2020 [8:00:54<57:31, 15.83s/movie]"
     ]
    },
    {
     "name": "stdout",
     "output_type": "stream",
     "text": [
      "Less than 25 reviews available - skipped\n"
     ]
    },
    {
     "name": "stderr",
     "output_type": "stream",
     "text": [
      "looking for review ids:  89%|████████▉ | 1803/2020 [8:01:09<56:57, 15.75s/movie]"
     ]
    },
    {
     "name": "stdout",
     "output_type": "stream",
     "text": [
      "Less than 25 reviews available - skipped\n"
     ]
    },
    {
     "name": "stderr",
     "output_type": "stream",
     "text": [
      "looking for review ids:  89%|████████▉ | 1804/2020 [8:01:25<56:27, 15.68s/movie]"
     ]
    },
    {
     "name": "stdout",
     "output_type": "stream",
     "text": [
      "Less than 25 reviews available - skipped\n"
     ]
    },
    {
     "name": "stderr",
     "output_type": "stream",
     "text": [
      "looking for review ids:  89%|████████▉ | 1805/2020 [8:01:41<56:19, 15.72s/movie]"
     ]
    },
    {
     "name": "stdout",
     "output_type": "stream",
     "text": [
      "Less than 25 reviews available - skipped\n"
     ]
    },
    {
     "name": "stderr",
     "output_type": "stream",
     "text": [
      "looking for review ids:  89%|████████▉ | 1806/2020 [8:01:56<55:57, 15.69s/movie]"
     ]
    },
    {
     "name": "stdout",
     "output_type": "stream",
     "text": [
      "Less than 25 reviews available - skipped\n"
     ]
    },
    {
     "name": "stderr",
     "output_type": "stream",
     "text": [
      "looking for review ids:  89%|████████▉ | 1807/2020 [8:02:12<55:51, 15.74s/movie]"
     ]
    },
    {
     "name": "stdout",
     "output_type": "stream",
     "text": [
      "Less than 25 reviews available - skipped\n"
     ]
    },
    {
     "name": "stderr",
     "output_type": "stream",
     "text": [
      "looking for review ids:  90%|████████▉ | 1808/2020 [8:02:28<55:26, 15.69s/movie]"
     ]
    },
    {
     "name": "stdout",
     "output_type": "stream",
     "text": [
      "Less than 25 reviews available - skipped\n"
     ]
    },
    {
     "name": "stderr",
     "output_type": "stream",
     "text": [
      "looking for review ids:  90%|████████▉ | 1809/2020 [8:02:43<54:55, 15.62s/movie]"
     ]
    },
    {
     "name": "stdout",
     "output_type": "stream",
     "text": [
      "Less than 25 reviews available - skipped\n"
     ]
    },
    {
     "name": "stderr",
     "output_type": "stream",
     "text": [
      "looking for review ids:  90%|████████▉ | 1810/2020 [8:02:59<54:49, 15.67s/movie]"
     ]
    },
    {
     "name": "stdout",
     "output_type": "stream",
     "text": [
      "Less than 25 reviews available - skipped\n"
     ]
    },
    {
     "name": "stderr",
     "output_type": "stream",
     "text": [
      "looking for review ids:  90%|████████▉ | 1811/2020 [8:03:14<54:34, 15.67s/movie]"
     ]
    },
    {
     "name": "stdout",
     "output_type": "stream",
     "text": [
      "Less than 25 reviews available - skipped\n"
     ]
    },
    {
     "name": "stderr",
     "output_type": "stream",
     "text": [
      "looking for review ids:  90%|████████▉ | 1812/2020 [8:03:30<54:30, 15.72s/movie]"
     ]
    },
    {
     "name": "stdout",
     "output_type": "stream",
     "text": [
      "Less than 25 reviews available - skipped\n"
     ]
    },
    {
     "name": "stderr",
     "output_type": "stream",
     "text": [
      "looking for review ids:  90%|████████▉ | 1813/2020 [8:03:46<54:14, 15.72s/movie]"
     ]
    },
    {
     "name": "stdout",
     "output_type": "stream",
     "text": [
      "Less than 25 reviews available - skipped\n"
     ]
    },
    {
     "name": "stderr",
     "output_type": "stream",
     "text": [
      "looking for review ids:  90%|████████▉ | 1814/2020 [8:04:02<53:51, 15.69s/movie]"
     ]
    },
    {
     "name": "stdout",
     "output_type": "stream",
     "text": [
      "Less than 25 reviews available - skipped\n"
     ]
    },
    {
     "name": "stderr",
     "output_type": "stream",
     "text": [
      "looking for review ids:  90%|████████▉ | 1815/2020 [8:04:17<53:44, 15.73s/movie]"
     ]
    },
    {
     "name": "stdout",
     "output_type": "stream",
     "text": [
      "Less than 25 reviews available - skipped\n"
     ]
    },
    {
     "name": "stderr",
     "output_type": "stream",
     "text": [
      "looking for review ids:  90%|████████▉ | 1816/2020 [8:04:33<53:35, 15.76s/movie]"
     ]
    },
    {
     "name": "stdout",
     "output_type": "stream",
     "text": [
      "Less than 25 reviews available - skipped\n"
     ]
    },
    {
     "name": "stderr",
     "output_type": "stream",
     "text": [
      "looking for review ids:  90%|████████▉ | 1817/2020 [8:04:49<53:17, 15.75s/movie]"
     ]
    },
    {
     "name": "stdout",
     "output_type": "stream",
     "text": [
      "Less than 25 reviews available - skipped\n"
     ]
    },
    {
     "name": "stderr",
     "output_type": "stream",
     "text": [
      "looking for review ids:  90%|█████████ | 1818/2020 [8:05:05<52:50, 15.70s/movie]"
     ]
    },
    {
     "name": "stdout",
     "output_type": "stream",
     "text": [
      "Less than 25 reviews available - skipped\n"
     ]
    },
    {
     "name": "stderr",
     "output_type": "stream",
     "text": [
      "looking for review ids:  90%|█████████ | 1819/2020 [8:05:21<53:11, 15.88s/movie]"
     ]
    },
    {
     "name": "stdout",
     "output_type": "stream",
     "text": [
      "Less than 25 reviews available - skipped\n"
     ]
    },
    {
     "name": "stderr",
     "output_type": "stream",
     "text": [
      "looking for review ids:  90%|█████████ | 1820/2020 [8:05:37<52:48, 15.84s/movie]"
     ]
    },
    {
     "name": "stdout",
     "output_type": "stream",
     "text": [
      "Less than 25 reviews available - skipped\n"
     ]
    },
    {
     "name": "stderr",
     "output_type": "stream",
     "text": [
      "looking for review ids:  90%|█████████ | 1821/2020 [8:05:53<52:54, 15.95s/movie]"
     ]
    },
    {
     "name": "stdout",
     "output_type": "stream",
     "text": [
      "Less than 25 reviews available - skipped\n"
     ]
    },
    {
     "name": "stderr",
     "output_type": "stream",
     "text": [
      "looking for review ids:  90%|█████████ | 1822/2020 [8:06:09<52:32, 15.92s/movie]"
     ]
    },
    {
     "name": "stdout",
     "output_type": "stream",
     "text": [
      "Less than 25 reviews available - skipped\n"
     ]
    },
    {
     "name": "stderr",
     "output_type": "stream",
     "text": [
      "looking for review ids:  90%|█████████ | 1823/2020 [8:06:24<52:04, 15.86s/movie]"
     ]
    },
    {
     "name": "stdout",
     "output_type": "stream",
     "text": [
      "Less than 25 reviews available - skipped\n"
     ]
    },
    {
     "name": "stderr",
     "output_type": "stream",
     "text": [
      "looking for review ids:  90%|█████████ | 1824/2020 [8:06:40<51:38, 15.81s/movie]"
     ]
    },
    {
     "name": "stdout",
     "output_type": "stream",
     "text": [
      "Less than 25 reviews available - skipped\n"
     ]
    },
    {
     "name": "stderr",
     "output_type": "stream",
     "text": [
      "looking for review ids:  90%|█████████ | 1825/2020 [8:06:56<51:25, 15.82s/movie]"
     ]
    },
    {
     "name": "stdout",
     "output_type": "stream",
     "text": [
      "Less than 25 reviews available - skipped\n"
     ]
    },
    {
     "name": "stderr",
     "output_type": "stream",
     "text": [
      "looking for review ids:  90%|█████████ | 1826/2020 [8:07:12<50:53, 15.74s/movie]"
     ]
    },
    {
     "name": "stdout",
     "output_type": "stream",
     "text": [
      "Less than 25 reviews available - skipped\n"
     ]
    },
    {
     "name": "stderr",
     "output_type": "stream",
     "text": [
      "looking for review ids:  90%|█████████ | 1827/2020 [8:07:27<50:42, 15.76s/movie]"
     ]
    },
    {
     "name": "stdout",
     "output_type": "stream",
     "text": [
      "Less than 25 reviews available - skipped\n"
     ]
    },
    {
     "name": "stderr",
     "output_type": "stream",
     "text": [
      "looking for review ids:  90%|█████████ | 1828/2020 [8:07:43<50:22, 15.74s/movie]"
     ]
    },
    {
     "name": "stdout",
     "output_type": "stream",
     "text": [
      "Less than 25 reviews available - skipped\n"
     ]
    },
    {
     "name": "stderr",
     "output_type": "stream",
     "text": [
      "looking for review ids:  91%|█████████ | 1829/2020 [8:07:59<50:09, 15.76s/movie]"
     ]
    },
    {
     "name": "stdout",
     "output_type": "stream",
     "text": [
      "Less than 25 reviews available - skipped\n"
     ]
    },
    {
     "name": "stderr",
     "output_type": "stream",
     "text": [
      "looking for review ids:  91%|█████████ | 1830/2020 [8:08:15<49:51, 15.75s/movie]"
     ]
    },
    {
     "name": "stdout",
     "output_type": "stream",
     "text": [
      "Less than 25 reviews available - skipped\n"
     ]
    },
    {
     "name": "stderr",
     "output_type": "stream",
     "text": [
      "looking for review ids:  91%|█████████ | 1831/2020 [8:08:30<49:26, 15.70s/movie]"
     ]
    },
    {
     "name": "stdout",
     "output_type": "stream",
     "text": [
      "Less than 25 reviews available - skipped\n"
     ]
    },
    {
     "name": "stderr",
     "output_type": "stream",
     "text": [
      "looking for review ids:  91%|█████████ | 1832/2020 [8:08:46<49:10, 15.69s/movie]"
     ]
    },
    {
     "name": "stdout",
     "output_type": "stream",
     "text": [
      "Less than 25 reviews available - skipped\n"
     ]
    },
    {
     "name": "stderr",
     "output_type": "stream",
     "text": [
      "looking for review ids:  91%|█████████ | 1833/2020 [8:09:02<49:03, 15.74s/movie]"
     ]
    },
    {
     "name": "stdout",
     "output_type": "stream",
     "text": [
      "Less than 25 reviews available - skipped\n"
     ]
    },
    {
     "name": "stderr",
     "output_type": "stream",
     "text": [
      "looking for review ids:  91%|█████████ | 1834/2020 [8:09:18<49:01, 15.81s/movie]"
     ]
    },
    {
     "name": "stdout",
     "output_type": "stream",
     "text": [
      "Less than 25 reviews available - skipped\n"
     ]
    },
    {
     "name": "stderr",
     "output_type": "stream",
     "text": [
      "looking for review ids:  91%|█████████ | 1835/2020 [8:09:33<48:30, 15.73s/movie]"
     ]
    },
    {
     "name": "stdout",
     "output_type": "stream",
     "text": [
      "Less than 25 reviews available - skipped\n"
     ]
    },
    {
     "name": "stderr",
     "output_type": "stream",
     "text": [
      "looking for review ids:  91%|█████████ | 1836/2020 [8:09:49<48:13, 15.73s/movie]"
     ]
    },
    {
     "name": "stdout",
     "output_type": "stream",
     "text": [
      "Less than 25 reviews available - skipped\n"
     ]
    },
    {
     "name": "stderr",
     "output_type": "stream",
     "text": [
      "looking for review ids:  91%|█████████ | 1837/2020 [8:10:05<48:02, 15.75s/movie]"
     ]
    },
    {
     "name": "stdout",
     "output_type": "stream",
     "text": [
      "Less than 25 reviews available - skipped\n"
     ]
    },
    {
     "name": "stderr",
     "output_type": "stream",
     "text": [
      "looking for review ids:  91%|█████████ | 1838/2020 [8:10:21<47:53, 15.79s/movie]"
     ]
    },
    {
     "name": "stdout",
     "output_type": "stream",
     "text": [
      "Less than 25 reviews available - skipped\n"
     ]
    },
    {
     "name": "stderr",
     "output_type": "stream",
     "text": [
      "looking for review ids:  91%|█████████ | 1839/2020 [8:10:36<47:38, 15.79s/movie]"
     ]
    },
    {
     "name": "stdout",
     "output_type": "stream",
     "text": [
      "Less than 25 reviews available - skipped\n"
     ]
    },
    {
     "name": "stderr",
     "output_type": "stream",
     "text": [
      "looking for review ids:  91%|█████████ | 1840/2020 [8:10:52<47:30, 15.83s/movie]"
     ]
    },
    {
     "name": "stdout",
     "output_type": "stream",
     "text": [
      "Less than 25 reviews available - skipped\n"
     ]
    },
    {
     "name": "stderr",
     "output_type": "stream",
     "text": [
      "looking for review ids:  91%|█████████ | 1841/2020 [8:11:08<47:02, 15.77s/movie]"
     ]
    },
    {
     "name": "stdout",
     "output_type": "stream",
     "text": [
      "Less than 25 reviews available - skipped\n"
     ]
    },
    {
     "name": "stderr",
     "output_type": "stream",
     "text": [
      "looking for review ids:  91%|█████████ | 1842/2020 [8:11:24<46:48, 15.78s/movie]"
     ]
    },
    {
     "name": "stdout",
     "output_type": "stream",
     "text": [
      "Less than 25 reviews available - skipped\n"
     ]
    },
    {
     "name": "stderr",
     "output_type": "stream",
     "text": [
      "looking for review ids:  91%|█████████ | 1843/2020 [8:11:40<46:38, 15.81s/movie]"
     ]
    },
    {
     "name": "stdout",
     "output_type": "stream",
     "text": [
      "Less than 25 reviews available - skipped\n"
     ]
    },
    {
     "name": "stderr",
     "output_type": "stream",
     "text": [
      "looking for review ids:  91%|█████████▏| 1844/2020 [8:11:55<46:06, 15.72s/movie]"
     ]
    },
    {
     "name": "stdout",
     "output_type": "stream",
     "text": [
      "Less than 25 reviews available - skipped\n"
     ]
    },
    {
     "name": "stderr",
     "output_type": "stream",
     "text": [
      "looking for review ids:  91%|█████████▏| 1845/2020 [8:12:11<45:37, 15.64s/movie]"
     ]
    },
    {
     "name": "stdout",
     "output_type": "stream",
     "text": [
      "Less than 25 reviews available - skipped\n"
     ]
    },
    {
     "name": "stderr",
     "output_type": "stream",
     "text": [
      "looking for review ids:  91%|█████████▏| 1846/2020 [8:12:26<45:25, 15.66s/movie]"
     ]
    },
    {
     "name": "stdout",
     "output_type": "stream",
     "text": [
      "Less than 25 reviews available - skipped\n"
     ]
    },
    {
     "name": "stderr",
     "output_type": "stream",
     "text": [
      "looking for review ids:  91%|█████████▏| 1847/2020 [8:12:42<45:15, 15.70s/movie]"
     ]
    },
    {
     "name": "stdout",
     "output_type": "stream",
     "text": [
      "Less than 25 reviews available - skipped\n"
     ]
    },
    {
     "name": "stderr",
     "output_type": "stream",
     "text": [
      "looking for review ids:  91%|█████████▏| 1848/2020 [8:12:58<45:02, 15.71s/movie]"
     ]
    },
    {
     "name": "stdout",
     "output_type": "stream",
     "text": [
      "Less than 25 reviews available - skipped\n"
     ]
    },
    {
     "name": "stderr",
     "output_type": "stream",
     "text": [
      "looking for review ids:  92%|█████████▏| 1849/2020 [8:13:13<44:33, 15.63s/movie]"
     ]
    },
    {
     "name": "stdout",
     "output_type": "stream",
     "text": [
      "Less than 25 reviews available - skipped\n"
     ]
    },
    {
     "name": "stderr",
     "output_type": "stream",
     "text": [
      "looking for review ids:  92%|█████████▏| 1850/2020 [8:13:29<44:15, 15.62s/movie]"
     ]
    },
    {
     "name": "stdout",
     "output_type": "stream",
     "text": [
      "Less than 25 reviews available - skipped\n"
     ]
    },
    {
     "name": "stderr",
     "output_type": "stream",
     "text": [
      "looking for review ids:  92%|█████████▏| 1851/2020 [8:13:45<44:22, 15.75s/movie]"
     ]
    },
    {
     "name": "stdout",
     "output_type": "stream",
     "text": [
      "Less than 25 reviews available - skipped\n"
     ]
    },
    {
     "name": "stderr",
     "output_type": "stream",
     "text": [
      "looking for review ids:  92%|█████████▏| 1852/2020 [8:14:01<44:14, 15.80s/movie]"
     ]
    },
    {
     "name": "stdout",
     "output_type": "stream",
     "text": [
      "Less than 25 reviews available - skipped\n"
     ]
    },
    {
     "name": "stderr",
     "output_type": "stream",
     "text": [
      "looking for review ids:  92%|█████████▏| 1853/2020 [8:14:17<44:01, 15.82s/movie]"
     ]
    },
    {
     "name": "stdout",
     "output_type": "stream",
     "text": [
      "Less than 25 reviews available - skipped\n"
     ]
    },
    {
     "name": "stderr",
     "output_type": "stream",
     "text": [
      "looking for review ids:  92%|█████████▏| 1854/2020 [8:14:33<43:51, 15.85s/movie]"
     ]
    },
    {
     "name": "stdout",
     "output_type": "stream",
     "text": [
      "Less than 25 reviews available - skipped\n"
     ]
    },
    {
     "name": "stderr",
     "output_type": "stream",
     "text": [
      "looking for review ids:  92%|█████████▏| 1855/2020 [8:14:48<43:31, 15.82s/movie]"
     ]
    },
    {
     "name": "stdout",
     "output_type": "stream",
     "text": [
      "Less than 25 reviews available - skipped\n"
     ]
    },
    {
     "name": "stderr",
     "output_type": "stream",
     "text": [
      "looking for review ids:  92%|█████████▏| 1856/2020 [8:15:04<43:09, 15.79s/movie]"
     ]
    },
    {
     "name": "stdout",
     "output_type": "stream",
     "text": [
      "Less than 25 reviews available - skipped\n"
     ]
    },
    {
     "name": "stderr",
     "output_type": "stream",
     "text": [
      "looking for review ids:  92%|█████████▏| 1857/2020 [8:15:20<42:51, 15.77s/movie]"
     ]
    },
    {
     "name": "stdout",
     "output_type": "stream",
     "text": [
      "Less than 25 reviews available - skipped\n"
     ]
    },
    {
     "name": "stderr",
     "output_type": "stream",
     "text": [
      "looking for review ids:  92%|█████████▏| 1858/2020 [8:15:36<42:42, 15.82s/movie]"
     ]
    },
    {
     "name": "stdout",
     "output_type": "stream",
     "text": [
      "Less than 25 reviews available - skipped\n"
     ]
    },
    {
     "name": "stderr",
     "output_type": "stream",
     "text": [
      "looking for review ids:  92%|█████████▏| 1859/2020 [8:15:52<42:27, 15.82s/movie]"
     ]
    },
    {
     "name": "stdout",
     "output_type": "stream",
     "text": [
      "Less than 25 reviews available - skipped\n"
     ]
    },
    {
     "name": "stderr",
     "output_type": "stream",
     "text": [
      "looking for review ids:  92%|█████████▏| 1860/2020 [8:16:07<42:03, 15.77s/movie]"
     ]
    },
    {
     "name": "stdout",
     "output_type": "stream",
     "text": [
      "Less than 25 reviews available - skipped\n"
     ]
    },
    {
     "name": "stderr",
     "output_type": "stream",
     "text": [
      "looking for review ids:  92%|█████████▏| 1861/2020 [8:16:23<41:56, 15.82s/movie]"
     ]
    },
    {
     "name": "stdout",
     "output_type": "stream",
     "text": [
      "Less than 25 reviews available - skipped\n"
     ]
    },
    {
     "name": "stderr",
     "output_type": "stream",
     "text": [
      "looking for review ids:  92%|█████████▏| 1862/2020 [8:16:39<41:49, 15.88s/movie]"
     ]
    },
    {
     "name": "stdout",
     "output_type": "stream",
     "text": [
      "Less than 25 reviews available - skipped\n"
     ]
    },
    {
     "name": "stderr",
     "output_type": "stream",
     "text": [
      "looking for review ids:  92%|█████████▏| 1863/2020 [8:16:55<41:17, 15.78s/movie]"
     ]
    },
    {
     "name": "stdout",
     "output_type": "stream",
     "text": [
      "Less than 25 reviews available - skipped\n"
     ]
    },
    {
     "name": "stderr",
     "output_type": "stream",
     "text": [
      "looking for review ids:  92%|█████████▏| 1864/2020 [8:17:11<41:11, 15.85s/movie]"
     ]
    },
    {
     "name": "stdout",
     "output_type": "stream",
     "text": [
      "Less than 25 reviews available - skipped\n"
     ]
    },
    {
     "name": "stderr",
     "output_type": "stream",
     "text": [
      "looking for review ids:  92%|█████████▏| 1865/2020 [8:17:27<40:52, 15.83s/movie]"
     ]
    },
    {
     "name": "stdout",
     "output_type": "stream",
     "text": [
      "Less than 25 reviews available - skipped\n"
     ]
    },
    {
     "name": "stderr",
     "output_type": "stream",
     "text": [
      "looking for review ids:  92%|█████████▏| 1866/2020 [8:17:42<40:31, 15.79s/movie]"
     ]
    },
    {
     "name": "stdout",
     "output_type": "stream",
     "text": [
      "Less than 25 reviews available - skipped\n"
     ]
    },
    {
     "name": "stderr",
     "output_type": "stream",
     "text": [
      "looking for review ids:  92%|█████████▏| 1867/2020 [8:17:58<40:19, 15.81s/movie]"
     ]
    },
    {
     "name": "stdout",
     "output_type": "stream",
     "text": [
      "Less than 25 reviews available - skipped\n"
     ]
    },
    {
     "name": "stderr",
     "output_type": "stream",
     "text": [
      "looking for review ids:  92%|█████████▏| 1868/2020 [8:18:14<40:09, 15.85s/movie]"
     ]
    },
    {
     "name": "stdout",
     "output_type": "stream",
     "text": [
      "Less than 25 reviews available - skipped\n"
     ]
    },
    {
     "name": "stderr",
     "output_type": "stream",
     "text": [
      "looking for review ids:  93%|█████████▎| 1869/2020 [8:18:30<39:41, 15.77s/movie]"
     ]
    },
    {
     "name": "stdout",
     "output_type": "stream",
     "text": [
      "Less than 25 reviews available - skipped\n"
     ]
    },
    {
     "name": "stderr",
     "output_type": "stream",
     "text": [
      "looking for review ids:  93%|█████████▎| 1870/2020 [8:18:45<39:27, 15.78s/movie]"
     ]
    },
    {
     "name": "stdout",
     "output_type": "stream",
     "text": [
      "Less than 25 reviews available - skipped\n"
     ]
    },
    {
     "name": "stderr",
     "output_type": "stream",
     "text": [
      "looking for review ids:  93%|█████████▎| 1871/2020 [8:19:01<39:08, 15.76s/movie]"
     ]
    },
    {
     "name": "stdout",
     "output_type": "stream",
     "text": [
      "Less than 25 reviews available - skipped\n"
     ]
    },
    {
     "name": "stderr",
     "output_type": "stream",
     "text": [
      "looking for review ids:  93%|█████████▎| 1872/2020 [8:19:17<38:57, 15.79s/movie]"
     ]
    },
    {
     "name": "stdout",
     "output_type": "stream",
     "text": [
      "Less than 25 reviews available - skipped\n"
     ]
    },
    {
     "name": "stderr",
     "output_type": "stream",
     "text": [
      "looking for review ids:  93%|█████████▎| 1873/2020 [8:19:33<38:45, 15.82s/movie]"
     ]
    },
    {
     "name": "stdout",
     "output_type": "stream",
     "text": [
      "Less than 25 reviews available - skipped\n"
     ]
    },
    {
     "name": "stderr",
     "output_type": "stream",
     "text": [
      "looking for review ids:  93%|█████████▎| 1874/2020 [8:19:49<38:20, 15.76s/movie]"
     ]
    },
    {
     "name": "stdout",
     "output_type": "stream",
     "text": [
      "Less than 25 reviews available - skipped\n"
     ]
    },
    {
     "name": "stderr",
     "output_type": "stream",
     "text": [
      "looking for review ids:  93%|█████████▎| 1875/2020 [8:20:04<37:59, 15.72s/movie]"
     ]
    },
    {
     "name": "stdout",
     "output_type": "stream",
     "text": [
      "Less than 25 reviews available - skipped\n"
     ]
    },
    {
     "name": "stderr",
     "output_type": "stream",
     "text": [
      "looking for review ids:  93%|█████████▎| 1876/2020 [8:20:20<37:49, 15.76s/movie]"
     ]
    },
    {
     "name": "stdout",
     "output_type": "stream",
     "text": [
      "Less than 25 reviews available - skipped\n"
     ]
    },
    {
     "name": "stderr",
     "output_type": "stream",
     "text": [
      "looking for review ids:  93%|█████████▎| 1877/2020 [8:20:36<37:29, 15.73s/movie]"
     ]
    },
    {
     "name": "stdout",
     "output_type": "stream",
     "text": [
      "Less than 25 reviews available - skipped\n"
     ]
    },
    {
     "name": "stderr",
     "output_type": "stream",
     "text": [
      "looking for review ids:  93%|█████████▎| 1878/2020 [8:20:52<37:30, 15.85s/movie]"
     ]
    },
    {
     "name": "stdout",
     "output_type": "stream",
     "text": [
      "Less than 25 reviews available - skipped\n"
     ]
    },
    {
     "name": "stderr",
     "output_type": "stream",
     "text": [
      "looking for review ids:  93%|█████████▎| 1879/2020 [8:21:08<37:09, 15.81s/movie]"
     ]
    },
    {
     "name": "stdout",
     "output_type": "stream",
     "text": [
      "Less than 25 reviews available - skipped\n"
     ]
    },
    {
     "name": "stderr",
     "output_type": "stream",
     "text": [
      "looking for review ids:  93%|█████████▎| 1880/2020 [8:21:23<36:50, 15.79s/movie]"
     ]
    },
    {
     "name": "stdout",
     "output_type": "stream",
     "text": [
      "Less than 25 reviews available - skipped\n"
     ]
    },
    {
     "name": "stderr",
     "output_type": "stream",
     "text": [
      "looking for review ids:  93%|█████████▎| 1881/2020 [8:21:39<36:43, 15.85s/movie]"
     ]
    },
    {
     "name": "stdout",
     "output_type": "stream",
     "text": [
      "Less than 25 reviews available - skipped\n"
     ]
    },
    {
     "name": "stderr",
     "output_type": "stream",
     "text": [
      "looking for review ids:  93%|█████████▎| 1882/2020 [8:21:55<36:25, 15.83s/movie]"
     ]
    },
    {
     "name": "stdout",
     "output_type": "stream",
     "text": [
      "Less than 25 reviews available - skipped\n"
     ]
    },
    {
     "name": "stderr",
     "output_type": "stream",
     "text": [
      "looking for review ids:  93%|█████████▎| 1883/2020 [8:22:11<36:11, 15.85s/movie]"
     ]
    },
    {
     "name": "stdout",
     "output_type": "stream",
     "text": [
      "Less than 25 reviews available - skipped\n"
     ]
    },
    {
     "name": "stderr",
     "output_type": "stream",
     "text": [
      "looking for review ids:  93%|█████████▎| 1884/2020 [8:22:27<35:55, 15.85s/movie]"
     ]
    },
    {
     "name": "stdout",
     "output_type": "stream",
     "text": [
      "Less than 25 reviews available - skipped\n"
     ]
    },
    {
     "name": "stderr",
     "output_type": "stream",
     "text": [
      "looking for review ids:  93%|█████████▎| 1885/2020 [8:22:42<35:26, 15.75s/movie]"
     ]
    },
    {
     "name": "stdout",
     "output_type": "stream",
     "text": [
      "Less than 25 reviews available - skipped\n"
     ]
    },
    {
     "name": "stderr",
     "output_type": "stream",
     "text": [
      "looking for review ids:  93%|█████████▎| 1886/2020 [8:22:58<35:06, 15.72s/movie]"
     ]
    },
    {
     "name": "stdout",
     "output_type": "stream",
     "text": [
      "Less than 25 reviews available - skipped\n"
     ]
    },
    {
     "name": "stderr",
     "output_type": "stream",
     "text": [
      "looking for review ids:  93%|█████████▎| 1887/2020 [8:23:14<34:54, 15.75s/movie]"
     ]
    },
    {
     "name": "stdout",
     "output_type": "stream",
     "text": [
      "Less than 25 reviews available - skipped\n"
     ]
    },
    {
     "name": "stderr",
     "output_type": "stream",
     "text": [
      "looking for review ids:  93%|█████████▎| 1888/2020 [8:23:29<34:28, 15.67s/movie]"
     ]
    },
    {
     "name": "stdout",
     "output_type": "stream",
     "text": [
      "Less than 25 reviews available - skipped\n"
     ]
    },
    {
     "name": "stderr",
     "output_type": "stream",
     "text": [
      "looking for review ids:  94%|█████████▎| 1889/2020 [8:23:45<34:13, 15.68s/movie]"
     ]
    },
    {
     "name": "stdout",
     "output_type": "stream",
     "text": [
      "Less than 25 reviews available - skipped\n"
     ]
    },
    {
     "name": "stderr",
     "output_type": "stream",
     "text": [
      "looking for review ids:  94%|█████████▎| 1890/2020 [8:24:01<34:07, 15.75s/movie]"
     ]
    },
    {
     "name": "stdout",
     "output_type": "stream",
     "text": [
      "Less than 25 reviews available - skipped\n"
     ]
    },
    {
     "name": "stderr",
     "output_type": "stream",
     "text": [
      "looking for review ids:  94%|█████████▎| 1891/2020 [8:24:17<33:54, 15.77s/movie]"
     ]
    },
    {
     "name": "stdout",
     "output_type": "stream",
     "text": [
      "Less than 25 reviews available - skipped\n"
     ]
    },
    {
     "name": "stderr",
     "output_type": "stream",
     "text": [
      "looking for review ids:  94%|█████████▎| 1892/2020 [8:24:32<33:31, 15.71s/movie]"
     ]
    },
    {
     "name": "stdout",
     "output_type": "stream",
     "text": [
      "Less than 25 reviews available - skipped\n"
     ]
    },
    {
     "name": "stderr",
     "output_type": "stream",
     "text": [
      "looking for review ids:  94%|█████████▎| 1893/2020 [8:24:48<33:11, 15.68s/movie]"
     ]
    },
    {
     "name": "stdout",
     "output_type": "stream",
     "text": [
      "Less than 25 reviews available - skipped\n"
     ]
    },
    {
     "name": "stderr",
     "output_type": "stream",
     "text": [
      "looking for review ids:  94%|█████████▍| 1894/2020 [8:25:04<32:57, 15.70s/movie]"
     ]
    },
    {
     "name": "stdout",
     "output_type": "stream",
     "text": [
      "Less than 25 reviews available - skipped\n"
     ]
    },
    {
     "name": "stderr",
     "output_type": "stream",
     "text": [
      "looking for review ids:  94%|█████████▍| 1895/2020 [8:25:19<32:43, 15.71s/movie]"
     ]
    },
    {
     "name": "stdout",
     "output_type": "stream",
     "text": [
      "Less than 25 reviews available - skipped\n"
     ]
    },
    {
     "name": "stderr",
     "output_type": "stream",
     "text": [
      "looking for review ids:  94%|█████████▍| 1896/2020 [8:25:35<32:29, 15.72s/movie]"
     ]
    },
    {
     "name": "stdout",
     "output_type": "stream",
     "text": [
      "Less than 25 reviews available - skipped\n"
     ]
    },
    {
     "name": "stderr",
     "output_type": "stream",
     "text": [
      "looking for review ids:  94%|█████████▍| 1897/2020 [8:25:51<32:08, 15.68s/movie]"
     ]
    },
    {
     "name": "stdout",
     "output_type": "stream",
     "text": [
      "Less than 25 reviews available - skipped\n"
     ]
    },
    {
     "name": "stderr",
     "output_type": "stream",
     "text": [
      "looking for review ids:  94%|█████████▍| 1899/2020 [8:26:20<30:15, 15.00s/movie]"
     ]
    },
    {
     "name": "stdout",
     "output_type": "stream",
     "text": [
      "Less than 25 reviews available - skipped\n"
     ]
    },
    {
     "name": "stderr",
     "output_type": "stream",
     "text": [
      "looking for review ids:  94%|█████████▍| 1900/2020 [8:26:36<30:24, 15.21s/movie]"
     ]
    },
    {
     "name": "stdout",
     "output_type": "stream",
     "text": [
      "Less than 25 reviews available - skipped\n"
     ]
    },
    {
     "name": "stderr",
     "output_type": "stream",
     "text": [
      "looking for review ids:  94%|█████████▍| 1901/2020 [8:26:51<30:31, 15.39s/movie]"
     ]
    },
    {
     "name": "stdout",
     "output_type": "stream",
     "text": [
      "Less than 25 reviews available - skipped\n"
     ]
    },
    {
     "name": "stderr",
     "output_type": "stream",
     "text": [
      "looking for review ids:  94%|█████████▍| 1902/2020 [8:27:07<30:32, 15.53s/movie]"
     ]
    },
    {
     "name": "stdout",
     "output_type": "stream",
     "text": [
      "Less than 25 reviews available - skipped\n"
     ]
    },
    {
     "name": "stderr",
     "output_type": "stream",
     "text": [
      "looking for review ids:  94%|█████████▍| 1904/2020 [8:27:36<28:47, 14.90s/movie]"
     ]
    },
    {
     "name": "stdout",
     "output_type": "stream",
     "text": [
      "Less than 25 reviews available - skipped\n"
     ]
    },
    {
     "name": "stderr",
     "output_type": "stream",
     "text": [
      "looking for review ids:  94%|█████████▍| 1905/2020 [8:27:52<29:03, 15.16s/movie]"
     ]
    },
    {
     "name": "stdout",
     "output_type": "stream",
     "text": [
      "Less than 25 reviews available - skipped\n"
     ]
    },
    {
     "name": "stderr",
     "output_type": "stream",
     "text": [
      "looking for review ids:  94%|█████████▍| 1906/2020 [8:28:08<29:00, 15.27s/movie]"
     ]
    },
    {
     "name": "stdout",
     "output_type": "stream",
     "text": [
      "Less than 25 reviews available - skipped\n"
     ]
    },
    {
     "name": "stderr",
     "output_type": "stream",
     "text": [
      "looking for review ids:  94%|█████████▍| 1907/2020 [8:28:23<28:57, 15.37s/movie]"
     ]
    },
    {
     "name": "stdout",
     "output_type": "stream",
     "text": [
      "Less than 25 reviews available - skipped\n"
     ]
    },
    {
     "name": "stderr",
     "output_type": "stream",
     "text": [
      "looking for review ids:  94%|█████████▍| 1908/2020 [8:28:39<28:45, 15.41s/movie]"
     ]
    },
    {
     "name": "stdout",
     "output_type": "stream",
     "text": [
      "Less than 25 reviews available - skipped\n"
     ]
    },
    {
     "name": "stderr",
     "output_type": "stream",
     "text": [
      "looking for review ids:  95%|█████████▍| 1909/2020 [8:28:54<28:41, 15.51s/movie]"
     ]
    },
    {
     "name": "stdout",
     "output_type": "stream",
     "text": [
      "Less than 25 reviews available - skipped\n"
     ]
    },
    {
     "name": "stderr",
     "output_type": "stream",
     "text": [
      "looking for review ids:  95%|█████████▍| 1910/2020 [8:29:10<28:28, 15.53s/movie]"
     ]
    },
    {
     "name": "stdout",
     "output_type": "stream",
     "text": [
      "Less than 25 reviews available - skipped\n"
     ]
    },
    {
     "name": "stderr",
     "output_type": "stream",
     "text": [
      "looking for review ids:  95%|█████████▍| 1911/2020 [8:29:26<28:27, 15.66s/movie]"
     ]
    },
    {
     "name": "stdout",
     "output_type": "stream",
     "text": [
      "Less than 25 reviews available - skipped\n"
     ]
    },
    {
     "name": "stderr",
     "output_type": "stream",
     "text": [
      "looking for review ids:  95%|█████████▍| 1912/2020 [8:29:42<28:16, 15.71s/movie]"
     ]
    },
    {
     "name": "stdout",
     "output_type": "stream",
     "text": [
      "Less than 25 reviews available - skipped\n"
     ]
    },
    {
     "name": "stderr",
     "output_type": "stream",
     "text": [
      "looking for review ids:  95%|█████████▍| 1913/2020 [8:29:58<28:04, 15.74s/movie]"
     ]
    },
    {
     "name": "stdout",
     "output_type": "stream",
     "text": [
      "Less than 25 reviews available - skipped\n"
     ]
    },
    {
     "name": "stderr",
     "output_type": "stream",
     "text": [
      "looking for review ids:  95%|█████████▍| 1914/2020 [8:30:13<27:48, 15.74s/movie]"
     ]
    },
    {
     "name": "stdout",
     "output_type": "stream",
     "text": [
      "Less than 25 reviews available - skipped\n"
     ]
    },
    {
     "name": "stderr",
     "output_type": "stream",
     "text": [
      "looking for review ids:  95%|█████████▍| 1915/2020 [8:30:29<27:37, 15.79s/movie]"
     ]
    },
    {
     "name": "stdout",
     "output_type": "stream",
     "text": [
      "Less than 25 reviews available - skipped\n"
     ]
    },
    {
     "name": "stderr",
     "output_type": "stream",
     "text": [
      "looking for review ids:  95%|█████████▍| 1916/2020 [8:30:45<27:24, 15.82s/movie]"
     ]
    },
    {
     "name": "stdout",
     "output_type": "stream",
     "text": [
      "Less than 25 reviews available - skipped\n"
     ]
    },
    {
     "name": "stderr",
     "output_type": "stream",
     "text": [
      "looking for review ids:  95%|█████████▌| 1919/2020 [8:31:27<24:28, 14.54s/movie]"
     ]
    },
    {
     "name": "stdout",
     "output_type": "stream",
     "text": [
      "Less than 25 reviews available - skipped\n"
     ]
    },
    {
     "name": "stderr",
     "output_type": "stream",
     "text": [
      "looking for review ids:  95%|█████████▌| 1920/2020 [8:31:43<24:43, 14.83s/movie]"
     ]
    },
    {
     "name": "stdout",
     "output_type": "stream",
     "text": [
      "Less than 25 reviews available - skipped\n"
     ]
    },
    {
     "name": "stderr",
     "output_type": "stream",
     "text": [
      "looking for review ids:  95%|█████████▌| 1921/2020 [8:31:59<25:03, 15.19s/movie]"
     ]
    },
    {
     "name": "stdout",
     "output_type": "stream",
     "text": [
      "Less than 25 reviews available - skipped\n"
     ]
    },
    {
     "name": "stderr",
     "output_type": "stream",
     "text": [
      "looking for review ids:  95%|█████████▌| 1922/2020 [8:32:15<25:05, 15.37s/movie]"
     ]
    },
    {
     "name": "stdout",
     "output_type": "stream",
     "text": [
      "Less than 25 reviews available - skipped\n"
     ]
    },
    {
     "name": "stderr",
     "output_type": "stream",
     "text": [
      "looking for review ids:  95%|█████████▌| 1923/2020 [8:32:30<24:59, 15.46s/movie]"
     ]
    },
    {
     "name": "stdout",
     "output_type": "stream",
     "text": [
      "Less than 25 reviews available - skipped\n"
     ]
    },
    {
     "name": "stderr",
     "output_type": "stream",
     "text": [
      "looking for review ids:  95%|█████████▌| 1924/2020 [8:32:47<25:02, 15.65s/movie]"
     ]
    },
    {
     "name": "stdout",
     "output_type": "stream",
     "text": [
      "Less than 25 reviews available - skipped\n"
     ]
    },
    {
     "name": "stderr",
     "output_type": "stream",
     "text": [
      "looking for review ids:  95%|█████████▌| 1925/2020 [8:33:02<24:48, 15.67s/movie]"
     ]
    },
    {
     "name": "stdout",
     "output_type": "stream",
     "text": [
      "Less than 25 reviews available - skipped\n"
     ]
    },
    {
     "name": "stderr",
     "output_type": "stream",
     "text": [
      "looking for review ids:  95%|█████████▌| 1926/2020 [8:33:18<24:37, 15.72s/movie]"
     ]
    },
    {
     "name": "stdout",
     "output_type": "stream",
     "text": [
      "Less than 25 reviews available - skipped\n"
     ]
    },
    {
     "name": "stderr",
     "output_type": "stream",
     "text": [
      "looking for review ids:  95%|█████████▌| 1927/2020 [8:33:34<24:23, 15.73s/movie]"
     ]
    },
    {
     "name": "stdout",
     "output_type": "stream",
     "text": [
      "Less than 25 reviews available - skipped\n"
     ]
    },
    {
     "name": "stderr",
     "output_type": "stream",
     "text": [
      "looking for review ids:  95%|█████████▌| 1928/2020 [8:33:49<23:54, 15.59s/movie]"
     ]
    },
    {
     "name": "stdout",
     "output_type": "stream",
     "text": [
      "Less than 25 reviews available - skipped\n"
     ]
    },
    {
     "name": "stderr",
     "output_type": "stream",
     "text": [
      "looking for review ids:  95%|█████████▌| 1929/2020 [8:34:05<23:46, 15.67s/movie]"
     ]
    },
    {
     "name": "stdout",
     "output_type": "stream",
     "text": [
      "Less than 25 reviews available - skipped\n"
     ]
    },
    {
     "name": "stderr",
     "output_type": "stream",
     "text": [
      "looking for review ids:  96%|█████████▌| 1930/2020 [8:34:21<23:30, 15.68s/movie]"
     ]
    },
    {
     "name": "stdout",
     "output_type": "stream",
     "text": [
      "Less than 25 reviews available - skipped\n"
     ]
    },
    {
     "name": "stderr",
     "output_type": "stream",
     "text": [
      "looking for review ids:  96%|█████████▌| 1931/2020 [8:34:37<23:19, 15.73s/movie]"
     ]
    },
    {
     "name": "stdout",
     "output_type": "stream",
     "text": [
      "Less than 25 reviews available - skipped\n"
     ]
    },
    {
     "name": "stderr",
     "output_type": "stream",
     "text": [
      "looking for review ids:  96%|█████████▌| 1932/2020 [8:34:52<23:00, 15.69s/movie]"
     ]
    },
    {
     "name": "stdout",
     "output_type": "stream",
     "text": [
      "Less than 25 reviews available - skipped\n"
     ]
    },
    {
     "name": "stderr",
     "output_type": "stream",
     "text": [
      "looking for review ids:  96%|█████████▌| 1933/2020 [8:35:08<22:47, 15.71s/movie]"
     ]
    },
    {
     "name": "stdout",
     "output_type": "stream",
     "text": [
      "Less than 25 reviews available - skipped\n"
     ]
    },
    {
     "name": "stderr",
     "output_type": "stream",
     "text": [
      "looking for review ids:  96%|█████████▌| 1934/2020 [8:35:24<22:39, 15.80s/movie]"
     ]
    },
    {
     "name": "stdout",
     "output_type": "stream",
     "text": [
      "Less than 25 reviews available - skipped\n"
     ]
    },
    {
     "name": "stderr",
     "output_type": "stream",
     "text": [
      "looking for review ids:  96%|█████████▌| 1935/2020 [8:35:40<22:23, 15.80s/movie]"
     ]
    },
    {
     "name": "stdout",
     "output_type": "stream",
     "text": [
      "Less than 25 reviews available - skipped\n"
     ]
    },
    {
     "name": "stderr",
     "output_type": "stream",
     "text": [
      "looking for review ids:  96%|█████████▌| 1936/2020 [8:35:56<22:10, 15.84s/movie]"
     ]
    },
    {
     "name": "stdout",
     "output_type": "stream",
     "text": [
      "Less than 25 reviews available - skipped\n"
     ]
    },
    {
     "name": "stderr",
     "output_type": "stream",
     "text": [
      "looking for review ids:  96%|█████████▌| 1937/2020 [8:36:12<21:56, 15.86s/movie]"
     ]
    },
    {
     "name": "stdout",
     "output_type": "stream",
     "text": [
      "Less than 25 reviews available - skipped\n"
     ]
    },
    {
     "name": "stderr",
     "output_type": "stream",
     "text": [
      "looking for review ids:  96%|█████████▌| 1938/2020 [8:36:27<21:35, 15.80s/movie]"
     ]
    },
    {
     "name": "stdout",
     "output_type": "stream",
     "text": [
      "Less than 25 reviews available - skipped\n"
     ]
    },
    {
     "name": "stderr",
     "output_type": "stream",
     "text": [
      "looking for review ids:  96%|█████████▌| 1939/2020 [8:36:43<21:22, 15.83s/movie]"
     ]
    },
    {
     "name": "stdout",
     "output_type": "stream",
     "text": [
      "Less than 25 reviews available - skipped\n"
     ]
    },
    {
     "name": "stderr",
     "output_type": "stream",
     "text": [
      "looking for review ids:  96%|█████████▌| 1940/2020 [8:36:59<20:58, 15.73s/movie]"
     ]
    },
    {
     "name": "stdout",
     "output_type": "stream",
     "text": [
      "Less than 25 reviews available - skipped\n"
     ]
    },
    {
     "name": "stderr",
     "output_type": "stream",
     "text": [
      "looking for review ids:  96%|█████████▌| 1941/2020 [8:37:14<20:36, 15.65s/movie]"
     ]
    },
    {
     "name": "stdout",
     "output_type": "stream",
     "text": [
      "Less than 25 reviews available - skipped\n"
     ]
    },
    {
     "name": "stderr",
     "output_type": "stream",
     "text": [
      "looking for review ids:  96%|█████████▌| 1942/2020 [8:37:30<20:28, 15.75s/movie]"
     ]
    },
    {
     "name": "stdout",
     "output_type": "stream",
     "text": [
      "Less than 25 reviews available - skipped\n"
     ]
    },
    {
     "name": "stderr",
     "output_type": "stream",
     "text": [
      "looking for review ids:  96%|█████████▌| 1944/2020 [8:37:59<19:06, 15.08s/movie]"
     ]
    },
    {
     "name": "stdout",
     "output_type": "stream",
     "text": [
      "Less than 25 reviews available - skipped\n"
     ]
    },
    {
     "name": "stderr",
     "output_type": "stream",
     "text": [
      "looking for review ids:  96%|█████████▋| 1945/2020 [8:38:15<19:11, 15.35s/movie]"
     ]
    },
    {
     "name": "stdout",
     "output_type": "stream",
     "text": [
      "Less than 25 reviews available - skipped\n"
     ]
    },
    {
     "name": "stderr",
     "output_type": "stream",
     "text": [
      "looking for review ids:  96%|█████████▋| 1946/2020 [8:38:31<19:05, 15.47s/movie]"
     ]
    },
    {
     "name": "stdout",
     "output_type": "stream",
     "text": [
      "Less than 25 reviews available - skipped\n"
     ]
    },
    {
     "name": "stderr",
     "output_type": "stream",
     "text": [
      "looking for review ids:  96%|█████████▋| 1947/2020 [8:38:47<18:57, 15.58s/movie]"
     ]
    },
    {
     "name": "stdout",
     "output_type": "stream",
     "text": [
      "Less than 25 reviews available - skipped\n"
     ]
    },
    {
     "name": "stderr",
     "output_type": "stream",
     "text": [
      "looking for review ids:  96%|█████████▋| 1948/2020 [8:39:03<18:44, 15.62s/movie]"
     ]
    },
    {
     "name": "stdout",
     "output_type": "stream",
     "text": [
      "Less than 25 reviews available - skipped\n"
     ]
    },
    {
     "name": "stderr",
     "output_type": "stream",
     "text": [
      "looking for review ids:  96%|█████████▋| 1949/2020 [8:39:19<18:35, 15.71s/movie]"
     ]
    },
    {
     "name": "stdout",
     "output_type": "stream",
     "text": [
      "Less than 25 reviews available - skipped\n"
     ]
    },
    {
     "name": "stderr",
     "output_type": "stream",
     "text": [
      "looking for review ids:  97%|█████████▋| 1950/2020 [8:39:35<18:24, 15.78s/movie]"
     ]
    },
    {
     "name": "stdout",
     "output_type": "stream",
     "text": [
      "Less than 25 reviews available - skipped\n"
     ]
    },
    {
     "name": "stderr",
     "output_type": "stream",
     "text": [
      "looking for review ids:  97%|█████████▋| 1951/2020 [8:39:50<18:07, 15.76s/movie]"
     ]
    },
    {
     "name": "stdout",
     "output_type": "stream",
     "text": [
      "Less than 25 reviews available - skipped\n"
     ]
    },
    {
     "name": "stderr",
     "output_type": "stream",
     "text": [
      "looking for review ids:  97%|█████████▋| 1952/2020 [8:40:06<17:46, 15.68s/movie]"
     ]
    },
    {
     "name": "stdout",
     "output_type": "stream",
     "text": [
      "Less than 25 reviews available - skipped\n"
     ]
    },
    {
     "name": "stderr",
     "output_type": "stream",
     "text": [
      "looking for review ids:  97%|█████████▋| 1953/2020 [8:40:22<17:32, 15.71s/movie]"
     ]
    },
    {
     "name": "stdout",
     "output_type": "stream",
     "text": [
      "Less than 25 reviews available - skipped\n"
     ]
    },
    {
     "name": "stderr",
     "output_type": "stream",
     "text": [
      "looking for review ids:  97%|█████████▋| 1954/2020 [8:40:37<17:12, 15.64s/movie]"
     ]
    },
    {
     "name": "stdout",
     "output_type": "stream",
     "text": [
      "Less than 25 reviews available - skipped\n"
     ]
    },
    {
     "name": "stderr",
     "output_type": "stream",
     "text": [
      "looking for review ids:  97%|█████████▋| 1955/2020 [8:40:53<17:00, 15.70s/movie]"
     ]
    },
    {
     "name": "stdout",
     "output_type": "stream",
     "text": [
      "Less than 25 reviews available - skipped\n"
     ]
    },
    {
     "name": "stderr",
     "output_type": "stream",
     "text": [
      "looking for review ids:  97%|█████████▋| 1956/2020 [8:41:09<16:44, 15.70s/movie]"
     ]
    },
    {
     "name": "stdout",
     "output_type": "stream",
     "text": [
      "Less than 25 reviews available - skipped\n"
     ]
    },
    {
     "name": "stderr",
     "output_type": "stream",
     "text": [
      "looking for review ids:  97%|█████████▋| 1957/2020 [8:41:24<16:31, 15.74s/movie]"
     ]
    },
    {
     "name": "stdout",
     "output_type": "stream",
     "text": [
      "Less than 25 reviews available - skipped\n"
     ]
    },
    {
     "name": "stderr",
     "output_type": "stream",
     "text": [
      "looking for review ids:  97%|█████████▋| 1958/2020 [8:41:40<16:14, 15.72s/movie]"
     ]
    },
    {
     "name": "stdout",
     "output_type": "stream",
     "text": [
      "Less than 25 reviews available - skipped\n"
     ]
    },
    {
     "name": "stderr",
     "output_type": "stream",
     "text": [
      "looking for review ids:  97%|█████████▋| 1959/2020 [8:41:56<15:57, 15.69s/movie]"
     ]
    },
    {
     "name": "stdout",
     "output_type": "stream",
     "text": [
      "Less than 25 reviews available - skipped\n"
     ]
    },
    {
     "name": "stderr",
     "output_type": "stream",
     "text": [
      "looking for review ids:  97%|█████████▋| 1960/2020 [8:42:12<15:47, 15.79s/movie]"
     ]
    },
    {
     "name": "stdout",
     "output_type": "stream",
     "text": [
      "Less than 25 reviews available - skipped\n"
     ]
    },
    {
     "name": "stderr",
     "output_type": "stream",
     "text": [
      "looking for review ids:  97%|█████████▋| 1961/2020 [8:42:27<15:27, 15.72s/movie]"
     ]
    },
    {
     "name": "stdout",
     "output_type": "stream",
     "text": [
      "Less than 25 reviews available - skipped\n"
     ]
    },
    {
     "name": "stderr",
     "output_type": "stream",
     "text": [
      "looking for review ids:  97%|█████████▋| 1962/2020 [8:42:43<15:12, 15.74s/movie]"
     ]
    },
    {
     "name": "stdout",
     "output_type": "stream",
     "text": [
      "Less than 25 reviews available - skipped\n"
     ]
    },
    {
     "name": "stderr",
     "output_type": "stream",
     "text": [
      "looking for review ids:  97%|█████████▋| 1963/2020 [8:42:59<14:59, 15.79s/movie]"
     ]
    },
    {
     "name": "stdout",
     "output_type": "stream",
     "text": [
      "Less than 25 reviews available - skipped\n"
     ]
    },
    {
     "name": "stderr",
     "output_type": "stream",
     "text": [
      "looking for review ids:  97%|█████████▋| 1964/2020 [8:43:15<14:43, 15.77s/movie]"
     ]
    },
    {
     "name": "stdout",
     "output_type": "stream",
     "text": [
      "Less than 25 reviews available - skipped\n"
     ]
    },
    {
     "name": "stderr",
     "output_type": "stream",
     "text": [
      "looking for review ids:  97%|█████████▋| 1965/2020 [8:43:30<14:27, 15.77s/movie]"
     ]
    },
    {
     "name": "stdout",
     "output_type": "stream",
     "text": [
      "Less than 25 reviews available - skipped\n"
     ]
    },
    {
     "name": "stderr",
     "output_type": "stream",
     "text": [
      "looking for review ids:  97%|█████████▋| 1966/2020 [8:43:46<14:10, 15.75s/movie]"
     ]
    },
    {
     "name": "stdout",
     "output_type": "stream",
     "text": [
      "Less than 25 reviews available - skipped\n"
     ]
    },
    {
     "name": "stderr",
     "output_type": "stream",
     "text": [
      "looking for review ids:  97%|█████████▋| 1967/2020 [8:44:02<13:53, 15.73s/movie]"
     ]
    },
    {
     "name": "stdout",
     "output_type": "stream",
     "text": [
      "Less than 25 reviews available - skipped\n"
     ]
    },
    {
     "name": "stderr",
     "output_type": "stream",
     "text": [
      "looking for review ids:  97%|█████████▋| 1968/2020 [8:44:18<13:39, 15.77s/movie]"
     ]
    },
    {
     "name": "stdout",
     "output_type": "stream",
     "text": [
      "Less than 25 reviews available - skipped\n"
     ]
    },
    {
     "name": "stderr",
     "output_type": "stream",
     "text": [
      "looking for review ids:  97%|█████████▋| 1969/2020 [8:44:34<13:25, 15.80s/movie]"
     ]
    },
    {
     "name": "stdout",
     "output_type": "stream",
     "text": [
      "Less than 25 reviews available - skipped\n"
     ]
    },
    {
     "name": "stderr",
     "output_type": "stream",
     "text": [
      "looking for review ids:  98%|█████████▊| 1970/2020 [8:44:49<13:08, 15.77s/movie]"
     ]
    },
    {
     "name": "stdout",
     "output_type": "stream",
     "text": [
      "Less than 25 reviews available - skipped\n"
     ]
    },
    {
     "name": "stderr",
     "output_type": "stream",
     "text": [
      "looking for review ids:  98%|█████████▊| 1971/2020 [8:45:05<12:53, 15.79s/movie]"
     ]
    },
    {
     "name": "stdout",
     "output_type": "stream",
     "text": [
      "Less than 25 reviews available - skipped\n"
     ]
    },
    {
     "name": "stderr",
     "output_type": "stream",
     "text": [
      "looking for review ids:  98%|█████████▊| 1972/2020 [8:45:21<12:45, 15.96s/movie]"
     ]
    },
    {
     "name": "stdout",
     "output_type": "stream",
     "text": [
      "Less than 25 reviews available - skipped\n"
     ]
    },
    {
     "name": "stderr",
     "output_type": "stream",
     "text": [
      "looking for review ids:  98%|█████████▊| 1973/2020 [8:45:37<12:25, 15.87s/movie]"
     ]
    },
    {
     "name": "stdout",
     "output_type": "stream",
     "text": [
      "Less than 25 reviews available - skipped\n"
     ]
    },
    {
     "name": "stderr",
     "output_type": "stream",
     "text": [
      "looking for review ids:  98%|█████████▊| 1974/2020 [8:45:53<12:08, 15.84s/movie]"
     ]
    },
    {
     "name": "stdout",
     "output_type": "stream",
     "text": [
      "Less than 25 reviews available - skipped\n"
     ]
    },
    {
     "name": "stderr",
     "output_type": "stream",
     "text": [
      "looking for review ids:  98%|█████████▊| 1975/2020 [8:46:09<11:54, 15.87s/movie]"
     ]
    },
    {
     "name": "stdout",
     "output_type": "stream",
     "text": [
      "Less than 25 reviews available - skipped\n"
     ]
    },
    {
     "name": "stderr",
     "output_type": "stream",
     "text": [
      "looking for review ids:  98%|█████████▊| 1976/2020 [8:46:25<11:37, 15.86s/movie]"
     ]
    },
    {
     "name": "stdout",
     "output_type": "stream",
     "text": [
      "Less than 25 reviews available - skipped\n"
     ]
    },
    {
     "name": "stderr",
     "output_type": "stream",
     "text": [
      "looking for review ids:  98%|█████████▊| 1977/2020 [8:46:40<11:16, 15.74s/movie]"
     ]
    },
    {
     "name": "stdout",
     "output_type": "stream",
     "text": [
      "Less than 25 reviews available - skipped\n"
     ]
    },
    {
     "name": "stderr",
     "output_type": "stream",
     "text": [
      "looking for review ids:  98%|█████████▊| 1978/2020 [8:46:56<11:01, 15.75s/movie]"
     ]
    },
    {
     "name": "stdout",
     "output_type": "stream",
     "text": [
      "Less than 25 reviews available - skipped\n"
     ]
    },
    {
     "name": "stderr",
     "output_type": "stream",
     "text": [
      "looking for review ids:  98%|█████████▊| 1979/2020 [8:47:13<11:03, 16.17s/movie]"
     ]
    },
    {
     "name": "stdout",
     "output_type": "stream",
     "text": [
      "Less than 25 reviews available - skipped\n"
     ]
    },
    {
     "name": "stderr",
     "output_type": "stream",
     "text": [
      "looking for review ids:  98%|█████████▊| 1980/2020 [8:47:29<10:44, 16.11s/movie]"
     ]
    },
    {
     "name": "stdout",
     "output_type": "stream",
     "text": [
      "Less than 25 reviews available - skipped\n"
     ]
    },
    {
     "name": "stderr",
     "output_type": "stream",
     "text": [
      "looking for review ids:  98%|█████████▊| 1981/2020 [8:47:45<10:23, 15.98s/movie]"
     ]
    },
    {
     "name": "stdout",
     "output_type": "stream",
     "text": [
      "Less than 25 reviews available - skipped\n"
     ]
    },
    {
     "name": "stderr",
     "output_type": "stream",
     "text": [
      "looking for review ids:  98%|█████████▊| 1982/2020 [8:48:00<10:03, 15.88s/movie]"
     ]
    },
    {
     "name": "stdout",
     "output_type": "stream",
     "text": [
      "Less than 25 reviews available - skipped\n"
     ]
    },
    {
     "name": "stderr",
     "output_type": "stream",
     "text": [
      "looking for review ids:  98%|█████████▊| 1983/2020 [8:48:16<09:43, 15.77s/movie]"
     ]
    },
    {
     "name": "stdout",
     "output_type": "stream",
     "text": [
      "Less than 25 reviews available - skipped\n"
     ]
    },
    {
     "name": "stderr",
     "output_type": "stream",
     "text": [
      "looking for review ids:  98%|█████████▊| 1984/2020 [8:48:31<09:25, 15.70s/movie]"
     ]
    },
    {
     "name": "stdout",
     "output_type": "stream",
     "text": [
      "Less than 25 reviews available - skipped\n"
     ]
    },
    {
     "name": "stderr",
     "output_type": "stream",
     "text": [
      "looking for review ids:  98%|█████████▊| 1986/2020 [8:49:00<08:28, 14.95s/movie]"
     ]
    },
    {
     "name": "stdout",
     "output_type": "stream",
     "text": [
      "Less than 25 reviews available - skipped\n"
     ]
    },
    {
     "name": "stderr",
     "output_type": "stream",
     "text": [
      "looking for review ids:  98%|█████████▊| 1987/2020 [8:49:16<08:20, 15.16s/movie]"
     ]
    },
    {
     "name": "stdout",
     "output_type": "stream",
     "text": [
      "Less than 25 reviews available - skipped\n"
     ]
    },
    {
     "name": "stderr",
     "output_type": "stream",
     "text": [
      "looking for review ids:  98%|█████████▊| 1988/2020 [8:49:32<08:10, 15.33s/movie]"
     ]
    },
    {
     "name": "stdout",
     "output_type": "stream",
     "text": [
      "Less than 25 reviews available - skipped\n"
     ]
    },
    {
     "name": "stderr",
     "output_type": "stream",
     "text": [
      "looking for review ids:  98%|█████████▊| 1989/2020 [8:49:47<07:58, 15.44s/movie]"
     ]
    },
    {
     "name": "stdout",
     "output_type": "stream",
     "text": [
      "Less than 25 reviews available - skipped\n"
     ]
    },
    {
     "name": "stderr",
     "output_type": "stream",
     "text": [
      "looking for review ids:  99%|█████████▊| 1991/2020 [8:50:17<07:11, 14.90s/movie]"
     ]
    },
    {
     "name": "stdout",
     "output_type": "stream",
     "text": [
      "Less than 25 reviews available - skipped\n"
     ]
    },
    {
     "name": "stderr",
     "output_type": "stream",
     "text": [
      "looking for review ids:  99%|█████████▊| 1992/2020 [8:50:32<07:05, 15.19s/movie]"
     ]
    },
    {
     "name": "stdout",
     "output_type": "stream",
     "text": [
      "Less than 25 reviews available - skipped\n"
     ]
    },
    {
     "name": "stderr",
     "output_type": "stream",
     "text": [
      "looking for review ids:  99%|█████████▊| 1993/2020 [8:50:48<06:53, 15.31s/movie]"
     ]
    },
    {
     "name": "stdout",
     "output_type": "stream",
     "text": [
      "Less than 25 reviews available - skipped\n"
     ]
    },
    {
     "name": "stderr",
     "output_type": "stream",
     "text": [
      "looking for review ids:  99%|█████████▊| 1994/2020 [8:51:04<06:41, 15.46s/movie]"
     ]
    },
    {
     "name": "stdout",
     "output_type": "stream",
     "text": [
      "Less than 25 reviews available - skipped\n"
     ]
    },
    {
     "name": "stderr",
     "output_type": "stream",
     "text": [
      "looking for review ids:  99%|█████████▉| 1995/2020 [8:51:20<06:28, 15.54s/movie]"
     ]
    },
    {
     "name": "stdout",
     "output_type": "stream",
     "text": [
      "Less than 25 reviews available - skipped\n"
     ]
    },
    {
     "name": "stderr",
     "output_type": "stream",
     "text": [
      "looking for review ids:  99%|█████████▉| 1996/2020 [8:51:35<06:14, 15.61s/movie]"
     ]
    },
    {
     "name": "stdout",
     "output_type": "stream",
     "text": [
      "Less than 25 reviews available - skipped\n"
     ]
    },
    {
     "name": "stderr",
     "output_type": "stream",
     "text": [
      "looking for review ids:  99%|█████████▉| 1997/2020 [8:51:51<05:59, 15.64s/movie]"
     ]
    },
    {
     "name": "stdout",
     "output_type": "stream",
     "text": [
      "Less than 25 reviews available - skipped\n"
     ]
    },
    {
     "name": "stderr",
     "output_type": "stream",
     "text": [
      "looking for review ids:  99%|█████████▉| 1998/2020 [8:52:07<05:44, 15.66s/movie]"
     ]
    },
    {
     "name": "stdout",
     "output_type": "stream",
     "text": [
      "Less than 25 reviews available - skipped\n"
     ]
    },
    {
     "name": "stderr",
     "output_type": "stream",
     "text": [
      "looking for review ids:  99%|█████████▉| 1999/2020 [8:52:22<05:29, 15.67s/movie]"
     ]
    },
    {
     "name": "stdout",
     "output_type": "stream",
     "text": [
      "Less than 25 reviews available - skipped\n"
     ]
    },
    {
     "name": "stderr",
     "output_type": "stream",
     "text": [
      "looking for review ids:  99%|█████████▉| 2000/2020 [8:52:38<05:14, 15.70s/movie]"
     ]
    },
    {
     "name": "stdout",
     "output_type": "stream",
     "text": [
      "Less than 25 reviews available - skipped\n"
     ]
    },
    {
     "name": "stderr",
     "output_type": "stream",
     "text": [
      "looking for review ids:  99%|█████████▉| 2001/2020 [8:52:54<04:57, 15.66s/movie]"
     ]
    },
    {
     "name": "stdout",
     "output_type": "stream",
     "text": [
      "Less than 25 reviews available - skipped\n"
     ]
    },
    {
     "name": "stderr",
     "output_type": "stream",
     "text": [
      "looking for review ids:  99%|█████████▉| 2002/2020 [8:53:09<04:40, 15.61s/movie]"
     ]
    },
    {
     "name": "stdout",
     "output_type": "stream",
     "text": [
      "Less than 25 reviews available - skipped\n"
     ]
    },
    {
     "name": "stderr",
     "output_type": "stream",
     "text": [
      "looking for review ids:  99%|█████████▉| 2003/2020 [8:53:25<04:25, 15.64s/movie]"
     ]
    },
    {
     "name": "stdout",
     "output_type": "stream",
     "text": [
      "Less than 25 reviews available - skipped\n"
     ]
    },
    {
     "name": "stderr",
     "output_type": "stream",
     "text": [
      "looking for review ids:  99%|█████████▉| 2004/2020 [8:53:41<04:13, 15.82s/movie]"
     ]
    },
    {
     "name": "stdout",
     "output_type": "stream",
     "text": [
      "Less than 25 reviews available - skipped\n"
     ]
    },
    {
     "name": "stderr",
     "output_type": "stream",
     "text": [
      "looking for review ids:  99%|█████████▉| 2005/2020 [8:53:57<03:56, 15.79s/movie]"
     ]
    },
    {
     "name": "stdout",
     "output_type": "stream",
     "text": [
      "Less than 25 reviews available - skipped\n"
     ]
    },
    {
     "name": "stderr",
     "output_type": "stream",
     "text": [
      "looking for review ids:  99%|█████████▉| 2006/2020 [8:54:13<03:43, 15.99s/movie]"
     ]
    },
    {
     "name": "stdout",
     "output_type": "stream",
     "text": [
      "Less than 25 reviews available - skipped\n"
     ]
    },
    {
     "name": "stderr",
     "output_type": "stream",
     "text": [
      "looking for review ids:  99%|█████████▉| 2007/2020 [8:54:29<03:28, 16.01s/movie]"
     ]
    },
    {
     "name": "stdout",
     "output_type": "stream",
     "text": [
      "Less than 25 reviews available - skipped\n"
     ]
    },
    {
     "name": "stderr",
     "output_type": "stream",
     "text": [
      "looking for review ids:  99%|█████████▉| 2008/2020 [8:54:45<03:10, 15.90s/movie]"
     ]
    },
    {
     "name": "stdout",
     "output_type": "stream",
     "text": [
      "Less than 25 reviews available - skipped\n"
     ]
    },
    {
     "name": "stderr",
     "output_type": "stream",
     "text": [
      "looking for review ids:  99%|█████████▉| 2009/2020 [8:55:01<02:54, 15.87s/movie]"
     ]
    },
    {
     "name": "stdout",
     "output_type": "stream",
     "text": [
      "Less than 25 reviews available - skipped\n"
     ]
    },
    {
     "name": "stderr",
     "output_type": "stream",
     "text": [
      "looking for review ids: 100%|█████████▉| 2010/2020 [8:55:17<02:38, 15.82s/movie]"
     ]
    },
    {
     "name": "stdout",
     "output_type": "stream",
     "text": [
      "Less than 25 reviews available - skipped\n"
     ]
    },
    {
     "name": "stderr",
     "output_type": "stream",
     "text": [
      "looking for review ids: 100%|█████████▉| 2011/2020 [8:55:32<02:21, 15.72s/movie]"
     ]
    },
    {
     "name": "stdout",
     "output_type": "stream",
     "text": [
      "Less than 25 reviews available - skipped\n"
     ]
    },
    {
     "name": "stderr",
     "output_type": "stream",
     "text": [
      "looking for review ids: 100%|█████████▉| 2012/2020 [8:55:48<02:05, 15.67s/movie]"
     ]
    },
    {
     "name": "stdout",
     "output_type": "stream",
     "text": [
      "Less than 25 reviews available - skipped\n"
     ]
    },
    {
     "name": "stderr",
     "output_type": "stream",
     "text": [
      "looking for review ids: 100%|█████████▉| 2013/2020 [8:56:04<01:50, 15.74s/movie]"
     ]
    },
    {
     "name": "stdout",
     "output_type": "stream",
     "text": [
      "Less than 25 reviews available - skipped\n"
     ]
    },
    {
     "name": "stderr",
     "output_type": "stream",
     "text": [
      "looking for review ids: 100%|█████████▉| 2014/2020 [8:56:19<01:34, 15.78s/movie]"
     ]
    },
    {
     "name": "stdout",
     "output_type": "stream",
     "text": [
      "Less than 25 reviews available - skipped\n"
     ]
    },
    {
     "name": "stderr",
     "output_type": "stream",
     "text": [
      "looking for review ids: 100%|█████████▉| 2016/2020 [8:56:49<01:00, 15.04s/movie]"
     ]
    },
    {
     "name": "stdout",
     "output_type": "stream",
     "text": [
      "Less than 25 reviews available - skipped\n"
     ]
    },
    {
     "name": "stderr",
     "output_type": "stream",
     "text": [
      "looking for review ids: 100%|█████████▉| 2017/2020 [8:57:05<00:45, 15.30s/movie]"
     ]
    },
    {
     "name": "stdout",
     "output_type": "stream",
     "text": [
      "Less than 25 reviews available - skipped\n"
     ]
    },
    {
     "name": "stderr",
     "output_type": "stream",
     "text": [
      "looking for review ids: 100%|█████████▉| 2019/2020 [8:57:34<00:14, 14.82s/movie]"
     ]
    },
    {
     "name": "stdout",
     "output_type": "stream",
     "text": [
      "Less than 25 reviews available - skipped\n"
     ]
    },
    {
     "name": "stderr",
     "output_type": "stream",
     "text": [
      "looking for review ids: 100%|██████████| 2020/2020 [8:57:49<00:00, 15.98s/movie]\n"
     ]
    }
   ],
   "source": [
    "from tqdm import tqdm\n",
    "\n",
    "# filter for movie ids \n",
    "western_only_movieids = list(western_dataset['MovieID'])\n",
    "#remove the double t at the beginning of the string\n",
    "western_only_movieIDS = [s[2:] for s in western_only_movieids]\n",
    "\n",
    "# create a set for discarded movie ids and a dictionary for valid ones\n",
    "discarded_western_ids = set()\n",
    "valid_western_review_ids = dict()\n",
    "\n",
    "for western_ID in tqdm(western_only_movieIDS, desc='looking for review ids', unit='movie'):\n",
    "    temp = retriever.get_reviews_ids_from_movie_id(western_ID)\n",
    "    if(not temp):   #if it is none\n",
    "        discarded_western_ids.add(western_ID)\n",
    "    else:           #if it is NOT none\n",
    "        valid_western_review_ids[western_ID] = temp"
   ]
  },
  {
   "cell_type": "markdown",
   "metadata": {},
   "source": [
    "Create a final western database with only selected movies"
   ]
  },
  {
   "cell_type": "code",
   "execution_count": 25,
   "metadata": {},
   "outputs": [],
   "source": [
    "check_western_ids = ['tt' + movie_id for movie_id in valid_western_review_ids.keys()]\n",
    "\n",
    "final_western_movies_dataset = western_dataset[western_dataset['MovieID'].isin(check_western_ids)]\n"
   ]
  },
  {
   "cell_type": "markdown",
   "metadata": {},
   "source": [
    "Save everything for later use"
   ]
  },
  {
   "cell_type": "code",
   "execution_count": 45,
   "metadata": {},
   "outputs": [
    {
     "name": "stdout",
     "output_type": "stream",
     "text": [
      "Data stored in: C:/Users/aless/Desktop/DNLP_Project/western_stuff.pkl\n"
     ]
    }
   ],
   "source": [
    "import pickle\n",
    "\n",
    "# File path\n",
    "file_path = \"C:/Users/aless/Desktop/DNLP_Project/western_stuff.pkl\"\n",
    "\n",
    "# Save data\n",
    "with open(file_path, \"wb\") as file:\n",
    "    pickle.dump((discarded_western_ids, valid_western_review_ids, final_western_movies_dataset), file)\n",
    "\n",
    "print(f\"Data stored in: {file_path}\")\n"
   ]
  },
  {
   "cell_type": "markdown",
   "metadata": {},
   "source": [
    "If necessary, import data back into the workflow (useful to skip any calculation from the previous tabs)"
   ]
  },
  {
   "cell_type": "code",
   "execution_count": 51,
   "metadata": {},
   "outputs": [
    {
     "name": "stdout",
     "output_type": "stream",
     "text": [
      "Data uploaded!\n",
      "discarded_western_ids: {'0057464', '0027874', '0041907', '0017962', '0062645', '0046347', '6686006', '18257242', '0026392', '0033351', '0191833', '0034990', '0042315', '0037279', '0020672', '0040796', '0067011', '0028412', '0022291', '0035132', '0041405', '0052868', '0059536', '0046361', '0042825', '0037422', '0013906', '0031164', '0032972', '0059695', '0045653', '0022314', '0041997', '0035783', '0232307', '0064226', '0042827', '0010703', '0029486', '0032858', '0194837', '0030870', '0306903', '0037052', '0046317', '0064869', '0048358', '0037030', '0026836', '0028072', '0024883', '0018080', '0009696', '0034390', '0061574', '0036669', '0193957', '0044919', '0039978', '0048584', '0062107', '0042927', '0026273', '0040659', '0043958', '0031137', '0027289', '0041439', '0063439', '0031479', '0034468', '0020079', '0048665', '0041264', '0023682', '0049235', '0032984', '0025893', '0180313', '0032694', '0026112', '0079567', '0039260', '1152835', '0181611', '0058151', '0065026', '0027873', '0032912', '0020681', '0022233', '0045925', '0009811', '0039082', '0008623', '0049954', '0015639', '0032514', '0036242', '0065155', '0038294', '0027712', '0047011', '0038555', '10618968', '0042995', '0037703', '0173114', '0038185', '0010628', '0029468', '0061571', '0024444', '0017316', '0023912', '0041282', '0050420', '0031764', '0020662', '0040921', '0023604', '0029288', '0039157', '0058188', '0027165', '0026838', '0026475', '0043423', '0038422', '0022702', '0049135', '0044681', '0052869', '0048310', '0026157', '0023144', '0269408', '0068393', '0045766', '0022880', '0038846', '0050285', '0044045', '0022480', '0030382', '0046202', '0024077', '0040684', '0043348', '0031347', '0141994', '0047414', '28015371', '0029976', '0059804', '10622840', '0021308', '0033425', '0128843', '0043729', '0040903', '0028760', '0062182', '0042761', '4386364', '0041915', '0011968', '0044118', '22813848', '0043554', '0026272', '0017692', '0045637', '7468604', '0040385', '1310362', '10643156', '0028614', '0025370', '0027956', '0029572', '0038856', '0038113', '0047583', '0060641', '0473191', '0036689', '0039678', '0031776', '0046804', '0045238', '0022848', '0035862', '0049487', '0020502', '0024722', '0037004', '0014639', '0029259', '0068234', '0042964', '0148539', '0025614', '0171038', '0051046', '0063095', '0022673', '0023419', '0036075', '0020723', '0025061', '0045684', '0048097', '0034542', '0018243', '0021306', '0026127', '0026567', '0033819', '0162292', '0037728', '0052401', '0051619', '0034995', '0035717', '0027044', '0044087', '0052681', '0026407', '0021152', '0038895', '0357580', '6233592', '0035207', '0022316', '0021630', '0038168', '0026720', '0009153', '0021643', '0033143', '0043408', '0163171', '0128838', '0024256', '0044490', '0048115', '0041186', '0339436', '0040082', '0046346', '0029126', '0026612', '0042963', '0042532', '0038874', '0030756', '0133177', '0039849', '0054296', '0049017', '0022514', '0157361', '0042273', '0043544', '0065638', '0038507', '0034114', '0047389', '0038981', '0060564', '0038877', '0039764', '0039891', '0028311', '0034909', '0026790', '0011906', '0039019', '0038623', '0027868', '0049016', '0050840', '0122072', '0025891', '0043911', '0045218', '0132900', '0050338', '0072327', '0032006', '15690934', '0026959', '0042339', '0061981', '0028971', '26956494', '0030959', '7493824', '0033160', '0039270', '0041685', '0065759', '0023908', '0032014', '0028830', '11050682', '0049540', '0034638', '0039108', '0049851', '0033395', '25429332', '0050970', '0061593', '0032037', '0024299', '0021940', '0061576', '0043062', '0048619', '0039533', '0032973', '0034967', '0033368', '0028134', '0114727', '0040245', '0029004', '0034996', '0047488', '0028967', '0053026', '0097720', '0166777', '0037965', '0057283', '0006375', '0037165', '0027085', '0027206', '0057257', '0037949', '0023120', '0035680', '0050899', '0063440', '0133265', '0168239', '1361857', '0026253', '1623660', '0015453', '0030636', '0024218', '0045573', '0024558', '0133179', '0030548', '0041832', '0041237', '0021597', '0044052', '0028199', '0051522', '0023566', '0036647', '0045847', '0047320', '0012754', '0044537', '0042328', '0036322', '0026997', '0044369', '0031630', '0022932', '0042556', '0053145', '0030051', '0009137', '0029768', '0445963', '8676846', '0022927', '7802198', '0037880', '0030350', '0023693', '0031957', '0038237', '0031419', '5669410', '0031773', '0028802', '0039511', '0041205', '0026999', '0251905', '0021930', '0028099', '0023124', '0068222', '0042667', '0032232', '0203105', '11613450', '0070268', '0063813', '0215321', '0026602', '0043817', '0033276', '0003724', '0027058', '0025719', '0057891', '0038971', '0041783', '0034183', '6821206', '0028162', '0037628', '0870196', '0023866', '0032707', '0027322', '0048558', '0057446', '0031847', '0018233', '0023344', '0040008', '0020882', '7626082', '0037608', '0035182', '0028914', '0035676', '0055811', '0041643', '0046722', '0042967', '0036132', '0040929', '0051846', '0043392', '11833670', '0047323', '0042224', '0065248', '0045077', '0039259', '0046178', '0038393', '0041280', '0017112', '0041152', '0040380', '0050196', '0059778', '0028101', '0024029', '0066050', '0210814', '0059701', '0033386', '0034469', '0023255', '0019270', '0039578', '0036292', '0009859', '0066865', '0051461', '1980134', '0068434', '0034969', '0041807', '0020884', '0044210', '0020955', '0021861', '0041810', '0244384', '0059716', '0055951', '0026052', '0038884', '0039261', '0028188', '0027128', '0023477', '0028645', '0037176', '0037243', '0345631', '0337972', '0042426', '0003630', '0063548', '0051482', '0034403', '0021046', '0051149', '0028550', '0029122', '0037882', '0022886', '0144626', '0022988', '0023191', '0034494', '0178352', '0020816', '0045176', '0299641', '0054834', '0038558', '0122071', '0046783', '0188483', '0042552', '0027393', '0034166', '11348558', '0022159', '0024026', '0060777', '0040383', '0035501', '0023621', '0012194', '0052807', '0049897', '0033988', '0067354', '0486020', '0034105', '0007453', '0028284', '0044196', '0049286', '0027153', '0028183', '0029505', '0017504', '0021202', '0150180', '0050325', '0024767', '7339930', '0022195', '0059663', '0063008', '0048557', '0031586', '0032423', '0043906', '0022450', '0388167', '0038907', '0059038', '0031772', '0194102', '0023921', '0065550', '0378735', '6361832', '0030137', '0055985', '0030209', '0052312', '0038878', '0041223', '0027182', '0048814', '0023564', '0023388', '0190081', '0044795', '0292398', '0030978', '0129202', '0031838', '0035787', '0042886', '0037757', '0015903', '0033995', '0028784', '0042448', '0031958', '0036290', '0035788', '0050625', '0034404', '0183803', '0037599', '0065373', '0061175', '0023703', '0046782', '0032292', '0043441', '0040837', '0044129', '4660276', '0028213', '0156960', '0039553', '0037210', '0040007', '0032341', '0056914', '0041308', '0038181', '0238486', '0052819', '0043874', '0040074', '0030961', '0036300', '0062621', '0036016', '0021916', '0042587', '0016430', '0044179', '0035730', '5872270', '0035707', '0027610', '0790703', '0022413', '0051179', '14940240', '0035282', '0039048', '0023186', '0046122', '1339123', '0035700', '0046492', '0050467', '0068423', '0030688', '0042299', '0032055', '0042390', '0028218', '0039213', '0125701', '0058612', '0043471', '0038319', '0033524', '0038397', '0040278', '0070369', '0053236', '0911019', '21034958', '0035397', '0027015', '0041578', '0113630', '0069943', '0027218', '0061776', '0018393', '0028927', '0047137', '0022052', '0041766', '0016238', '0028583', '0026931', '0039959', '0066240', '0042602', '0058717', '0028182', '0070781', '0490878', '0026396', '0008551', '0032060', '0025143', '0043579', '0041453', '2908444', '0038078', '0058475', '0038527', '0023201', '0049663', '0064698', '0037454', '0027255', '0014248', '0040696', '0027433', '0042483', '0027682', '0042535', '0038254', '0039380', '0202572', '2418150', '0017062', '0027737', '0019582', '0030750', '0032870', '4985906', '0028865', '0035316', '0049051', '0062666', '0059385', '0045991', '0019954', '0043555', '0017637', '0038764', '0058186', '0181613', '8290068', '0033262', '0026247', '0012818', '0043853', '0045785', '0022934', '13544488', '0037986', '0045304', '0040571', '0036664', '0042288', '0024911', '0042601', '0061995', '0037464', '23469212', '0049974', '0060589', '0040167', '0031304', '0047836', '0038556', '0032696', '0039612', '0039134', '0038909', '0037673', '0044452', '0024511', '0056484', '0039934', '0066930', '0036750', '0043069', '0016461', '0021726', '0054126', '0068838', '0045621', '0021502', '0033784', '0022299', '0037010', '0030850', '0036827', '0047129', '0020682', '0036847', '0023568', '0036779', '0060117', '0058286', '0019879', '0035786', '0028400', '0028466', '0031478', '0032592', '0219588', '0046230', '0026886', '0046239', '0060351', '0043064', '0027801', '0062064', '0033887', '0045632', '0015389', '0042782', '0040191', '0038892', '0050215', '26955708', '0028666', '0903131', '0032184', '0044698', '0020991', '0018617', '0035760', '0025978', '0034120', '0033189', '0049950', '0039855', '0050466', '0042638', '0038941', '0044920', '0021751', '0030893', '0022674', '0269460', '0014707', '0041393', '0022024', '0166512', '0059647', '0062389', '0032674', '0022449', '0026791', '0035693', '0071745', '0049285', '0052941', '0048311', '0028969', '0041642', '0132279', '0076601', '0040956', '8347414', '0028208', '0051639', '0035678', '0023570', '0092566', '0067462', '0059932', '0064275', '0058976', '0178986', '0044639', '0022060', '0025545', '0022928', '0027308', '0045107', '0043003', '0021982', '0043987', '0021795', '0033478', '0030006', '0034124', '0021139', '0132463', '0032965', '0048734', '0025904', '0021683', '0031639', '0158513', '0008060', '0033020', '2175016', '0025041', '0035647', '0029979', '0037006', '0079094', '0029892', '0039708', '0022774', '0031557', '0051394', '0047188', '0062211', '5679402', '0013284', '0041289', '0014539', '0070584', '0034320', '0049515', '0043389', '0046156', '12364630', '0040277', '0025954', '7605084', '0132973', '0033391', '0028657', '0041917', '0050822', '0026445', '0034315', '0038495', '0044722', '0040470', '0265646', '0044540', '0014845', '0023121', '0037627', '0040201', '0099315', '0025269', '0041868', '0021303', '0053899', '0086260', '18560250', '0034270', '0022379', '0028026', '0027514', '0046905', '1078917', '0033104', '0037902', '0021997', '0027513', '0176564', '0037142', '0024690', '4280540', '0038101', '11001074', '9064150', '0036663', '6866062', '0026650', '0050963', '0042061', '14763996', '0033369', '0035655', '7975808', '0022999', '0037460', '0027842', '0051691', '0036523', '0034866', '0044116', '0067034', '0076304', '0032902', '0039057', '0388557', '0029766', '0032386', '0061487', '0061652', '0038548', '0033142', '0078799', '0033683', '0038771', '0037375', '0036543', '0038467', '0180098', '0036509', '0049791', '0014582', '0026857', '0037309', '0121266', '0049604', '0041210', '27755920', '2300212', '0062736', '0032732', '1498567', '0035457', '0042349', '0043891', '0043149', '0051901', '0023539', '0025006', '0038838', '0044921', '0053445', '0041789', '0044368', '0032913', '0039548', '0016052', '0166816', '0065499', '19177354', '0043335', '0030270', '0126263', '0042822', '0181566', '15670454', '0158524', '26954444', '0043641', '0044036', '0035780', '0020709', '0027139', '0032223', '0132039', '0047517', '0037398', '0064818', '0037425', '0063853', '0023005', '0031528', '0029334', '0038375', '0031833', '0040356', '0033619', '0032178', '0044991', '0023035', '0050485', '0024082', '0041816', '0038818', '0028448', '0040171', '0037018', '0005200', '0059826', '0029125', '0024942', '0027382', '0058322', '0022182', '0175840', '4121152', '0029011', '0051627', '0032253', '0046095', '0022512', '0031864', '0057247', '0034083', '0050510', '0179809', '0036312', '0068358', '0042337', '0035683', '0050159', '0029485', '0023401', '0041400', '0050343', '0038472', '0050874', '0060238', '0085149', '0033996', '0040738', '0027511', '0040286', '0057848', '0070872', '0051897', '0062948', '0038681', '0026114', '0037779', '0042823', '0068250', '0043992', '0034195', '0052103', '0037270', '0018312', '0028647', '0029493', '0056570', '0031861', '0016676', '0047686', '0182476', '7158374', '0021789', '22868094', '0008271', '0016374', '0180703', '1879078', '0127329', '0020774', '0033390', '0028506', '0040154', '0044965', '0039034', '0019474', '0032750', '0030686', '0050265', '0051012', '0048612', '0041265', '0039910', '0036844', '0004766', '1578709', '0038321', '0026244', '0043608', '0040851', '0043600', '0019077', '0054458', '0127207', '0047322', '0034676', '0033099', '0049216', '0050893', '0062139', '0063761', '0131072', '10452224', '0050812', '0008022', '0036889', '0064150', '0062350', '0055343', '0058988', '0060563', '0033960', '0060537', '0047837', '0021248', '0022473', '0049031', '0279060', '0033427', '0010629', '0039622', '0046445', '0985049', '0037481', '0030160', '0057888', '0076932', '0040691', '6167392', '0054878', '0027588', '0023304', '0026243', '0029489', '0277637', '0057662', '0044037', '0029338', '0031880', '0051106', '0027706', '0022884', '0045253', '0042885', '0054951', '0038085', '0056043', '0023970', '9135272', '0031052', '0041577', '0050471', '0046516', '0028650', '0060970', '0048666', '0026940', '0037218', '0061144', '0037011', '0034057', '0067135', '4892706', '0021896', '0039419', '0022705', '0022555', '0046556', '0042425', '0012102', '0135805', '11902980', '0042335', '0132909', '0043657', '0044208', '0044519', '0027647', '0027127', '0033235', '0027084', '0045645', '0032923', '0031301', '0036859', '0062652', '0052393', '0030208', '0062114', '0029570', '0037999', '29468600', '0038136', '0028712', '0059337', '0041153', '0039367', '0032706', '0065646', '0052132', '0066496', '0030972', '0022287', '14577172', '0036079', '1714176', '0169846', '0033847', '0036918', '0022773', '0094811', '0047411', '0053884', '0034030', '0032332', '0033559', '2197881', '0050496', '0035254', '0059950', '0030805', '0038637', '0045845', '0037271', '5901672', '0068293', '0032330', '0033392', '0062989', '0033810', '0178864', '0028402', '0266394', '0021748', '0023399', '0028192', '0035744', '0026555', '4813116', '0059863', '0034106', '0041845', '0036468', '0032346', '0050827', '0061783', '0049970', '0056896', '0046140', '17008858', '0043557', '0165990', '0026082', '0038996', '0035874', '0036666', '0169253', '0048600', '0054142', '0047844', '0037704', '0029778', '0045249', '0031306', '0198726', '0026541', '0059530', '0053902', '0032779', '0014741', '0043753', '0032312', '0032336', '0026785', '0034371', '0040469', '0060874', '0025700', '0028870', '0021693', '0018571', '0012191', '0021084', '0042482', '0067325', '0036065', '0132990', '0048351', '0036725', '0058575', '0066331', '0048460', '0037009', '2755338', '0015180', '0132157', '0045924', '0044824', '0023502', '0007755', '0196886', '0045281', '9464000', '0050895', '0083602', '0060842', '21269818', '0039470', '0069725', '0026241', '0035804', '0060320', '0042595', '0058198', '0042882', '0047685', '0068723', '0038567', '0111009', '0019505', '0044455', '0031168', '0032387', '0059760', '0035507', '0009544', '0060821', '0025544', '0038457', '0054909', '0045540', '0033179', '0049668', '0073202', '0022992', '0044471', '0022294', '0056413', '0040653', '0038930', '0029915', '0049849', '0050565', '0046800', '0022192', '0047164', '21340016', '0028522', '2900182', '0036707', '0074176', '0026080', '0065422', '0180243', '0027728', '0059737', '0045305', '6266992', '0049384', '0035166', '0045829', '0021249', '0021617', '0026935', '0158267', '0050481', '0063500', '0061458', '0029484', '0020921', '0054138', '0049351', '0012843', '0022909', '0034324', '0029367', '0035965', '0028326', '0066346', '0029687', '0031889', '0034187', '0028195', '0027377', '0027180', '0058121', '0028491', '0044399', '0023321', '0167935', '0179533', '0192748', '0027199', '23647954', '13374182', '2385255', '0039145', '0032989', '0036888', '0180105', '4319430', '0035265', '0032885', '0067931', '0029568', '0032939', '0044425', '0051420', '0017399', '13051664', '0036232', '0046275', '0028324', '0029109', '0030889', '0048139', '6361854', '0042892', '0043007', '0017802', '0184321', '0028711', '0039933', '0053461', '0029147', '0163238', '0028604', '0058633', '0027120', '0027551', '0051590', '0045986', '0018038', '0023885', '0057497', '0811091', '0023183', '0044124', '0024047', '0035905', '0026354', '0046469', '0010119', '0028407', '0011771', '0016534', '0024630', '0044710', '0005082', '0039473', '0059625', '0065049', '0034391', '0039210', '0031748', '0016776', '0049121', '0040276', '0059924', '0048726', '0039817', '0042370', '0027036', '14707412', '8119788', '0132461', '0037050', '0051145', '0060853', '0114122', '0058618', '0080065', '0037082', '0034102', '0043377', '0039988', '0040957', '0049283', '0021694', '0024267', '0040256', '0056695', '0012920', '0037161', '0006753', '0037470', '0078060', '0061738', '0068184', '0048690', '0009580', '0037719', '0037207', '0019309', '0040339', '0034133', '0049029', '0038021', '11110938', '0043391', '0065784', '0044872', '0039780', '0024766', '0166129', '0031618', '0049485', '0021863', '0033098', '0027369', '0026355', '0059532', '0439314', '0059824', '0044213', '0029123', '0066167', '0040644', '0047626', '0040169', '0036842', '0009690', '0028197', '0148086', '0050465', '0022801', '0046426', '0203825', '0034677', '0031023', '0034142', '0043779', '0037304', '0053209', '0126328', '0037590', '0017309', '0045119', '0030366', '0027905', '0040790', '0030581', '0023370', '0304950', '0003657', '0042244', '0030970', '0016659', '0015745', '16513514', '0028382', '0040565', '0134959', '0043445', '1773432', '0040654', '0020700', '0158502', '0030269', '0033370', '0025729', '0026615', '0071883', '0059618', '0049245', '0048745', '0044678', '0018698', '0059278', '0061057', '0027870', '0031348', '0064227', '0033842', '6078138', '0052971', '0040077', '0122649', '0032563', '0026673', '0067643', '0007811', '0005871', '0176832', '0028970', '0042956', '0024301', '0040787', '0039863', '0045067', '0033785', '0025073', '0069962', '0021410', '0044444', '0030354', '0011393', '0044630', '0202648', '0057121', '0022562', '0031224', '0035973', '0038869', '0038979', '0029917', '0028251', '0155732', '0031365', '0044694', '0034269', '0029498', '0131982', '0056915', '0040793', '0029354', '0043875', '0037961', '0064339', '0027981', '0034096', '0070721', '0060191', '0037206', '0040282', '0038868', '0044068', '0066868', '0025962', '0039387', '0027917', '0035450', '0010438', '0018199', '0054899', '0026349', '0046141', '0036118', '0064853', '0047210', '0009494', '0036360', '0034392', '0021862', '0042891', '0032364', '0065997', '0046047', '0033753', '0041723', '0050624', '0026130', '0026456', '0041220', '0017210', '0024010', '0028508', '0043462', '4721504', '0038887', '0037721', '0062198', '0037433', '0010201', '2292180', '0049806', '0027789', '0040850', '0059651', '0027434', '0050750', '0024012', '0027104', '0028106', '0042230', '0023934', '0028393', '0020999', '0039958', '0027834', '0060690', '0063746', '0063691', '0027167', '0033254', '0017477', '0037525', '0038340', '0038532', '0137193', '0840789', '0163174', '0040964', '0042611', '0046755', '0034640', '0043747', '0015643', '0025706', '0053175', '0165688', '0016368', '0240045', '0183485', '0026952', '0039052', '21803300', '0023565', '0038552', '0065968', '0060296', '0069688', '0027436', '0049755', '0028283', '0038106', '0050838', '0041211', '0041332', '0008571', '0022581', '0051688', '19063544', '0179868', '0039995', '0049126', '0050797', '0046302', '0051876', '0016351', '0036394', '0034338', '0051591', '0035639', '7790254', '0024629', '0039979', '0007942', '0062659', '0048288', '0045227', '0063233', '0026254', '0833419', '0026929', '0030757', '0033352', '0024595', '0034100', '0045004', '0041147', '0011756', '0039271', '0038686', '0037901', '0033441', '0181784', '0031349', '0033375', '0029959', '0050879', '8908288', '0023692', '0037237', '0029005', '0018204', '0052196', '0027851', '0069205', '0008783', '0042970', '0148703', '0061169', '0037697', '0049666', '0048090', '2182390', '0177770', '0047163', '0058917', '0068194', '0041362', '0043257', '0183335', '0039559', '0171839', '0210076', '10675042', '0030669', '0023496', '0039901', '0028404', '0463984', '0034455', '0021886', '0034541', '0023494', '0029321', '0113259', '0045086', '0035542', '0045840', '0054715', '0027425', '0130760', '0029124', '0030484', '1358997', '0026608', '0045106', '0042678', '0022310', '0029962', '0038579', '0177617', '0036642', '0041981', '0044790', '0114283', '0033269', '0058165', '0023270', '0194246', '0259972', '0021500', '0039018', '0029512', '0042260', '0036610', '0062637', '0043711', '0044367', '0129982', '12749460', '0027886', '0039791', '0032362', '0220589', '0030091', '0021160', '0041809', '0041811', '0039993', '0060386', '0044603', '0025450', '0048711', '0031318', '0016526', '0049539', '0044180', '0207003', '21825966', '0038241', '0010943', '0046050', '0026909', '0058120', '3827998', '0022856', '0035335', '7141520', '0045306', '0050242', '0021299'}\n",
      "valid_western_review_ids: {'0019976': {'4795111', '8336428', '4393850', '0005989', '6869719', '0005987', '2077327', '0005988', '2736898', '2724329', '2079458', '6415642', '7673661', '5175625', '2084455', '9339600', '6391645', '1542456', '0984653', '1311439', '0005990', '9141768', '2077328', '6256752', '4187026', '9927886', '8745858', '2488399', '6462704', '9511061', '7374768', '2383898', '2724237', '3790232'}, '0024674': {'2782194', '3476725', '2326458', '3165428', '1603162', '5572201', '9847035', '3011881', '3037155', '8908572', '0011598', '7307613', '3439981', '5892954', '0011600', '3475280', '1600413', '2242038', '2363432', '0011599', '2845954', '9747368', '9587553', '4118711', '2035116', '3619973', '5242388', '9090588', '2061802', '5469055'}, '0028367': {'1829709', '8018261', '9515403', '0015939', '6415666', '1548455', '1700413', '6421615', '2027372', '1252943', '1235170', '1645103', '7673719', '0015940', '1995633', '7997878', '9893494', '9156868', '9129980', '8274564', '9887571', '5385352', '4104932', '4554719', '1438816', '9136860', '0015938', '6259644', '1134802'}, '0031235': {'3064804', '1332445', '0019116', '4920687', '1861191', '1556905', '4983432', '2047145', '6535812', '4130477', '6079149', '1098596', '6272625', '1376724', '3648718', '3147173', '1868931', '8072106', '1472614', '5220676', '1838015', '5703725', '1644729', '0958629', '2393112', '1790076', '1103751', '0019111', '2097042', '6341301', '7780344', '0019115', '3454419', '1330622', '0019113', '2142999', '2111517', '9642556', '2314165', '2176419', '5222130', '0019117', '5655563', '1157410', '2225285', '5072047', '5067833', '9443954', '5751998', '6628462', '1256046', '3250427', '5886128', '1331883', '0019108', '1458613', '7147173', '1145951', '1705357', '3019513', '8135401', '1206429', '6108968', '1193320', '8174348', '8938508', '0019110', '5066690', '2004812', '0019114', '1781164', '6903270', '9051609', '0019118'}, '0031507': {'0019884', '1693833', '3871716', '2851453', '0019889', '3756685', '9420953', '1229816', '2084295', '1410539', '8286443', '4031478', '2666415', '3430243', '0019891', '2460644', '1646639', '3206968', '3065244', '0019883', '9619777', '2546893', '1683714', '1824709', '0019885', '1792454', '1418038', '6404547', '8506162', '2665323', '0963457', '9446957', '1791338', '9877413', '3458302', '1485844', '1908178', '2139897', '3132949', '1945397', '4832866', '1641553', '1772922', '8390187', '7404016', '6339105', '7110319', '0019887', '1772642', '5184562', '8489981', '4743150', '1704749', '1558427', '1711671', '5232565', '0019882', '1998970', '2464616', '1299443', '8013853', '1416378', '2010327', '3661575', '1724645', '2070442'}, '0033226': {'7180497', '1186119', '9279827', '0023016', '1228411', '6108999', '3503136', '0023023', '3852321', '6585000', '0023024', '2538301', '1939190', '2691847', '2692263', '0023018', '1890558', '6354794', '9442630', '1518743', '2216306', '2075181', '9780886', '7422768', '2387597', '6214612', '4317257', '3520746', '0023019', '5727138', '3166065', '2114429', '1316443', '1943234', '4727647', '2715841', '2144088', '8136908', '7180693', '1000549', '1061427', '3052409', '0023017', '7456053', '1458616', '10126623', '3560025', '3200296', '0023022', '8077952', '5816633', '3631814'}, '0033383': {'7932362', '5107707', '8702910', '9338339', '1867085', '2543153', '2082739', '3433555', '0023232', '5725402', '10007004', '8636519', '7780845', '1771236', '0023233', '7736304', '0023234', '1189407', '1516885', '5724298', '2387250', '2727552', '0023231', '3834674', '2224241', '7149043', '1624540', '0023230', '3278951', '8791946', '2543187'}, '0033389': {'8265611', '9949342', '6991735', '6390591', '1232523', '8734262', '1517872', '1026596', '0023251', '2201813', '0023257', '0023256', '5057335', '1906257', '1062660', '2761061', '2171968', '3239222', '2232409', '6725446', '2839826', '0023254', '0023255', '9336455', '6674728', '2596540', '5572476', '1762072', '2944380', '4084009'}, '0034889': {'1961574', '1957251', '6972695', '4780178', '4750060', '1727747', '4122901', '9053618', '0026818', '4887605', '6246213', '2717178', '0026817', '6438222', '4755424', '2217688', '9397868', '4296199', '9713925', '5424523', '2018195', '1275834', '1591629', '0026816', '1174914', '0026815', '6072787', '1468332'}, '0035798': {'3218007', '5577123', '8898510', '3598310', '3066146', '1596547', '10039982', '9654787', '0028440', '8075593', '1463453', '0028441', '1928116', '8835895', '4170200', '0028442', '2399956', '2396413', '3429251', '1442918', '7165619', '1442947', '8545501', '2993072', '7151084', '1852447', '2172268', '5685853', '0028443', '3517673', '10012292', '5894201', '1151694', '3774008', '2327365', '0028444', '9626987', '6449920', '2747440', '3464411'}, '0037343': {'5952411', '5606596', '3113535', '1767762', '1817469', '9643018', '1660669', '7455503', '1615528', '0031453', '2766501', '4131393', '0031452', '1145364', '1583425', '3004821', '9513479', '2204434', '6553986', '5736188', '1848392', '2768088', '4744801', '5566975', '8982763', '0031449', '3339028', '1116697', '8237693', '8752374', '1876631', '6658396', '0031448', '2849232', '9531845', '1478558', '2876399', '4765187', '3447922', '0031457', '1022429', '9976012', '5797314', '3107302', '3874790', '1144169', '2220796', '4214857', '1928767', '1662859', '3004982', '0031450', '3703138', '0031456', '2314786', '2418730', '1124018', '3681912', '6726016', '1877301', '0031451', '7471517', '1195470', '1660747', '1149919', '0031455'}, '0038048': {'1857448', '9016750', '1334300', '8075331', '5666345', '0033023', '1721751', '4356276', '1204367', '5041161', '1944784', '1059080', '0033020', '4129851', '3494179', '7435671', '3794748', '9079053', '1613712', '9029105', '9619019', '3020978', '2512096', '2625980', '2200108', '2974219', '3595908', '9983517', '2028137', '1059118', '2448218', '7073258', '1381350', '2047586', '2960623', '1941773', '1652678', '0033021', '1714973', '1300980', '2732597'}, '0038284': {'1003883', '7056096', '9242727', '5300670', '5499357', '2764348', '2450362', '0033513', '8506448', '2991601', '9283767', '2959912', '1846127', '6594309', '2034373', '1808021', '9751070', '8050819', '2699535', '8943700', '1947168', '2137607', '1790488', '0033511', '1260769', '8787275', '2152411', '2402354', '1411841', '1862691', '3282149', '6714476', '2239252', '5148950', '1358064', '1886104', '7557501', '7266743'}, '0038392': {'0033847', '2432385', '5776256', '3797399', '2054675', '2771251', '2661902', '2047024', '9417413', '2797308', '2464313', '8214062', '7295859', '2904587', '8911032', '8109930', '2701389', '1731085', '0033848', '8756895', '4602607', '4179057', '1897903', '7881605', '2232291', '1669099'}, '0038395': {'2282759', '4592922', '0033854', '7243611', '3310835', '4462964', '4119981', '4174764', '2303979', '4289082', '1248780', '3024794', '1978237', '2360629', '9388837', '0033856', '0033852', '2925793', '0033858', '3142223', '3311513', '0033853', '6423529', '9674381', '2282923', '2729039', '4370446', '0033855', '2628176', '2693506', '0033857', '2476282', '4250304', '1044333', '2480196', '9470734', '2716901', '2465826', '2629619', '1676694', '1833334', '1661314', '3779850', '3313824', '1664073', '2203741', '2290393', '0033850'}, '0039441': {'1701032', '8127644', '6381514', '0036475', '1687794', '6694940', '3227615', '3252594', '2303534', '1701223', '3444581', '8786741', '7549084', '8723400', '1144876', '3689248', '1142503', '7326956', '4001678', '3802000', '5752867', '9604913', '2236012', '3500114', '8473176', '2812397'}, '0039737': {'2693194', '6942627', '0037062', '1668924', '4296806', '2357726', '4044188', '1818381', '1939629', '2359310', '1626939', '2815446', '3757913', '3481487', '3779952', '2291442', '1781295', '7841163', '6943930', '1246822', '1343187', '2436745', '2030395', '3640205', '1058015', '1826126', '8503569', '8432622', '5651979', '10064455', '5271394', '4191154', '8472329', '2529372', '1384052', '10226821', '0037059', '0037066', '1942077', '8249360', '2308456', '6466345', '2759211', '2910932', '0037065', '2556414', '4127225', '1120795', '1617615', '0037058', '6284179', '6883907', '5791734', '1644452', '8026693', '0037064', '0037060'}, '0039908': {'2037838', '3237941', '2596901', '0037342', '4168570', '0037343', '1339435', '5689241', '3488311', '7290391', '10141136', '1246588', '4087567', '8786650', '2859668', '4555548', '1247813', '4841774', '7855550', '1755382', '2267272', '3864572', '9077873', '6584481', '1244854', '9379881'}, '0040370': {'4104920', '1361955', '10058576', '6339688', '0038027', '2825763', '4167837', '2364428', '0038025', '4371259', '2300124', '1831164', '0038029', '4304786', '0038030', '2159221', '1987932', '2974043', '3859859', '3706396', '7218972', '9393729', '5833455', '4979345', '2354311', '3300973', '0038026'}, '0040732': {'1372929', '2783755', '1686418', '9398318', '2780230', '2618880', '1695752', '1219898', '1860669', '5689226', '3500314', '2294773', '7162917', '3795034', '8520789', '2073777', '2877679', '1858414', '0038896', '6745804', '9402889', '0038897', '5891481', '2223827', '4097470', '3527292', '9755833', '0038895'}, '0040965': {'2968678', '3164340', '2468881', '3034379', '2264923', '2687641', '7369642', '1373565', '2577163', '3158111', '1328176', '4230688', '2013289', '0039494', '3557945', '2780004', '0039493', '2423740', '2571365', '0039495', '1711043', '1912414', '9149569', '6057575', '1711063', '7052991', '6213287', '3304497', '5301882', '0039492', '3825696', '4049840', '9146752', '3022928'}, '0041253': {'2877239', '2817207', '2142923', '9786160', '7005694', '3088654', '1269578', '5849105', '2885310', '0992434', '9034908', '1851057', '1848547', '4974153', '0039915', '8704198', '1209100', '7460902', '2172333', '0941198', '1374646', '8194166', '0039920', '2522688', '9131342', '7033825', '0039916', '0943729', '2234811', '9156140', '5370035', '2236121', '3274842', '2809304', '2167793', '0039917', '0039914', '1851072', '1063823', '1049370', '2512891', '1464757', '2512930', '3599758', '0039921', '0039919', '0943916', '2919938', '1849330', '0039918', '6638324', '5371501', '6616431', '1486014'}, '0041497': {'0040339', '2092199', '1750901', '3283905', '7566865', '1775257', '3039844', '10104444', '4102327', '2090571', '0040342', '2167108', '0040341', '2659702', '2000259', '2097068', '10006890', '1731246', '7790757', '9566383', '5894510', '3031909', '6017429', '3754892', '0040340', '3416687', '3738845', '2161576', '1378695', '2125832', '1824467', '2090426'}, '0041866': {'1858308', '0041026', '5767887', '1662151', '2115507', '1503504', '9059795', '3642892', '1161784', '4713974', '2073325', '0041027', '1215179', '10077859', '3874912', '1561501', '1820536', '7782971', '2460171', '1249497', '0041018', '8281893', '8504806', '4627280', '4572414', '0041034', '0041012', '1400311', '2707208', '3536445', '0041020', '4976453', '1503370', '0041024', '3186418', '0040998', '0041022', '4059534', '6466467', '9155610', '7860140', '3533860', '0041005', '2228225', '2547736', '0041032', '2623706', '2115162', '5509767', '0974586', '1782398', '1157325', '1885504', '8116390', '3718940', '2361047', '5691948', '9723509', '0041025', '0041011', '0041001', '1313803', '5045818', '0041010', '0041031', '0040999', '0041002', '2882830', '0041019', '2070363', '2797309', '1910949', '1940341', '0974713', '6984033', '4185004', '2159180', '1504116', '8405178', '0041029', '0041028', '9962014', '1803754', '0041003', '1602380', '5883210', '0041016', '1859714', '0041023', '1833371', '2369721', '1147503', '3009053', '2134072', '2277641', '9073113', '9834954', '9518711', '6219775', '8855704', '0041008', '1657178', '3424578', '6188708', '5963975', '3776293', '1581539', '0041033', '0041021', '8776206', '0041015', '3590281', '8207811', '2064316', '3625327', '4809055', '0041000', '7791199', '1969175', '1510716', '2402062', '0041006', '1118385', '9067644', '7934155', '1179475', '0041004', '1905055', '9969946', '0041013', '0041017', '2062868', '6953488'}, '0042338': {'3009728', '1531482', '2901967', '3524092', '4570463', '9688903', '2396810', '3612399', '0042156', '3425792', '3627778', '2271530', '4575595', '2116026', '9779995', '4747547', '2267679', '6664723', '8483511', '2596501', '9261331', '9228662', '2146415', '2505949', '9699406', '1779944', '7327092', '2792934', '1080801', '2224572', '4045341', '2782997', '7351510', '9900656', '1910244', '1394238'}, '0042344': {'3215839', '2361571', '5624262', '3137506', '0042167', '5353170', '1430664', '2982687', '3575952', '0946865', '0042171', '3731239', '7886646', '2317882', '0042170', '4101232', '9059008', '6966464', '6030689', '6249058', '3213854', '3642377', '2338921', '4153512', '0042169', '5105605', '8995017', '1542909', '8327897', '2269462'}, '0042372': {'9021826', '9250388', '1500671', '1541354', '0042248', '2618521', '3140117', '0042246', '3778413', '2598049', '0042245', '2586038', '9428120', '2065275', '2212661', '5356458', '3524093', '2286606', '8409591', '0042249', '8327877', '3194528', '7371336', '2023687', '3580669', '3579902', '3561760', '3044940', '2716257'}, '0042395': {'2454259', '8317183', '1047369', '2500601', '2615524', '1399234', '2498376', '0042312', '3213295', '7694818', '2455193', '4981035', '9189783', '3222052', '8385857', '8288592', '2790692', '2255884', '1400569', '1167327', '1305271', '3022299', '3516383', '2252696', '1118586', '3507325', '2254147', '8022338', '1398467', '2233484', '3144121', '9262566', '3505170', '7487022', '8751676', '0042311', '3058860', '2253616', '8663739', '3508995', '9057571', '1282078'}, '0042490': {'3209796', '6978820', '2161450', '6950149', '2402100', '6589397', '1903612', '2105309', '7110498', '1901635', '9326146', '6393769', '1199275', '5851078', '3325400', '2485133', '3071329', '2314157', '0042427', '0042425', '3554166', '6941776', '1969768', '7971359', '5851051', '2971383', '7824246', '0042424', '2461546', '5854686', '10119613', '0042426', '2279914', '8920732', '1776425', '4349599', '8774313', '7218991', '5280573', '9147170', '1965753', '2452448', '6845314', '1921710', '7513227'}, '0042531': {'7011204', '4522184', '7980536', '5834197', '5399621', '6215988', '4760205', '1485193', '8729653', '1838919', '1269380', '1444838', '9039423', '3802502', '9486971', '4136318', '2206134', '9450842', '9533813', '2000796', '6941810', '0042493', '2107941', '2109896', '2616410', '1187058', '0042486', '3314485', '5966668', '2918810', '3712350', '3746266', '8943745', '2590098', '5508305', '3590691', '2504384', '3186735', '2892253', '0042487', '2454816', '3351779', '8138058', '2059988', '0042482', '0042494', '3708697', '2431144', '1847222', '0042491', '0042500', '3145170', '5390748', '4620920', '0042485', '1620225', '3087818', '0042495', '2243725', '9388072', '7665305', '2964248', '0042498', '1497349', '1847896', '6980266', '0042492', '0042484', '9095275', '0042490', '0042499', '8731277', '8248319', '0042496', '0042488', '2426240', '3777546', '3607776', '3190445', '9522124', '5381713', '8700013', '0042502', '8674897', '1422216', '1679887', '3314179', '7541499', '5912802', '9835827', '2562262', '5574244', '5823906', '0042497', '1088798', '2646608', '4796063', '0042483', '3575856', '1989684', '2312176', '2228435', '1647231', '0042501', '9084361', '1681926', '4566771', '3548969', '3151147', '1494547'}, '0043276': {'1376265', '0998820', '2414655', '3804332', '5657377', '3378747', '5075103', '6618068', '7157807', '5542355', '5529045', '4148040', '2487828', '9935456', '7924735', '2464078', '3409053', '2861196', '9092477', '9047321', '3696484', '6613735', '2827859', '3364006', '3211088', '3372227', '0044047', '2557084', '9021474', '0958261', '4186472', '9343315', '1605452', '6062384', '5656851', '1069409'}, '0043482': {'1142011', '1879150', '1418815', '1063675', '3427668', '1314469', '2495057', '3752718', '2981785', '9763523', '9693165', '7626363', '5372698', '1877737', '0044616', '1773845', '0975902', '8862827', '2724185', '3009158', '2603372', '0044613', '3358332', '2929185', '1810232', '3478745', '0957213', '0044615'}, '0043781': {'3105702', '3860898', '6669419', '3277501', '2061326', '6884849', '0045056', '5312730', '1666695', '1251033', '8205903', '3668603', '8671952', '3167321', '0045059', '3055575', '1862704', '8715529', '1229715', '7974332', '2114511', '7158535', '2992726', '0045060', '6698084', '2030833', '8327854', '10144005', '5920600', '7651956', '8285983', '0045057'}, '0044015': {'7324099', '7797287', '8792971', '9955196', '8690295', '8023768', '9596668', '2158480', '2337349', '5387644', '0045580', '4236710', '6013560', '3106736', '6314790', '2773103', '7914906', '8703854', '2160114', '8068026', '6668539', '4129247', '3404216', '2162036', '9626939', '6175598', '1869718', '8471160', '9314248', '7126843', '8704270'}, '0044186': {'0046104', '1898117', '1512518', '6666521', '3538133', '3731424', '2297532', '3838449', '5732741', '8778282', '5869824', '9385725', '10006608', '1894929', '3819724', '2787790', '1517172', '9420617', '1512357', '2333945', '1686398', '2483602', '0046105', '0046100', '1622897', '0046102', '3314906', '9445617', '2643090', '1910940', '1140256', '0976974', '2627458', '2342105', '2207591', '0046103', '5081852', '9423492', '8708819', '1066272', '5318055', '5172939', '7515482', '3852768', '0046106', '6184924', '1855901', '3803530', '2280820', '0046101', '1212852', '2248463', '2167219', '2545476'}, '0044488': {'6868717', '7045928', '6016015', '1693043', '2863502', '2428729', '8711690', '2768090', '8450714', '1085414', '6542343', '6548291', '2231421', '2428718', '2595822', '1692349', '3067089', '4658777', '8464277', '2343797', '1692343', '10253206', '2610218', '3319976', '2623365', '2836127', '1692646', '0046577', '7150811'}, '0044573': {'3755796', '6869886', '3033726', '0046709', '1300653', '1765973', '4686827', '2172631', '6353818', '2379748', '2129657', '1738129', '5905599', '2450412', '8388890', '3153737', '2838602', '6490842', '2271921', '4121362', '2572094', '5041550', '1644829', '2098119', '2259963', '3558154', '2310145', '10080607', '5681081', '0046710', '7464625', '9265780'}, '0044683': {'1519673', '4858413', '1539777', '2438359', '7579701', '1861044', '2636700', '5327149', '1763646', '0046816', '0046815', '3179649', '10166756', '0046813', '1947209', '2138300', '2625269', '3224412', '3333754', '7783782', '2195311', '3054864', '5726015', '1554415', '6580212', '1953326', '2626996', '6996027', '6559690', '2136059', '1348865', '7151922', '2014586', '3060632', '2106471', '3192720'}, '0045070': {'4526914', '0047706', '1786355', '2287655', '2344089', '2845478', '9467843', '8897835', '0047707', '2218768', '3797124', '0047705', '0047703', '2259657', '3543524', '1208944', '8536646', '9190373', '7844993', '10018626', '4399134', '6044046', '4577814', '1180100', '9783734', '4684492', '8547406', '0047702', '1612964', '1172760', '1537902', '2287498', '1537784', '9797678', '1303239', '3565416', '9420215', '0047711', '1174713', '0047709', '2125303', '2128853', '9481997', '8030610', '4183926', '4241434', '3751321', '9224760', '3451060', '2245787', '1081077', '3546219', '9047169', '0047710', '0047704', '1080064', '1541115', '2218883'}, '0045737': {'1707465', '8334043', '9030305', '0048952', '2885373', '7759692', '4144133', '2416133', '2069941', '5734298', '10009242', '2176780', '2540693', '3601392', '2818419', '3505475', '8267796', '2640244', '4161145', '1008191', '0048959', '0048954', '1471397', '2992746', '2876747', '1203845', '3794169', '8982412', '4437701', '1160429', '6188973', '3585380', '1713212', '6234973', '8292067', '1942616', '8258226', '2604187', '8665619', '6970996', '0048953', '0048960', '1948274', '0048957', '6563164', '2095003', '3439460', '1474379', '4148310', '2375181', '2992840', '2993228', '0048951'}, '0045954': {'0049549', '1640946', '2881042', '3736632', '2287100', '0049551', '6113292', '2455282', '4194548', '3681017', '8136936', '2757830', '9723687', '0049547', '8851921', '0049548', '2676555', '1132405', '1393115', '5765784', '1680775', '2994366', '3492342', '2771302', '2985208', '9651170'}, '0046035': {'8390849', '4325378', '2015047', '8715759', '8454498', '1094929', '9114864', '9046929', '2774490', '2290709', '2017487', '2549577', '5436898', '1724266', '3153912', '7149056', '0049717', '2344361', '5627052', '1772155', '2772953', '2775267', '4315706', '7676698', '0049719', '1680532'}, '0046801': {'8967097', '7814098', '2416515', '2215064', '2283736', '5070853', '3472425', '3855643', '7149067', '9793290', '2578700', '0051253', '7862823', '7780983', '7055854', '9359185', '2860301', '3074210', '2882117', '3077169', '7795858', '9796435', '2657693', '2432191', '3432691', '7866443', '8811939', '9000423', '1931278', '3074584', '3074722'}, '0046906': {'0051611', '2702590', '7577934', '2839119', '2906818', '8949446', '3803703', '1487668', '4061371', '3807005', '1788866', '0051606', '2565815', '2135592', '1134878', '2281871', '8633983', '1415025', '1258738', '1564172', '1665807', '5877978', '9473047', '7291262', '1191736', '6973054', '3739988', '3498196', '1316960', '1413364', '1671628', '3767086', '0051607', '0051609', '1134165', '1487372', '2114693', '0051610'}, '0047413': {'1932139', '2004004', '10154931', '9043394', '6617317', '6762419', '4102959', '9030779', '2197907', '8708054', '2011901', '2856797', '0052940', '1751151', '3001293', '0052941', '2965650', '6614207', '7162835', '1793488', '2062765', '0052939', '9448439', '2389489', '2277453', '8149482', '4723284', '6013172', '5255161', '6655322', '6672443', '3310977', '5109576', '2880412', '2561000', '4608517', '2277407', '6613863', '4405646', '7091290', '6659958', '6672721'}, '0047495': {'1208359', '3600389', '7267590', '10212017', '4164486', '2220716', '1721214', '7655784', '6514233', '7884005', '7910921', '4123288', '9515992', '1545020', '6410011', '2341001', '2205647', '1029463', '2332937', '3786056', '0053495', '0053494', '2007041', '9486853', '7901256', '2600150', '2707854', '9667864', '2764411', '6091611', '9792566', '2888246', '9372735', '8981876', '3805638'}, '0047581': {'3352332', '0053840', '9500564', '7650132', '0053839', '4592712', '5335295', '2258155', '2134797', '0053838', '4157352', '2252259', '3053710', '8761621', '3050574', '1738429', '7576531', '3539236', '6440880', '8477956', '8460280', '8352893', '4231556', '2735949', '2249948', '9868272', '2126430', '8358205'}, '0048289': {'4122871', '2199508', '0055339', '0055337', '3407223', '2124697', '1660740', '6849886', '2197716', '2114437', '3781968', '0055340', '9093823', '6636298', '3460620', '3425761', '8982594', '3663209', '4126082', '1025445', '7158108', '7535287', '2548823', '3093791', '3340214', '8754052', '1931457', '1776730', '0055338', '3068265', '7865468'}, '0048336': {'7885663', '1492609', '1210055', '6699530', '9792738', '6699761', '5003137', '1664517', '1079230', '2675423', '0055447', '2971500', '1592846', '6408351', '4520791', '0055446', '9234807', '2984276', '1806059', '8500737', '3815535', '1817322', '2249080', '2308751', '1134821', '7647896', '7010932', '6391754', '7773419', '1507404', '2078946', '5627722', '0055445', '6537200'}, '0048339': {'4162909', '7143145', '1958004', '1594174', '1997638', '2753599', '1889730', '9006189', '8355810', '6336285', '7158832', '2806077', '3606945', '4298998', '4058025', '1985643', '6142718', '2815184', '4376575', '5721042', '9793436', '7134114', '2192459', '2600286', '1645775', '7156811', '0055462', '1235648', '3630054', '1483609', '2148361', '2072346', '6637057', '6587974', '5354951', '6846391', '9558750'}, '0048340': {'2353195', '1626522', '1188440', '1943385', '6326947', '8728192', '0055465', '0055464', '5954261', '0951780', '0055468', '1595553', '3558968', '7631457', '3378620', '5409030', '1825422', '2328775', '1816754', '7455390', '2074448', '3814780', '2132257', '9402569', '2742595', '5973275', '3624706', '0055467', '0055469', '1721309', '0055466', '8586960', '8821785', '6000949', '2560532', '5881519', '1595370', '0975375', '4034612', '3281575', '3802709', '3829383', '4524497', '4073144', '2355361', '2136148', '1170391', '5477449'}, '0048535': {'8501745', '8752027', '1142283', '1308889', '7327217', '7728207', '1451395', '2274095', '2248925', '2239650', '4456096', '0056076', '1688722', '3074211', '2502778', '1111523', '7158555', '0056075', '1121849', '2032638', '1777145', '1865710', '1429343', '2034464', '1798857', '3506104', '0949946', '0056079', '6533807', '4799682', '2589983', '5348849', '9754171', '2406213', '1713782', '7210249', '6996578', '2106772'}, '0048691': {'8370683', '1875473', '0056502', '1719657', '3010133', '1272582', '1626536', '2638623', '6972688', '0056506', '1631927', '4186371', '2352216', '3761489', '7573164', '1390181', '9344548', '6156150', '7163685', '2948542', '2092798', '5868477', '0056505', '0056499', '4594739', '2556392', '1535400', '1439150', '2270601', '0056500', '1630840', '2006942', '8674094', '5903677', '7198074', '0056501', '8327936', '2008592', '0056504', '1714383', '1294726', '4338418', '6181758', '2609976', '3456961', '1287552', '5443456', '1595534', '6785855', '3060598', '7118743', '2406748', '6730332', '1553784', '4741882'}, '0048789': {'3806465', '9587055', '6124746', '3772123', '0056795', '1343932', '2994142', '0056793', '2483344', '3648646', '1719015', '9318135', '1359020', '1724930', '8674436', '2726481', '5420298', '2364022', '3793513', '3056333', '3458872', '6551029', '2623543', '0056789', '2593640', '9738470', '1516494', '9273247', '1003750', '2728328', '2764671', '0056792', '3792257', '1799986', '2320290', '1431479', '1120333', '0056790', '7273776', '2371519', '0056791', '2033829', '1470389', '0056797', '8518776', '7579188', '2623555', '1322619', '1824156', '8457304', '8053537', '2074989'}, '0048806': {'3622148', '2448652', '3385924', '9034400', '0056856', '2280750', '0056853', '9087261', '2718679', '3494811', '3823607', '1151838', '2718788', '2470577', '2208141', '1320056', '2948135', '3825214', '9772737', '9037261', '7583837', '4347510', '0056855', '2643098', '8117695', '4230847', '3254764', '1483136', '7563548', '5749186'}, '0049278': {'8483659', '6646809', '2417448', '3826359', '8406809', '9881401', '1892978', '3789774', '3660545', '5953689', '8483550', '0971044', '10162654', '5968569', '2166603', '6272820', '2166595', '5423626', '3687425', '0057997', '3808753', '0057998', '0057996', '3369295', '0057995', '8481070', '3825198', '2297170'}, '0049287': {'4191467', '0058013', '1635240', '3520940', '7711455', '4478786', '7238388', '0058011', '3714016', '6298643', '2972700', '0058012', '2094419', '1009642', '3799562', '2410896', '0058020', '1025541', '0058007', '8285863', '0058015', '0058016', '0058008', '0058018', '4220511', '6653842', '3585600', '7030646', '1644786', '2423689', '2813566', '3482077', '0058017', '7236839', '2334129', '1418669', '0058014', '0058010', '0058019'}, '0049434': {'3443290', '0058505', '8325531', '5029032', '1019778', '9982432', '1966530', '5128332', '2063366', '7312400', '1421482', '3734492', '0058512', '1698104', '2085663', '2068101', '2216677', '8187173', '0058508', '1146342', '4281758', '2148018', '5055856', '2274341', '10106793', '2476232', '4379808', '1228197', '1217651', '0058507', '6405653', '0058506', '3207100', '8190218', '0058513', '2575169', '6744633', '8576266', '1615119', '8338574', '2527107', '1421869', '6118048', '4227316', '0058510', '10167499'}, '0049639': {'6147249', '7280977', '1583065', '5824435', '0058871', '9202801', '2256146', '1103984', '2867624', '2869909', '5233410', '9097074', '9329198', '9746577', '3680251', '1176049', '6124232', '2995371', '10074656', '1561874', '0058872', '4047207', '6098654', '8892699', '5306489', '9359961', '1972123', '2979202', '2187453', '4684148', '7268215', '1799591', '6247922', '1701168', '4277656', '5998387', '0981338', '9321962', '1483377', '2592521', '3285949', '2088209', '1904009', '2166002'}, '0049743': {'3143392', '0059256', '6816605', '1454614', '2296453', '10121759', '2046364', '0059255', '9811430', '1368050', '1887842', '10058780', '2197400', '0059254', '1294410', '1681049', '7839726', '4114241', '1802405', '7700864', '9911806', '1980217', '3087395', '5002493', '3386172', '1885072', '2844154', '1776242', '0059251', '8515525', '1879499', '5604654', '7148997', '3416745', '1245852', '2882244', '0059249', '1885556', '2557523', '1687095', '3627072', '2032202', '1753721', '1275343', '2073839', '1457029', '1687517', '7538349', '1837873', '0059250', '1949389', '2951488', '9015064', '0059253', '1247910', '2790183', '2437132', '5515087', '1244322', '1822802', '3019566', '5822123', '1453965', '5002610', '1707519', '2022585'}, '0049745': {'2279363', '9129343', '3057646', '7253088', '9140463', '7528409', '3241259', '1100152', '3843847', '9743083', '8354494', '2944539', '0059260', '0059259', '8089713', '7149004', '7838535', '6201920', '1088781', '2518421', '1044774', '0059257', '9417831', '4422907', '2106995', '3368832', '4852946', '10098978', '1673408', '6473422', '2937953', '2279366', '5468604', '8915921', '2297909', '2921830', '2598717', '1530721', '4829946', '9778306', '2949716', '5890491', '4900226'}, '0049834': {'0059503', '3412568', '5578935', '9835181', '0059505', '1852848', '7375085', '6072923', '0059502', '2128054', '2227124', '2227710', '9374012', '2909245', '9085134', '1887513', '2568363', '1890355', '9770543', '9835353', '2351508', '0059504', '1153340', '8854236', '1391122', '3007658', '1912553', '2496336', '2227098'}, '0050296': {'2066873', '2016178', '7151045', '9599701', '1840312', '2688886', '3328466', '0060867', '6762206', '1311571', '3847749', '5075327', '9604086', '1687579', '7297797', '4011852', '2579735', '1683802', '8543193', '3532657', '5642542', '4506051', '1992692', '1975382', '3730707', '2694249', '7003645', '6961887', '2220527', '3632739', '2032210', '5894025', '6099817', '2041430', '1992021', '2021427', '2019917', '5117141', '5657638', '1045118', '3782199', '4264718', '0060869', '1690184', '2103933', '7610260', '7538470', '1107238', '1985615', '2201759', '3489853', '2273644', '3461396', '2603156', '0060868', '6678076'}, '0051047': {'8976210', '2407134', '7198206', '10008886', '9726488', '9898816', '2204811', '9596449', '3850947', '1989076', '1793810', '8065056', '7579142', '2925477', '5580688', '4301806', '1775276', '1458356', '0062869', '8742114', '1595366', '0955126', '0062865', '2033712', '9770335', '8308188', '7535557', '3164120', '1993365', '7568711', '6206913', '8473861', '7892947', '6907464', '7311606', '1844699', '3460642', '1429206', '2634431', '2036096', '7580920', '2264438', '2876373', '4772821', '2039676', '6696026', '1829642', '9903187', '1011167', '0062866', '1165291', '1907503', '1691979', '1410242', '1913569', '8178326', '0062868', '2034520', '0062867', '2201779', '2032200', '0062863', '0062870', '8359957', '2252281', '9978529', '8888617', '4443671', '0062862', '1887824', '2287154', '1560117', '3772626', '3267550', '2000729', '4262370', '1266615', '2061473', '0941224', '7177078', '1164215', '2000456', '0062864', '1951055', '2741937', '9599760', '2404160', '2854818'}, '0051087': {'9558034', '1763531', '3434588', '2494219', '7738760', '9804480', '7141890', '1815987', '3829719', '4379661', '5075518', '2625926', '0062944', '4285401', '2262431', '1803961', '10103139', '1505097', '0062951', '7602752', '1131260', '4251623', '0062954', '0062946', '1867806', '9783028', '2284355', '2336579', '5806096', '1823300', '2576599', '0062947', '10212543', '9383001', '1389850', '3826397', '3708765', '0062952', '1823522', '0062956', '5445679', '5006624', '1818038', '3365214', '7621531', '3506219', '9333106', '0062948', '6755305', '3674092', '0062955', '2743035', '5389541', '1508808', '3305935', '7079247', '3270860', '0062953', '0062945', '2327702'}, '0051393': {'3074466', '6610986', '1699540', '4008115', '2553856', '2426907', '0063545', '5029650', '0063547', '3074819', '1807251', '4565039', '4183128', '0063543', '2018347', '0063544', '0063542', '2228867', '6653681', '5183626', '0063546', '3028689', '9409093', '2600002', '6681759', '2554547', '3726491', '4596304', '3741469', '2745341', '4086442', '1710928', '8304111', '2205338', '1522250', '0063540', '2644314', '1043380', '3599264'}, '0051628': {'2209438', '5730049', '2836088', '5518416', '10063441', '2293473', '8704861', '2338936', '2760856', '2843316', '9411958', '2930363', '8615381', '0064175', '2127916', '7756045', '10170551', '5586214', '2819104', '5787099', '2220748', '1317003', '2594497', '3114722', '2221723', '4962401', '4100653', '2571734', '2361159'}, '0051629': {'10063830', '9641239', '7757388', '0064182', '9776903', '1962354', '5176672', '0064180', '5814247', '1953693', '3092448', '8748836', '3610891', '8917602', '8361891', '2624394', '2774786', '0064179', '0064178', '0064183', '2602368', '3103631', '3345771', '9786568', '1628467', '0064181', '2193973', '6769305', '0064177', '8658487', '2199033', '6048945', '2508536', '1543830'}, '0051673': {'5902082', '0946690', '6601532', '2258353', '8096807', '1110127', '1010048', '2884717', '1871010', '2520411', '9774825', '3428700', '3119949', '0064315', '3452559', '3075193', '5068047', '9890353', '1928329', '3171306', '1458740', '1939427', '3412397', '3404260', '2298777', '4090225', '0064314', '1921907', '5519459'}, '0051690': {'1823959', '2963126', '3127419', '8306144', '1733097', '1548929', '5367403', '2037700', '3166177', '2571673', '8892705', '0064329', '1080427', '5749177', '2089779', '2665496', '7326940', '0064330', '3834061', '9707541', '0064326', '4990414', '6207585', '8169766', '2958031', '6074187', '0064331', '0064325', '1736526', '10138155', '3189605', '5009727', '2457216', '4006518', '0064328', '2472666', '2458095', '2457194', '7440543', '0064327', '2457521', '2918496'}, '0051848': {'5552788', '5402952', '3476902', '1944562', '2242869', '7034372', '2087980', '1251712', '1644380', '1025031', '8596248', '1789774', '0064849', '4379839', '6857639', '3144626', '1647374', '1956511', '3222572', '1786424', '3133121', '3573995', '0064845', '6428035', '2266045', '9236927', '0064847', '9631886', '8576697', '3525675', '9954157', '3529467', '2099725', '3007094', '1847182', '9114805', '3190666', '6164997', '2198563', '1023595', '2303754', '2779543', '0064846', '2369463', '5891247', '7256637', '3474958', '9754556', '0064844'}, '0051899': {'9634867', '5743096', '4976505', '9899877', '8943772', '10102025', '1266620', '9674631', '1289964', '4143908', '2162193', '0064936', '0064927', '9873433', '2195621', '0064935', '1070724', '8900707', '6666294', '0064933', '8533788', '8879992', '2276832', '3617700', '4605003', '1958029', '0064931', '8200060', '0997632', '3434549', '3712430', '1616274', '3205970', '5214029', '3593078', '2665213', '9870385', '8819549', '2698041', '1398395', '3317291', '9776857', '0064929', '0064930', '1071261', '2971913', '6924080', '2148749', '2049637', '3552398', '1399579', '3703085', '1080761', '4979450', '10096779', '2565062', '2782483', '5362045', '8919369', '5902692', '0064928', '0064937', '0064938', '9801576', '2032182', '1109439', '2237336', '4880753', '5362943', '5596440', '1758944', '2023609', '10173390', '2885823', '0064926', '2962033', '2880630', '9504120', '2782544', '1606598', '6918487', '6897098', '2307661', '3138169'}, '0052002': {'1742758', '8322155', '5165960', '2382758', '0065167', '6405938', '3379538', '2860406', '0989519', '10195107', '1462010', '3456963', '5738256', '1052685', '10143636', '0989426', '1036313', '1257831', '0065173', '6372678', '2417182', '4640828', '2272937', '1700798', '2058359', '1759295', '0065172', '1631735', '0065168', '6702115', '2013290', '5314868', '1958742', '2894670', '1154878', '9334990', '10086418', '1164812', '8165915', '0065171', '4629725', '0065170', '0065166', '3666872', '2807316', '6360292', '5249824', '9371348', '8493773'}, '0052190': {'8576593', '0065726', '8214417', '1645655', '1108752', '2472180', '2820149', '3476235', '8936147', '3386680', '6073219', '6692846', '1856334', '0065730', '2402713', '1755123', '9603387', '10035170', '1094269', '9694966', '5560358', '3595924', '10194537', '6687058', '8679064', '0065729', '2170670', '5752631', '4355391', '2288294', '7337439', '2167336', '0065728', '3367069', '0065727', '3721788', '4794206', '3036327', '9928690', '2257379', '4624705', '1140223'}, '0052287': {'2115381', '0065935', '5583420', '7333705', '4882757', '3810427', '0065937', '2774365', '2773458', '0065943', '2434839', '2077742', '7538727', '2176787', '0065940', '0065944', '2079271', '2470597', '2394448', '2165253', '2161594', '3748571', '0065939', '4542837', '3242172', '2289694', '2287166', '9378026', '2342871', '0065938', '5325860', '0065942', '2767526', '2115082', '2080643', '3251092', '9824787', '0065936', '0065941', '1278513', '5559533', '3604382', '4103670', '5589495', '3856451', '8137066', '2320910'}, '0052876': {'2402201', '1048149', '1594697', '2110248', '2508418', '1684394', '10167029', '1648852', '0067852', '6241311', '2482147', '2506875', '2531892', '2241885', '0067850', '3296569', '2603445', '2772945', '6799414', '7534264', '1342019', '0067846', '9297443', '9856146', '0067849', '2091451', '2208836', '7881248', '10060549', '9460564', '1375691', '2801665', '2591976', '3610683', '4342973', '2754828', '1746700', '9590329', '3416179', '1763686', '2971985', '6835466', '3413002', '7008641', '0067847', '8874737', '0067853', '0067845', '4132007', '2558811', '1330026', '3234943', '2219292', '3597359', '2463330', '2565740', '10035184', '0067854', '2388480'}, '0052993': {'7122234', '0068236', '2840568', '6851903', '8940391', '4626638', '2974737', '7083741', '4355459', '9698850', '7995686', '0068235', '0068231', '1784661', '4009021', '0068221', '2879594', '0068229', '4344341', '0068225', '1106612', '3600637', '1605418', '8135208', '1363980', '2653376', '6409003', '0068238', '6907811', '5084348', '1719270', '6683239', '2555047', '0068237', '2661876', '6723464', '1790119', '5728005', '2170788', '1272001', '1730957', '3334009', '0068232', '2120775', '0068219', '0068228', '0068220', '1122362', '2647299', '9361643', '3436759', '0068222', '1719200', '2668204', '1211966', '3220478', '1306200', '5495826', '7373821', '1614733', '7905491', '1689708', '1865077', '3551574', '2529685', '7027943', '3411965', '2796550', '0068234', '2757448', '1016834', '9198350', '10032921', '6938013', '0068227', '2360449', '0068223', '2195726', '2114786', '8421902', '1787931', '2434093', '5964251', '7635326', '2192411', '3141033', '3868637', '0068226', '0964853', '1934982', '5238312', '2986601', '0068224'}, '0053220': {'2000455', '2925478', '2283171', '10025447', '2873214', '7162820', '10080664', '1691482', '6744405', '3854253', '2582135', '2276905', '6965861', '0982947', '2025548', '3112255', '8651195', '2000433', '8888589', '3315187', '6992388', '2276926', '8338980', '9946561', '9942286', '0068999', '7545446', '7978847', '2717510', '9485355', '0069000', '3778792', '6261841', '1196887', '2708570', '9969313', '7866692', '3638510', '0068995', '0068994', '2601757', '2950999', '4052715', '8454346', '2146358', '3342181', '0068998', '9714086', '2339613', '2868185', '0069002', '0068993', '2300233', '6883223', '3499547', '7003095', '0069001', '8269307', '0068992', '9738746', '2338855', '2121688', '1895092', '2001678', '6848681', '9425435', '2238729', '2032226', '2813032', '4363572', '8566481', '7028707', '0945042', '3007166', '9760538', '2874000', '1793789', '9386064', '7207810', '2276899', '3460179', '9565647', '1147360', '4265404', '6848929', '2277107', '1739627', '0068996', '0972148', '5963568'}, '0053221': {'6369472', '3824102', '8236414', '6818708', '1991592', '2880403', '8149643', '1622319', '8139578', '0069032', '0069042', '0069055', '6219808', '0069034', '1182233', '1580307', '0069053', '3036104', '2339001', '2745766', '1747596', '0069026', '2107398', '2445746', '0069011', '6650483', '0069046', '7605316', '4907613', '0069010', '8477482', '2231626', '0069017', '1223189', '10138716', '2711484', '1723264', '0069059', '3493185', '2829186', '7369560', '7569084', '7832188', '3004613', '7007169', '5655129', '9240802', '1037493', '2360683', '6954858', '1414346', '0957128', '0069008', '0069015', '10074525', '3491112', '1015166', '0069009', '2183593', '8131721', '5119753', '9921341', '9212919', '9943176', '1663271', '9097263', '0069013', '6202672', '2617232', '0069052', '9394682', '5401948', '1584441', '3032734', '8102562', '1103954', '9402121', '1228360', '1069276', '1148985', '0069020', '1907180', '2927880', '6784307', '0069047', '3155754', '7851479', '1296138', '2062792', '2136732', '1464909', '1303574', '9518568', '1893490', '2486205', '0991081', '0069024', '2905211', '2249334', '2799756', '6357174', '8310442', '10029463', '2716777', '2983976', '2442381', '0069040', '1154637', '5299103', '0069030', '3532595', '5788068', '2906142', '3151829', '8450244', '2314167', '1917987', '2794130', '1950186', '7886991', '4207216', '4982448', '6890343', '0069025', '1369219', '0069029', '2689943', '0069021', '0989301', '1093364', '1782479', '7631324', '2978573', '1703644', '0069033', '5833147', '0069023', '9910912', '1855728', '2474479', '2205178', '5451154', '4815856', '3410306', '6170361', '1539110', '7412991', '1062561', '0069037', '0069058', '3436526', '6578489', '1702757', '9902032', '5297791', '2273189', '6730078', '1103691', '7369927', '5278461', '1058088', '3647222', '2472881', '2340071', '0069045', '1802516', '1730674', '2062817', '5815639', '7277483', '1887084', '0069016', '2799248', '0069050', '6166606', '3557291', '2039366', '0069019', '1918396', '7393124', '5115926', '1822514', '1289998', '7058764', '0069039', '0069006', '1944527', '1067508', '8071804', '1661320', '7391709', '1202607', '2648529', '8908616', '4139391', '1685945', '0069022', '3081321', '9346284', '2358151', '1925085', '3035403', '0069036', '2093418', '1446380', '1722670', '0069014', '1138355', '8795424', '9688372', '2549879', '1362847', '5997795', '3715150', '1370140', '2143940', '1089912', '1483370', '2671669', '8351180', '1747497', '3398785', '7531701', '5826264', '8523784', '4431903', '1372739', '2268350', '2791397', '1805858', '0069007', '7266478', '8222456', '8453809', '2090166', '9834807', '1816846', '1662981', '0069054', '5614494', '1075042', '9829577', '4241361', '9086408', '5191692', '4285408', '0069049', '3713381', '1436557', '0069004', '0069005', '4613493', '9672342', '1657172', '1196673', '2979804', '0069031', '9838155', '1896753', '4580316', '9313593', '1601847', '7594287', '0069018', '0069028', '2882023', '0069035', '0069043', '6664895', '2527590', '1833401', '4489675', '3553657', '2566833', '2186300', '5050740', '0069003', '1069239', '5707808', '3552595', '4286365', '0069048', '7093322', '1571415', '5881496', '2611847', '0069056', '6726015'}, '0053434': {'4297171', '6176308', '2377176', '8670900', '5116911', '8186973', '3053804', '2115281', '0069737', '1594649', '0069726', '4328016', '4208902', '7321446', '5022653', '1706054', '2350224', '3740723', '5698651', '4111154', '5929552', '4070545', '7404647', '2080193', '1595570', '0069735', '4994274', '0069736', '2542246', '1042065', '6542440', '8012975', '3640473', '2033919', '1325260', '2268404', '7847912', '1606160', '2304417', '2909941', '0069728', '2094574', '4155322', '9414938', '8371089', '3688241', '8247194', '0069734', '0069723', '0069738', '2003749', '0069724', '0069725', '8029496', '3284464', '9734329', '1481056', '3129833', '8085620', '0069733', '1267502', '9872890', '9682682', '7617921', '9943458', '1944036', '4182117', '8553901', '1102783', '0069727', '9336848', '2007058', '9098170', '6040092', '4238556', '6657227', '1090394', '1574340', '3823418', '2776519', '4678494', '2511221', '2705995', '0994470', '0069729', '0069730', '8908234', '0983883', '2640799', '3125506', '0069722', '3244170', '2149022', '3075492', '1356364'}, '0053441': {'7596490', '9326728', '0069743', '5437931', '3405102', '8467066', '3406691', '4266369', '2158821', '5746699', '3686758', '1748531', '2634429', '3403325', '2314691', '2470578', '2012012', '8630041', '2333417', '9321807', '3495382', '6754584', '2877308', '8679092', '3858677', '4555153', '2564046', '2413660', '9861185', '0069742', '7177193'}, '0053457': {'3381758', '8248086', '4928320', '0069781', '1126006', '1333967', '1671538', '2337046', '0069779', '0069780', '4153126', '6316523', '9474986', '0957790', '4225192', '0069782', '0069778', '1908237', '2732209', '9575053', '2483123', '2717877', '2872990', '1461813', '0069784', '3676403', '5309291', '2718420', '0069777', '6375314', '2867400', '3522767', '5515929', '9704009'}, '0053825': {'1590409', '10254968', '0070887', '8124657', '2719921', '3648856', '8548868', '0070876', '2205954', '8422285', '3573864', '2034137', '3579067', '7015143', '2518608', '0070888', '0070884', '2674649', '8759837', '0070878', '0070874', '6855614', '3583424', '1666297', '7534734', '0070879', '0070877', '0070891', '0070881', '6019899', '0070893', '2757701', '9491116', '9593464', '9654590', '3312928', '8796581', '6838341', '1437132', '0070890', '0070889', '9553373', '0070883', '0070880', '8961151', '2742285', '1080196', '5494718', '8645015', '1690816', '0070872', '0070882', '0995104', '0070892', '2028092', '4286996', '9623221', '8174184', '3008965', '1056470', '0070894', '0995652', '1692210', '0070871', '4208763', '3499200', '2289589', '1205555', '6443176', '0070886', '1725846', '0070885', '1716238'}, '0057851': {'9479062', '3576864', '9112165', '9139124', '9095384', '2783052', '9529393', '9092770', '9104154', '9562212', '2667678', '9480850', '9475363', '6818646', '9509447', '9105564', '9511913', '9141306', '9478890', '4974123', '9778934', '2518026', '9180162', '8624277', '4657914', '9104537', '9541043', '6958671', '9519298', '9488261', '2985541', '9172978', '9572627', '2457409', '9447149', '9475405', '4994203', '6774051', '9130017', '9458291', '9112075', '8942401', '9137402'}, '0058238': {'1641490', '3727083', '9030346', '3793634', '7146633', '1112661', '5912097', '2048889', '1486538', '3484251', '9722797', '1950466', '5267982', '0085691', '1304236', '1669861', '2438426', '3775123', '9844538', '2058058', '4000900', '2535964', '1949594', '10105669', '2080079', '5636016', '2189039', '8856952', '4494550', '4400345', '1484566', '5898653', '2043555', '9616833', '0085694', '6151754'}, '0058507': {'6221081', '5801721', '3495851', '5812906', '2657241', '0086767', '1165816', '6000383', '2523736', '10208449', '5122144', '8275582', '2783183', '2670306', '0086766', '0086768', '2052851', '2952219', '3113990', '1240337', '7343257', '4537604', '5837153', '3757068', '3098307', '1112547', '2445150', '8694476', '2551981'}, '0058525': {'9074451', '0086790', '2725539', '2276769', '1329327', '3076106', '9104970', '2103896', '0086796', '3088962', '0086792', '0086788', '4737949', '2277467', '2688694', '2910822', '0086787', '2648530', '2807260', '1370042', '3832388', '1326724', '2117829', '0086794', '9634881', '1672838', '2659660', '1271831', '1225987', '8377707', '4048239', '0086791', '1492656', '4605967', '0086795', '1433284', '2037642', '8466858', '1221308', '2434495', '0086797', '10024594', '9270028', '2524036', '2892024', '3215181', '3373232', '3023178', '2682581'}, '0059017': {'0088553', '0088550', '1315685', '2822091', '0948019', '1644594', '2493096', '0088539', '1293613', '9371073', '8480750', '3397089', '8006515', '0088566', '0088544', '0088555', '1832999', '9912022', '3877594', '0088564', '1717532', '8956870', '5879598', '4085744', '4529234', '2434095', '1722340', '2309662', '3004829', '10207861', '2751294', '1888644', '5467638', '6821347', '3393281', '1552805', '2832461', '6031671', '7284835', '1629787', '6092745', '8019075', '0088537', '0088546', '3819141', '4109174', '0088562', '1842093', '3804866', '2478224', '0088545', '3487018', '1111619', '8626015', '4182342', '0088560', '1612498', '4945387', '9363942', '1827912', '0088540', '8140210', '1280831', '3302903', '1757645', '1036965', '2015401', '0088551', '1162427', '0088542', '1109554', '0088558', '0088547', '0088563', '1657221', '1302040', '0088559', '3364750', '3527372', '1000186', '6123410', '9090031', '2885837', '2344057', '0088541', '9447794', '5560134', '2113601', '1407937', '2999950', '0088552', '1202031', '1739005', '1381287', '8801851', '6824744', '0088554', '1852534', '0088567', '3154964', '1137756', '0966047', '0088549', '2105327', '1651201', '2166550', '0088543', '0088538', '0088565', '1778224', '0999435', '0088561', '1163835', '1288554', '0088557', '3591539', '0999307', '4213378', '9937830', '5793723', '1095729'}, '0060095': {'7970793', '1482873', '1729666', '0092102', '0092101', '1640373', '5893016', '1864491', '6129871', '7762572', '9703111', '2805619', '1649850', '2261652', '1640909', '7032367', '1775074', '3687926', '3644025', '2311311', '3256623', '1092629', '6885520', '2596916', '4038691', '0092104', '1933486', '1854180', '1752081', '1849301', '8001909', '6752020', '7738418', '2093534', '1671599', '6094952', '0092099', '1447500', '6077223'}, '0060165': {'1808838', '0092357', '6090602', '0999115', '0092358', '0973415', '3102577', '0092362', '2315426', '5066467', '2823110', '2273955', '9046139', '9600561', '0092370', '0092372', '5566273', '0092377', '1648539', '0092366', '0092364', '1563976', '7693007', '1534950', '3139022', '0092371', '6762938', '1787284', '0092365', '4911662', '0092375', '0092374', '3590375', '1857266', '2097852', '2147181', '3108329', '0092360', '1720849', '9735828', '1056897', '3600600', '3637249', '3176706', '9336796', '10006455', '0092359', '0092369', '0092361', '4739808', '0092373', '1292120', '0092368', '0983281', '1429651', '8074933', '7296827', '0983008', '3602471', '4561432', '0092376', '1844434', '1752834', '1857521', '6586694', '0092363', '3439630', '1033970', '6496452', '5623083', '1895326', '3011794', '1417707'}, '0060884': {'1892428', '3778696', '0095096', '0095098', '5719207', '2215375', '3821782', '0095100', '7650784', '2401584', '9091175', '10118823', '0095101', '8724648', '4174823', '1143285', '4780892', '2844716', '0095097', '1701836', '0095103', '5669231', '6026415', '7746764', '2738657', '0095102', '0095099', '1948994', '3681194', '8711187', '5654481', '1512210', '7012551', '7091289', '6440329', '1427001', '1790970', '5619948', '2033078', '1521244'}, '0061477': {'0096926', '3488239', '1208574', '2060932', '7783068', '1948173', '1480835', '8830008', '0096927', '2874304', '2249284', '8805472', '1642445', '2095015', '3729272', '2129540', '5636500', '3633097', '3437062', '1448323', '1511231', '5185038', '3650832', '2172263', '1124004', '9176619', '3858513', '3175245'}, '0061497': {'7097724', '1428007', '3724245', '2888288', '9397381', '1949978', '2144653', '2482620', '2469513', '1483256', '1008271', '1450120', '3543231', '5989294', '1397382', '2161205', '1960791', '3132115', '2026555', '0096964', '7402426', '9983425', '5919748', '1455657', '2078255', '1816569', '8236781', '2500853', '1389060', '8777575', '7482004', '5549612', '4295044', '0096965', '2313038', '2450217', '1545401', '0096966', '6626767', '0096967', '2793138', '1430514', '6954320', '3298790', '1269995', '7464642', '9098011', '0945467'}, '0061636': {'1440920', '9580892', '1044156', '0097417', '0097416', '6676681', '4570346', '2685115', '8286714', '3499136', '9418825', '2153386', '0097414', '3717829', '2079655', '3210164', '2334272', '1457129', '2393934', '3810722', '1822869', '10257000', '6004114', '3220575', '5277847', '2160636', '5087334'}, '0061893': {'3218538', '0950832', '7969002', '5083691', '4571203', '1150136', '3817241', '2497989', '3560293', '0098558', '0098556', '7918225', '7893004', '2205191', '6860538', '4788601', '3404241', '7009508', '1827453', '0098557', '7170216', '0098559', '1900147', '5154821', '1151592', '4757323', '3555692'}, '0062865': {'7168901', '0101987', '2767013', '1518572', '9816243', '9623501', '2595002', '5088838', '1519046', '5049725', '1756869', '5044679', '3572311', '1080277', '9889834', '1711666', '3666476', '3522659', '3479378', '10087230', '0101988', '5029763', '3115321', '7197858', '9907122', '3512699', '3332830', '2011514', '6433633', '2071098', '9932751', '2215141', '7313554', '8348471', '4240904', '9941473', '2601774', '1518472'}, '0064155': {'0106685', '3743604', '1828939', '3558420', '3684214', '6201621', '1433682', '7436053', '0106690', '5980607', '6824000', '3127598', '1346040', '1778218', '0106689', '4738819', '1950812', '1713781', '1077254', '4342855', '9564128', '3249615', '0997268', '8882992', '5318165', '0106688', '0106687', '4883532', '1305469', '0106686', '1828794', '8451646', '4567723', '1709101', '8676933', '1805842', '10252638', '9299799', '5383416', '1984419', '0106691', '2764162', '3039559', '3871042', '2294491', '7107294', '3579235', '4061486', '6206553', '3167858', '5460161', '9762379', '3327824', '2455201', '1713159'}, '0064695': {'6326960', '2271676', '7316031', '1851712', '1606073', '5415250', '4230617', '0108252', '0108254', '3055310', '2807962', '6508710', '4415122', '6754869', '1914638', '0108256', '2791441', '7885712', '2255171', '6528110', '2327127', '1365967', '3482748', '0108257', '7466945', '6091672', '6649189', '2647287', '0108253', '2140752', '0108255', '2432180', '1220258', '2723839', '1060055', '2419728', '7780382', '2218013', '9724227'}, '0065542': {'3149451', '2578126', '5282983', '2230427', '3599749', '1297868', '1750485', '1793284', '1929443', '9779260', '1499965', '1143890', '5213660', '0110874', '7891381', '7930972', '9293955', '1563571', '3037598', '5162469', '1536802', '4693799', '8074928', '4591165', '0110870', '7659566', '3782732', '8522668', '0110871', '7769739', '2586867', '1357560', '9644534', '2879684', '1524174', '3108345'}, '0066093': {'2118241', '8683857', '2766503', '6679892', '1956817', '7205753', '3683929', '1305628', '3717684', '4920528', '0112474', '0939678', '10017040', '0112480', '2981730', '5264285', '5761549', '3825957', '0112482', '2746419', '0112481', '2979772', '7040255', '3167733', '1181705', '3689232', '0112478', '2400684', '9706212', '5650116', '0112484', '3216084', '4956137', '4175528', '1093092', '8495466', '3742398', '6098215', '2130144', '6200433', '0112477', '2251635', '3358605', '0112479', '2400903', '1522990', '0112476', '9862361', '0112483', '5287347', '2227576', '0112475'}, '0066844': {'2133355', '1194314', '0114937', '1316521', '6942091', '1971164', '0114938', '1049150', '2238269', '1761063', '3293880', '4002869', '2185197', '1878994', '3842486', '9291352', '3664834', '3639563', '6681914', '3019009', '1373962', '1402733', '2219307', '0114936', '3725832', '2771693', '1288656', '2848892', '2230653', '2072614', '2005011', '0114939'}, '0074575': {'0147482', '0147478', '8333206', '9122505', '3509560', '4916645', '1665134', '2098709', '2025322', '2156506', '1213788', '1624226', '1522122', '1657333', '0147479', '2286214', '1695078', '10139370', '8698101', '1054106', '0147481', '6856617', '7854361', '1698499', '2115528', '2850242', '1094220', '1773963', '1493616', '1364548', '3189658', '7532499', '5666357', '2233691', '2856805', '1857920', '2514275', '0147480', '1474476', '3537885', '1532393', '1221904', '2037303', '1685382', '9507527', '9353212', '1953805', '1118789', '4603528', '2541310', '1222014', '2199139', '1462357', '1795687', '1932762', '2074008', '1982229', '1987910', '1969105', '2731749', '3605089'}, '0082193': {'5078797', '2384590', '1107863', '2089546', '5841624', '6597894', '1760693', '6005622', '6779602', '4517846', '1218209', '0183530', '9850335', '3435152', '0183531', '0183529', '0183525', '5100019', '2626458', '1364949', '10209153', '4251018', '0183526', '6364175', '8831515', '0183527', '0183528', '0183524'}, '0091834': {'0237002', '0237008', '0237006', '0237003', '7204325', '2060613', '8299059', '0237005', '2247462', '7211254', '1143194', '10254030', '7909215', '6950115', '1160934', '5913675', '9025140', '0237009', '1417486', '0237010', '1895046', '0237004', '7216677', '6034063', '3428617', '0237007'}, '0107863': {'9894873', '1652235', '1983043', '4314909', '0327065', '0327058', '0327062', '0327060', '7526026', '1993021', '3176384', '1812427', '4718388', '1259003', '0327057', '1959050', '0327059', '3454124', '0327069', '8391811', '0327064', '0327063', '3221956', '4184585', '0327072', '3638128', '4496279', '0327068', '3063791', '1612938', '2445684', '2832717', '0327071', '0327067', '4091682', '5141722', '8290150', '4980844', '7999830', '0327073'}, '0849441': {'2029505', '8370611', '2058777', '1920378', '2017996', '1920438', '1996416', '2183072', '1919792', '2028506', '1696111', '1982164', '2003695', '7199810', '2026247', '1986793', '1925150', '2502848', '2160350', '1921695', '2002266', '2124353', '1978739', '1967874', '1977563', '1975364', '1935679', '1685751', '2166709', '1787098', '1968649', '2350475', '2978606', '3044899', '2018537', '1971004', '9170472', '1694526', '2018140', '1919491'}, '10303892': {'5917472', '5138364', '5123804', '5145042', '4979456', '6334814', '5193039', '4935172', '4944530', '4964555', '5924657', '6470597', '4945914', '5167294', '5134737', '5156441', '5136675', '5313792', '4935583', '5137059', '5135780', '5141563', '4955541', '5815012', '10045490', '4978765', '5060253', '4943467', '4951515', '5068382', '6656219', '5199680', '5363020', '4940237', '5240579', '5292442', '8095401', '5123675', '4935672', '4937263', '5135093', '7217157', '5306542', '5134665', '4940374', '4968554'}, '11833692': {'7947359', '7910660', '9430205', '7941644', '9001715', '7991455', '7951766', '8003123', '8769983', '7922907', '8286060', '8038027', '7904561', '7922676', '8146937', '7926762', '8033348', '8073490', '9440626', '9205642', '7905159', '8098203', '7917821', '9248573', '8049254', '8219564'}, '11833710': {'7402983', '9109793', '7402732', '7349060', '7397691', '7334479', '7385869', '7332695', '7790560', '9564097', '8447314', '7404289', '7805236', '7408496', '7616659', '8770214', '7808126', '7329745', '7854359', '7336475', '7349834', '8192626', '7333251', '7539156', '7408394', '7358880', '7495675', '7339729', '7335252', '7329793', '7575014', '7426454', '8493200', '7340534', '7665906', '8307648', '7377385', '10115560', '9268753', '7366028', '7334787', '7501438', '7367810', '7365392', '7325909', '7701830', '7337463', '8563355', '7334057', '7411394', '7330062', '8999551', '7933690', '7358593', '7433313', '9924572', '7837584', '7722212'}, '1843834': {'3309577', '2458228', '2483359', '8319122', '2451488', '2888709', '2450184', '2449954', '2449940', '2446313', '2450881', '2449947', '3418665', '2468508', '2459211', '2450537', '2451470', '2453762', '2731367', '2451467', '2491590', '2528002', '4770397', '2879886', '2446322', '2554407', '2446321', '2567623', '2446334', '2446328'}, '5379294': {'7007568', '3858732', '3857960', '3866945', '7067490', '6904396', '8801291', '5400574', '3872240', '5633187', '3856582', '7084076', '5400708', '7848740', '3860647', '5420465', '4030452', '3856186', '7160458', '5661486', '4007478', '6735922', '3878196', '5258394', '5404661', '4955232', '9171867', '4770813', '3857164', '7080666', '6519279', '3856454', '4202974'}, '5960386': {'4105463', '4368103', '5538590', '4105632', '4334931', '4098426', '5567911', '4994065', '6712239', '5535472', '4105350', '5605346', '4103998', '4097310', '8087674', '5952356', '4237529', '9563768', '4098607', '4989277', '4095902', '4333474', '4105366', '4099511', '4115469', '4097457', '5623633', '4980097', '4103910', '5697036', '4101100', '4105673', '4097802', '4095996', '5268547', '4980339', '8873622', '8397281', '7102667', '4138944', '4107199', '4335471', '5096984', '5039601'}, '9021234': {'6118041', '6320308', '5960117', '4925507', '6044001', '6120372', '4887916', '5765699', '5847518', '6054192', '5976622', '4967089', '4921326', '6048752', '5791728', '4968572', '4891853', '4932510', '7702283', '5782661', '6083295', '8070406', '8255211', '6092325', '5899478', '8172983', '5738180', '5519934', '8282793', '7667282', '5954110', '5924244', '5834744', '4933734', '6089737', '4937877', '6627870', '4971422', '7046555', '9991307', '5866465', '4925493'}, '9302994': {'7193796', '5820504', '9112981', '5909191', '6361102', '6490381', '6350708', '6542437', '10173252', '6232250', '5850258', '6523857', '6366419', '7205134', '6532106', '6407665', '6451039', '6385626', '5850238', '6240163', '5962927', '5908989', '6347119', '8782683', '5916682', '5850295', '7699353', '5847698', '5850179', '5847538', '5949289', '5849428', '6284736', '9541801', '5870355', '5957140', '7495781', '6444486', '5884504', '5891315', '6739472', '5844222', '5929020', '5850492', '6002427', '6326139', '5924348', '8441864', '6436736'}}\n",
      "Final Western Movies Dataset:           MovieID                                  Title  Year Duration  \\\n",
      "2431    tt0007755                       Bucking Broadway  1917       53   \n",
      "9383    tt0016461                            Tumbleweeds  1925       78   \n",
      "11135   tt0018571                             White Gold  1927       73   \n",
      "12305   tt0019976                          Hell's Heroes  1929       68   \n",
      "13027   tt0020884  Fighting Thru; or, California in 1878  1930       61   \n",
      "...           ...                                    ...   ...      ...   \n",
      "379517  tt1843834                     A Cold Day in Hell  2011       95   \n",
      "605209  tt5379294                             The Killer  2017       99   \n",
      "620043  tt5960386                             Wild Faith  2018      100   \n",
      "686770  tt9021234              The Legend of 5 Mile Cave  2019       90   \n",
      "692020  tt9302994                    A Soldier's Revenge  2020      140   \n",
      "\n",
      "         Genres  Rating  NumVotes  \n",
      "2431    Western     6.1     710.0  \n",
      "9383    Western     6.5     691.0  \n",
      "11135   Western     6.7     108.0  \n",
      "12305   Western     7.2    1082.0  \n",
      "13027   Western     5.7      51.0  \n",
      "...         ...     ...       ...  \n",
      "379517  Western     2.1     520.0  \n",
      "605209  Western     6.0    2945.0  \n",
      "620043  Western     4.9     910.0  \n",
      "686770  Western     6.2    1065.0  \n",
      "692020  Western     3.8    1057.0  \n",
      "\n",
      "[133 rows x 7 columns]\n"
     ]
    }
   ],
   "source": [
    "import pickle\n",
    "\n",
    "# File path\n",
    "file_path = \"C:/Users/aless/Desktop/DNLP_Project/western_stuff.pkl\"\n",
    "\n",
    "# Upload data\n",
    "with open(file_path, \"rb\") as file:\n",
    "    discarded_western_ids, valid_western_review_ids, final_western_movies_dataset = pickle.load(file)\n",
    "\n",
    "print(\"Data uploaded!\")\n",
    "print(\"discarded_western_ids:\", discarded_western_ids)\n",
    "print(\"valid_western_review_ids:\", valid_western_review_ids)\n",
    "print(\"Final Western Movies Dataset:\", final_western_movies_dataset)\n"
   ]
  },
  {
   "cell_type": "markdown",
   "metadata": {},
   "source": [
    "Retrieve all selected reviews and store them in a dataframe"
   ]
  },
  {
   "cell_type": "code",
   "execution_count": 53,
   "metadata": {},
   "outputs": [
    {
     "name": "stdout",
     "output_type": "stream",
     "text": [
      "Movie id:0019976\n"
     ]
    },
    {
     "name": "stderr",
     "output_type": "stream",
     "text": [
      "retrieving reviews: 100%|██████████| 34/34 [00:37<00:00,  1.10s/review]\n"
     ]
    },
    {
     "name": "stdout",
     "output_type": "stream",
     "text": [
      "Movie id:0024674\n"
     ]
    },
    {
     "name": "stderr",
     "output_type": "stream",
     "text": [
      "retrieving reviews: 100%|██████████| 30/30 [00:34<00:00,  1.15s/review]\n"
     ]
    },
    {
     "name": "stdout",
     "output_type": "stream",
     "text": [
      "Movie id:0028367\n"
     ]
    },
    {
     "name": "stderr",
     "output_type": "stream",
     "text": [
      "retrieving reviews: 100%|██████████| 29/29 [00:31<00:00,  1.10s/review]\n"
     ]
    },
    {
     "name": "stdout",
     "output_type": "stream",
     "text": [
      "Movie id:0031235\n"
     ]
    },
    {
     "name": "stderr",
     "output_type": "stream",
     "text": [
      "retrieving reviews: 100%|██████████| 74/74 [01:19<00:00,  1.08s/review]\n"
     ]
    },
    {
     "name": "stdout",
     "output_type": "stream",
     "text": [
      "Movie id:0031507\n"
     ]
    },
    {
     "name": "stderr",
     "output_type": "stream",
     "text": [
      "retrieving reviews: 100%|██████████| 66/66 [01:12<00:00,  1.09s/review]\n"
     ]
    },
    {
     "name": "stdout",
     "output_type": "stream",
     "text": [
      "Movie id:0033226\n"
     ]
    },
    {
     "name": "stderr",
     "output_type": "stream",
     "text": [
      "retrieving reviews: 100%|██████████| 52/52 [00:56<00:00,  1.09s/review]\n"
     ]
    },
    {
     "name": "stdout",
     "output_type": "stream",
     "text": [
      "Movie id:0033383\n"
     ]
    },
    {
     "name": "stderr",
     "output_type": "stream",
     "text": [
      "retrieving reviews: 100%|██████████| 31/31 [00:33<00:00,  1.07s/review]\n"
     ]
    },
    {
     "name": "stdout",
     "output_type": "stream",
     "text": [
      "Movie id:0033389\n"
     ]
    },
    {
     "name": "stderr",
     "output_type": "stream",
     "text": [
      "retrieving reviews: 100%|██████████| 30/30 [00:32<00:00,  1.09s/review]\n"
     ]
    },
    {
     "name": "stdout",
     "output_type": "stream",
     "text": [
      "Movie id:0034889\n"
     ]
    },
    {
     "name": "stderr",
     "output_type": "stream",
     "text": [
      "retrieving reviews: 100%|██████████| 28/28 [00:30<00:00,  1.09s/review]\n"
     ]
    },
    {
     "name": "stdout",
     "output_type": "stream",
     "text": [
      "Movie id:0035798\n"
     ]
    },
    {
     "name": "stderr",
     "output_type": "stream",
     "text": [
      "retrieving reviews: 100%|██████████| 40/40 [00:43<00:00,  1.08s/review]\n"
     ]
    },
    {
     "name": "stdout",
     "output_type": "stream",
     "text": [
      "Movie id:0037343\n"
     ]
    },
    {
     "name": "stderr",
     "output_type": "stream",
     "text": [
      "retrieving reviews: 100%|██████████| 66/66 [01:10<00:00,  1.07s/review]\n"
     ]
    },
    {
     "name": "stdout",
     "output_type": "stream",
     "text": [
      "Movie id:0038048\n"
     ]
    },
    {
     "name": "stderr",
     "output_type": "stream",
     "text": [
      "retrieving reviews: 100%|██████████| 41/41 [00:45<00:00,  1.10s/review]\n"
     ]
    },
    {
     "name": "stdout",
     "output_type": "stream",
     "text": [
      "Movie id:0038284\n"
     ]
    },
    {
     "name": "stderr",
     "output_type": "stream",
     "text": [
      "retrieving reviews: 100%|██████████| 38/38 [00:41<00:00,  1.10s/review]\n"
     ]
    },
    {
     "name": "stdout",
     "output_type": "stream",
     "text": [
      "Movie id:0038392\n"
     ]
    },
    {
     "name": "stderr",
     "output_type": "stream",
     "text": [
      "retrieving reviews: 100%|██████████| 26/26 [00:28<00:00,  1.08s/review]\n"
     ]
    },
    {
     "name": "stdout",
     "output_type": "stream",
     "text": [
      "Movie id:0038395\n"
     ]
    },
    {
     "name": "stderr",
     "output_type": "stream",
     "text": [
      "retrieving reviews: 100%|██████████| 48/48 [00:53<00:00,  1.11s/review]\n"
     ]
    },
    {
     "name": "stdout",
     "output_type": "stream",
     "text": [
      "Movie id:0039441\n"
     ]
    },
    {
     "name": "stderr",
     "output_type": "stream",
     "text": [
      "retrieving reviews: 100%|██████████| 26/26 [00:27<00:00,  1.05s/review]\n"
     ]
    },
    {
     "name": "stdout",
     "output_type": "stream",
     "text": [
      "Movie id:0039737\n"
     ]
    },
    {
     "name": "stderr",
     "output_type": "stream",
     "text": [
      "retrieving reviews: 100%|██████████| 57/57 [01:02<00:00,  1.10s/review]\n"
     ]
    },
    {
     "name": "stdout",
     "output_type": "stream",
     "text": [
      "Movie id:0039908\n"
     ]
    },
    {
     "name": "stderr",
     "output_type": "stream",
     "text": [
      "retrieving reviews: 100%|██████████| 26/26 [00:27<00:00,  1.08s/review]\n"
     ]
    },
    {
     "name": "stdout",
     "output_type": "stream",
     "text": [
      "Movie id:0040370\n"
     ]
    },
    {
     "name": "stderr",
     "output_type": "stream",
     "text": [
      "retrieving reviews: 100%|██████████| 27/27 [00:29<00:00,  1.08s/review]\n"
     ]
    },
    {
     "name": "stdout",
     "output_type": "stream",
     "text": [
      "Movie id:0040732\n"
     ]
    },
    {
     "name": "stderr",
     "output_type": "stream",
     "text": [
      "retrieving reviews: 100%|██████████| 28/28 [00:30<00:00,  1.08s/review]\n"
     ]
    },
    {
     "name": "stdout",
     "output_type": "stream",
     "text": [
      "Movie id:0040965\n"
     ]
    },
    {
     "name": "stderr",
     "output_type": "stream",
     "text": [
      "retrieving reviews: 100%|██████████| 34/34 [00:36<00:00,  1.09s/review]\n"
     ]
    },
    {
     "name": "stdout",
     "output_type": "stream",
     "text": [
      "Movie id:0041253\n"
     ]
    },
    {
     "name": "stderr",
     "output_type": "stream",
     "text": [
      "retrieving reviews: 100%|██████████| 54/54 [00:58<00:00,  1.09s/review]\n"
     ]
    },
    {
     "name": "stdout",
     "output_type": "stream",
     "text": [
      "Movie id:0041497\n"
     ]
    },
    {
     "name": "stderr",
     "output_type": "stream",
     "text": [
      "retrieving reviews: 100%|██████████| 32/32 [00:35<00:00,  1.11s/review]\n"
     ]
    },
    {
     "name": "stdout",
     "output_type": "stream",
     "text": [
      "Movie id:0041866\n"
     ]
    },
    {
     "name": "stderr",
     "output_type": "stream",
     "text": [
      "retrieving reviews: 100%|██████████| 133/133 [02:26<00:00,  1.10s/review]\n"
     ]
    },
    {
     "name": "stdout",
     "output_type": "stream",
     "text": [
      "Movie id:0042338\n"
     ]
    },
    {
     "name": "stderr",
     "output_type": "stream",
     "text": [
      "retrieving reviews: 100%|██████████| 36/36 [00:39<00:00,  1.10s/review]\n"
     ]
    },
    {
     "name": "stdout",
     "output_type": "stream",
     "text": [
      "Movie id:0042344\n"
     ]
    },
    {
     "name": "stderr",
     "output_type": "stream",
     "text": [
      "retrieving reviews: 100%|██████████| 30/30 [00:32<00:00,  1.09s/review]\n"
     ]
    },
    {
     "name": "stdout",
     "output_type": "stream",
     "text": [
      "Movie id:0042372\n"
     ]
    },
    {
     "name": "stderr",
     "output_type": "stream",
     "text": [
      "retrieving reviews: 100%|██████████| 29/29 [00:32<00:00,  1.12s/review]\n"
     ]
    },
    {
     "name": "stdout",
     "output_type": "stream",
     "text": [
      "Movie id:0042395\n"
     ]
    },
    {
     "name": "stderr",
     "output_type": "stream",
     "text": [
      "retrieving reviews: 100%|██████████| 42/42 [00:46<00:00,  1.11s/review]\n"
     ]
    },
    {
     "name": "stdout",
     "output_type": "stream",
     "text": [
      "Movie id:0042490\n"
     ]
    },
    {
     "name": "stderr",
     "output_type": "stream",
     "text": [
      "retrieving reviews: 100%|██████████| 45/45 [00:50<00:00,  1.12s/review]\n"
     ]
    },
    {
     "name": "stdout",
     "output_type": "stream",
     "text": [
      "Movie id:0042531\n"
     ]
    },
    {
     "name": "stderr",
     "output_type": "stream",
     "text": [
      "retrieving reviews: 100%|██████████| 110/110 [02:03<00:00,  1.13s/review]\n"
     ]
    },
    {
     "name": "stdout",
     "output_type": "stream",
     "text": [
      "Movie id:0043276\n"
     ]
    },
    {
     "name": "stderr",
     "output_type": "stream",
     "text": [
      "retrieving reviews: 100%|██████████| 36/36 [00:39<00:00,  1.11s/review]\n"
     ]
    },
    {
     "name": "stdout",
     "output_type": "stream",
     "text": [
      "Movie id:0043482\n"
     ]
    },
    {
     "name": "stderr",
     "output_type": "stream",
     "text": [
      "retrieving reviews: 100%|██████████| 28/28 [00:30<00:00,  1.10s/review]\n"
     ]
    },
    {
     "name": "stdout",
     "output_type": "stream",
     "text": [
      "Movie id:0043781\n"
     ]
    },
    {
     "name": "stderr",
     "output_type": "stream",
     "text": [
      "retrieving reviews: 100%|██████████| 32/32 [00:35<00:00,  1.11s/review]\n"
     ]
    },
    {
     "name": "stdout",
     "output_type": "stream",
     "text": [
      "Movie id:0044015\n"
     ]
    },
    {
     "name": "stderr",
     "output_type": "stream",
     "text": [
      "retrieving reviews: 100%|██████████| 31/31 [00:35<00:00,  1.14s/review]\n"
     ]
    },
    {
     "name": "stdout",
     "output_type": "stream",
     "text": [
      "Movie id:0044186\n"
     ]
    },
    {
     "name": "stderr",
     "output_type": "stream",
     "text": [
      "retrieving reviews: 100%|██████████| 54/54 [00:58<00:00,  1.08s/review]\n"
     ]
    },
    {
     "name": "stdout",
     "output_type": "stream",
     "text": [
      "Movie id:0044488\n"
     ]
    },
    {
     "name": "stderr",
     "output_type": "stream",
     "text": [
      "retrieving reviews: 100%|██████████| 29/29 [00:31<00:00,  1.09s/review]\n"
     ]
    },
    {
     "name": "stdout",
     "output_type": "stream",
     "text": [
      "Movie id:0044573\n"
     ]
    },
    {
     "name": "stderr",
     "output_type": "stream",
     "text": [
      "retrieving reviews: 100%|██████████| 32/32 [00:34<00:00,  1.08s/review]\n"
     ]
    },
    {
     "name": "stdout",
     "output_type": "stream",
     "text": [
      "Movie id:0044683\n"
     ]
    },
    {
     "name": "stderr",
     "output_type": "stream",
     "text": [
      "retrieving reviews: 100%|██████████| 36/36 [00:38<00:00,  1.08s/review]\n"
     ]
    },
    {
     "name": "stdout",
     "output_type": "stream",
     "text": [
      "Movie id:0045070\n"
     ]
    },
    {
     "name": "stderr",
     "output_type": "stream",
     "text": [
      "retrieving reviews: 100%|██████████| 58/58 [01:04<00:00,  1.12s/review]\n"
     ]
    },
    {
     "name": "stdout",
     "output_type": "stream",
     "text": [
      "Movie id:0045737\n"
     ]
    },
    {
     "name": "stderr",
     "output_type": "stream",
     "text": [
      "retrieving reviews: 100%|██████████| 53/53 [00:57<00:00,  1.09s/review]\n"
     ]
    },
    {
     "name": "stdout",
     "output_type": "stream",
     "text": [
      "Movie id:0045954\n"
     ]
    },
    {
     "name": "stderr",
     "output_type": "stream",
     "text": [
      "retrieving reviews: 100%|██████████| 26/26 [00:28<00:00,  1.10s/review]\n"
     ]
    },
    {
     "name": "stdout",
     "output_type": "stream",
     "text": [
      "Movie id:0046035\n"
     ]
    },
    {
     "name": "stderr",
     "output_type": "stream",
     "text": [
      "retrieving reviews: 100%|██████████| 26/26 [00:28<00:00,  1.08s/review]\n"
     ]
    },
    {
     "name": "stdout",
     "output_type": "stream",
     "text": [
      "Movie id:0046801\n"
     ]
    },
    {
     "name": "stderr",
     "output_type": "stream",
     "text": [
      "retrieving reviews: 100%|██████████| 31/31 [00:34<00:00,  1.12s/review]\n"
     ]
    },
    {
     "name": "stdout",
     "output_type": "stream",
     "text": [
      "Movie id:0046906\n"
     ]
    },
    {
     "name": "stderr",
     "output_type": "stream",
     "text": [
      "retrieving reviews: 100%|██████████| 38/38 [00:41<00:00,  1.10s/review]\n"
     ]
    },
    {
     "name": "stdout",
     "output_type": "stream",
     "text": [
      "Movie id:0047413\n"
     ]
    },
    {
     "name": "stderr",
     "output_type": "stream",
     "text": [
      "retrieving reviews: 100%|██████████| 42/42 [00:47<00:00,  1.12s/review]\n"
     ]
    },
    {
     "name": "stdout",
     "output_type": "stream",
     "text": [
      "Movie id:0047495\n"
     ]
    },
    {
     "name": "stderr",
     "output_type": "stream",
     "text": [
      "retrieving reviews: 100%|██████████| 35/35 [00:37<00:00,  1.08s/review]\n"
     ]
    },
    {
     "name": "stdout",
     "output_type": "stream",
     "text": [
      "Movie id:0047581\n"
     ]
    },
    {
     "name": "stderr",
     "output_type": "stream",
     "text": [
      "retrieving reviews: 100%|██████████| 28/28 [00:30<00:00,  1.08s/review]\n"
     ]
    },
    {
     "name": "stdout",
     "output_type": "stream",
     "text": [
      "Movie id:0048289\n"
     ]
    },
    {
     "name": "stderr",
     "output_type": "stream",
     "text": [
      "retrieving reviews: 100%|██████████| 31/31 [00:34<00:00,  1.12s/review]\n"
     ]
    },
    {
     "name": "stdout",
     "output_type": "stream",
     "text": [
      "Movie id:0048336\n"
     ]
    },
    {
     "name": "stderr",
     "output_type": "stream",
     "text": [
      "retrieving reviews: 100%|██████████| 34/34 [00:37<00:00,  1.10s/review]\n"
     ]
    },
    {
     "name": "stdout",
     "output_type": "stream",
     "text": [
      "Movie id:0048339\n"
     ]
    },
    {
     "name": "stderr",
     "output_type": "stream",
     "text": [
      "retrieving reviews: 100%|██████████| 37/37 [00:40<00:00,  1.10s/review]\n"
     ]
    },
    {
     "name": "stdout",
     "output_type": "stream",
     "text": [
      "Movie id:0048340\n"
     ]
    },
    {
     "name": "stderr",
     "output_type": "stream",
     "text": [
      "retrieving reviews: 100%|██████████| 48/48 [00:52<00:00,  1.10s/review]\n"
     ]
    },
    {
     "name": "stdout",
     "output_type": "stream",
     "text": [
      "Movie id:0048535\n"
     ]
    },
    {
     "name": "stderr",
     "output_type": "stream",
     "text": [
      "retrieving reviews: 100%|██████████| 38/38 [00:41<00:00,  1.08s/review]\n"
     ]
    },
    {
     "name": "stdout",
     "output_type": "stream",
     "text": [
      "Movie id:0048691\n"
     ]
    },
    {
     "name": "stderr",
     "output_type": "stream",
     "text": [
      "retrieving reviews: 100%|██████████| 55/55 [01:00<00:00,  1.10s/review]\n"
     ]
    },
    {
     "name": "stdout",
     "output_type": "stream",
     "text": [
      "Movie id:0048789\n"
     ]
    },
    {
     "name": "stderr",
     "output_type": "stream",
     "text": [
      "retrieving reviews: 100%|██████████| 52/52 [00:56<00:00,  1.09s/review]\n"
     ]
    },
    {
     "name": "stdout",
     "output_type": "stream",
     "text": [
      "Movie id:0048806\n"
     ]
    },
    {
     "name": "stderr",
     "output_type": "stream",
     "text": [
      "retrieving reviews: 100%|██████████| 30/30 [00:32<00:00,  1.08s/review]\n"
     ]
    },
    {
     "name": "stdout",
     "output_type": "stream",
     "text": [
      "Movie id:0049278\n"
     ]
    },
    {
     "name": "stderr",
     "output_type": "stream",
     "text": [
      "retrieving reviews: 100%|██████████| 28/28 [00:30<00:00,  1.09s/review]\n"
     ]
    },
    {
     "name": "stdout",
     "output_type": "stream",
     "text": [
      "Movie id:0049287\n"
     ]
    },
    {
     "name": "stderr",
     "output_type": "stream",
     "text": [
      "retrieving reviews: 100%|██████████| 39/39 [00:42<00:00,  1.10s/review]\n"
     ]
    },
    {
     "name": "stdout",
     "output_type": "stream",
     "text": [
      "Movie id:0049434\n"
     ]
    },
    {
     "name": "stderr",
     "output_type": "stream",
     "text": [
      "retrieving reviews: 100%|██████████| 46/46 [00:51<00:00,  1.11s/review]\n"
     ]
    },
    {
     "name": "stdout",
     "output_type": "stream",
     "text": [
      "Movie id:0049639\n"
     ]
    },
    {
     "name": "stderr",
     "output_type": "stream",
     "text": [
      "retrieving reviews: 100%|██████████| 44/44 [00:50<00:00,  1.15s/review]\n"
     ]
    },
    {
     "name": "stdout",
     "output_type": "stream",
     "text": [
      "Movie id:0049743\n"
     ]
    },
    {
     "name": "stderr",
     "output_type": "stream",
     "text": [
      "retrieving reviews: 100%|██████████| 66/66 [01:12<00:00,  1.10s/review]\n"
     ]
    },
    {
     "name": "stdout",
     "output_type": "stream",
     "text": [
      "Movie id:0049745\n"
     ]
    },
    {
     "name": "stderr",
     "output_type": "stream",
     "text": [
      "retrieving reviews: 100%|██████████| 43/43 [00:47<00:00,  1.09s/review]\n"
     ]
    },
    {
     "name": "stdout",
     "output_type": "stream",
     "text": [
      "Movie id:0049834\n"
     ]
    },
    {
     "name": "stderr",
     "output_type": "stream",
     "text": [
      "retrieving reviews: 100%|██████████| 29/29 [00:31<00:00,  1.09s/review]\n"
     ]
    },
    {
     "name": "stdout",
     "output_type": "stream",
     "text": [
      "Movie id:0050296\n"
     ]
    },
    {
     "name": "stderr",
     "output_type": "stream",
     "text": [
      "retrieving reviews: 100%|██████████| 56/56 [01:01<00:00,  1.10s/review]\n"
     ]
    },
    {
     "name": "stdout",
     "output_type": "stream",
     "text": [
      "Movie id:0051047\n"
     ]
    },
    {
     "name": "stderr",
     "output_type": "stream",
     "text": [
      "retrieving reviews: 100%|██████████| 88/88 [01:38<00:00,  1.12s/review]\n"
     ]
    },
    {
     "name": "stdout",
     "output_type": "stream",
     "text": [
      "Movie id:0051087\n"
     ]
    },
    {
     "name": "stderr",
     "output_type": "stream",
     "text": [
      "retrieving reviews: 100%|██████████| 60/60 [01:06<00:00,  1.10s/review]\n"
     ]
    },
    {
     "name": "stdout",
     "output_type": "stream",
     "text": [
      "Movie id:0051393\n"
     ]
    },
    {
     "name": "stderr",
     "output_type": "stream",
     "text": [
      "retrieving reviews: 100%|██████████| 39/39 [00:43<00:00,  1.10s/review]\n"
     ]
    },
    {
     "name": "stdout",
     "output_type": "stream",
     "text": [
      "Movie id:0051628\n"
     ]
    },
    {
     "name": "stderr",
     "output_type": "stream",
     "text": [
      "retrieving reviews: 100%|██████████| 29/29 [00:31<00:00,  1.10s/review]\n"
     ]
    },
    {
     "name": "stdout",
     "output_type": "stream",
     "text": [
      "Movie id:0051629\n"
     ]
    },
    {
     "name": "stderr",
     "output_type": "stream",
     "text": [
      "retrieving reviews: 100%|██████████| 34/34 [00:37<00:00,  1.10s/review]\n"
     ]
    },
    {
     "name": "stdout",
     "output_type": "stream",
     "text": [
      "Movie id:0051673\n"
     ]
    },
    {
     "name": "stderr",
     "output_type": "stream",
     "text": [
      "retrieving reviews: 100%|██████████| 29/29 [00:32<00:00,  1.12s/review]\n"
     ]
    },
    {
     "name": "stdout",
     "output_type": "stream",
     "text": [
      "Movie id:0051690\n"
     ]
    },
    {
     "name": "stderr",
     "output_type": "stream",
     "text": [
      "retrieving reviews: 100%|██████████| 42/42 [00:46<00:00,  1.11s/review]\n"
     ]
    },
    {
     "name": "stdout",
     "output_type": "stream",
     "text": [
      "Movie id:0051848\n"
     ]
    },
    {
     "name": "stderr",
     "output_type": "stream",
     "text": [
      "retrieving reviews: 100%|██████████| 49/49 [00:54<00:00,  1.10s/review]\n"
     ]
    },
    {
     "name": "stdout",
     "output_type": "stream",
     "text": [
      "Movie id:0051899\n"
     ]
    },
    {
     "name": "stderr",
     "output_type": "stream",
     "text": [
      "retrieving reviews: 100%|██████████| 84/84 [01:34<00:00,  1.12s/review]\n"
     ]
    },
    {
     "name": "stdout",
     "output_type": "stream",
     "text": [
      "Movie id:0052002\n"
     ]
    },
    {
     "name": "stderr",
     "output_type": "stream",
     "text": [
      "retrieving reviews: 100%|██████████| 49/49 [00:54<00:00,  1.11s/review]\n"
     ]
    },
    {
     "name": "stdout",
     "output_type": "stream",
     "text": [
      "Movie id:0052190\n"
     ]
    },
    {
     "name": "stderr",
     "output_type": "stream",
     "text": [
      "retrieving reviews: 100%|██████████| 42/42 [00:47<00:00,  1.12s/review]\n"
     ]
    },
    {
     "name": "stdout",
     "output_type": "stream",
     "text": [
      "Movie id:0052287\n"
     ]
    },
    {
     "name": "stderr",
     "output_type": "stream",
     "text": [
      "retrieving reviews: 100%|██████████| 47/47 [00:51<00:00,  1.09s/review]\n"
     ]
    },
    {
     "name": "stdout",
     "output_type": "stream",
     "text": [
      "Movie id:0052876\n"
     ]
    },
    {
     "name": "stderr",
     "output_type": "stream",
     "text": [
      "retrieving reviews: 100%|██████████| 59/59 [01:05<00:00,  1.11s/review]\n"
     ]
    },
    {
     "name": "stdout",
     "output_type": "stream",
     "text": [
      "Movie id:0052993\n"
     ]
    },
    {
     "name": "stderr",
     "output_type": "stream",
     "text": [
      "retrieving reviews: 100%|██████████| 93/93 [01:42<00:00,  1.10s/review]\n"
     ]
    },
    {
     "name": "stdout",
     "output_type": "stream",
     "text": [
      "Movie id:0053220\n"
     ]
    },
    {
     "name": "stderr",
     "output_type": "stream",
     "text": [
      "retrieving reviews: 100%|██████████| 90/90 [01:40<00:00,  1.12s/review]\n"
     ]
    },
    {
     "name": "stdout",
     "output_type": "stream",
     "text": [
      "Movie id:0053221\n"
     ]
    },
    {
     "name": "stderr",
     "output_type": "stream",
     "text": [
      "retrieving reviews: 100%|██████████| 288/288 [05:27<00:00,  1.14s/review]\n"
     ]
    },
    {
     "name": "stdout",
     "output_type": "stream",
     "text": [
      "Movie id:0053434\n"
     ]
    },
    {
     "name": "stderr",
     "output_type": "stream",
     "text": [
      "retrieving reviews: 100%|██████████| 95/95 [01:45<00:00,  1.11s/review]\n"
     ]
    },
    {
     "name": "stdout",
     "output_type": "stream",
     "text": [
      "Movie id:0053441\n"
     ]
    },
    {
     "name": "stderr",
     "output_type": "stream",
     "text": [
      "retrieving reviews: 100%|██████████| 31/31 [00:34<00:00,  1.12s/review]\n"
     ]
    },
    {
     "name": "stdout",
     "output_type": "stream",
     "text": [
      "Movie id:0053457\n"
     ]
    },
    {
     "name": "stderr",
     "output_type": "stream",
     "text": [
      "retrieving reviews: 100%|██████████| 34/34 [00:38<00:00,  1.14s/review]\n"
     ]
    },
    {
     "name": "stdout",
     "output_type": "stream",
     "text": [
      "Movie id:0053825\n"
     ]
    },
    {
     "name": "stderr",
     "output_type": "stream",
     "text": [
      "retrieving reviews: 100%|██████████| 73/73 [01:20<00:00,  1.10s/review]\n"
     ]
    },
    {
     "name": "stdout",
     "output_type": "stream",
     "text": [
      "Movie id:0057851\n"
     ]
    },
    {
     "name": "stderr",
     "output_type": "stream",
     "text": [
      "retrieving reviews: 100%|██████████| 43/43 [00:47<00:00,  1.09s/review]\n"
     ]
    },
    {
     "name": "stdout",
     "output_type": "stream",
     "text": [
      "Movie id:0058238\n"
     ]
    },
    {
     "name": "stderr",
     "output_type": "stream",
     "text": [
      "retrieving reviews: 100%|██████████| 36/36 [00:40<00:00,  1.11s/review]\n"
     ]
    },
    {
     "name": "stdout",
     "output_type": "stream",
     "text": [
      "Movie id:0058507\n"
     ]
    },
    {
     "name": "stderr",
     "output_type": "stream",
     "text": [
      "retrieving reviews: 100%|██████████| 29/29 [00:32<00:00,  1.12s/review]\n"
     ]
    },
    {
     "name": "stdout",
     "output_type": "stream",
     "text": [
      "Movie id:0058525\n"
     ]
    },
    {
     "name": "stderr",
     "output_type": "stream",
     "text": [
      "retrieving reviews: 100%|██████████| 49/49 [00:54<00:00,  1.11s/review]\n"
     ]
    },
    {
     "name": "stdout",
     "output_type": "stream",
     "text": [
      "Movie id:0059017\n"
     ]
    },
    {
     "name": "stderr",
     "output_type": "stream",
     "text": [
      "retrieving reviews: 100%|██████████| 121/121 [02:15<00:00,  1.12s/review]\n"
     ]
    },
    {
     "name": "stdout",
     "output_type": "stream",
     "text": [
      "Movie id:0060095\n"
     ]
    },
    {
     "name": "stderr",
     "output_type": "stream",
     "text": [
      "retrieving reviews: 100%|██████████| 39/39 [00:48<00:00,  1.24s/review]\n"
     ]
    },
    {
     "name": "stdout",
     "output_type": "stream",
     "text": [
      "Movie id:0060165\n"
     ]
    },
    {
     "name": "stderr",
     "output_type": "stream",
     "text": [
      "retrieving reviews: 100%|██████████| 73/73 [01:21<00:00,  1.11s/review]\n"
     ]
    },
    {
     "name": "stdout",
     "output_type": "stream",
     "text": [
      "Movie id:0060884\n"
     ]
    },
    {
     "name": "stderr",
     "output_type": "stream",
     "text": [
      "retrieving reviews: 100%|██████████| 40/40 [00:44<00:00,  1.12s/review]\n"
     ]
    },
    {
     "name": "stdout",
     "output_type": "stream",
     "text": [
      "Movie id:0061477\n"
     ]
    },
    {
     "name": "stderr",
     "output_type": "stream",
     "text": [
      "retrieving reviews: 100%|██████████| 28/28 [00:31<00:00,  1.12s/review]\n"
     ]
    },
    {
     "name": "stdout",
     "output_type": "stream",
     "text": [
      "Movie id:0061497\n"
     ]
    },
    {
     "name": "stderr",
     "output_type": "stream",
     "text": [
      "retrieving reviews: 100%|██████████| 48/48 [00:52<00:00,  1.10s/review]\n"
     ]
    },
    {
     "name": "stdout",
     "output_type": "stream",
     "text": [
      "Movie id:0061636\n"
     ]
    },
    {
     "name": "stderr",
     "output_type": "stream",
     "text": [
      "retrieving reviews: 100%|██████████| 27/27 [00:31<00:00,  1.16s/review]\n"
     ]
    },
    {
     "name": "stdout",
     "output_type": "stream",
     "text": [
      "Movie id:0061893\n"
     ]
    },
    {
     "name": "stderr",
     "output_type": "stream",
     "text": [
      "retrieving reviews: 100%|██████████| 27/27 [00:29<00:00,  1.09s/review]\n"
     ]
    },
    {
     "name": "stdout",
     "output_type": "stream",
     "text": [
      "Movie id:0062865\n"
     ]
    },
    {
     "name": "stderr",
     "output_type": "stream",
     "text": [
      "retrieving reviews: 100%|██████████| 38/38 [00:42<00:00,  1.11s/review]\n"
     ]
    },
    {
     "name": "stdout",
     "output_type": "stream",
     "text": [
      "Movie id:0064155\n"
     ]
    },
    {
     "name": "stderr",
     "output_type": "stream",
     "text": [
      "retrieving reviews: 100%|██████████| 55/55 [01:00<00:00,  1.11s/review]\n"
     ]
    },
    {
     "name": "stdout",
     "output_type": "stream",
     "text": [
      "Movie id:0064695\n"
     ]
    },
    {
     "name": "stderr",
     "output_type": "stream",
     "text": [
      "retrieving reviews: 100%|██████████| 39/39 [00:42<00:00,  1.10s/review]\n"
     ]
    },
    {
     "name": "stdout",
     "output_type": "stream",
     "text": [
      "Movie id:0065542\n"
     ]
    },
    {
     "name": "stderr",
     "output_type": "stream",
     "text": [
      "retrieving reviews: 100%|██████████| 36/36 [00:40<00:00,  1.12s/review]\n"
     ]
    },
    {
     "name": "stdout",
     "output_type": "stream",
     "text": [
      "Movie id:0066093\n"
     ]
    },
    {
     "name": "stderr",
     "output_type": "stream",
     "text": [
      "retrieving reviews: 100%|██████████| 52/52 [00:59<00:00,  1.14s/review]\n"
     ]
    },
    {
     "name": "stdout",
     "output_type": "stream",
     "text": [
      "Movie id:0066844\n"
     ]
    },
    {
     "name": "stderr",
     "output_type": "stream",
     "text": [
      "retrieving reviews: 100%|██████████| 32/32 [00:36<00:00,  1.13s/review]\n"
     ]
    },
    {
     "name": "stdout",
     "output_type": "stream",
     "text": [
      "Movie id:0074575\n"
     ]
    },
    {
     "name": "stderr",
     "output_type": "stream",
     "text": [
      "retrieving reviews: 100%|██████████| 61/61 [01:09<00:00,  1.14s/review]\n"
     ]
    },
    {
     "name": "stdout",
     "output_type": "stream",
     "text": [
      "Movie id:0082193\n"
     ]
    },
    {
     "name": "stderr",
     "output_type": "stream",
     "text": [
      "retrieving reviews: 100%|██████████| 28/28 [00:31<00:00,  1.12s/review]\n"
     ]
    },
    {
     "name": "stdout",
     "output_type": "stream",
     "text": [
      "Movie id:0091834\n"
     ]
    },
    {
     "name": "stderr",
     "output_type": "stream",
     "text": [
      "retrieving reviews: 100%|██████████| 26/26 [00:28<00:00,  1.10s/review]\n"
     ]
    },
    {
     "name": "stdout",
     "output_type": "stream",
     "text": [
      "Movie id:0107863\n"
     ]
    },
    {
     "name": "stderr",
     "output_type": "stream",
     "text": [
      "retrieving reviews: 100%|██████████| 40/40 [00:44<00:00,  1.10s/review]\n"
     ]
    },
    {
     "name": "stdout",
     "output_type": "stream",
     "text": [
      "Movie id:0849441\n"
     ]
    },
    {
     "name": "stderr",
     "output_type": "stream",
     "text": [
      "retrieving reviews: 100%|██████████| 40/40 [00:44<00:00,  1.11s/review]\n"
     ]
    },
    {
     "name": "stdout",
     "output_type": "stream",
     "text": [
      "Movie id:10303892\n"
     ]
    },
    {
     "name": "stderr",
     "output_type": "stream",
     "text": [
      "retrieving reviews: 100%|██████████| 46/46 [00:50<00:00,  1.09s/review]\n"
     ]
    },
    {
     "name": "stdout",
     "output_type": "stream",
     "text": [
      "Movie id:11833692\n"
     ]
    },
    {
     "name": "stderr",
     "output_type": "stream",
     "text": [
      "retrieving reviews: 100%|██████████| 26/26 [00:29<00:00,  1.12s/review]\n"
     ]
    },
    {
     "name": "stdout",
     "output_type": "stream",
     "text": [
      "Movie id:11833710\n"
     ]
    },
    {
     "name": "stderr",
     "output_type": "stream",
     "text": [
      "retrieving reviews: 100%|██████████| 58/58 [01:04<00:00,  1.11s/review]\n"
     ]
    },
    {
     "name": "stdout",
     "output_type": "stream",
     "text": [
      "Movie id:1843834\n"
     ]
    },
    {
     "name": "stderr",
     "output_type": "stream",
     "text": [
      "retrieving reviews: 100%|██████████| 30/30 [00:33<00:00,  1.13s/review]\n"
     ]
    },
    {
     "name": "stdout",
     "output_type": "stream",
     "text": [
      "Movie id:5379294\n"
     ]
    },
    {
     "name": "stderr",
     "output_type": "stream",
     "text": [
      "retrieving reviews: 100%|██████████| 33/33 [00:35<00:00,  1.08s/review]\n"
     ]
    },
    {
     "name": "stdout",
     "output_type": "stream",
     "text": [
      "Movie id:5960386\n"
     ]
    },
    {
     "name": "stderr",
     "output_type": "stream",
     "text": [
      "retrieving reviews: 100%|██████████| 44/44 [00:48<00:00,  1.11s/review]\n"
     ]
    },
    {
     "name": "stdout",
     "output_type": "stream",
     "text": [
      "Movie id:9021234\n"
     ]
    },
    {
     "name": "stderr",
     "output_type": "stream",
     "text": [
      "retrieving reviews: 100%|██████████| 42/42 [00:45<00:00,  1.09s/review]\n"
     ]
    },
    {
     "name": "stdout",
     "output_type": "stream",
     "text": [
      "Movie id:9302994\n"
     ]
    },
    {
     "name": "stderr",
     "output_type": "stream",
     "text": [
      "retrieving reviews: 100%|██████████| 49/49 [00:55<00:00,  1.12s/review]"
     ]
    },
    {
     "name": "stdout",
     "output_type": "stream",
     "text": [
      "   Review_ID   Movie_ID           Movie_Title  Rating      Review_Date  \\\n",
      "0    4795111  tt0019976  Gli eroi del deserto     8.0    21 April 2019   \n",
      "1    8336428  tt0019976  Gli eroi del deserto     8.0     15 July 2022   \n",
      "2    4393850  tt0019976  Gli eroi del deserto     8.0  13 October 2018   \n",
      "3    0005989  tt0019976  Gli eroi del deserto     NaN    25 April 2003   \n",
      "4    6869719  tt0019976  Gli eroi del deserto     8.0       1 May 2021   \n",
      "..       ...        ...                   ...     ...              ...   \n",
      "44   6002427  tt9302994       Soldier's Heart     NaN   17 August 2020   \n",
      "45   6326139  tt9302994       Soldier's Heart     3.0  1 December 2020   \n",
      "46   5924348  tt9302994       Soldier's Heart     1.0     22 July 2020   \n",
      "47   8441864  tt9302994       Soldier's Heart     8.0   13 August 2022   \n",
      "48   6436736  tt9302994       Soldier's Heart     1.0   2 January 2021   \n",
      "\n",
      "                     Review_Title  \\\n",
      "0                       A raw gem   \n",
      "1    William Wyler's First Talkie   \n",
      "2            Three Men and a Baby   \n",
      "3         Point made, fade out...   \n",
      "4    NOT JUST ANOTHER DEATH MARCH   \n",
      "..                            ...   \n",
      "44                  Total B movie   \n",
      "45                           Slow   \n",
      "46                     Time Saved   \n",
      "47  THE GOOD THE BAD AND THE UGLY   \n",
      "48              Really really bad   \n",
      "\n",
      "                                          Review_Text  Helpful_Votes  \\\n",
      "0   This film starts off in a way that had me thin...              8   \n",
      "1   The saying that it's nice to have friends (or ...              0   \n",
      "2   HELL'S HEROES (Universal, 1929), directed by W...              3   \n",
      "3   There is something captivating about this, the...             22   \n",
      "4   The inexpensive minimalism of the film forces ...              1   \n",
      "..                                                ...            ...   \n",
      "44  The hero wasn't Terrible he just had nothing t...              5   \n",
      "45  I like a good Western, this is a Western but i...              2   \n",
      "46  The first 5 minutes of the movie told me all I...             23   \n",
      "47  What can I say about this movie, first if it h...              2   \n",
      "48  For sure bots must have been used to create go...              5   \n",
      "\n",
      "    Total_Votes  \n",
      "0             9  \n",
      "1             0  \n",
      "2             3  \n",
      "3            22  \n",
      "4             1  \n",
      "..          ...  \n",
      "44            7  \n",
      "45            4  \n",
      "46           29  \n",
      "47            3  \n",
      "48            7  \n",
      "\n",
      "[5323 rows x 9 columns]\n"
     ]
    },
    {
     "name": "stderr",
     "output_type": "stream",
     "text": [
      "\n"
     ]
    }
   ],
   "source": [
    "import pandas as pd\n",
    "\n",
    "# Start with an empty DataFrame\n",
    "western_reviews_df = pd.DataFrame()\n",
    "\n",
    "\n",
    "# Iteratively add each smaller DataFrame\n",
    "for movieid, reviewids in valid_western_review_ids.items():\n",
    "    print('Movie id:' + movieid)\n",
    "    temp_df = retriever.get_reviews_dataframe_from_set_of_review_ids(reviewids)\n",
    "    western_reviews_df = pd.concat([western_reviews_df,temp_df], ignore_index=False)\n",
    "\n",
    "print(western_reviews_df)\n"
   ]
  },
  {
   "cell_type": "markdown",
   "metadata": {},
   "source": [
    "Save western reviews dataframe for later use"
   ]
  },
  {
   "cell_type": "code",
   "execution_count": 54,
   "metadata": {},
   "outputs": [
    {
     "name": "stdout",
     "output_type": "stream",
     "text": [
      "Data stored in: C:/Users/aless/Desktop/DNLP_Project/western_reviews_df.pkl\n"
     ]
    }
   ],
   "source": [
    "import pickle\n",
    "\n",
    "# File path\n",
    "file_path = \"C:/Users/aless/Desktop/DNLP_Project/western_reviews_df.pkl\"\n",
    "\n",
    "# Save data\n",
    "with open(file_path, \"wb\") as file:\n",
    "    pickle.dump((western_reviews_df), file)\n",
    "\n",
    "print(f\"Data stored in: {file_path}\")\n"
   ]
  },
  {
   "cell_type": "markdown",
   "metadata": {},
   "source": [
    "Retrieve western reviews dataset from a file"
   ]
  },
  {
   "cell_type": "code",
   "execution_count": 104,
   "metadata": {},
   "outputs": [
    {
     "name": "stdout",
     "output_type": "stream",
     "text": [
      "Loaded dataset:    Review_ID   Movie_ID           Movie_Title  Rating      Review_Date  \\\n",
      "0    4795111  tt0019976  Gli eroi del deserto     8.0    21 April 2019   \n",
      "1    8336428  tt0019976  Gli eroi del deserto     8.0     15 July 2022   \n",
      "2    4393850  tt0019976  Gli eroi del deserto     8.0  13 October 2018   \n",
      "3    0005989  tt0019976  Gli eroi del deserto     NaN    25 April 2003   \n",
      "4    6869719  tt0019976  Gli eroi del deserto     8.0       1 May 2021   \n",
      "..       ...        ...                   ...     ...              ...   \n",
      "44   6002427  tt9302994       Soldier's Heart     NaN   17 August 2020   \n",
      "45   6326139  tt9302994       Soldier's Heart     3.0  1 December 2020   \n",
      "46   5924348  tt9302994       Soldier's Heart     1.0     22 July 2020   \n",
      "47   8441864  tt9302994       Soldier's Heart     8.0   13 August 2022   \n",
      "48   6436736  tt9302994       Soldier's Heart     1.0   2 January 2021   \n",
      "\n",
      "                     Review_Title  \\\n",
      "0                       A raw gem   \n",
      "1    William Wyler's First Talkie   \n",
      "2            Three Men and a Baby   \n",
      "3         Point made, fade out...   \n",
      "4    NOT JUST ANOTHER DEATH MARCH   \n",
      "..                            ...   \n",
      "44                  Total B movie   \n",
      "45                           Slow   \n",
      "46                     Time Saved   \n",
      "47  THE GOOD THE BAD AND THE UGLY   \n",
      "48              Really really bad   \n",
      "\n",
      "                                          Review_Text  Helpful_Votes  \\\n",
      "0   This film starts off in a way that had me thin...              8   \n",
      "1   The saying that it's nice to have friends (or ...              0   \n",
      "2   HELL'S HEROES (Universal, 1929), directed by W...              3   \n",
      "3   There is something captivating about this, the...             22   \n",
      "4   The inexpensive minimalism of the film forces ...              1   \n",
      "..                                                ...            ...   \n",
      "44  The hero wasn't Terrible he just had nothing t...              5   \n",
      "45  I like a good Western, this is a Western but i...              2   \n",
      "46  The first 5 minutes of the movie told me all I...             23   \n",
      "47  What can I say about this movie, first if it h...              2   \n",
      "48  For sure bots must have been used to create go...              5   \n",
      "\n",
      "    Total_Votes  \n",
      "0             9  \n",
      "1             0  \n",
      "2             3  \n",
      "3            22  \n",
      "4             1  \n",
      "..          ...  \n",
      "44            7  \n",
      "45            4  \n",
      "46           29  \n",
      "47            3  \n",
      "48            7  \n",
      "\n",
      "[5323 rows x 9 columns]\n"
     ]
    }
   ],
   "source": [
    "import pickle\n",
    "\n",
    "# File path\n",
    "file_path = \"C:/Users/aless/Desktop/DNLP_Project/western_reviews_df.pkl\"\n",
    "\n",
    "with open(file_path, 'rb') as file:\n",
    "    western_reviews_df = pickle.load(file)\n",
    "\n",
    "print(\"Loaded dataset:\", western_reviews_df)"
   ]
  },
  {
   "cell_type": "markdown",
   "metadata": {},
   "source": [
    "Quick snippet to access a specific review from its ID "
   ]
  },
  {
   "cell_type": "code",
   "execution_count": 108,
   "metadata": {},
   "outputs": [
    {
     "name": "stdout",
     "output_type": "stream",
     "text": [
      "I like a good Western, this is a Western but it misses the good part. It is very slow and I hate computer generated fake gun fire but I know it's cheaper and safer but it looks so bad. As for the actors I did not care for the two children or their mother, everyone else is ok. Good to see Val Kilmer in the film, hard to believe he was Batman now he's an old grandpa. I think I understood the story line, as for watching it I'm not saying yes or no, I watched it once and that was enough.\n"
     ]
    }
   ],
   "source": [
    "# To access a specific review use the Review_ID in combination with the loc method\n",
    "\n",
    "specific_text = western_reviews_df.loc[western_reviews_df['Review_ID'] == '6326139', 'Review_Text'].values[0]\n",
    "print(specific_text)"
   ]
  }
 ],
 "metadata": {
  "kernelspec": {
   "display_name": "Python 3",
   "language": "python",
   "name": "python3"
  },
  "language_info": {
   "codemirror_mode": {
    "name": "ipython",
    "version": 3
   },
   "file_extension": ".py",
   "mimetype": "text/x-python",
   "name": "python",
   "nbconvert_exporter": "python",
   "pygments_lexer": "ipython3",
   "version": "3.12.8"
  }
 },
 "nbformat": 4,
 "nbformat_minor": 2
}
