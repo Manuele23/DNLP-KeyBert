{
  "cells": [
    {
      "cell_type": "markdown",
      "metadata": {},
      "source": [
        "# KeyBert Analysis"
      ]
    },
    {
      "cell_type": "markdown",
      "metadata": {
        "id": "3SxiHQo3igCk"
      },
      "source": [
        "## Setup: Installing and Importing Required Libraries"
      ]
    },
    {
      "cell_type": "code",
      "execution_count": 2,
      "metadata": {
        "colab": {
          "base_uri": "https://localhost:8080/"
        },
        "id": "GkAs5XxmigCm",
        "outputId": "fe3cbdd4-04bf-4934-b538-6e4c7b74b9a7"
      },
      "outputs": [
        {
          "name": "stdout",
          "output_type": "stream",
          "text": [
            "pickle is already installed.\n",
            "numpy is already installed.\n"
          ]
        },
        {
          "name": "stderr",
          "output_type": "stream",
          "text": [
            "C:\\Users\\aless\\AppData\\Local\\Packages\\PythonSoftwareFoundation.Python.3.12_qbz5n2kfra8p0\\LocalCache\\local-packages\\Python312\\site-packages\\tqdm\\auto.py:21: TqdmWarning: IProgress not found. Please update jupyter and ipywidgets. See https://ipywidgets.readthedocs.io/en/stable/user_install.html\n",
            "  from .autonotebook import tqdm as notebook_tqdm\n",
            "C:\\Users\\aless\\AppData\\Local\\Packages\\PythonSoftwareFoundation.Python.3.12_qbz5n2kfra8p0\\LocalCache\\local-packages\\Python312\\site-packages\\sklearn\\utils\\_param_validation.py:11: UserWarning: A NumPy version >=1.22.4 and <2.3.0 is required for this version of SciPy (detected version 2.3.1)\n",
            "  from scipy.sparse import csr_matrix, issparse\n"
          ]
        },
        {
          "name": "stdout",
          "output_type": "stream",
          "text": [
            "keybert is already installed.\n",
            "tqdm is already installed.\n",
            "pandas is already installed.\n",
            "torch is already installed.\n",
            "sentence_transformers is already installed.\n"
          ]
        }
      ],
      "source": [
        "import subprocess\n",
        "import sys\n",
        "\n",
        "# List of required packages\n",
        "required_packages = [\n",
        "    \"pickle\", \"numpy\", \"keybert\", \"tqdm\", \"pandas\", \"torch\", \"sentence_transformers\"\n",
        "]\n",
        "\n",
        "def install_package(package):\n",
        "    \"\"\"Installs a package using pip if it's not already installed.\"\"\"\n",
        "    try:\n",
        "        __import__(package)\n",
        "        print(f\"{package} is already installed.\")\n",
        "    except ImportError:\n",
        "        print(f\"Installing {package}...\")\n",
        "        subprocess.check_call([sys.executable, \"-m\", \"pip\", \"install\", package])\n",
        "\n",
        "# Check and install missing packages\n",
        "for package in required_packages:\n",
        "    install_package(package)"
      ]
    },
    {
      "cell_type": "code",
      "execution_count": 3,
      "metadata": {
        "id": "Il83XS1eigCm"
      },
      "outputs": [],
      "source": [
        "import pickle\n",
        "import numpy as np\n",
        "import pandas as pd\n",
        "import torch\n",
        "\n",
        "from sentence_transformers import SentenceTransformer\n",
        "from keybert import KeyBERT\n",
        "from tqdm import tqdm\n",
        "from KeyBertMetadata import KeyBERTMetadata\n",
        "from sklearn.feature_extraction.text import ENGLISH_STOP_WORDS"
      ]
    },
    {
      "cell_type": "code",
      "execution_count": 4,
      "metadata": {
        "id": "QGiMmXnkjwVs"
      },
      "outputs": [],
      "source": [
        "import warnings\n",
        "warnings.filterwarnings('ignore')"
      ]
    },
    {
      "cell_type": "markdown",
      "metadata": {},
      "source": [
        "## Loading of Preprocessed DataSets"
      ]
    },
    {
      "cell_type": "markdown",
      "metadata": {},
      "source": [
        "### Load Preprocessed Dataset\n",
        "Select a movie by editing the file path:\n",
        "### === Star Wars Episodes ===\n",
        "    Star Wars: Episode I - The Phantom Menace\": \"SW_Episode1.pkl\n",
        "    Star Wars: Episode II - Attack of the Clones\": \"SW_Episode2.pkl\n",
        "    Star Wars: Episode III - Revenge of the Sith\": \"SW_Episode3.pkl\n",
        "    Star Wars: Episode IV - A New Hope\": \"SW_Episode4.pkl\n",
        "    Star Wars: Episode V - The Empire Strikes Back\": \"SW_Episode5.pkl\n",
        "    Star Wars: Episode VI - Return of the Jedi\": \"SW_Episode6.pkl\n",
        "    Star Wars: Episode VII - The Force Awakens\": \"SW_Episode7.pkl\n",
        "    Star Wars: Episode VIII - The Last Jedi\": \"SW_Episode8.pkl\n",
        "    Star Wars: Episode IX - The Rise of Skywalker\": \"SW_Episode9.pkl\n",
        "    \n",
        "### === Other Movies ===\n",
        "    Harry Potter and the Sorcerer's Stone\": \"HarryPotter.pkl\n",
        "    Raiders of the Lost Ark\": \"IndianaJones.pkl\n",
        "    La La Land\": \"LaLaLand.pkl\n",
        "    Parasite\": \"Parasite.pkl\n",
        "    The Good, the Bad and the Ugly\": \"GoodBadUgly.pkl\n",
        "    Oppenheimer\": \"Oppenheimer.pkl"
      ]
    },
    {
      "cell_type": "code",
      "execution_count": 5,
      "metadata": {},
      "outputs": [
        {
          "name": "stdout",
          "output_type": "stream",
          "text": [
            "Loaded dataset:\n"
          ]
        },
        {
          "data": {
            "text/html": [
              "<div>\n",
              "<style scoped>\n",
              "    .dataframe tbody tr th:only-of-type {\n",
              "        vertical-align: middle;\n",
              "    }\n",
              "\n",
              "    .dataframe tbody tr th {\n",
              "        vertical-align: top;\n",
              "    }\n",
              "\n",
              "    .dataframe thead th {\n",
              "        text-align: right;\n",
              "    }\n",
              "</style>\n",
              "<table border=\"1\" class=\"dataframe\">\n",
              "  <thead>\n",
              "    <tr style=\"text-align: right;\">\n",
              "      <th></th>\n",
              "      <th>Review_ID</th>\n",
              "      <th>Movie_ID</th>\n",
              "      <th>Movie_Title</th>\n",
              "      <th>Rating</th>\n",
              "      <th>Review_Date</th>\n",
              "      <th>Review_Title</th>\n",
              "      <th>Review_Text</th>\n",
              "      <th>Helpful_Votes</th>\n",
              "      <th>Total_Votes</th>\n",
              "      <th>Preprocessed_Review</th>\n",
              "    </tr>\n",
              "  </thead>\n",
              "  <tbody>\n",
              "    <tr>\n",
              "      <th>36192</th>\n",
              "      <td>9637661</td>\n",
              "      <td>tt6751668</td>\n",
              "      <td>Parasite</td>\n",
              "      <td>5.0</td>\n",
              "      <td>23 February 2024</td>\n",
              "      <td>Solid Film Craftsmanship, Trash Story</td>\n",
              "      <td>I'm genuinely baffled this film won not only b...</td>\n",
              "      <td>3.0</td>\n",
              "      <td>8.0</td>\n",
              "      <td>I'm genuinely baffled this film won not only b...</td>\n",
              "    </tr>\n",
              "    <tr>\n",
              "      <th>36193</th>\n",
              "      <td>5510542</td>\n",
              "      <td>tt6751668</td>\n",
              "      <td>Parasite</td>\n",
              "      <td>10.0</td>\n",
              "      <td>26 February 2020</td>\n",
              "      <td>MASTERPIECE</td>\n",
              "      <td>Just watch it. It has everything; entertainmen...</td>\n",
              "      <td>3.0</td>\n",
              "      <td>5.0</td>\n",
              "      <td>Just watch it. It has everything; entertainmen...</td>\n",
              "    </tr>\n",
              "    <tr>\n",
              "      <th>36194</th>\n",
              "      <td>5182892</td>\n",
              "      <td>tt6751668</td>\n",
              "      <td>Parasite</td>\n",
              "      <td>10.0</td>\n",
              "      <td>12 October 2019</td>\n",
              "      <td>First Hit: I really enjoyed this story as it d...</td>\n",
              "      <td>First Hit: I really enjoyed this story as it d...</td>\n",
              "      <td>24.0</td>\n",
              "      <td>40.0</td>\n",
              "      <td>First Hit: I really enjoyed this story as it d...</td>\n",
              "    </tr>\n",
              "    <tr>\n",
              "      <th>36195</th>\n",
              "      <td>5499682</td>\n",
              "      <td>tt6751668</td>\n",
              "      <td>Parasite</td>\n",
              "      <td>9.0</td>\n",
              "      <td>21 February 2020</td>\n",
              "      <td>If you love cliché stories this movie is not f...</td>\n",
              "      <td>I was not expecting that much of this movie. N...</td>\n",
              "      <td>2.0</td>\n",
              "      <td>5.0</td>\n",
              "      <td>I was not expecting that much of this movie. N...</td>\n",
              "    </tr>\n",
              "    <tr>\n",
              "      <th>36196</th>\n",
              "      <td>6094155</td>\n",
              "      <td>tt6751668</td>\n",
              "      <td>Parasite</td>\n",
              "      <td>8.0</td>\n",
              "      <td>14 September 2020</td>\n",
              "      <td>Amazing.</td>\n",
              "      <td>Good acting, cinematography, twists and screen...</td>\n",
              "      <td>0.0</td>\n",
              "      <td>0.0</td>\n",
              "      <td>Good acting, cinematography, twists and screen...</td>\n",
              "    </tr>\n",
              "  </tbody>\n",
              "</table>\n",
              "</div>"
            ],
            "text/plain": [
              "      Review_ID   Movie_ID Movie_Title  Rating        Review_Date  \\\n",
              "36192   9637661  tt6751668    Parasite     5.0   23 February 2024   \n",
              "36193   5510542  tt6751668    Parasite    10.0   26 February 2020   \n",
              "36194   5182892  tt6751668    Parasite    10.0    12 October 2019   \n",
              "36195   5499682  tt6751668    Parasite     9.0   21 February 2020   \n",
              "36196   6094155  tt6751668    Parasite     8.0  14 September 2020   \n",
              "\n",
              "                                            Review_Title  \\\n",
              "36192              Solid Film Craftsmanship, Trash Story   \n",
              "36193                                        MASTERPIECE   \n",
              "36194  First Hit: I really enjoyed this story as it d...   \n",
              "36195  If you love cliché stories this movie is not f...   \n",
              "36196                                           Amazing.   \n",
              "\n",
              "                                             Review_Text  Helpful_Votes  \\\n",
              "36192  I'm genuinely baffled this film won not only b...            3.0   \n",
              "36193  Just watch it. It has everything; entertainmen...            3.0   \n",
              "36194  First Hit: I really enjoyed this story as it d...           24.0   \n",
              "36195  I was not expecting that much of this movie. N...            2.0   \n",
              "36196  Good acting, cinematography, twists and screen...            0.0   \n",
              "\n",
              "       Total_Votes                                Preprocessed_Review  \n",
              "36192          8.0  I'm genuinely baffled this film won not only b...  \n",
              "36193          5.0  Just watch it. It has everything; entertainmen...  \n",
              "36194         40.0  First Hit: I really enjoyed this story as it d...  \n",
              "36195          5.0  I was not expecting that much of this movie. N...  \n",
              "36196          0.0  Good acting, cinematography, twists and screen...  "
            ]
          },
          "metadata": {},
          "output_type": "display_data"
        }
      ],
      "source": [
        "movie_name = 'Parasite.pkl'\n",
        "# File path\n",
        "file_path = \"../Dataset/Reviews_By_Movie/\" + movie_name\n",
        "\n",
        "with open(file_path, 'rb') as file:\n",
        "  # sw_reviews_df = pickle.load(file)\n",
        "  movie_reviews_df = pickle.load(file) \n",
        "\n",
        "print(\"Loaded dataset:\")\n",
        "display(movie_reviews_df.head(5))\n"
      ]
    },
    {
      "cell_type": "markdown",
      "metadata": {
        "id": "k_yFLxJTigCn"
      },
      "source": [
        "## KeyBert Topics Extraction"
      ]
    },
    {
      "cell_type": "markdown",
      "metadata": {},
      "source": [
        "### Load KeyBert Model"
      ]
    },
    {
      "cell_type": "code",
      "execution_count": 6,
      "metadata": {},
      "outputs": [],
      "source": [
        "# Load model and possibly move to GPU\n",
        "device = \"cuda\" if torch.cuda.is_available() else \"cpu\"\n",
        "embedding_model = SentenceTransformer(\"all-MiniLM-L6-v2\", device=device)\n",
        "model_base = KeyBERT(model=embedding_model)\n",
        "model_meta = KeyBERTMetadata(model=embedding_model)"
      ]
    },
    {
      "cell_type": "markdown",
      "metadata": {},
      "source": [
        "### Extraction"
      ]
    },
    {
      "cell_type": "markdown",
      "metadata": {},
      "source": [
        "example of workflow usage"
      ]
    },
    {
      "cell_type": "code",
      "execution_count": 7,
      "metadata": {},
      "outputs": [],
      "source": [
        "# df of a certain movie\n",
        "# for mere testing purposes just a few reviews can be processed by editing the [:] part \n",
        "# otherwise all reviews are processed\n",
        "df = movie_reviews_df[:10]\n",
        "\n",
        "# extraction of metadata from the reviews\n",
        "metadata = model_meta.extract_metadata(df, alpha=0.3)\n",
        "\n",
        "# cutting the df to keep only the column with the text of the reviews\n",
        "docs = df['Preprocessed_Review'].tolist()\n",
        "\n",
        "# define ngram range and stopwords language to ensure coherence between methods parameters \n",
        "keyphrase_ngram_range=(1, 2) \n",
        "\n",
        "stop_words_eng = list(ENGLISH_STOP_WORDS)\n",
        "\n",
        "# List of cinema-related words to remove\n",
        "words_to_remove = [\n",
        "    \"actor\", \"actress\", \"artist\", \"author\", \"cast\", \"character\", \"cinema\", \"cinematography\", \n",
        "    \"director\", \"editing\", \"episode\", \"film\", \"filmmaker\", \"genre\", \"maker\", \"movie\", \n",
        "    \"opera\", \"producer\", \"production\", \"review\", \"reviewer\", \"saga\", \"scene\", \n",
        "    \"screen\", \"trilogy\", \"video\", \"visual\", \"voice\", \"writer\"\n",
        "]\n",
        "\n",
        "stop_words = stop_words_eng + words_to_remove\n",
        "\n",
        "# extraction of the embedding with the custom dedicated method\n",
        "doc_embeddings0, word_embeddings0 = model_meta.extract_embeddings_mean(docs, metadata=metadata, keyphrase_ngram_range=keyphrase_ngram_range, stop_words=stop_words)\n",
        "\n",
        "# extraction of the keywords with original the keybert method\n",
        "# using the METADATA CUSTOM EMBEDDINGS\n",
        "topics = model_meta.extract_keywords(docs, doc_embeddings=doc_embeddings0, word_embeddings=word_embeddings0, keyphrase_ngram_range=keyphrase_ngram_range, stop_words=stop_words, top_n=5, use_maxsum=True)\n",
        "\n",
        "# extraction of the keywords with original the keybert method\n",
        "# using the ORIGINAL KEYBERT EMBEDDINGS\n",
        "topics1 = model_base.extract_keywords(docs, keyphrase_ngram_range=keyphrase_ngram_range, stop_words=stop_words, top_n=5, use_maxsum=True)"
      ]
    },
    {
      "cell_type": "code",
      "execution_count": 12,
      "metadata": {},
      "outputs": [
        {
          "data": {
            "text/plain": [
              "[[('story goalless', 0.2771),\n",
              "  ('melodrama soft', 0.2829),\n",
              "  ('self end', 0.3023),\n",
              "  ('does films', 0.3744),\n",
              "  ('korean', 0.4242)],\n",
              " [('messages anecdotes', 0.4127),\n",
              "  ('drama', 0.415),\n",
              "  ('metaphorical', 0.4241),\n",
              "  ('just watch', 0.4611),\n",
              "  ('thrill horror', 0.4726)],\n",
              " [('son ki', 0.5423),\n",
              "  ('woo choi', 0.5455),\n",
              "  ('hye jung', 0.5527),\n",
              "  ('kim family', 0.5604),\n",
              "  ('family lee', 0.5653)],\n",
              " [('black comedy', 0.3909),\n",
              "  ('don expect', 0.3928),\n",
              "  ('surprised script', 0.4076),\n",
              "  ('quality movies', 0.4573),\n",
              "  ('oscar deserved', 0.5443)],\n",
              " [('twists', 0.3414),\n",
              "  ('chose like', 0.3446),\n",
              "  ('location perfect', 0.3987),\n",
              "  ('screenplay', 0.4287),\n",
              "  ('revolutionary really', 0.4672)],\n",
              " [('like', 0.1231),\n",
              "  ('just', 0.1415),\n",
              "  ('100', 0.2644),\n",
              "  ('recommended', 0.3753),\n",
              "  ('ending mix', 0.6537)],\n",
              " [('parasites needs', 0.4208),\n",
              "  ('drama suspense', 0.4354),\n",
              "  ('plot comedy', 0.4373),\n",
              "  ('parasitic insect', 0.4546),\n",
              "  ('intriguing motifs', 0.4657)],\n",
              " [('people voted', 0.3653),\n",
              "  ('10', 0.3658),\n",
              "  ('worst far', 0.3904),\n",
              "  ('watched plot', 0.4141),\n",
              "  ('oscar blindly', 0.5383)],\n",
              " [('meticulously spoilers', 0.4558),\n",
              "  ('delicious absurdity', 0.4751),\n",
              "  ('rooting impoverished', 0.4915),\n",
              "  ('insects boundaries', 0.5165),\n",
              "  ('parasite', 0.6211)],\n",
              " [('deep metaphorical', 0.3298),\n",
              "  ('movies country', 0.3439),\n",
              "  ('worse news', 0.3519),\n",
              "  ('families survive', 0.3545),\n",
              "  ('average failed', 0.5311)]]"
            ]
          },
          "execution_count": 12,
          "metadata": {},
          "output_type": "execute_result"
        }
      ],
      "source": [
        "topics"
      ]
    },
    {
      "cell_type": "code",
      "execution_count": 13,
      "metadata": {},
      "outputs": [
        {
          "data": {
            "text/plain": [
              "[[('melodrama soft', 0.2067),\n",
              "  ('best foreign', 0.2208),\n",
              "  ('self end', 0.2283),\n",
              "  ('does films', 0.3079),\n",
              "  ('korean culture', 0.5476)],\n",
              " [('messages anecdotes', 0.2636),\n",
              "  ('just watch', 0.3243),\n",
              "  ('thrill horror', 0.3388),\n",
              "  ('metaphorical', 0.3442),\n",
              "  ('entertainment comedy', 0.3462)],\n",
              " [('son ki', 0.4127),\n",
              "  ('woo choi', 0.4168),\n",
              "  ('hye jung', 0.426),\n",
              "  ('family lee', 0.4422),\n",
              "  ('kim children', 0.4453)],\n",
              " [('black comedy', 0.308),\n",
              "  ('don expect', 0.3101),\n",
              "  ('surprised script', 0.3269),\n",
              "  ('quality movies', 0.3834),\n",
              "  ('oscar deserved', 0.4823)],\n",
              " [('location chose', 0.2421),\n",
              "  ('liked', 0.2878),\n",
              "  ('revolutionary really', 0.3292),\n",
              "  ('acting twists', 0.3545),\n",
              "  ('screenplay vice', 0.3677)],\n",
              " [('like', 0.0017),\n",
              "  ('100', 0.0051),\n",
              "  ('just doesn', 0.0994),\n",
              "  ('recommended', 0.1551),\n",
              "  ('ending mix', 0.5317)],\n",
              " [('parasites needs', 0.364),\n",
              "  ('drama suspense', 0.38),\n",
              "  ('plot comedy', 0.3821),\n",
              "  ('parasitic insect', 0.4012),\n",
              "  ('intriguing motifs', 0.4133)],\n",
              " [('people voted', 0.2478),\n",
              "  ('10', 0.2484),\n",
              "  ('worst far', 0.2775),\n",
              "  ('watched plot', 0.3057),\n",
              "  ('oscar blindly', 0.4528)],\n",
              " [('meticulously spoilers', 0.3131),\n",
              "  ('species filmed', 0.3279),\n",
              "  ('delicious absurdity', 0.3375),\n",
              "  ('rooting impoverished', 0.3581),\n",
              "  ('insects boundaries', 0.3897)],\n",
              " [('deep metaphorical', 0.1907),\n",
              "  ('movies country', 0.2077),\n",
              "  ('worse news', 0.2173),\n",
              "  ('families survive', 0.2204),\n",
              "  ('average failed', 0.4337)]]"
            ]
          },
          "execution_count": 13,
          "metadata": {},
          "output_type": "execute_result"
        }
      ],
      "source": [
        "topics1"
      ]
    },
    {
      "cell_type": "code",
      "execution_count": 14,
      "metadata": {},
      "outputs": [
        {
          "data": {
            "text/plain": [
              "[[0.0375, -0.0758876629889669, -0.09487179487179487, -0.3],\n",
              " [0.24, -0.29446339017051154, 0.1923076923076923, -0.26920912602081704],\n",
              " [0.24, 0.3, 0.21332082551594742, 0.3],\n",
              " [0.06000000000000005,\n",
              "  -0.24006018054162484,\n",
              "  -0.05384615384615382,\n",
              "  -0.2685133380317503],\n",
              " [-0.3, -0.28964894684052156, 0.06923076923076925, -0.28348399652323175],\n",
              " [-0.3, -0.3, -0.3, -0.28706976613937096],\n",
              " [0.06000000000000005,\n",
              "  -0.06012036108324974,\n",
              "  -0.05384615384615382,\n",
              "  -0.29655817507606436],\n",
              " [0.16753246753246748,\n",
              "  -0.27592778335005014,\n",
              "  0.09781637717121584,\n",
              "  -0.2671638034433862],\n",
              " [0.3, -0.10838515546639921, 0.3, -0.26549316978505605],\n",
              " [-0.075, -0.25089267803410226, -0.25897435897435894, -0.2683697848685455]]"
            ]
          },
          "execution_count": 14,
          "metadata": {},
          "output_type": "execute_result"
        }
      ],
      "source": [
        "metadata"
      ]
    },
    {
      "cell_type": "code",
      "execution_count": 15,
      "metadata": {},
      "outputs": [
        {
          "name": "stdout",
          "output_type": "stream",
          "text": [
            "korean culture: 0.5476\n",
            "ending mix: 0.5317\n",
            "oscar deserved: 0.4823\n",
            "oscar blindly: 0.4528\n",
            "kim children: 0.4453\n",
            "family lee: 0.4422\n",
            "average failed: 0.4337\n",
            "hye jung: 0.4260\n",
            "woo choi: 0.4168\n",
            "intriguing motifs: 0.4133\n",
            "son ki: 0.4127\n",
            "parasitic insect: 0.4012\n",
            "insects boundaries: 0.3897\n",
            "quality movies: 0.3834\n",
            "plot comedy: 0.3821\n",
            "drama suspense: 0.3800\n",
            "screenplay vice: 0.3677\n",
            "parasites needs: 0.3640\n",
            "rooting impoverished: 0.3581\n",
            "acting twists: 0.3545\n",
            "entertainment comedy: 0.3462\n",
            "metaphorical: 0.3442\n",
            "thrill horror: 0.3388\n",
            "delicious absurdity: 0.3375\n",
            "revolutionary really: 0.3292\n",
            "species filmed: 0.3279\n",
            "surprised script: 0.3269\n",
            "just watch: 0.3243\n",
            "meticulously spoilers: 0.3131\n",
            "don expect: 0.3101\n",
            "black comedy: 0.3080\n",
            "does films: 0.3079\n",
            "watched plot: 0.3057\n",
            "liked: 0.2878\n",
            "worst far: 0.2775\n",
            "messages anecdotes: 0.2636\n",
            "10: 0.2484\n",
            "people voted: 0.2478\n",
            "location chose: 0.2421\n",
            "self end: 0.2283\n",
            "best foreign: 0.2208\n",
            "families survive: 0.2204\n",
            "worse news: 0.2173\n",
            "movies country: 0.2077\n",
            "melodrama soft: 0.2067\n",
            "deep metaphorical: 0.1907\n",
            "recommended: 0.1551\n",
            "just doesn: 0.0994\n",
            "100: 0.0051\n",
            "like: 0.0017\n"
          ]
        }
      ],
      "source": [
        "# qui ho calcolato le prime n (50) parole col valore più alto per poterle visualizzare\n",
        "\n",
        "# 1. Appiattire la lista\n",
        "flattened = [item for sublist in topics1 for item in sublist]\n",
        "\n",
        "# 2. Ordinare per valore decrescente\n",
        "sorted_items = sorted(flattened, key=lambda x: x[1], reverse=True)\n",
        "\n",
        "# 3. Prendere i primi 50\n",
        "top_50 = sorted_items[:50]\n",
        "\n",
        "# 4. Stampare\n",
        "for phrase, score in top_50:\n",
        "    print(f\"{phrase}: {score:.4f}\")\n"
      ]
    },
    {
      "cell_type": "code",
      "execution_count": 16,
      "metadata": {},
      "outputs": [
        {
          "name": "stdout",
          "output_type": "stream",
          "text": [
            "ending mix: 0.6537\n",
            "parasite: 0.6211\n",
            "family lee: 0.5653\n",
            "kim family: 0.5604\n",
            "hye jung: 0.5527\n",
            "woo choi: 0.5455\n",
            "oscar deserved: 0.5443\n",
            "son ki: 0.5423\n",
            "oscar blindly: 0.5383\n",
            "average failed: 0.5311\n",
            "insects boundaries: 0.5165\n",
            "rooting impoverished: 0.4915\n",
            "delicious absurdity: 0.4751\n",
            "thrill horror: 0.4726\n",
            "revolutionary really: 0.4672\n",
            "intriguing motifs: 0.4657\n",
            "just watch: 0.4611\n",
            "quality movies: 0.4573\n",
            "meticulously spoilers: 0.4558\n",
            "parasitic insect: 0.4546\n",
            "plot comedy: 0.4373\n",
            "drama suspense: 0.4354\n",
            "screenplay: 0.4287\n",
            "korean: 0.4242\n",
            "metaphorical: 0.4241\n",
            "parasites needs: 0.4208\n",
            "drama: 0.4150\n",
            "watched plot: 0.4141\n",
            "messages anecdotes: 0.4127\n",
            "surprised script: 0.4076\n",
            "location perfect: 0.3987\n",
            "don expect: 0.3928\n",
            "black comedy: 0.3909\n",
            "worst far: 0.3904\n",
            "recommended: 0.3753\n",
            "does films: 0.3744\n",
            "10: 0.3658\n",
            "people voted: 0.3653\n",
            "families survive: 0.3545\n",
            "worse news: 0.3519\n",
            "chose like: 0.3446\n",
            "movies country: 0.3439\n",
            "twists: 0.3414\n",
            "deep metaphorical: 0.3298\n",
            "self end: 0.3023\n",
            "melodrama soft: 0.2829\n",
            "story goalless: 0.2771\n",
            "100: 0.2644\n",
            "just: 0.1415\n",
            "like: 0.1231\n"
          ]
        }
      ],
      "source": [
        "# qui ho calcolato le prime n (50) parole col valore più alto per poterle visualizzare\n",
        "\n",
        "# 1. Appiattire la lista\n",
        "flattened = [item for sublist in topics for item in sublist]\n",
        "\n",
        "# 2. Ordinare per valore decrescente\n",
        "sorted_items = sorted(flattened, key=lambda x: x[1], reverse=True)\n",
        "\n",
        "# 3. Prendere i primi 50\n",
        "top_50 = sorted_items[:50]\n",
        "\n",
        "# 4. Stampare\n",
        "for phrase, score in top_50:\n",
        "    print(f\"{phrase}: {score:.4f}\")\n"
      ]
    },
    {
      "cell_type": "code",
      "execution_count": 17,
      "metadata": {
        "colab": {
          "base_uri": "https://localhost:8080/"
        },
        "id": "XBvFVkBQGFow",
        "outputId": "1a610e69-b7c0-456e-d858-a1633a077ce4"
      },
      "outputs": [],
      "source": [
        "# Save the topics dictionary to a .pkl file\n",
        "\n",
        "#with open(\"topics.pkl\", \"wb\") as f:\n",
        "#    pickle.dump(topics, f)\n",
        "#\n",
        "#print(\"Topics dictionary saved as 'topics.pkl'\")"
      ]
    }
  ],
  "metadata": {
    "accelerator": "GPU",
    "colab": {
      "gpuType": "T4",
      "provenance": []
    },
    "kernelspec": {
      "display_name": "Python 3",
      "name": "python3"
    },
    "language_info": {
      "codemirror_mode": {
        "name": "ipython",
        "version": 3
      },
      "file_extension": ".py",
      "mimetype": "text/x-python",
      "name": "python",
      "nbconvert_exporter": "python",
      "pygments_lexer": "ipython3",
      "version": "3.12.10"
    }
  },
  "nbformat": 4,
  "nbformat_minor": 0
}
